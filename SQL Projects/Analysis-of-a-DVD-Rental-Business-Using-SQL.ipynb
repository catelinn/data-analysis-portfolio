{
 "cells": [
  {
   "cell_type": "markdown",
   "metadata": {
    "toc": true
   },
   "source": [
    "<h1>Table of Contents<span class=\"tocSkip\"></span></h1>\n",
    "<div class=\"toc\"><ul class=\"toc-item\"><li><span><a href=\"#Introduction\" data-toc-modified-id=\"Introduction-1\"><span class=\"toc-item-num\">1&nbsp;&nbsp;</span>Introduction</a></span></li><li><span><a href=\"#Connect-to-Database\" data-toc-modified-id=\"Connect-to-Database-2\"><span class=\"toc-item-num\">2&nbsp;&nbsp;</span>Connect to Database</a></span></li><li><span><a href=\"#Exploratory-Data-Analysis-for-Marketing\" data-toc-modified-id=\"Exploratory-Data-Analysis-for-Marketing-3\"><span class=\"toc-item-num\">3&nbsp;&nbsp;</span>Exploratory Data Analysis for Marketing</a></span><ul class=\"toc-item\"><li><span><a href=\"#Question:-Which-countries-have-the-most-paying-customers?\" data-toc-modified-id=\"Question:-Which-countries-have-the-most-paying-customers?-3.1\"><span class=\"toc-item-num\">3.1&nbsp;&nbsp;</span>Question: Which countries have the most paying customers?</a></span></li><li><span><a href=\"#Question:-Which-film-catgories-are-popular-among-the-Top-3-countries?\" data-toc-modified-id=\"Question:-Which-film-catgories-are-popular-among-the-Top-3-countries?-3.2\"><span class=\"toc-item-num\">3.2&nbsp;&nbsp;</span>Question: Which film catgories are popular among the Top 3 countries?</a></span></li><li><span><a href=\"#Question:-Who-are-the-popular-movie-stars-in-Top-3-countries?\" data-toc-modified-id=\"Question:-Who-are-the-popular-movie-stars-in-Top-3-countries?-3.3\"><span class=\"toc-item-num\">3.3&nbsp;&nbsp;</span>Question: Who are the popular movie stars in Top 3 countries?</a></span></li><li><span><a href=\"#Question-4:-Is-business-growing-in-the-Top-3-countries?\" data-toc-modified-id=\"Question-4:-Is-business-growing-in-the-Top-3-countries?-3.4\"><span class=\"toc-item-num\">3.4&nbsp;&nbsp;</span>Question 4: Is business growing in the Top 3 countries?</a></span></li></ul></li><li><span><a href=\"#Exploratory-Data-Analysis-for-Financial-Performance\" data-toc-modified-id=\"Exploratory-Data-Analysis-for-Financial-Performance-4\"><span class=\"toc-item-num\">4&nbsp;&nbsp;</span>Exploratory Data Analysis for Financial Performance</a></span><ul class=\"toc-item\"><li><span><a href=\"#Uncovering-Outstanding-Balances\" data-toc-modified-id=\"Uncovering-Outstanding-Balances-4.1\"><span class=\"toc-item-num\">4.1&nbsp;&nbsp;</span>Uncovering Outstanding Balances</a></span></li><li><span><a href=\"#Estimating-Outstanding-Balances-using-Linear-Regression\" data-toc-modified-id=\"Estimating-Outstanding-Balances-using-Linear-Regression-4.2\"><span class=\"toc-item-num\">4.2&nbsp;&nbsp;</span>Estimating Outstanding Balances using Linear Regression</a></span><ul class=\"toc-item\"><li><span><a href=\"#Extract-the-unpaid-rental-data\" data-toc-modified-id=\"Extract-the-unpaid-rental-data-4.2.1\"><span class=\"toc-item-num\">4.2.1&nbsp;&nbsp;</span>Extract the unpaid rental data</a></span></li><li><span><a href=\"#Determing-variables-for-analysis\" data-toc-modified-id=\"Determing-variables-for-analysis-4.2.2\"><span class=\"toc-item-num\">4.2.2&nbsp;&nbsp;</span>Determing variables for analysis</a></span></li><li><span><a href=\"#Exploring-relationships-between-variables\" data-toc-modified-id=\"Exploring-relationships-between-variables-4.2.3\"><span class=\"toc-item-num\">4.2.3&nbsp;&nbsp;</span>Exploring relationships between variables</a></span></li><li><span><a href=\"#Preparing-variables-to-fit-the-Model\" data-toc-modified-id=\"Preparing-variables-to-fit-the-Model-4.2.4\"><span class=\"toc-item-num\">4.2.4&nbsp;&nbsp;</span>Preparing variables to fit the Model</a></span></li><li><span><a href=\"#Splitting-data\" data-toc-modified-id=\"Splitting-data-4.2.5\"><span class=\"toc-item-num\">4.2.5&nbsp;&nbsp;</span>Splitting data</a></span></li><li><span><a href=\"#Fitting-the-model\" data-toc-modified-id=\"Fitting-the-model-4.2.6\"><span class=\"toc-item-num\">4.2.6&nbsp;&nbsp;</span>Fitting the model</a></span></li></ul></li><li><span><a href=\"#Calculating-the-Outstanding-Balances-using-SQL\" data-toc-modified-id=\"Calculating-the-Outstanding-Balances-using-SQL-4.3\"><span class=\"toc-item-num\">4.3&nbsp;&nbsp;</span>Calculating the Outstanding Balances using SQL</a></span></li></ul></li><li><span><a href=\"#Analyzing-the-Outstanding-Balance\" data-toc-modified-id=\"Analyzing-the-Outstanding-Balance-5\"><span class=\"toc-item-num\">5&nbsp;&nbsp;</span>Analyzing the Outstanding Balance</a></span><ul class=\"toc-item\"><li><span><a href=\"#The-overview\" data-toc-modified-id=\"The-overview-5.1\"><span class=\"toc-item-num\">5.1&nbsp;&nbsp;</span>The overview</a></span></li><li><span><a href=\"#Which-store-has-more-challenges-in-collecting-payment\" data-toc-modified-id=\"Which-store-has-more-challenges-in-collecting-payment-5.2\"><span class=\"toc-item-num\">5.2&nbsp;&nbsp;</span>Which store has more challenges in collecting payment</a></span></li><li><span><a href=\"#Where-are-the-customers-that-owe-us-most-money\" data-toc-modified-id=\"Where-are-the-customers-that-owe-us-most-money-5.3\"><span class=\"toc-item-num\">5.3&nbsp;&nbsp;</span>Where are the customers that owe us most money</a></span></li></ul></li></ul></div>"
   ]
  },
  {
   "cell_type": "markdown",
   "metadata": {},
   "source": [
    "# Introduction\n",
    "\n",
    "In this notebook, I'll connect to a [PostgreSQL sample database](https://www.postgresqltutorial.com/postgresql-getting-started/postgresql-sample-database/) stored locally on my computer to extract useful data for exploratary data analysis. \n",
    "\n",
    "The dataset is synthesized to represent the business process of a DVD rental company, which comprises tables as follows:\n",
    "\n",
    "<img src='https://www.postgresqltutorial.com/wp-content/uploads/2018/03/dvd-rental-sample-database-diagram.png' width=500>"
   ]
  },
  {
   "cell_type": "markdown",
   "metadata": {},
   "source": [
    "# Connect to Database"
   ]
  },
  {
   "cell_type": "code",
   "execution_count": 1,
   "metadata": {},
   "outputs": [],
   "source": [
    "import numpy as np\n",
    "import pandas as pd\n",
    "import matplotlib.pyplot as plt\n",
    "import seaborn as sns\n",
    "sns.set()"
   ]
  },
  {
   "cell_type": "code",
   "execution_count": 2,
   "metadata": {},
   "outputs": [],
   "source": [
    "#Initialize engine for db connection\n",
    "from sqlalchemy import create_engine\n",
    "engine = create_engine('postgresql://localhost/dvdrental') # create connetion string for %sql magic to use"
   ]
  },
  {
   "cell_type": "code",
   "execution_count": 3,
   "metadata": {
    "scrolled": true
   },
   "outputs": [
    {
     "name": "stdout",
     "output_type": "stream",
     "text": [
      " * postgresql://localhost/dvdrental\n",
      "5 rows affected.\n"
     ]
    },
    {
     "data": {
      "text/html": [
       "<table>\n",
       "    <tr>\n",
       "        <th>table_catalog</th>\n",
       "        <th>table_schema</th>\n",
       "        <th>table_name</th>\n",
       "        <th>table_type</th>\n",
       "        <th>self_referencing_column_name</th>\n",
       "        <th>reference_generation</th>\n",
       "        <th>user_defined_type_catalog</th>\n",
       "        <th>user_defined_type_schema</th>\n",
       "        <th>user_defined_type_name</th>\n",
       "        <th>is_insertable_into</th>\n",
       "        <th>is_typed</th>\n",
       "        <th>commit_action</th>\n",
       "    </tr>\n",
       "    <tr>\n",
       "        <td>dvdrental</td>\n",
       "        <td>public</td>\n",
       "        <td>actor</td>\n",
       "        <td>BASE TABLE</td>\n",
       "        <td>None</td>\n",
       "        <td>None</td>\n",
       "        <td>None</td>\n",
       "        <td>None</td>\n",
       "        <td>None</td>\n",
       "        <td>YES</td>\n",
       "        <td>NO</td>\n",
       "        <td>None</td>\n",
       "    </tr>\n",
       "    <tr>\n",
       "        <td>dvdrental</td>\n",
       "        <td>public</td>\n",
       "        <td>store</td>\n",
       "        <td>BASE TABLE</td>\n",
       "        <td>None</td>\n",
       "        <td>None</td>\n",
       "        <td>None</td>\n",
       "        <td>None</td>\n",
       "        <td>None</td>\n",
       "        <td>YES</td>\n",
       "        <td>NO</td>\n",
       "        <td>None</td>\n",
       "    </tr>\n",
       "    <tr>\n",
       "        <td>dvdrental</td>\n",
       "        <td>public</td>\n",
       "        <td>address</td>\n",
       "        <td>BASE TABLE</td>\n",
       "        <td>None</td>\n",
       "        <td>None</td>\n",
       "        <td>None</td>\n",
       "        <td>None</td>\n",
       "        <td>None</td>\n",
       "        <td>YES</td>\n",
       "        <td>NO</td>\n",
       "        <td>None</td>\n",
       "    </tr>\n",
       "    <tr>\n",
       "        <td>dvdrental</td>\n",
       "        <td>public</td>\n",
       "        <td>category</td>\n",
       "        <td>BASE TABLE</td>\n",
       "        <td>None</td>\n",
       "        <td>None</td>\n",
       "        <td>None</td>\n",
       "        <td>None</td>\n",
       "        <td>None</td>\n",
       "        <td>YES</td>\n",
       "        <td>NO</td>\n",
       "        <td>None</td>\n",
       "    </tr>\n",
       "    <tr>\n",
       "        <td>dvdrental</td>\n",
       "        <td>public</td>\n",
       "        <td>city</td>\n",
       "        <td>BASE TABLE</td>\n",
       "        <td>None</td>\n",
       "        <td>None</td>\n",
       "        <td>None</td>\n",
       "        <td>None</td>\n",
       "        <td>None</td>\n",
       "        <td>YES</td>\n",
       "        <td>NO</td>\n",
       "        <td>None</td>\n",
       "    </tr>\n",
       "</table>"
      ],
      "text/plain": [
       "[('dvdrental', 'public', 'actor', 'BASE TABLE', None, None, None, None, None, 'YES', 'NO', None),\n",
       " ('dvdrental', 'public', 'store', 'BASE TABLE', None, None, None, None, None, 'YES', 'NO', None),\n",
       " ('dvdrental', 'public', 'address', 'BASE TABLE', None, None, None, None, None, 'YES', 'NO', None),\n",
       " ('dvdrental', 'public', 'category', 'BASE TABLE', None, None, None, None, None, 'YES', 'NO', None),\n",
       " ('dvdrental', 'public', 'city', 'BASE TABLE', None, None, None, None, None, 'YES', 'NO', None)]"
      ]
     },
     "execution_count": 3,
     "metadata": {},
     "output_type": "execute_result"
    }
   ],
   "source": [
    "%load_ext sql\n",
    "%sql postgresql://localhost/dvdrental\n",
    "%sql SELECT * FROM information_schema.tables WHERE table_type='BASE TABLE' and table_schema='public' LIMIT 5"
   ]
  },
  {
   "cell_type": "markdown",
   "metadata": {},
   "source": [
    "# Exploratory Data Analysis for Marketing\n",
    "\n",
    "\n",
    "Since this is a business with customers all over the world, it makes sense that the management wants to know which countries shall be the main markets to develop marketing strategies and budgets. Also the purchasing department can use the findings to optimize their purchasing mix to acquire the best content that reach most customers in these markets.\n",
    "\n",
    "Therefore, in this part of the study, I'll try to find out:\n",
    "\n",
    "- Which countries shall be the main markets? I'll start by finding those with the most paying customers.\n",
    "- Which film categories are most popular in these markets?\n",
    "- Which movie stars are the most popular in these markets?\n",
    "- Is the business growing healthily in these markets?"
   ]
  },
  {
   "cell_type": "markdown",
   "metadata": {},
   "source": [
    "## Question: Which countries have the most paying customers? \n",
    "\n",
    "I'll filter the top 5% countries with more paying customers than the rest of the countries. "
   ]
  },
  {
   "cell_type": "code",
   "execution_count": 4,
   "metadata": {},
   "outputs": [
    {
     "name": "stdout",
     "output_type": "stream",
     "text": [
      " * postgresql://localhost/dvdrental\n",
      "6 rows affected.\n",
      "Returning data to local variable r\n"
     ]
    }
   ],
   "source": [
    "%%sql r <<\n",
    "---Create t1 that selects country name, number of customer by country and its percentile---\n",
    "WITH t1 AS(\n",
    "SELECT con.country_id,\n",
    "       con.country,\n",
    "       COUNT(DISTINCT p.customer_id) total_paying_customer,\n",
    "       PERCENT_RANK() OVER(ORDER BY COUNT(cus.customer_id)) as percent_rank \n",
    "FROM payment p\n",
    "JOIN customer cus ON p.customer_id = cus.customer_id\n",
    "JOIN address a ON cus.address_id = a.address_id\n",
    "JOIN city c ON c.city_id = a.city_id\n",
    "JOIN country con ON con.country_id = c.country_id\n",
    "GROUP BY 1,2)\n",
    "\n",
    "---2. Filter t1 result to show only the Top 5% countries with most customers---\n",
    "SELECT t1.country, \n",
    "       total_paying_customer \n",
    "FROM t1\n",
    "WHERE percent_rank >= 0.95\n",
    "ORDER BY 2 DESC;"
   ]
  },
  {
   "cell_type": "code",
   "execution_count": 5,
   "metadata": {},
   "outputs": [
    {
     "data": {
      "text/html": [
       "<div>\n",
       "<style scoped>\n",
       "    .dataframe tbody tr th:only-of-type {\n",
       "        vertical-align: middle;\n",
       "    }\n",
       "\n",
       "    .dataframe tbody tr th {\n",
       "        vertical-align: top;\n",
       "    }\n",
       "\n",
       "    .dataframe thead th {\n",
       "        text-align: right;\n",
       "    }\n",
       "</style>\n",
       "<table border=\"1\" class=\"dataframe\">\n",
       "  <thead>\n",
       "    <tr style=\"text-align: right;\">\n",
       "      <th></th>\n",
       "      <th>country</th>\n",
       "      <th>total_paying_customer</th>\n",
       "    </tr>\n",
       "  </thead>\n",
       "  <tbody>\n",
       "    <tr>\n",
       "      <th>0</th>\n",
       "      <td>India</td>\n",
       "      <td>60</td>\n",
       "    </tr>\n",
       "    <tr>\n",
       "      <th>1</th>\n",
       "      <td>China</td>\n",
       "      <td>53</td>\n",
       "    </tr>\n",
       "    <tr>\n",
       "      <th>2</th>\n",
       "      <td>United States</td>\n",
       "      <td>36</td>\n",
       "    </tr>\n",
       "    <tr>\n",
       "      <th>3</th>\n",
       "      <td>Japan</td>\n",
       "      <td>31</td>\n",
       "    </tr>\n",
       "    <tr>\n",
       "      <th>4</th>\n",
       "      <td>Mexico</td>\n",
       "      <td>30</td>\n",
       "    </tr>\n",
       "    <tr>\n",
       "      <th>5</th>\n",
       "      <td>Brazil</td>\n",
       "      <td>28</td>\n",
       "    </tr>\n",
       "  </tbody>\n",
       "</table>\n",
       "</div>"
      ],
      "text/plain": [
       "         country  total_paying_customer\n",
       "0          India                     60\n",
       "1          China                     53\n",
       "2  United States                     36\n",
       "3          Japan                     31\n",
       "4         Mexico                     30\n",
       "5         Brazil                     28"
      ]
     },
     "execution_count": 5,
     "metadata": {},
     "output_type": "execute_result"
    }
   ],
   "source": [
    "# Show result in dataframe\n",
    "top5p_countries = r.DataFrame()\n",
    "top5p_countries"
   ]
  },
  {
   "cell_type": "code",
   "execution_count": 6,
   "metadata": {},
   "outputs": [
    {
     "data": {
      "image/png": "[encoded data removed]",
      "text/plain": [
       "<Figure size 432x288 with 1 Axes>"
      ]
     },
     "metadata": {},
     "output_type": "display_data"
    }
   ],
   "source": [
    "# show countries with more than 40 customers with explode effect\n",
    "explode = tuple([0.1 if x>40 else 0 for x in top5p_countries['total_paying_customer'] ])\n",
    "\n",
    "# visualize the shares of customers in these countries using pie chart\n",
    "plt.pie(top5p_countries['total_paying_customer'], \n",
    "        labels=top5p_countries['country'],\n",
    "        autopct='%1.1f%%', explode=explode,\n",
    "        shadow=True, startangle=90)\n",
    "\n",
    "# decorate the chart\n",
    "plt.ylabel('Number of Paying Customers')\n",
    "plt.title('Top 5% Countries with Most Paying Customers')\n",
    "plt.show()"
   ]
  },
  {
   "cell_type": "markdown",
   "metadata": {},
   "source": [
    "##### Conclusion\n",
    "\n",
    "India, China and United States found are with the most paying customers, followed by Japan, Mexico and Brazil. The top 3 countries combined has accounted for 62.2% of the paying cusotmers. For simplicity of the study, I'll focus most of the anlyses that follow on these 3 markets."
   ]
  },
  {
   "cell_type": "markdown",
   "metadata": {},
   "source": [
    "## Question: Which film catgories are popular among the Top 3 countries?\n",
    "\n",
    "##### 1. Explore popularity of each categoy in each country"
   ]
  },
  {
   "cell_type": "code",
   "execution_count": 7,
   "metadata": {},
   "outputs": [],
   "source": [
    "top5perc = tuple(top5p_countries['country']) # sql uses tuple for list of data\n",
    "top3 = tuple(['China', 'India', 'United States'])"
   ]
  },
  {
   "cell_type": "code",
   "execution_count": 8,
   "metadata": {},
   "outputs": [
    {
     "name": "stdout",
     "output_type": "stream",
     "text": [
      " * postgresql://localhost/dvdrental\n",
      "48 rows affected.\n",
      "Returning data to local variable r\n"
     ]
    }
   ],
   "source": [
    "%%sql r <<\n",
    "WITH t1 AS(\n",
    "SELECT c.name,f.title, f.film_id\n",
    "from film_category fc\n",
    "JOIN category c ON fc.category_id = c.category_id\n",
    "JOIN film f ON f.film_id = fc.film_id)\n",
    "\n",
    "SELECT \n",
    "     t1.name AS category, \n",
    "     co.country,\n",
    "     COUNT(*)\n",
    "FROM inventory i \n",
    "JOIN rental r ON r.inventory_id = i.inventory_id\n",
    "JOIN t1 ON t1.film_id = i.film_id\n",
    "JOIN customer cus ON cus.customer_id = r.customer_id\n",
    "JOIN address a ON a.address_id = cus.address_id\n",
    "JOIN city c ON c.city_id = a.city_id\n",
    "JOIN country co ON co.country_id = c.country_id WHERE country in :top3\n",
    "GROUP BY 1, 2"
   ]
  },
  {
   "cell_type": "code",
   "execution_count": 9,
   "metadata": {
    "scrolled": true
   },
   "outputs": [
    {
     "data": {
      "text/html": [
       "<div>\n",
       "<style scoped>\n",
       "    .dataframe tbody tr th:only-of-type {\n",
       "        vertical-align: middle;\n",
       "    }\n",
       "\n",
       "    .dataframe tbody tr th {\n",
       "        vertical-align: top;\n",
       "    }\n",
       "\n",
       "    .dataframe thead th {\n",
       "        text-align: right;\n",
       "    }\n",
       "</style>\n",
       "<table border=\"1\" class=\"dataframe\">\n",
       "  <thead>\n",
       "    <tr style=\"text-align: right;\">\n",
       "      <th></th>\n",
       "      <th>category</th>\n",
       "      <th>country</th>\n",
       "      <th>count</th>\n",
       "    </tr>\n",
       "  </thead>\n",
       "  <tbody>\n",
       "    <tr>\n",
       "      <th>14</th>\n",
       "      <td>Documentary</td>\n",
       "      <td>United States</td>\n",
       "      <td>74</td>\n",
       "    </tr>\n",
       "    <tr>\n",
       "      <th>3</th>\n",
       "      <td>Sports</td>\n",
       "      <td>United States</td>\n",
       "      <td>73</td>\n",
       "    </tr>\n",
       "    <tr>\n",
       "      <th>13</th>\n",
       "      <td>Drama</td>\n",
       "      <td>United States</td>\n",
       "      <td>69</td>\n",
       "    </tr>\n",
       "    <tr>\n",
       "      <th>46</th>\n",
       "      <td>Animation</td>\n",
       "      <td>United States</td>\n",
       "      <td>68</td>\n",
       "    </tr>\n",
       "    <tr>\n",
       "      <th>28</th>\n",
       "      <td>Family</td>\n",
       "      <td>United States</td>\n",
       "      <td>66</td>\n",
       "    </tr>\n",
       "  </tbody>\n",
       "</table>\n",
       "</div>"
      ],
      "text/plain": [
       "       category        country  count\n",
       "14  Documentary  United States     74\n",
       "3        Sports  United States     73\n",
       "13        Drama  United States     69\n",
       "46    Animation  United States     68\n",
       "28       Family  United States     66"
      ]
     },
     "execution_count": 9,
     "metadata": {},
     "output_type": "execute_result"
    }
   ],
   "source": [
    "# Display part of the result\n",
    "df=r.DataFrame()\n",
    "df.sort_values(['country', 'count'], ascending=False).head()"
   ]
  },
  {
   "cell_type": "code",
   "execution_count": 10,
   "metadata": {
    "scrolled": true
   },
   "outputs": [
    {
     "data": {
      "image/png": "[encoded data removed]",
      "text/plain": [
       "<Figure size 360x576 with 3 Axes>"
      ]
     },
     "metadata": {},
     "output_type": "display_data"
    }
   ],
   "source": [
    "# Visualize popularity of categories in Top 3 countries\n",
    "fig, axes = plt.subplots(3,1,figsize=(5, 8))\n",
    "\n",
    "for i, country in enumerate(top3):\n",
    "    data=df.loc[df.country==country]\n",
    "    sns.barplot(x=data['category'], y=sorted(data['count']), ax=axes.flatten()[i])\n",
    "    axes.flatten()[i].set_title(f'{country}')\n",
    "    axes.flatten()[i].set_xticklabels(data['category'], rotation=35)\n",
    "\n",
    "plt.tight_layout()\n",
    "plt.show()"
   ]
  },
  {
   "cell_type": "markdown",
   "metadata": {},
   "source": [
    "##### 2. Compare the overall popularity by category across all 3 countries"
   ]
  },
  {
   "cell_type": "code",
   "execution_count": 11,
   "metadata": {},
   "outputs": [
    {
     "data": {
      "text/html": [
       "<div>\n",
       "<style scoped>\n",
       "    .dataframe tbody tr th:only-of-type {\n",
       "        vertical-align: middle;\n",
       "    }\n",
       "\n",
       "    .dataframe tbody tr th {\n",
       "        vertical-align: top;\n",
       "    }\n",
       "\n",
       "    .dataframe thead th {\n",
       "        text-align: right;\n",
       "    }\n",
       "</style>\n",
       "<table border=\"1\" class=\"dataframe\">\n",
       "  <thead>\n",
       "    <tr style=\"text-align: right;\">\n",
       "      <th>country</th>\n",
       "      <th>China</th>\n",
       "      <th>India</th>\n",
       "      <th>United States</th>\n",
       "      <th>Total</th>\n",
       "    </tr>\n",
       "    <tr>\n",
       "      <th>category</th>\n",
       "      <th></th>\n",
       "      <th></th>\n",
       "      <th></th>\n",
       "      <th></th>\n",
       "    </tr>\n",
       "  </thead>\n",
       "  <tbody>\n",
       "    <tr>\n",
       "      <th>Travel</th>\n",
       "      <td>63</td>\n",
       "      <td>73</td>\n",
       "      <td>33</td>\n",
       "      <td>169</td>\n",
       "    </tr>\n",
       "    <tr>\n",
       "      <th>Music</th>\n",
       "      <td>79</td>\n",
       "      <td>77</td>\n",
       "      <td>51</td>\n",
       "      <td>207</td>\n",
       "    </tr>\n",
       "    <tr>\n",
       "      <th>Horror</th>\n",
       "      <td>74</td>\n",
       "      <td>88</td>\n",
       "      <td>62</td>\n",
       "      <td>224</td>\n",
       "    </tr>\n",
       "    <tr>\n",
       "      <th>Games</th>\n",
       "      <td>92</td>\n",
       "      <td>78</td>\n",
       "      <td>60</td>\n",
       "      <td>230</td>\n",
       "    </tr>\n",
       "    <tr>\n",
       "      <th>New</th>\n",
       "      <td>90</td>\n",
       "      <td>89</td>\n",
       "      <td>55</td>\n",
       "      <td>234</td>\n",
       "    </tr>\n",
       "    <tr>\n",
       "      <th>Comedy</th>\n",
       "      <td>88</td>\n",
       "      <td>88</td>\n",
       "      <td>59</td>\n",
       "      <td>235</td>\n",
       "    </tr>\n",
       "    <tr>\n",
       "      <th>Classics</th>\n",
       "      <td>88</td>\n",
       "      <td>104</td>\n",
       "      <td>54</td>\n",
       "      <td>246</td>\n",
       "    </tr>\n",
       "    <tr>\n",
       "      <th>Sci-Fi</th>\n",
       "      <td>82</td>\n",
       "      <td>106</td>\n",
       "      <td>62</td>\n",
       "      <td>250</td>\n",
       "    </tr>\n",
       "    <tr>\n",
       "      <th>Children</th>\n",
       "      <td>89</td>\n",
       "      <td>106</td>\n",
       "      <td>56</td>\n",
       "      <td>251</td>\n",
       "    </tr>\n",
       "    <tr>\n",
       "      <th>Foreign</th>\n",
       "      <td>84</td>\n",
       "      <td>106</td>\n",
       "      <td>64</td>\n",
       "      <td>254</td>\n",
       "    </tr>\n",
       "    <tr>\n",
       "      <th>Action</th>\n",
       "      <td>87</td>\n",
       "      <td>118</td>\n",
       "      <td>62</td>\n",
       "      <td>267</td>\n",
       "    </tr>\n",
       "    <tr>\n",
       "      <th>Drama</th>\n",
       "      <td>105</td>\n",
       "      <td>97</td>\n",
       "      <td>69</td>\n",
       "      <td>271</td>\n",
       "    </tr>\n",
       "    <tr>\n",
       "      <th>Family</th>\n",
       "      <td>105</td>\n",
       "      <td>102</td>\n",
       "      <td>66</td>\n",
       "      <td>273</td>\n",
       "    </tr>\n",
       "    <tr>\n",
       "      <th>Documentary</th>\n",
       "      <td>87</td>\n",
       "      <td>114</td>\n",
       "      <td>74</td>\n",
       "      <td>275</td>\n",
       "    </tr>\n",
       "    <tr>\n",
       "      <th>Sports</th>\n",
       "      <td>100</td>\n",
       "      <td>115</td>\n",
       "      <td>73</td>\n",
       "      <td>288</td>\n",
       "    </tr>\n",
       "    <tr>\n",
       "      <th>Animation</th>\n",
       "      <td>113</td>\n",
       "      <td>111</td>\n",
       "      <td>68</td>\n",
       "      <td>292</td>\n",
       "    </tr>\n",
       "    <tr>\n",
       "      <th>Total</th>\n",
       "      <td>1426</td>\n",
       "      <td>1572</td>\n",
       "      <td>968</td>\n",
       "      <td>3966</td>\n",
       "    </tr>\n",
       "  </tbody>\n",
       "</table>\n",
       "</div>"
      ],
      "text/plain": [
       "country      China  India  United States  Total\n",
       "category                                       \n",
       "Travel          63     73             33    169\n",
       "Music           79     77             51    207\n",
       "Horror          74     88             62    224\n",
       "Games           92     78             60    230\n",
       "New             90     89             55    234\n",
       "Comedy          88     88             59    235\n",
       "Classics        88    104             54    246\n",
       "Sci-Fi          82    106             62    250\n",
       "Children        89    106             56    251\n",
       "Foreign         84    106             64    254\n",
       "Action          87    118             62    267\n",
       "Drama          105     97             69    271\n",
       "Family         105    102             66    273\n",
       "Documentary     87    114             74    275\n",
       "Sports         100    115             73    288\n",
       "Animation      113    111             68    292\n",
       "Total         1426   1572            968   3966"
      ]
     },
     "execution_count": 11,
     "metadata": {},
     "output_type": "execute_result"
    }
   ],
   "source": [
    "# aggregate total rental counts by categories for each country\n",
    "df_aggregate = (df.pivot_table(index='category', columns='country', values='count', \n",
    "                    aggfunc=sum, margins=True, margins_name='Total')\n",
    "                .sort_values(['Total', 'China', 'India', 'United States']))\n",
    "df_aggregate"
   ]
  },
  {
   "cell_type": "code",
   "execution_count": 12,
   "metadata": {},
   "outputs": [
    {
     "data": {
      "image/png": "[encoded data removed]",
      "text/plain": [
       "<Figure size 432x288 with 1 Axes>"
      ]
     },
     "metadata": {},
     "output_type": "display_data"
    },
    {
     "data": {
      "text/plain": [
       "<Figure size 1080x1080 with 0 Axes>"
      ]
     },
     "metadata": {},
     "output_type": "display_data"
    }
   ],
   "source": [
    "# Visualize popularity of each category with stacked data of each country\n",
    "df_aggregate.iloc[:-1, :-1].plot(kind='bar', stacked=True) # not to include marginal totals in the plot\n",
    "plt.xticks(rotation=35)\n",
    "plt.ylabel('number of rental')\n",
    "plt.figure(figsize=(15, 15))\n",
    "plt.show()"
   ]
  },
  {
   "cell_type": "markdown",
   "metadata": {},
   "source": [
    "##### Conclusion\n",
    "\n",
    "Overall speaking, animation is the most popular category among all customers in India, China and United States combined. \n",
    "\n",
    "Meanwhile, the customers in these countries have displayed different preferences for film categories, for example, customers in India favor foreign and action movies the most, the customers in China favor new and animation movies the most, while those in the US favor comedy, documentary and drama the most. "
   ]
  },
  {
   "cell_type": "markdown",
   "metadata": {},
   "source": [
    "## Question: Who are the popular movie stars in Top 3 countries?\n",
    "\n",
    "Which 5 artists are most popular in each of the Top 3 countries? I'll rank the popularity of the movie stars for each country in the result."
   ]
  },
  {
   "cell_type": "code",
   "execution_count": 13,
   "metadata": {},
   "outputs": [
    {
     "name": "stdout",
     "output_type": "stream",
     "text": [
      " * postgresql://localhost/dvdrental\n",
      "15 rows affected.\n",
      "Returning data to local variable r\n"
     ]
    }
   ],
   "source": [
    "%%sql r <<\n",
    "WITH t1 AS(\n",
    "SELECT DISTINCT con.country, \n",
    "       fa.actor_id, \n",
    "       COUNT(r.*) OVER (PARTITION BY con.country, fa.actor_id) rental_count\n",
    "FROM film_actor fa\n",
    "JOIN film f ON fa.film_id = f.film_id\n",
    "JOIN inventory i ON i.film_id = f.film_id\n",
    "JOIN rental r ON r.inventory_id = i.inventory_id\n",
    "JOIN customer cus ON cus.customer_id = r.customer_id\n",
    "JOIN address a ON a.address_id = cus.address_id\n",
    "JOIN city c ON c.city_id = a.city_id\n",
    "JOIN country con ON con.country_id = c.country_id \n",
    "                    AND con.country IN ('China', 'India', 'United States')),\n",
    "\n",
    "t2 AS (\n",
    "SELECT *, \n",
    "       ROW_NUMBER() OVER (PARTITION BY country \n",
    "                          ORDER BY  rental_count DESC) actor_rank\n",
    "FROM t1\n",
    "),\n",
    "\n",
    "t3 AS (\n",
    "SELECT * \n",
    "FROM t2\n",
    "WHERE actor_rank <= 5)\n",
    "\n",
    "SELECT country, \n",
    "       a.first_name || ' ' ||a.last_name as actor,\n",
    "       actor_rank, rental_count\n",
    "FROM actor a \n",
    "JOIN t3 ON t3.actor_id = a.actor_id AND t3.rental_count > 1\n",
    "ORDER BY 1, 3"
   ]
  },
  {
   "cell_type": "code",
   "execution_count": 14,
   "metadata": {},
   "outputs": [
    {
     "data": {
      "text/html": [
       "<div>\n",
       "<style scoped>\n",
       "    .dataframe tbody tr th:only-of-type {\n",
       "        vertical-align: middle;\n",
       "    }\n",
       "\n",
       "    .dataframe tbody tr th {\n",
       "        vertical-align: top;\n",
       "    }\n",
       "\n",
       "    .dataframe thead th {\n",
       "        text-align: right;\n",
       "    }\n",
       "</style>\n",
       "<table border=\"1\" class=\"dataframe\">\n",
       "  <thead>\n",
       "    <tr style=\"text-align: right;\">\n",
       "      <th></th>\n",
       "      <th>country</th>\n",
       "      <th>actor</th>\n",
       "      <th>actor_rank</th>\n",
       "      <th>rental_count</th>\n",
       "    </tr>\n",
       "  </thead>\n",
       "  <tbody>\n",
       "    <tr>\n",
       "      <th>0</th>\n",
       "      <td>China</td>\n",
       "      <td>Gina Degeneres</td>\n",
       "      <td>1</td>\n",
       "      <td>67</td>\n",
       "    </tr>\n",
       "    <tr>\n",
       "      <th>1</th>\n",
       "      <td>China</td>\n",
       "      <td>Val Bolger</td>\n",
       "      <td>2</td>\n",
       "      <td>66</td>\n",
       "    </tr>\n",
       "    <tr>\n",
       "      <th>2</th>\n",
       "      <td>China</td>\n",
       "      <td>Warren Jackman</td>\n",
       "      <td>3</td>\n",
       "      <td>64</td>\n",
       "    </tr>\n",
       "    <tr>\n",
       "      <th>3</th>\n",
       "      <td>China</td>\n",
       "      <td>Ewan Gooding</td>\n",
       "      <td>4</td>\n",
       "      <td>62</td>\n",
       "    </tr>\n",
       "    <tr>\n",
       "      <th>4</th>\n",
       "      <td>China</td>\n",
       "      <td>Matthew Carrey</td>\n",
       "      <td>5</td>\n",
       "      <td>61</td>\n",
       "    </tr>\n",
       "    <tr>\n",
       "      <th>5</th>\n",
       "      <td>India</td>\n",
       "      <td>Gina Degeneres</td>\n",
       "      <td>1</td>\n",
       "      <td>81</td>\n",
       "    </tr>\n",
       "    <tr>\n",
       "      <th>6</th>\n",
       "      <td>India</td>\n",
       "      <td>Matthew Carrey</td>\n",
       "      <td>2</td>\n",
       "      <td>77</td>\n",
       "    </tr>\n",
       "    <tr>\n",
       "      <th>7</th>\n",
       "      <td>India</td>\n",
       "      <td>Mary Keitel</td>\n",
       "      <td>3</td>\n",
       "      <td>66</td>\n",
       "    </tr>\n",
       "    <tr>\n",
       "      <th>8</th>\n",
       "      <td>India</td>\n",
       "      <td>Albert Johansson</td>\n",
       "      <td>4</td>\n",
       "      <td>66</td>\n",
       "    </tr>\n",
       "    <tr>\n",
       "      <th>9</th>\n",
       "      <td>India</td>\n",
       "      <td>Sandra Kilmer</td>\n",
       "      <td>5</td>\n",
       "      <td>66</td>\n",
       "    </tr>\n",
       "    <tr>\n",
       "      <th>10</th>\n",
       "      <td>United States</td>\n",
       "      <td>Jayne Nolte</td>\n",
       "      <td>1</td>\n",
       "      <td>51</td>\n",
       "    </tr>\n",
       "    <tr>\n",
       "      <th>11</th>\n",
       "      <td>United States</td>\n",
       "      <td>Will Wilson</td>\n",
       "      <td>2</td>\n",
       "      <td>47</td>\n",
       "    </tr>\n",
       "    <tr>\n",
       "      <th>12</th>\n",
       "      <td>United States</td>\n",
       "      <td>Walter Torn</td>\n",
       "      <td>3</td>\n",
       "      <td>46</td>\n",
       "    </tr>\n",
       "    <tr>\n",
       "      <th>13</th>\n",
       "      <td>United States</td>\n",
       "      <td>Daryl Crawford</td>\n",
       "      <td>4</td>\n",
       "      <td>46</td>\n",
       "    </tr>\n",
       "    <tr>\n",
       "      <th>14</th>\n",
       "      <td>United States</td>\n",
       "      <td>Mary Keitel</td>\n",
       "      <td>5</td>\n",
       "      <td>45</td>\n",
       "    </tr>\n",
       "  </tbody>\n",
       "</table>\n",
       "</div>"
      ],
      "text/plain": [
       "          country             actor  actor_rank  rental_count\n",
       "0           China    Gina Degeneres           1            67\n",
       "1           China        Val Bolger           2            66\n",
       "2           China    Warren Jackman           3            64\n",
       "3           China      Ewan Gooding           4            62\n",
       "4           China    Matthew Carrey           5            61\n",
       "5           India    Gina Degeneres           1            81\n",
       "6           India    Matthew Carrey           2            77\n",
       "7           India       Mary Keitel           3            66\n",
       "8           India  Albert Johansson           4            66\n",
       "9           India     Sandra Kilmer           5            66\n",
       "10  United States       Jayne Nolte           1            51\n",
       "11  United States       Will Wilson           2            47\n",
       "12  United States       Walter Torn           3            46\n",
       "13  United States    Daryl Crawford           4            46\n",
       "14  United States       Mary Keitel           5            45"
      ]
     },
     "execution_count": 14,
     "metadata": {},
     "output_type": "execute_result"
    }
   ],
   "source": [
    "# Display the result\n",
    "df = r.DataFrame()\n",
    "df"
   ]
  },
  {
   "cell_type": "code",
   "execution_count": 15,
   "metadata": {},
   "outputs": [
    {
     "data": {
      "image/png": "[encoded data removed]",
      "text/plain": [
       "<Figure size 432x288 with 1 Axes>"
      ]
     },
     "metadata": {},
     "output_type": "display_data"
    }
   ],
   "source": [
    "# Aggregate rental counts by actor/actress in each country\n",
    "df_aggregate = (df.pivot_table(index='actor', columns='country', values='rental_count', \n",
    "                aggfunc=sum, margins=True, margins_name='Total')).sort_values('Total')\n",
    "\n",
    "# Display total rental counts by actor/actress\n",
    "# with stacked data showing counts in each country\n",
    "df_aggregate.iloc[:-1, :-1].plot(kind='bar', stacked='True')\n",
    "plt.xticks(rotation=35)\n",
    "plt.show()"
   ]
  },
  {
   "cell_type": "markdown",
   "metadata": {},
   "source": [
    "##### Conclusion\n",
    "\n",
    "12 actors/actresses are among the Top 5 popular movie stars in China, India and the US markets.\n",
    "\n",
    "Gina Degeneres is the most popular with highest rental count, followed by Mathew Carrey. They are found among Top 5 in both China and India; While Mary Keitel is among the top 5 in both India and the US. "
   ]
  },
  {
   "cell_type": "markdown",
   "metadata": {},
   "source": [
    "## Question 4: Is business growing in the Top 3 countries?\n",
    "\n",
    "Now, we will examine the health of business in these countries. First, we need confirm how many months of rental data we have."
   ]
  },
  {
   "cell_type": "code",
   "execution_count": 16,
   "metadata": {},
   "outputs": [
    {
     "name": "stdout",
     "output_type": "stream",
     "text": [
      " * postgresql://localhost/dvdrental\n",
      "5 rows affected.\n"
     ]
    },
    {
     "data": {
      "text/html": [
       "<table>\n",
       "    <tr>\n",
       "        <th>date_trunc</th>\n",
       "    </tr>\n",
       "    <tr>\n",
       "        <td>2005-05-01 00:00:00</td>\n",
       "    </tr>\n",
       "    <tr>\n",
       "        <td>2005-06-01 00:00:00</td>\n",
       "    </tr>\n",
       "    <tr>\n",
       "        <td>2005-07-01 00:00:00</td>\n",
       "    </tr>\n",
       "    <tr>\n",
       "        <td>2005-08-01 00:00:00</td>\n",
       "    </tr>\n",
       "    <tr>\n",
       "        <td>2006-02-01 00:00:00</td>\n",
       "    </tr>\n",
       "</table>"
      ],
      "text/plain": [
       "[(datetime.datetime(2005, 5, 1, 0, 0),),\n",
       " (datetime.datetime(2005, 6, 1, 0, 0),),\n",
       " (datetime.datetime(2005, 7, 1, 0, 0),),\n",
       " (datetime.datetime(2005, 8, 1, 0, 0),),\n",
       " (datetime.datetime(2006, 2, 1, 0, 0),)]"
      ]
     },
     "execution_count": 16,
     "metadata": {},
     "output_type": "execute_result"
    }
   ],
   "source": [
    "%%sql \n",
    "/*===how many months of data we have===*/\n",
    "SELECT DISTINCT DATE_TRUNC('month', t.rental_date) \n",
    "FROM (SELECT DISTINCT rental_date from rental) AS t ORDER BY 1"
   ]
  },
  {
   "cell_type": "markdown",
   "metadata": {},
   "source": [
    "Apparently, this is a small dataset with missing rental data for 5 months! If this was not a fictional data, we as analyst shall talk to the concerned party to resolve this issue. However, for learning purpose, I'll continue answering the question using the data as is.\n",
    "\n",
    "Now, I'll use the rental count data to observe if business is growing by month. To do so, I'll extract the rental counts of each month, and compare them to the data next month to calculate the differences of rental counts each month."
   ]
  },
  {
   "cell_type": "code",
   "execution_count": 17,
   "metadata": {},
   "outputs": [
    {
     "name": "stdout",
     "output_type": "stream",
     "text": [
      " * postgresql://localhost/dvdrental\n",
      "15 rows affected.\n",
      "Returning data to local variable r\n"
     ]
    }
   ],
   "source": [
    "%%sql r <<\n",
    "\n",
    "---Summarize rental count by country by month----\n",
    "WITH t1 AS\n",
    "(SELECT con.country, \n",
    "        DATE_TRUNC('month', rental_date) as month,\n",
    "        COUNT(r.*) as rental_count\n",
    "from rental r\n",
    "JOIN customer cus \n",
    "ON r.customer_id=cus.customer_id\n",
    "JOIN address a \n",
    "ON a.address_id = cus.address_id\n",
    "JOIN city c \n",
    "ON c.city_id = a.city_id\n",
    "JOIN country con \n",
    "ON con.country_id = c.country_id WHERE con.country in :top3\n",
    "GROUP BY 1,2),\n",
    "\n",
    "---Create a column that contains next month data---\n",
    "t2 AS\n",
    "(SELECT month,\n",
    "        /*===`LEAD() over` similar to `df.shift(-1)`===*/\n",
    "        LEAD(month, 1) OVER (ORDER BY month) as next_month\n",
    " FROM (SELECT DISTINCT DATE_TRUNC('month', rental_date) as month from rental r) t\n",
    ")\n",
    "\n",
    "----Calculate monthly differences---\n",
    "SELECT  country,\n",
    "        t1.month,\n",
    "        rental_count,\n",
    "        next_month,\n",
    "        LEAD(rental_count, 1) OVER w1 as next_month_rental_count,\n",
    "        (LEAD(rental_count, 1) OVER w1 - rental_count) as difference\n",
    "FROM t1 JOIN t2 ON t2.month = t1.month\n",
    "WINDOW w1 AS (PARTITION BY country ORDER BY t1.month) ---window function\n",
    "ORDER BY 1,2"
   ]
  },
  {
   "cell_type": "code",
   "execution_count": 18,
   "metadata": {},
   "outputs": [
    {
     "data": {
      "text/html": [
       "<div>\n",
       "<style scoped>\n",
       "    .dataframe tbody tr th:only-of-type {\n",
       "        vertical-align: middle;\n",
       "    }\n",
       "\n",
       "    .dataframe tbody tr th {\n",
       "        vertical-align: top;\n",
       "    }\n",
       "\n",
       "    .dataframe thead th {\n",
       "        text-align: right;\n",
       "    }\n",
       "</style>\n",
       "<table border=\"1\" class=\"dataframe\">\n",
       "  <thead>\n",
       "    <tr style=\"text-align: right;\">\n",
       "      <th></th>\n",
       "      <th>country</th>\n",
       "      <th>month</th>\n",
       "      <th>rental_count</th>\n",
       "      <th>next_month</th>\n",
       "      <th>next_month_rental_count</th>\n",
       "      <th>difference</th>\n",
       "    </tr>\n",
       "  </thead>\n",
       "  <tbody>\n",
       "    <tr>\n",
       "      <th>4</th>\n",
       "      <td>China</td>\n",
       "      <td>2006-02-01</td>\n",
       "      <td>13</td>\n",
       "      <td>NaT</td>\n",
       "      <td>NaN</td>\n",
       "      <td>NaN</td>\n",
       "    </tr>\n",
       "    <tr>\n",
       "      <th>9</th>\n",
       "      <td>India</td>\n",
       "      <td>2006-02-01</td>\n",
       "      <td>23</td>\n",
       "      <td>NaT</td>\n",
       "      <td>NaN</td>\n",
       "      <td>NaN</td>\n",
       "    </tr>\n",
       "    <tr>\n",
       "      <th>14</th>\n",
       "      <td>United States</td>\n",
       "      <td>2006-02-01</td>\n",
       "      <td>11</td>\n",
       "      <td>NaT</td>\n",
       "      <td>NaN</td>\n",
       "      <td>NaN</td>\n",
       "    </tr>\n",
       "  </tbody>\n",
       "</table>\n",
       "</div>"
      ],
      "text/plain": [
       "          country      month  rental_count next_month  \\\n",
       "4           China 2006-02-01            13        NaT   \n",
       "9           India 2006-02-01            23        NaT   \n",
       "14  United States 2006-02-01            11        NaT   \n",
       "\n",
       "    next_month_rental_count  difference  \n",
       "4                       NaN         NaN  \n",
       "9                       NaN         NaN  \n",
       "14                      NaN         NaN  "
      ]
     },
     "execution_count": 18,
     "metadata": {},
     "output_type": "execute_result"
    }
   ],
   "source": [
    "df = r.DataFrame()\n",
    "df[df.next_month.isna()]"
   ]
  },
  {
   "cell_type": "markdown",
   "metadata": {},
   "source": [
    "We don't have data after February 2006, so I'll will use the data up to that month. Let's drop the results with missing data."
   ]
  },
  {
   "cell_type": "code",
   "execution_count": 19,
   "metadata": {},
   "outputs": [
    {
     "data": {
      "text/html": [
       "<div>\n",
       "<style scoped>\n",
       "    .dataframe tbody tr th:only-of-type {\n",
       "        vertical-align: middle;\n",
       "    }\n",
       "\n",
       "    .dataframe tbody tr th {\n",
       "        vertical-align: top;\n",
       "    }\n",
       "\n",
       "    .dataframe thead th {\n",
       "        text-align: right;\n",
       "    }\n",
       "</style>\n",
       "<table border=\"1\" class=\"dataframe\">\n",
       "  <thead>\n",
       "    <tr style=\"text-align: right;\">\n",
       "      <th></th>\n",
       "      <th>country</th>\n",
       "      <th>month</th>\n",
       "      <th>rental_count</th>\n",
       "      <th>next_month</th>\n",
       "      <th>next_month_rental_count</th>\n",
       "      <th>difference</th>\n",
       "    </tr>\n",
       "  </thead>\n",
       "  <tbody>\n",
       "    <tr>\n",
       "      <th>0</th>\n",
       "      <td>China</td>\n",
       "      <td>2005-05-01</td>\n",
       "      <td>109</td>\n",
       "      <td>2005-06-01</td>\n",
       "      <td>198.0</td>\n",
       "      <td>89.0</td>\n",
       "    </tr>\n",
       "    <tr>\n",
       "      <th>1</th>\n",
       "      <td>China</td>\n",
       "      <td>2005-06-01</td>\n",
       "      <td>198</td>\n",
       "      <td>2005-07-01</td>\n",
       "      <td>594.0</td>\n",
       "      <td>396.0</td>\n",
       "    </tr>\n",
       "    <tr>\n",
       "      <th>2</th>\n",
       "      <td>China</td>\n",
       "      <td>2005-07-01</td>\n",
       "      <td>594</td>\n",
       "      <td>2005-08-01</td>\n",
       "      <td>512.0</td>\n",
       "      <td>-82.0</td>\n",
       "    </tr>\n",
       "    <tr>\n",
       "      <th>3</th>\n",
       "      <td>China</td>\n",
       "      <td>2005-08-01</td>\n",
       "      <td>512</td>\n",
       "      <td>2006-02-01</td>\n",
       "      <td>13.0</td>\n",
       "      <td>-499.0</td>\n",
       "    </tr>\n",
       "    <tr>\n",
       "      <th>5</th>\n",
       "      <td>India</td>\n",
       "      <td>2005-05-01</td>\n",
       "      <td>111</td>\n",
       "      <td>2005-06-01</td>\n",
       "      <td>208.0</td>\n",
       "      <td>97.0</td>\n",
       "    </tr>\n",
       "    <tr>\n",
       "      <th>6</th>\n",
       "      <td>India</td>\n",
       "      <td>2005-06-01</td>\n",
       "      <td>208</td>\n",
       "      <td>2005-07-01</td>\n",
       "      <td>651.0</td>\n",
       "      <td>443.0</td>\n",
       "    </tr>\n",
       "    <tr>\n",
       "      <th>7</th>\n",
       "      <td>India</td>\n",
       "      <td>2005-07-01</td>\n",
       "      <td>651</td>\n",
       "      <td>2005-08-01</td>\n",
       "      <td>579.0</td>\n",
       "      <td>-72.0</td>\n",
       "    </tr>\n",
       "    <tr>\n",
       "      <th>8</th>\n",
       "      <td>India</td>\n",
       "      <td>2005-08-01</td>\n",
       "      <td>579</td>\n",
       "      <td>2006-02-01</td>\n",
       "      <td>23.0</td>\n",
       "      <td>-556.0</td>\n",
       "    </tr>\n",
       "    <tr>\n",
       "      <th>10</th>\n",
       "      <td>United States</td>\n",
       "      <td>2005-05-01</td>\n",
       "      <td>70</td>\n",
       "      <td>2005-06-01</td>\n",
       "      <td>152.0</td>\n",
       "      <td>82.0</td>\n",
       "    </tr>\n",
       "    <tr>\n",
       "      <th>11</th>\n",
       "      <td>United States</td>\n",
       "      <td>2005-06-01</td>\n",
       "      <td>152</td>\n",
       "      <td>2005-07-01</td>\n",
       "      <td>376.0</td>\n",
       "      <td>224.0</td>\n",
       "    </tr>\n",
       "    <tr>\n",
       "      <th>12</th>\n",
       "      <td>United States</td>\n",
       "      <td>2005-07-01</td>\n",
       "      <td>376</td>\n",
       "      <td>2005-08-01</td>\n",
       "      <td>359.0</td>\n",
       "      <td>-17.0</td>\n",
       "    </tr>\n",
       "    <tr>\n",
       "      <th>13</th>\n",
       "      <td>United States</td>\n",
       "      <td>2005-08-01</td>\n",
       "      <td>359</td>\n",
       "      <td>2006-02-01</td>\n",
       "      <td>11.0</td>\n",
       "      <td>-348.0</td>\n",
       "    </tr>\n",
       "  </tbody>\n",
       "</table>\n",
       "</div>"
      ],
      "text/plain": [
       "          country      month  rental_count next_month  \\\n",
       "0           China 2005-05-01           109 2005-06-01   \n",
       "1           China 2005-06-01           198 2005-07-01   \n",
       "2           China 2005-07-01           594 2005-08-01   \n",
       "3           China 2005-08-01           512 2006-02-01   \n",
       "5           India 2005-05-01           111 2005-06-01   \n",
       "6           India 2005-06-01           208 2005-07-01   \n",
       "7           India 2005-07-01           651 2005-08-01   \n",
       "8           India 2005-08-01           579 2006-02-01   \n",
       "10  United States 2005-05-01            70 2005-06-01   \n",
       "11  United States 2005-06-01           152 2005-07-01   \n",
       "12  United States 2005-07-01           376 2005-08-01   \n",
       "13  United States 2005-08-01           359 2006-02-01   \n",
       "\n",
       "    next_month_rental_count  difference  \n",
       "0                     198.0        89.0  \n",
       "1                     594.0       396.0  \n",
       "2                     512.0       -82.0  \n",
       "3                      13.0      -499.0  \n",
       "5                     208.0        97.0  \n",
       "6                     651.0       443.0  \n",
       "7                     579.0       -72.0  \n",
       "8                      23.0      -556.0  \n",
       "10                    152.0        82.0  \n",
       "11                    376.0       224.0  \n",
       "12                    359.0       -17.0  \n",
       "13                     11.0      -348.0  "
      ]
     },
     "execution_count": 19,
     "metadata": {},
     "output_type": "execute_result"
    }
   ],
   "source": [
    "df.dropna(inplace=True)\n",
    "df"
   ]
  },
  {
   "cell_type": "markdown",
   "metadata": {},
   "source": [
    "I'll visualize the growth or drop of business in each country using waterfall chart. "
   ]
  },
  {
   "cell_type": "code",
   "execution_count": 20,
   "metadata": {},
   "outputs": [],
   "source": [
    "# download waterfallcharts module: https://github.com/chrispaulca/waterfall\n",
    "import waterfall_chart\n",
    "\n",
    "# customize the chart layout\n",
    "def plot_waterfall(x_col, y_col, filter_by, search, df):\n",
    "    y = pd.to_numeric(df.loc[df[filter_by]==search, y_col])\n",
    "    x = df.loc[df[filter_by]==search, x_col]\n",
    "    waterfall_chart.plot(x,y, rotation_value=30, \n",
    "                         formatting='{:.0f}',\n",
    "                         net_label='Net Difference',\n",
    "                         y_lab='Difference from last month',\n",
    "                         Title=search)\n",
    "    plt.show()"
   ]
  },
  {
   "cell_type": "code",
   "execution_count": 21,
   "metadata": {},
   "outputs": [
    {
     "data": {
      "image/png": "[encoded data removed]",
      "text/plain": [
       "<Figure size 432x288 with 1 Axes>"
      ]
     },
     "metadata": {},
     "output_type": "display_data"
    }
   ],
   "source": [
    "# convert datetime object to string for better looking xticks label display\n",
    "df['next_month'] = df['next_month'].astype(str) \n",
    "\n",
    "# Visualize growth/drop in rental counts over months in China\n",
    "plot_waterfall('next_month', 'difference', 'country', 'China', df)"
   ]
  },
  {
   "cell_type": "code",
   "execution_count": 22,
   "metadata": {},
   "outputs": [
    {
     "data": {
      "image/png": "[encoded data removed]",
      "text/plain": [
       "<Figure size 432x288 with 1 Axes>"
      ]
     },
     "metadata": {},
     "output_type": "display_data"
    }
   ],
   "source": [
    "# Visualize growth/drop in rental counts over months in India\n",
    "plot_waterfall('next_month', 'difference', 'country', 'India', df)"
   ]
  },
  {
   "cell_type": "code",
   "execution_count": 23,
   "metadata": {},
   "outputs": [
    {
     "data": {
      "image/png": "[encoded data removed]",
      "text/plain": [
       "<Figure size 432x288 with 1 Axes>"
      ]
     },
     "metadata": {},
     "output_type": "display_data"
    }
   ],
   "source": [
    "# Visualize growth/drop in rental counts over months in the US\n",
    "plot_waterfall('next_month', 'difference', 'country', 'United States', df)"
   ]
  },
  {
   "cell_type": "markdown",
   "metadata": {},
   "source": [
    "##### Conclusion\n",
    "\n",
    "In the start month of our dataset, which is May 2005, Our stores have generated `109` rentals in China, `111` in India and `70` in the US. And then, all of these 3 markets grew strongly in June and July 2005. Especially, their business has increased significantly in July 2005. \n",
    "\n",
    "However, after a stagnant month in August 2005 with small decrease in rentals, all 3 markets experienced big drop in business from August 2005 to February 2006. Note that, the drop only reflects the rental counts differences between August 2005 and Febrary 2006 as we don't have data for the months in between. \n",
    "\n",
    "All of the 3 markets ended up with negative growth from May 2005 to February 2006, with the numbers of rental down to `13` in China, `23` in India and `11` in the US."
   ]
  },
  {
   "cell_type": "markdown",
   "metadata": {},
   "source": [
    "# Exploratory Data Analysis for Financial Performance\n",
    "\n",
    "Let's say, alerted by the alarming issue of business failure shown by the data of last two months, the management requires probing into other financial issues as they also find out that the stores run out of money to purchase new movies to attract more business. \n",
    "\n",
    "\n",
    "## Uncovering Outstanding Balances \n",
    "\n",
    "##### Any unreturned rentals?"
   ]
  },
  {
   "cell_type": "code",
   "execution_count": 24,
   "metadata": {},
   "outputs": [
    {
     "name": "stdout",
     "output_type": "stream",
     "text": [
      " * postgresql://localhost/dvdrental\n",
      "0 rows affected.\n"
     ]
    },
    {
     "data": {
      "text/html": [
       "<table>\n",
       "    <tr>\n",
       "        <th>rental_id</th>\n",
       "        <th>rental_date</th>\n",
       "        <th>return_date</th>\n",
       "    </tr>\n",
       "</table>"
      ],
      "text/plain": [
       "[]"
      ]
     },
     "execution_count": 24,
     "metadata": {},
     "output_type": "execute_result"
    }
   ],
   "source": [
    "%%sql\n",
    "SELECT rental_id, rental_date, return_date \n",
    "from rental r WHERE return_date = Null"
   ]
  },
  {
   "cell_type": "markdown",
   "metadata": {},
   "source": [
    "There is no result returned for this query, therefore, all rentals are returned."
   ]
  },
  {
   "cell_type": "markdown",
   "metadata": {},
   "source": [
    "##### Any rental unpaid?"
   ]
  },
  {
   "cell_type": "code",
   "execution_count": 25,
   "metadata": {},
   "outputs": [
    {
     "name": "stdout",
     "output_type": "stream",
     "text": [
      " * postgresql://localhost/dvdrental\n",
      "1 rows affected.\n",
      "Returning data to local variable unpaid\n"
     ]
    }
   ],
   "source": [
    "%%sql unpaid <<\n",
    "SELECT count(*) \n",
    "FROM rental r\n",
    "LEFT JOIN payment p \n",
    "ON p.rental_id = r.rental_id WHERE p.rental_id IS NULL"
   ]
  },
  {
   "cell_type": "code",
   "execution_count": 26,
   "metadata": {},
   "outputs": [
    {
     "name": "stdout",
     "output_type": "stream",
     "text": [
      " * postgresql://localhost/dvdrental\n",
      "1 rows affected.\n",
      "Returning data to local variable total\n"
     ]
    }
   ],
   "source": [
    "%sql total << SELECT COUNT(*) from rental"
   ]
  },
  {
   "cell_type": "code",
   "execution_count": 27,
   "metadata": {},
   "outputs": [
    {
     "name": "stdout",
     "output_type": "stream",
     "text": [
      "1452, 16044, 0.09\n"
     ]
    }
   ],
   "source": [
    "# display results of total unpaid rentals, total rentals, the ratio of unpaid vs. total\n",
    "unpaid_rental, total_rental = unpaid.DataFrame().iloc[0][0], total.DataFrame().iloc[0][0]\n",
    "print(f'{unpaid_rental}, {total_rental}, {unpaid_rental/total_rental:.2f}')"
   ]
  },
  {
   "cell_type": "markdown",
   "metadata": {},
   "source": [
    "##### Conclusion\n",
    "\n",
    "It's a red flag to find out 9% of the rentals are unapid after they are returned. Let's explore more of this issue, by examining how much money we have not collected? Which store has the highest outstanding balances? How many customers that owe us money? Where are those customers from? "
   ]
  },
  {
   "cell_type": "markdown",
   "metadata": {},
   "source": [
    "## Estimating Outstanding Balances using Linear Regression"
   ]
  },
  {
   "cell_type": "markdown",
   "metadata": {},
   "source": [
    "In real life application, we need to ask the stores to confirm their fee schedule to determine the amount of outstanding balances for the unpaid rental. However, in this fictional case study, we can either predict or estimate how payment amount is calculated by observing the paid rentals data or make up the rule for fee scheudle.\n",
    "\n",
    "In this chapter, I'll explore the relationships of relevant variables and then run an OLS multiple regression analysis to find the best fit model for amount calculation.\n",
    "\n",
    "### Extract the unpaid rental data"
   ]
  },
  {
   "cell_type": "code",
   "execution_count": 28,
   "metadata": {},
   "outputs": [
    {
     "name": "stdout",
     "output_type": "stream",
     "text": [
      " * postgresql://localhost/dvdrental\n",
      "14596 rows affected.\n",
      "Returning data to local variable r\n"
     ]
    }
   ],
   "source": [
    "%%sql r <<\n",
    "\n",
    "SELECT r.rental_id,\n",
    "       rental_date,\n",
    "       return_date,\n",
    "       p.amount,\n",
    "       i.store_id,\n",
    "       con.country,\n",
    "       rental_rate,\n",
    "       /*====extract duration with second precision and then convert to equivalent in day unit====*/\n",
    "       round((EXTRACT(epoch from DATE_TRUNC('second', return_date-rental_date))/3600/24)::numeric, 2) duration\n",
    "from rental r\n",
    "JOIN payment p ON p.rental_id = r.rental_id\n",
    "JOIN inventory i ON i.inventory_id = r.inventory_id\n",
    "JOIN film f ON f.film_id = i.film_id\n",
    "JOIN customer cus ON cus.customer_id = r.customer_id\n",
    "JOIN address a ON a.address_id = cus.address_id\n",
    "JOIN city c ON c.city_id = a.city_id\n",
    "JOIN country con ON con.country_id = c.country_id\n",
    "---WHERE country in ('China', 'India', 'United States')---"
   ]
  },
  {
   "cell_type": "code",
   "execution_count": 29,
   "metadata": {},
   "outputs": [],
   "source": [
    "# save the result to df\n",
    "rental_paid = r.DataFrame()"
   ]
  },
  {
   "cell_type": "markdown",
   "metadata": {},
   "source": [
    "I was prompted by error message that there is duplicated rental id, let's find out what it is"
   ]
  },
  {
   "cell_type": "code",
   "execution_count": 30,
   "metadata": {},
   "outputs": [
    {
     "data": {
      "text/plain": [
       "4591    5\n",
       "Name: rental_id, dtype: int64"
      ]
     },
     "execution_count": 30,
     "metadata": {},
     "output_type": "execute_result"
    }
   ],
   "source": [
    "rental_paid.rental_id.value_counts()[rental_paid.rental_id.value_counts() >1]"
   ]
  },
  {
   "cell_type": "code",
   "execution_count": 31,
   "metadata": {
    "scrolled": true
   },
   "outputs": [
    {
     "data": {
      "text/html": [
       "<div>\n",
       "<style scoped>\n",
       "    .dataframe tbody tr th:only-of-type {\n",
       "        vertical-align: middle;\n",
       "    }\n",
       "\n",
       "    .dataframe tbody tr th {\n",
       "        vertical-align: top;\n",
       "    }\n",
       "\n",
       "    .dataframe thead th {\n",
       "        text-align: right;\n",
       "    }\n",
       "</style>\n",
       "<table border=\"1\" class=\"dataframe\">\n",
       "  <thead>\n",
       "    <tr style=\"text-align: right;\">\n",
       "      <th></th>\n",
       "      <th>rental_id</th>\n",
       "      <th>rental_date</th>\n",
       "      <th>return_date</th>\n",
       "      <th>amount</th>\n",
       "      <th>store_id</th>\n",
       "      <th>country</th>\n",
       "      <th>rental_rate</th>\n",
       "      <th>duration</th>\n",
       "    </tr>\n",
       "  </thead>\n",
       "  <tbody>\n",
       "    <tr>\n",
       "      <th>2015</th>\n",
       "      <td>4591</td>\n",
       "      <td>2005-07-08 06:29:43</td>\n",
       "      <td>2005-07-17 07:20:43</td>\n",
       "      <td>1.99</td>\n",
       "      <td>1</td>\n",
       "      <td>United States</td>\n",
       "      <td>0.99</td>\n",
       "      <td>9.04</td>\n",
       "    </tr>\n",
       "    <tr>\n",
       "      <th>7659</th>\n",
       "      <td>4591</td>\n",
       "      <td>2005-07-08 06:29:43</td>\n",
       "      <td>2005-07-17 07:20:43</td>\n",
       "      <td>1.99</td>\n",
       "      <td>1</td>\n",
       "      <td>United States</td>\n",
       "      <td>0.99</td>\n",
       "      <td>9.04</td>\n",
       "    </tr>\n",
       "    <tr>\n",
       "      <th>11660</th>\n",
       "      <td>4591</td>\n",
       "      <td>2005-07-08 06:29:43</td>\n",
       "      <td>2005-07-17 07:20:43</td>\n",
       "      <td>0.99</td>\n",
       "      <td>1</td>\n",
       "      <td>United States</td>\n",
       "      <td>0.99</td>\n",
       "      <td>9.04</td>\n",
       "    </tr>\n",
       "    <tr>\n",
       "      <th>13566</th>\n",
       "      <td>4591</td>\n",
       "      <td>2005-07-08 06:29:43</td>\n",
       "      <td>2005-07-17 07:20:43</td>\n",
       "      <td>3.99</td>\n",
       "      <td>1</td>\n",
       "      <td>United States</td>\n",
       "      <td>0.99</td>\n",
       "      <td>9.04</td>\n",
       "    </tr>\n",
       "    <tr>\n",
       "      <th>14331</th>\n",
       "      <td>4591</td>\n",
       "      <td>2005-07-08 06:29:43</td>\n",
       "      <td>2005-07-17 07:20:43</td>\n",
       "      <td>3.99</td>\n",
       "      <td>1</td>\n",
       "      <td>United States</td>\n",
       "      <td>0.99</td>\n",
       "      <td>9.04</td>\n",
       "    </tr>\n",
       "  </tbody>\n",
       "</table>\n",
       "</div>"
      ],
      "text/plain": [
       "       rental_id         rental_date         return_date amount  store_id  \\\n",
       "2015        4591 2005-07-08 06:29:43 2005-07-17 07:20:43   1.99         1   \n",
       "7659        4591 2005-07-08 06:29:43 2005-07-17 07:20:43   1.99         1   \n",
       "11660       4591 2005-07-08 06:29:43 2005-07-17 07:20:43   0.99         1   \n",
       "13566       4591 2005-07-08 06:29:43 2005-07-17 07:20:43   3.99         1   \n",
       "14331       4591 2005-07-08 06:29:43 2005-07-17 07:20:43   3.99         1   \n",
       "\n",
       "             country rental_rate duration  \n",
       "2015   United States        0.99     9.04  \n",
       "7659   United States        0.99     9.04  \n",
       "11660  United States        0.99     9.04  \n",
       "13566  United States        0.99     9.04  \n",
       "14331  United States        0.99     9.04  "
      ]
     },
     "execution_count": 31,
     "metadata": {},
     "output_type": "execute_result"
    }
   ],
   "source": [
    "# check the records of this duplicated rental_id\n",
    "rental_paid.loc[rental_paid['rental_id']==4591]"
   ]
  },
  {
   "cell_type": "markdown",
   "metadata": {},
   "source": [
    "In real life application, it's impossible to have duplicated records using duplicated rental ids with data verification methods in place. I guess the error is generated during the process of random assignment of data by the creator."
   ]
  },
  {
   "cell_type": "code",
   "execution_count": 32,
   "metadata": {
    "scrolled": true
   },
   "outputs": [],
   "source": [
    "# drop the duplicated rentals\n",
    "rental_paid = rental_paid.drop_duplicates('rental_id')"
   ]
  },
  {
   "cell_type": "markdown",
   "metadata": {},
   "source": [
    "Let's continue with other data cleaning tasks."
   ]
  },
  {
   "cell_type": "code",
   "execution_count": 33,
   "metadata": {
    "scrolled": true
   },
   "outputs": [
    {
     "data": {
      "text/html": [
       "<div>\n",
       "<style scoped>\n",
       "    .dataframe tbody tr th:only-of-type {\n",
       "        vertical-align: middle;\n",
       "    }\n",
       "\n",
       "    .dataframe tbody tr th {\n",
       "        vertical-align: top;\n",
       "    }\n",
       "\n",
       "    .dataframe thead th {\n",
       "        text-align: right;\n",
       "    }\n",
       "</style>\n",
       "<table border=\"1\" class=\"dataframe\">\n",
       "  <thead>\n",
       "    <tr style=\"text-align: right;\">\n",
       "      <th></th>\n",
       "      <th>rental_id</th>\n",
       "      <th>amount</th>\n",
       "      <th>store_id</th>\n",
       "      <th>country</th>\n",
       "      <th>rental_rate</th>\n",
       "      <th>duration</th>\n",
       "      <th>rental_month</th>\n",
       "      <th>return_month</th>\n",
       "    </tr>\n",
       "  </thead>\n",
       "  <tbody>\n",
       "    <tr>\n",
       "      <th>0</th>\n",
       "      <td>1520</td>\n",
       "      <td>7.99</td>\n",
       "      <td>1</td>\n",
       "      <td>Netherlands</td>\n",
       "      <td>4.99</td>\n",
       "      <td>8.99</td>\n",
       "      <td>2005-06</td>\n",
       "      <td>2005-06</td>\n",
       "    </tr>\n",
       "    <tr>\n",
       "      <th>1</th>\n",
       "      <td>1778</td>\n",
       "      <td>1.99</td>\n",
       "      <td>2</td>\n",
       "      <td>Netherlands</td>\n",
       "      <td>0.99</td>\n",
       "      <td>5.88</td>\n",
       "      <td>2005-06</td>\n",
       "      <td>2005-06</td>\n",
       "    </tr>\n",
       "    <tr>\n",
       "      <th>2</th>\n",
       "      <td>1849</td>\n",
       "      <td>7.99</td>\n",
       "      <td>1</td>\n",
       "      <td>Netherlands</td>\n",
       "      <td>4.99</td>\n",
       "      <td>6.77</td>\n",
       "      <td>2005-06</td>\n",
       "      <td>2005-06</td>\n",
       "    </tr>\n",
       "    <tr>\n",
       "      <th>3</th>\n",
       "      <td>2829</td>\n",
       "      <td>2.99</td>\n",
       "      <td>1</td>\n",
       "      <td>Netherlands</td>\n",
       "      <td>2.99</td>\n",
       "      <td>4.87</td>\n",
       "      <td>2005-06</td>\n",
       "      <td>2005-06</td>\n",
       "    </tr>\n",
       "    <tr>\n",
       "      <th>4</th>\n",
       "      <td>3130</td>\n",
       "      <td>7.99</td>\n",
       "      <td>1</td>\n",
       "      <td>Netherlands</td>\n",
       "      <td>4.99</td>\n",
       "      <td>8.96</td>\n",
       "      <td>2005-06</td>\n",
       "      <td>2005-06</td>\n",
       "    </tr>\n",
       "  </tbody>\n",
       "</table>\n",
       "</div>"
      ],
      "text/plain": [
       "   rental_id  amount  store_id      country  rental_rate  duration  \\\n",
       "0       1520    7.99         1  Netherlands         4.99      8.99   \n",
       "1       1778    1.99         2  Netherlands         0.99      5.88   \n",
       "2       1849    7.99         1  Netherlands         4.99      6.77   \n",
       "3       2829    2.99         1  Netherlands         2.99      4.87   \n",
       "4       3130    7.99         1  Netherlands         4.99      8.96   \n",
       "\n",
       "  rental_month return_month  \n",
       "0      2005-06      2005-06  \n",
       "1      2005-06      2005-06  \n",
       "2      2005-06      2005-06  \n",
       "3      2005-06      2005-06  \n",
       "4      2005-06      2005-06  "
      ]
     },
     "execution_count": 33,
     "metadata": {},
     "output_type": "execute_result"
    }
   ],
   "source": [
    "# drop missing values\n",
    "rental_paid = rental_paid.dropna().reset_index(drop=True)\n",
    "\n",
    "# convert data types\n",
    "rental_paid['amount'] = rental_paid['amount'].astype(float)\n",
    "rental_paid['rental_rate'] = rental_paid['rental_rate'].astype(float)\n",
    "rental_paid['duration']=rental_paid['duration'].astype(float)\n",
    "\n",
    "# customer data columns\n",
    "rental_paid['rental_month'] = rental_paid['rental_date'].dt.to_period('M')\n",
    "rental_paid['return_month'] = rental_paid['return_date'].dt.to_period('M')\n",
    "rental_paid = rental_paid.drop(['rental_date', 'return_date'], axis=1)\n",
    "\n",
    "# inspect head data\n",
    "rental_paid.head()"
   ]
  },
  {
   "cell_type": "markdown",
   "metadata": {},
   "source": [
    "### Determing variables for analysis\n",
    "\n",
    "\n",
    "Let's use the average amount being charged per day per rental to explore two things:\n",
    "\n",
    "1. how payment amount is related to rental rate and duration of the rentals;\n",
    "2. if we can assume all countries adopt the same fee schedules."
   ]
  },
  {
   "cell_type": "code",
   "execution_count": 34,
   "metadata": {},
   "outputs": [
    {
     "data": {
      "text/plain": [
       "0.99    5070\n",
       "4.99    4728\n",
       "2.99    4611\n",
       "Name: rental_rate, dtype: int64"
      ]
     },
     "execution_count": 34,
     "metadata": {},
     "output_type": "execute_result"
    }
   ],
   "source": [
    "# how many tiered rates in the dataset\n",
    "rental_paid['rental_rate'].value_counts()"
   ]
  },
  {
   "cell_type": "code",
   "execution_count": 35,
   "metadata": {},
   "outputs": [
    {
     "data": {
      "text/plain": [
       "108"
      ]
     },
     "execution_count": 35,
     "metadata": {},
     "output_type": "execute_result"
    }
   ],
   "source": [
    "# how many countries in the dataset\n",
    "rental_paid['country'].nunique()"
   ]
  },
  {
   "cell_type": "code",
   "execution_count": 36,
   "metadata": {},
   "outputs": [],
   "source": [
    "# calculate the average amount charged per day per rental\n",
    "rental_paid['avg_amt_day'] = rental_paid['amount']/rental_paid['duration']"
   ]
  },
  {
   "cell_type": "code",
   "execution_count": 37,
   "metadata": {},
   "outputs": [
    {
     "data": {
      "text/html": [
       "<div>\n",
       "<style scoped>\n",
       "    .dataframe tbody tr th:only-of-type {\n",
       "        vertical-align: middle;\n",
       "    }\n",
       "\n",
       "    .dataframe tbody tr th {\n",
       "        vertical-align: top;\n",
       "    }\n",
       "\n",
       "    .dataframe thead th {\n",
       "        text-align: right;\n",
       "    }\n",
       "</style>\n",
       "<table border=\"1\" class=\"dataframe\">\n",
       "  <thead>\n",
       "    <tr style=\"text-align: right;\">\n",
       "      <th>rental_rate</th>\n",
       "      <th>0.99</th>\n",
       "      <th>2.99</th>\n",
       "      <th>4.99</th>\n",
       "    </tr>\n",
       "    <tr>\n",
       "      <th>country</th>\n",
       "      <th></th>\n",
       "      <th></th>\n",
       "      <th></th>\n",
       "    </tr>\n",
       "  </thead>\n",
       "  <tbody>\n",
       "    <tr>\n",
       "      <th>Afghanistan</th>\n",
       "      <td>0.446922</td>\n",
       "      <td>1.306548</td>\n",
       "      <td>1.464605</td>\n",
       "    </tr>\n",
       "    <tr>\n",
       "      <th>Algeria</th>\n",
       "      <td>0.481875</td>\n",
       "      <td>1.065233</td>\n",
       "      <td>1.574267</td>\n",
       "    </tr>\n",
       "    <tr>\n",
       "      <th>American Samoa</th>\n",
       "      <td>0.325429</td>\n",
       "      <td>1.371282</td>\n",
       "      <td>2.396754</td>\n",
       "    </tr>\n",
       "    <tr>\n",
       "      <th>Angola</th>\n",
       "      <td>0.462379</td>\n",
       "      <td>0.957994</td>\n",
       "      <td>1.013187</td>\n",
       "    </tr>\n",
       "    <tr>\n",
       "      <th>Anguilla</th>\n",
       "      <td>0.449977</td>\n",
       "      <td>0.860671</td>\n",
       "      <td>2.015860</td>\n",
       "    </tr>\n",
       "  </tbody>\n",
       "</table>\n",
       "</div>"
      ],
      "text/plain": [
       "rental_rate         0.99      2.99      4.99\n",
       "country                                     \n",
       "Afghanistan     0.446922  1.306548  1.464605\n",
       "Algeria         0.481875  1.065233  1.574267\n",
       "American Samoa  0.325429  1.371282  2.396754\n",
       "Angola          0.462379  0.957994  1.013187\n",
       "Anguilla        0.449977  0.860671  2.015860"
      ]
     },
     "execution_count": 37,
     "metadata": {},
     "output_type": "execute_result"
    }
   ],
   "source": [
    "# calculate the means of the average amount charged per day per rental grouped by tiered rate\n",
    "# for each country\n",
    "agg_avg_amt = rental_paid.pivot_table(values='avg_amt_day', index='country', columns='rental_rate',\n",
    "                        aggfunc={'avg_amt_day': 'mean'})\n",
    "agg_avg_amt.head()"
   ]
  },
  {
   "cell_type": "code",
   "execution_count": 38,
   "metadata": {},
   "outputs": [
    {
     "data": {
      "text/html": [
       "<div>\n",
       "<style scoped>\n",
       "    .dataframe tbody tr th:only-of-type {\n",
       "        vertical-align: middle;\n",
       "    }\n",
       "\n",
       "    .dataframe tbody tr th {\n",
       "        vertical-align: top;\n",
       "    }\n",
       "\n",
       "    .dataframe thead th {\n",
       "        text-align: right;\n",
       "    }\n",
       "</style>\n",
       "<table border=\"1\" class=\"dataframe\">\n",
       "  <thead>\n",
       "    <tr style=\"text-align: right;\">\n",
       "      <th>rental_rate</th>\n",
       "      <th>0.99</th>\n",
       "      <th>2.99</th>\n",
       "      <th>4.99</th>\n",
       "    </tr>\n",
       "  </thead>\n",
       "  <tbody>\n",
       "    <tr>\n",
       "      <th>count</th>\n",
       "      <td>108.000000</td>\n",
       "      <td>108.000000</td>\n",
       "      <td>108.000000</td>\n",
       "    </tr>\n",
       "    <tr>\n",
       "      <th>mean</th>\n",
       "      <td>0.483548</td>\n",
       "      <td>1.088982</td>\n",
       "      <td>1.722008</td>\n",
       "    </tr>\n",
       "    <tr>\n",
       "      <th>std</th>\n",
       "      <td>0.060750</td>\n",
       "      <td>0.194652</td>\n",
       "      <td>0.368596</td>\n",
       "    </tr>\n",
       "    <tr>\n",
       "      <th>min</th>\n",
       "      <td>0.269258</td>\n",
       "      <td>0.732117</td>\n",
       "      <td>0.873131</td>\n",
       "    </tr>\n",
       "    <tr>\n",
       "      <th>25%</th>\n",
       "      <td>0.450648</td>\n",
       "      <td>0.962889</td>\n",
       "      <td>1.477368</td>\n",
       "    </tr>\n",
       "    <tr>\n",
       "      <th>50%</th>\n",
       "      <td>0.490487</td>\n",
       "      <td>1.070677</td>\n",
       "      <td>1.727709</td>\n",
       "    </tr>\n",
       "    <tr>\n",
       "      <th>75%</th>\n",
       "      <td>0.524708</td>\n",
       "      <td>1.184040</td>\n",
       "      <td>1.910431</td>\n",
       "    </tr>\n",
       "    <tr>\n",
       "      <th>max</th>\n",
       "      <td>0.632717</td>\n",
       "      <td>1.930789</td>\n",
       "      <td>2.991928</td>\n",
       "    </tr>\n",
       "  </tbody>\n",
       "</table>\n",
       "</div>"
      ],
      "text/plain": [
       "rental_rate        0.99        2.99        4.99\n",
       "count        108.000000  108.000000  108.000000\n",
       "mean           0.483548    1.088982    1.722008\n",
       "std            0.060750    0.194652    0.368596\n",
       "min            0.269258    0.732117    0.873131\n",
       "25%            0.450648    0.962889    1.477368\n",
       "50%            0.490487    1.070677    1.727709\n",
       "75%            0.524708    1.184040    1.910431\n",
       "max            0.632717    1.930789    2.991928"
      ]
     },
     "execution_count": 38,
     "metadata": {},
     "output_type": "execute_result"
    }
   ],
   "source": [
    "# summary of the average amount charged per day per rental of all countries by tiered rates\n",
    "agg_avg_amt.describe()"
   ]
  },
  {
   "cell_type": "code",
   "execution_count": 39,
   "metadata": {},
   "outputs": [
    {
     "data": {
      "image/png": "[encoded data removed]",
      "text/plain": [
       "<Figure size 360x360 with 4 Axes>"
      ]
     },
     "metadata": {},
     "output_type": "display_data"
    }
   ],
   "source": [
    "# visualize the above using histograms\n",
    "agg_avg_amt.hist(figsize=(5,5))\n",
    "plt.tight_layout()\n",
    "plt.show()"
   ]
  },
  {
   "cell_type": "markdown",
   "metadata": {},
   "source": [
    "Although the dataset is incomplete and limited, we can still see that the average amount being charged per day per rental of each tiered rate across all countries is approximately normally distributed. That means we can use the dataset to estimate the payment amount with variables like duration and rental rate for all countries.\n",
    "\n",
    "Let's take a closer look at the rentals at different tiered rates:\n",
    "\n",
    "1. For the rentals priced at `0.99`:\n",
    "    - They are being charged, on average, for about `0.48` per day in all 108 countries;\n",
    "    - More than 50% of these rentals are being charged from `0.45` to `0.52` per day;\n",
    "    - Around 95% of these rentals are being charged from `0.42` to `0.54`, as the standard deviation is `0.06`;\n",
    "    \n",
    "    \n",
    "2. For the rentals priced at `2.99`:\n",
    "    - They are being charged, on average, for about `1.09` per day in all 108 countries;\n",
    "    - More than 50% of these rentals are being charged from `0.96` to `1.18` per day;\n",
    "    - Around 95% of these rentals are being charged from `0.895` to `1.285` per day, as the standard deviation is `0.195`;\n",
    "    \n",
    "    \n",
    "3. For the rentals priced at `4.99`:\n",
    "\n",
    "    - They are being charged, on average, for about `1.72` per day in all 108 countries;\n",
    "    - More than 50% of these rentals are being charged from `1.48` to `1.91` per day;\n",
    "    - Around 95% of these rentals are being charged from `1.35` to `2.09` per day, as the standard deviation is `0.37`\n",
    "\n",
    "\n",
    "\n",
    "Now, I'd like to explore if the fee schedules (how the amount being calculated) are the same in all countries before proceeding to regression analysis using the whole dataset. "
   ]
  },
  {
   "cell_type": "code",
   "execution_count": 40,
   "metadata": {},
   "outputs": [
    {
     "data": {
      "text/html": [
       "<div>\n",
       "<style scoped>\n",
       "    .dataframe tbody tr th:only-of-type {\n",
       "        vertical-align: middle;\n",
       "    }\n",
       "\n",
       "    .dataframe tbody tr th {\n",
       "        vertical-align: top;\n",
       "    }\n",
       "\n",
       "    .dataframe thead th {\n",
       "        text-align: right;\n",
       "    }\n",
       "</style>\n",
       "<table border=\"1\" class=\"dataframe\">\n",
       "  <thead>\n",
       "    <tr style=\"text-align: right;\">\n",
       "      <th>rental_rate</th>\n",
       "      <th>0.99</th>\n",
       "      <th>2.99</th>\n",
       "      <th>4.99</th>\n",
       "    </tr>\n",
       "    <tr>\n",
       "      <th>country</th>\n",
       "      <th></th>\n",
       "      <th></th>\n",
       "      <th></th>\n",
       "    </tr>\n",
       "  </thead>\n",
       "  <tbody>\n",
       "    <tr>\n",
       "      <th>India</th>\n",
       "      <td>0.492239</td>\n",
       "      <td>1.112258</td>\n",
       "      <td>1.733005</td>\n",
       "    </tr>\n",
       "    <tr>\n",
       "      <th>China</th>\n",
       "      <td>0.479231</td>\n",
       "      <td>1.122912</td>\n",
       "      <td>1.889414</td>\n",
       "    </tr>\n",
       "    <tr>\n",
       "      <th>United States</th>\n",
       "      <td>0.495384</td>\n",
       "      <td>1.031713</td>\n",
       "      <td>1.599811</td>\n",
       "    </tr>\n",
       "    <tr>\n",
       "      <th>Japan</th>\n",
       "      <td>0.521637</td>\n",
       "      <td>1.139835</td>\n",
       "      <td>1.677991</td>\n",
       "    </tr>\n",
       "    <tr>\n",
       "      <th>Mexico</th>\n",
       "      <td>0.500297</td>\n",
       "      <td>1.177746</td>\n",
       "      <td>1.901805</td>\n",
       "    </tr>\n",
       "    <tr>\n",
       "      <th>Brazil</th>\n",
       "      <td>0.525572</td>\n",
       "      <td>0.987388</td>\n",
       "      <td>1.807974</td>\n",
       "    </tr>\n",
       "  </tbody>\n",
       "</table>\n",
       "</div>"
      ],
      "text/plain": [
       "rental_rate        0.99      2.99      4.99\n",
       "country                                    \n",
       "India          0.492239  1.112258  1.733005\n",
       "China          0.479231  1.122912  1.889414\n",
       "United States  0.495384  1.031713  1.599811\n",
       "Japan          0.521637  1.139835  1.677991\n",
       "Mexico         0.500297  1.177746  1.901805\n",
       "Brazil         0.525572  0.987388  1.807974"
      ]
     },
     "execution_count": 40,
     "metadata": {},
     "output_type": "execute_result"
    }
   ],
   "source": [
    "# Select the top 5% countries with most customers\n",
    "# the table shows the means of the average amount charged per day per rental in these countries by tiered rates \n",
    "agg_avg_amt.filter(items=top5perc, axis=0)"
   ]
  },
  {
   "cell_type": "code",
   "execution_count": 41,
   "metadata": {},
   "outputs": [
    {
     "data": {
      "image/png": "[encoded data removed]",
      "text/plain": [
       "<Figure size 426.175x360 with 1 Axes>"
      ]
     },
     "metadata": {},
     "output_type": "display_data"
    }
   ],
   "source": [
    "# Visualize the distributions of the average amount charged per day per rental in these countries\n",
    "sns.catplot(kind='box', x='country', y='avg_amt_day', hue='rental_rate',\n",
    "            data = rental_paid.query('country in @top5perc')\n",
    "                   [['country', 'rental_rate', 'avg_amt_day']]\n",
    "           )\n",
    "plt.show()"
   ]
  },
  {
   "cell_type": "markdown",
   "metadata": {},
   "source": [
    "As shown in the plot, the means of the average amount charged per day are almost the same among the selected countries for all tiered rental rates. \n",
    "\n",
    "However, we can identify some abnormality as well:\n",
    "\n",
    "1. In all these countries, the higher the rental rate, the more varied the average amount being charged per day; \n",
    "2. All of the countries are found with high outliers that can be more than double of the max value in box plot, which is $Q_3 + 1.5(IQR)$;\n",
    "3. Also, for the rentals priced at `2.99` and `4.99`, China and Mexico customers are being charged for much more varied amount per day.\n",
    "\n",
    "I think part of the reason why there are high outliers and unequal variability is due to the fact that this is a synthesized dataset. If this is in real life, as any analyst, we can talk to the stores to find out their pricing policy. For example, did they have promotions in some countries and/or on some dates? Were some rentals charged for damage penalty or late fee? If some customers have used coupons and so on?\n",
    "\n",
    "Since we can't find those information from the data we have, I would just continue as is assuming all countries follow the same fee schedules and no other factors shall be included for consideration.\n",
    "\n",
    "\n",
    "### Exploring relationships between variables\n",
    "\n",
    "The reason I created the column that is for the \"average amount charged per day per rental\" is because I reason that amount is associated with rental rate and duration. As I progress with the findings above, I think it's sensible to check if rental months have impact on the amount charged as well."
   ]
  },
  {
   "cell_type": "code",
   "execution_count": 42,
   "metadata": {},
   "outputs": [
    {
     "data": {
      "image/png": "[encoded data removed]",
      "text/plain": [
       "<Figure size 648x648 with 9 Axes>"
      ]
     },
     "metadata": {},
     "output_type": "display_data"
    }
   ],
   "source": [
    "# Explore linear relationship between duration and payment amount by tiered-rates in different months\n",
    "df = rental_paid.loc[:, ['amount', 'rental_rate', 'duration', 'rental_month']]\n",
    "g = sns.FacetGrid(df, row='rental_month', col='rental_rate', margin_titles=True, height=3)\n",
    "g.map(sns.regplot,'duration', 'amount')\n",
    "plt.show()"
   ]
  },
  {
   "cell_type": "markdown",
   "metadata": {},
   "source": [
    "Here's what I found:\n",
    "- There is positive linear relationship between duration and amount in all settings;\n",
    "- The higher the rental rate, the higher the payment amount;\n",
    "- No obvious differences exist across different months for each tiered rate, that means, I can leave out rental month as an independent variable in regression analysis.\n",
    "\n",
    "\n",
    "### Preparing variables to fit the Model\n",
    "\n",
    "Now, we can prepare the data to fit the regression model."
   ]
  },
  {
   "cell_type": "code",
   "execution_count": 43,
   "metadata": {},
   "outputs": [],
   "source": [
    "# handle categorical variable (make it tidy data)\n",
    "rates = pd.get_dummies(rental_paid['rental_rate'], drop_first=True)\n",
    "\n",
    "# combine the categorical variable with other variables\n",
    "rental_paid = pd.concat([rental_paid[['amount', 'duration']], rates], axis=1)"
   ]
  },
  {
   "cell_type": "code",
   "execution_count": 44,
   "metadata": {},
   "outputs": [
    {
     "data": {
      "text/plain": [
       "amount       0\n",
       "duration     0\n",
       "rate=2.99    0\n",
       "rate=4.99    0\n",
       "dtype: int64"
      ]
     },
     "execution_count": 44,
     "metadata": {},
     "output_type": "execute_result"
    }
   ],
   "source": [
    "# rename columns and again, make sure no missing data\n",
    "rental_paid.columns = ['amount', 'duration', 'rate=2.99', 'rate=4.99']\n",
    "rental_paid.isna().sum()"
   ]
  },
  {
   "cell_type": "markdown",
   "metadata": {},
   "source": [
    "### Splitting data\n",
    "\n",
    "And then, we need to split the training and testing data. "
   ]
  },
  {
   "cell_type": "code",
   "execution_count": 45,
   "metadata": {},
   "outputs": [],
   "source": [
    "from sklearn.model_selection import train_test_split\n",
    "from sklearn.linear_model import LinearRegression\n",
    "\n",
    "# splitting the data\n",
    "x = rental_paid[['duration', 'rate=2.99', 'rate=4.99']]\n",
    "y = rental_paid['amount']\n",
    "x_train, x_test, y_train, y_test = train_test_split(x, y, test_size=0.7, random_state=42)"
   ]
  },
  {
   "cell_type": "markdown",
   "metadata": {},
   "source": [
    "### Fitting the model"
   ]
  },
  {
   "cell_type": "code",
   "execution_count": 46,
   "metadata": {},
   "outputs": [
    {
     "data": {
      "text/html": [
       "<style type=\"text/css\">\n",
       "</style>\n",
       "<table id=\"T_93ab2_\">\n",
       "  <thead>\n",
       "    <tr>\n",
       "      <th class=\"blank level0\" >&nbsp;</th>\n",
       "      <th class=\"col_heading level0 col0\" >0</th>\n",
       "    </tr>\n",
       "  </thead>\n",
       "  <tbody>\n",
       "    <tr>\n",
       "      <th id=\"T_93ab2_level0_row0\" class=\"row_heading level0 row0\" >duration</th>\n",
       "      <td id=\"T_93ab2_row0_col0\" class=\"data row0 col0\" >0.51</td>\n",
       "    </tr>\n",
       "    <tr>\n",
       "      <th id=\"T_93ab2_level0_row1\" class=\"row_heading level0 row1\" >rate=2.99</th>\n",
       "      <td id=\"T_93ab2_row1_col0\" class=\"data row1 col0\" >1.83</td>\n",
       "    </tr>\n",
       "    <tr>\n",
       "      <th id=\"T_93ab2_level0_row2\" class=\"row_heading level0 row2\" >rate=4.99</th>\n",
       "      <td id=\"T_93ab2_row2_col0\" class=\"data row2 col0\" >3.93</td>\n",
       "    </tr>\n",
       "  </tbody>\n",
       "</table>\n"
      ],
      "text/plain": [
       "<pandas.io.formats.style.Styler at 0x7fa27d93c2b0>"
      ]
     },
     "execution_count": 46,
     "metadata": {},
     "output_type": "execute_result"
    }
   ],
   "source": [
    "model = LinearRegression()\n",
    "model.fit(x_train, y_train)\n",
    "\n",
    "# print fitted regression coefficients\n",
    "pd.DataFrame(model.coef_, model.feature_names_in_).style.format('{:.2f}')"
   ]
  },
  {
   "cell_type": "code",
   "execution_count": 47,
   "metadata": {},
   "outputs": [
    {
     "data": {
      "text/plain": [
       "'-0.20'"
      ]
     },
     "execution_count": 47,
     "metadata": {},
     "output_type": "execute_result"
    }
   ],
   "source": [
    "# print fitted regression intercept\n",
    "f'{model.intercept_:.2f}'"
   ]
  },
  {
   "cell_type": "code",
   "execution_count": 48,
   "metadata": {},
   "outputs": [
    {
     "name": "stdout",
     "output_type": "stream",
     "text": [
      "r-square score is: 0.78\n"
     ]
    }
   ],
   "source": [
    "from sklearn.metrics import r2_score\n",
    "from sklearn.metrics import mean_squared_error\n",
    "\n",
    "# Use x_test data to estimate y predictions\n",
    "y_prediction = model.predict(x_test)\n",
    "\n",
    "# Compute r^2 score by comparing the sum of squared differences between y_test and y_prediction\n",
    "score = r2_score(y_test, y_prediction)\n",
    "print(f'r-square score is: {score:.2f}')"
   ]
  },
  {
   "cell_type": "markdown",
   "metadata": {},
   "source": [
    "##### Conclusion\n",
    "\n",
    "The $R^2$ score is $0.78$, pretty decent, we can use this model to estimate the outstanding amount for the unpaid rentals as follows:\n",
    "\n",
    "\n",
    "$$\\hat{\\text{amount}} = -0.2 + 0.51 \\cdot \\text{duration} + 1.83 \\cdot \\text{bool(rate=2.99)} + 4.99 \\cdot \\text{bool(rate=4.99)}$$\n",
    "\n",
    "Note that the main goal of this project is not to learn how to develoop regression model, therefore, I didn't evaluate the model accuracy further by checking if the dataset meet all assumptions for linear regression, for example, the properties of normality and equal variance of $y$ at any given $x$ using methods like plotting and analyzing residuals. "
   ]
  },
  {
   "cell_type": "markdown",
   "metadata": {},
   "source": [
    "## Calculating the Outstanding Balances using SQL\n",
    "\n",
    "\n",
    "Although I can use the above fitted model to estimate the outstanding amount, as noted, the purpose of this project is to learn SQL. It'd be repeating what I have done previously if I just extract the unpaid rental records to apply the model for price estimation.\n",
    "\n",
    "Therefore, I'd create another use case to hone my SQL skills. \n",
    "\n",
    "Let's say, the stores replied to me in how they calculate the payment amount, which is based on the following fee policy:\n",
    "\n",
    "- A flat fee is applied equivalent to the amount of tiered rental rate for the first 3 days of a rental;\n",
    "\n",
    "- For the rental returned after the first 3 days, the customer will be charged for a discounted daily rate from the 4th day onwards, as follows:\n",
    "    - For rental rate at `0.99`, the daily discounted rate will be `0.7` from the 4th day onwards;\n",
    "    - For rental rate at `2.99`, the daily discounted rate will be `2.0` from the 4th day onwards;\n",
    "    - For rental rate at `4.99`, the daily discounted rate will be `3.5` from the 4th day onwards.\n",
    "\n",
    "\n",
    "- A day is measured using a 24-hours window and the customer can enjoy a 60-minute grace period; for example, a rental is borrowed at `2015-06-02 08:15:00`:\n",
    "    - if the customer returns the DVD at `2015-06-05 08:15:00`, the whole period counts towards as 3 days; \n",
    "    - if the customer returns the DVD at `2015-06-05 09:15:00`, the whole period still counts towards as 3 days with by the reason of grace period;\n",
    "    - if the customer returns the DVD at `2015-06-05 09:16:00`, the whold period counts towards as 4 days and the customer will be charged with a flat fee for the first 3 days plus the discounted daily rate of the 4th day;\n",
    "    - if the customer returns the DVD at `2015-06-06 09:15:00`, the whold period still counts towards as 4 days, because the customer can enjoy the 60 minute grace period extended from the last hour of the last day.    "
   ]
  },
  {
   "cell_type": "markdown",
   "metadata": {},
   "source": [
    "##### Calculate duration in accordance with the grace period policy"
   ]
  },
  {
   "cell_type": "code",
   "execution_count": 49,
   "metadata": {},
   "outputs": [
    {
     "name": "stdout",
     "output_type": "stream",
     "text": [
      " * postgresql://localhost/dvdrental\n",
      "5 rows affected.\n"
     ]
    },
    {
     "data": {
      "text/html": [
       "<table>\n",
       "    <tr>\n",
       "        <th>rental_id</th>\n",
       "        <th>inventory_id</th>\n",
       "        <th>duration_raw</th>\n",
       "        <th>duration_fixed</th>\n",
       "    </tr>\n",
       "    <tr>\n",
       "        <td>2</td>\n",
       "        <td>1525</td>\n",
       "        <td>3 days, 20:46:00</td>\n",
       "        <td>4.0</td>\n",
       "    </tr>\n",
       "    <tr>\n",
       "        <td>3</td>\n",
       "        <td>1711</td>\n",
       "        <td>7 days, 23:09:00</td>\n",
       "        <td>8.0</td>\n",
       "    </tr>\n",
       "    <tr>\n",
       "        <td>4</td>\n",
       "        <td>2452</td>\n",
       "        <td>9 days, 2:39:00</td>\n",
       "        <td>10.0</td>\n",
       "    </tr>\n",
       "    <tr>\n",
       "        <td>5</td>\n",
       "        <td>2079</td>\n",
       "        <td>8 days, 5:28:00</td>\n",
       "        <td>9.0</td>\n",
       "    </tr>\n",
       "    <tr>\n",
       "        <td>6</td>\n",
       "        <td>2792</td>\n",
       "        <td>2 days, 2:24:00</td>\n",
       "        <td>3.0</td>\n",
       "    </tr>\n",
       "</table>"
      ],
      "text/plain": [
       "[(2, 1525, datetime.timedelta(days=3, seconds=74760), 4.0),\n",
       " (3, 1711, datetime.timedelta(days=7, seconds=83340), 8.0),\n",
       " (4, 2452, datetime.timedelta(days=9, seconds=9540), 10.0),\n",
       " (5, 2079, datetime.timedelta(days=8, seconds=19680), 9.0),\n",
       " (6, 2792, datetime.timedelta(days=2, seconds=8640), 3.0)]"
      ]
     },
     "execution_count": 49,
     "metadata": {},
     "output_type": "execute_result"
    }
   ],
   "source": [
    "%%sql \n",
    "SELECT rental_id, inventory_id,\n",
    "       DATE_TRUNC('minute', return_date-rental_date) as duration_raw,\n",
    "        CASE\n",
    "            WHEN \n",
    "                 DATE_TRUNC('minute', return_date-rental_date)\n",
    "                 -DATE_TRUNC('day', return_date-rental_date)>'01:00:00'::time\n",
    "                 THEN EXTRACT('epoch' from DATE_TRUNC('day', return_date-rental_date) + INTERVAL '1 day')/3600/24\n",
    "            WHEN \n",
    "                 DATE_TRUNC('minute', return_date-rental_date)\n",
    "                 -DATE_TRUNC('day', return_date-rental_date)<='01:00:00'::time\n",
    "                 THEN EXTRACT('epoch' from DATE_TRUNC('day', return_date-rental_date))/3600/24\n",
    "        END as duration_fixed\n",
    "from rental\n",
    "*---change the comparison operator > or <= in where clause for testing---*\n",
    "where DATE_TRUNC('minute', return_date-rental_date)-DATE_TRUNC('day', return_date-rental_date)>'01:00:00'::time\n",
    "LIMIT 5"
   ]
  },
  {
   "cell_type": "markdown",
   "metadata": {},
   "source": [
    "###### Create  `pastdue_rentals` table to store the data of unpaid rental "
   ]
  },
  {
   "cell_type": "code",
   "execution_count": 50,
   "metadata": {},
   "outputs": [
    {
     "name": "stdout",
     "output_type": "stream",
     "text": [
      " * postgresql://localhost/dvdrental\n",
      "Done.\n",
      "1452 rows affected.\n"
     ]
    },
    {
     "data": {
      "text/plain": [
       "[]"
      ]
     },
     "execution_count": 50,
     "metadata": {},
     "output_type": "execute_result"
    }
   ],
   "source": [
    "%%sql\n",
    "\n",
    "---delete the temp table if already exists when the code is reused---\n",
    "DROP TABLE IF EXISTS pastdue_rentals;\n",
    "\n",
    "---calculate rental duration according to the fee policy---\n",
    "WITH t1 AS(\n",
    "SELECT rental_id, inventory_id, rental_date, return_date,\n",
    "        CASE\n",
    "            WHEN \n",
    "                 DATE_TRUNC('minute', return_date-rental_date)\n",
    "                 -DATE_TRUNC('day', return_date-rental_date)>'01:00:00'::time\n",
    "                THEN EXTRACT('epoch' from DATE_TRUNC('day', return_date-rental_date) + INTERVAL '1 day')/3600/24\n",
    "            WHEN \n",
    "                 DATE_TRUNC('minute', return_date-rental_date)\n",
    "                 -DATE_TRUNC('day', return_date-rental_date)<='01:00:00'::time\n",
    "                THEN EXTRACT('epoch' from DATE_TRUNC('day', return_date-rental_date))/3600/24\n",
    "        END as duration\n",
    "from rental\n",
    "WHERE rental_id in (SELECT rental_id FROM rental EXCEPT SELECT rental_id FROM payment)\n",
    "),\n",
    "\n",
    "---Add the column of discounted rate---\n",
    "t2 AS(\n",
    "SELECT rental_id, f.film_id, rental_rate, duration, rental_date, return_date,\n",
    "       CASE\n",
    "            WHEN rental_rate = 0.99 THEN 0.7\n",
    "            WHEN rental_rate = 2.99 THEN 2.0\n",
    "            WHEN rental_rate = 4.99 THEN 3.5\n",
    "       END as discounted_rate\n",
    "FROM t1\n",
    "JOIN inventory i ON i.inventory_id = t1.inventory_id\n",
    "JOIN film f ON f.film_id = i.film_id)\n",
    "\n",
    "\n",
    "---calculate amount past due per rental and save the result into the temp table in db---\n",
    "SELECT t2.*, cus.customer_id, city, country, store_id,\n",
    "       CASE\n",
    "            WHEN duration-3 <=0 THEN round((rental_rate)::numeric, 2)\n",
    "            WHEN duration-3 >0 THEN round((rental_rate+discounted_rate * (duration-3))::numeric, 2)\n",
    "        END as past_due\n",
    "into pastdue_rentals\n",
    "from t2\n",
    "JOIN rental r ON r.rental_id = t2.rental_id\n",
    "JOIN customer cus ON cus.customer_id = r.customer_id\n",
    "JOIN address a ON a.address_id = cus.address_id\n",
    "JOIN city c ON c.city_id = a.city_id\n",
    "JOIN country co ON co.country_id = c.country_id"
   ]
  },
  {
   "cell_type": "markdown",
   "metadata": {},
   "source": [
    "# Analyzing the Outstanding Balance\n",
    "\n",
    "\n",
    "Now, with the new table `pastdue_rentals`, we can retrieve outstanding balances per rental to summarize the following:\n",
    "- amount owed by customer, country\n",
    "- amount owed by month\n",
    "- amount owed by store\n",
    "\n",
    "\n",
    "## The overview"
   ]
  },
  {
   "cell_type": "code",
   "execution_count": 51,
   "metadata": {},
   "outputs": [
    {
     "name": "stdout",
     "output_type": "stream",
     "text": [
      " * postgresql://localhost/dvdrental\n",
      "1452 rows affected.\n",
      "Returning data to local variable r\n"
     ]
    }
   ],
   "source": [
    "%sql r << SELECT * from pastdue_rentals"
   ]
  },
  {
   "cell_type": "code",
   "execution_count": 52,
   "metadata": {},
   "outputs": [
    {
     "data": {
      "text/html": [
       "<div>\n",
       "<style scoped>\n",
       "    .dataframe tbody tr th:only-of-type {\n",
       "        vertical-align: middle;\n",
       "    }\n",
       "\n",
       "    .dataframe tbody tr th {\n",
       "        vertical-align: top;\n",
       "    }\n",
       "\n",
       "    .dataframe thead th {\n",
       "        text-align: right;\n",
       "    }\n",
       "</style>\n",
       "<table border=\"1\" class=\"dataframe\">\n",
       "  <thead>\n",
       "    <tr style=\"text-align: right;\">\n",
       "      <th></th>\n",
       "      <th>rental_id</th>\n",
       "      <th>film_id</th>\n",
       "      <th>rental_rate</th>\n",
       "      <th>duration</th>\n",
       "      <th>rental_date</th>\n",
       "      <th>return_date</th>\n",
       "      <th>discounted_rate</th>\n",
       "      <th>customer_id</th>\n",
       "      <th>city</th>\n",
       "      <th>country</th>\n",
       "      <th>store_id</th>\n",
       "      <th>past_due</th>\n",
       "    </tr>\n",
       "  </thead>\n",
       "  <tbody>\n",
       "    <tr>\n",
       "      <th>0</th>\n",
       "      <td>1750</td>\n",
       "      <td>245</td>\n",
       "      <td>0.99</td>\n",
       "      <td>10.0</td>\n",
       "      <td>2005-06</td>\n",
       "      <td>2005-06-25 21:51:36</td>\n",
       "      <td>0.7</td>\n",
       "      <td>321</td>\n",
       "      <td>Birgunj</td>\n",
       "      <td>Nepal</td>\n",
       "      <td>1</td>\n",
       "      <td>5.89</td>\n",
       "    </tr>\n",
       "    <tr>\n",
       "      <th>1</th>\n",
       "      <td>176</td>\n",
       "      <td>187</td>\n",
       "      <td>2.99</td>\n",
       "      <td>6.0</td>\n",
       "      <td>2005-05</td>\n",
       "      <td>2005-06-01 02:36:39</td>\n",
       "      <td>2.0</td>\n",
       "      <td>250</td>\n",
       "      <td>Oyo</td>\n",
       "      <td>Nigeria</td>\n",
       "      <td>2</td>\n",
       "      <td>8.99</td>\n",
       "    </tr>\n",
       "    <tr>\n",
       "      <th>2</th>\n",
       "      <td>576</td>\n",
       "      <td>407</td>\n",
       "      <td>0.99</td>\n",
       "      <td>8.0</td>\n",
       "      <td>2005-05</td>\n",
       "      <td>2005-06-04 13:15:10</td>\n",
       "      <td>0.7</td>\n",
       "      <td>588</td>\n",
       "      <td>Weifang</td>\n",
       "      <td>China</td>\n",
       "      <td>1</td>\n",
       "      <td>4.49</td>\n",
       "    </tr>\n",
       "    <tr>\n",
       "      <th>3</th>\n",
       "      <td>292</td>\n",
       "      <td>927</td>\n",
       "      <td>2.99</td>\n",
       "      <td>10.0</td>\n",
       "      <td>2005-05</td>\n",
       "      <td>2005-06-05 00:58:12</td>\n",
       "      <td>2.0</td>\n",
       "      <td>515</td>\n",
       "      <td>Coquimbo</td>\n",
       "      <td>Chile</td>\n",
       "      <td>1</td>\n",
       "      <td>16.99</td>\n",
       "    </tr>\n",
       "    <tr>\n",
       "      <th>4</th>\n",
       "      <td>764</td>\n",
       "      <td>239</td>\n",
       "      <td>4.99</td>\n",
       "      <td>3.0</td>\n",
       "      <td>2005-05</td>\n",
       "      <td>2005-05-31 16:47:35</td>\n",
       "      <td>3.5</td>\n",
       "      <td>149</td>\n",
       "      <td>Brockton</td>\n",
       "      <td>United States</td>\n",
       "      <td>1</td>\n",
       "      <td>4.99</td>\n",
       "    </tr>\n",
       "  </tbody>\n",
       "</table>\n",
       "</div>"
      ],
      "text/plain": [
       "   rental_id  film_id rental_rate  duration rental_date         return_date  \\\n",
       "0       1750      245        0.99      10.0     2005-06 2005-06-25 21:51:36   \n",
       "1        176      187        2.99       6.0     2005-05 2005-06-01 02:36:39   \n",
       "2        576      407        0.99       8.0     2005-05 2005-06-04 13:15:10   \n",
       "3        292      927        2.99      10.0     2005-05 2005-06-05 00:58:12   \n",
       "4        764      239        4.99       3.0     2005-05 2005-05-31 16:47:35   \n",
       "\n",
       "  discounted_rate  customer_id      city        country  store_id  past_due  \n",
       "0             0.7          321   Birgunj          Nepal         1      5.89  \n",
       "1             2.0          250       Oyo        Nigeria         2      8.99  \n",
       "2             0.7          588   Weifang          China         1      4.49  \n",
       "3             2.0          515  Coquimbo          Chile         1     16.99  \n",
       "4             3.5          149  Brockton  United States         1      4.99  "
      ]
     },
     "execution_count": 52,
     "metadata": {},
     "output_type": "execute_result"
    }
   ],
   "source": [
    "df = r.DataFrame()\n",
    "\n",
    "# convert dtype for columns as objects\n",
    "df['past_due'] = df['past_due'].astype(float)\n",
    "df['country'] = df['country'].astype(str)\n",
    "\n",
    "# convert dates to months so we can aggregate data by month\n",
    "df['rental_date'] = df['rental_date'].dt.to_period('M')\n",
    "\n",
    "df.head()"
   ]
  },
  {
   "cell_type": "code",
   "execution_count": 53,
   "metadata": {},
   "outputs": [
    {
     "data": {
      "text/plain": [
       "11939.679999999998"
      ]
     },
     "execution_count": 53,
     "metadata": {},
     "output_type": "execute_result"
    }
   ],
   "source": [
    "# Total outstanding balance\n",
    "df['past_due'].sum()"
   ]
  },
  {
   "cell_type": "code",
   "execution_count": 54,
   "metadata": {},
   "outputs": [
    {
     "data": {
      "text/plain": [
       "530"
      ]
     },
     "execution_count": 54,
     "metadata": {},
     "output_type": "execute_result"
    }
   ],
   "source": [
    "# How many customers owe us money\n",
    "len(df['customer_id'].unique())"
   ]
  },
  {
   "cell_type": "code",
   "execution_count": 55,
   "metadata": {},
   "outputs": [
    {
     "data": {
      "text/html": [
       "<div>\n",
       "<style scoped>\n",
       "    .dataframe tbody tr th:only-of-type {\n",
       "        vertical-align: middle;\n",
       "    }\n",
       "\n",
       "    .dataframe tbody tr th {\n",
       "        vertical-align: top;\n",
       "    }\n",
       "\n",
       "    .dataframe thead th {\n",
       "        text-align: right;\n",
       "    }\n",
       "</style>\n",
       "<table border=\"1\" class=\"dataframe\">\n",
       "  <thead>\n",
       "    <tr style=\"text-align: right;\">\n",
       "      <th></th>\n",
       "      <th>count</th>\n",
       "      <th>mean</th>\n",
       "      <th>std</th>\n",
       "      <th>min</th>\n",
       "      <th>25%</th>\n",
       "      <th>50%</th>\n",
       "      <th>75%</th>\n",
       "      <th>max</th>\n",
       "    </tr>\n",
       "  </thead>\n",
       "  <tbody>\n",
       "    <tr>\n",
       "      <th>past_due</th>\n",
       "      <td>1452.0</td>\n",
       "      <td>8.22292</td>\n",
       "      <td>7.116617</td>\n",
       "      <td>0.99</td>\n",
       "      <td>2.99</td>\n",
       "      <td>4.99</td>\n",
       "      <td>11.99</td>\n",
       "      <td>29.49</td>\n",
       "    </tr>\n",
       "  </tbody>\n",
       "</table>\n",
       "</div>"
      ],
      "text/plain": [
       "           count     mean       std   min   25%   50%    75%    max\n",
       "past_due  1452.0  8.22292  7.116617  0.99  2.99  4.99  11.99  29.49"
      ]
     },
     "execution_count": 55,
     "metadata": {},
     "output_type": "execute_result"
    }
   ],
   "source": [
    "# Summary of outstanding balance of all rental\n",
    "df['past_due'].describe().to_frame().transpose()"
   ]
  },
  {
   "cell_type": "code",
   "execution_count": 56,
   "metadata": {},
   "outputs": [
    {
     "data": {
      "image/png": "[encoded data removed]",
      "text/plain": [
       "<Figure size 432x288 with 1 Axes>"
      ]
     },
     "metadata": {},
     "output_type": "display_data"
    }
   ],
   "source": [
    "sns.histplot(df['past_due'])\n",
    "plt.show()"
   ]
  },
  {
   "cell_type": "markdown",
   "metadata": {},
   "source": [
    "##### Conclusion\n",
    "\n",
    "There are totally 1452 unpaid rentals involving 530 unique customers, amounted to $\\$11,939.68$ outstanding balance. The average pastdue balance per rental is around $\\$7.64$ and more than 50% of the unpaid rentals valued between $\\$2.99$ and $\\$11.99$. By looking at the distribution, which is right skewed with a long right tail, we know that most of the pastdue charges are of small value. "
   ]
  },
  {
   "cell_type": "markdown",
   "metadata": {},
   "source": [
    "## Which store has more challenges in collecting payment"
   ]
  },
  {
   "cell_type": "code",
   "execution_count": 57,
   "metadata": {},
   "outputs": [
    {
     "name": "stdout",
     "output_type": "stream",
     "text": [
      " * postgresql://localhost/dvdrental\n",
      "2 rows affected.\n"
     ]
    },
    {
     "data": {
      "text/html": [
       "<table>\n",
       "    <tr>\n",
       "        <th>store_id</th>\n",
       "        <th>num_of_country</th>\n",
       "        <th>num_of_rental</th>\n",
       "        <th>num_of_customer</th>\n",
       "        <th>past_due_total</th>\n",
       "    </tr>\n",
       "    <tr>\n",
       "        <td>1</td>\n",
       "        <td>74</td>\n",
       "        <td>790</td>\n",
       "        <td>289</td>\n",
       "        <td>6767.00</td>\n",
       "    </tr>\n",
       "    <tr>\n",
       "        <td>2</td>\n",
       "        <td>77</td>\n",
       "        <td>662</td>\n",
       "        <td>241</td>\n",
       "        <td>5172.68</td>\n",
       "    </tr>\n",
       "</table>"
      ],
      "text/plain": [
       "[(1, 74, 790, 289, Decimal('6767.00')), (2, 77, 662, 241, Decimal('5172.68'))]"
      ]
     },
     "execution_count": 57,
     "metadata": {},
     "output_type": "execute_result"
    }
   ],
   "source": [
    "%%sql\n",
    "SELECT store_id,\n",
    "       count(distinct(country)) as num_of_country,\n",
    "       count(rental_id) as num_of_rental,\n",
    "       count(distinct(customer_id)) as num_of_customer,\n",
    "       sum(past_due) as past_due_total\n",
    "FROM pastdue_rentals\n",
    "GROUP BY store_id"
   ]
  },
  {
   "cell_type": "markdown",
   "metadata": {},
   "source": [
    "Now, I'll take a closer look at the outstanding balance per rental by store:"
   ]
  },
  {
   "cell_type": "code",
   "execution_count": 58,
   "metadata": {},
   "outputs": [
    {
     "name": "stdout",
     "output_type": "stream",
     "text": [
      " * postgresql://localhost/dvdrental\n",
      "1452 rows affected.\n",
      "Returning data to local variable r\n"
     ]
    }
   ],
   "source": [
    "%sql r << SELECT * from pastdue_rentals"
   ]
  },
  {
   "cell_type": "code",
   "execution_count": 59,
   "metadata": {},
   "outputs": [
    {
     "data": {
      "text/html": [
       "<div>\n",
       "<style scoped>\n",
       "    .dataframe tbody tr th:only-of-type {\n",
       "        vertical-align: middle;\n",
       "    }\n",
       "\n",
       "    .dataframe tbody tr th {\n",
       "        vertical-align: top;\n",
       "    }\n",
       "\n",
       "    .dataframe thead th {\n",
       "        text-align: right;\n",
       "    }\n",
       "</style>\n",
       "<table border=\"1\" class=\"dataframe\">\n",
       "  <thead>\n",
       "    <tr style=\"text-align: right;\">\n",
       "      <th></th>\n",
       "      <th>count</th>\n",
       "      <th>mean</th>\n",
       "      <th>std</th>\n",
       "      <th>min</th>\n",
       "      <th>25%</th>\n",
       "      <th>50%</th>\n",
       "      <th>75%</th>\n",
       "      <th>max</th>\n",
       "    </tr>\n",
       "    <tr>\n",
       "      <th>store_id</th>\n",
       "      <th></th>\n",
       "      <th></th>\n",
       "      <th></th>\n",
       "      <th></th>\n",
       "      <th></th>\n",
       "      <th></th>\n",
       "      <th></th>\n",
       "      <th></th>\n",
       "    </tr>\n",
       "  </thead>\n",
       "  <tbody>\n",
       "    <tr>\n",
       "      <th>1</th>\n",
       "      <td>790.0</td>\n",
       "      <td>8.565823</td>\n",
       "      <td>7.433979</td>\n",
       "      <td>0.99</td>\n",
       "      <td>2.99</td>\n",
       "      <td>4.99</td>\n",
       "      <td>12.99</td>\n",
       "      <td>29.49</td>\n",
       "    </tr>\n",
       "    <tr>\n",
       "      <th>2</th>\n",
       "      <td>662.0</td>\n",
       "      <td>7.813716</td>\n",
       "      <td>6.700940</td>\n",
       "      <td>0.99</td>\n",
       "      <td>2.99</td>\n",
       "      <td>4.99</td>\n",
       "      <td>10.99</td>\n",
       "      <td>29.49</td>\n",
       "    </tr>\n",
       "  </tbody>\n",
       "</table>\n",
       "</div>"
      ],
      "text/plain": [
       "          count      mean       std   min   25%   50%    75%    max\n",
       "store_id                                                           \n",
       "1         790.0  8.565823  7.433979  0.99  2.99  4.99  12.99  29.49\n",
       "2         662.0  7.813716  6.700940  0.99  2.99  4.99  10.99  29.49"
      ]
     },
     "execution_count": 59,
     "metadata": {},
     "output_type": "execute_result"
    }
   ],
   "source": [
    "df = r.DataFrame()\n",
    "\n",
    "# convert data types\n",
    "df['past_due'] = df['past_due'].astype(float)\n",
    "\n",
    "# summary of pastdue amounts per rental by store\n",
    "df.groupby('store_id')['past_due'].describe()"
   ]
  },
  {
   "cell_type": "code",
   "execution_count": 60,
   "metadata": {},
   "outputs": [
    {
     "data": {
      "image/png": "[encoded data removed]",
      "text/plain": [
       "<Figure size 360x360 with 1 Axes>"
      ]
     },
     "metadata": {},
     "output_type": "display_data"
    }
   ],
   "source": [
    "# Visualize the above summary\n",
    "sns.catplot(kind='box', x='store_id', y='past_due', data=df)\n",
    "plt.show()"
   ]
  },
  {
   "cell_type": "markdown",
   "metadata": {},
   "source": [
    "##### Conclusion\n",
    "\n",
    "Overall speaking, Store 1 has the highest outstanding balance amounted to `$6,767`, this total comprises `790` unpaid rentals made by `289` unique customers in `74` countries. They are in face of more challenges in collecting the oustanding balances, as Store 2 has less unpaid rentals and less customers that owe us money to deal with.\n",
    "\n",
    "The pastdue amount per rental, on average, is around `$8.57` and `$7.81` in Store 1 and Store 2 respectively; More than `50%` of the unpaid rentals in Store 1 are valued between `2.99` and `12.99`; More than `50%` of the unpaid rentals in Store 2 are valued between `2.99` and `10.99`. \n",
    "\n",
    "Both store distributions are right skewed, that means most of the unpaid rentals are of small values in both stores."
   ]
  },
  {
   "cell_type": "markdown",
   "metadata": {},
   "source": [
    "## Where are the customers that owe us most money\n",
    "\n",
    "\n",
    "In order to devise a cost effective payment collection plan, we'd like to focus on the countries with the highest outstanding balance first. Let's see which 5 countries have the highest outstanding balance and the number of customers involved."
   ]
  },
  {
   "cell_type": "code",
   "execution_count": 61,
   "metadata": {},
   "outputs": [
    {
     "name": "stdout",
     "output_type": "stream",
     "text": [
      " * postgresql://localhost/dvdrental\n",
      "5 rows affected.\n"
     ]
    },
    {
     "data": {
      "text/html": [
       "<table>\n",
       "    <tr>\n",
       "        <th>country</th>\n",
       "        <th>past_due_total</th>\n",
       "        <th>num_of_customer</th>\n",
       "    </tr>\n",
       "    <tr>\n",
       "        <td>China</td>\n",
       "        <td>1118.10</td>\n",
       "        <td>50</td>\n",
       "    </tr>\n",
       "    <tr>\n",
       "        <td>India</td>\n",
       "        <td>1081.49</td>\n",
       "        <td>52</td>\n",
       "    </tr>\n",
       "    <tr>\n",
       "        <td>United States</td>\n",
       "        <td>845.81</td>\n",
       "        <td>32</td>\n",
       "    </tr>\n",
       "    <tr>\n",
       "        <td>Japan</td>\n",
       "        <td>675.63</td>\n",
       "        <td>28</td>\n",
       "    </tr>\n",
       "    <tr>\n",
       "        <td>Mexico</td>\n",
       "        <td>643.52</td>\n",
       "        <td>28</td>\n",
       "    </tr>\n",
       "</table>"
      ],
      "text/plain": [
       "[('China', Decimal('1118.10'), 50),\n",
       " ('India', Decimal('1081.49'), 52),\n",
       " ('United States', Decimal('845.81'), 32),\n",
       " ('Japan', Decimal('675.63'), 28),\n",
       " ('Mexico', Decimal('643.52'), 28)]"
      ]
     },
     "execution_count": 61,
     "metadata": {},
     "output_type": "execute_result"
    }
   ],
   "source": [
    "%%sql\n",
    "SELECT country,\n",
    "       sum(past_due) as past_due_total,\n",
    "       count(distinct(customer_id)) as num_of_customer\n",
    "FROM pastdue_rentals\n",
    "GROUP BY country\n",
    "ORDER BY past_due_total DESC, num_of_customer DESC\n",
    "LIMIT 5"
   ]
  },
  {
   "cell_type": "markdown",
   "metadata": {},
   "source": [
    "We will now take a closer look at the amount owed by each customer in these countries;"
   ]
  },
  {
   "cell_type": "code",
   "execution_count": 62,
   "metadata": {},
   "outputs": [
    {
     "name": "stdout",
     "output_type": "stream",
     "text": [
      " * postgresql://localhost/dvdrental\n",
      "535 rows affected.\n",
      "Returning data to local variable r\n"
     ]
    }
   ],
   "source": [
    "%%sql r <<\n",
    "SELECT country, \n",
    "       round(sum(past_due) over(partition by customer_id),2) as pastdue_by_customer, \n",
    "       customer_id\n",
    "FROM pastdue_rentals\n",
    "WHERE country in \n",
    "(\n",
    "    SELECT country\n",
    "    FROM pastdue_rentals\n",
    "    GROUP BY country\n",
    "    ORDER BY sum(past_due) DESC, count(distinct(customer_id)) DESC\n",
    "    LIMIT 5\n",
    ")"
   ]
  },
  {
   "cell_type": "code",
   "execution_count": 63,
   "metadata": {},
   "outputs": [
    {
     "data": {
      "text/html": [
       "<div>\n",
       "<style scoped>\n",
       "    .dataframe tbody tr th:only-of-type {\n",
       "        vertical-align: middle;\n",
       "    }\n",
       "\n",
       "    .dataframe tbody tr th {\n",
       "        vertical-align: top;\n",
       "    }\n",
       "\n",
       "    .dataframe thead th {\n",
       "        text-align: right;\n",
       "    }\n",
       "</style>\n",
       "<table border=\"1\" class=\"dataframe\">\n",
       "  <thead>\n",
       "    <tr style=\"text-align: right;\">\n",
       "      <th></th>\n",
       "      <th>count</th>\n",
       "      <th>mean</th>\n",
       "      <th>std</th>\n",
       "      <th>min</th>\n",
       "      <th>25%</th>\n",
       "      <th>50%</th>\n",
       "      <th>75%</th>\n",
       "      <th>max</th>\n",
       "    </tr>\n",
       "    <tr>\n",
       "      <th>country</th>\n",
       "      <th></th>\n",
       "      <th></th>\n",
       "      <th></th>\n",
       "      <th></th>\n",
       "      <th></th>\n",
       "      <th></th>\n",
       "      <th></th>\n",
       "      <th></th>\n",
       "    </tr>\n",
       "  </thead>\n",
       "  <tbody>\n",
       "    <tr>\n",
       "      <th>China</th>\n",
       "      <td>130.0</td>\n",
       "      <td>31.223077</td>\n",
       "      <td>20.289556</td>\n",
       "      <td>0.99</td>\n",
       "      <td>16.105</td>\n",
       "      <td>28.615</td>\n",
       "      <td>39.96</td>\n",
       "      <td>88.44</td>\n",
       "    </tr>\n",
       "    <tr>\n",
       "      <th>India</th>\n",
       "      <td>151.0</td>\n",
       "      <td>34.754901</td>\n",
       "      <td>27.926071</td>\n",
       "      <td>1.98</td>\n",
       "      <td>12.230</td>\n",
       "      <td>24.970</td>\n",
       "      <td>50.23</td>\n",
       "      <td>88.92</td>\n",
       "    </tr>\n",
       "    <tr>\n",
       "      <th>Japan</th>\n",
       "      <td>77.0</td>\n",
       "      <td>37.470519</td>\n",
       "      <td>27.758024</td>\n",
       "      <td>1.69</td>\n",
       "      <td>18.170</td>\n",
       "      <td>27.480</td>\n",
       "      <td>55.35</td>\n",
       "      <td>92.61</td>\n",
       "    </tr>\n",
       "    <tr>\n",
       "      <th>Mexico</th>\n",
       "      <td>78.0</td>\n",
       "      <td>32.706667</td>\n",
       "      <td>19.572281</td>\n",
       "      <td>0.99</td>\n",
       "      <td>16.970</td>\n",
       "      <td>26.470</td>\n",
       "      <td>47.53</td>\n",
       "      <td>68.11</td>\n",
       "    </tr>\n",
       "    <tr>\n",
       "      <th>United States</th>\n",
       "      <td>99.0</td>\n",
       "      <td>35.578283</td>\n",
       "      <td>22.377805</td>\n",
       "      <td>4.08</td>\n",
       "      <td>17.180</td>\n",
       "      <td>33.980</td>\n",
       "      <td>46.85</td>\n",
       "      <td>96.43</td>\n",
       "    </tr>\n",
       "  </tbody>\n",
       "</table>\n",
       "</div>"
      ],
      "text/plain": [
       "               count       mean        std   min     25%     50%    75%    max\n",
       "country                                                                       \n",
       "China          130.0  31.223077  20.289556  0.99  16.105  28.615  39.96  88.44\n",
       "India          151.0  34.754901  27.926071  1.98  12.230  24.970  50.23  88.92\n",
       "Japan           77.0  37.470519  27.758024  1.69  18.170  27.480  55.35  92.61\n",
       "Mexico          78.0  32.706667  19.572281  0.99  16.970  26.470  47.53  68.11\n",
       "United States   99.0  35.578283  22.377805  4.08  17.180  33.980  46.85  96.43"
      ]
     },
     "execution_count": 63,
     "metadata": {},
     "output_type": "execute_result"
    }
   ],
   "source": [
    "df = r.DataFrame()\n",
    "\n",
    "# Convert data type\n",
    "df['pastdue_by_customer'] = df['pastdue_by_customer'].astype(float)\n",
    "\n",
    "# Summary of total amount owed by a customer in each country\n",
    "df.groupby('country')['pastdue_by_customer'].describe()"
   ]
  },
  {
   "cell_type": "code",
   "execution_count": 64,
   "metadata": {},
   "outputs": [
    {
     "data": {
      "image/png": "[encoded data removed]",
      "text/plain": [
       "<Figure size 465.725x360 with 1 Axes>"
      ]
     },
     "metadata": {},
     "output_type": "display_data"
    },
    {
     "data": {
      "image/png": "[encoded data removed]",
      "text/plain": [
       "<Figure size 360x360 with 1 Axes>"
      ]
     },
     "metadata": {},
     "output_type": "display_data"
    }
   ],
   "source": [
    "# Visualize the above summary\n",
    "sns.displot(data=df, x='pastdue_by_customer', hue='country', kind='kde')\n",
    "sns.catplot(x='country', y='pastdue_by_customer', data=df, kind='box')\n",
    "plt.show()"
   ]
  },
  {
   "cell_type": "markdown",
   "metadata": {},
   "source": [
    "##### Conclusion\n",
    "\n",
    "The right skewed distributions for India, Japan and Mexico suggest that, most of the customers have an outstanding balance smaller than the average amount owed per customer in these countries, which is below `$34` in India, `$37` in Japan and `$32` in Mexico; However, the rest very few customers whose pastdue amount is above the average have contributed to larger portion of the outstanding balances. We might consider collecting payments from these customers first, as we can contact less than $50\\%$ of customers to collect more than of of the outstanding blance. \n",
    "\n",
    "The almost normal distribution for China shows that, most of the customers have an outstanding balance centered around the average amount owed per customer in China, which is `$31` with a standard deviation of `$20.3`. In this case, I'd suggest to start with the customers on upper tail, i.e. those have pastdue amount above the average, this way we just need to contact about $50\\%$ of the customers to collect more than half of the outstanding balanaces. If we collect payment randomly from half of the customer, the amount might split around the average and it's highly probable taht the amount collected this way will be lower than the suggested method, although the same amount of effort required.\n",
    "\n",
    "The slightly left skewed distribution for the US suggests that, more customers have an outstanding balance on the upper tail, i.e. above the average amount owed per customer, which is around `$35` in the US. In this case, we still need to start with the customers whose pastdue amount is above average, however, we expect that we need to contact more than $50\\%$ of customers to collect half of the outstanding balance. In other words, mroe effort is needed to collect money from the customers in the US.\n"
   ]
  }
 ],
 "metadata": {
  "kernelspec": {
   "display_name": "stat_notes",
   "language": "python",
   "name": "stat_notes"
  },
  "language_info": {
   "codemirror_mode": {
    "name": "ipython",
    "version": 3
   },
   "file_extension": ".py",
   "mimetype": "text/x-python",
   "name": "python",
   "nbconvert_exporter": "python",
   "pygments_lexer": "ipython3",
   "version": "3.9.12"
  },
  "toc": {
   "base_numbering": 1,
   "nav_menu": {},
   "number_sections": true,
   "sideBar": true,
   "skip_h1_title": false,
   "title_cell": "Table of Contents",
   "title_sidebar": "Contents",
   "toc_cell": true,
   "toc_position": {
    "height": "calc(100% - 180px)",
    "left": "10px",
    "top": "150px",
    "width": "399.075px"
   },
   "toc_section_display": true,
   "toc_window_display": true
  }
 },
 "nbformat": 4,
 "nbformat_minor": 4
}
