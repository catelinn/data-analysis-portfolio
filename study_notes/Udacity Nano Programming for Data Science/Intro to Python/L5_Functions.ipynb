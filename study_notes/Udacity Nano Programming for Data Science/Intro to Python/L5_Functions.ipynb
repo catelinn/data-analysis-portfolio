{
 "cells": [
  {
   "cell_type": "markdown",
   "metadata": {
    "toc": true
   },
   "source": [
    "<h1>Table of Contents<span class=\"tocSkip\"></span></h1>\n",
    "<div class=\"toc\"><ul class=\"toc-item\"><li><span><a href=\"#Defining-Functions\" data-toc-modified-id=\"Defining-Functions-1\">Defining Functions</a></span></li><li><span><a href=\"#Variable-Scope\" data-toc-modified-id=\"Variable-Scope-2\">Variable Scope</a></span></li><li><span><a href=\"#Documentation\" data-toc-modified-id=\"Documentation-3\">Documentation</a></span></li><li><span><a href=\"#Lambda-Expressions\" data-toc-modified-id=\"Lambda-Expressions-4\">Lambda Expressions</a></span><ul class=\"toc-item\"><li><span><a href=\"#map,-filter-and-reduce\" data-toc-modified-id=\"map,-filter-and-reduce-4.1\"><code>map</code>, <code>filter</code> and <code>reduce</code></a></span></li><li><span><a href=\"#Lambda-with-map\" data-toc-modified-id=\"Lambda-with-map-4.2\">Lambda with <code>map</code></a></span></li><li><span><a href=\"#Lambda-with-filter\" data-toc-modified-id=\"Lambda-with-filter-4.3\">Lambda with <code>filter</code></a></span></li><li><span><a href=\"#Lambda-with-reduce\" data-toc-modified-id=\"Lambda-with-reduce-4.4\">Lambda with <code>reduce</code></a></span></li></ul></li></ul></div>"
   ]
  },
  {
   "cell_type": "markdown",
   "metadata": {},
   "source": [
    "# Defining Functions\n",
    "\n",
    "```Python\n",
    "\n",
    "# define a function\n",
    "def cylinder_volume(height, radius):\n",
    "    pi = 3.14159\n",
    "    return height * pi * radius ** 2\n",
    "\n",
    "# define a function with default argument\n",
    "def cylinder_volume(height, radius=5):\n",
    "    pi = 3.14159\n",
    "    return height * pi * radius ** 2\n",
    "\n",
    "cylinder_volume(10)\n",
    "cylinder_volume(10,5)\n",
    "\n",
    "# if a function doesn't have returned value, it will return `None`\n",
    "```"
   ]
  },
  {
   "cell_type": "code",
   "execution_count": 5,
   "metadata": {},
   "outputs": [
    {
     "name": "stdout",
     "output_type": "stream",
     "text": [
      "1 week(s) and 0 day(s).\n"
     ]
    }
   ],
   "source": [
    "# write your function here\n",
    "def readable_timedelta(num):\n",
    "    return(\"{} week(s) and {} day(s).\".format(num//7, num%7))\n",
    "\n",
    "# test your function\n",
    "print(readable_timedelta(7))"
   ]
  },
  {
   "cell_type": "markdown",
   "metadata": {},
   "source": [
    "# Variable Scope \n",
    "\n",
    "> - local (used only in the function)\n",
    "> - global (outside of function scope)\n",
    "\n",
    "\n",
    "# Documentation\n",
    "\n",
    "Write **Document strings (docstrings)** to explain about the function define.  \n",
    "\n",
    "```Python\n",
    "def population_density(population, land_area):\n",
    "    \"\"\"Calculate the population density of an area.\n",
    "\n",
    "    INPUT:\n",
    "    population: int. The population of that area\n",
    "    land_area: int or float. This function is unit-agnostic, if you pass in values in terms of square km or square miles the function will return a density in those units.\n",
    "\n",
    "    OUTPUT: \n",
    "    population_density: population / land_area. The population density of a particular area.\n",
    "    \"\"\"\n",
    "    return population / land_area\n",
    "```"
   ]
  },
  {
   "cell_type": "markdown",
   "metadata": {},
   "source": [
    "# Lambda Expressions\n",
    "\n",
    "Use `lambda` expressions to create anonymous functions. They are helpful for creating quick functions that aren’t needed later in your code. \n",
    "\n",
    "This can be especially useful for **higher order functions**, or **functions that take in other functions as arguments**.\n",
    "\n",
    "```Python\n",
    "# an example of lambda function\n",
    "multiply=lambda x, y: x*y\n",
    "```\n",
    "\n",
    "## `map`, `filter` and `reduce`\n",
    "\n",
    "||Input|Output|Common Use Case|\n",
    "|:---|:---|:---|:---|\n",
    "|`map`|a function and an iterable|an iterator that applies the function to each element of the iterable|to calculate the mean of a row in a matrix (list of list)|\n",
    "|`filter`|a function and an iterable|an iterator with the elements from the iterable for which the function returns `True`|to filter items with a conditional |\n",
    "|`reduce` from `functools`|a function and an iterable|a result from rolling computation to the iterable **in sequential pairs**|to get the product of a list of numbers |\n",
    "\n",
    "\n",
    "## Lambda with `map`\n",
    "\n",
    "Rewrite this code to be more concise by replacing the `mean` function with a `lambda` expression defined within the call to `map()`.\n",
    "\n",
    "```Python\n",
    "numbers = [\n",
    "              [34, 63, 88, 71, 29],\n",
    "              [90, 78, 51, 27, 45],\n",
    "              [63, 37, 85, 46, 22],\n",
    "              [51, 22, 34, 11, 18]\n",
    "           ]\n",
    "\n",
    "def mean(num_list):\n",
    "    return sum(num_list) / len(num_list)\n",
    "\n",
    "averages = list(map(mean, numbers))\n",
    "print(averages)\n",
    "```"
   ]
  },
  {
   "cell_type": "code",
   "execution_count": 7,
   "metadata": {},
   "outputs": [
    {
     "name": "stdout",
     "output_type": "stream",
     "text": [
      "[57.0, 58.2, 50.6, 27.2]\n"
     ]
    }
   ],
   "source": [
    "# revised code with lambda function\n",
    "numbers = [\n",
    "              [34, 63, 88, 71, 29],\n",
    "              [90, 78, 51, 27, 45],\n",
    "              [63, 37, 85, 46, 22],\n",
    "              [51, 22, 34, 11, 18]\n",
    "           ]\n",
    "\n",
    "averages = list(map(lambda x: sum(x)/len(x), numbers))\n",
    "print(averages)"
   ]
  },
  {
   "cell_type": "markdown",
   "metadata": {},
   "source": [
    "## Lambda with `filter`\n",
    "\n",
    "Rewrite this code to be more concise by replacing the `is_short` function with a `lambda` expression defined within the call to `filter()`.\n",
    "\n",
    "```Python\n",
    "cities = [\"New York City\", \"Los Angeles\", \"Chicago\", \"Mountain View\", \"Denver\", \"Boston\"]\n",
    "\n",
    "def is_short(name):\n",
    "    return len(name) < 10\n",
    "\n",
    "short_cities = list(filter(is_short, cities))\n",
    "print(short_cities)\n",
    "```"
   ]
  },
  {
   "cell_type": "code",
   "execution_count": 14,
   "metadata": {},
   "outputs": [
    {
     "name": "stdout",
     "output_type": "stream",
     "text": [
      "['Chicago', 'Denver', 'Boston']\n"
     ]
    }
   ],
   "source": [
    "cities = [\"New York City\", \"Los Angeles\", \"Chicago\", \"Mountain View\", \"Denver\", \"Boston\"]\n",
    "\n",
    "short_cities = list(filter(lambda x: len(x)<10, cities))\n",
    "print(short_cities)"
   ]
  },
  {
   "cell_type": "markdown",
   "metadata": {},
   "source": [
    "## Lambda with `reduce`\n",
    "\n",
    "Rewrite the following code that compute the product of a list of integers.\n",
    "\n",
    "```Python\n",
    "product = 1\n",
    "list = [1, 2, 3, 4]\n",
    "for num in list:\n",
    "    product = product * num\n",
    "```"
   ]
  },
  {
   "cell_type": "code",
   "execution_count": 1,
   "metadata": {},
   "outputs": [
    {
     "name": "stdout",
     "output_type": "stream",
     "text": [
      "24\n"
     ]
    }
   ],
   "source": [
    "numbers = [1,2,3,4]\n",
    "\n",
    "from functools import reduce\n",
    "product = reduce(lambda x,y: x*y, numbers)\n",
    "print(product)"
   ]
  }
 ],
 "metadata": {
  "kernelspec": {
   "display_name": "Python 3",
   "language": "python",
   "name": "python3"
  },
  "language_info": {
   "codemirror_mode": {
    "name": "ipython",
    "version": 3
   },
   "file_extension": ".py",
   "mimetype": "text/x-python",
   "name": "python",
   "nbconvert_exporter": "python",
   "pygments_lexer": "ipython3",
   "version": "3.7.7"
  },
  "toc": {
   "base_numbering": 1,
   "nav_menu": {},
   "number_sections": false,
   "sideBar": true,
   "skip_h1_title": false,
   "title_cell": "Table of Contents",
   "title_sidebar": "Contents",
   "toc_cell": true,
   "toc_position": {},
   "toc_section_display": true,
   "toc_window_display": true
  }
 },
 "nbformat": 4,
 "nbformat_minor": 4
}
