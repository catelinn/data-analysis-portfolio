{
 "cells": [
  {
   "cell_type": "markdown",
   "metadata": {
    "toc": true
   },
   "source": [
    "<h1>Table of Contents<span class=\"tocSkip\"></span></h1>\n",
    "<div class=\"toc\"><ul class=\"toc-item\"><li><span><a href=\"#Numpy-Documentation\" data-toc-modified-id=\"Numpy-Documentation-1\">Numpy Documentation</a></span></li><li><span><a href=\"#Why-Numpy\" data-toc-modified-id=\"Why-Numpy-2\">Why Numpy</a></span><ul class=\"toc-item\"><li><span><a href=\"#Speed\" data-toc-modified-id=\"Speed-2.1\">Speed</a></span></li><li><span><a href=\"#Vectorized-Operation\" data-toc-modified-id=\"Vectorized-Operation-2.2\">Vectorized Operation</a></span></li><li><span><a href=\"#Other-Benefits\" data-toc-modified-id=\"Other-Benefits-2.3\">Other Benefits</a></span></li></ul></li><li><span><a href=\"#Create-NumPy-ndarrays\" data-toc-modified-id=\"Create-NumPy-ndarrays-3\">Create NumPy ndarrays</a></span><ul class=\"toc-item\"><li><span><a href=\"#Use-np.array()-to-Convert-an-Object,-e.g.-List\" data-toc-modified-id=\"Use-np.array()-to-Convert-an-Object,-e.g.-List-3.1\">Use <code>np.array()</code> to Convert an Object, e.g. List</a></span><ul class=\"toc-item\"><li><span><a href=\"#1D-array\" data-toc-modified-id=\"1D-array-3.1.1\">1D array</a></span></li><li><span><a href=\"#2D-Array\" data-toc-modified-id=\"2D-Array-3.1.2\">2D Array</a></span></li><li><span><a href=\"#Upcasting-array.dtype\" data-toc-modified-id=\"Upcasting-array.dtype-3.1.3\">Upcasting <code>array.dtype</code></a></span></li><li><span><a href=\"#Save-to-&amp;-load-from-.npy-file\" data-toc-modified-id=\"Save-to-&amp;-load-from-.npy-file-3.1.4\">Save to &amp; load from <code>.npy</code> file</a></span></li></ul></li><li><span><a href=\"#Use-Numpy-Built-in-Functions-to-Create-ndarrays\" data-toc-modified-id=\"Use-Numpy-Built-in-Functions-to-Create-ndarrays-3.2\">Use Numpy Built-in Functions to Create ndarrays</a></span><ul class=\"toc-item\"><li><span><a href=\"#Create-ndarrays-with-constants\" data-toc-modified-id=\"Create-ndarrays-with-constants-3.2.1\">Create ndarrays with constants</a></span></li><li><span><a href=\"#Create-ndarrays-with-special-main-diagonal-values\" data-toc-modified-id=\"Create-ndarrays-with-special-main-diagonal-values-3.2.2\">Create ndarrays with special main diagonal values</a></span></li><li><span><a href=\"#Create-ndarrays-with-a-range-of-evenly-spaced-ints\" data-toc-modified-id=\"Create-ndarrays-with-a-range-of-evenly-spaced-ints-3.2.3\">Create ndarrays with a range of evenly spaced ints</a></span></li><li><span><a href=\"#Create-ndarrays-with-a-range-of-evenly-spaced-floats\" data-toc-modified-id=\"Create-ndarrays-with-a-range-of-evenly-spaced-floats-3.2.4\">Create ndarrays with a range of evenly spaced floats</a></span></li><li><span><a href=\"#Reshape-ndarrays\" data-toc-modified-id=\"Reshape-ndarrays-3.2.5\">Reshape ndarrays</a></span></li><li><span><a href=\"#Create-ndarrays-of-random-values\" data-toc-modified-id=\"Create-ndarrays-of-random-values-3.2.6\">Create ndarrays of random values</a></span></li></ul></li><li><span><a href=\"#Quiz\" data-toc-modified-id=\"Quiz-3.3\">Quiz</a></span></li></ul></li><li><span><a href=\"#Accessing-&amp;-Modifying-ndarray-Elements\" data-toc-modified-id=\"Accessing-&amp;-Modifying-ndarray-Elements-4\">Accessing &amp; Modifying ndarray Elements</a></span><ul class=\"toc-item\"><li><span><a href=\"#1D-Array\" data-toc-modified-id=\"1D-Array-4.1\">1D Array</a></span></li><li><span><a href=\"#2D-Array\" data-toc-modified-id=\"2D-Array-4.2\">2D Array</a></span></li></ul></li><li><span><a href=\"#Deleting,-Adding-or-Inserting-Values-to-ndarray\" data-toc-modified-id=\"Deleting,-Adding-or-Inserting-Values-to-ndarray-5\">Deleting, Adding or Inserting Values to ndarray</a></span><ul class=\"toc-item\"><li><span><a href=\"#np.delete\" data-toc-modified-id=\"np.delete-5.1\"><code>np.delete</code></a></span><ul class=\"toc-item\"><li><span><a href=\"#1D-Array\" data-toc-modified-id=\"1D-Array-5.1.1\">1D Array</a></span></li><li><span><a href=\"#2D-Array\" data-toc-modified-id=\"2D-Array-5.1.2\">2D Array</a></span></li></ul></li><li><span><a href=\"#np.append\" data-toc-modified-id=\"np.append-5.2\"><code>np.append</code></a></span><ul class=\"toc-item\"><li><span><a href=\"#1D-Array\" data-toc-modified-id=\"1D-Array-5.2.1\">1D Array</a></span></li><li><span><a href=\"#2D-Array\" data-toc-modified-id=\"2D-Array-5.2.2\">2D Array</a></span></li></ul></li><li><span><a href=\"#np.insert\" data-toc-modified-id=\"np.insert-5.3\"><code>np.insert</code></a></span><ul class=\"toc-item\"><li><span><a href=\"#1D-Array\" data-toc-modified-id=\"1D-Array-5.3.1\">1D Array</a></span></li><li><span><a href=\"#2D-Array\" data-toc-modified-id=\"2D-Array-5.3.2\">2D Array</a></span></li></ul></li></ul></li><li><span><a href=\"#Stacking-arrays\" data-toc-modified-id=\"Stacking-arrays-6\">Stacking arrays</a></span><ul class=\"toc-item\"><li><span><a href=\"#vstack\" data-toc-modified-id=\"vstack-6.1\"><code>vstack</code></a></span><ul class=\"toc-item\"><li><span><a href=\"#hstack\" data-toc-modified-id=\"hstack-6.1.1\"><code>hstack</code></a></span></li></ul></li></ul></li><li><span><a href=\"#Slicing-ndarrays\" data-toc-modified-id=\"Slicing-ndarrays-7\">Slicing ndarrays</a></span><ul class=\"toc-item\"><li><span><a href=\"#1D-array\" data-toc-modified-id=\"1D-array-7.1\">1D array</a></span></li><li><span><a href=\"#2D-array\" data-toc-modified-id=\"2D-array-7.2\">2D array</a></span></li><li><span><a href=\"#Create-a-new-ndarray-using-slicing-with-np.copy\" data-toc-modified-id=\"Create-a-new-ndarray-using-slicing-with-np.copy-7.3\">Create a new ndarray using slicing with <code>np.copy</code></a></span><ul class=\"toc-item\"><li><ul class=\"toc-item\"><li><span><a href=\"#Use-np.copy-to-create-new-ndarray-with-slicing\" data-toc-modified-id=\"Use-np.copy-to-create-new-ndarray-with-slicing-7.3.0.1\">Use <code>np.copy</code> to create new ndarray with slicing</a></span></li></ul></li></ul></li><li><span><a href=\"#Slicing-with-special-built-in-functions\" data-toc-modified-id=\"Slicing-with-special-built-in-functions-7.4\">Slicing with special built-in functions</a></span><ul class=\"toc-item\"><li><span><a href=\"#np.diag(ndarray,-k=N)\" data-toc-modified-id=\"np.diag(ndarray,-k=N)-7.4.1\"><code>np.diag(ndarray, k=N)</code></a></span></li><li><span><a href=\"#np.unique(ndarray)\" data-toc-modified-id=\"np.unique(ndarray)-7.4.2\"><code>np.unique(ndarray)</code></a></span></li></ul></li></ul></li><li><span><a href=\"#Boolean-Indexing\" data-toc-modified-id=\"Boolean-Indexing-8\">Boolean Indexing</a></span></li><li><span><a href=\"#Set-Operations\" data-toc-modified-id=\"Set-Operations-9\">Set Operations</a></span><ul class=\"toc-item\"><li><span><a href=\"#np.intersect1d,-np.setdiff1d,-np.union1d\" data-toc-modified-id=\"np.intersect1d,-np.setdiff1d,-np.union1d-9.1\"><code>np.intersect1d</code>, <code>np.setdiff1d</code>, <code>np.union1d</code></a></span></li></ul></li><li><span><a href=\"#Sorting-ndarrays\" data-toc-modified-id=\"Sorting-ndarrays-10\">Sorting ndarrays</a></span><ul class=\"toc-item\"><li><span><a href=\"#1D-array\" data-toc-modified-id=\"1D-array-10.1\">1D array</a></span><ul class=\"toc-item\"><li><span><a href=\"#np.sort-vs-ndarray.sort\" data-toc-modified-id=\"np.sort-vs-ndarray.sort-10.1.1\"><code>np.sort</code> vs <code>ndarray.sort</code></a></span></li></ul></li><li><span><a href=\"#2D-array\" data-toc-modified-id=\"2D-array-10.2\">2D array</a></span></li></ul></li><li><span><a href=\"#Arithmetic-Operations\" data-toc-modified-id=\"Arithmetic-Operations-11\">Arithmetic Operations</a></span><ul class=\"toc-item\"><li><span><a href=\"#Element-wise\" data-toc-modified-id=\"Element-wise-11.1\">Element-wise</a></span><ul class=\"toc-item\"><li><span><a href=\"#1D-Array\" data-toc-modified-id=\"1D-Array-11.1.1\">1D Array</a></span></li><li><span><a href=\"#2D-array\" data-toc-modified-id=\"2D-array-11.1.2\">2D array</a></span></li></ul></li><li><span><a href=\"#Matrix-wise-(not-discussed)\" data-toc-modified-id=\"Matrix-wise-(not-discussed)-11.2\">Matrix-wise (not discussed)</a></span></li></ul></li><li><span><a href=\"#Broadcasting\" data-toc-modified-id=\"Broadcasting-12\">Broadcasting</a></span><ul class=\"toc-item\"><li><span><a href=\"#1D-array\" data-toc-modified-id=\"1D-array-12.1\">1D array</a></span></li><li><span><a href=\"#2D-array\" data-toc-modified-id=\"2D-array-12.2\">2D array</a></span></li><li><span><a href=\"#Quiz\" data-toc-modified-id=\"Quiz-12.3\">Quiz</a></span></li></ul></li></ul></div>"
   ]
  },
  {
   "cell_type": "code",
   "execution_count": 2,
   "metadata": {},
   "outputs": [],
   "source": [
    "import numpy as np"
   ]
  },
  {
   "cell_type": "markdown",
   "metadata": {},
   "source": [
    "# Numpy Documentation\n",
    "\n",
    "- [Numpy Manual - Scipy.org](https://docs.scipy.org/doc/numpy-1.13.0/contents.html)\n",
    "\n",
    "- [Numpy User Guide - Scipy.org](https://docs.scipy.org/doc/numpy-1.13.0/user/index.html)\n",
    "\n",
    "- [Numpy Reference - Scipy.org](https://docs.scipy.org/doc/numpy-1.13.0/reference/index.html#reference)\n",
    "\n",
    "- [Numpy Lectures - Scipy.org](http://www.scipy-lectures.org/intro/numpy/index.html)"
   ]
  },
  {
   "cell_type": "markdown",
   "metadata": {},
   "source": [
    "# Why Numpy\n",
    "\n",
    "## Speed"
   ]
  },
  {
   "cell_type": "code",
   "execution_count": 11,
   "metadata": {},
   "outputs": [],
   "source": [
    "# create an array of 100 million floats between 0 and 1\n",
    "x=np.random.random(100000000)"
   ]
  },
  {
   "cell_type": "code",
   "execution_count": 10,
   "metadata": {},
   "outputs": [
    {
     "name": "stdout",
     "output_type": "stream",
     "text": [
      "CPU times: user 14.3 s, sys: 54.3 ms, total: 14.4 s\n",
      "Wall time: 14.4 s\n"
     ]
    },
    {
     "data": {
      "text/plain": [
       "0.49998640408012135"
      ]
     },
     "execution_count": 10,
     "metadata": {},
     "output_type": "execute_result"
    }
   ],
   "source": [
    "%%time\n",
    "# calculate mean using Python builtin functions\n",
    "sum(x)/len(x)"
   ]
  },
  {
   "cell_type": "code",
   "execution_count": 14,
   "metadata": {},
   "outputs": [
    {
     "name": "stdout",
     "output_type": "stream",
     "text": [
      "CPU times: user 127 ms, sys: 2.15 ms, total: 129 ms\n",
      "Wall time: 128 ms\n"
     ]
    },
    {
     "data": {
      "text/plain": [
       "0.5000861143570895"
      ]
     },
     "execution_count": 14,
     "metadata": {},
     "output_type": "execute_result"
    }
   ],
   "source": [
    "%%time\n",
    "# calculate mean using np.mean\n",
    "np.mean(x)"
   ]
  },
  {
   "cell_type": "code",
   "execution_count": 13,
   "metadata": {},
   "outputs": [
    {
     "data": {
      "text/plain": [
       "120.00000000000001"
      ]
     },
     "execution_count": 13,
     "metadata": {},
     "output_type": "execute_result"
    }
   ],
   "source": [
    "# How many times faster is `np.mean()`?\n",
    "14.4/0.12"
   ]
  },
  {
   "cell_type": "markdown",
   "metadata": {},
   "source": [
    "## Vectorized Operation"
   ]
  },
  {
   "cell_type": "code",
   "execution_count": 24,
   "metadata": {},
   "outputs": [],
   "source": [
    "# create another array of 100 million floats\n",
    "y=np.random.random(100000000)"
   ]
  },
  {
   "cell_type": "code",
   "execution_count": 26,
   "metadata": {},
   "outputs": [
    {
     "data": {
      "text/plain": [
       "0.25003328085552906"
      ]
     },
     "execution_count": 26,
     "metadata": {},
     "output_type": "execute_result"
    }
   ],
   "source": [
    "# to get the product of x and y in Numpy is extreamly easy \n",
    "# with vectorized operation, instead of using nested loop in standard bPython\n",
    "z = x*y\n",
    "np.mean(z)"
   ]
  },
  {
   "cell_type": "markdown",
   "metadata": {},
   "source": [
    "## Other Benefits\n",
    "\n",
    "- Numpy's **multidimensional array data structures** that can represent **vectors** and **matrices** : machine learning is based on lots of matrix multiplication\n",
    "\n",
    "\n",
    "- Optimized **built-in functions** for **complex mathematical computations**: fast and very little code to write\n",
    "\n",
    "\n",
    "- `Pandas` is built on top of `Numpy`.\n",
    "\n"
   ]
  },
  {
   "cell_type": "markdown",
   "metadata": {},
   "source": [
    "# Create NumPy ndarrays\n",
    "\n",
    "## Use `np.array()` to Convert an Object, e.g. List\n",
    "\n",
    "\n",
    "### 1D array"
   ]
  },
  {
   "cell_type": "code",
   "execution_count": 53,
   "metadata": {},
   "outputs": [
    {
     "name": "stdout",
     "output_type": "stream",
     "text": [
      "[1 2 3 4 5 6]\n",
      "\n",
      "dtype: int64\n",
      "shape: (6,)\n",
      "size: 6\n"
     ]
    }
   ],
   "source": [
    "x = np.array([1,2,3,4,5,6])\n",
    "\n",
    "print('{}\\n'.format(x))\n",
    "print('dtype: {}'.format(x.dtype))\n",
    "print('shape: {}'.format(x.shape))\n",
    "print('size: {}'.format(x.size))"
   ]
  },
  {
   "cell_type": "markdown",
   "metadata": {},
   "source": [
    "### 2D Array"
   ]
  },
  {
   "cell_type": "code",
   "execution_count": 52,
   "metadata": {},
   "outputs": [
    {
     "name": "stdout",
     "output_type": "stream",
     "text": [
      "[[ 1  2  3]\n",
      " [ 4  5  6]\n",
      " [ 7  8  9]\n",
      " [10 11 12]]\n",
      "\n",
      "dtype: int64\n",
      "shape: (4, 3)\n",
      "size: 12\n"
     ]
    }
   ],
   "source": [
    "y = np.array([[1,2,3],[4,5,6],[7,8,9],[10,11,12]])\n",
    "print('{}\\n'.format(y))\n",
    "print('dtype: {}'.format(y.dtype))\n",
    "print('shape: {}'.format(y.shape))\n",
    "print('size: {}'.format(y.size))"
   ]
  },
  {
   "cell_type": "markdown",
   "metadata": {},
   "source": [
    "### Upcasting `array.dtype`"
   ]
  },
  {
   "cell_type": "code",
   "execution_count": 36,
   "metadata": {},
   "outputs": [
    {
     "data": {
      "text/plain": [
       "dtype('float64')"
      ]
     },
     "execution_count": 36,
     "metadata": {},
     "output_type": "execute_result"
    }
   ],
   "source": [
    "# For an array with both float and int, Numpy upcast int to float to preserve\n",
    "# preciseness\n",
    "x = np.array([0.5, 1, 3, 4])\n",
    "x.dtype"
   ]
  },
  {
   "cell_type": "code",
   "execution_count": 38,
   "metadata": {},
   "outputs": [
    {
     "data": {
      "text/plain": [
       "dtype('int64')"
      ]
     },
     "execution_count": 38,
     "metadata": {},
     "output_type": "execute_result"
    }
   ],
   "source": [
    "# To define an array with dtype\n",
    "x = np.array([0.5, 1, 3, 4], dtype=int)\n",
    "x.dtype"
   ]
  },
  {
   "cell_type": "markdown",
   "metadata": {},
   "source": [
    "### Save to & load from `.npy` file "
   ]
  },
  {
   "cell_type": "code",
   "execution_count": 43,
   "metadata": {},
   "outputs": [],
   "source": [
    "# save an array to `.npy` file in the current directory\n",
    "np.save('my_array', x)"
   ]
  },
  {
   "cell_type": "code",
   "execution_count": 42,
   "metadata": {},
   "outputs": [
    {
     "data": {
      "text/plain": [
       "array([0, 1, 3, 4])"
      ]
     },
     "execution_count": 42,
     "metadata": {},
     "output_type": "execute_result"
    }
   ],
   "source": [
    "# load a `.npy` file in the current directory to an array\n",
    "x = np.load('my_array.npy')\n",
    "x"
   ]
  },
  {
   "cell_type": "markdown",
   "metadata": {},
   "source": [
    "## Use Numpy Built-in Functions to Create ndarrays\n",
    "\n",
    "\n",
    "### Create ndarrays with constants"
   ]
  },
  {
   "cell_type": "code",
   "execution_count": 56,
   "metadata": {},
   "outputs": [
    {
     "data": {
      "text/plain": [
       "array([[0, 0, 0, 0],\n",
       "       [0, 0, 0, 0],\n",
       "       [0, 0, 0, 0]])"
      ]
     },
     "execution_count": 56,
     "metadata": {},
     "output_type": "execute_result"
    }
   ],
   "source": [
    "np.zeros((3,4), dtype=int)"
   ]
  },
  {
   "cell_type": "code",
   "execution_count": 57,
   "metadata": {},
   "outputs": [
    {
     "data": {
      "text/plain": [
       "array([[1., 1., 1., 1., 1.],\n",
       "       [1., 1., 1., 1., 1.],\n",
       "       [1., 1., 1., 1., 1.],\n",
       "       [1., 1., 1., 1., 1.]])"
      ]
     },
     "execution_count": 57,
     "metadata": {},
     "output_type": "execute_result"
    }
   ],
   "source": [
    "np.ones((4,5))"
   ]
  },
  {
   "cell_type": "code",
   "execution_count": 58,
   "metadata": {},
   "outputs": [
    {
     "data": {
      "text/plain": [
       "array([[5, 5, 5],\n",
       "       [5, 5, 5],\n",
       "       [5, 5, 5],\n",
       "       [5, 5, 5]])"
      ]
     },
     "execution_count": 58,
     "metadata": {},
     "output_type": "execute_result"
    }
   ],
   "source": [
    "np.full((4,3), 5)"
   ]
  },
  {
   "cell_type": "markdown",
   "metadata": {},
   "source": [
    "### Create ndarrays with special main diagonal values"
   ]
  },
  {
   "cell_type": "code",
   "execution_count": 59,
   "metadata": {},
   "outputs": [
    {
     "data": {
      "text/plain": [
       "array([[1., 0., 0., 0., 0.],\n",
       "       [0., 1., 0., 0., 0.],\n",
       "       [0., 0., 1., 0., 0.],\n",
       "       [0., 0., 0., 1., 0.],\n",
       "       [0., 0., 0., 0., 1.]])"
      ]
     },
     "execution_count": 59,
     "metadata": {},
     "output_type": "execute_result"
    }
   ],
   "source": [
    "# identity matrix - a square matrix in which all the elements \n",
    "# of the principal diagonal are ones and all other elements are zeros.\n",
    "np.eye(5)"
   ]
  },
  {
   "cell_type": "code",
   "execution_count": 61,
   "metadata": {},
   "outputs": [
    {
     "data": {
      "text/plain": [
       "array([[10,  0,  0,  0],\n",
       "       [ 0, 20,  0,  0],\n",
       "       [ 0,  0, 30,  0],\n",
       "       [ 0,  0,  0, 50]])"
      ]
     },
     "execution_count": 61,
     "metadata": {},
     "output_type": "execute_result"
    }
   ],
   "source": [
    "# use a sequence of value to be the main the main diagnol of\n",
    "# a square matrix, and fill in the rest with zeros\n",
    "np.diag([10, 20, 30, 50])"
   ]
  },
  {
   "cell_type": "markdown",
   "metadata": {},
   "source": [
    "### Create ndarrays with a range of evenly spaced ints"
   ]
  },
  {
   "cell_type": "code",
   "execution_count": 62,
   "metadata": {},
   "outputs": [
    {
     "data": {
      "text/plain": [
       "array([0, 1, 2, 3, 4, 5, 6, 7, 8, 9])"
      ]
     },
     "execution_count": 62,
     "metadata": {},
     "output_type": "execute_result"
    }
   ],
   "source": [
    "# Create an array of 10 integers from 0 to 10\n",
    "np.arange(10)"
   ]
  },
  {
   "cell_type": "code",
   "execution_count": 63,
   "metadata": {},
   "outputs": [
    {
     "data": {
      "text/plain": [
       "array([4, 5, 6, 7, 8, 9])"
      ]
     },
     "execution_count": 63,
     "metadata": {},
     "output_type": "execute_result"
    }
   ],
   "source": [
    "# Create an array from 4 to 10\n",
    "np.arange(4,10)"
   ]
  },
  {
   "cell_type": "code",
   "execution_count": 65,
   "metadata": {},
   "outputs": [
    {
     "data": {
      "text/plain": [
       "array([ 1,  4,  7, 10, 13])"
      ]
     },
     "execution_count": 65,
     "metadata": {},
     "output_type": "execute_result"
    }
   ],
   "source": [
    "# Create an array from 1 to 14 with step as 3\n",
    "np.arange(1,14,3)"
   ]
  },
  {
   "cell_type": "markdown",
   "metadata": {},
   "source": [
    "### Create ndarrays with a range of evenly spaced floats"
   ]
  },
  {
   "cell_type": "code",
   "execution_count": 92,
   "metadata": {},
   "outputs": [
    {
     "data": {
      "text/plain": [
       "array([ 0.        ,  0.51020408,  1.02040816,  1.53061224,  2.04081633,\n",
       "        2.55102041,  3.06122449,  3.57142857,  4.08163265,  4.59183673,\n",
       "        5.10204082,  5.6122449 ,  6.12244898,  6.63265306,  7.14285714,\n",
       "        7.65306122,  8.16326531,  8.67346939,  9.18367347,  9.69387755,\n",
       "       10.20408163, 10.71428571, 11.2244898 , 11.73469388, 12.24489796,\n",
       "       12.75510204, 13.26530612, 13.7755102 , 14.28571429, 14.79591837,\n",
       "       15.30612245, 15.81632653, 16.32653061, 16.83673469, 17.34693878,\n",
       "       17.85714286, 18.36734694, 18.87755102, 19.3877551 , 19.89795918,\n",
       "       20.40816327, 20.91836735, 21.42857143, 21.93877551, 22.44897959,\n",
       "       22.95918367, 23.46938776, 23.97959184, 24.48979592, 25.        ])"
      ]
     },
     "execution_count": 92,
     "metadata": {},
     "output_type": "execute_result"
    }
   ],
   "source": [
    "# for non-integer steps, use `np.linspace(start, stop, n)`\n",
    "# n = 50 by default, if unspecified \n",
    "# Create an array of 50 evenly spaced floats from 0 to 25, 25 inclusive\n",
    "np.linspace(0, 25)"
   ]
  },
  {
   "cell_type": "code",
   "execution_count": 70,
   "metadata": {},
   "outputs": [
    {
     "data": {
      "text/plain": [
       "array([ 0. ,  2.5,  5. ,  7.5, 10. , 12.5, 15. , 17.5, 20. , 22.5])"
      ]
     },
     "execution_count": 70,
     "metadata": {},
     "output_type": "execute_result"
    }
   ],
   "source": [
    "# Create 10 evenly spaced floats from 0 to 25, 25 non-inclusive\n",
    "np.linspace(0, 25, 10, endpoint=False)"
   ]
  },
  {
   "cell_type": "markdown",
   "metadata": {},
   "source": [
    "### Reshape ndarrays"
   ]
  },
  {
   "cell_type": "code",
   "execution_count": 93,
   "metadata": {},
   "outputs": [
    {
     "data": {
      "text/plain": [
       "array([[ 0.        ,  2.77777778],\n",
       "       [ 5.55555556,  8.33333333],\n",
       "       [11.11111111, 13.88888889],\n",
       "       [16.66666667, 19.44444444],\n",
       "       [22.22222222, 25.        ]])"
      ]
     },
     "execution_count": 93,
     "metadata": {},
     "output_type": "execute_result"
    }
   ],
   "source": [
    "# `np.reshape` as function\n",
    "x = np.linspace(0, 25, 10)\n",
    "np.reshape(x, (5,2))"
   ]
  },
  {
   "cell_type": "code",
   "execution_count": 94,
   "metadata": {},
   "outputs": [
    {
     "data": {
      "text/plain": [
       "array([[ 0.        ,  2.77777778,  5.55555556,  8.33333333, 11.11111111],\n",
       "       [13.88888889, 16.66666667, 19.44444444, 22.22222222, 25.        ]])"
      ]
     },
     "execution_count": 94,
     "metadata": {},
     "output_type": "execute_result"
    }
   ],
   "source": [
    "# `.reshape` as method of an array\n",
    "x.reshape(2,5)"
   ]
  },
  {
   "cell_type": "code",
   "execution_count": 77,
   "metadata": {},
   "outputs": [
    {
     "data": {
      "text/plain": [
       "array([[ 0,  1,  2,  3,  4],\n",
       "       [ 5,  6,  7,  8,  9],\n",
       "       [10, 11, 12, 13, 14],\n",
       "       [15, 16, 17, 18, 19]])"
      ]
     },
     "execution_count": 77,
     "metadata": {},
     "output_type": "execute_result"
    }
   ],
   "source": [
    "np.arange(20).reshape((4,5))"
   ]
  },
  {
   "cell_type": "markdown",
   "metadata": {},
   "source": [
    "### Create ndarrays of random values"
   ]
  },
  {
   "cell_type": "code",
   "execution_count": 95,
   "metadata": {},
   "outputs": [
    {
     "data": {
      "text/plain": [
       "array([[0.93853525, 0.79340273, 0.17561358],\n",
       "       [0.70394778, 0.81710677, 0.20048461],\n",
       "       [0.35356292, 0.74888748, 0.42180301]])"
      ]
     },
     "execution_count": 95,
     "metadata": {},
     "output_type": "execute_result"
    }
   ],
   "source": [
    "# Create random floats from 0 to 1, use tuple to define the shape of ndarrays\n",
    "np.random.random((3,3))"
   ]
  },
  {
   "cell_type": "code",
   "execution_count": 96,
   "metadata": {},
   "outputs": [
    {
     "data": {
      "text/plain": [
       "array([[11, 11],\n",
       "       [13,  9],\n",
       "       [ 5,  5]])"
      ]
     },
     "execution_count": 96,
     "metadata": {},
     "output_type": "execute_result"
    }
   ],
   "source": [
    "# Create random integers with low-bound, upbound and shape\n",
    "np.random.randint(4,15,(3,2))"
   ]
  },
  {
   "cell_type": "code",
   "execution_count": 89,
   "metadata": {},
   "outputs": [
    {
     "name": "stdout",
     "output_type": "stream",
     "text": [
      "[[ 0.01271578  0.14018909  0.0314815  ...  0.08816739 -0.16914039\n",
      "  -0.05118324]\n",
      " [ 0.14681943  0.10643196 -0.07934169 ... -0.02493764 -0.04698768\n",
      "  -0.10235213]\n",
      " [-0.13220536 -0.06862131  0.01862244 ... -0.05284694  0.14744174\n",
      "   0.02426232]\n",
      " ...\n",
      " [ 0.10052159 -0.03756336 -0.03854788 ... -0.10713039 -0.07383442\n",
      "  -0.03971498]\n",
      " [-0.05022672 -0.06837407  0.03034411 ...  0.0987338  -0.01282658\n",
      "   0.05142451]\n",
      " [-0.07253547 -0.06069139  0.04499498 ... -0.11027383 -0.06382385\n",
      "  -0.11737963]]\n",
      "\n",
      "mean: -1.8185526754438272e-05\n",
      "std: 0.09988707339870906\n",
      "max: 0.49346807945662463\n",
      "min: -0.47306382149916043\n",
      "# positive:  500213\n",
      "# negative:  499787\n"
     ]
    }
   ],
   "source": [
    "# Create random normal distribution\n",
    "# create a 1000 x 1000 normal distribution with mean = 0, std = 0.1\n",
    "np.random.seed(999)\n",
    "x = np.random.normal(0,0.1, size=(1000, 1000))\n",
    "print('{}\\n'.format(x))\n",
    "print('mean: {}'.format(x.mean()))\n",
    "print('std: {}'.format(x.std()))\n",
    "print('max: {}'.format(x.max()))\n",
    "print('min: {}'.format(x.min()))\n",
    "print('# positive: ', (x>0).sum())\n",
    "print('# negative: ', (x<0).sum())"
   ]
  },
  {
   "cell_type": "markdown",
   "metadata": {},
   "source": [
    "The mean is $ -1.81855 \\dot 10^{-5}$ which is $0.0000181855$, estimated as `0`\n",
    "\n",
    "## Quiz\n",
    "\n",
    "Using the Built-in functions you learned, create a 4 x 4 ndarray that only contains consecutive even numbers from 2 to 32 (inclusive)"
   ]
  },
  {
   "cell_type": "code",
   "execution_count": 97,
   "metadata": {},
   "outputs": [
    {
     "data": {
      "text/plain": [
       "array([[ 2,  4,  6,  8],\n",
       "       [10, 12, 14, 16],\n",
       "       [18, 20, 22, 24],\n",
       "       [26, 28, 30, 32]])"
      ]
     },
     "execution_count": 97,
     "metadata": {},
     "output_type": "execute_result"
    }
   ],
   "source": [
    "X = np.arange(2,33,2).reshape((4,4))\n",
    "X"
   ]
  },
  {
   "cell_type": "markdown",
   "metadata": {},
   "source": [
    "# Accessing & Modifying ndarray Elements\n",
    "\n",
    "## 1D Array"
   ]
  },
  {
   "cell_type": "code",
   "execution_count": 107,
   "metadata": {},
   "outputs": [
    {
     "name": "stdout",
     "output_type": "stream",
     "text": [
      "[1 2 3 4 5 6 7 8 9]\n",
      "first element: 1\n",
      "second element: 2\n",
      "last element: 9\n",
      "second last element: 8\n",
      "[3 2 3 4 5 6 7 8 9]\n"
     ]
    }
   ],
   "source": [
    "# Access 1D array elements like list\n",
    "x = np.arange(1,10)\n",
    "print(x)\n",
    "print('first element:', x[0])\n",
    "print('second element:', x[1])\n",
    "print('last element:', x[-1])\n",
    "print('second last element:', x[-2])\n",
    "x[0]=3\n",
    "print(x)"
   ]
  },
  {
   "cell_type": "markdown",
   "metadata": {},
   "source": [
    "## 2D Array"
   ]
  },
  {
   "cell_type": "code",
   "execution_count": 108,
   "metadata": {},
   "outputs": [
    {
     "name": "stdout",
     "output_type": "stream",
     "text": [
      "[[1 2 3]\n",
      " [4 5 6]\n",
      " [7 8 9]]\n",
      "Element at [0,0]: 1\n",
      "Element at [0,1]: 2\n",
      "Element at [2,2]: 9\n",
      "[[3 2 3]\n",
      " [4 5 6]\n",
      " [7 8 9]]\n"
     ]
    }
   ],
   "source": [
    "x = np.arange(1,10).reshape((3,3))\n",
    "print(x)\n",
    "print('Element at [0,0]:', x[0,0])\n",
    "print('Element at [0,1]:', x[0,1])\n",
    "print('Element at [2,2]:', x[2,2])\n",
    "x[0,0]=3\n",
    "print(x)"
   ]
  },
  {
   "cell_type": "markdown",
   "metadata": {},
   "source": [
    "# Deleting, Adding or Inserting Values to ndarray\n",
    "\n",
    "\n",
    "## `np.delete`\n",
    "\n",
    "`np.delete(ndarray, elements, axis)`\n",
    "\n",
    "### 1D Array"
   ]
  },
  {
   "cell_type": "code",
   "execution_count": 143,
   "metadata": {},
   "outputs": [
    {
     "name": "stdout",
     "output_type": "stream",
     "text": [
      "Original array: \n",
      " [[1 2 3]\n",
      " [4 5 6]\n",
      " [7 8 9]] \n",
      "\n",
      "First and last element deleted:\n",
      " [2 3 4 6 7 8 9] \n",
      "\n"
     ]
    }
   ],
   "source": [
    "x = np.arange(1,10).reshape((3,3))\n",
    "print(\"Original array: \\n\", x, '\\n')\n",
    "\n",
    "# delete the first and last element of x\n",
    "x_1 = np.delete(x, [0, 4])\n",
    "print(\"First and last element deleted:\\n\", x_1, \"\\n\")"
   ]
  },
  {
   "cell_type": "markdown",
   "metadata": {},
   "source": [
    "### 2D Array"
   ]
  },
  {
   "cell_type": "code",
   "execution_count": 144,
   "metadata": {},
   "outputs": [
    {
     "name": "stdout",
     "output_type": "stream",
     "text": [
      "First row deleted: \n",
      " [[4 5 6]\n",
      " [7 8 9]] \n",
      "\n",
      "First and last column deleted: \n",
      " [[2]\n",
      " [5]\n",
      " [8]]\n"
     ]
    }
   ],
   "source": [
    "# delete first row of x\n",
    "x_2 = np.delete(x, 0, axis=0)\n",
    "print(\"First row deleted: \\n\", x_2, \"\\n\")\n",
    "\n",
    "\n",
    "# delete the first and last column of x\n",
    "x_3 = np.delete(x, [0,2], axis=1)\n",
    "print(\"First and last column deleted: \\n\", x_3)"
   ]
  },
  {
   "cell_type": "markdown",
   "metadata": {},
   "source": [
    "## `np.append`\n",
    "\n",
    "`np.append(ndarray, elements, axis)`"
   ]
  },
  {
   "cell_type": "code",
   "execution_count": 146,
   "metadata": {},
   "outputs": [],
   "source": [
    "x = np.arange(1,6)\n",
    "y = np.arange(1,7).reshape((2,3))"
   ]
  },
  {
   "cell_type": "markdown",
   "metadata": {},
   "source": [
    "### 1D Array"
   ]
  },
  {
   "cell_type": "code",
   "execution_count": 145,
   "metadata": {},
   "outputs": [
    {
     "name": "stdout",
     "output_type": "stream",
     "text": [
      "x:\n",
      " [[1 2 3]\n",
      " [4 5 6]\n",
      " [7 8 9]] \n",
      "\n",
      "\n",
      "modified x:\n",
      " [1 2 3 4 5 6 7 8 9 6]\n"
     ]
    }
   ],
   "source": [
    "# append a value\n",
    "print(\"x:\\n\", x, '\\n')\n",
    "print(\"\\nmodified x:\\n\", np.append(x, 6))"
   ]
  },
  {
   "cell_type": "code",
   "execution_count": 142,
   "metadata": {},
   "outputs": [
    {
     "name": "stdout",
     "output_type": "stream",
     "text": [
      "x:\n",
      " [1 2 3 4 5] \n",
      "\n",
      "\n",
      "modified x:\n",
      " [1 2 3 4 5 6 7]\n"
     ]
    }
   ],
   "source": [
    "# append multiple values\n",
    "print(\"x:\\n\", x, '\\n')\n",
    "print(\"\\nmodified x:\\n\",np.append(x, [6,7]))"
   ]
  },
  {
   "cell_type": "markdown",
   "metadata": {},
   "source": [
    "### 2D Array"
   ]
  },
  {
   "cell_type": "code",
   "execution_count": 137,
   "metadata": {},
   "outputs": [
    {
     "name": "stdout",
     "output_type": "stream",
     "text": [
      "y:\n",
      " [[1 2 3]\n",
      " [4 5 6]]\n",
      "\n",
      "modified y: \n",
      " [[1 2 3]\n",
      " [4 5 6]\n",
      " [7 8 9]]\n"
     ]
    }
   ],
   "source": [
    "# append a new row\n",
    "print(\"y:\\n\", y)\n",
    "print(\"\\nmodified y: \\n\", np.append(y, [[7,8,9]], axis=0))"
   ]
  },
  {
   "cell_type": "code",
   "execution_count": 161,
   "metadata": {},
   "outputs": [
    {
     "name": "stdout",
     "output_type": "stream",
     "text": [
      "y:\n",
      " [[1 2 3]\n",
      " [4 5 6]]\n",
      "\n",
      "modified y: \n",
      " [[ 1  2  3  9]\n",
      " [ 4  5  6 10]]\n"
     ]
    }
   ],
   "source": [
    "# append a new column\n",
    "print(\"y:\\n\", y)\n",
    "print(\"\\nmodified y: \\n\", np.append(y, [[9],[10]], axis=1))"
   ]
  },
  {
   "cell_type": "markdown",
   "metadata": {},
   "source": [
    "## `np.insert`\n",
    "\n",
    "### 1D Array"
   ]
  },
  {
   "cell_type": "code",
   "execution_count": 149,
   "metadata": {},
   "outputs": [
    {
     "name": "stdout",
     "output_type": "stream",
     "text": [
      "x:\n",
      " [1 2 3 4 5] \n",
      "\n",
      "\n",
      "modified x:\n",
      " [1 2 8 9 3 4 5]\n"
     ]
    }
   ],
   "source": [
    "x = np.arange(1,6)\n",
    "\n",
    "# insert 8 and 9 at the third element\n",
    "print(\"x:\\n\", x, '\\n')\n",
    "print(\"\\nmodified x:\\n\",np.insert(x, 2, [8,9]))"
   ]
  },
  {
   "cell_type": "markdown",
   "metadata": {},
   "source": [
    "### 2D Array"
   ]
  },
  {
   "cell_type": "code",
   "execution_count": 152,
   "metadata": {},
   "outputs": [
    {
     "name": "stdout",
     "output_type": "stream",
     "text": [
      "y:\n",
      " [[1 2 3]\n",
      " [4 5 6]]\n",
      "\n",
      "modified y: \n",
      " [[1 2 3]\n",
      " [7 8 9]\n",
      " [4 5 6]]\n"
     ]
    }
   ],
   "source": [
    "y = np.arange(1,7).reshape((2,3))\n",
    "\n",
    "# insert [7,8,9] into the second row of the matrix (2D array)\n",
    "print(\"y:\\n\", y)\n",
    "print(\"\\nmodified y: \\n\", np.insert(y, 1, [[7,8,9]], axis=0))"
   ]
  },
  {
   "cell_type": "code",
   "execution_count": 156,
   "metadata": {},
   "outputs": [
    {
     "name": "stdout",
     "output_type": "stream",
     "text": [
      "y:\n",
      " [[1 2 3]\n",
      " [4 5 6]]\n",
      "\n",
      "modified y: \n",
      " [[ 1  9  2  3]\n",
      " [ 4 10  5  6]]\n"
     ]
    }
   ],
   "source": [
    "# insert [9, 10] into the second column of the matrix\n",
    "print(\"y:\\n\", y)\n",
    "print(\"\\nmodified y: \\n\", np.insert(y, 1, [9,10], axis=1))"
   ]
  },
  {
   "cell_type": "markdown",
   "metadata": {},
   "source": [
    "# Stacking arrays\n",
    "\n",
    "## `vstack`"
   ]
  },
  {
   "cell_type": "code",
   "execution_count": 163,
   "metadata": {},
   "outputs": [],
   "source": [
    "x = np.array([1,2])\n",
    "y = np.array([[3,4], [5,6]])"
   ]
  },
  {
   "cell_type": "code",
   "execution_count": 167,
   "metadata": {},
   "outputs": [
    {
     "name": "stdout",
     "output_type": "stream",
     "text": [
      "x: \n",
      " [1 2]\n",
      "\n",
      "y: \n",
      " [[3 4]\n",
      " [5 6]]\n",
      "\n",
      "stacked vertically:\n",
      " [[1 2]\n",
      " [3 4]\n",
      " [5 6]]\n"
     ]
    }
   ],
   "source": [
    "# vstack x and y\n",
    "print(\"x: \\n\", x)\n",
    "print(\"\\ny: \\n\", y)\n",
    "print(\"\\nstacked vertically:\\n\", np.vstack((x,y)))"
   ]
  },
  {
   "cell_type": "markdown",
   "metadata": {},
   "source": [
    "### `hstack`"
   ]
  },
  {
   "cell_type": "code",
   "execution_count": 171,
   "metadata": {},
   "outputs": [
    {
     "name": "stdout",
     "output_type": "stream",
     "text": [
      "x: \n",
      " [1 2]\n",
      "\n",
      "y: \n",
      " [[3 4]\n",
      " [5 6]]\n",
      "\n",
      "stacked horizontally:\n",
      " [[3 4 1]\n",
      " [5 6 2]]\n"
     ]
    }
   ],
   "source": [
    "# hstack x and y\n",
    "# in order to stack horizontally, we need to reshape x as 2 by 1 first\n",
    "print(\"x: \\n\", x)\n",
    "print(\"\\ny: \\n\", y)\n",
    "print(\"\\nstacked horizontally:\\n\", np.hstack((y, x.reshape(2,1))))"
   ]
  },
  {
   "cell_type": "markdown",
   "metadata": {},
   "source": [
    "# Slicing ndarrays\n",
    "\n",
    "## 1D array\n",
    "\n",
    "```python\n",
    "1. ndarray[start:end]\n",
    "2. ndarray[start:]\n",
    "3. ndarray[:end]\n",
    "```\n",
    "\n",
    "## 2D array\n",
    "\n",
    "\n",
    "```python\n",
    "ndarray[row_start:row_end, col_start:col_end]\n",
    "```"
   ]
  },
  {
   "cell_type": "code",
   "execution_count": 181,
   "metadata": {},
   "outputs": [
    {
     "name": "stdout",
     "output_type": "stream",
     "text": [
      "[[ 1  2  3  4  5]\n",
      " [ 6  7  8  9 10]\n",
      " [11 12 13 14 15]\n",
      " [16 17 18 19 20]] \n",
      "\n"
     ]
    }
   ],
   "source": [
    "x = np.arange(1,21).reshape(4,5)\n",
    "print(x,'\\n')"
   ]
  },
  {
   "cell_type": "code",
   "execution_count": 183,
   "metadata": {},
   "outputs": [
    {
     "name": "stdout",
     "output_type": "stream",
     "text": [
      "[[ 8  9 10]\n",
      " [13 14 15]\n",
      " [18 19 20]]\n"
     ]
    }
   ],
   "source": [
    "# Select elements in 2nd - 4th rows and 3rd-5th cols\n",
    "print(x[1:4, 2:5])"
   ]
  },
  {
   "cell_type": "code",
   "execution_count": 184,
   "metadata": {},
   "outputs": [
    {
     "name": "stdout",
     "output_type": "stream",
     "text": [
      "[[ 8  9 10]\n",
      " [13 14 15]\n",
      " [18 19 20]]\n"
     ]
    }
   ],
   "source": [
    "# Select elements in 2nd - last row and 3rd - last cols\n",
    "print(x[1:,2:])"
   ]
  },
  {
   "cell_type": "code",
   "execution_count": 178,
   "metadata": {},
   "outputs": [
    {
     "name": "stdout",
     "output_type": "stream",
     "text": [
      "[[ 3  4  5]\n",
      " [ 8  9 10]\n",
      " [13 14 15]]\n"
     ]
    }
   ],
   "source": [
    "# Select elements in first 3 rows and 3rd - last cols\n",
    "print(x[:3, 2:])"
   ]
  },
  {
   "cell_type": "code",
   "execution_count": 180,
   "metadata": {},
   "outputs": [
    {
     "name": "stdout",
     "output_type": "stream",
     "text": [
      "[11 12 13 14 15]\n"
     ]
    }
   ],
   "source": [
    "# Select all elements of 3rd row\n",
    "print(x[2, :])"
   ]
  },
  {
   "cell_type": "code",
   "execution_count": 179,
   "metadata": {},
   "outputs": [
    {
     "name": "stdout",
     "output_type": "stream",
     "text": [
      "[ 3  8 13 18]\n"
     ]
    }
   ],
   "source": [
    "# Select all elements of 3rd col - result as 1D array\n",
    "print(x[:, 2])"
   ]
  },
  {
   "cell_type": "code",
   "execution_count": 185,
   "metadata": {},
   "outputs": [
    {
     "name": "stdout",
     "output_type": "stream",
     "text": [
      "[[ 3]\n",
      " [ 8]\n",
      " [13]\n",
      " [18]]\n"
     ]
    }
   ],
   "source": [
    "# Select all elements of 3rd col - result as 2D array\n",
    "print(x[:, 2:3])"
   ]
  },
  {
   "cell_type": "markdown",
   "metadata": {},
   "source": [
    "## Create a new ndarray using slicing with `np.copy` \n",
    "\n",
    "Assigning a sliced ndarray to a new variable will actually just create a new variable points to the same object as the old variable. **Modifying the new variable will also modifies the old variable too**."
   ]
  },
  {
   "cell_type": "code",
   "execution_count": 186,
   "metadata": {},
   "outputs": [
    {
     "name": "stdout",
     "output_type": "stream",
     "text": [
      "x:\n",
      " [[ 1  2  3  4  5]\n",
      " [ 6  7  8  9 10]\n",
      " [11 12 13 14 15]\n",
      " [16 17 18 19 20]] \n",
      "\n",
      "z:\n",
      " [[ 8  9 10]\n",
      " [13 14 15]\n",
      " [18 19 20]]\n"
     ]
    }
   ],
   "source": [
    "z = x[1:4, 2:5]\n",
    "print('x:\\n', x, '\\n')\n",
    "print('z:\\n', z)"
   ]
  },
  {
   "cell_type": "code",
   "execution_count": 187,
   "metadata": {},
   "outputs": [
    {
     "name": "stdout",
     "output_type": "stream",
     "text": [
      "x:\n",
      " [[  1   2   3   4   5]\n",
      " [  6   7   8   9  10]\n",
      " [ 11  12  13  14  15]\n",
      " [ 16  17  18  19 555]] \n",
      "\n",
      "z:\n",
      " [[  8   9  10]\n",
      " [ 13  14  15]\n",
      " [ 18  19 555]]\n"
     ]
    }
   ],
   "source": [
    "# Modifying z will also modifies x\n",
    "z[2,2]=555\n",
    "print('x:\\n', x, '\\n')\n",
    "print('z:\\n', z)"
   ]
  },
  {
   "cell_type": "markdown",
   "metadata": {},
   "source": [
    "#### Use `np.copy` to create new ndarray with slicing\n",
    "\n",
    "This will create a new variable pointing to a new object created from the old sliced ndarray."
   ]
  },
  {
   "cell_type": "code",
   "execution_count": 188,
   "metadata": {},
   "outputs": [
    {
     "name": "stdout",
     "output_type": "stream",
     "text": [
      "x:\n",
      " [[  1   2   3   4   5]\n",
      " [  6   7   8   9  10]\n",
      " [ 11  12  13  14  15]\n",
      " [ 16  17  18  19 555]] \n",
      "\n",
      "z:\n",
      " [[  8   9  10]\n",
      " [ 13  14  15]\n",
      " [ 18  19 555]]\n"
     ]
    }
   ],
   "source": [
    "z = np.copy(x[1:4, 2:5])\n",
    "print('x:\\n', x, '\\n')\n",
    "print('z:\\n', z)"
   ]
  },
  {
   "cell_type": "code",
   "execution_count": 189,
   "metadata": {},
   "outputs": [
    {
     "name": "stdout",
     "output_type": "stream",
     "text": [
      "x:\n",
      " [[  1   2   3   4   5]\n",
      " [  6   7   8   9  10]\n",
      " [ 11  12  13  14  15]\n",
      " [ 16  17  18  19 555]] \n",
      "\n",
      "z:\n",
      " [[ 8  9 10]\n",
      " [13 14 15]\n",
      " [18 19 50]]\n"
     ]
    }
   ],
   "source": [
    "z[2,2]=50\n",
    "print('x:\\n', x, '\\n')\n",
    "print('z:\\n', z)"
   ]
  },
  {
   "cell_type": "markdown",
   "metadata": {},
   "source": [
    "## Slicing with special built-in functions\n",
    "\n",
    "### `np.diag(ndarray, k=N)` \n",
    "\n",
    "The function extracts the elements along the diagonal defined by `N`. \n",
    "- As default is `k=0`, which refers to the main diagonal. \n",
    "- Values of `k > 0` are used to select elements in diagonals above the main diagonal, and \n",
    "- values of `k < 0` are used to select elements in diagonals below the main diagonal."
   ]
  },
  {
   "cell_type": "code",
   "execution_count": 196,
   "metadata": {},
   "outputs": [
    {
     "name": "stdout",
     "output_type": "stream",
     "text": [
      "x:\n",
      " [[ 0  1  2  3  4]\n",
      " [ 5  6  7  8  9]\n",
      " [10 11 12 13 14]\n",
      " [15 16 17 18 19]\n",
      " [20 21 22 23 24]] \n",
      "\n",
      "on main diagonal:\n",
      " [ 0  6 12 18 24]\n"
     ]
    }
   ],
   "source": [
    "# Select the elements in the main diagonal\n",
    "x = np.arange(25).reshape(5,5)\n",
    "print('x:\\n', x, '\\n')\n",
    "print('on main diagonal:\\n', np.diag(x))"
   ]
  },
  {
   "cell_type": "code",
   "execution_count": 195,
   "metadata": {},
   "outputs": [
    {
     "name": "stdout",
     "output_type": "stream",
     "text": [
      "x:\n",
      " [[ 0  1  2  3  4]\n",
      " [ 5  6  7  8  9]\n",
      " [10 11 12 13 14]\n",
      " [15 16 17 18 19]\n",
      " [20 21 22 23 24]] \n",
      "\n",
      "above main diagonal:\n",
      " [ 1  7 13 19]\n"
     ]
    }
   ],
   "source": [
    "# Select the elements above the main diagonal\n",
    "print('x:\\n', x, '\\n')\n",
    "print('above main diagonal:\\n', np.diag(x, k=1))"
   ]
  },
  {
   "cell_type": "code",
   "execution_count": 194,
   "metadata": {},
   "outputs": [
    {
     "name": "stdout",
     "output_type": "stream",
     "text": [
      "x:\n",
      " [[ 0  1  2  3  4]\n",
      " [ 5  6  7  8  9]\n",
      " [10 11 12 13 14]\n",
      " [15 16 17 18 19]\n",
      " [20 21 22 23 24]] \n",
      "\n",
      "below main diagonal:\n",
      " [ 5 11 17 23]\n"
     ]
    }
   ],
   "source": [
    "# Select the elements below the main diagonal\n",
    "print('x:\\n', x, '\\n')\n",
    "print('below main diagonal:\\n', np.diag(x, k=-1))"
   ]
  },
  {
   "cell_type": "markdown",
   "metadata": {},
   "source": [
    "### `np.unique(ndarray)`\n",
    "\n",
    "The function extracts only the unique elements in an ndarray."
   ]
  },
  {
   "cell_type": "code",
   "execution_count": 197,
   "metadata": {},
   "outputs": [
    {
     "name": "stdout",
     "output_type": "stream",
     "text": [
      "x:\n",
      " [[1 2 3]\n",
      " [5 2 8]\n",
      " [1 2 3]] \n",
      "\n",
      "unique elements in x:\n",
      " [1 2 3 5 8]\n"
     ]
    }
   ],
   "source": [
    "x = np.array([[1,2,3],[5,2,8],[1,2,3]])\n",
    "print('x:\\n', x, '\\n')\n",
    "print('unique elements in x:\\n', np.unique(x))"
   ]
  },
  {
   "cell_type": "markdown",
   "metadata": {},
   "source": [
    "# Boolean Indexing"
   ]
  },
  {
   "cell_type": "code",
   "execution_count": 214,
   "metadata": {},
   "outputs": [
    {
     "name": "stdout",
     "output_type": "stream",
     "text": [
      "\n",
      "x:\n",
      " [[ 0  1  2  3  4]\n",
      " [ 5  6  7  8  9]\n",
      " [10 11 12 13 14]\n",
      " [15 16 17 18 19]\n",
      " [20 21 22 23 24]] \n",
      "\n",
      "greater than 10:\n",
      " [11 12 13 14 15 16 17 18 19 20 21 22 23 24]\n",
      "less than or equal to 7:\n",
      " [0 1 2 3 4 5 6 7]\n",
      "between 10 and 17:\n",
      " [11 12 13 14 15 16]\n"
     ]
    }
   ],
   "source": [
    "x = np.arange(25).reshape(5, 5)\n",
    "\n",
    "print()\n",
    "print('x:\\n', x, '\\n')\n",
    "\n",
    "# to select elements in X:\n",
    "print('greater than 10:\\n', x[x > 10])\n",
    "print('less than or equal to 7:\\n', x[x <= 7])\n",
    "print('between 10 and 17:\\n', x[(x > 10) & (x < 17)])"
   ]
  },
  {
   "cell_type": "code",
   "execution_count": 215,
   "metadata": {},
   "outputs": [
    {
     "name": "stdout",
     "output_type": "stream",
     "text": [
      "[[ 0  1  2  3  4]\n",
      " [ 5  6  7  8  9]\n",
      " [10 -1 -1 -1 -1]\n",
      " [-1 -1 17 18 19]\n",
      " [20 21 22 23 24]]\n"
     ]
    }
   ],
   "source": [
    "# to assign the elements between 10 and 17 as -1\n",
    "x[(x > 10) & (x < 17)] = -1\n",
    "print(x)"
   ]
  },
  {
   "cell_type": "markdown",
   "metadata": {},
   "source": [
    "# Set Operations\n",
    "\n",
    "## `np.intersect1d`, `np.setdiff1d`, `np.union1d`\n",
    "\n",
    "This is useful when **comparing ndarrays**, for example, to find common elements between two ndarrays. "
   ]
  },
  {
   "cell_type": "code",
   "execution_count": 220,
   "metadata": {},
   "outputs": [
    {
     "name": "stdout",
     "output_type": "stream",
     "text": [
      "x:\n",
      "[1 2 3 4 5]\n",
      "\n",
      "y:\n",
      "[6 7 2 8 4]\n",
      "\n",
      "both in x and y: [2 4]\n",
      "in x that are not in y: [1 3 5]\n",
      "x and y: [1 2 3 4 5 6 7 8]\n"
     ]
    }
   ],
   "source": [
    "x = np.array([1,2,3,4,5])\n",
    "y = np.array([6,7,2,8,4])\n",
    "\n",
    "\n",
    "print('x:\\n{}\\n'.format(x))\n",
    "print('y:\\n{}\\n'.format(y))\n",
    "\n",
    "# set operations to compare x and y\n",
    "print('both in x and y:', np.intersect1d(x,y))\n",
    "print('in x that are not in y:', np.setdiff1d(x,y))\n",
    "print('x and y:',np.union1d(x,y))"
   ]
  },
  {
   "cell_type": "markdown",
   "metadata": {},
   "source": [
    "# Sorting ndarrays\n",
    "\n",
    "\n",
    "\n",
    "## 1D array\n",
    "\n",
    "### `np.sort` vs `ndarray.sort` \n",
    "\n",
    "`np.sort(ndarray)` - it won't modify the order of the original ndarray."
   ]
  },
  {
   "cell_type": "code",
   "execution_count": 236,
   "metadata": {},
   "outputs": [
    {
     "name": "stdout",
     "output_type": "stream",
     "text": [
      "x: \n",
      "[6 8 6 3 7 4 7 6 5 1]\n",
      "\n",
      "sorted:\n",
      "[1 3 4 5 6 6 6 7 7 8]\n",
      "\n",
      "x after sorting: \n",
      "[6 8 6 3 7 4 7 6 5 1]\n",
      "\n"
     ]
    }
   ],
   "source": [
    "x = np.random.randint(1,11, size=(10,))\n",
    "print('x: \\n{}\\n'.format(x))\n",
    "print('sorted:\\n{}\\n'.format(np.sort(x)))\n",
    "print('x after sorting: \\n{}\\n'.format(x))"
   ]
  },
  {
   "cell_type": "markdown",
   "metadata": {},
   "source": [
    "`ndarray.sort()` - it will modify the order of the ndarray."
   ]
  },
  {
   "cell_type": "code",
   "execution_count": 238,
   "metadata": {},
   "outputs": [
    {
     "name": "stdout",
     "output_type": "stream",
     "text": [
      "x: \n",
      "[3 1 7 1 4 1 5 2 3 3]\n",
      "\n",
      "x after sorting: \n",
      "[1 1 1 2 3 3 3 4 5 7]\n",
      "\n"
     ]
    }
   ],
   "source": [
    "x = np.random.randint(1,11, size=(10,))\n",
    "print('x: \\n{}\\n'.format(x))\n",
    "\n",
    "x.sort()\n",
    "print('x after sorting: \\n{}\\n'.format(x))"
   ]
  },
  {
   "cell_type": "markdown",
   "metadata": {},
   "source": [
    "## 2D array"
   ]
  },
  {
   "cell_type": "code",
   "execution_count": 248,
   "metadata": {},
   "outputs": [
    {
     "name": "stdout",
     "output_type": "stream",
     "text": [
      "x: \n",
      "[[ 6]\n",
      " [10]\n",
      " [ 5]\n",
      " [ 5]\n",
      " [ 7]\n",
      " [ 1]\n",
      " [ 7]\n",
      " [ 5]\n",
      " [ 7]\n",
      " [ 5]]\n",
      "\n",
      "sorted:\n",
      "[[ 1]\n",
      " [ 5]\n",
      " [ 5]\n",
      " [ 5]\n",
      " [ 5]\n",
      " [ 6]\n",
      " [ 7]\n",
      " [ 7]\n",
      " [ 7]\n",
      " [10]]\n",
      "\n"
     ]
    }
   ],
   "source": [
    "x = np.random.randint(1,11, size=(10,1))\n",
    "print('x: \\n{}\\n'.format(x))\n",
    "\n",
    "# sorted rows\n",
    "print('sorted:\\n{}\\n'.format(np.sort(x, axis=0)))"
   ]
  },
  {
   "cell_type": "code",
   "execution_count": 246,
   "metadata": {},
   "outputs": [
    {
     "name": "stdout",
     "output_type": "stream",
     "text": [
      "x: \n",
      "[[ 4 10]\n",
      " [ 9  4]\n",
      " [ 8  8]\n",
      " [ 7  1]\n",
      " [ 9  1]]\n",
      "\n",
      "sorted:\n",
      "[[ 4  1]\n",
      " [ 7  1]\n",
      " [ 8  4]\n",
      " [ 9  8]\n",
      " [ 9 10]]\n",
      "\n"
     ]
    }
   ],
   "source": [
    "x = np.random.randint(1,11, size=(5,2))\n",
    "print('x: \\n{}\\n'.format(x))\n",
    "\n",
    "# sorted rows\n",
    "print('sorted:\\n{}\\n'.format(np.sort(x, axis=0)))"
   ]
  },
  {
   "cell_type": "code",
   "execution_count": 247,
   "metadata": {},
   "outputs": [
    {
     "name": "stdout",
     "output_type": "stream",
     "text": [
      "x: \n",
      "[[ 9  6  5  5  4]\n",
      " [ 9  8  1  9  5]\n",
      " [ 4  7  1  7  6]\n",
      " [ 7  8  4 10  8]\n",
      " [ 6  7  1  2  2]]\n",
      "\n",
      "sorted:\n",
      "[[ 4  5  5  6  9]\n",
      " [ 1  5  8  9  9]\n",
      " [ 1  4  6  7  7]\n",
      " [ 4  7  8  8 10]\n",
      " [ 1  2  2  6  7]]\n",
      "\n"
     ]
    }
   ],
   "source": [
    "x = np.random.randint(1,11, size=(5,5))\n",
    "print('x: \\n{}\\n'.format(x))\n",
    "\n",
    "# sorted columns\n",
    "print('sorted:\\n{}\\n'.format(np.sort(x, axis=1)))"
   ]
  },
  {
   "cell_type": "markdown",
   "metadata": {},
   "source": [
    "# Arithmetic Operations\n",
    "\n",
    "## Element-wise \n",
    "\n",
    "### 1D Array"
   ]
  },
  {
   "cell_type": "code",
   "execution_count": 259,
   "metadata": {},
   "outputs": [
    {
     "name": "stdout",
     "output_type": "stream",
     "text": [
      "x:\n",
      "[1 2 3 4]\n",
      "\n",
      "y:\n",
      "[5.5 6.5 7.5 8.5]\n",
      "\n",
      "x + y =  [ 6.5  8.5 10.5 12.5]\n",
      "add(x,y) =  [ 6.5  8.5 10.5 12.5]\n",
      "\n",
      "x - y =  [-4.5 -4.5 -4.5 -4.5]\n",
      "subtract(x,y) =  [-4.5 -4.5 -4.5 -4.5]\n",
      "\n",
      "x * y =  [ 5.5 13.  22.5 34. ]\n",
      "multiply(x,y) =  [ 5.5 13.  22.5 34. ]\n",
      "\n",
      "x / y =  [0.18181818 0.30769231 0.4        0.47058824]\n",
      "divide(x,y) =  [0.18181818 0.30769231 0.4        0.47058824]\n",
      "\n",
      "EXP(x) = [ 2.71828183  7.3890561  20.08553692 54.59815003]\n",
      "\n",
      "SQRT(x) = [1.         1.41421356 1.73205081 2.        ]\n",
      "\n",
      "POW(x,2) = [ 1  4  9 16]\n"
     ]
    }
   ],
   "source": [
    "x = np.array([1,2,3,4])\n",
    "y = np.array([5.5,6.5,7.5,8.5])\n",
    "print('x:\\n{}\\n'.format(x))\n",
    "print('y:\\n{}\\n'.format(y))\n",
    "\n",
    "# element-wise operation using arithmetic symbols and function\n",
    "print('x + y = ', x + y)\n",
    "print('add(x,y) = ', np.add(x,y))\n",
    "print()\n",
    "print('x - y = ', x - y)\n",
    "print('subtract(x,y) = ', np.subtract(x,y))\n",
    "print()\n",
    "print('x * y = ', x * y)\n",
    "print('multiply(x,y) = ', np.multiply(x,y))\n",
    "print()\n",
    "print('x / y = ', x / y)\n",
    "print('divide(x,y) = ', np.divide(x,y))\n",
    "print()\n",
    "\n",
    "# apply math function to all elements in 1D array\n",
    "print('EXP(x) =', np.exp(x))\n",
    "print()\n",
    "print('SQRT(x) =',np.sqrt(x))\n",
    "print()\n",
    "print('POW(x,2) =',np.power(x,2)) # We raise all elements to the power of 2"
   ]
  },
  {
   "cell_type": "markdown",
   "metadata": {},
   "source": [
    "### 2D array"
   ]
  },
  {
   "cell_type": "code",
   "execution_count": 265,
   "metadata": {},
   "outputs": [
    {
     "name": "stdout",
     "output_type": "stream",
     "text": [
      "X:\n",
      "[[1 2]\n",
      " [3 4]]\n",
      "\n",
      "Y:\n",
      "[[5.5 6.5]\n",
      " [7.5 8.5]]\n",
      "\n",
      "X + Y = \n",
      " [[ 6.5  8.5]\n",
      " [10.5 12.5]]\n",
      "\n",
      "add(X,Y) = \n",
      " [[ 6.5  8.5]\n",
      " [10.5 12.5]]\n",
      "\n",
      "X - Y = \n",
      " [[-4.5 -4.5]\n",
      " [-4.5 -4.5]]\n",
      "\n",
      "subtract(X,Y) = \n",
      " [[-4.5 -4.5]\n",
      " [-4.5 -4.5]]\n",
      "\n",
      "X * Y = \n",
      " [[ 5.5 13. ]\n",
      " [22.5 34. ]]\n",
      "\n",
      "multiply(X,Y) = \n",
      " [[ 5.5 13. ]\n",
      " [22.5 34. ]]\n",
      "\n",
      "X / Y = \n",
      " [[0.18181818 0.30769231]\n",
      " [0.4        0.47058824]]\n",
      "\n",
      "divide(X,Y) = \n",
      " [[0.18181818 0.30769231]\n",
      " [0.4        0.47058824]]\n",
      "\n",
      "======= Apply math functions in 2D array:===========\n",
      "\n",
      "EXP(x):\n",
      "[[ 2.71828183  7.3890561 ]\n",
      " [20.08553692 54.59815003]]\n",
      "\n",
      "SQRT(x):\n",
      "[[1.         1.41421356]\n",
      " [1.73205081 2.        ]]\n",
      "\n",
      "POW(x,2):\n",
      "[[ 1  4]\n",
      " [ 9 16]]\n",
      "\n",
      "\n",
      "======= Apply stat functions in 2D array:===========\n",
      "\n",
      "Average of all elements in X: 2.5\n",
      "Average of all elements in the columns of X: [2. 3.]\n",
      "Average of all elements in the rows of X: [1.5 3.5]\n",
      "\n",
      "Sum of all elements in X: 10\n",
      "Sum of all elements in the columns of X: [4 6]\n",
      "Sum of all elements in the rows of X: [3 7]\n",
      "\n"
     ]
    }
   ],
   "source": [
    "X = np.array([1,2,3,4]).reshape(2,2)\n",
    "Y = np.array([5.5,6.5,7.5,8.5]).reshape(2,2)\n",
    "print('X:\\n{}\\n'.format(X))\n",
    "print('Y:\\n{}\\n'.format(Y))\n",
    "\n",
    "# element-wise operations using arithmetic symbols and functions\n",
    "print('X + Y = \\n', X + Y)\n",
    "print()\n",
    "print('add(X,Y) = \\n', np.add(X,Y))\n",
    "print()\n",
    "print('X - Y = \\n', X - Y)\n",
    "print()\n",
    "print('subtract(X,Y) = \\n', np.subtract(X,Y))\n",
    "print()\n",
    "print('X * Y = \\n', X * Y)\n",
    "print()\n",
    "print('multiply(X,Y) = \\n', np.multiply(X,Y))\n",
    "print()\n",
    "print('X / Y = \\n', X / Y)\n",
    "print()\n",
    "print('divide(X,Y) = \\n', np.divide(X,Y))\n",
    "\n",
    "\n",
    "# apply math functions in 2D array:\n",
    "print(\"\\n======= Apply math functions in 2D array:===========\\n\")\n",
    "print('EXP(x):\\n{}\\n'.format(np.exp(X)))\n",
    "print('SQRT(x):\\n{}\\n'.format(np.sqrt(X)))\n",
    "print('POW(x,2):\\n{}\\n'.format(np.power(X,2)))\n",
    "\n",
    "\n",
    "# apply stat functions in 2D array:\n",
    "print(\"\\n======= Apply stat functions in 2D array:===========\\n\")\n",
    "print('Average of all elements in X:', X.mean())\n",
    "print('Average of all elements in the columns of X:', X.mean(axis=0))\n",
    "print('Average of all elements in the rows of X:', X.mean(axis=1))\n",
    "print()\n",
    "print('Sum of all elements in X:', X.sum())\n",
    "print('Sum of all elements in the columns of X:', X.sum(axis=0))\n",
    "print('Sum of all elements in the rows of X:', X.sum(axis=1))\n",
    "print()"
   ]
  },
  {
   "cell_type": "markdown",
   "metadata": {},
   "source": [
    "## Matrix-wise (not discussed)\n",
    "\n",
    "\n",
    "# Broadcasting\n",
    "\n",
    "## 1D array"
   ]
  },
  {
   "cell_type": "code",
   "execution_count": 279,
   "metadata": {},
   "outputs": [
    {
     "name": "stdout",
     "output_type": "stream",
     "text": [
      "\n",
      "X = \n",
      " [[1 2]\n",
      " [3 4]]\n",
      "\n",
      "3 * X = \n",
      " [[ 3  6]\n",
      " [ 9 12]]\n",
      "\n",
      "3 + X = \n",
      " [[4 5]\n",
      " [6 7]]\n",
      "\n",
      "X - 3 = \n",
      " [[-2 -1]\n",
      " [ 0  1]]\n",
      "\n",
      "X / 3 = \n",
      " [[0.33333333 0.66666667]\n",
      " [1.         1.33333333]]\n"
     ]
    }
   ],
   "source": [
    "X = np.arange(1,5).reshape(2,2)\n",
    "print()\n",
    "print('X = \\n', X)\n",
    "print()\n",
    "\n",
    "print('3 * X = \\n', 3 * X)\n",
    "print()\n",
    "print('3 + X = \\n', 3 + X)\n",
    "print()\n",
    "print('X - 3 = \\n', X - 3)\n",
    "print()\n",
    "print('X / 3 = \\n', X / 3)"
   ]
  },
  {
   "cell_type": "markdown",
   "metadata": {},
   "source": [
    "NumPy is working behind the scenes to **broadcast `3` along the ndarray so that they have the same shape**. This allows us to add `3` to each element of `X` with just one line of code.\n",
    "\n",
    "## 2D array\n",
    "Subject to certain constraints, Numpy can do the same for two ndarrays of different shapes, as we can see below."
   ]
  },
  {
   "cell_type": "code",
   "execution_count": 284,
   "metadata": {},
   "outputs": [
    {
     "name": "stdout",
     "output_type": "stream",
     "text": [
      "x:\n",
      "[1 2 3]\n",
      "\n",
      "y:\n",
      "[[ 1  2  3]\n",
      " [ 4  5  6]\n",
      " [ 7  8  9]\n",
      " [10 11 12]]\n",
      "\n",
      "z:\n",
      "[[1]\n",
      " [2]\n",
      " [3]\n",
      " [4]]\n",
      "\n",
      "x + y = \n",
      " [[ 2  4  6]\n",
      " [ 5  7  9]\n",
      " [ 8 10 12]\n",
      " [11 13 15]]\n",
      "\n",
      "z + y = \n",
      " [[ 2  3  4]\n",
      " [ 6  7  8]\n",
      " [10 11 12]\n",
      " [14 15 16]]\n"
     ]
    }
   ],
   "source": [
    "# x is a 1 x 3 row (MUST BE the same row size as y)\n",
    "x = np.arange(1,4)\n",
    "\n",
    "# y is a 4 x 3 array\n",
    "y = np.arange(1,13).reshape(4,3)\n",
    "\n",
    "# Z is a 4 x 1 column (MUST BE the same column size as y)\n",
    "z = np.arange(1,5).reshape(4,1)\n",
    "print('x:\\n{}\\n'.format(x))\n",
    "print('y:\\n{}\\n'.format(y))\n",
    "print('z:\\n{}\\n'.format(z))\n",
    "\n",
    "# Numpy broadcast x or y along y to have the same shape (3 x 3)\n",
    "print('x + y = \\n', x + y)\n",
    "print()\n",
    "print('z + y = \\n',z + y)"
   ]
  },
  {
   "cell_type": "markdown",
   "metadata": {},
   "source": [
    "## Quiz\n",
    "\n",
    "Use Broadcasting to create a 4 x 4 ndarray that has its first column full of 1s, its second column full of 2s, its third column full of 3s, etc.. "
   ]
  },
  {
   "cell_type": "code",
   "execution_count": 286,
   "metadata": {},
   "outputs": [
    {
     "name": "stdout",
     "output_type": "stream",
     "text": [
      "[[1. 2. 3. 4.]\n",
      " [1. 2. 3. 4.]\n",
      " [1. 2. 3. 4.]\n",
      " [1. 2. 3. 4.]]\n"
     ]
    }
   ],
   "source": [
    "X = np.ones((4,4))*np.arange(1,5)\n",
    "print(X)"
   ]
  }
 ],
 "metadata": {
  "kernelspec": {
   "display_name": "Python 3",
   "language": "python",
   "name": "python3"
  },
  "language_info": {
   "codemirror_mode": {
    "name": "ipython",
    "version": 3
   },
   "file_extension": ".py",
   "mimetype": "text/x-python",
   "name": "python",
   "nbconvert_exporter": "python",
   "pygments_lexer": "ipython3",
   "version": "3.7.7"
  },
  "toc": {
   "base_numbering": 1,
   "nav_menu": {},
   "number_sections": false,
   "sideBar": true,
   "skip_h1_title": false,
   "title_cell": "Table of Contents",
   "title_sidebar": "Contents",
   "toc_cell": true,
   "toc_position": {
    "height": "calc(100% - 180px)",
    "left": "10px",
    "top": "150px",
    "width": "443.253px"
   },
   "toc_section_display": true,
   "toc_window_display": true
  }
 },
 "nbformat": 4,
 "nbformat_minor": 4
}
