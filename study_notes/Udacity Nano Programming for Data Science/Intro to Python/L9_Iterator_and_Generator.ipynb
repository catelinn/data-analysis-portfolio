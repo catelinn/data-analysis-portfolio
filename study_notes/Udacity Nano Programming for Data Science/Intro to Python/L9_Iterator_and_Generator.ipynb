{
 "cells": [
  {
   "cell_type": "markdown",
   "metadata": {
    "toc": true
   },
   "source": [
    "<h1>Table of Contents<span class=\"tocSkip\"></span></h1>\n",
    "<div class=\"toc\"><ul class=\"toc-item\"><li><span><a href=\"#Overview\" data-toc-modified-id=\"Overview-1\">Overview</a></span><ul class=\"toc-item\"><li><span><a href=\"#Why-Generators?\" data-toc-modified-id=\"Why-Generators?-1.1\">Why Generators?</a></span></li></ul></li><li><span><a href=\"#Iterator\" data-toc-modified-id=\"Iterator-2\">Iterator</a></span></li><li><span><a href=\"#Generator\" data-toc-modified-id=\"Generator-3\">Generator</a></span><ul class=\"toc-item\"><li><span><a href=\"#yield\" data-toc-modified-id=\"yield-3.1\"><code>yield</code></a></span></li><li><span><a href=\"#Generator-expression\" data-toc-modified-id=\"Generator-expression-3.2\">Generator expression</a></span></li><li><span><a href=\"#Use-Generators\" data-toc-modified-id=\"Use-Generators-3.3\">Use Generators</a></span></li></ul></li><li><span><a href=\"#Advanced-Application-of-Generator\" data-toc-modified-id=\"Advanced-Application-of-Generator-4\">Advanced Application of Generator</a></span></li><li><span><a href=\"#Practice\" data-toc-modified-id=\"Practice-5\">Practice</a></span><ul class=\"toc-item\"><li><span><a href=\"#1.-Implement-my_enumerate\" data-toc-modified-id=\"1.-Implement-my_enumerate-5.1\">1. Implement <code>my_enumerate</code></a></span></li><li><span><a href=\"#2.-Chunker\" data-toc-modified-id=\"2.-Chunker-5.2\">2. Chunker</a></span></li></ul></li></ul></div>"
   ]
  },
  {
   "cell_type": "markdown",
   "metadata": {},
   "source": [
    "# Overview\n",
    "\n",
    "\n",
    "**Iterables** \n",
    "are objects that can return one of their elements at a time, such as a list. Many of the built-in functions we’ve used so far, like `enumerate`, return an iterator.\n",
    "\n",
    "An **iterator** is an object that represents a stream of data. This is different from a list, which is an iterable, but is not an iterator because it is not a stream of data.\n",
    "\n",
    "**Generators** are a simple way to create iterators using functions. You can also define iterators using **classes**, which you can read more about [here](https://docs.python.org/3/tutorial/classes.html#iterators).\n",
    "\n",
    "## Why Generators?\n",
    "\n",
    "> Generators are a lazy way to build iterables. They are useful when the fully realized list would not fit in memory, or when the cost to calculate each list element is high and you want to do it as late as possible. But they can only be iterated over once."
   ]
  },
  {
   "cell_type": "markdown",
   "metadata": {},
   "source": [
    "# Iterator\n",
    "\n",
    "`iterator` is any object whose class has a `next` method (`__next__` in Python 3) and an `__iter__` method that does `return self`."
   ]
  },
  {
   "cell_type": "code",
   "execution_count": 2,
   "metadata": {},
   "outputs": [
    {
     "name": "stdout",
     "output_type": "stream",
     "text": [
      "1\n",
      "2\n",
      "3\n"
     ]
    },
    {
     "ename": "StopIteration",
     "evalue": "",
     "output_type": "error",
     "traceback": [
      "\u001b[0;31m---------------------------------------------------------------------------\u001b[0m",
      "\u001b[0;31mStopIteration\u001b[0m                             Traceback (most recent call last)",
      "\u001b[0;32m<ipython-input-2-364b0e06017f>\u001b[0m in \u001b[0;36m<module>\u001b[0;34m\u001b[0m\n\u001b[1;32m      3\u001b[0m \u001b[0mprint\u001b[0m\u001b[0;34m(\u001b[0m\u001b[0mnext\u001b[0m\u001b[0;34m(\u001b[0m\u001b[0ml_iter\u001b[0m\u001b[0;34m)\u001b[0m\u001b[0;34m)\u001b[0m\u001b[0;34m\u001b[0m\u001b[0;34m\u001b[0m\u001b[0m\n\u001b[1;32m      4\u001b[0m \u001b[0mprint\u001b[0m\u001b[0;34m(\u001b[0m\u001b[0mnext\u001b[0m\u001b[0;34m(\u001b[0m\u001b[0ml_iter\u001b[0m\u001b[0;34m)\u001b[0m\u001b[0;34m)\u001b[0m\u001b[0;34m\u001b[0m\u001b[0;34m\u001b[0m\u001b[0m\n\u001b[0;32m----> 5\u001b[0;31m \u001b[0mprint\u001b[0m\u001b[0;34m(\u001b[0m\u001b[0mnext\u001b[0m\u001b[0;34m(\u001b[0m\u001b[0ml_iter\u001b[0m\u001b[0;34m)\u001b[0m\u001b[0;34m)\u001b[0m \u001b[0;31m# --> the iterator exhausts at the 4th call\u001b[0m\u001b[0;34m\u001b[0m\u001b[0;34m\u001b[0m\u001b[0m\n\u001b[0m",
      "\u001b[0;31mStopIteration\u001b[0m: "
     ]
    }
   ],
   "source": [
    "l_iter = iter([x for x in range(1,4)])\n",
    "print(next(l_iter))\n",
    "print(next(l_iter))\n",
    "print(next(l_iter))\n",
    "print(next(l_iter)) # --> the iterator exhausts at the 4th call "
   ]
  },
  {
   "cell_type": "code",
   "execution_count": 3,
   "metadata": {},
   "outputs": [
    {
     "name": "stdout",
     "output_type": "stream",
     "text": [
      "a\n",
      "b\n",
      "c\n",
      "y\n"
     ]
    }
   ],
   "source": [
    "# handling StopIteration\n",
    "letters = [\"a\", \"b\", \"c\", \"y\"]\n",
    "it = iter(letters)\n",
    "while True:\n",
    "     try:\n",
    "         letter = next(it)\n",
    "     except StopIteration:\n",
    "         break\n",
    "     print(letter)"
   ]
  },
  {
   "cell_type": "markdown",
   "metadata": {},
   "source": [
    "# Generator\n",
    "\n",
    "Every **generator** is an `iterator`, but not vice versa. \n",
    "\n",
    "A generator can be built by \n",
    "1. call a function that has one or more `yield` expressions \n",
    "2. use **generator expression**\n",
    "\n",
    "##  `yield` "
   ]
  },
  {
   "cell_type": "code",
   "execution_count": 4,
   "metadata": {},
   "outputs": [
    {
     "name": "stdout",
     "output_type": "stream",
     "text": [
      "1\n",
      "2\n",
      "3\n"
     ]
    }
   ],
   "source": [
    "# Create a generator using yield instead of return\n",
    "def get_num(start, stop):\n",
    "    for n in range(start, stop):\n",
    "        yield n\n",
    "\n",
    "gen_1 = get_num(1,4)\n",
    "\n",
    "\n",
    "# print from the generator\n",
    "while True:\n",
    "     try:\n",
    "         num = next(gen_1)\n",
    "     except StopIteration:\n",
    "         break\n",
    "     print(num)"
   ]
  },
  {
   "cell_type": "markdown",
   "metadata": {},
   "source": [
    "## Generator expression"
   ]
  },
  {
   "cell_type": "code",
   "execution_count": 5,
   "metadata": {},
   "outputs": [
    {
     "name": "stdout",
     "output_type": "stream",
     "text": [
      "1\n",
      "2\n",
      "3\n"
     ]
    }
   ],
   "source": [
    "# create a generator using generator expression\n",
    "gen_1 = (x for x in range(1,4))\n",
    "\n",
    "# print from the generator\n",
    "while True:\n",
    "     try:\n",
    "         num = next(gen_1)\n",
    "     except StopIteration:\n",
    "         break\n",
    "     print(num)"
   ]
  },
  {
   "cell_type": "markdown",
   "metadata": {},
   "source": [
    "## Use Generators"
   ]
  },
  {
   "cell_type": "code",
   "execution_count": 6,
   "metadata": {},
   "outputs": [
    {
     "data": {
      "text/plain": [
       "[0, 5, 10]"
      ]
     },
     "execution_count": 6,
     "metadata": {},
     "output_type": "execute_result"
    }
   ],
   "source": [
    "gen_1 = (x for x in range(0,15,5)) \n",
    "list(gen_1)"
   ]
  },
  {
   "cell_type": "code",
   "execution_count": 7,
   "metadata": {},
   "outputs": [
    {
     "data": {
      "text/plain": [
       "15"
      ]
     },
     "execution_count": 7,
     "metadata": {},
     "output_type": "execute_result"
    }
   ],
   "source": [
    "gen_1 = (x for x in range(0,15,5)) \n",
    "sum(gen_1)"
   ]
  },
  {
   "cell_type": "code",
   "execution_count": 8,
   "metadata": {},
   "outputs": [
    {
     "name": "stdout",
     "output_type": "stream",
     "text": [
      "0\n",
      "5\n",
      "10\n"
     ]
    }
   ],
   "source": [
    "gen_1 = (x for x in range(0,15,5)) \n",
    "for x in gen_1:\n",
    "    print(x)"
   ]
  },
  {
   "cell_type": "markdown",
   "metadata": {},
   "source": [
    "# Advanced Application of Generator\n",
    "\n",
    "[How to use generators and yield in Python - RealPython](https://realpython.com/introduction-to-python-generators/)\n",
    "\n",
    "- to read large files\n",
    "- generate indefinite sequence\n",
    "- detecting Palindromes\n",
    "- creating data pipelines"
   ]
  },
  {
   "cell_type": "markdown",
   "metadata": {},
   "source": [
    "# Practice\n",
    "\n",
    "## 1. Implement `my_enumerate`\n",
    "\n",
    "Write your own generator function that works like the built-in function `enumerate`."
   ]
  },
  {
   "cell_type": "code",
   "execution_count": 9,
   "metadata": {},
   "outputs": [
    {
     "name": "stdout",
     "output_type": "stream",
     "text": [
      "Lesson 1: Why Python Programming\n",
      "Lesson 2: Data Types and Operators\n",
      "Lesson 3: Control Flow\n",
      "Lesson 4: Functions\n",
      "Lesson 5: Scripting\n"
     ]
    }
   ],
   "source": [
    "lessons = [\"Why Python Programming\", \"Data Types and Operators\", \"Control Flow\", \"Functions\", \"Scripting\"]\n",
    "\n",
    "def my_enumerate(iterable, start=0):\n",
    "    # Implement your generator function here\n",
    "    count = start\n",
    "    for item in iterable:\n",
    "        yield (count, item)\n",
    "        count+=1\n",
    "        \n",
    "\n",
    "for i, lesson in my_enumerate(lessons, 1):\n",
    "    print(\"Lesson {}: {}\".format(i, lesson))"
   ]
  },
  {
   "cell_type": "markdown",
   "metadata": {},
   "source": [
    "## 2. Chunker\n",
    "\n",
    "Implement a generator function, `chunker`, that takes in an iterable and yields a chunk of a specified size at a time. For example, \n",
    "\n",
    "```Python\n",
    "for chunk in chunker(range(25), 4):\n",
    "    print(list(chunk))\n",
    "```\n",
    "Should output:\n",
    "```Python\n",
    "[0, 1, 2, 3]\n",
    "[4, 5, 6, 7]\n",
    "[8, 9, 10, 11]\n",
    "[12, 13, 14, 15]\n",
    "[16, 17, 18, 19]\n",
    "[20, 21, 22, 23]\n",
    "[24]\n",
    "```"
   ]
  },
  {
   "cell_type": "code",
   "execution_count": 10,
   "metadata": {},
   "outputs": [
    {
     "name": "stdout",
     "output_type": "stream",
     "text": [
      "[0, 1, 2, 3]\n",
      "[4, 5, 6, 7]\n",
      "[8, 9, 10, 11]\n",
      "[12, 13, 14, 15]\n",
      "[16, 17, 18, 19]\n",
      "[20, 21, 22, 23]\n",
      "[24]\n"
     ]
    }
   ],
   "source": [
    "def chunker(iterable, size):\n",
    "    # Implement function here\n",
    "    for i in range(0, len(iterable), size):\n",
    "        yield iterable[i:i+size]\n",
    "\n",
    "for chunk in chunker(range(25), 4):\n",
    "    print(list(chunk))"
   ]
  }
 ],
 "metadata": {
  "kernelspec": {
   "display_name": "Python 3",
   "language": "python",
   "name": "python3"
  },
  "language_info": {
   "codemirror_mode": {
    "name": "ipython",
    "version": 3
   },
   "file_extension": ".py",
   "mimetype": "text/x-python",
   "name": "python",
   "nbconvert_exporter": "python",
   "pygments_lexer": "ipython3",
   "version": "3.7.7"
  },
  "toc": {
   "base_numbering": 1,
   "nav_menu": {},
   "number_sections": false,
   "sideBar": true,
   "skip_h1_title": false,
   "title_cell": "Table of Contents",
   "title_sidebar": "Contents",
   "toc_cell": true,
   "toc_position": {},
   "toc_section_display": true,
   "toc_window_display": true
  }
 },
 "nbformat": 4,
 "nbformat_minor": 4
}
