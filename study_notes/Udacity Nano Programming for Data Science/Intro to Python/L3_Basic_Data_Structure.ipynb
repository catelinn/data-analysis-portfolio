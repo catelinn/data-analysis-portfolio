{
 "cells": [
  {
   "cell_type": "markdown",
   "metadata": {
    "toc": true
   },
   "source": [
    "<h1>Table of Contents<span class=\"tocSkip\"></span></h1>\n",
    "<div class=\"toc\"><ul class=\"toc-item\"><li><span><a href=\"#Data-Structure\" data-toc-modified-id=\"Data-Structure-1\">Data Structure</a></span></li><li><span><a href=\"#Two-Important-Properties\" data-toc-modified-id=\"Two-Important-Properties-2\">Two Important Properties</a></span><ul class=\"toc-item\"><li><span><a href=\"#Mutablity\" data-toc-modified-id=\"Mutablity-2.1\">Mutablity</a></span></li><li><span><a href=\"#Order\" data-toc-modified-id=\"Order-2.2\">Order</a></span><ul class=\"toc-item\"><li><span><a href=\"#Indexing-&amp;-Slicing-for-Ordered-Object\" data-toc-modified-id=\"Indexing-&amp;-Slicing-for-Ordered-Object-2.2.1\">Indexing &amp; Slicing for Ordered Object</a></span></li></ul></li></ul></li><li><span><a href=\"#Lists,-Tuples,-Sets\" data-toc-modified-id=\"Lists,-Tuples,-Sets-3\">Lists, Tuples, Sets</a></span></li><li><span><a href=\"#Useful-Functions-for-Lists,-Tuples-and-Sets\" data-toc-modified-id=\"Useful-Functions-for-Lists,-Tuples-and-Sets-4\">Useful Functions for Lists, Tuples and Sets</a></span></li><li><span><a href=\"#Identity-Operatiors\" data-toc-modified-id=\"Identity-Operatiors-5\">Identity Operatiors</a></span></li><li><span><a href=\"#Dictionary\" data-toc-modified-id=\"Dictionary-6\">Dictionary</a></span><ul class=\"toc-item\"><li><span><a href=\"#Nested-Dictionary\" data-toc-modified-id=\"Nested-Dictionary-6.1\">Nested Dictionary</a></span></li></ul></li><li><span><a href=\"#Practice\" data-toc-modified-id=\"Practice-7\">Practice</a></span><ul class=\"toc-item\"><li><span><a href=\"#1.-Count-Unique-Words\" data-toc-modified-id=\"1.-Count-Unique-Words-7.1\">1. Count Unique Words</a></span></li><li><span><a href=\"#2.-Verse-Dictionary\" data-toc-modified-id=\"2.-Verse-Dictionary-7.2\">2. Verse Dictionary</a></span></li><li><span><a href=\"#3.-Create-a-wordcount-dictionary-using-.get\" data-toc-modified-id=\"3.-Create-a-wordcount-dictionary-using-.get-7.3\">3. Create a wordcount dictionary using <code>.get</code></a></span></li></ul></li></ul></div>"
   ]
  },
  {
   "cell_type": "markdown",
   "metadata": {},
   "source": [
    "# Data Structure\n",
    "\n",
    "\n",
    "\n",
    "- Lists\n",
    "- Tuples\n",
    "- Sets\n",
    "- Dictionaries\n",
    "- Compound Data Structures\n",
    "\n",
    "|Data type|Data Structure|\n",
    "|:---|:---|\n",
    "|just a type that classifies data|containers that organize and group data types together in different ways|\n",
    "|- primitive data types e.g. integers, booleans, and strings, <br> - data structures, such as lists|\n",
    "\n",
    "\n",
    "# Two Important Properties\n",
    "\n",
    "\n",
    "## Mutablity\n",
    "\n",
    "**Mutability** is about whether an object can be changed without creating a new object.\n",
    "\n",
    "||Description|Object|\n",
    "|:---|:---|:---|\n",
    "|mutable|no new object created at change|list, set,dictionary|\n",
    "|inmutable|new object will be created at change|string, tuple|\n",
    "\n",
    "## Order\n",
    "\n",
    "**Order** is about whether the position of an element in the object can be used to access the element.\n",
    "\n",
    "||Description|Object|\n",
    "|:---|:---|:---|\n",
    "|ordered|indexing & slicing applicable|list, tuple, string|\n",
    "|un-ordered|indexing & slicing not-applicable|set, dictionary|\n",
    "\n",
    "\n",
    "### Indexing & Slicing for Ordered Object\n",
    "\n",
    "Say there is a list: `arr = ['a', 'b', 'c', 'd', 'e', 'f', 'g']`\n",
    "\n",
    "|||Index|Result|\n",
    "|:---|:---|:---|:---|\n",
    "|Indexing|First element|`arr[0]`|`a`|\n",
    "||Fourth element|`arr[3]`|`d`|\n",
    "||Last element|`arr[-1]`|`g`|\n",
    "|||`arr[len(arr)-1]`|`g`|\n",
    "||Second to last element|`arr[-2]`|`f`|\n",
    "|Slicing|The last 3 elements|`arr[-3:]`|`['e','f','g']`|\n",
    "||The first 3 elements|`arr[:3]`|`['a','b','c']`|\n",
    "||The last 4th to second last element|`arr[-4:-1]`|`['d','e','f']`|\n",
    "||The second to 4th element|`arr[1:4]`|`['b','c','d']`\n"
   ]
  },
  {
   "cell_type": "markdown",
   "metadata": {},
   "source": [
    "# Lists, Tuples, Sets\n",
    "\n",
    "||Factor|Description|Use Case|\n",
    "|:---|:---|:---|:---|\n",
    "|List<br>`[1,'a',{2,3},1,2]`|Mutable, Ordered|Hold items of different data type|to store a list of items that can be accessed by index and slicing easily, also easy for update of value of any item in the list|\n",
    "|Tuple<br>`(2,3,8,8,9)`|Inmutable, Ordered|Hold items of the same data type|to assign value of (x,y):<br> `location=(13.4125, 103.86667)`|\n",
    "||||For assignment of multiple variables:<br><br> `length, width, height = 52, 40, 100`<br><br>`print(\"The dimensions are {} x {} x {}\".format(length, width, height))`|\n",
    "|Set<br>`{1,2,3,6,(2,4)}`|Mutable, Unordered(remove duplicate)|Hold items of different data type|to quickly remove duplicates from a list|\n",
    "||||to perform mathematical set operation, such as union, intersection, difference with ease.|\n",
    "\n",
    "\n"
   ]
  },
  {
   "cell_type": "markdown",
   "metadata": {},
   "source": [
    "# Useful Functions for Lists, Tuples and Sets"
   ]
  },
  {
   "cell_type": "markdown",
   "metadata": {},
   "source": [
    "||List|Tuple|Set|Note|\n",
    "|:---|:---|:---|:---|:---|\n",
    "|Count item|`len`|`len`|`len`||\n",
    "|Sort item |`max`|`max`|`max`||\n",
    "|Sort item |`min`|`min`|`min`||\n",
    "|Sort item|list method `.sorted`<br>return a copy of the list sorted (the original list unchanged)<br><br>`alist.sorted()`|Python built-in `sorted`<br><br>`sorted(a_tuple)` - it will return a list though|Python built-in `sorted`<br><br>`sorted(a_set)` - it will return a list though||\n",
    "|Add item|`.append`<br><br>`alist.append(new_item)`|n/a|`.add`<br><br>`{2,3,6}.add(5)`||\n",
    "|Delete item|`.pop`<br><br>`[1,1,2,3].pop()` - will remove `3` the last item from list<br><br>`[1,1,2,3].pop(2)` - will remove `2` the 3rd item from list|n/a|`.pop`<br><br>`{2,3,5,6}.pop()` - this will remove a random item.<br><br>`remove`<br><br>`{2,3,5,6}.remove(5)` - this will find `5` and remove it from set||\n",
    "|Check item|`in`|`in`|`in`|\n",
    "|Access item|||||\n",
    "|Update item|||||\n",
    "|Others|`.join`<br>return a string that has all elements in a list concatenated by a string specified<br><br>`'\\n'.join(alist)`||||"
   ]
  },
  {
   "cell_type": "markdown",
   "metadata": {},
   "source": [
    "# Identity Operatiors\n",
    "\n",
    "\n",
    "`is` -\tevaluates if both sides are the identical object\n",
    "```Python\n",
    "n = elements.get(\"dilithium\")\n",
    "print(n is None)\n",
    "\n",
    "# Note: `None` is an object that can be assigned to variable\n",
    "True\n",
    "```\n",
    "\n",
    "`is not` -\tevaluates if both sides are not the same object\n",
    "```Python\n",
    "n = elements.get(\"dilithium\")\n",
    "print(n is not None)\n",
    "\n",
    "False\n",
    "```\n",
    "\n"
   ]
  },
  {
   "cell_type": "markdown",
   "metadata": {},
   "source": [
    "# Dictionary\n",
    "\n",
    "||Note|Example|\n",
    "|:---|:---|:---|\n",
    "|Property|Mutable||\n",
    "|Definition|Stores mappings of unique keys to values|`elements = {\"hydrogen\": 1, \"helium\": 2, \"carbon\": 6}`|\n",
    "|Use Case|Whenever we need a list of value association using keys |`VINIX =  {'C': 0.74, 'MA': 0.78, 'BA': 0.79, 'PG': 0.85, 'CSCO': 0.88}`|\n",
    "|Keys|Key value need to be unique<br><br>Any immutable type, e.g. strings, integers or tuples<br><br> Each key can be of different type from another||\n",
    "|Values|Any data type, mutable or inmutable|\n",
    "|Access an Item|Use key in brasket|`elements[\"helium\"]`<br><br>`elements.get(\"lithium\")` - use `get` if you expect look up might fail, as it return `None` instead of error|\n",
    "|Update/Create an Item|Use key in brasket|`elements[\"lithium\"] = 3`|\n",
    "|Check an Item|`in`|`'lithium' in elements`|\n",
    "\n",
    "\n",
    "## Nested Dictionary\n",
    "\n",
    "||Example|\n",
    "|:---|:---|\n",
    "|Create nested dictionary|# create a new dict<br>`oxygen = {\"number\":8,\"weight\":15.999,\"symbol\":\"O\"}`<br><br># assign the new dict to an item in a dict<br>`elements[\"oxygen\"] = oxygen`<br><br>|\n",
    "|Access an Item in nested dictionary|`elements[\"hydrogen\"][\"weight\"]`|\n",
    "|Update an Item in nested dictionary|`elements[\"hydrogen\"][\"weight\"]=16.0`|\n",
    "\n",
    "\n",
    "\n",
    "\n",
    "```Python\n",
    "\n",
    "# the resulting nested dict\n",
    "elements =  {\"hydrogen\": {\"number\": 1,\n",
    "                          \"weight\": 1.00794,\n",
    "                           \"symbol\": 'H'},\n",
    "              \"helium\": {\"number\": 2,\n",
    "                         \"weight\": 4.002602,\n",
    "                         \"symbol\": \"He\"}, \n",
    "              \"oxygen\": {\"number\": 8,\n",
    "                         \"weight\": 15.999,\n",
    "                         \"symbol\": \"O\"}}\n",
    "```\n"
   ]
  },
  {
   "cell_type": "markdown",
   "metadata": {},
   "source": [
    "# Practice\n",
    "\n",
    "## 1. Count Unique Words"
   ]
  },
  {
   "cell_type": "code",
   "execution_count": 12,
   "metadata": {},
   "outputs": [
    {
     "name": "stdout",
     "output_type": "stream",
     "text": [
      "if you can keep your head when all about you are losing theirs and blaming it on you   if you can trust yourself when all men doubt you     but make allowance for their doubting too   if you can wait and not be tired by waiting      or being lied about  don’t deal in lies   or being hated  don’t give way to hating      and yet don’t look too good  nor talk too wise \n",
      "\n"
     ]
    }
   ],
   "source": [
    "verse = \"if you can keep your head when all about you are losing theirs and blaming it on you   if you can trust yourself when all men doubt you     but make allowance for their doubting too   if you can wait and not be tired by waiting      or being lied about  don’t deal in lies   or being hated  don’t give way to hating      and yet don’t look too good  nor talk too wise\"\n",
    "print(verse, '\\n')"
   ]
  },
  {
   "cell_type": "code",
   "execution_count": 13,
   "metadata": {},
   "outputs": [
    {
     "name": "stdout",
     "output_type": "stream",
     "text": [
      "['if', 'you', 'can', 'keep', 'your', 'head', 'when', 'all', 'about', 'you', 'are', 'losing', 'theirs', 'and', 'blaming', 'it', 'on', 'you', '', '', 'if', 'you', 'can', 'trust', 'yourself', 'when', 'all', 'men', 'doubt', 'you', '', '', '', '', 'but', 'make', 'allowance', 'for', 'their', 'doubting', 'too', '', '', 'if', 'you', 'can', 'wait', 'and', 'not', 'be', 'tired', 'by', 'waiting', '', '', '', '', '', 'or', 'being', 'lied', 'about', '', 'don’t', 'deal', 'in', 'lies', '', '', 'or', 'being', 'hated', '', 'don’t', 'give', 'way', 'to', 'hating', '', '', '', '', '', 'and', 'yet', 'don’t', 'look', 'too', 'good', '', 'nor', 'talk', 'too', 'wise'] \n",
      "\n",
      "{'doubting', 'about', 'make', 'waiting', 'yourself', 'losing', 'in', 'by', 'doubt', 'too', 'don’t', 'to', 'tired', 'look', 'for', 'be', 'being', 'or', 'lied', 'yet', 'men', 'theirs', 'hated', 'good', 'nor', 'but', 'you', 'on', 'lies', 'not', 'hating', 'when', 'it', 'and', 'all', 'way', 'if', 'keep', 'wait', 'head', 'trust', 'their', 'deal', 'allowance', 'are', 'wise', 'give', 'can', 'your', 'blaming', 'talk'} \n",
      "\n",
      "51 \n",
      "\n"
     ]
    }
   ],
   "source": [
    "# split verse into list of words\n",
    "verse_list =verse.split(' ')\n",
    "print(verse_list, '\\n')\n",
    "\n",
    "# convert list to a data structure that stores unique elements\n",
    "verse_set =set(verse_list)\n",
    "verse_set.remove('')\n",
    "print(verse_set, '\\n')\n",
    "\n",
    "# print the number of unique words\n",
    "num_unique = len(verse_set)\n",
    "print(num_unique, '\\n')"
   ]
  },
  {
   "cell_type": "markdown",
   "metadata": {},
   "source": [
    "## 2. Verse Dictionary"
   ]
  },
  {
   "cell_type": "code",
   "execution_count": 2,
   "metadata": {},
   "outputs": [
    {
     "name": "stdout",
     "output_type": "stream",
     "text": [
      "{'if': 3, 'you': 6, 'can': 3, 'keep': 1, 'your': 1, 'head': 1, 'when': 2, 'all': 2, 'about': 2, 'are': 1, 'losing': 1, 'theirs': 1, 'and': 3, 'blaming': 1, 'it': 1, 'on': 1, 'trust': 1, 'yourself': 1, 'men': 1, 'doubt': 1, 'but': 1, 'make': 1, 'allowance': 1, 'for': 1, 'their': 1, 'doubting': 1, 'too': 3, 'wait': 1, 'not': 1, 'be': 1, 'tired': 1, 'by': 1, 'waiting': 1, 'or': 2, 'being': 2, 'lied': 1, \"don't\": 3, 'deal': 1, 'in': 1, 'lies': 1, 'hated': 1, 'give': 1, 'way': 1, 'to': 1, 'hating': 1, 'yet': 1, 'look': 1, 'good': 1, 'nor': 1, 'talk': 1, 'wise': 1} \n",
      "\n"
     ]
    }
   ],
   "source": [
    "verse_dict =  {'if': 3, 'you': 6, 'can': 3, 'keep': 1, 'your': 1, 'head': 1, 'when': 2, 'all': 2, 'about': 2, 'are': 1, 'losing': 1, 'theirs': 1, 'and': 3, 'blaming': 1, 'it': 1, 'on': 1, 'trust': 1, 'yourself': 1, 'men': 1, 'doubt': 1, 'but': 1, 'make': 1, 'allowance': 1, 'for': 1, 'their': 1, 'doubting': 1, 'too': 3, 'wait': 1, 'not': 1, 'be': 1, 'tired': 1, 'by': 1, 'waiting': 1, 'or': 2, 'being': 2, 'lied': 1, 'don\\'t': 3, 'deal': 1, 'in': 1, 'lies': 1, 'hated': 1, 'give': 1, 'way': 1, 'to': 1, 'hating': 1, 'yet': 1, 'look': 1, 'good': 1, 'nor': 1, 'talk': 1, 'wise': 1}\n",
    "print(verse_dict, '\\n')"
   ]
  },
  {
   "cell_type": "code",
   "execution_count": 14,
   "metadata": {},
   "outputs": [
    {
     "name": "stdout",
     "output_type": "stream",
     "text": [
      "51\n",
      "False\n",
      "about\n",
      "yourself\n"
     ]
    }
   ],
   "source": [
    "# find number of unique keys in the dictionary\n",
    "num_keys = len(verse_dict)\n",
    "print(num_keys)\n",
    "\n",
    "# find whether 'breathe' is a key in the dictionary\n",
    "contains_breathe = 'breathe' in verse_dict\n",
    "print(contains_breathe)\n",
    "\n",
    "# create and sort a list of the dictionary's keys\n",
    "sorted_keys = sorted(verse_dict.keys())\n",
    "\n",
    "# get the first element in the sorted list of keys\n",
    "print(sorted_keys[0])\n",
    "\n",
    "# find the element with the highest value in the list of keys\n",
    "print(sorted_keys[-1]) "
   ]
  },
  {
   "cell_type": "markdown",
   "metadata": {},
   "source": [
    "## 3. Create a wordcount dictionary using `.get`"
   ]
  },
  {
   "cell_type": "code",
   "execution_count": 15,
   "metadata": {},
   "outputs": [
    {
     "name": "stdout",
     "output_type": "stream",
     "text": [
      "if you can keep your head when all about you are losing theirs and blaming it on you   if you can trust yourself when all men doubt you     but make allowance for their doubting too   if you can wait and not be tired by waiting      or being lied about  don’t deal in lies   or being hated  don’t give way to hating      and yet don’t look too good  nor talk too wise \n",
      "\n"
     ]
    }
   ],
   "source": [
    "verse = \"if you can keep your head when all about you are losing theirs and blaming it on you   if you can trust yourself when all men doubt you     but make allowance for their doubting too   if you can wait and not be tired by waiting      or being lied about  don’t deal in lies   or being hated  don’t give way to hating      and yet don’t look too good  nor talk too wise\"\n",
    "print(verse, '\\n')"
   ]
  },
  {
   "cell_type": "code",
   "execution_count": 17,
   "metadata": {},
   "outputs": [
    {
     "name": "stdout",
     "output_type": "stream",
     "text": [
      "{'if': 3, 'you': 6, 'can': 3, 'keep': 1, 'your': 1, 'head': 1, 'when': 2, 'all': 2, 'about': 2, 'are': 1, 'losing': 1, 'theirs': 1, 'and': 3, 'blaming': 1, 'it': 1, 'on': 1, 'trust': 1, 'yourself': 1, 'men': 1, 'doubt': 1, 'but': 1, 'make': 1, 'allowance': 1, 'for': 1, 'their': 1, 'doubting': 1, 'too': 3, 'wait': 1, 'not': 1, 'be': 1, 'tired': 1, 'by': 1, 'waiting': 1, 'or': 2, 'being': 2, 'lied': 1, 'don’t': 3, 'deal': 1, 'in': 1, 'lies': 1, 'hated': 1, 'give': 1, 'way': 1, 'to': 1, 'hating': 1, 'yet': 1, 'look': 1, 'good': 1, 'nor': 1, 'talk': 1, 'wise': 1}\n"
     ]
    }
   ],
   "source": [
    "verse_list = verse.split()\n",
    "\n",
    "word_counter = {}\n",
    "\n",
    "for w in verse_list:\n",
    "    # dict.get(key, 0) to set value as 0 if key not found yet\n",
    "    word_counter[w] = word_counter.get(w, 0) + 1\n",
    "\n",
    "print(word_counter)"
   ]
  },
  {
   "cell_type": "code",
   "execution_count": null,
   "metadata": {},
   "outputs": [],
   "source": []
  }
 ],
 "metadata": {
  "kernelspec": {
   "display_name": "Python 3",
   "language": "python",
   "name": "python3"
  },
  "language_info": {
   "codemirror_mode": {
    "name": "ipython",
    "version": 3
   },
   "file_extension": ".py",
   "mimetype": "text/x-python",
   "name": "python",
   "nbconvert_exporter": "python",
   "pygments_lexer": "ipython3",
   "version": "3.7.7"
  },
  "toc": {
   "base_numbering": 1,
   "nav_menu": {},
   "number_sections": false,
   "sideBar": true,
   "skip_h1_title": false,
   "title_cell": "Table of Contents",
   "title_sidebar": "Contents",
   "toc_cell": true,
   "toc_position": {},
   "toc_section_display": true,
   "toc_window_display": true
  }
 },
 "nbformat": 4,
 "nbformat_minor": 4
}
