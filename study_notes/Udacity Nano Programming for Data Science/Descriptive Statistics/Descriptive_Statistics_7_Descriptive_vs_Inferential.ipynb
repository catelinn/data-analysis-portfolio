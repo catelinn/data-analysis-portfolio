{
 "cells": [
  {
   "cell_type": "markdown",
   "metadata": {
    "toc": true
   },
   "source": [
    "<h1>Table of Contents<span class=\"tocSkip\"></span></h1>\n",
    "<div class=\"toc\"><ul class=\"toc-item\"><li><span><a href=\"#Intro-to-Inferential\" data-toc-modified-id=\"Intro-to-Inferential-1\">Intro to Inferential</a></span><ul class=\"toc-item\"><li><span><a href=\"#Descriptive-statistics-vs-Inferential-statistics\" data-toc-modified-id=\"Descriptive-statistics-vs-Inferential-statistics-1.1\">Descriptive statistics vs Inferential statistics</a></span></li><li><span><a href=\"#Important-Terms\" data-toc-modified-id=\"Important-Terms-1.2\">Important Terms</a></span></li></ul></li><li><span><a href=\"#Next\" data-toc-modified-id=\"Next-2\">Next</a></span></li></ul></div>"
   ]
  },
  {
   "cell_type": "markdown",
   "metadata": {},
   "source": [
    "# Intro to Inferential\n",
    "\n",
    "\n",
    "## Descriptive statistics vs Inferential statistics\n",
    "\n",
    "- Descriptive statistics is about **describing our collected data**.\n",
    "\n",
    "- Inferential Statistics is about **using our collected data to draw conclusions to a larger population**.\n",
    "\n",
    "## Important Terms\n",
    "\n",
    "|Term|Definition|Example|\n",
    "|:---|:---|:---|\n",
    "|Population|our entire group of interest|100,000 students|\n",
    "|Sample|subset of the population|5000 students|\n",
    "|Statistic|numeric summary about a sample|73% student drinks coffee|\n",
    "|Parameter|numeric summary about a population|proportion of all 100,000 students that drink coffee\n",
    "\n",
    "# Next\n",
    "\n",
    "\n",
    "- If you have ever conducted a **hypothesis test** or built a **confidence interval**, you have performed inferential statistics. \n",
    "\n",
    "\n",
    "- The way we perform inferential statistics is changing as technology evolves. Many career paths involving **Machine Learning** and **Artificial Intelligence** are aimed at using collected data to draw conclusions about entire populations at an individual level."
   ]
  },
  {
   "cell_type": "code",
   "execution_count": null,
   "metadata": {},
   "outputs": [],
   "source": []
  }
 ],
 "metadata": {
  "kernelspec": {
   "display_name": "Python 3",
   "language": "python",
   "name": "python3"
  },
  "language_info": {
   "codemirror_mode": {
    "name": "ipython",
    "version": 3
   },
   "file_extension": ".py",
   "mimetype": "text/x-python",
   "name": "python",
   "nbconvert_exporter": "python",
   "pygments_lexer": "ipython3",
   "version": "3.7.7"
  },
  "toc": {
   "base_numbering": 1,
   "nav_menu": {},
   "number_sections": false,
   "sideBar": true,
   "skip_h1_title": false,
   "title_cell": "Table of Contents",
   "title_sidebar": "Contents",
   "toc_cell": true,
   "toc_position": {},
   "toc_section_display": true,
   "toc_window_display": true
  }
 },
 "nbformat": 4,
 "nbformat_minor": 4
}
