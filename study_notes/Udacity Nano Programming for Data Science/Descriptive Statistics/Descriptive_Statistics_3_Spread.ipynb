{
 "cells": [
  {
   "cell_type": "markdown",
   "metadata": {},
   "source": [
    "# Measures of Spread\n",
    "\n",
    "\n",
    "\n",
    "## Range and IQR\n",
    "\n",
    "\n",
    "### Step 1. The Five Number Summary \n",
    "\n",
    "> **Minimum**: The smallest number in the dataset.\n",
    "\n",
    "> $Q_1$: The value such that 25% of the data fall below \n",
    "  - the **median** of the first 50%\n",
    "   \n",
    "> ${Q_2}$: The value such that 50% of the data fall below. \n",
    "  - the **median** of the whole dataset\n",
    "    \n",
    "> ${Q_3}$: The value such that 75% of the data fall below.\n",
    "  - the **median** of the last 50% \n",
    "    \n",
    "> **Maximum**: The largest value in the dataset.\n",
    "\n",
    "### Step 2.  Calculate Range and IQR\n",
    "\n",
    "**Range** is then calculated as \n",
    "> $$ Range = Max - Min$$\n",
    "\n",
    "\n",
    "The **interquartile range** is calculated as the difference between ${Q_3}$ and ${Q_1}$: \n",
    "> $$IQR = Q_3 - Q_1$$\n",
    "\n",
    "### Box Whisker Plot\n",
    "\n",
    "Box Whisker Plot is the quickest visual to examine range and IQR. \n",
    "\n",
    "In the following example of a dataset that is manipulated to be \n",
    "- almost perfectly distributed to have the mean and median at 50\n",
    "- "
   ]
  },
  {
   "cell_type": "code",
   "execution_count": 16,
   "metadata": {},
   "outputs": [
    {
     "data": {
      "text/plain": [
       "count     95.000000\n",
       "mean      50.733698\n",
       "std       55.426108\n",
       "min      -92.717429\n",
       "25%       34.203430\n",
       "50%       50.000000\n",
       "75%       72.075070\n",
       "max      193.305388\n",
       "dtype: float64"
      ]
     },
     "execution_count": 16,
     "metadata": {},
     "output_type": "execute_result"
    }
   ],
   "source": [
    "import numpy as np\n",
    "import pandas as pd\n",
    "import matplotlib.pyplot as plt\n",
    "\n",
    "# Fixing random state for reproducibility\n",
    "np.random.seed(19680801)\n",
    "\n",
    "# fake up some data\n",
    "spread = np.random.rand(50) * 100\n",
    "center = np.ones(25) * 50\n",
    "flier_high = np.random.rand(10) * 100 + 100\n",
    "flier_low = np.random.rand(10) * -100\n",
    "d = np.concatenate((spread, center, flier_high, flier_low))\n",
    "\n",
    "# print 5 numbers (min, Q1, Q2 - median, Q3 and max)\n",
    "pd.Series(d).describe()"
   ]
  },
  {
   "cell_type": "code",
   "execution_count": 14,
   "metadata": {},
   "outputs": [
    {
     "data": {
      "image/png": "[encoded data removed]",
      "text/plain": [
       "<Figure size 432x288 with 1 Axes>"
      ]
     },
     "metadata": {
      "needs_background": "light"
     },
     "output_type": "display_data"
    }
   ],
   "source": [
    "# box whisker plot\n",
    "fig1, ax1 = plt.subplots()\n",
    "ax1.boxplot(d, showmeans=True)\n",
    "ax1.grid()\n",
    "plt.show()"
   ]
  },
  {
   "cell_type": "markdown",
   "metadata": {},
   "source": [
    "## Variance and Standard Deviation\n",
    "\n",
    "### Definition\n",
    "**Standard deviation** defines **the average distance of each observation from the mean**.\n",
    "\n",
    "> We can use **5 number summary** to look at the spread of data.\n",
    "\n",
    "> but, if we'd use only one number to review that, we shall use **Standard Deviation**\n",
    "\n",
    "### Calculation\n",
    "\n",
    "**Variance** - the average squared difference of each observation from the mean:\n",
    "$$ \\frac{1}{n} \\sum_{i=1}^{n}(x_i - \\bar x)^2$$\n",
    "\n",
    "**Standard Deviation** - the square root of the **variance**:\n",
    "$$ \\sqrt{\\frac{1}{n} \\sum_{i=1}^{n}(x_i - \\bar x)^2}$$\n",
    "\n",
    "[Why square the difference instead of taking the absolute difference](https://stats.stackexchange.com/questions/118/why-square-the-difference-instead-of-taking-the-absolute-value-in-standard-devia)\n",
    "\n",
    "### Notes\n",
    "\n",
    "1. The variance is used to compare the spread of two different groups. A set of data with higher variance is more spread out than a dataset with lower variance. \n",
    "    - Be careful though, there might just be an outlier (or outliers) that is increasing the variance, when most of the data are actually very close.\n",
    "\n",
    "\n",
    "2. When comparing the spread between two datasets, the units of each must be the same.\n",
    "\n",
    "\n",
    "3. When data are related to money or the economy, **higher variance (or standard deviation) is associated with higher risk**.\n",
    "\n",
    "\n",
    "4. The standard deviation is used more often in practice than the variance, because it shares the units of the original dataset.\n",
    "\n",
    "### Quiz\n",
    "\n",
    "#### Question 1 \n",
    "\n",
    "Consider the two investment opportunities:\n",
    "\n",
    "||Year 1|Year 2|Year 3|Year 4|Year 5|Year 6|\n",
    "|---|---|---|---|---|---|---|\n",
    "|Investment 1|5%|5%|5%|5%|5%|5%|\n",
    "|Investment 2|12%|-2%|10%|0%|7%|3%\n",
    "\n",
    "- What is the mean return for Investment 1? `5%`\n",
    "- What is the mean return for Investment 2? `5%`"
   ]
  },
  {
   "cell_type": "code",
   "execution_count": 2,
   "metadata": {},
   "outputs": [
    {
     "data": {
      "text/plain": [
       "5.0"
      ]
     },
     "execution_count": 2,
     "metadata": {},
     "output_type": "execute_result"
    }
   ],
   "source": [
    "(12-2+10+7+3)/6"
   ]
  },
  {
   "cell_type": "markdown",
   "metadata": {},
   "source": [
    "The two investments have the same average return. So **how they are different**?\n",
    "\n",
    "- Investment 1 is **with less risk** because its standard deviation is `0`, smaller than that of Investment 2.\n",
    "\n",
    "- However, with Investment 2, we might have a chance of **high earning** at 12% per year."
   ]
  },
  {
   "cell_type": "code",
   "execution_count": 3,
   "metadata": {},
   "outputs": [
    {
     "name": "stdout",
     "output_type": "stream",
     "text": [
      "Investment 1 std is (0.0%)\n",
      "Investment 2 std is (5.0990195135927845%)\n"
     ]
    }
   ],
   "source": [
    "std_1 = np.std((5,5,5,5,5,5))\n",
    "std_2 = np.std((12,-2,10,0,7,3))\n",
    "print(\"Investment 1 std is ({}%)\".format(std_1))\n",
    "print(\"Investment 2 std is ({}%)\".format(std_2))"
   ]
  },
  {
   "cell_type": "markdown",
   "metadata": {},
   "source": [
    "#### Question 2\n",
    "\n",
    "For the following dataset, find the values specified:\n",
    "\n",
    "`15, 4, 3, 8, 15, 22, 7, 9, 2, 3, 3, 12, 6`"
   ]
  },
  {
   "cell_type": "code",
   "execution_count": 4,
   "metadata": {},
   "outputs": [
    {
     "data": {
      "text/plain": [
       "7"
      ]
     },
     "execution_count": 4,
     "metadata": {},
     "output_type": "execute_result"
    }
   ],
   "source": [
    "# median - Q2\n",
    "data = [15, 4, 3, 8, 15, 22, 7, 9, 2, 3, 3, 12, 6]\n",
    "data.sort()\n",
    "med_i = int(((len(data)-1))/2)\n",
    "data[med_i]"
   ]
  },
  {
   "cell_type": "code",
   "execution_count": 5,
   "metadata": {},
   "outputs": [
    {
     "name": "stdout",
     "output_type": "stream",
     "text": [
      "[2, 3, 3, 3, 4, 6]\n",
      "3.0\n"
     ]
    }
   ],
   "source": [
    "# Q1 - median of all data before Q2\n",
    "# - it should be mean of [3,3] which is 3\n",
    "print(data[:med_i])\n",
    "q1 = (3+3)/2\n",
    "print(q1)"
   ]
  },
  {
   "cell_type": "code",
   "execution_count": 6,
   "metadata": {},
   "outputs": [
    {
     "name": "stdout",
     "output_type": "stream",
     "text": [
      "[8, 9, 12, 15, 15, 22]\n",
      "13.5\n"
     ]
    }
   ],
   "source": [
    "# Q3 - median of all data after Q2\n",
    "print(data[med_i+1:])\n",
    "q3=(12+15)/2\n",
    "print(q3)"
   ]
  },
  {
   "cell_type": "code",
   "execution_count": 7,
   "metadata": {},
   "outputs": [
    {
     "name": "stdout",
     "output_type": "stream",
     "text": [
      "8.384615384615385\n"
     ]
    }
   ],
   "source": [
    "# mean\n",
    "mean = sum(data)/len(data)\n",
    "print(mean)"
   ]
  },
  {
   "cell_type": "markdown",
   "metadata": {},
   "source": [
    "#### Question 3\n",
    "\n",
    "For the following dataset, find the appropriate values:\n",
    "\n",
    "`15, 4, 3, 8, 15, 22, 7, 9, 2, 3, 3, 12, 6`"
   ]
  },
  {
   "cell_type": "code",
   "execution_count": 8,
   "metadata": {},
   "outputs": [
    {
     "data": {
      "text/plain": [
       "10.5"
      ]
     },
     "execution_count": 8,
     "metadata": {},
     "output_type": "execute_result"
    }
   ],
   "source": [
    "# interquartile range - IQR = Q3 - Q1\n",
    "q3-q1"
   ]
  },
  {
   "cell_type": "code",
   "execution_count": 9,
   "metadata": {},
   "outputs": [
    {
     "data": {
      "text/plain": [
       "20"
      ]
     },
     "execution_count": 9,
     "metadata": {},
     "output_type": "execute_result"
    }
   ],
   "source": [
    "# range\n",
    "data[len(data)-1]-data[0]"
   ]
  },
  {
   "cell_type": "code",
   "execution_count": 10,
   "metadata": {},
   "outputs": [
    {
     "data": {
      "text/plain": [
       "33.928994082840234"
      ]
     },
     "execution_count": 10,
     "metadata": {},
     "output_type": "execute_result"
    }
   ],
   "source": [
    "# variance\n",
    "sum([(x-mean)**2 for x in data])/len(data)"
   ]
  },
  {
   "cell_type": "code",
   "execution_count": 11,
   "metadata": {},
   "outputs": [
    {
     "data": {
      "text/plain": [
       "5.8248600054284765"
      ]
     },
     "execution_count": 11,
     "metadata": {},
     "output_type": "execute_result"
    }
   ],
   "source": [
    "# std\n",
    "(sum([(x-mean)**2 for x in data])/len(data))**0.5"
   ]
  }
 ],
 "metadata": {
  "kernelspec": {
   "display_name": "Python 3",
   "language": "python",
   "name": "python3"
  },
  "language_info": {
   "codemirror_mode": {
    "name": "ipython",
    "version": 3
   },
   "file_extension": ".py",
   "mimetype": "text/x-python",
   "name": "python",
   "nbconvert_exporter": "python",
   "pygments_lexer": "ipython3",
   "version": "3.7.7"
  },
  "toc": {
   "base_numbering": 1,
   "nav_menu": {},
   "number_sections": false,
   "sideBar": true,
   "skip_h1_title": false,
   "title_cell": "Table of Contents",
   "title_sidebar": "Contents",
   "toc_cell": false,
   "toc_position": {
    "height": "calc(100% - 180px)",
    "left": "10px",
    "top": "150px",
    "width": "334.391px"
   },
   "toc_section_display": true,
   "toc_window_display": true
  }
 },
 "nbformat": 4,
 "nbformat_minor": 4
}
