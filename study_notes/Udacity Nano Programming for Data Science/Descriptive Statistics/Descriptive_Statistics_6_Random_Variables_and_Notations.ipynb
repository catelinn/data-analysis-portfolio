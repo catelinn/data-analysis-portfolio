{
 "cells": [
  {
   "cell_type": "markdown",
   "metadata": {},
   "source": [
    "# Random Variable\n",
    "\n",
    "**Random variable** can be considewred as a placeholder for the possible values of some process\n",
    "> table wise,\n",
    "> - Each column in a table that holds a specific **variable**, is a **random variable**\n",
    "    - for example, a column named `time spent on website` holds all possible values that an individual could spend on a website, any number from 0 to infinity.\n",
    "> - Each row is called an **instance** or **individual**;\n",
    "\n",
    "\n",
    "# Notations \n",
    "\n",
    "\n",
    "### Notation for Random Variable \n",
    "\n",
    "\n",
    "> - $X$, $Y$, or $Z$ are common ways to represent a random variable, for example, we can use `X` to represent the `time spent on website` column;\n",
    "\n",
    "> - Each value in a column is an observation of the random varialbe, we can use notation with lowercase letter such as `x`, and each value in a whole column can be represented as $x_1, x_2, x_3, ...x_n$ where $n$ is the number of values/rows.\n",
    "\n",
    "> - If we ask: **what is the possibility of an individual spending 20 or more minutes on our website**, we could use notation as $P(X>=20)$\n",
    "\n",
    "\n",
    "### Notation for Sum\n",
    "\n",
    "**Summation** is a common aggregation. The notation used to sum our values is a greek symbol called sigma $\\Sigma$.\n",
    "\n",
    "The sum of $x_1, x_2, ... x_n$:\n",
    "    $$\\sum_{i=1}^n x_i$$\n",
    "\n",
    "The sum of the first 3 values: $x_1+x_2+x_3$\n",
    "    $$\\sum_{i=1}^3 x_i$$\n",
    "\n",
    "The sum of the last 4 values:  $x_7 + x_8 + x_9 + x_{10}$\n",
    "    $$\\sum_{i=7}^{10} x_i$$\n",
    "\n",
    "### Other Sum Notations\n",
    "The $\\Sigma$ sign is used for aggregating using summation, but we might choose to aggregate in other ways.\n",
    "- If we wanted to multiply all of our values together we would use a product sign $\\Pi$, i.e. **capital Greek letter pi**. \n",
    "\n",
    "- The way we aggregate **continuous values** is with something known as **integration** (a common technique in calculus), which uses the following symbol $\\int$, which is just a long s.\n",
    "\n",
    "\n",
    "### Notation for Mean\n",
    "\n",
    "we commonly write $\\bar{x}$ to represent the mean of a dataset, and the formula is:\n",
    "\n",
    "$$\\frac{1}{n}\\sum_{i=1}^{n}x_i$$"
   ]
  },
  {
   "cell_type": "code",
   "execution_count": null,
   "metadata": {},
   "outputs": [],
   "source": []
  }
 ],
 "metadata": {
  "kernelspec": {
   "display_name": "Python 3",
   "language": "python",
   "name": "python3"
  },
  "language_info": {
   "codemirror_mode": {
    "name": "ipython",
    "version": 3
   },
   "file_extension": ".py",
   "mimetype": "text/x-python",
   "name": "python",
   "nbconvert_exporter": "python",
   "pygments_lexer": "ipython3",
   "version": "3.7.7"
  },
  "toc": {
   "base_numbering": 1,
   "nav_menu": {},
   "number_sections": false,
   "sideBar": true,
   "skip_h1_title": false,
   "title_cell": "Table of Contents",
   "title_sidebar": "Contents",
   "toc_cell": false,
   "toc_position": {},
   "toc_section_display": true,
   "toc_window_display": true
  }
 },
 "nbformat": 4,
 "nbformat_minor": 4
}
