{
 "cells": [
  {
   "cell_type": "markdown",
   "metadata": {},
   "source": [
    "# Histogram\n",
    "\n",
    "Histogram is the most popular visual for quantitative data.\n",
    "\n",
    "\n",
    "## Shape of Histogram\n",
    "\n",
    "From a histogram we can quickly identify the shape of our data, which helps influence all of the measures we learned in the previous concepts. The distribution of our data is frequently associated with one of the three shapes:\n",
    "\n",
    "1. Right-skewed\n",
    "\n",
    "2. Left-skewed\n",
    "\n",
    "3. Symmetric (frequently normally distributed)\n",
    "\n",
    "4. Too messy to fall into any of the above shapes\n",
    "\n",
    "\n",
    "\n",
    "|Shape|Mean vs. Median|Real World Applications|Note|\n",
    "|---|---|---|---|\n",
    "|Symmetric (Normal)|Mean equals Median|Height, Weight, Errors, Precipitation|No outliers / mean and std are best for reporting|\n",
    "|Right-skewed|Mean greater than Median|Salaries of business man (only a few are very rich while most of others are on closer to the average)| Outliers on higher value side / 5 number summary is better than mean and std for reporting|\n",
    "|Left-skewed|Mean less than Median|Grades as a percentage in many universities, Age of death, Asset price changes | Outliers on lower value side / 5 number summary is better than mean and std for reporting|\n",
    "\n",
    "\n",
    "- The **mode** of a distribution is essentially **the tallest bar** in a histogram. \n",
    "- There may be **multiple modes** depending on the number of peaks in our histogram."
   ]
  },
  {
   "cell_type": "markdown",
   "metadata": {},
   "source": [
    "# Outliers\n",
    "\n",
    "Both **Histogram** or **box whisker plot** can help us visualize the outliers right away. \n",
    "\n",
    "## When outliers are present we should consider the following \n",
    "\n",
    "- Noting they exist and the impact on summary statistics.\n",
    "\n",
    "- If typo - remove or fix\n",
    "\n",
    "- Understanding why they exist, and the impact on questions we are trying to answer about our data.\n",
    "\n",
    "- **Reporting the 5 number summary values** is often **a better indication than measures like the mean and standard deviation** when we have outliers."
   ]
  },
  {
   "cell_type": "code",
   "execution_count": null,
   "metadata": {},
   "outputs": [],
   "source": []
  }
 ],
 "metadata": {
  "kernelspec": {
   "display_name": "Python 3",
   "language": "python",
   "name": "python3"
  },
  "language_info": {
   "codemirror_mode": {
    "name": "ipython",
    "version": 3
   },
   "file_extension": ".py",
   "mimetype": "text/x-python",
   "name": "python",
   "nbconvert_exporter": "python",
   "pygments_lexer": "ipython3",
   "version": "3.7.7"
  },
  "toc": {
   "base_numbering": 1,
   "nav_menu": {},
   "number_sections": false,
   "sideBar": true,
   "skip_h1_title": false,
   "title_cell": "Table of Contents",
   "title_sidebar": "Contents",
   "toc_cell": false,
   "toc_position": {},
   "toc_section_display": true,
   "toc_window_display": true
  }
 },
 "nbformat": 4,
 "nbformat_minor": 4
}
