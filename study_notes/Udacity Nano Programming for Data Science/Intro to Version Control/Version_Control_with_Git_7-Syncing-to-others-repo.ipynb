{
 "cells": [
  {
   "cell_type": "markdown",
   "metadata": {},
   "source": [
    "# Why pulling a request?\n",
    "\n",
    "\n",
    "When you want to contribute to someone else repo:\n",
    "\n",
    "1. Fork the original repo on Github\n",
    "2. `git pull` or `git clone` the forked repo to local machine\n",
    "3. make changes locally\n",
    "4. `git push` to the remote fork\n",
    "5. Use `New Pull Request` button to send pull request to the owner of the original repo\n",
    "6. If the pull request get accepted, you changes will be merged into the original repo"
   ]
  },
  {
   "cell_type": "markdown",
   "metadata": {},
   "source": [
    "# Star and Watch a repo\n",
    "\n",
    "- When you `\"star\"` a repo on Github, you can keep track of the repo by putting it into a favorite list. So you can visit the repo page regularly.\n",
    "\n",
    "- When you `\"watch\"` a repo on Github, you will be notified whenever there's a change. "
   ]
  },
  {
   "cell_type": "markdown",
   "metadata": {},
   "source": [
    "# Stay in sync with source project\n",
    "\n",
    "## The workflow\n",
    "\n",
    "Let say you get notified that some commits have been pushed to **the original, source repository**. How do you go about getting those changes into your fork of the repository? \n",
    "\n",
    "*If you want to keep doing development on your fork then you'd need your fork to stay in sync with the source repo as much as possible*\n",
    "\n",
    "```Shell\n",
    "# Add the connection between local `master` and the source repo `upstream`\n",
    "$ git remote add upstream https://github.com/udacity/course-collaboration-travel-plans.git\n",
    "\n",
    "# Retrieve changes from the source repo's main branch\n",
    "# git fetch upstream master\n",
    "\n",
    "# Then merge the change from source repo that's now in tracking branch `upstream/master` into the local `master` branch\n",
    "$ git merge upstream/master\n",
    "\n",
    "# then push the changes to my forked remote\n",
    "$ git push origin master\n",
    "```\n",
    "\n",
    "## `git rename` - Renaming repo shortnames\n",
    "\n",
    "Remember `origin` or `upstream` are just shortnames often used to represent your own remote repo and other's source repo respectively. \n",
    "\n",
    "You can always rename them - `git rename <oldname> <newname>`:\n",
    "\n",
    "```Shell\n",
    "$ git remote rename origin mine\n",
    "$ git remote rename upstream source-repo \n",
    "```"
   ]
  },
  {
   "cell_type": "code",
   "execution_count": null,
   "metadata": {},
   "outputs": [],
   "source": []
  }
 ],
 "metadata": {
  "kernelspec": {
   "display_name": "Python 3",
   "language": "python",
   "name": "python3"
  },
  "language_info": {
   "codemirror_mode": {
    "name": "ipython",
    "version": 3
   },
   "file_extension": ".py",
   "mimetype": "text/x-python",
   "name": "python",
   "nbconvert_exporter": "python",
   "pygments_lexer": "ipython3",
   "version": "3.7.7"
  },
  "toc": {
   "base_numbering": 1,
   "nav_menu": {},
   "number_sections": false,
   "sideBar": true,
   "skip_h1_title": false,
   "title_cell": "Table of Contents",
   "title_sidebar": "Contents",
   "toc_cell": false,
   "toc_position": {},
   "toc_section_display": true,
   "toc_window_display": true
  }
 },
 "nbformat": 4,
 "nbformat_minor": 4
}
