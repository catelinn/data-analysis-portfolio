{
 "cells": [
  {
   "cell_type": "code",
   "execution_count": 36,
   "metadata": {},
   "outputs": [],
   "source": [
    "import numpy as np\n",
    "import pandas as pd\n",
    "import scipy.stats as st\n",
    "import matplotlib.pyplot as plt\n",
    "import seaborn as sns\n",
    "%matplotlib inline"
   ]
  },
  {
   "cell_type": "markdown",
   "metadata": {},
   "source": [
    "# Counting Rules\n",
    "\n",
    "<img src='../img/Screen Shot 2020-03-24 at 5.06.06 PM.png'>\n",
    "\n",
    "\n",
    "[Best combinators calculator](https://www.statskingdom.com/combinations-calculator.html), it displays:\n",
    "\n",
    "- all combination results\n",
    "- combinator formulas\n"
   ]
  },
  {
   "cell_type": "markdown",
   "metadata": {},
   "source": [
    "# Probability\n",
    "\n",
    "\n",
    "## Definition\n",
    "\n",
    "The **probability** of an event is defined as the proportion of times this event occurs in many repetitions. \n",
    "\n",
    "For example, the probability of getting Heads from flipping a fair coin many times will tend to its theorectical probability $\\frac{1}{2}=0.5$."
   ]
  },
  {
   "cell_type": "markdown",
   "metadata": {},
   "source": [
    "## Four Basic Rules\n",
    "\n",
    "\n",
    "### Complement\n",
    "\n",
    "$\\boxed{P(A) + P(A') = 1}$ where $P(A')$ is the **probability of event A not occuring**\n",
    "\n",
    "\n",
    "### Equally Likely Outcomes\n",
    "\n",
    "If there are $n$ possible outcomes and they are equally likely, then\n",
    "\n",
    "$$\\boxed{P(A) = \\frac{\\text{number of outcomes in A}}{n}}$$\n",
    "\n",
    "### Addition\n",
    "\n",
    "Addition rule applies to the probability of either A or B occuring, denoted as $P(A\\cup B)$. \n",
    "\n",
    "If A and B are **mutually exclusive**:\n",
    "$$\\boxed{P(A\\cup B) = P(A) + P(B)}$$\n",
    "\n",
    "Otherwise, the general rule is:\n",
    "\n",
    "$$\\boxed{P(A\\cup B) = P(A) + P(B) - P(A \\cap B)}$$\n",
    "\n",
    "\n",
    "<br><br>\n",
    "<div style=\"background-color: gray; color: white; padding:10px 10px 10px 10px\">Note:\n",
    "A and B are <b>mutually exclusive</b> if they cannot occur at the same time. \n",
    "    \n",
    "For example, we are to roll a fair dice\n",
    "    <ul>\n",
    "        <li>A = getting 1 on first roll\n",
    "        <li>B = getting 6 on first roll \n",
    "        <li>A and B are two mutualy exclusive events.\n",
    "    </ul>\n",
    "</div>\n",
    "\n",
    "### Multiplication - P(A and B)\n",
    "\n",
    "Multiplication rule applies to the prbability of both A and B occuring, denoted as $P(A\\cap B)$.\n",
    "\n",
    "If A and B are **indendent**:\n",
    "$$\\boxed{P(A\\cap B) = P(A) * P(B)}$$\n",
    "\n",
    "Otherwise, the general rule is:\n",
    "$$\\boxed{P(A\\cap B) = P(A) P(B|A) = P(B) P(A|B)}$$\n",
    "\n",
    "<br><br>\n",
    "<div style=\"background-color: gray; color: white; padding:10px 10px 10px 10px\">Note:\n",
    "A and B are <b>independent</b> if one occurs does not change the probability that the other occurs. \n",
    "    \n",
    "For example, we are to roll a fair dice\n",
    "    <ul>\n",
    "        <li>A = getting 1 on first roll\n",
    "        <li>B = getting 1 on second roll \n",
    "        <li>A and B are two independent events.\n",
    "    </ul>\n",
    "</div>"
   ]
  },
  {
   "cell_type": "markdown",
   "metadata": {},
   "source": [
    "### Example: At Least One Probability\n",
    "\n",
    "Roll a die for 3 times. What is the probability of rolling at least a 6?\n",
    "\n",
    "$$\\begin{split}\n",
    "&P(\\text{at least rolling a 6 in 3 rolls}) \\\\\n",
    "&=1-P(\\text{no 6 in three rolls})\\\\\n",
    "&=1-P(\\text{no 6 in first rolls})\\times P(\\text{no 6 in second rolls})\\times P(\\text{no 6 in third rolls})\\\\\n",
    "&=1-\\frac{5}{6}\\times\\frac{5}{6}\\times\\frac{5}{6}\\\\\n",
    "&=41.1\\%\n",
    "\\end{split}$$"
   ]
  },
  {
   "cell_type": "markdown",
   "metadata": {},
   "source": [
    "## Conditional Probability Rules\n",
    "\n",
    "### Law of Total Probablity \n",
    "\n",
    "To compute probabilities by **total enumeration** (sum of all possible outcomes weighted by their probabilities): \n",
    "\n",
    "$$\\boxed{P(B) = P(A)P(B|A) + P(A') P(B|A')}$$\n",
    "\n",
    "where $A'$ is the complement of $A$\n",
    "\n",
    "\n",
    "### Baye's Law (or Baye's Theorem)\n",
    "\n",
    "$$\\boxed{P(A|B) = \\frac{P(B\\text{ and }A)}{P(B)}=\\frac{P(A) P(B|A)}{P(B)} = \\frac{P(A)P(B|A)}{P(A)P(B|A) + P(A') P(B|A')}}$$\n",
    "\n",
    "In **Bayesian analysis**, we consider\n",
    "\n",
    "- $P(A)$ as the **prior probability**\n",
    "- $P(A|B)$ as the **posterior probability** with the updated probability using **Bayes' rule**"
   ]
  },
  {
   "cell_type": "markdown",
   "metadata": {},
   "source": [
    "### Examples\n",
    "\n",
    "#### Spam Email Probability with Keyword Filter\n",
    "\n",
    "Historical data shows that spam email has a higher chance to contain the word \"money\" than \"ham-email\" (email that are not spam):\n",
    "\n",
    "- $P(\\text{money|spam}) = .08$\n",
    "- $P(\\text{money|ham}) = .01$\n",
    "\n",
    "Assume we know that P(spam) = $.2$, we'd solve the following two questions:\n",
    "1. what is the probability that \"money\" appears in an email? \n",
    "2. what is the probability that an email is spam if \"money\" appears in an email?\n",
    "\n",
    "**Solution**\n",
    "\n",
    "1. The probability that \"money\" appears in an email:\n",
    "\n",
    "$$\\begin{split}\n",
    "P(\\text{money}) &=P(\\text{money|spam})P(\\text{spam}) + P(\\text{money|ham})P(\\text{ham})\\\\\n",
    "&= .08\\times .2 + .01\\times (1-.2)\\\\\n",
    "&= .024\\\\\n",
    "&= 2.4\\%\n",
    "\\end{split}$$\n",
    "\n",
    "\n",
    "2. The proababiliy an email is spam if \"money\" appears in an email:\n",
    "$$\\begin{split}\n",
    "P(\\text{spam|money}) &= \\frac{P(\\text{spam})P(\\text{money|spam})}{P(\\text{money})}\\\\\n",
    "&=\\frac{.08\\times.2}{.024}\\\\\n",
    "&=67\\%\n",
    "\\end{split}$$\n",
    "\n",
    "\n",
    "**Baynesian Analysis**\n",
    "\n",
    "- Before examining the email, there is a **prior probability** of $20\\%$ that it is spam;\n",
    "- After filtering the email for certain keyword sucha s \"money\", the filter updates this **prior probability** using **Bayes' rule** to arrive at the **posterior probability** that the email is spam."
   ]
  },
  {
   "cell_type": "markdown",
   "metadata": {},
   "source": [
    "#### A Randomized Response Model using Bayes' Rule Analysis\n",
    "\n",
    "What percentage of students have cheated during an exam in college? (Problem: the students may be too embarrased to answer truthfully).\n",
    "\n",
    "**Randomization response model**\n",
    "\n",
    "We can use a randomized response model to solve this problem, in which the students are asked to first toss a coin twice. \n",
    "\n",
    "- if the student gets 'tail' on the first toss, then he/she has to answer Q1\n",
    "- otherwise, the students answers Q2. \n",
    "\n",
    "While the questions are:\n",
    "<ul style=\"list-style-type:none\">\n",
    "<li>Q1. Have you ever cheated on an exam in college?\n",
    "<li>Q2. Did you get 'tail' on the second toss?\n",
    "</ul>\n",
    "\n",
    "Therefore, we won't know if a particular student answering \"Yes\" to Q1 or Q2. But due to the **theorectical probabilty** of getting \"tail\" is $0.5$, we can use the known probability to compute the unknown probability of a student answering \"Yes\" to Q1."
   ]
  },
  {
   "cell_type": "markdown",
   "metadata": {},
   "source": [
    "**The probabilities**\n",
    "<img src='../img/randomsurvey.png' width=500>"
   ]
  },
  {
   "cell_type": "markdown",
   "metadata": {},
   "source": [
    "What we have known from the model include:\n",
    "\n",
    "- $P(Q1)=.5$\n",
    "- $P(Q2)=.5$\n",
    "- $P(\\text{Yes}|Q2)=.5\\times.5$\n",
    "\n",
    "Also, 27 students answered \"yes\" and 30 answered \"no\":\n",
    "- $P(\\text{Yes})=\\frac{27}{27+30}=0.47$\n",
    "\n",
    "What we need to find out is the following probability:\n",
    "<div style=\"background-color:lightblue;padding:10px 10px 10px 10px;\">$$P(\\text{Yes}|Q1)$$</div>\n",
    "\n",
    "**Solution**\n",
    "<div style=\"border:1px solid black;padding:10px 10px 10px 10px;\">\n",
    "    According to the <b>law of total probability</b>, we have\n",
    "\n",
    "$$\\begin{split}\n",
    "P(\\text{Yes}) &= P(\\text{Yes}|Q1)P(Q1) + P(\\text{Yes}|Q2)P(Q2)\\\\\n",
    "\\\\\n",
    "\\text{therefore}\\\\\n",
    "\\\\\n",
    "P(\\text{Yes}|Q1) &= \\frac{P(\\text{Yes})-P(\\text{Yes}|Q2)P(Q2)}{P(Q1)}=\\frac{0.47-0.5\\times0.5}{0.5}=.44\n",
    "\\end{split}$$\n",
    "</div>"
   ]
  },
  {
   "cell_type": "markdown",
   "metadata": {},
   "source": [
    "# Random Variables\n",
    "\n",
    "A **random variable**, usually denoted as $X$, is a variable that takes on different values determined by chance. \n",
    "\n",
    "A **probability function** is a mathematical function that provides probabilities for the possible outcomes of the random variable $X$, it's typically denoted as $f(x)$;\n",
    "\n",
    "A **cumulative distribution function** (CDF), usually denoted as $F(x)$, is a function that gives the probability that the random variable $X$, is less than or equal to the value $x$.\n",
    "\n",
    "\n",
    "||Discrete|Continuous|\n",
    "|:---|:---:|:---:|\n",
    "|Definition|when $X$ can assume only countable, sometimes infinite, number of values|When $X$ can assume an uncountable number of values in a line interval|\n",
    "|Probability Functions<br>$f(x)$|PMF<br>the probability that $X$ is equal to $x$ |PDF<br>the probability function which is used to draw the curve of probability distribution|\n",
    "||$$f(x)=P(X=x)$$|$$f(x)\\neq P(X=x)$$instead<br>$$P(X=x)=0$$|\n",
    "|CDF<br>$F(x)$|Discrete CDF can be defined as:<br>$$F(x) = P(X\\leq x)$$|Discrete CDF can be defined as:<br>$$F(x) = P(X\\leq x)=P(X<x)$$|\n",
    "||It's calculated by summing PMFs|It's calculated by integrating the PDFs|\n",
    "||$$F(x)=\\sum_{x_k \\leq x}P(X=x_k)$$|$$F(x)=\\int_{-\\infty}^x f(x)dx$$|\n",
    "||The sum of all the probabilities of all the possible outcomes of an experiment is equal to 1|The area under the curve is equal to 1|\n",
    "||$$\\sum_{x\\in S} P(X=x)=1$$|$$F(x)=\\int_{-\\infty}^{\\infty} f(x)dx=1$$|\n",
    "|Expected Value<br>$E(x)$|||\n",
    "|Variance<br>$V(x)$||"
   ]
  },
  {
   "cell_type": "markdown",
   "metadata": {},
   "source": [
    "# Discrete Probability Distributions\n",
    "\n",
    "In probability, a discrete distribution has either a finite or infinite countable number of possible values. That means you can enumerate or make a listing of all possible values, such as $\\{1, 2, 3, 4, 5, 6\\}$ or $\\{1, 2, 3, . . .\\}$\n",
    "\n",
    "### Summary of Distributions\n",
    "\n",
    "There are several kinds of discrete probability distributions:"
   ]
  },
  {
   "cell_type": "markdown",
   "metadata": {},
   "source": [
    "|X|X Counts|Parameters (fixed)|p(x)|Values of X<br>(Sample Space)|E(X)|V(X)|\n",
    "|:---:|:---:|:---:|:---:|:---:|:---:|:---:|\n",
    "|Bernoulli|probability of success in 1 trial (it's a special case of bionomial distribution with sample size $n=1$)|$p$|$$p^x (1-p)^{1-x}$$<br> which also expressed as<br>$$\\boxed{\\begin{cases}p,\\text{ if }x=1\\\\1-p,\\text{ if }x=0\\end{cases}}$$|$x=0,1$|$p$|$p(1-p)$|\n",
    "|Discrete Uniform|Outcomes that are equally likely (finite)|-|$$\\frac{1}{b-a+1}$$|$$a\\leq  x\\leq b$$|$$\\frac{b+a}{2}$$|$$\\frac{(b-a+2)(b-a)}{12}$$|\n",
    "|Binomial|Number of successes in $n$ fixed trials|$$n,p$$|$${n\\choose x}p^x(1-p)^{n-x}$$|$$x=0,1,2,...n$$ (fixed number of trials)|$$np$$|$$np(1-p)$$|\n",
    "|Poisson|The count of successes over a given period of time, volume or area|$$\\lambda$$|$$\\frac{\\lambda^k}{k!} e^{-\\lambda}$$|$$x=0,1,2,...$$ (infinite trials)|$$\\lambda$$|$$\\lambda$$|\n",
    "|Geometric|Number of trials up through the $1^{st}$ success|$$p$$|$$(1-p)^{x-1}p$$|$$x=1,2,3,...$$(infinite trials until 1st success)|$$\\frac{1}{p}$$|$$\\frac{1-p}{p^2}$$|\n",
    "|Negative Binomial|Number of trials up through $k^{th}$ success|$$p, k$$|$${x-1 \\choose k-1}(1-p)^{x-k}p^k$$|$$x = k, k+1, ...$$|$$\\frac{k}{p}$$|$$\\frac{k(1-p)}{p^2}$$|\n",
    "|Hyper geometric|Number of successes in $n$ trials, **without replacement**, **from a finite population ($N$)** that contains exactly $a$ successes and $N-a$ failures|$$N \\in \\{0,1,...\\}$$<br>$$a \\in \\{0,1,...N\\}$$<br> $$n\\in \\{0,1,...N\\}$$|$$\\frac{{a \\choose x}{N-a \\choose n-x}}{{N \\choose n}}$$|$$max(0, n+a-N) \\leq x \\leq min(a,n)$$|$$n \\frac{a}{N}$$|$$n{a \\over N}{(N-a) \\over N}{N-n \\over N-1}$$|"
   ]
  },
  {
   "cell_type": "markdown",
   "metadata": {},
   "source": [
    "### Application of Distributions \n",
    "\n",
    "\n",
    "\n",
    "||With replacements <br>(Independent)|No replacements<br>(Dependent)|\n",
    "|:---|:---|:---|\n",
    "|Given number of trails ($n$)|**Binomial**  <br>Example: If a coin is tossed 20 times, what is the probability heads comes up exactly 3 times?|**Hypergeometric**<br>Example: If 5 cards are drawn without replacement, what is the probability 3 hearts are drawn<br><br> **Binomial** can closely approximates **hypergeometric** if sampling only a small fraction of the population as the **finite population correction factor** that exists in standard deviation of the random variable can be ignored. The guideline is: $N \\geq 10n$ |\n",
    "|Given number of successes ($r$)|**Negative binomial** if $r>1$<br><br>Example: If a coin is tossed repeatedly, what is the probability the third time heads appears on the 9th toss?|**Negative hypergeometric**|\n",
    "||**Geometric** if $r=1$<br><br>Example: If a coin is repeatedly tossed, what is the probability the \"first\" time heads appears on the 8th toss?||\n",
    "|Given average rate ($\\lambda$)|**Poisson**<br> - it's the distribution of rare events in a large population; <br>- poisson closely approximates binomial if n is large and p is small<br><br>Example: what is the probability that in 100,000 births, there is at least one case of progeria?||"
   ]
  },
  {
   "cell_type": "markdown",
   "metadata": {},
   "source": [
    "# Continuous Probability Distributions\n",
    "\n",
    "When you work with the **normal distribution**, you need to keep in mind that it’s a **continuous distribution**, not a discrete one. \n",
    "\n",
    "**A continuous distribution’s probability function takes the form of a continuous curve, and its random variable takes on an uncountably infinite number of possible values**. This means the set of possible values is written as an **interval**, such as\n",
    "- negative infinity to positive infinity, \n",
    "- zero to infinity, or \n",
    "- an interval like [0, 10], which represents all real numbers from 0 to 10, including 0 and 10.\n",
    "    \n",
    "### Examples of Continuous Distribution\n",
    "- Population distribution: such as **continuous uniform**, **exponential**, **normal**\n",
    "- Standardized version of normal distribution: **standard normal** (Z)\n",
    "- Normal approximations: such as **binomial approximation**, **Poisson approximation**\n",
    "- Sampling distributions for a sample statistic: \n",
    "    - For the sample statistics that <u>work with CLT</u>, their sampling distribution will tend to **normal** with $n>30$; for example, the **distribution for sample mean** and **sample proportion**. \n",
    "    - For the sample statistics that <u>doesn't work with CLT</u>, their sampling distribution is not **normal** unless their population distribution is **normal**. for example, the **distribution for median**\n",
    "    \n",
    "<img src='../img/continuous-dist.jpg'>"
   ]
  },
  {
   "cell_type": "markdown",
   "metadata": {},
   "source": [
    "### Visualize the Continous Distributions \n",
    "\n",
    "Let's plot the most common continuous data distributions:"
   ]
  },
  {
   "cell_type": "code",
   "execution_count": 63,
   "metadata": {},
   "outputs": [
    {
     "data": {
      "image/png": "[encoded data removed]",
      "text/plain": [
       "<Figure size 1080x360 with 3 Axes>"
      ]
     },
     "metadata": {
      "needs_background": "light"
     },
     "output_type": "display_data"
    }
   ],
   "source": [
    "n = 10000\n",
    "\n",
    "# Random samples from uniform distribution ranging from 0 to 1\n",
    "u = np.random.uniform(size=n)\n",
    "\n",
    "# Random samples from exponential distribution with lambda=1 \n",
    "e = np.random.exponential(size=n)\n",
    "\n",
    "# Random samples from standard normal distriubiton with mean = 0 and std = 1\n",
    "n = np.random.normal(size=n)\n",
    "\n",
    "dists = dict({'uniform': u, 'exponential': e, 'normal': n})\n",
    "\n",
    "fig, axes = plt.subplots(1,3, figsize=(15, 5))\n",
    "for i, (k,v) in enumerate(dists.items()):\n",
    "    sns.histplot(v, bins=200, kde=True, ax=axes[i])\n",
    "    axes[i].set_title(k)\n",
    "\n",
    "plt.show()"
   ]
  },
  {
   "cell_type": "markdown",
   "metadata": {},
   "source": [
    "# Approximation of a Distribution to Another\n",
    "\n",
    "---\n",
    "\n",
    "### Definition\n",
    "\n",
    "For one distribution to \"approximate\" a different distribution, it means their **cumulative probabilities** are close. \n",
    "\n",
    "That is, if $X$ and $Y$ are from different distributions that are \"approximately\" the same, then \n",
    "\n",
    "$$F(X \\leq n) \\approx F(Y \\leq n)$$\n",
    "\n",
    "*Although how close is \"close enough\"? That's is a question of precision. It's left up to the scientist for what precision is needed*\n",
    "\n",
    "---\n",
    "\n",
    "### 1. Bionomial approximation to Hypergeometric\n",
    "\n",
    "\n",
    "### 2. Poisson approximation to Binomial\n",
    "\n",
    "\n",
    "### 3. Normal approximation to Binomial"
   ]
  },
  {
   "cell_type": "code",
   "execution_count": null,
   "metadata": {},
   "outputs": [],
   "source": []
  }
 ],
 "metadata": {
  "kernelspec": {
   "display_name": "stat_notes",
   "language": "python",
   "name": "stat_notes"
  },
  "language_info": {
   "codemirror_mode": {
    "name": "ipython",
    "version": 3
   },
   "file_extension": ".py",
   "mimetype": "text/x-python",
   "name": "python",
   "nbconvert_exporter": "python",
   "pygments_lexer": "ipython3",
   "version": "3.9.12"
  },
  "toc": {
   "base_numbering": 1,
   "nav_menu": {},
   "number_sections": true,
   "sideBar": true,
   "skip_h1_title": false,
   "title_cell": "Table of Contents",
   "title_sidebar": "Contents",
   "toc_cell": false,
   "toc_position": {
    "height": "calc(100% - 180px)",
    "left": "10px",
    "top": "150px",
    "width": "295px"
   },
   "toc_section_display": true,
   "toc_window_display": true
  }
 },
 "nbformat": 4,
 "nbformat_minor": 5
}
