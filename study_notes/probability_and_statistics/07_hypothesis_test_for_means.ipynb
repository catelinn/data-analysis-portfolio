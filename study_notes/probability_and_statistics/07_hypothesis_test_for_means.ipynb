{
 "cells": [
  {
   "cell_type": "code",
   "execution_count": 2,
   "metadata": {},
   "outputs": [],
   "source": [
    "import numpy as np\n",
    "import pandas as pd\n",
    "import matplotlib.pyplot as plt\n",
    "%matplotlib inline\n",
    "\n",
    "# tell matplotlib don't bother to use 'tex' (as it can't find path to 'tex')\n",
    "# this way, matplotlib can render latex using its own way of handling this, called 'mathtex'\n",
    "plt.rcParams['text.usetex'] = False \n",
    "\n",
    "import math\n",
    "import scipy.stats as stats\n",
    "\n",
    "import seaborn as sns\n",
    "sns.set_theme()"
   ]
  },
  {
   "cell_type": "markdown",
   "metadata": {},
   "source": [
    "# An Informal Example of Hypothesis Testing\n",
    "\n",
    "Pete claims he can guess the suit of a randomly selected cards <u>more than $\\frac{1}{4}$ of the time</u> on average. \n",
    "\n",
    "\n",
    "## Test with Pete has guesses 28 times correctly\n",
    "\n",
    "We make Pete guess the suit of a randomly selected card 100 times. He guesses correctly 28 times. \n",
    "\n",
    "Does this provide strong evidence that Pete has a probability of greater than $\\frac{1}{4}$ of correctly guessing the suit of a card?\n",
    "\n",
    "\n",
    "**Let's try the informal hypothesis test as follows:**\n",
    "\n",
    "Say, we assme Pete can guess correctly for $\\frac{1}{4}$ of the time on average, we have **null hypothesis**:\n",
    "\n",
    "$$H_0: p=\\frac{1}{4}$$\n",
    "\n",
    "against the **alternative hypothesis**:\n",
    "\n",
    "$$H_1: p > \\frac{1}{4}$$\n"
   ]
  },
  {
   "cell_type": "code",
   "execution_count": 3,
   "metadata": {},
   "outputs": [
    {
     "data": {
      "text/plain": [
       "Text(0, 0.5, 'Probability')"
      ]
     },
     "execution_count": 3,
     "metadata": {},
     "output_type": "execute_result"
    },
    {
     "data": {
      "image/png": "[encoded data removed]",
      "text/plain": [
       "<Figure size 432x288 with 1 Axes>"
      ]
     },
     "metadata": {},
     "output_type": "display_data"
    }
   ],
   "source": [
    "# If Pete is guessing randomly, the number of correct guesses\n",
    "# would follow a binomial distribution with parameters $n=100$ and $p=1/4$\n",
    "n, p = 100, 1/4\n",
    "s = np.random.binomial(n,p,1000)\n",
    "plt.hist(s, bins=30, edgecolor='white')\n",
    "plt.xlabel('Number Correct')\n",
    "plt.ylabel('Probability')"
   ]
  },
  {
   "cell_type": "code",
   "execution_count": 4,
   "metadata": {
    "scrolled": true
   },
   "outputs": [
    {
     "name": "stdout",
     "output_type": "stream",
     "text": [
      "P(X >= 28): 0.278\n"
     ]
    }
   ],
   "source": [
    "# Compute the probability of performing better than the test\n",
    "# which is, having more than 28 correct guesses \n",
    "k = 28 \n",
    "p_1 = 1-stats.binom.cdf(k,n,p) # probability of having more successes than k\n",
    "p_2 = stats.binom.pmf(k,n,p) # probability of getting k successes\n",
    "print('P(X >= 28):', round(p_1+p_2,3))"
   ]
  },
  {
   "cell_type": "code",
   "execution_count": 5,
   "metadata": {
    "scrolled": true
   },
   "outputs": [
    {
     "data": {
      "image/png": "[encoded data removed]",
      "text/plain": [
       "<Figure size 432x288 with 1 Axes>"
      ]
     },
     "metadata": {},
     "output_type": "display_data"
    }
   ],
   "source": [
    "# Plot the probability of getting more than 28 correct guesses \n",
    "values, bins, patches = plt.hist(s, bins=30, edgecolor='white')\n",
    "for bar in patches:\n",
    "    if bar.get_x() >= 28:\n",
    "        bar.set_color('red')"
   ]
  },
  {
   "cell_type": "markdown",
   "metadata": {},
   "source": [
    "As the probability is not very small, it's likely to get this many correct guesses due to chance, therefore, there is no strong evidence that Pete has better than $\\frac{1}{4}$ chance of correctly guessing the suit.\n",
    "\n",
    "In other words, we found that we did not have strong evidence against the null hypothesis."
   ]
  },
  {
   "cell_type": "markdown",
   "metadata": {},
   "source": [
    "## How if Pete has guesses 44 times correctly?\n",
    "\n"
   ]
  },
  {
   "cell_type": "code",
   "execution_count": 6,
   "metadata": {},
   "outputs": [
    {
     "data": {
      "image/png": "[encoded data removed]",
      "text/plain": [
       "<Figure size 432x288 with 1 Axes>"
      ]
     },
     "metadata": {},
     "output_type": "display_data"
    }
   ],
   "source": [
    "# Plot the probability of getting more than 28 correct guesses \n",
    "values, bins, patches = plt.hist(s, bins=30, edgecolor='white')\n",
    "for bar in patches:\n",
    "    if bar.get_x() >= 44:\n",
    "        bar.set_color('red')"
   ]
  },
  {
   "cell_type": "code",
   "execution_count": 7,
   "metadata": {},
   "outputs": [
    {
     "name": "stdout",
     "output_type": "stream",
     "text": [
      "P(X >= 44): 0.0\n"
     ]
    }
   ],
   "source": [
    "# Compute the probability of performing better than the test\n",
    "# which is, having more than 28 correct guesses \n",
    "k = 44 \n",
    "p_1 = 1-stats.binom.cdf(k,n,p) # probability of having more successes than k\n",
    "p_2 = stats.binom.pmf(k,n,p) # probability of getting k successes\n",
    "print(f'P(X >= {k}):', round(p_1+p_2,3))"
   ]
  },
  {
   "cell_type": "markdown",
   "metadata": {},
   "source": [
    "As the probability is very close to $0$, i.e. it's very unlikely to make this many correct guesses due to chance. This could imply:\n",
    "\n",
    "- Either Pete just happen to make a very lucky successful test with us by chance; \n",
    "\n",
    "- Or he can really make more than $\\frac{1}{4}$ of guesses correct."
   ]
  },
  {
   "cell_type": "markdown",
   "metadata": {},
   "source": [
    "# Hypothesis Test for Means\n",
    "\n",
    "\n",
    "## Z or T Tests\n",
    "\n",
    "<img src='../img/z-or-t.png' width=500>\n",
    "\n",
    "If the sample size is large enough, then $Z$ and $T$ test will conclude the same results, because:\n",
    "- for a large sample size, **sample variance** will be a good estimate of **population variance**, so that we can use $Z$ test with **sample variance**;\n",
    "- similarly, for a large sample, we have a high **degree of freedom**, since t-distribution approaches normal distribution, the difference between Z score and T score is negligible.\n",
    "\n",
    "\n",
    "## Different Senarios\n",
    "\n",
    "When we conduct hypothesis test for means, we can come across the following common senarios:\n",
    "\n",
    "- Single Population\n",
    "\n",
    "    - known varaince (**z test**)\n",
    "    - unknown variance (**t test**)\n",
    "    \n",
    "    \n",
    "- Two Populations\n",
    "    - The paired populations\n",
    "        - known population variance (**z test for difference of means**)\n",
    "        - unknown population variance (**t test for difference of means**)\n",
    "    - The two populations are independent\n",
    "        - known population variance (**z test for paired difference of means**)\n",
    "        - unknown population variance, but assumed equal (**t test using pooled-variance from the two populations**)\n",
    "        - unknown population variance, assumed unequal\n",
    "\n",
    "\n",
    "\n",
    "## Assumptions for Z or T Tests\n",
    "\n",
    "**Data Collection**:\n",
    "- Samples must be <u>random</u> to remove or minimize bias.\n",
    "- Samples must be <u>representative of the populations</u> in question.\n",
    "\n",
    "\n",
    "**Populations and Sample Size**\n",
    "\n",
    "||One Population|Two Populations|\n",
    "|:---|:---|:---|\n",
    "|Population Distribution or|Normally Distributed|Normally Distributed (both)|\n",
    "|Sample Size|$n>30$|$n>30$|\n",
    "|If normality of population distribution cannot be verified and $n \\leq 30$|The sample shall not be strongly skewed and does not have outliers<br>(plot sample data using <u>histogram</u> or <u>dotplot</u> to explore)|The sample difference shall not be strongly skewed and does not have outliers<br>(plot sample data using <u>histogram</u> or <u>dotplot</u> to explore)|\n",
    "\n",
    "\n",
    "\n",
    "\n",
    "\n",
    "# Test Statistics\n",
    "\n",
    "\n",
    "## Testing for One Population Mean\n",
    "\n",
    "\n",
    "|# of Population|Population Variance|Samples|Critical Value|Variance|Test statistics|\n",
    "|:---|:---|:---|:---|:---|:---|\n",
    "|One|Known|-|$$z$$|$$\\sigma^2$$|$$Z=\\frac{\\bar{x}-\\mu_0}{\\sigma/\\sqrt{n}}$$|\n",
    "|One|Unknown|- |$$t$$|$$s^2$$|$$T=\\frac{\\bar{x}-\\mu_0}{s/\\sqrt{n}}$$|\n",
    "\n",
    "\n",
    "\n",
    "\n",
    "## Comparing Two Populations Means\n",
    "\n",
    "\n",
    "||Two Populations <br>(Paired)|Two Populations <br>(Independent)|Two Populations <br>(Independent, pooled-variance)|Two Populations<br>(Independent, unpooled-variance)|\n",
    "|:---|:---|:---|:---|:---|\n",
    "|Datasets|Population variance unkown, or sample size $n<30$|Population variance known, or sample size $n>30$|Population variance unknown, assumed equal|Population variance unknown, assumed different|\n",
    "|Use Case|**Before and after** datasets of the same subject, e.g. patients' blood test results before and after taking pills;<br><br>Two datasets having **cause and effect** relationship, e.g. SAT test results and college admission rate of the same subjects, or husbands and wives' activities time at home|Two independent datasets for different subjects and there is no cause and effect relationship in between, sometimes, using different sample sizes. But population variance is known. |Two independent datasets that with small sample size, they don't have impact on each other but they might share similar variance, which, although, is unkown. For example, apple prices in different cities. |Well, this seems like the case of comparing apple to orange. However, in statistics, it is possible to do so, though it's not easy.|\n",
    "|Mean of Difference|$$\\bar{d} = \\bar{x} - \\bar{y}$$|$$\\bar{d} = \\bar{x} - \\bar{y}$$|$$\\bar{d} = \\bar{x} - \\bar{y}$$|$$\\bar{d} = \\bar{x} - \\bar{y}$$|\n",
    "|Variance of Difference|$$s_{d}^2\\text{ where }d=x-y$$|$$\\sigma_{\\text{d}}^2 = \\frac{\\sigma_x^2}{n_x} + \\frac{\\sigma_y^2}{n_y}$$|We estimate the sample variance by **pooling** both sample information (**pooled variance**) <br><br> $$s_p^2 = \\frac{(n_x-1)s_x^2 + (n_y-1)s_y^2}{n_x+n_y-2}$$|$$s_x^2, s_y^2$$|\n",
    "|SE|$$SE = \\sqrt{\\frac{s_d^2}{n}}=\\frac{s_d}{\\sqrt{n}}$$|$$SE= \\sqrt{\\frac{\\sigma_x^2}{n_x} + \\frac{\\sigma_y^2}{n_y}}$$|As the **pooled variance** has two datasets' sample info combined, we cannot compute the standard error simply by getting the square root of the **pooled variance**, we need to do it as follows instead:<br><br> $$SE = \\sqrt{\\frac{s_p^2}{n_x}+\\frac{s_p^2}{n_y}}$$|$$SE = \\sqrt{\\frac{s_x^2}{n_x}+\\frac{s_y^2}{n_y}}$$|\n",
    "|Critical Value|$$t_{n-1, \\alpha/2}$$|$$z_{\\alpha/2}$$|To look at the t-value of two datasets, the **degree of freedom** shall be the combined sample size: <br>$$v=n_x+n_y-2$$ <br>The critical t-value is: <br> $$t_{n_x+n_y-2, \\alpha/2}$$|In this senario, we need to compute the **degree of freedom** as follows: <br> $$v = \\frac{(\\frac{s_x^2}{n_x}+\\frac{s_y^2}{n_y})^2}{\\frac{(\\frac{s_x^2}{n_x})^2}{(n_x-1)} + \\frac{(\\frac{s_y^2}{n_y})^2}{(n_y-1)}}$$<br>and the critical t-value is: <br> $$t_{v, \\alpha/2}$$|\n",
    "|CI|$$\\bar{d}\\pm t_{n-1, \\alpha/2}\\frac{s_d}{\\sqrt{n}}$$|$$\\bar{d}\\pm z_{\\alpha/2}\\sqrt{\\frac{\\sigma_x^2}{n_x} + \\frac{\\sigma_y^2}{n_y}}$$|$$\\bar{d}\\pm t_{n_x+n_y-2, \\alpha/2} \\sqrt{\\frac{s_p^2}{n_x}+\\frac{s_p^2}{n_y}}$$|$$\\bar{d}\\pm t_{v, \\alpha/2} \\sqrt{\\frac{s_x^2}{n_x}+\\frac{s_y^2}{n_y}}$$|\n",
    "|Test Statistic|$$T=\\frac{\\bar{d}-\\mu_0}{s_d/\\sqrt{n}}$$|$$Z=\\frac{\\bar{d}-\\mu_0}{\\sqrt{\\frac{\\sigma_x^2}{n_x} + \\frac{\\sigma_y^2}{n_y}}}$$|$$T=\\frac{\\bar{d}-\\mu_0}{\\sqrt{\\frac{s_p^2}{n_x}+\\frac{s_p^2}{n_y}}}$$|$$T$$|\n",
    "\n",
    "\n",
    "## Critical Values for Different Tests\n",
    "\n",
    "||z|t|\n",
    "|:---|:---|:---|\n",
    "|lower-tailed|$$z_{\\alpha}$$|$$t_{n-1, \\alpha}$$|\n",
    "|upper-tailed|$$z_{1-\\alpha}$$|$$t_{n-1, 1-\\alpha}$$|\n",
    "|two-tailed|$$z_{\\alpha/2}$$|$$t_{n-1, \\alpha/2}$$|"
   ]
  },
  {
   "cell_type": "markdown",
   "metadata": {},
   "source": [
    "# P-value\n",
    "\n",
    "\n",
    "## P-value for Continuous Data\n",
    "\n",
    "\n",
    "> Same as **p-value** for discrete random variable, the **p-value** for continuous random variable is the probability of observing another test result at least or more extreme than the test result actually observed in an experiment, given the null hypothesis is true. \n",
    "\n",
    "However, the **continuous random variable** is not countable and we cannot measure the probability of a possible value by its frequency, instead, it's measured as **cumulative probability** for an interval, such as $P(X\\leq x)$, which actually equals $P(X<x)$, because $P(X=x)=0$.\n",
    "\n",
    "\n",
    "##### Example\n",
    "\n",
    "\n",
    "The aquarium workers need to minitor how much their sea otters eat. \n",
    "\n",
    "The amount of food a particular otter eats daily is approximately normally distributed with $\\mu = 17\\text{ lbs}$ and $\\sigma = 1\\text{ lb}$. This otter seems not eating enough recently, so the workers took a random sample $n=10\\text{ days}$ and observed a sample mean of $\\bar{x}=16.5\\text{ lbs}$ of food per day.\n",
    "\n",
    "The employees want to test $H_0: \\mu = 17$ and $H_a: \\mu < 17$. \n",
    "\n",
    "**Based on the simulated results, what is the approximate p-value of the test, which sample mean is $\\bar{x}=16.5$?**"
   ]
  },
  {
   "cell_type": "code",
   "execution_count": 15,
   "metadata": {},
   "outputs": [
    {
     "name": "stdout",
     "output_type": "stream",
     "text": [
      "number of sample results <= 16.5: 606\n",
      "number of samples:  10000\n",
      "p-value:  0.0606\n"
     ]
    },
    {
     "data": {
      "image/png": "[encoded data removed]",
      "text/plain": [
       "<Figure size 432x288 with 1 Axes>"
      ]
     },
     "metadata": {},
     "output_type": "display_data"
    }
   ],
   "source": [
    "# Simulation the sampling distribution\n",
    "mu = 17\n",
    "sigma = 1\n",
    "n = 10 # sample size\n",
    "k = 10000 # number of experiments (the more the closer for simulation of population)\n",
    "\n",
    "samples = np.random.normal(loc=mu, scale=sigma, size=(k,n))\n",
    "sample_means = samples.mean(axis=1)\n",
    "\n",
    "# Calculate p-value of the test with the simulation results\n",
    "sample_mean = 16.5\n",
    "extreme_results = sample_means[sample_means <= sample_mean]\n",
    "print(f'number of sample results <= {sample_mean}:', len(extreme_results))\n",
    "print('number of samples: ', len(sample_means))\n",
    "print('p-value: ', len(extreme_results)/len(sample_means))\n",
    "\n",
    "# visualize the histogram\n",
    "_, _, bars = plt.hist(sample_means, edgecolor='white')\n",
    "for bar in bars:\n",
    "    if bar.get_x() <= 16.5:\n",
    "        bar.set_color('red')\n",
    "plt.show()"
   ]
  },
  {
   "cell_type": "markdown",
   "metadata": {},
   "source": [
    "## Compute P-value using Test Statistics\n",
    "\n",
    "\n",
    "**P-value Formula**\n",
    "\n",
    "||Formula|Probability Calculation|\n",
    "|:---|:---|:--|\n",
    "|left-tailed test|$$p = P(T \\leq t|H_0)$$|$$\\boxed{P(T \\leq t) = CDF(T=t)}$$\n",
    "|right-tailed test|$$p = P(T \\geq t | H_0)$$|$$\\boxed{P(T \\geq t) = 1 - CDF(T=t)}$$|\n",
    "|two-tailed|$$p = 2\\cdot P(T \\geq |t| | H_0))$$|$$\\boxed{P(T \\geq |t|) = 2\\cdot (1 - CDF(T=|t|))}$$|\n",
    "\n",
    "\n",
    "For example, we are testing for $H_0: \\mu = \\mu_0$ against $H_a: \\mu \\neq \\mu_0$ at significance level of $1\\%$ ($\\alpha = 0.01$). And the Z statistics obtained from the sample data is $Z = -1.53$:\n",
    "\n",
    "- This is a 2-tailed test, we are to find the $p = 2\\cdot P(T \\geq |-1.53|)$ given $H_0$ is true,\n",
    "\n",
    "- which is computed as follows:\n",
    "\n",
    "$$\\begin{split}\n",
    "p &= P(Z\\leq -1.53) + P(Z\\geq 1.53) \\\\\n",
    "&= 2\\cdot P(Z\\geq |1.53|)\\\\\n",
    "&\\approx 0.126\n",
    "\\end{split}$$"
   ]
  },
  {
   "cell_type": "code",
   "execution_count": 893,
   "metadata": {},
   "outputs": [
    {
     "data": {
      "text/plain": [
       "0.126"
      ]
     },
     "execution_count": 893,
     "metadata": {},
     "output_type": "execute_result"
    }
   ],
   "source": [
    "# compute 2-sided p-value using stats.norm.cdf()\n",
    "round((1-stats.norm.cdf(1.53))*2,3)"
   ]
  },
  {
   "cell_type": "markdown",
   "metadata": {},
   "source": [
    "## Understand P-value in Application\n",
    "\n",
    "\n",
    "**Here's an example**: \n",
    "\n",
    "Do women who smoke run the risk of shorter pregnancy and premature birth? The mean pregnancy length is 266 days. We test the following hypotheses.\n",
    "\n",
    "- $H0: μ = 266$\n",
    "- $Ha: μ < 266$\n",
    "\n",
    "Suppose a random sample of 40 women who smoke during their pregnancy have a mean pregnancy length of 260 days with a standard deviation of 21 days. The P-value is 0.04.\n",
    "\n",
    "What probability does the P-value of 0.04 describe? Choose from the following:\n",
    "- [ ] There is a 4% chance that smokers will have a mean pregnancy length of 266 days\n",
    "- [x] If smoking does not affect pregnancy length, there is a 4% chance that a random sample of 40 smokers will have pregnancies that last less than 260 days. ($\\checkmark$)\n",
    "- [ ] There is a 4% probability that smoking shortens pregnancy length. These means that there is a 4% chance that random samples of 40 smokers have mean pregnancy lengths less than 266. \n",
    "\n",
    "\n",
    "**Note**\n",
    "\n",
    "- A small P-value here does indicate that smokers have a shorter pregnancy length. But it is **not** a measure of <u>the probability of whether this is true</u>, or <u>the probability that the alternative hypothesis is true</u>.” The P-value is not a probability statement about either hypothesis.\n",
    "\n",
    "\n",
    "- What P-value really mean is, if $H_0: \\mu = 266$ is true, there is only a 4% chance that we will see pregnancies shorter than we see in the data (less than 260 days)."
   ]
  },
  {
   "cell_type": "markdown",
   "metadata": {},
   "source": [
    "- As $0.126 > 0.01$, we cannot reject $H_0$ at signficance level of $1\\%$"
   ]
  },
  {
   "cell_type": "markdown",
   "metadata": {},
   "source": [
    "# Decision Rules\n",
    "\n",
    "There are commonly two approaches to decide the result of test:\n",
    "\n",
    "- **Rejection region** approach, which compares the test statistics and critical value on the rejection line.\n",
    "- The **p-value** approach, which compare the **p-value** and the level of significance $\\alpha$.\n",
    "\n",
    "Usually, you will be using **p-value** to make a decision.  \n",
    "\n",
    "\n",
    "|Accept $H_0$|Reject $H_0$|\n",
    "|:---|:---|\n",
    "|$$|\\text{test statistics}|\\leq|\\text{critical value}|$$|$$|\\text{test statistics}|>|\\text{critical value}|$$|\n",
    "|p-value $< \\alpha$, most often $0.05$ |p-value $\\geq \\alpha$, most often $0.05$|\n",
    "\n",
    "\n",
    "## Decision with \"Rejection Region\"\n",
    "    \n",
    "If the null hypothesis, the **Z-score** will have the standard normal distribution $N\\sim(0,1)$. And we expect the **Z-score** to be within critical values for acceptance of $H_0$, depending on the significance level of our test:\n",
    "\n",
    "- If $|Z| < |z|$, we accept the null hypothesis;\n",
    "- vice versa. \n",
    "\n",
    "For example, we are testing $H_0: \\mu = \\mu_0$ at significance of $5\\%$ (i.e. $95\\%$ confidence)\n",
    "- this will be a **two-tailed** test\n",
    "- if $-1.96 \\leq Z \\leq 1.96$ , we  can accept $H_0$;\n",
    "- if $Z < -1.96$ or $Z > 1.96$, we reject $H_0$.\n",
    "\n",
    "<img src = '../img/standard-normal-dist-z.png'>\n",
    "\n",
    "## Decision with \"P-value\"\n",
    "\n",
    "The preferred way of deciding the test result is compare **P-value** to significance level $\\alpha$. \n",
    "\n",
    "<img src='../img/p-value-tests.png' width=500>\n",
    "\n",
    "- Given the null hypothesis is true, if the probability of observing the data being at least as extreme as the sample result is very low, that is, the probability of observing the data not as extreme as the sample result is very high, therefore, if $p>\\alpha$, we accept the null hypothesis, if $p\\leq \\alpha$, we reject the null hypothesis.\n",
    "- The <u>smaller</u> the **p-value**, the <u>greater</u> the evidence against $H_0$\n",
    "- **p-value** applies to not only normal distribution, but also all other distributions, e.g. uniform, binomial, student's t distributions.\n",
    "\n",
    "\n",
    "## Decision on Directional Test using Test Statistics\n",
    "\n",
    "Besides computing p-value for the direction of interest, e.g. **left-tailed** ro **right-tailed** to confirm result, we can actually examine the test statistics to make a quick decision:\n",
    "\n",
    "||One Mean|Two Means|\n",
    "|:---:|:---:|:---:|\n",
    "|Test Statistics<br>(Z or T)|$\\frac{\\bar{x} - \\mu_0}{se}$|$\\frac{(\\bar{x} - \\bar{y})-\\mu_0}{se}$ where $\\mu_0 = 0$ if $\\bar{x} = \\bar{y}$|\n",
    "|Rule|$$\\text{If Z or T} > 0:$$ $$\\bar{x} > \\mu_0$$<br>vice versa.|$$\\text{If Z or T} > 0:$$ $$\\bar{x} > \\bar{y}$$<br>vice versa.|\n",
    "|Example|We are comparing if data scientists earns more than 113000 on average, the test score of the sample mean is $T = \\frac{\\bar{x}-113000}{se} = -2.00$, as T is negative, we infer that data scientists earn less than the hypothized mean. |we are comparing the average salary paid to female ($\\mu_f$) and male ($\\mu_m$) in a city, the T-score of their difference is $T = \\frac{(\\mu_f - \\mu_m)-0}{se} = 2.00$, as T is positive, we infer that the difference in pay is positive, i.e. females earn more. "
   ]
  },
  {
   "cell_type": "markdown",
   "metadata": {},
   "source": [
    "# Test for One Mean, Known Population Variance\n",
    "\n",
    "\n",
    "## Steps to Follow (Detailed)\n",
    "\n",
    "### Formulate Null Hypothesis\n",
    "\n",
    "> The test is to find out **is there strong evidence that the <U>population mean is different from some value that is of interest to us**? Is it different from some **hypothesized** value? \n",
    "  \n",
    "We will have **null hypothesis** as follows:\n",
    "\n",
    "$$H_0: \\mu = \\mu_0$$\n",
    "\n",
    "where, \n",
    "\n",
    "- $\\mu$ is the population mean\n",
    "- $\\mu_0$ is the hypothesized value, the mean from null hypothesis."
   ]
  },
  {
   "cell_type": "markdown",
   "metadata": {},
   "source": [
    "### Formulate Alternative Hypothesis\n",
    "\n",
    "> **The appropriate choice of alternative hypothesis** depends on the problem concerned, and **should not be based on the current sample's data** (You should not use the same data that suggests a hypothesis to test that hypothesis, that's **cheating**)\n",
    "\n",
    "Against $H_0$,  we choose one of the possible **alternative hypotheses**:\n",
    "    \n",
    "- $H_a: \\mu < \\mu_0$ (lower-tailed test)\n",
    "- $H_a: \\mu > \\mu_0$ (upper-tailed test)\n",
    "- $H_a: \\mu \\neq \\mu_0$ (two-tailed test)\n",
    "    \n",
    "    \n",
    "### Compute Test Statistics\n",
    "    \n",
    "To test $H_0: \\mu = \\mu_0$, we compute **Z statistics** or **Z-score** using the sample data.\n",
    "> **Z-score** measures the distance from **sample mean** to **hypothesized mean** in **standard deviation**:\n",
    "\n",
    "$$\\boxed{Z = \\frac{\\bar{x}-\\mu_0}{\\sigma/\\sqrt{n}}}$$\n",
    "\n",
    "where:\n",
    "\n",
    "- $\\bar{x}$ is the **sample mean**\n",
    "- $\\sigma$ is the **known population standard deviation**\n",
    "- $\\sigma_{\\bar{x}} = \\sigma/\\sqrt{n}$, the **sample standard deviation**, which is the standard deviation of the sampling distribution of the sample means\n",
    "\n",
    "\n",
    "### Test Result using Rejection Region\n",
    "\n",
    "Depending on the level of significance for the test, we will look up the critical t-value ($z$) for \"rejection region\":\n",
    "\n",
    "- $z_{\\alpha, n-1}$ for one-tailed test;\n",
    "- $z_{\\alpha/2, n-1}$ for two-tailed test\n",
    "\n",
    "If $|Z| \\leq |z|$, we accept the null hypothesis; vice versa.\n",
    "\n",
    "\n",
    "\n",
    "### Test Result using p-value\n",
    "\n",
    "Or we can decide the test result using the preferred way: **p-value**, \n",
    "\n",
    "- If $p \\leq \\alpha$, we have evidence to reject $H_0$;\n",
    "- If $p > \\alpha$, we accept $H_0$"
   ]
  },
  {
   "cell_type": "markdown",
   "metadata": {},
   "source": [
    "## Examples\n",
    "\n",
    "\n",
    "### Example: Average Data Scientist Salaries\n",
    "    \n",
    "Glassdoor shows the average data scientists salary is $\\$113,000$, which you have doubt about. Instead, you suspect whether data scientists can make more than this amount on average. \n",
    "    \n",
    "1. We will test the **null hypothesis**:\n",
    "      \n",
    "    $$H_0: \\mu \\geq 113000$$\n",
    "    \n",
    "    against the alternative:\n",
    "    \n",
    "    $$H_a: \\mu < 113000$$\n",
    "    \n",
    "2. Then, you have randomly sampled 30 data scientists' salaries for the hypothesis test.\n",
    "    \n",
    "   Does the sample data yield strong evidence that $\\mu = 113000$? \n",
    "   \n",
    "   (suppose we know the population $\\sigma = 15000$ and we will test at significance of $0.1\\%$)\n",
    "   \n",
    "**Note**\n",
    "\n",
    "When we compute P-value, we are to find the probability of having data < the sample result given the null hypothesis is true. Therefore, this will be a **lower-tailed** test."
   ]
  },
  {
   "cell_type": "code",
   "execution_count": 894,
   "metadata": {},
   "outputs": [
    {
     "name": "stdout",
     "output_type": "stream",
     "text": [
      "size of sample (n):  30\n"
     ]
    },
    {
     "data": {
      "text/html": [
       "<div>\n",
       "<style scoped>\n",
       "    .dataframe tbody tr th:only-of-type {\n",
       "        vertical-align: middle;\n",
       "    }\n",
       "\n",
       "    .dataframe tbody tr th {\n",
       "        vertical-align: top;\n",
       "    }\n",
       "\n",
       "    .dataframe thead th {\n",
       "        text-align: right;\n",
       "    }\n",
       "</style>\n",
       "<table border=\"1\" class=\"dataframe\">\n",
       "  <thead>\n",
       "    <tr style=\"text-align: right;\">\n",
       "      <th></th>\n",
       "      <th>Dataset</th>\n",
       "    </tr>\n",
       "  </thead>\n",
       "  <tbody>\n",
       "    <tr>\n",
       "      <th>0</th>\n",
       "      <td>117313</td>\n",
       "    </tr>\n",
       "    <tr>\n",
       "      <th>1</th>\n",
       "      <td>104002</td>\n",
       "    </tr>\n",
       "    <tr>\n",
       "      <th>2</th>\n",
       "      <td>113038</td>\n",
       "    </tr>\n",
       "    <tr>\n",
       "      <th>3</th>\n",
       "      <td>101936</td>\n",
       "    </tr>\n",
       "    <tr>\n",
       "      <th>4</th>\n",
       "      <td>84560</td>\n",
       "    </tr>\n",
       "  </tbody>\n",
       "</table>\n",
       "</div>"
      ],
      "text/plain": [
       "   Dataset\n",
       "0   117313\n",
       "1   104002\n",
       "2   113038\n",
       "3   101936\n",
       "4    84560"
      ]
     },
     "execution_count": 894,
     "metadata": {},
     "output_type": "execute_result"
    }
   ],
   "source": [
    "# Import data\n",
    "fname = 'data/Test-for-the-mean.Population-variance-known.xlsx'\n",
    "salaries = pd.read_excel(fname, skiprows=6, nrows=30, usecols=[1])\n",
    "print('size of sample (n): ', len(salaries))\n",
    "salaries.head()"
   ]
  },
  {
   "cell_type": "code",
   "execution_count": 895,
   "metadata": {},
   "outputs": [
    {
     "data": {
      "image/png": "[encoded data removed]",
      "text/plain": [
       "<Figure size 432x288 with 1 Axes>"
      ]
     },
     "metadata": {},
     "output_type": "display_data"
    }
   ],
   "source": [
    "# Let's explore sample data using boxplot\n",
    "mean = round(salaries.mean()[0],2)\n",
    "salaries.boxplot()\n",
    "plt.axhline(y=113000, color='red', linestyle='--')\n",
    "plt.text(1,105000, r'$\\bar{x}=$'+f'{mean}', ha='center', va='center')\n",
    "plt.show()"
   ]
  },
  {
   "cell_type": "markdown",
   "metadata": {},
   "source": [
    "In the plot, both the mean and the entire IQR of the sample data are below the hypothesized value $\\mu_0$.\n",
    "\n",
    "Also, since we don't know if the population data is normally distributed and $n\\leq30$, for the inference result to be accurate, we shall verify if the sample data is normally distributed:"
   ]
  },
  {
   "cell_type": "code",
   "execution_count": 896,
   "metadata": {},
   "outputs": [
    {
     "data": {
      "image/png": "[encoded data removed]",
      "text/plain": [
       "<Figure size 432x288 with 1 Axes>"
      ]
     },
     "metadata": {},
     "output_type": "display_data"
    }
   ],
   "source": [
    "# Plot sample data using histogram\n",
    "plt.hist(salaries['Dataset'])\n",
    "plt.show()"
   ]
  },
  {
   "cell_type": "code",
   "execution_count": 897,
   "metadata": {},
   "outputs": [
    {
     "data": {
      "image/png": "[encoded data removed]",
      "text/plain": [
       "<Figure size 432x288 with 1 Axes>"
      ]
     },
     "metadata": {},
     "output_type": "display_data"
    }
   ],
   "source": [
    "# Explore sample data using Normal Quantile-quantile plot\n",
    "import statsmodels.api as sm\n",
    "sm.qqplot(salaries['Dataset'], fit=True, line='45')\n",
    "plt.show()"
   ]
  },
  {
   "cell_type": "markdown",
   "metadata": {},
   "source": [
    "The sample data doesn't follow normal distribution closely as observed in both histogram and normal Q-Q plots. However, some researchers argue that if the sample size is large enough ($n>30$), we can still use test statistics for inference study assuming the data follows normal distribution. \n",
    "\n",
    "Now, let's compute the Z-statistics of the sample data:"
   ]
  },
  {
   "cell_type": "code",
   "execution_count": 898,
   "metadata": {},
   "outputs": [
    {
     "data": {
      "text/plain": [
       "-4.674"
      ]
     },
     "execution_count": 898,
     "metadata": {},
     "output_type": "execute_result"
    }
   ],
   "source": [
    "# Compute Z-score of the sample data\n",
    "mu_0 = 113000\n",
    "sigma = 15000\n",
    "n = len(salaries)\n",
    "\n",
    "# compute the Z-score from mu\n",
    "Z = round((mean-mu_0)/(sigma/math.sqrt(n)),3)\n",
    "Z"
   ]
  },
  {
   "cell_type": "code",
   "execution_count": 899,
   "metadata": {},
   "outputs": [
    {
     "data": {
      "text/plain": [
       "-2.576"
      ]
     },
     "execution_count": 899,
     "metadata": {},
     "output_type": "execute_result"
    }
   ],
   "source": [
    "# Compute the critical value for the sigficance level of interest\n",
    "alpha = 0.01\n",
    "z = round(stats.norm.ppf(alpha/2),3)\n",
    "z"
   ]
  },
  {
   "cell_type": "markdown",
   "metadata": {},
   "source": [
    "**Conclusion using Rejection Region Approach**\n",
    "\n",
    "As the Z-score is smaller than the lower critical value for accepting $H_0$, we reject the null hypothesis. Instead, we accept that $H_a: \\mu < 113000$. "
   ]
  },
  {
   "cell_type": "code",
   "execution_count": 900,
   "metadata": {},
   "outputs": [
    {
     "data": {
      "text/plain": [
       "0.0"
      ]
     },
     "execution_count": 900,
     "metadata": {},
     "output_type": "execute_result"
    }
   ],
   "source": [
    "# Compute p-value, the probability of observing z values < Z if H_0 is true\n",
    "# p = cdf(Z) for lower tailed test\n",
    "p = round(stats.norm.cdf(Z),3)\n",
    "p"
   ]
  },
  {
   "cell_type": "markdown",
   "metadata": {},
   "source": [
    "**Conclusion using p-value**\n",
    "\n",
    "Since $p = 0.0$ and $\\alpha = 0.001$, we have $p < \\alpha$. Therefore, we have the evidence against $H_0$ at $0.1\\%$ level of significance (with $99.9%$ of confidence). \n",
    "\n",
    "For further explanation, if $H_0$ is true, the probability of having a sample mean so far away from $113,000$ on the lower tail side is very low. Therefore, with the sample data, we have strong evidence to reject $H_0$ and accept $H_a$, that is, we accept the alternative hypothesis that the data scientists, on average, earn less than what Glassdoor suggests."
   ]
  },
  {
   "cell_type": "code",
   "execution_count": 901,
   "metadata": {},
   "outputs": [
    {
     "data": {
      "image/png": "[encoded data removed]",
      "text/plain": [
       "<Figure size 432x288 with 1 Axes>"
      ]
     },
     "metadata": {},
     "output_type": "display_data"
    }
   ],
   "source": [
    "# Plot distribution of Z given H_0 is true (standard normal distribution)\n",
    "values, bins, bars = plt.hist(np.random.standard_normal(10000), bins=40, \n",
    "                                 edgecolor='white', density=True)\n",
    "\n",
    "# Visualize the rejection zone of null hypothesis\n",
    "plt.vlines(x=z, ymin=0, ymax=.4, color='red', linestyle='--')\n",
    "\n",
    "# Probability of Type I Error (rejecting null hypothesis when it's true)\n",
    "for bar in bars:\n",
    "    if bar.get_x() < z:\n",
    "        bar.set_color('red')\n",
    "\n",
    "# P-value: probability of observing the sample Z-score\n",
    "plt.bar(x=Z,height=prob_Z+.01, color = 'gray')\n",
    "plt.text(s=f'p-value\\n (prob of < Z)\\n(prob of a sample mean > {mean:.2f})\\nif $H_0$ is true:\\n {p}', x=Z,y=.05,ha='center')\n",
    "\n",
    "# Set titles and x,y labels\n",
    "plt.title('Distribution of Z if $H_0$ is true:\\n'+\n",
    "          '(Standard Normal Distribution)\\n' +\n",
    "          f'Reject $H_0$ at {alpha*100:.1f}% level of significance')\n",
    "plt.xlabel('z-value')\n",
    "plt.ylabel('Probability')\n",
    "plt.show()"
   ]
  },
  {
   "cell_type": "markdown",
   "metadata": {},
   "source": [
    "### Example: Average Saturated Fat Content\n",
    "\n",
    "A company claims that their product contains no 2 grams of saturated fat on average. \n",
    "\n",
    "You intend to test whether there is strong evidence the mean saturated fat content is greater than their claim. \n",
    "\n",
    "$$H_0: \\mu = 2$$ against $$H_a: \\mu \\neq 2$$"
   ]
  },
  {
   "cell_type": "code",
   "execution_count": 902,
   "metadata": {},
   "outputs": [
    {
     "data": {
      "text/plain": [
       "-1.25"
      ]
     },
     "execution_count": 902,
     "metadata": {},
     "output_type": "execute_result"
    }
   ],
   "source": [
    "mean = 776\n",
    "mu_0 = 780\n",
    "sigma = 16\n",
    "n = 25\n",
    "\n",
    "Z = (mean - mu_0)/(sigma/math.sqrt(n))\n",
    "Z"
   ]
  },
  {
   "cell_type": "code",
   "execution_count": 903,
   "metadata": {},
   "outputs": [
    {
     "data": {
      "text/plain": [
       "0.211"
      ]
     },
     "execution_count": 903,
     "metadata": {},
     "output_type": "execute_result"
    }
   ],
   "source": [
    "# compute p-value for two-tailed test\n",
    "p = round(stats.norm.cdf(Z)*2,3)\n",
    "p"
   ]
  },
  {
   "cell_type": "markdown",
   "metadata": {},
   "source": [
    "As $p > 0.05$, we can conclude that we don't have strong evidence to reject null hypothesis with the sample data. Therefore, we can accept the claim made by the company."
   ]
  },
  {
   "cell_type": "markdown",
   "metadata": {},
   "source": [
    "# Test for One Mean, Unknown Population Variance\n",
    "\n",
    "As population variance unknown, we will use **T** test given one of the following assumptions is true:\n",
    "\n",
    "- The population follows normal distribution or, \n",
    "- Sample size is $n>30$,\n",
    "- Or if both above not met, the sample data follows normal distribution without strong skewness and outliers.\n",
    "\n",
    "\n",
    "## Steps to Follow (Quick Summary)\n",
    "\n",
    "1. Null Hypothesis: $H_0: \\mu = \\mu_0$\n",
    "\n",
    "\n",
    "2. Alternative Hypothesis (based on the problem at hand): \n",
    "\n",
    "    - $H_a: \\mu \\neq \\mu_0$ (two-tailed test)\n",
    "    - $H_a: \\mu < \\mu_0$ (lower-tailed test)\n",
    "    - $H_a: \\mu > \\mu_0$ (upper-tailed test)\n",
    "\n",
    "\n",
    "3. Compute test statistics using the sample data:\n",
    "\n",
    "    $$T=\\frac{\\bar{x}-\\mu_0}{s/\\sqrt{n}}$$\n",
    "\n",
    "    where:\n",
    "    - $\\bar{x}$ is the **sample mean**\n",
    "    - $\\mu_0$ is the **hypothesized mean** from the null hypothesis\n",
    "    - $s$ is the **standard deviation** of the sample data\n",
    "    - $s/\\sqrt{n}$ is the **sample standard deviation** of the sampling distribution, which is estimated using the **standard deviation** the sample data.\n",
    "\n",
    "\n",
    "4. Find the critical value for a level of signficance depending on the test: \n",
    "    - $t_{n-1, \\alpha/2}$ or \n",
    "    - $t_{n-1, \\alpha}$\n",
    "    \n",
    "    \n",
    "5. Compare $T$ statistics to the critical t-value ($t$) for \"rejection region\":\n",
    "\n",
    "   - If $|T| \\leq |t|$, we accept the null hypothesis; vice versa.\n",
    "\n",
    "\n",
    "6. Or we can decide the test result using the preferred way: **p-value**, compute the p-value, then compare it to $\\alpha$:\n",
    "    - If $p \\leq \\alpha$, we have evidence to reject $H_0$;\n",
    "    - If $p > \\alpha$, we accept $H_0$"
   ]
  },
  {
   "cell_type": "markdown",
   "metadata": {},
   "source": [
    "## Example\n",
    "\n",
    "You are working in the marketing department. You know that your email open rate is $40\\$% on average, you suspect if you are doing better than your competitor in email marketing. \n",
    "\n",
    "One day you happened to have a glimpse of the open rates of some emails from your competitor. \n",
    "Can you estimate if your competitor has higher open rate than you from the data? \n",
    "\n",
    "\n",
    "**Solution**\n",
    "\n",
    "We can use null hypothesis to assume your competitor is not doing better you:\n",
    "\n",
    "$$H_0: \\mu \\leq 0.4$$\n",
    "\n",
    "against\n",
    "\n",
    "$$H_a: \\mu > 0.4$$\n",
    "\n",
    "Note that when we compute p-value, we are to find the probability of having data > observed result from sample, given the null hypothesis is True. Therefore, this is a **right-tailed** test."
   ]
  },
  {
   "cell_type": "code",
   "execution_count": 904,
   "metadata": {},
   "outputs": [
    {
     "data": {
      "image/png": "[encoded data removed]",
      "text/plain": [
       "<Figure size 432x288 with 1 Axes>"
      ]
     },
     "metadata": {},
     "output_type": "display_data"
    },
    {
     "data": {
      "image/png": "[encoded data removed]",
      "text/plain": [
       "<Figure size 432x288 with 1 Axes>"
      ]
     },
     "metadata": {},
     "output_type": "display_data"
    }
   ],
   "source": [
    "# sample data\n",
    "open_rates = np.array([.26, .23, .42, .49, .23, .59, .29, .29, .57, .4])\n",
    "\n",
    "# Plot sample data using histogram\n",
    "plt.hist(open_rates, bins=20)\n",
    "\n",
    "# Plot sample data using Normal Quantile-Quantile plot\n",
    "sm.qqplot(open_rates, fit=True, line='45')\n",
    "plt.show()"
   ]
  },
  {
   "cell_type": "markdown",
   "metadata": {},
   "source": [
    "The sample data is close to normal distribution lightly skewed though. We can assume t-test is adequate to draw meaningful conclusion for the hypothesis test."
   ]
  },
  {
   "cell_type": "code",
   "execution_count": 905,
   "metadata": {},
   "outputs": [
    {
     "name": "stdout",
     "output_type": "stream",
     "text": [
      "sample mean: 0.38\n",
      "standard deviation: 0.14\n",
      "T-score: -0.53\n"
     ]
    }
   ],
   "source": [
    "# hypothesized value\n",
    "mu_0 = .4\n",
    "\n",
    "# compute T statistics\n",
    "n = len(open_rates)\n",
    "sample_mean = open_rates.mean()\n",
    "s = open_rates.std(ddof=1)\n",
    "se = s/math.sqrt(n)\n",
    "T = (sample_mean-mu_0)/se\n",
    "\n",
    "print('sample mean:', round(sample_mean,2))\n",
    "print('standard deviation:', round(s,2))\n",
    "print('T-score:', round(T,3))"
   ]
  },
  {
   "cell_type": "code",
   "execution_count": 906,
   "metadata": {},
   "outputs": [
    {
     "data": {
      "text/plain": [
       "-1.833"
      ]
     },
     "execution_count": 906,
     "metadata": {},
     "output_type": "execute_result"
    }
   ],
   "source": [
    "# find t critical value of signficance\n",
    "v = n-1\n",
    "alpha = 0.05\n",
    "t = round(stats.t.ppf(alpha, v),3)\n",
    "t"
   ]
  },
  {
   "cell_type": "code",
   "execution_count": 907,
   "metadata": {},
   "outputs": [
    {
     "name": "stdout",
     "output_type": "stream",
     "text": [
      "Since |T| < |t|, We accept the null hypothesis.\n"
     ]
    }
   ],
   "source": [
    "# if |T|<=|t|, we will accept $H_0$\n",
    "if abs(T) <= abs(t):\n",
    "    print('Since |T| < |t|, We accept the null hypothesis.')\n",
    "else:\n",
    "    print('We reject the null hypothesis')"
   ]
  },
  {
   "cell_type": "code",
   "execution_count": 908,
   "metadata": {},
   "outputs": [
    {
     "name": "stdout",
     "output_type": "stream",
     "text": [
      "p-value = 0.695, it is larger than alpha (0.05), we cannot reject the null hypothesis\n"
     ]
    }
   ],
   "source": [
    "# Compute p-value for right tailed test\n",
    "# note that stats.t.cdf() requires arguments:\n",
    "# - x (T statistics) and \n",
    "# - df (degree of freedom)\n",
    "p = 1-round(stats.t.cdf(x=T, df=v),3)\n",
    "\n",
    "if p < alpha: \n",
    "    print(f'p-value = {p:.3f}, it is smaller than alpha ({alpha}), we have evidence to reject null hypothesis')\n",
    "else:\n",
    "    print(f'p-value = {p:.3f}, it is larger than alpha ({alpha}), we cannot reject the null hypothesis')"
   ]
  },
  {
   "cell_type": "code",
   "execution_count": 909,
   "metadata": {},
   "outputs": [
    {
     "data": {
      "image/png": "[encoded data removed]",
      "text/plain": [
       "<Figure size 432x288 with 1 Axes>"
      ]
     },
     "metadata": {},
     "output_type": "display_data"
    }
   ],
   "source": [
    "# Visualize the distribution of T statistics given $H_0$ is true (standard t distribution T(0,1))\n",
    "values, bins, bars = plt.hist(np.random.standard_t(df=v, size=10000), bins=40, \n",
    "                                 edgecolor='white', density=True)\n",
    "\n",
    "# P-value (probability of observing value > T)\n",
    "for bar in bars:\n",
    "    if bar.get_x() > T:\n",
    "        bar.set_color('green')\n",
    "\n",
    "plt.text(s=f'p-value\\n (prob of T > {T:.3f})\\n (prob of a sample mean > {sample_mean:.2f})\\nif $H_0$ is true:\\n {p}', x=3,y=.25,ha='center')\n",
    "\n",
    "# Set titles and x,y labels\n",
    "plt.title('Distribution of T-statistics if $H_0$ is true:\\n'+\n",
    "          '(Standard T Distribution)\\n' +\n",
    "          f'Reject $H_0$ at {alpha*100:.1f}% level of significance')\n",
    "plt.xlabel('t-value')\n",
    "plt.ylabel('Probability')\n",
    "plt.show()"
   ]
  },
  {
   "cell_type": "markdown",
   "metadata": {},
   "source": [
    "# Test for Two Means, Dependent,  Unknown Variance (Paired-Difference)\n",
    "\n",
    "For example, weight loss, blood test, before and after datasets collected from the same subjects.\n",
    "\n",
    "\n",
    "## Steps to Follow\n",
    "\n",
    "### Hypothesis\n",
    "\n",
    "Say, we are comparing the effectiveness of a new drug on blood pressure. So we will compare the difference of the before ($\\mu_b$) and after ($\\mu_a$) data. \n",
    "\n",
    "1. We can formulate the hypothesis as follows:\n",
    "\n",
    "    $$H_0: \\mu_b \\geq \\mu_a $$\n",
    "\n",
    "    $$H_a: \\mu_b < \\mu_a $$\n",
    "\n",
    "\n",
    "2. For computation, we will convert the above hypothesis to examine **the difference of means** directly:\n",
    "\n",
    "    $$H_0: D_0 \\geq 0$$ \n",
    "\n",
    "    $$H_a: D_0 < 0$$ \n",
    "\n",
    "    where\n",
    "\n",
    "    $$D_0 = \\mu_b - \\mu_a$$\n",
    "\n",
    "\n"
   ]
  },
  {
   "cell_type": "markdown",
   "metadata": {},
   "source": [
    "### Compute Test Statistics\n",
    "\n",
    "As the test is on the difference of means, we will compute the test statistics of $D_0$. \n",
    "\n",
    "Suppose we can assume the population follow normal distribution, we will use **T score** here if \n",
    "\n",
    "- the variance of the difference of the two populations is unknown\n",
    "- the sample size is small ($n<30$)\n",
    "\n",
    "    $$T = \\frac{\\bar{d}-\\mu_0}{s_d/\\sqrt{n}}$$\n",
    "    \n",
    "  where:\n",
    "  - $\\bar{d}$ is the sample mean of the difference\n",
    "  - $s_d$ is the sample variance of the difference\n",
    "  - $\\mu_0$ is the hypothesized mean of difference, which shall equal $0$, assuming no difference between two populations\n",
    "  - $n$ is the sample size of the datasets\n",
    "  \n"
   ]
  },
  {
   "cell_type": "markdown",
   "metadata": {},
   "source": [
    "### Test Result using Rejection Region\n",
    "\n",
    "Depending on the level of significance for the test, we will look up the critical t-value ($t$) for \"rejection region\":\n",
    "\n",
    "- $t_{\\alpha, n-1}$ for one-tailed test;\n",
    "- $t_{\\alpha/2, n-1}$ for two-tailed test\n",
    "\n",
    "If $|T| \\leq |t|$, we accept the null hypothesis; vice versa.\n",
    "\n",
    "\n",
    "\n",
    "### Test Result using p-value\n",
    "\n",
    "Or we can decide the test result using the preferred way: **p-value**, \n",
    "\n",
    "- If $p \\leq \\alpha$, we have evidence to reject $H_0$;\n",
    "- If $p > \\alpha$, we accept $H_0$"
   ]
  },
  {
   "cell_type": "markdown",
   "metadata": {},
   "source": [
    "## Example\n",
    "\n",
    "In this example, we have two datasets of magnesium levels collected from a group of patitents before and after they taking a new drug. We will use these two datasets for hypothesis testing on whether the new drug can help increases the magnesium level. \n",
    "\n",
    "Let's assume the null hypothesis is <u>\"the new drug won't increase the magnesium level\"</u>:\n",
    "\n",
    "Let\n",
    "\n",
    "$$D = \\mu_b - \\mu_a$$\n",
    "\n",
    "We have\n",
    "\n",
    "$$H_0: D \\geq 0$$\n",
    "\n",
    "against the alternative hypothesis <u>\"the new drug will increase the magnesium level\"</u>:\n",
    "\n",
    "$$H_a: D < 0$$\n",
    "\n",
    "Use $5\\%$ level of signficance for the test.\n",
    "\n",
    "When we compute P-value, we are to find the probability of data < the observed result from sample, given $H_0$ is true. Therefore, this will be **left-tailed** test."
   ]
  },
  {
   "cell_type": "code",
   "execution_count": 910,
   "metadata": {},
   "outputs": [
    {
     "data": {
      "image/png": "[encoded data removed]",
      "text/plain": [
       "<Figure size 432x288 with 2 Axes>"
      ]
     },
     "metadata": {},
     "output_type": "display_data"
    }
   ],
   "source": [
    "# Test parameters\n",
    "alpha = 0.05\n",
    "mean_0 = 0\n",
    "\n",
    "# datasets\n",
    "b = np.array([2,1.4,1.3,1.1,1.8,1.6,1.5,0.7,0.9,1.5])\n",
    "a = np.array([1.7,1.7,1.8,1.3,1.7,1.5,1.6,1.7,1.7,2.4 ])\n",
    "d = b-a\n",
    "\n",
    "fig, axs = plt.subplots(1,2)\n",
    "\n",
    "# Example the sample datasets\n",
    "axs[0].boxplot([b,a])\n",
    "axs[0].set_xticklabels(['before', 'after'])\n",
    "\n",
    "# Examine the sample difference\n",
    "axs[1].boxplot(d)\n",
    "axs[1].set_xticklabels(['difference'])\n",
    "axs[1].axhline(y=mean_0, linestyle='--')\n",
    "plt.show()"
   ]
  },
  {
   "cell_type": "markdown",
   "metadata": {},
   "source": [
    "In the boxplot above, the mean of sample differences is smaller than $0$, let's use hypothesis test to see if we can reject the null hypothesis and accept the alternative hypothesis as observed in this plot. \n",
    "\n",
    "Before the test, if we are not sure if the population data is normally distributed, we'd better examine if sample data follows normal distribution given the sample size is small. "
   ]
  },
  {
   "cell_type": "code",
   "execution_count": 911,
   "metadata": {},
   "outputs": [
    {
     "data": {
      "image/png": "[encoded data removed]",
      "text/plain": [
       "<Figure size 432x288 with 1 Axes>"
      ]
     },
     "metadata": {},
     "output_type": "display_data"
    },
    {
     "data": {
      "image/png": "[encoded data removed]",
      "text/plain": [
       "<Figure size 432x288 with 1 Axes>"
      ]
     },
     "metadata": {},
     "output_type": "display_data"
    }
   ],
   "source": [
    "# Explore sample data using histogram\n",
    "plt.hist(d, bins=20)\n",
    "\n",
    "# Explore sample data using Normal Quantile-quantile plot\n",
    "sm.qqplot(d, line='45', fit=True)\n",
    "plt.show()"
   ]
  },
  {
   "cell_type": "markdown",
   "metadata": {},
   "source": [
    "The sample data looks with certain normality and it's not found with strong skewness and outliers in the histogram, it is safe for us to use t test for inference. "
   ]
  },
  {
   "cell_type": "code",
   "execution_count": 912,
   "metadata": {
    "scrolled": true
   },
   "outputs": [
    {
     "data": {
      "text/plain": [
       "-2.295"
      ]
     },
     "execution_count": 912,
     "metadata": {},
     "output_type": "execute_result"
    }
   ],
   "source": [
    "# Compute test statistics\n",
    "mean_d = d.mean()\n",
    "s_d = d.std(ddof=1) # use std for sample (divided by `n-1`)\n",
    "n = len(d)\n",
    "T = round((mean_d - mean_0)/(s_d/math.sqrt(n)),3)\n",
    "T"
   ]
  },
  {
   "cell_type": "code",
   "execution_count": 913,
   "metadata": {},
   "outputs": [
    {
     "data": {
      "text/plain": [
       "-1.833"
      ]
     },
     "execution_count": 913,
     "metadata": {},
     "output_type": "execute_result"
    }
   ],
   "source": [
    "# Lookup critical t value for H_0 rejection\n",
    "# since the null hypothesis has > sign, this is a left-tailed test \n",
    "t = round(stats.t.ppf(alpha, n-1),3)\n",
    "t"
   ]
  },
  {
   "cell_type": "code",
   "execution_count": 914,
   "metadata": {},
   "outputs": [
    {
     "data": {
      "text/plain": [
       "0.024"
      ]
     },
     "execution_count": 914,
     "metadata": {},
     "output_type": "execute_result"
    }
   ],
   "source": [
    "# Compute p-value for left-tailed test\n",
    "p = round(stats.t.cdf(x=T, df=n-1),3)\n",
    "p"
   ]
  },
  {
   "cell_type": "markdown",
   "metadata": {},
   "source": [
    "**Conclusion**\n",
    "\n",
    "We have evidence to reject the null hypothesis at $5\\%$ signficance level  ($\\alpha = 0.05$), because:\n",
    "\n",
    "- $|T| > |t|$, also\n",
    "- $p < 0.05$\n",
    "\n",
    "If we are testing with $1\\%$ signficance level ($\\alpha = 0.01$), then, $p > 0.01$, that is, we will accept the null hypothesis that the drug is not contributing to the increase of magnetisum levels instead. Note that the probability of **Type I error** is reduced with smaller $\\alpha$, this is for the test that requires stricter requirement for null hypothesis to be rejected. \n",
    "\n",
    "\n",
    "From this, we can conclude:\n",
    "\n",
    "- Researcher should be very cautious, as the result could lead to type I error with higher significance level;\n",
    "- The medincine shall entail more precise tests;\n",
    "- Increasing sample size always leads to a better study, say collect data from 100 samples instead of from only 10.\n",
    "\n"
   ]
  },
  {
   "cell_type": "markdown",
   "metadata": {},
   "source": [
    "# Test for Two Means, Independent Populations, Variance Known\n",
    "\n",
    "## Example\n",
    "\n",
    "It's argued that Engineering department exam is tougher than Management department exam in a school. It's expected Management will outperform Engineering in exam grades by $4\\%$ on average. We'd like to verify if this is the case using the following hypothesis:\n",
    "\n",
    "$$H_0: \\mu_e - \\mu_m \\leq -4\\%$$ where\n",
    "\n",
    "- $\\mu_e$ is the population mean of Engieering exam grades;\n",
    "- $\\mu_m$ is the population mean of Mangement exam grades.\n",
    "\n",
    "against\n",
    "\n",
    "$$H_a: \\mu_e - \\mu_m > -4\\%$$\n",
    "\n",
    "Suppose we know the population standard deviations of both departments as $\\sigma_e = 10\\%$ and $\\sigma_m = 6\\%$. \n",
    "\n",
    "We will use the latest exam grades from both departments to test the above hypothesis. In the latest exams, we have:\n",
    "\n",
    "- 100 Engineering students' grades, which mean is $\\bar{e} = 58\\%$\n",
    "- 70 Management students' grades, which mean is $\\bar{m} = 65\\%$"
   ]
  },
  {
   "cell_type": "markdown",
   "metadata": {},
   "source": [
    "**Steps**\n",
    "\n",
    "1. We will compute the test statistics $Z$ of the sample difference $\\bar{e} - \\bar{m}$. \n",
    "\n",
    "$$Z=\\frac{\\bar{d}-\\mu_0}{\\sqrt{\\frac{\\sigma_e^2}{n_e}+\\frac{\\sigma_m^2}{n_m}}}$$\n",
    "\n",
    "2. And then compute the p-value, this is to find the probability that the difference between average engineering and management exam grades greater than the sample result given the null hypothesis is true. Therefore, this is a **right-tailed** test, we will use:\n",
    "\n",
    "$$p = 1-CDF(Z)$$\n",
    "\n",
    "3. If $p \\leq \\alpha$, we can reject the null hypothesis. "
   ]
  },
  {
   "cell_type": "code",
   "execution_count": 915,
   "metadata": {},
   "outputs": [
    {
     "name": "stdout",
     "output_type": "stream",
     "text": [
      "sample difference:  -7.00%\n",
      "test statistics (Z):  -2.438\n"
     ]
    }
   ],
   "source": [
    "# hypothesized population mean of difference\n",
    "mu_0 = -0.04\n",
    "\n",
    "# population standard deviations\n",
    "sigma_e = .1\n",
    "sigma_m = .06\n",
    "\n",
    "# sample means\n",
    "mean_e = .58\n",
    "mean_m = .65\n",
    "\n",
    "# sample sizes\n",
    "n_e = 100\n",
    "n_m = 70\n",
    "\n",
    "# compute Z statistics of the sample\n",
    "mean_d = mean_e - mean_m\n",
    "Z = round((mean_d-mu_0)/math.sqrt(sigma_e**2/n_e + sigma_m**2/n_m),3)\n",
    "\n",
    "# print results\n",
    "print('sample difference: ', f'{mean_d*100:.2f}%')\n",
    "print('test statistics (Z): ', Z)"
   ]
  },
  {
   "cell_type": "code",
   "execution_count": 916,
   "metadata": {},
   "outputs": [
    {
     "name": "stdout",
     "output_type": "stream",
     "text": [
      "p-value = 0.993, it is larger than alpha (0.05), we cannot reject the null hypothesis at 5.00% signficance\n"
     ]
    }
   ],
   "source": [
    "# compute p-value for right tailed test\n",
    "p = 1 - round(stats.norm.cdf(Z),3)\n",
    "\n",
    "# print test result\n",
    "alpha = .05\n",
    "if p < alpha: \n",
    "    print(f'p-value = {p:.3f}, it is smaller than alpha ({alpha}), we have evidence to reject null hypothesis at {alpha*100:.2f}% signficance')\n",
    "else:\n",
    "    print(f'p-value = {p:.3f}, it is larger than alpha ({alpha}), we cannot reject the null hypothesis at {alpha*100:.2f}% signficance')"
   ]
  },
  {
   "cell_type": "markdown",
   "metadata": {},
   "source": [
    "Given the null hypothesis is true, the probability of observing the difference greater than the sample result is very high, in other words, the probability of observing the difference below the sample result $-0.07$ is very low, therefore, we cannot reject the null hypothesis."
   ]
  },
  {
   "cell_type": "code",
   "execution_count": 917,
   "metadata": {},
   "outputs": [
    {
     "data": {
      "image/png": "[encoded data removed]",
      "text/plain": [
       "<Figure size 432x288 with 1 Axes>"
      ]
     },
     "metadata": {},
     "output_type": "display_data"
    }
   ],
   "source": [
    "# visualize the distribution of test statistics given H_0 is true\n",
    "value, bins, bars = plt.hist(np.random.standard_normal(size=10000), bins=40, \n",
    "                                 edgecolor='white', density=True)\n",
    "\n",
    "# P-value (probability of observing value > Z)\n",
    "for bar in bars:\n",
    "    if bar.get_x() > Z:\n",
    "        bar.set_color('green')\n",
    "\n",
    "plt.text(s=f'p-value\\n (prob of Z > {Z:.3f})\\n (prob of a sample mean > {mean_d:.2f})\\nif $H_0$ is true:\\n {p}', x=3,y=.25,ha='center')\n",
    "\n",
    "# Set titles and x,y labels\n",
    "plt.title('Distribution of Z if $H_0$ is true:\\n'+\n",
    "          '(Standard Normal Distribution)\\n' +\n",
    "          f'Reject $H_0$ at {alpha*100:.1f}% level of significance')\n",
    "plt.xlabel('z-value')\n",
    "plt.ylabel('Probability')\n",
    "plt.show()"
   ]
  },
  {
   "cell_type": "markdown",
   "metadata": {},
   "source": [
    "# Test for Two Means, Independent, Unknown Equal Variances (Pooled Variance)\n",
    "\n",
    "\n",
    "## Example\n",
    "\n",
    "We are to compare the apple prices in New York and LA. We don't know the variance in both populations, but we assume that their variances are equal because they are both apple prices. \n",
    "\n",
    "We will formulate the hypothesis as follows:\n",
    "\n",
    "- $H_0: \\mu_{ny} - \\mu_{la} = 0$, that is to assume the apple prices are not different in NY and LA;\n",
    "- $H_a: \\mu_{ny} - \\mu_{la} > 0$, the alternative hypothesis is apples in NY are more expensive than in LA.\n",
    "\n",
    "We have randomly collected the following sample prices:"
   ]
  },
  {
   "cell_type": "code",
   "execution_count": 918,
   "metadata": {},
   "outputs": [],
   "source": [
    "ny_prices = np.array([3.8,3.76,3.87,3.99,4.02, 4.25,4.13, 3.98, 3.99, 3.62])\n",
    "la_prices = np.array([3.02, 3.22, 3.24, 3.02, 3.06, 3.15, 3.81, 3.44])"
   ]
  },
  {
   "cell_type": "code",
   "execution_count": 919,
   "metadata": {},
   "outputs": [
    {
     "data": {
      "image/png": "[encoded data removed]",
      "text/plain": [
       "<Figure size 432x288 with 1 Axes>"
      ]
     },
     "metadata": {},
     "output_type": "display_data"
    }
   ],
   "source": [
    "# Explore the datasets in boxplot\n",
    "plt.boxplot([ny_prices, la_prices])\n",
    "plt.xticks([1,2], ['NY', 'LA'])\n",
    "plt.show()"
   ]
  },
  {
   "cell_type": "code",
   "execution_count": 920,
   "metadata": {},
   "outputs": [
    {
     "data": {
      "image/png": "[encoded data removed]",
      "text/plain": [
       "<Figure size 432x288 with 1 Axes>"
      ]
     },
     "metadata": {},
     "output_type": "display_data"
    }
   ],
   "source": [
    "# Explore sample data normality using histogram\n",
    "plt.hist(ny_prices, label='NY')\n",
    "plt.hist(la_prices, label='LA')\n",
    "plt.legend()\n",
    "plt.show()"
   ]
  },
  {
   "cell_type": "code",
   "execution_count": 921,
   "metadata": {},
   "outputs": [
    {
     "data": {
      "image/png": "[encoded data removed]",
      "text/plain": [
       "<Figure size 432x288 with 1 Axes>"
      ]
     },
     "metadata": {},
     "output_type": "display_data"
    },
    {
     "data": {
      "image/png": "[encoded data removed]",
      "text/plain": [
       "<Figure size 432x288 with 1 Axes>"
      ]
     },
     "metadata": {},
     "output_type": "display_data"
    }
   ],
   "source": [
    "# Explore sample data normality using q-q plot\n",
    "sm.qqplot(ny_prices, fit=True, line='45')\n",
    "sm.qqplot(la_prices, fit=True, line='45')\n",
    "plt.show()"
   ]
  },
  {
   "cell_type": "markdown",
   "metadata": {},
   "source": [
    "From the boxplot above, it's observed the samples of LA have a mean much lower than that of NY samples. \n",
    "\n",
    "Also the histogram shows NY and LA apple prices don't share much overlap, there indicated a high chance of their prices are different largely.\n",
    "\n",
    "Meanwhile, although we cannot verify normality of the sample datasets with q-q plots, we find that both samples in histogram follow normal distribution with small skewness and no outlines (actually, LA has only one outliner datapoint); therefore, we can assume it's safe to use t-test to make inference study."
   ]
  },
  {
   "cell_type": "markdown",
   "metadata": {},
   "source": [
    "**Steps to follow**\n",
    "\n",
    "- Since this test involves two populations with unknown variance, by assuming their variances are equal, we will estimate the **pooled variance** by combining the variances computed from their random samples:\n",
    "\n",
    "$$s_p^2 = \\frac{(n_{ny}-1)s_{ny}^2+(n_{la}-1)s_{la}^2}{n_{ny}+n_{la}-2}$$\n",
    "\n",
    "\n",
    "- Then, we compute the standard deviation from the **pooled variance** as follows:\n",
    "\n",
    "$$se = \\sqrt{\\frac{s_p^2}{n_{ny}}+\\frac{s_p^2}{n_{la}}}$$\n",
    "\n",
    "\n",
    "- With the standard deviation of the sampling distribution, we can compute test statistic:\n",
    "\n",
    "$$T = \\frac{\\bar{x}-\\mu}{\\sigma} = \\frac{\\bar{d}-\\mu_0}{\\sqrt{\\frac{s_p^2}{n_{ny}}+\\frac{s_p^2}{n_{la}}}}$$\n",
    "\n",
    "\n",
    "- At last, we will compute P-value, the probability of observing a test statistics > the sample test statistics observed, therefore, this is a **right-tailed** test:\n",
    "\n",
    "$$p = 1 - cdf(T)$$"
   ]
  },
  {
   "cell_type": "code",
   "execution_count": 922,
   "metadata": {},
   "outputs": [
    {
     "name": "stdout",
     "output_type": "stream",
     "text": [
      "sample difference: 0.70\n",
      "pooled variance: 0.05\n",
      "sample standard deviation (se): 0.11\n",
      "sample sizes: ny(10), la(8))\n",
      "T statistics: 6.534\n",
      "p-value: 0.000\n",
      "p < 0.01, we have evidence to reject the null hypothesis at 1.0% signficance\n"
     ]
    }
   ],
   "source": [
    "# sample sizes\n",
    "n_ny = len(ny_prices)\n",
    "n_la = len(la_prices)\n",
    "n_p = n_ny + n_la -2 #pooled sample size\n",
    "\n",
    "# sample statistics\n",
    "mean_ny = ny_prices.mean()\n",
    "mean_la = la_prices.mean()\n",
    "std_ny = ny_prices.std(ddof=1)\n",
    "std_la = la_prices.std(ddof=1)\n",
    "\n",
    "# compute pooled variance\n",
    "var_p = ((n_ny-1)*(std_ny**2) + (n_la-1)*(std_la**2))/n_p\n",
    "\n",
    "# compute se\n",
    "se = math.sqrt(var_p/n_ny+var_p/n_la)\n",
    "\n",
    "# compute T statistics\n",
    "mu_0 = 0 # hypothesized difference, which is 0 for assumption of no difference\n",
    "T = ((mean_ny - mean_la) - mu_0)/se\n",
    "\n",
    "# compute P-value (right-tailed test)\n",
    "p = 1-round(stats.t.cdf(T, df=n_p),3)\n",
    "\n",
    "# print test statistics\n",
    "print(f'sample difference: {(mean_ny - mean_la):.2f}')\n",
    "print(f'pooled variance: {var_p:.2f}')\n",
    "print(f'sample standard deviation (se): {se:.2f}')\n",
    "print(f'sample sizes: ny({n_ny}), la({n_la}))')\n",
    "print(f'T statistics: {T:.3f}')\n",
    "print(f'p-value: {p:.3f}')\n",
    "\n",
    "# print test result\n",
    "alpha = 0.01\n",
    "\n",
    "if p < alpha:\n",
    "    print(f'p < {alpha}, we have evidence to reject the null hypothesis at {alpha*100}% signficance')\n",
    "else:\n",
    "    print(f'p >= {alpha}, the data cannot reject the null hypothesis at {alpha*100}% signficance')"
   ]
  },
  {
   "cell_type": "markdown",
   "metadata": {},
   "source": [
    "Actually, we can observe from the test statistics being $T = 6.534$, that the distance from sample result to the hypothesized mean in $\\sigma$ is extremly large; even without testing, we'd know that the probability of observing a result more extreme than this sample result is very low. \n",
    "\n",
    "Of course, we have p-value computed, which corresponds to the above observation and equals to $0.000$. We have strong evidence to reject the null hypothesis and accept the alternative hypothesis that \"**Apples in NY are more expensive than in LA**\"."
   ]
  }
 ],
 "metadata": {
  "kernelspec": {
   "display_name": "stat_notes",
   "language": "python",
   "name": "stat_notes"
  },
  "language_info": {
   "codemirror_mode": {
    "name": "ipython",
    "version": 3
   },
   "file_extension": ".py",
   "mimetype": "text/x-python",
   "name": "python",
   "nbconvert_exporter": "python",
   "pygments_lexer": "ipython3",
   "version": "3.9.6"
  },
  "toc": {
   "base_numbering": 1,
   "nav_menu": {},
   "number_sections": true,
   "sideBar": true,
   "skip_h1_title": false,
   "title_cell": "Table of Contents",
   "title_sidebar": "Contents",
   "toc_cell": false,
   "toc_position": {
    "height": "calc(100% - 180px)",
    "left": "10px",
    "top": "150px",
    "width": "416px"
   },
   "toc_section_display": true,
   "toc_window_display": true
  }
 },
 "nbformat": 4,
 "nbformat_minor": 4
}
