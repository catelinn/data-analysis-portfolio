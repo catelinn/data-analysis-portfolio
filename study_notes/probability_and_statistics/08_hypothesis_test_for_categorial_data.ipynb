{
 "cells": [
  {
   "cell_type": "code",
   "execution_count": 155,
   "metadata": {},
   "outputs": [],
   "source": [
    "import numpy as np\n",
    "import pandas as pd\n",
    "import scipy.stats as st\n",
    "import matplotlib.pyplot as plt\n",
    "import seaborn as sns\n",
    "sns.set()"
   ]
  },
  {
   "cell_type": "markdown",
   "metadata": {},
   "source": [
    "# Intro\n",
    "\n",
    "We have looked at the **z-test** or **t-test** for sample proportion, which is to estimate the proportion of one category of a category random variable that has only two possible outcomes (**Binomial random variable**). For example, the estimated approval rate of a presidential candidate. \n",
    "\n",
    "Here, we will extend the hypothesis test involving the following, which can be done with **Chi-square distribution**.\n",
    "\n",
    "|Data|Test for|\n",
    "|:---|:---|\n",
    "|Several categories (possible outcomes) of a categorical variable|Goodness-of-fit|\n",
    "|Two or more categorical variables|Relationship (Homogeneity and independence)|\n"
   ]
  },
  {
   "cell_type": "markdown",
   "metadata": {},
   "source": [
    "# Chi-squared Distribution\n",
    "\n",
    "https://onlinestatbook.com/2/chi_square/Chi_Square.html\n",
    "\n",
    "\n",
    "http://www.stat.yale.edu/Courses/1997-98/101/chigf.htm\n",
    "\n",
    "\n",
    "https://online.stat.psu.edu/stat504/book/export/html/683\n",
    "\n",
    "## Definition\n",
    "\n",
    "<br>\n",
    "<div style=\"background-color:blue;color:white;padding:10px 10px 10px 10px\">\n",
    "<ul>\n",
    "    <li>A <b>standard normal deviate</b>, $z$, is a random sample from the <b>standard normal distribution</b>;\n",
    "    <li>The <b>Chi-squre distribution</b>, $X^2$, is the distribution of the sum of squared <b>standard normal deviates</b>;\n",
    "    <li>The <b>degrees of freedom (df)</b> of the distribution is equal to the number of <b>standard normal deviates</b> being summed ($k$)\n",
    "    </ul>\n",
    "</div>\n",
    "\n",
    "$$\\boxed{X^2 = \\sum_{i=1}^{k} z_i^2\\text{ where   df=k}}$$\n",
    "\n",
    "\n",
    "## Characteristics of the Distribution\n",
    "\n",
    "- The mean of a **Chi-square distribution** is its degrees of freedom:\n",
    "\n",
    "$$\\mu = k$$\n",
    "\n",
    "\n",
    "- The standard deviation of a **Chi-square distribution** is its degrees of freedom doubled: \n",
    "\n",
    "$$\\sigma = 2k$$\n",
    "\n",
    "- According to **Central limit theorem**, $X^2$ distribution approahces a normal distribution as its degrees of freedom increase, because it's a distribution of sample sums."
   ]
  },
  {
   "cell_type": "code",
   "execution_count": 164,
   "metadata": {},
   "outputs": [
    {
     "data": {
      "image/png": "[encoded data removed]",
      "text/plain": [
       "<Figure size 432x288 with 1 Axes>"
      ]
     },
     "metadata": {},
     "output_type": "display_data"
    }
   ],
   "source": [
    "size = 1000\n",
    "for k in [1, 4,6,12]:\n",
    "    q = np.random.chisquare(k,size)\n",
    "    sns.kdeplot(q, label=f'df={k}; mean={k}; std={2*k}')\n",
    "    \n",
    "plt.legend()\n",
    "plt.show()"
   ]
  },
  {
   "cell_type": "markdown",
   "metadata": {},
   "source": [
    "## Probability of Observing a Value\n",
    "\n",
    "The probability of observing a value on the **Chi-square distribution** can be found using statistical software or [Chi-square probability table](https://people.richland.edu/james/lecture/m170/tbl-chi.html). \n",
    "\n",
    "For example, what is the probability of the sum of 2 randomly selected standard scores squared being 6 or higher: $P(X^2(2) > 6)$?\n",
    "\n",
    "### Using Chisquare Probability Table\n",
    "\n",
    "From the table below, we can see that with df=2, where the value around $5.991$, which is close to $6$, the probability displayed is $0.05$\n",
    "\n",
    "<img src=\"../img/chisquare-table.png\" width=500>\n",
    "\n"
   ]
  },
  {
   "cell_type": "markdown",
   "metadata": {},
   "source": [
    "### Using `Scipy.stats` Library"
   ]
  },
  {
   "cell_type": "code",
   "execution_count": 218,
   "metadata": {},
   "outputs": [
    {
     "data": {
      "text/plain": [
       "0.05"
      ]
     },
     "execution_count": 218,
     "metadata": {},
     "output_type": "execute_result"
    }
   ],
   "source": [
    "df, value = 2, 6\n",
    "prob_smaller_than_6 = st.chi2(df).cdf(value)\n",
    "prob_larger_than_6 = 1-prob_smaller_than_6\n",
    "round(prob_larger_than_6,2)"
   ]
  },
  {
   "cell_type": "markdown",
   "metadata": {},
   "source": [
    "# Chi-square Test for Goodness of Fit \n",
    "\n",
    "\n",
    "https://online.stat.psu.edu/stat504/book/export/html/683\n",
    "\n",
    "\n",
    "The **Chi-square distribution** can be used to test whether observed data, from a randomly selected sample, correspond to the fitted (assumed) model or differs significantly from the theoretical expectation. This kind of test of called **test for goodness of fit**.\n",
    "\n",
    "In the setting for one-way tables, we measure how well an observed random varaible corresponds to a **multinomial random variable** $X\\sim \\text{Mult}(n, \\pi)$, where $\\pi$ is a list of probabilities for each possible outcomes. \n",
    "\n",
    "A goodness-of-fit statistic tests the following hypothesis:\n",
    "\n",
    "- $H_0$: the model  fits\n",
    "- $H_a$: the model  does not fit (or, some other model fits)\n",
    "\n"
   ]
  },
  {
   "cell_type": "markdown",
   "metadata": {},
   "source": [
    "## Testing Procedures\n",
    "\n",
    "### Test Statistic ($T$)\n",
    "\n",
    "In **test for goodness of fit**, we follow the steps below to calculate the test statistic, denoted as $T$:\n",
    "\n",
    "- First, given $H_0$ is true, we use the **theorectical proportion** to calculate the `expected` counts for all categories: $E_i$\n",
    "- Second, we calculate the differences between `observed` ($O_i$) and `expected` ($E_i$) counts: $O_i - E_i$; \n",
    "- Since the differences can be positive or negative, we don't want the deviation being offset when we combine the differences. Therefore, we squre the differences:  $(O_i-E_i)^2$;\n",
    "- And then, we standardize the squared differences by dividing them by the expected values of each categories: $\\frac{(O_i-E_i)^2}{E_i}$, \n",
    "- Finally, we sum the standardized differences up: $\\sum_{i=1}^k \\frac{(O_i-E_i)^2}{E_i}$. This can be translated into the standard normal deviate $\\sum\\frac{(x-\\mu)^2}{\\sigma}$ and $\\mu=\\sigma$. Therefore, \n",
    "- which gives us the variances ($z^2$) that follow the standard normal distribution;\n",
    "- Then, we sum up the $z^2$ derived; and this gives us the test statistics $T$, which follows a **Chi-square** distribution ($x^2$) \n",
    "- Test for goodness of fit is also called test for **deviation**.\n",
    "\n",
    "Here's the general Chi-square test statistic formula for **goodness of fit**:\n",
    "\n",
    "<br>\n",
    "<div style=\"border:1px solid black;padding:10px 10px 10px 10px\">\n",
    "$$T = x^2 = \\sum_{i=1}^k \\frac{(O_i - E_i)^2}{E_i}\\text{ , df}=k-1$$\n",
    "\n",
    "where:\n",
    "- $O_i$ is the observed count in category $i$;\n",
    "\n",
    "- $E_i$ is the expected count in category $i$ and $E_i = np_i$ where \n",
    "    - $p_i$ is the expected ratio;\n",
    "    - $n$ is the sample size;\n",
    "    - <u>Since **chi-square test** assumes normal distribution approximation of $E_i$, it's required that $E_i$ or its equivalent $np_i \\geq 5$ </u>\n",
    "    \n",
    "- $k$ is the number of categories;\n",
    "- The **degrees of freedom** is now $k-1$ because this is a sampling distribution of $\\sum \\frac{(O-E)^2}{E}$\n",
    "</div>\n",
    "\n",
    "### Critical Value\n",
    "\n",
    "In order to conclude a decision, we need to know the Chi-square **critical value**, denoted as $X^2_{., d}$:\n",
    "\n",
    "\n",
    "\n",
    "### Decision Rules (Rejection Region)\n",
    "\n",
    "We can make a decision by comparing the test statistic $T$ (given $H_0$ is true) to the critical value. \n",
    "\n",
    "<u>We can reject $H_0$</u>, if:\n",
    "\n",
    "1. Left-tailed test:  $\\boxed{T < X^2_{\\alpha, k-1}}$\n",
    "2. Right-tailed test:  $\\boxed{T > X^2_{1-\\alpha, k-1}}$  \n",
    "3. Two-tailed test: $\\boxed{T < X^2_{\\alpha/2, k-1}\\text{ or } T > X^2_{1-\\alpha/2, k-1}}$\n",
    "\n",
    "where $k-1$ is the **degrees of freedom**.\n",
    "\n",
    "<img src='../img/critical_values_directions.png' width=300>"
   ]
  },
  {
   "cell_type": "markdown",
   "metadata": {},
   "source": [
    "### Decision Rules (P-value)\n",
    "\n",
    "Or, we can use **p-value** to decide the conclusion. \n",
    "\n",
    "Note that the **p-value** is the probability of observing a sample statistic that is as or more than the observed test statistic $T$ given $H_0$ is true. \n",
    "\n",
    "|||\n",
    "|:---|:---|\n",
    "|Left-tailed test|$$\\text{If }P(X^2 \\leq T) < \\alpha,\\text{ Reject }H_0$$|\n",
    "|Right-tailed test|$$\\text{If }P(X^2 \\geq T) < \\alpha,\\text{ Reject }H_0$$|\n",
    "|Two-tailed test|$$\\text{If }P(X^2 \\leq -|T|) + P(X^2 \\geq |T|) < \\alpha,\\text{ Reject }H_0$$|\n"
   ]
  },
  {
   "cell_type": "markdown",
   "metadata": {},
   "source": [
    "## Example: M&M Color Ratios\n",
    "\n",
    "M&M used to post the proportions of different colors in their mixed bag, which was last updated on the company website in 2008, as follows:"
   ]
  },
  {
   "cell_type": "code",
   "execution_count": 176,
   "metadata": {},
   "outputs": [
    {
     "data": {
      "text/html": [
       "<div>\n",
       "<style scoped>\n",
       "    .dataframe tbody tr th:only-of-type {\n",
       "        vertical-align: middle;\n",
       "    }\n",
       "\n",
       "    .dataframe tbody tr th {\n",
       "        vertical-align: top;\n",
       "    }\n",
       "\n",
       "    .dataframe thead th {\n",
       "        text-align: right;\n",
       "    }\n",
       "</style>\n",
       "<table border=\"1\" class=\"dataframe\">\n",
       "  <thead>\n",
       "    <tr style=\"text-align: right;\">\n",
       "      <th></th>\n",
       "      <th>Blue</th>\n",
       "      <th>Orange</th>\n",
       "      <th>Green</th>\n",
       "      <th>Yellow</th>\n",
       "      <th>Red</th>\n",
       "      <th>Brown</th>\n",
       "    </tr>\n",
       "  </thead>\n",
       "  <tbody>\n",
       "    <tr>\n",
       "      <th>proportion</th>\n",
       "      <td>0.24</td>\n",
       "      <td>0.2</td>\n",
       "      <td>0.16</td>\n",
       "      <td>0.14</td>\n",
       "      <td>0.13</td>\n",
       "      <td>0.13</td>\n",
       "    </tr>\n",
       "  </tbody>\n",
       "</table>\n",
       "</div>"
      ],
      "text/plain": [
       "            Blue  Orange  Green  Yellow   Red  Brown\n",
       "proportion  0.24     0.2   0.16    0.14  0.13   0.13"
      ]
     },
     "execution_count": 176,
     "metadata": {},
     "output_type": "execute_result"
    }
   ],
   "source": [
    "colors = ['Blue', 'Orange', 'Green', 'Yellow', 'Red', 'Brown']\n",
    "published_ratios = [.24, .2, .16, .14, .13, .13]\n",
    "\n",
    "mm_colors = pd.DataFrame({'color':colors, 'proportion':published_ratios})\\\n",
    "         .set_index('color')\n",
    "mm_colors.index.name = None\n",
    "mm_colors.transpose()"
   ]
  },
  {
   "cell_type": "markdown",
   "metadata": {},
   "source": [
    "### Research Question\n",
    "\n",
    "A student recently bought a bag of M&M to inspect the contents, and got the following counts in the same color order:"
   ]
  },
  {
   "cell_type": "code",
   "execution_count": 177,
   "metadata": {},
   "outputs": [],
   "source": [
    "observed = [85, 79, 56, 64, 58, 68]"
   ]
  },
  {
   "cell_type": "markdown",
   "metadata": {},
   "source": [
    "So that we have the following new data:"
   ]
  },
  {
   "cell_type": "code",
   "execution_count": 178,
   "metadata": {},
   "outputs": [
    {
     "data": {
      "text/html": [
       "<div>\n",
       "<style scoped>\n",
       "    .dataframe tbody tr th:only-of-type {\n",
       "        vertical-align: middle;\n",
       "    }\n",
       "\n",
       "    .dataframe tbody tr th {\n",
       "        vertical-align: top;\n",
       "    }\n",
       "\n",
       "    .dataframe thead th {\n",
       "        text-align: right;\n",
       "    }\n",
       "</style>\n",
       "<table border=\"1\" class=\"dataframe\">\n",
       "  <thead>\n",
       "    <tr style=\"text-align: right;\">\n",
       "      <th></th>\n",
       "      <th>proportion</th>\n",
       "      <th>observed</th>\n",
       "    </tr>\n",
       "  </thead>\n",
       "  <tbody>\n",
       "    <tr>\n",
       "      <th>Blue</th>\n",
       "      <td>0.24</td>\n",
       "      <td>85</td>\n",
       "    </tr>\n",
       "    <tr>\n",
       "      <th>Orange</th>\n",
       "      <td>0.20</td>\n",
       "      <td>79</td>\n",
       "    </tr>\n",
       "    <tr>\n",
       "      <th>Green</th>\n",
       "      <td>0.16</td>\n",
       "      <td>56</td>\n",
       "    </tr>\n",
       "    <tr>\n",
       "      <th>Yellow</th>\n",
       "      <td>0.14</td>\n",
       "      <td>64</td>\n",
       "    </tr>\n",
       "    <tr>\n",
       "      <th>Red</th>\n",
       "      <td>0.13</td>\n",
       "      <td>58</td>\n",
       "    </tr>\n",
       "    <tr>\n",
       "      <th>Brown</th>\n",
       "      <td>0.13</td>\n",
       "      <td>68</td>\n",
       "    </tr>\n",
       "  </tbody>\n",
       "</table>\n",
       "</div>"
      ],
      "text/plain": [
       "        proportion  observed\n",
       "Blue          0.24        85\n",
       "Orange        0.20        79\n",
       "Green         0.16        56\n",
       "Yellow        0.14        64\n",
       "Red           0.13        58\n",
       "Brown         0.13        68"
      ]
     },
     "execution_count": 178,
     "metadata": {},
     "output_type": "execute_result"
    }
   ],
   "source": [
    "mm_colors['observed']=observed\n",
    "mm_colors"
   ]
  },
  {
   "cell_type": "markdown",
   "metadata": {},
   "source": [
    "Are the observed counts from the sample bag consistent with the last published proportions? Or, is there sufficient evidence to claim that the color distribution is now different? This question requires a **test for goodness-of-fit** for the 6 colors (**categories**). "
   ]
  },
  {
   "cell_type": "markdown",
   "metadata": {},
   "source": [
    "### The Hypotheses\n",
    "\n",
    "In order to conduct the test, we will formulate the hypothesis as follows:\n",
    "\n",
    "- $H_0$: \"nothing is extraordinary is going on\", i.e. the color distribution is given by the ratio from 2008\n",
    "\n",
    "- $H_a$: the color distribution is different from the 2008 ratio. Note that the alternative hypothesis concerns with being \"different\" only, there is no directional comparison. Therefore, this will be a **two-tailed test**.\n",
    "\n",
    "\n",
    "The idea is to compare the `observed` to the numbers one would expect if $H_0$ is true. The `expected` count of each color would be computed by:\n",
    "\n",
    "$$E_i = np_i$$\n",
    "\n",
    "where, in this example, we have:\n",
    "\n",
    "- $n = \\text{Total M&Ms in the sample bag}$\n",
    "- $p_i = \\text{ the proportion of color from 2008}$"
   ]
  },
  {
   "cell_type": "code",
   "execution_count": 179,
   "metadata": {},
   "outputs": [
    {
     "data": {
      "text/html": [
       "<div>\n",
       "<style scoped>\n",
       "    .dataframe tbody tr th:only-of-type {\n",
       "        vertical-align: middle;\n",
       "    }\n",
       "\n",
       "    .dataframe tbody tr th {\n",
       "        vertical-align: top;\n",
       "    }\n",
       "\n",
       "    .dataframe thead th {\n",
       "        text-align: right;\n",
       "    }\n",
       "</style>\n",
       "<table border=\"1\" class=\"dataframe\">\n",
       "  <thead>\n",
       "    <tr style=\"text-align: right;\">\n",
       "      <th></th>\n",
       "      <th>proportion</th>\n",
       "      <th>observed</th>\n",
       "      <th>expected</th>\n",
       "    </tr>\n",
       "  </thead>\n",
       "  <tbody>\n",
       "    <tr>\n",
       "      <th>Blue</th>\n",
       "      <td>0.24</td>\n",
       "      <td>85</td>\n",
       "      <td>98.4</td>\n",
       "    </tr>\n",
       "    <tr>\n",
       "      <th>Orange</th>\n",
       "      <td>0.20</td>\n",
       "      <td>79</td>\n",
       "      <td>82.0</td>\n",
       "    </tr>\n",
       "    <tr>\n",
       "      <th>Green</th>\n",
       "      <td>0.16</td>\n",
       "      <td>56</td>\n",
       "      <td>65.6</td>\n",
       "    </tr>\n",
       "    <tr>\n",
       "      <th>Yellow</th>\n",
       "      <td>0.14</td>\n",
       "      <td>64</td>\n",
       "      <td>57.4</td>\n",
       "    </tr>\n",
       "    <tr>\n",
       "      <th>Red</th>\n",
       "      <td>0.13</td>\n",
       "      <td>58</td>\n",
       "      <td>53.3</td>\n",
       "    </tr>\n",
       "    <tr>\n",
       "      <th>Brown</th>\n",
       "      <td>0.13</td>\n",
       "      <td>68</td>\n",
       "      <td>53.3</td>\n",
       "    </tr>\n",
       "  </tbody>\n",
       "</table>\n",
       "</div>"
      ],
      "text/plain": [
       "        proportion  observed  expected\n",
       "Blue          0.24        85      98.4\n",
       "Orange        0.20        79      82.0\n",
       "Green         0.16        56      65.6\n",
       "Yellow        0.14        64      57.4\n",
       "Red           0.13        58      53.3\n",
       "Brown         0.13        68      53.3"
      ]
     },
     "execution_count": 179,
     "metadata": {},
     "output_type": "execute_result"
    }
   ],
   "source": [
    "mm_colors['expected'] = mm_colors['proportion'] * sum(observed)\n",
    "mm_colors"
   ]
  },
  {
   "cell_type": "markdown",
   "metadata": {},
   "source": [
    "### Compute the Test Statistic\n",
    "\n",
    "First, let's check if each $E_i = np_i$ is greater than 5, which is required to conduct **Chi-square test**:"
   ]
  },
  {
   "cell_type": "code",
   "execution_count": 180,
   "metadata": {},
   "outputs": [
    {
     "data": {
      "text/plain": [
       "Blue      True\n",
       "Orange    True\n",
       "Green     True\n",
       "Yellow    True\n",
       "Red       True\n",
       "Brown     True\n",
       "Name: expected, dtype: bool"
      ]
     },
     "execution_count": 180,
     "metadata": {},
     "output_type": "execute_result"
    }
   ],
   "source": [
    "mm_colors.expected >= 5"
   ]
  },
  {
   "cell_type": "markdown",
   "metadata": {},
   "source": [
    "Since the requirement is met, we can now compute the Chi-square test statistic:"
   ]
  },
  {
   "cell_type": "code",
   "execution_count": 182,
   "metadata": {},
   "outputs": [
    {
     "data": {
      "text/html": [
       "<div>\n",
       "<style scoped>\n",
       "    .dataframe tbody tr th:only-of-type {\n",
       "        vertical-align: middle;\n",
       "    }\n",
       "\n",
       "    .dataframe tbody tr th {\n",
       "        vertical-align: top;\n",
       "    }\n",
       "\n",
       "    .dataframe thead th {\n",
       "        text-align: right;\n",
       "    }\n",
       "</style>\n",
       "<table border=\"1\" class=\"dataframe\">\n",
       "  <thead>\n",
       "    <tr style=\"text-align: right;\">\n",
       "      <th></th>\n",
       "      <th>proportion</th>\n",
       "      <th>observed</th>\n",
       "      <th>expected</th>\n",
       "      <th>variance</th>\n",
       "    </tr>\n",
       "  </thead>\n",
       "  <tbody>\n",
       "    <tr>\n",
       "      <th>Blue</th>\n",
       "      <td>0.24</td>\n",
       "      <td>85</td>\n",
       "      <td>98.4</td>\n",
       "      <td>1.824797</td>\n",
       "    </tr>\n",
       "    <tr>\n",
       "      <th>Orange</th>\n",
       "      <td>0.20</td>\n",
       "      <td>79</td>\n",
       "      <td>82.0</td>\n",
       "      <td>0.109756</td>\n",
       "    </tr>\n",
       "    <tr>\n",
       "      <th>Green</th>\n",
       "      <td>0.16</td>\n",
       "      <td>56</td>\n",
       "      <td>65.6</td>\n",
       "      <td>1.404878</td>\n",
       "    </tr>\n",
       "    <tr>\n",
       "      <th>Yellow</th>\n",
       "      <td>0.14</td>\n",
       "      <td>64</td>\n",
       "      <td>57.4</td>\n",
       "      <td>0.758885</td>\n",
       "    </tr>\n",
       "    <tr>\n",
       "      <th>Red</th>\n",
       "      <td>0.13</td>\n",
       "      <td>58</td>\n",
       "      <td>53.3</td>\n",
       "      <td>0.414447</td>\n",
       "    </tr>\n",
       "    <tr>\n",
       "      <th>Brown</th>\n",
       "      <td>0.13</td>\n",
       "      <td>68</td>\n",
       "      <td>53.3</td>\n",
       "      <td>4.054221</td>\n",
       "    </tr>\n",
       "  </tbody>\n",
       "</table>\n",
       "</div>"
      ],
      "text/plain": [
       "        proportion  observed  expected  variance\n",
       "Blue          0.24        85      98.4  1.824797\n",
       "Orange        0.20        79      82.0  0.109756\n",
       "Green         0.16        56      65.6  1.404878\n",
       "Yellow        0.14        64      57.4  0.758885\n",
       "Red           0.13        58      53.3  0.414447\n",
       "Brown         0.13        68      53.3  4.054221"
      ]
     },
     "execution_count": 182,
     "metadata": {},
     "output_type": "execute_result"
    }
   ],
   "source": [
    "mm_colors['variance'] = (mm_colors.observed - mm_colors.expected)**2/mm_colors.expected\n",
    "mm_colors"
   ]
  },
  {
   "cell_type": "code",
   "execution_count": 186,
   "metadata": {},
   "outputs": [
    {
     "data": {
      "text/plain": [
       "8.567"
      ]
     },
     "execution_count": 186,
     "metadata": {},
     "output_type": "execute_result"
    }
   ],
   "source": [
    "chi_sqr = mm_colors['variance'].sum()\n",
    "round(chi_sqr, 3)"
   ]
  },
  {
   "cell_type": "markdown",
   "metadata": {},
   "source": [
    "### Conclusion using P-value\n",
    "\n",
    "Let's compute the p-value, the probability of observing a chi-squre statistic that is as or more extreme than the observed test statistic $T=8.567$. \n",
    "\n",
    "Since this is a **two-tailed test**, the probability shall include both sides: \n",
    "- $P(X^2 < -8.567)$\n",
    "- $P(X^2 > 8.567)$"
   ]
  },
  {
   "cell_type": "code",
   "execution_count": 225,
   "metadata": {},
   "outputs": [
    {
     "name": "stdout",
     "output_type": "stream",
     "text": [
      "p-value:0.128\n"
     ]
    },
    {
     "data": {
      "image/png": "[encoded data removed]",
      "text/plain": [
       "<Figure size 432x288 with 1 Axes>"
      ]
     },
     "metadata": {},
     "output_type": "display_data"
    }
   ],
   "source": [
    "df = len(colors)-1\n",
    "\n",
    "# simulate and plot the sampling chi-squre distribution\n",
    "x = np.random.chisquare(df, size=10000)\n",
    "points = sns.kdeplot(x).get_lines()[0].get_data()\n",
    "x,y = points[0], points[1]\n",
    "\n",
    "# display the mean of the sampling distribution, which equals the df\n",
    "plt.vlines(df, ymin=0, ymax=st.chi2(df).pdf(df), color='red', linestyle='--')\n",
    "\n",
    "# calculate the print the p-value\n",
    "p = st.chi2(df).cdf(-chi_sqr)+(1-st.chi2(df).cdf(chi_sqr))\n",
    "print(f'p-value:{p:.3f}')\n",
    "\n",
    "# show the area under the curve that represents the p-value\n",
    "plt.fill_between(x, y, where=x<-chi_sqr, color='blue')\n",
    "plt.fill_between(x, y, where=x>chi_sqr, color='blue')\n",
    "\n",
    "plt.show()"
   ]
  },
  {
   "cell_type": "markdown",
   "metadata": {},
   "source": [
    "If we'd like to draw the conclusion with 95% confidence, we'd compare the p-value to $\\alpha=0.05$. Since $0.128 > 0.05$, we don't have sufficient evidence to reject the null hypothesis. \n",
    "\n",
    "That is, we are 95% confident that the M&M color distribution nowadays still follows that from 2008."
   ]
  },
  {
   "cell_type": "markdown",
   "metadata": {},
   "source": [
    "# Chi-square Test for Relationship between Two Categorical Variables"
   ]
  },
  {
   "cell_type": "markdown",
   "metadata": {},
   "source": [
    "### Contingency Table\n",
    "\n",
    "**Contingency table** is used to represent the relaitonship between two categorical variables. The following titanic data is an example of 2 x 2 table that shows the relationship between `survived` and `class`."
   ]
  },
  {
   "cell_type": "code",
   "execution_count": 116,
   "metadata": {
    "scrolled": true
   },
   "outputs": [
    {
     "data": {
      "text/html": [
       "<div>\n",
       "<style scoped>\n",
       "    .dataframe tbody tr th:only-of-type {\n",
       "        vertical-align: middle;\n",
       "    }\n",
       "\n",
       "    .dataframe tbody tr th {\n",
       "        vertical-align: top;\n",
       "    }\n",
       "\n",
       "    .dataframe thead th {\n",
       "        text-align: right;\n",
       "    }\n",
       "</style>\n",
       "<table border=\"1\" class=\"dataframe\">\n",
       "  <thead>\n",
       "    <tr style=\"text-align: right;\">\n",
       "      <th></th>\n",
       "      <th>First</th>\n",
       "      <th>Second</th>\n",
       "      <th>Third</th>\n",
       "    </tr>\n",
       "  </thead>\n",
       "  <tbody>\n",
       "    <tr>\n",
       "      <th>Died</th>\n",
       "      <td>80</td>\n",
       "      <td>97</td>\n",
       "      <td>372</td>\n",
       "    </tr>\n",
       "    <tr>\n",
       "      <th>Survived</th>\n",
       "      <td>136</td>\n",
       "      <td>87</td>\n",
       "      <td>119</td>\n",
       "    </tr>\n",
       "  </tbody>\n",
       "</table>\n",
       "</div>"
      ],
      "text/plain": [
       "          First  Second  Third\n",
       "Died         80      97    372\n",
       "Survived    136      87    119"
      ]
     },
     "execution_count": 116,
     "metadata": {},
     "output_type": "execute_result"
    }
   ],
   "source": [
    "df = sns.load_dataset('titanic')\n",
    "df.loc[df.survived == 0, 'survived']='Died'\n",
    "df.loc[df.survived == 1, 'survived']='Survived'\n",
    "two_tb = pd.crosstab(df.survived, df['class'])\n",
    "two_tb.index.name = None # remove index name\n",
    "two_tb.columns.name = None # remove col name\n",
    "two_tb"
   ]
  }
 ],
 "metadata": {
  "kernelspec": {
   "display_name": "stat_notes",
   "language": "python",
   "name": "stat_notes"
  },
  "language_info": {
   "codemirror_mode": {
    "name": "ipython",
    "version": 3
   },
   "file_extension": ".py",
   "mimetype": "text/x-python",
   "name": "python",
   "nbconvert_exporter": "python",
   "pygments_lexer": "ipython3",
   "version": "3.9.6"
  },
  "toc": {
   "base_numbering": 1,
   "nav_menu": {},
   "number_sections": true,
   "sideBar": true,
   "skip_h1_title": false,
   "title_cell": "Table of Contents",
   "title_sidebar": "Contents",
   "toc_cell": false,
   "toc_position": {
    "height": "calc(100% - 180px)",
    "left": "10px",
    "top": "150px",
    "width": "279.825px"
   },
   "toc_section_display": true,
   "toc_window_display": true
  }
 },
 "nbformat": 4,
 "nbformat_minor": 4
}
