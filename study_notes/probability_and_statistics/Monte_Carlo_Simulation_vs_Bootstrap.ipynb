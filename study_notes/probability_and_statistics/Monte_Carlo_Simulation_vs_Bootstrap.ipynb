{
 "cells": [
  {
   "cell_type": "markdown",
   "metadata": {},
   "source": [
    "# References\n",
    "\n",
    "[what is simulation](https://stattrek.com/experiments/simulation.aspx)\n",
    "\n",
    "[Bootstrap Sampling](http://www2.stat.duke.edu/~banks/111-lectures.dir/lect13.pdf)\n",
    "\n",
    "\n",
    "[Monte Carlo - best explained](https://www.analyticsvidhya.com/blog/2021/04/how-to-perform-monte-carlo-simulation/#:~:text=Monte%20Carlo%20Simulation%2C%20unlike%20propagation,data%20with%20big%20standard%20deviation.&text=Monte%20Carlo%20simulation%20simulates%20or,and%20parameters%20for%20each%20variable.)\n",
    "\n",
    "[Monte Carlo Simulation vs Bootstrap Sampling for Financial Analysis](https://analystprep.com/study-notes/frm/part-1/quantitative-analysis/simulation-methods/)\n",
    "\n",
    "[Monte Carlo Simulation for Stock Price prediction using Python](https://medium.com/analytics-vidhya/monte-carlo-simulations-for-predicting-stock-prices-python-a64f53585662)"
   ]
  },
  {
   "cell_type": "code",
   "execution_count": null,
   "metadata": {},
   "outputs": [],
   "source": []
  }
 ],
 "metadata": {
  "kernelspec": {
   "display_name": "eda_env",
   "language": "python",
   "name": "eda_env"
  },
  "language_info": {
   "codemirror_mode": {
    "name": "ipython",
    "version": 3
   },
   "file_extension": ".py",
   "mimetype": "text/x-python",
   "name": "python",
   "nbconvert_exporter": "python",
   "pygments_lexer": "ipython3",
   "version": "3.7.7"
  },
  "toc": {
   "base_numbering": 1,
   "nav_menu": {},
   "number_sections": true,
   "sideBar": true,
   "skip_h1_title": false,
   "title_cell": "Table of Contents",
   "title_sidebar": "Contents",
   "toc_cell": false,
   "toc_position": {},
   "toc_section_display": true,
   "toc_window_display": false
  }
 },
 "nbformat": 4,
 "nbformat_minor": 4
}
