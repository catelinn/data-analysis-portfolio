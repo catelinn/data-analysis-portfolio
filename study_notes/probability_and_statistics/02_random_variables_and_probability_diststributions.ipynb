{
 "cells": [
  {
   "cell_type": "code",
   "execution_count": 2,
   "metadata": {
    "colab": {
     "base_uri": "https://localhost:8080/"
    },
    "executionInfo": {
     "elapsed": 2325,
     "status": "ok",
     "timestamp": 1653693779737,
     "user": {
      "displayName": "Catelinn X",
      "userId": "04332785691882296815"
     },
     "user_tz": 420
    },
    "id": "D7cI1DI21E8A",
    "outputId": "b4f7d6d1-5adb-4eac-bae8-fa4b2362f697"
   },
   "outputs": [],
   "source": [
    "import numpy as np\n",
    "import pandas as pd\n",
    "import matplotlib.pyplot as plt\n",
    "%matplotlib inline\n",
    "\n",
    "\n",
    "import seaborn as sns\n",
    "sns.set_theme() # Apply the default theme\n",
    "\n",
    "import math\n",
    "import scipy.stats as st\n",
    "import statsmodels.api as sm\n",
    "from IPython import display"
   ]
  },
  {
   "cell_type": "markdown",
   "metadata": {
    "id": "hUuw0puA1E8E"
   },
   "source": [
    "# Intro\n",
    "\n",
    "- [Random variable - Penn State STAT500](https://online.stat.psu.edu/stat500/lesson/3/3.1)\n",
    "- [Random variable - Yales stats](http://www.stat.yale.edu/Courses/1997-98/101/ranvar.htm)\n",
    "- [The probability distribution of discrete random variable - stats by libretexts](https://stats.libretexts.org/Bookshelves/Introductory_Statistics/Book%3A_Introductory_Statistics_(Shafer_and_Zhang)/04%3A_Discrete_Random_Variables/4.02%3A_Probability_Distributions_for_Discrete_Random_Variables)\n",
    "\n",
    "## Random Variable\n",
    "\n",
    "### Definition\n",
    "\n",
    "A **random variable**, usually written as $X$, is a variable whose possible values are numerical outcomes of a random phenomenon. \n",
    "\n",
    "### Population vs Sample\n",
    "\n",
    "- **Population** is the collection of all possible observations of a random variable;\n",
    "- **Sample** is the collection of randomly selected observations for a fixed size $n$.\n",
    "\n",
    "### Discrete vs Continuous\n",
    "\n",
    "- When a random variable can assume only a countable, sometimes infinite, number of values, it's **discrete**;\n",
    "\n",
    "- When a random variable can assume an uncountable number of values in a line interval, it's **continuous**.\n",
    "\n",
    "\n",
    "\n",
    "## Probability Function\n",
    "\n",
    "A **probability function** is a mathematical function that provides probabilities for the possible outcomes of the random variable $X$, it's typically denoted as $f(x)$. \n",
    "\n",
    "A **cumulative distribution function** (CDF), usually denoted as $F(x)$, is a function that gives the probability that the random variable $X$, is less than or equal to the value $x$.\n",
    "\n",
    "\n",
    "## Random Probability Distribution and Histogram\n",
    "\n",
    "The **random probability distribution** describes how the probabilities are distributed over the values of the random variable.\n",
    "\n",
    "We can use **histogram** to visualize the probability distribution of $X$, where\n",
    "- the random variable $X$ is the **x-axis** and \n",
    "- the probability function $f(x)$ is the **y-axis**.\n",
    "\n",
    "\n",
    "## Summary\n",
    "\n",
    "||Discrete|Continuous|\n",
    "|:---|:---:|:---:|\n",
    "|Definition|when $X$ can assume only countable, sometimes infinite, number of values|When $X$ can assume an uncountable number of values in a line interval|\n",
    "|Probability Functions<br>$f(x)$|PMF<br>the probability that $X$ is equal to $x$ |PDF<br>the probability function which is used to draw the curve of probability distribution|\n",
    "||$$f(x)=P(X=x)$$|$$f(x)\\neq P(X=x)$$instead<br>$$P(X=x)=0$$|\n",
    "|CDF<br>$F(x)$|Discrete CDF can be defined as:<br>$$F(x) = P(X\\leq x)$$|Discrete CDF can be defined as:<br>$$F(x) = P(X\\leq x)=P(X<x)$$|\n",
    "||It's calculated by summing PMFs|It's calculated by integrating the PDFs|\n",
    "||$$F(x)=\\sum_{x_k \\leq x}P(X=x_k)$$|$$F(x)=\\int_{-\\infty}^x f(x)dx$$|\n",
    "||The sum of all the probabilities of all the possible outcomes of an experiment is equal to 1|The area under the curve is equal to 1|\n",
    "||$$\\sum_{x\\in S} P(X=x)=1$$|$$F(x)=\\int_{-\\infty}^{\\infty} f(x)dx=1$$|\n",
    "\n",
    "\n",
    "# Discrete Random Variable\n",
    "\n",
    "## Definition\n",
    "\n",
    "A **discrete random variable** $X$ can take on countable number of distinct values such as 0,1,2,3,4,......... **Discrete random variables** are usually (but not necessarily) <u>counts</u>. \n",
    "\n",
    "The **probability distribution of a discrete random variable** is a list of each possible value of $X$ together with the **probability** that $X$ takes that value in one trial of the experiment. \n",
    "\n",
    "\n",
    "## Discrete Probability / PMF\n",
    "\n",
    "The probability that a discrete random variable $X$ takes on a particular value $x$, that is, $P(X=x)$, or denoted as $f(x)$,  is typically called **probability mass function** (PMF). Note that each $P(X=x)$ must be between $0$ and $1$:\n",
    "\n",
    "$$0\\leq P(X=x)\\leq 1$$\n",
    "\n",
    "For example, let $X$ be the number of sibilings of the students in a school, which is $X = {0,1,2,3}$. As $X$ contains finite number of possible values, it's a **discrete random variable**. Its probability distriubtion is:\n",
    "\n",
    "|x|0|1|2|3|\n",
    "|---|---|---|---|---|\n",
    "|P(X=x)|$$\\frac{100}{500}$$|$$\\frac{180}{500}$$|$$\\frac{120}{500}$$|$$\\frac{100}{500}$$|\n",
    "\n",
    "\n",
    "## Discrete CDF\n",
    "\n",
    "The **cumulative distribution function (CDF)** of a discrete random variable is defined as:\n",
    "\n",
    "$$\\boxed{F(x) = P(X\\leq x)}$$\n",
    "\n",
    "- which is calculated by summing the PDFs:\n",
    "\n",
    "$$\\boxed{\\begin{split}\n",
    "    F(x) &= P(X\\leq x)\\\\\n",
    "    &= \\sum_{x_k \\leq x}P(X=x_k)\n",
    "    \\end{split}}$$\n",
    "\n",
    "- The sum of all probabilities of an experiment is $1$\n",
    "    \n",
    "    $$\\boxed{\\sum_{x\\in S}P(X=x)=1}$$ \n",
    "    \n",
    "    where $S$ is the \"**sample space**\". It's the set of all values of $X$ with a non-zero probability, i.e. it's a set of things that can happen.  "
   ]
  },
  {
   "cell_type": "markdown",
   "metadata": {},
   "source": [
    "### Example: At Least Three Probability\n",
    "\n",
    "How if roll a die for 5 times, what is the probability of rolling at least three 6s?\n",
    "\n",
    "Let $X$ be the number of 6s in 5 rolls:\n",
    "\n",
    "$$\\begin{split}\n",
    "P(X\\geq 3) &= P(X=3) + P(X=4) + P(X=5)\\\\\n",
    "&= {5\\choose 3}0.5^3\\cdot 0.5^{2}+{5\\choose 4}0.5^4\\cdot 0.5^{1}+{5\\choose 5}0.5^5\\cdot 0.5^{0}\\\\\n",
    "&\\approx0.3+0.16+0.03\\\\\n",
    "&\\approx0.5\n",
    "\\end{split}\n",
    "$$"
   ]
  },
  {
   "cell_type": "code",
   "execution_count": 6,
   "metadata": {},
   "outputs": [
    {
     "data": {
      "text/html": [
       "<div>\n",
       "<style scoped>\n",
       "    .dataframe tbody tr th:only-of-type {\n",
       "        vertical-align: middle;\n",
       "    }\n",
       "\n",
       "    .dataframe tbody tr th {\n",
       "        vertical-align: top;\n",
       "    }\n",
       "\n",
       "    .dataframe thead th {\n",
       "        text-align: right;\n",
       "    }\n",
       "</style>\n",
       "<table border=\"1\" class=\"dataframe\">\n",
       "  <thead>\n",
       "    <tr style=\"text-align: right;\">\n",
       "      <th></th>\n",
       "      <th>0</th>\n",
       "      <th>1</th>\n",
       "      <th>2</th>\n",
       "      <th>3</th>\n",
       "      <th>4</th>\n",
       "      <th>5</th>\n",
       "    </tr>\n",
       "  </thead>\n",
       "  <tbody>\n",
       "    <tr>\n",
       "      <th>probability</th>\n",
       "      <td>0.03</td>\n",
       "      <td>0.16</td>\n",
       "      <td>0.31</td>\n",
       "      <td>0.32</td>\n",
       "      <td>0.16</td>\n",
       "      <td>0.03</td>\n",
       "    </tr>\n",
       "  </tbody>\n",
       "</table>\n",
       "</div>"
      ],
      "text/plain": [
       "                0     1     2     3     4     5\n",
       "probability  0.03  0.16  0.31  0.32  0.16  0.03"
      ]
     },
     "execution_count": 6,
     "metadata": {},
     "output_type": "execute_result"
    }
   ],
   "source": [
    "# Use `np.random.binomial` to simulate probability distriubtion\n",
    "n, p, k = 5, 0.5, 10000\n",
    "x = np.unique(np.random.binomial(n,p,k), return_counts=True)\n",
    "pd.DataFrame({'probability': np.around(x[1]/k,2)}).transpose()"
   ]
  },
  {
   "cell_type": "code",
   "execution_count": 9,
   "metadata": {},
   "outputs": [
    {
     "data": {
      "text/plain": [
       "0.5"
      ]
     },
     "execution_count": 9,
     "metadata": {},
     "output_type": "execute_result"
    }
   ],
   "source": [
    "# Use `scipy.stats.binom()` to calculate pmf\n",
    "x = st.binom(n,p)\n",
    "\n",
    "# sum pmfs to get cdf\n",
    "round(x.pmf(3) + x.pmf(4) + x.pmf(5),2)"
   ]
  },
  {
   "cell_type": "markdown",
   "metadata": {
    "id": "x2PYuUIa1E8G"
   },
   "source": [
    "## Expected Value\n",
    "\n",
    "The **expected value** of a random variable is the numeraical value we expect to get from a random sample. For example, if we sample an adult male at random, then we expect his height to be around the population mean $\\mu$.\n",
    "\n",
    "It's also considered as the \"long-run\" average of the distribution outcomes.\n",
    "- in other words, it's a weighted sum of the outcomes (weighted by probability)\n",
    "- it is synonym to the \"mean\"\n",
    "- With large enough sample size $n$, the expected value will approach the population mean\n",
    "\n",
    "|Discrete Random Variable|Population|\n",
    "|---|---|\n",
    "|$$E(X)= \\sum_{x\\in S}x \\cdot P(X=x)$$|$$\\mu = \\sum x \\cdot \\frac{1}{n}$$|\n",
    "\n",
    "\n",
    "## Variance\n",
    "\n",
    "The **vairance** of a distribution is a measure of uncertainty in each outcome. It's opposite to the meaning of **precision**.\n",
    "\n",
    "|Discrete Random Variable |Population|\n",
    "|:---:|:---:|\n",
    "|$$V(X)= \\sum_{x\\in S}(x-\\mu)^2 \\cdot P(X=x)$$ or <br>$$V(X) = E(X-E(X))^2 = E(X^2) - E(X)^2$$|$$ \\sigma^2 = \\sum(x-\\mu)^2 \\cdot \\frac{1}{n}$$|\n",
    "\n",
    "\n",
    "## Median\n",
    "\n",
    "The median of a distribution is an x-value such that at least half is no more than it, and at least half is no less than it:\n",
    "\n",
    "$$\\tilde{X} = \\{x | P(X\\leq x) \\geq 0.5\\ and\\ P(X\\geq x) \\geq 0.5\\}$$"
   ]
  },
  {
   "cell_type": "markdown",
   "metadata": {
    "id": "x2PYuUIa1E8G"
   },
   "source": [
    "## Examples using General Formulas\n",
    "\n",
    "\n",
    "### Parameters of a Uniform Distribution\n",
    "\n",
    "We have observed the PMF for the number of points scored by the Winterhawks team as follows:\n",
    "\n",
    "|Score|0|1|2|3|4|5|\n",
    "|---|---|---|---|---|---|---|\n",
    "|Probability|.1|.1|.2|.4|.1|.1|\n",
    "\n",
    "What's the **expected value**, **variance** and **median**?"
   ]
  },
  {
   "cell_type": "code",
   "execution_count": 115,
   "metadata": {},
   "outputs": [
    {
     "name": "stdout",
     "output_type": "stream",
     "text": [
      "2.6, 1.84, 3\n"
     ]
    }
   ],
   "source": [
    "x = np.array([0,1,2,3,4,5])\n",
    "p = np.array([.1, .1, .2, .4, .1, .1])\n",
    "\n",
    "# the expected value\n",
    "ev = (x*p).sum()\n",
    "\n",
    "# the variance\n",
    "var = ((x-ev)**2 * p).sum()\n",
    "\n",
    "# the median\n",
    "i = np.argmax(p.cumsum()>=.5)\n",
    "if np.sum(p[:i+1]) == .5:  \n",
    "    m = x[:i+2].sum()/2\n",
    "else:\n",
    "    m = x[i]\n",
    "    \n",
    "print(f\"{ev}, {var:.2f}, {m}\")"
   ]
  },
  {
   "cell_type": "markdown",
   "metadata": {},
   "source": [
    "### Parameters of a Binomial Distribution\n",
    "\n",
    "Let $X$ be the number of getting heads from flipping a fair coin for 3 times. This is a **binomial random variable**, denoted as $X\\sim Bin(n=3,p=0.5)$. \n",
    "\n",
    "The probabilities of getting $x$ heads can be computed using **Binomial PMF** formula:\n",
    "\n",
    "$$\\boxed{P(X=x)={n\\choose x}p^{x}(1-p)^{n-x}}$$\n",
    "\n",
    "- getting 0 heads: $P(X=0)= {3 \\choose 0}0.5^0 0.5^{3-0} = 0.5^3$\n",
    "- getting 1 heads: $P(X=1)= {3 \\choose 1}0.5^1 0.5^{3-1} = 3\\times 0.5 \\times 0.5^2 = 3\\times 0.5^3$\n",
    "- getting 2 heads: $P(X=2)= {3 \\choose 2}0.5^2 0.5^{3-2} = 3\\times 0.5^2 \\times 0.5 = 3\\times 0.5^3$\n",
    "- getting 3 heads: $P(X=3)= {3 \\choose 3}0.5^3 0.5^{3-3} = 0.5^3$\n",
    "\n",
    "What's the **expected value**, **variance** and **median** of $X$?"
   ]
  },
  {
   "cell_type": "code",
   "execution_count": 116,
   "metadata": {},
   "outputs": [
    {
     "name": "stdout",
     "output_type": "stream",
     "text": [
      "mean: 1.5, variance: 0.75, median: 1.5\n"
     ]
    }
   ],
   "source": [
    "import numpy as np\n",
    "\n",
    "# all possible events of X (the sample space)\n",
    "x = np.array([0,1,2,3])\n",
    "\n",
    "# the probability of all possible events: P(X=x)\n",
    "p = np.array([.5**3, 3*.5**3, 3*.5**3, .5**3])\n",
    "\n",
    "# the expected value (mean)\n",
    "ev = (x*p).sum()\n",
    "\n",
    "# the variance\n",
    "var = ((x-ev)**2 * p).sum()\n",
    "\n",
    "# the median\n",
    "i = np.argmax(p.cumsum()>=.5)\n",
    "if np.sum(p[:i+1]) == .5:  \n",
    "    m = x[:i+2].sum()/2\n",
    "else:\n",
    "    m = x[i]\n",
    "\n",
    "print(f\"mean: {ev}, variance: {var:.2f}, median: {m}\")"
   ]
  },
  {
   "cell_type": "markdown",
   "metadata": {
    "id": "x99-cz8Q1E8G"
   },
   "source": [
    "## Example Discrete Distributions\n",
    "\n",
    "Well-known discrete probability distributions used in statistical modeling include:\n",
    "\n",
    "- Bernoulli\n",
    "- Binomial\n",
    "- Geometric\n",
    "- Poisson etc."
   ]
  },
  {
   "cell_type": "markdown",
   "metadata": {
    "id": "x99-cz8Q1E8G"
   },
   "source": [
    "### Bernoulli\n",
    "\n",
    "In an experiment, we will roll a fair dice ($n=1$ and $p=0.5$). Let $X$ be the probability of getting head in one trial, which will have only 2 possible outcomes: $X=\\{0,1\\}$. This is an **Bernoulli random variable**, which counts the \"probability of success in one trial\", denoted as $X\\sim B(1, p)$\n",
    "\n",
    "- Note that **Bernoulli** is the special case of **Binomial** with $n=1$\n",
    "- The **probability mass function** of X ($X={0,1}$) is:\n",
    "\n",
    "$$\\boxed{P(X=x) = \\begin{cases}\n",
    "          p,\\text{ if }x=1\\\\\n",
    "          1-p,\\text{ if }x=0\n",
    "          \\end{cases}  }\n",
    "$$\n",
    "    \n",
    "    which can also be expressed as\n",
    "\n",
    "$$\\boxed{p^x (1-p)^{1-x}}$$\n",
    "\n",
    "\n",
    "- The expected mean and variance of **Bernoulli** is:\n",
    "    - $\\boxed{\\mu = p}$ and\n",
    "    - $\\boxed{\\sigma^s = p(1-p)}$"
   ]
  },
  {
   "cell_type": "code",
   "execution_count": 117,
   "metadata": {
    "colab": {
     "base_uri": "https://localhost:8080/",
     "height": 304
    },
    "executionInfo": {
     "elapsed": 347,
     "status": "ok",
     "timestamp": 1653693985001,
     "user": {
      "displayName": "Catelinn X",
      "userId": "04332785691882296815"
     },
     "user_tz": 420
    },
    "id": "vUUeLEX01E8H",
    "outputId": "2729df66-3a16-4afb-bc21-d1769591d943"
   },
   "outputs": [
    {
     "name": "stdout",
     "output_type": "stream",
     "text": [
      "Expected value:p=0.5\n",
      "Expected std:sqrt(p(1-p))=0.5\n"
     ]
    },
    {
     "data": {
      "image/png": "[encoded data removed]",
      "text/plain": [
       "<Figure size 432x288 with 1 Axes>"
      ]
     },
     "metadata": {},
     "output_type": "display_data"
    }
   ],
   "source": [
    "# Repeat the experiment many times (k) to simulate the population \n",
    "n,p, k = 1, .5, 1000\n",
    "rvs = np.random.binomial(n,p,k)\n",
    "print(f'Expected value:p={rvs.mean():.1f}')\n",
    "print(f'Expected std:sqrt(p(1-p))={rvs.std():.1f}')\n",
    "\n",
    "# Visualize\n",
    "sns.histplot(rvs, discrete=True, stat='probability')\n",
    "plt.xticks(ticks=[0,1], labels=['Head', 'Tail'])\n",
    "plt.show()"
   ]
  },
  {
   "cell_type": "code",
   "execution_count": 118,
   "metadata": {
    "colab": {
     "base_uri": "https://localhost:8080/"
    },
    "executionInfo": {
     "elapsed": 1204,
     "status": "ok",
     "timestamp": 1653693830547,
     "user": {
      "displayName": "Catelinn X",
      "userId": "04332785691882296815"
     },
     "user_tz": 420
    },
    "id": "hdAqaWmy1E8H",
    "outputId": "33c4e7ca-35f7-489a-994d-74b7120d2dc6"
   },
   "outputs": [
    {
     "data": {
      "text/plain": [
       "0.5"
      ]
     },
     "execution_count": 118,
     "metadata": {},
     "output_type": "execute_result"
    }
   ],
   "source": [
    "np.sqrt(p*(1-p))"
   ]
  },
  {
   "cell_type": "markdown",
   "metadata": {
    "id": "SxHpgXh21E8I"
   },
   "source": [
    "### Binomial\n",
    "\n",
    "In an experiment, you will toss 3 fair coins. Let $X$ be the number of heads you get from this experiment, this is **binomial random variable** which counts \"the number of successes in $n$ identical and independent trials\", denoted as $X\\sim Bin(n,p)$\n",
    "\n",
    "We will have:\n",
    "\n",
    "- $n=3$ (number of trails)\n",
    "- the probability of getting head is $p=0.5$\n",
    "- $X = \\{0,1,2,3\\}$, which are all the possible numbers of heads we can get after 3 tosses\n",
    "- The probability of each possible value $x$ is: \n",
    "\n",
    "    $$\\boxed{P(X=x) = {n\\choose x}p^{x}(1-p)^{n-x}}$$\n",
    "    \n",
    "    - Note that ${n\\choose x}$ is the **binomial coefficient**, the number of all possible results that satisfies $X=x$. \n",
    "\n",
    "- We can expect the **binomial probability distribution** to have:\n",
    "    - $\\boxed{\\mu = np}$ and \n",
    "    - $\\boxed{\\sigma^2 = np(a-p)}$\n",
    "\n",
    "\n"
   ]
  },
  {
   "cell_type": "code",
   "execution_count": 119,
   "metadata": {
    "colab": {
     "base_uri": "https://localhost:8080/",
     "height": 304
    },
    "executionInfo": {
     "elapsed": 400,
     "status": "ok",
     "timestamp": 1653694031794,
     "user": {
      "displayName": "Catelinn X",
      "userId": "04332785691882296815"
     },
     "user_tz": 420
    },
    "id": "YXf8vF_z1E8I",
    "outputId": "095b339a-5b2d-49de-df19-ff401acedf9c"
   },
   "outputs": [
    {
     "name": "stdout",
     "output_type": "stream",
     "text": [
      "Expected value:np=1.5\n",
      "Expected std:sqrt(np(1-p))=0.9\n"
     ]
    },
    {
     "data": {
      "image/png": "[encoded data removed]",
      "text/plain": [
       "<Figure size 432x288 with 1 Axes>"
      ]
     },
     "metadata": {},
     "output_type": "display_data"
    }
   ],
   "source": [
    "# Repeat the experiment many times (k) to simulate population\n",
    "n, p, k = 3, 0.5, 1000 \n",
    "rvs = np.random.binomial(n,p,k)\n",
    "print(f'Expected value:np={rvs.mean():.1f}')\n",
    "print(f'Expected std:sqrt(np(1-p))={rvs.std():.1f}')\n",
    "\n",
    "# Visualize\n",
    "sns.histplot(rvs, discrete=True, stat='probability')\n",
    "plt.xticks([0,1,2,3])\n",
    "plt.show()"
   ]
  },
  {
   "cell_type": "code",
   "execution_count": 120,
   "metadata": {
    "colab": {
     "base_uri": "https://localhost:8080/"
    },
    "executionInfo": {
     "elapsed": 257,
     "status": "ok",
     "timestamp": 1653694070689,
     "user": {
      "displayName": "Catelinn X",
      "userId": "04332785691882296815"
     },
     "user_tz": 420
    },
    "id": "4ew37qpc2IgE",
    "outputId": "126bbb13-a006-4e1f-8d8a-962f75dec808"
   },
   "outputs": [
    {
     "data": {
      "text/plain": [
       "0.9"
      ]
     },
     "execution_count": 120,
     "metadata": {},
     "output_type": "execute_result"
    }
   ],
   "source": [
    "round(np.sqrt(n*p*(1-p)),1)"
   ]
  },
  {
   "cell_type": "markdown",
   "metadata": {
    "id": "KfoJ4irR1E8J"
   },
   "source": [
    "### Expected Payout of Bernoulli\n",
    "\n",
    "Suppose you are playing a game of chance in which you can choose 5 numbers from `0,1,2,3,4,5,6,7,8,9`. A computer randomly selects 5 numbers for you **with replacement**. \n",
    "\n",
    "You pay $\\$2$ to play and could win $\\$100,000$ if you match 5 numbers in order. Over the long term, what is your **expected** profit of playing the game?\n",
    "\n",
    "\n",
    "**Solution**\n",
    "\n",
    "Let $X$ be **all possible payouts** in each game: $[-2, 100000]$\n",
    "\n",
    "\n",
    "- The probability of getting a correct number is equally the same as:\n",
    "\n",
    "    $$p = \\frac{1}{10}$$\n",
    "\n",
    "- The probability of 'success' (getting 5 correct numbers in order):\n",
    "\n",
    "    $$p(\\text{success}) = (\\frac{1}{10})(\\frac{1}{10})(\\frac{1}{10})(\\frac{1}{10})(\\frac{1}{10})=10^{-5}=0.00001$$\n",
    "\n",
    "\n",
    "- Therefore, the probability of 'loss' is:\n",
    "\n",
    "    $$p(\\text{loss}) = 1-p(\\text{success}) = 1-0.00001 = 0.99999$$\n",
    "    \n",
    "Now we can compute **the expected value for each payout** ($x$) as follows:\n",
    "\n",
    "||$x$|$P(x)$|$EV=x*P(x)$|\n",
    "|:---|:---|:---|:---|\n",
    "|Loss|-2|0.99999|(-2)(0.99999)=-1.99998|\n",
    "|Success|100000|0.00001|(10000)(0.00001)=1|\n"
   ]
  },
  {
   "cell_type": "markdown",
   "metadata": {
    "id": "XVo9KR_n1E8J"
   },
   "source": [
    "# Continuous Random Variable\n",
    "\n",
    "## Definition\n",
    "\n",
    "A **continuous random variable** is one which takes an uncountable number of possible values in a line interval. Continuous random variables are usually <u>measurements</u>. \n",
    "\n",
    "For example, the length of time a commuter just arriving at a bus stop has to wait for the next bus. If buses run every 30 minutes without fail, then the set of possible values of $X$ is the interval denoted $[0,30]$, which could assume the values such as $0.002$, $3.2$ or $29.999$.\n",
    "\n",
    "\n",
    "\n",
    "\n",
    "## Continuous Probability\n",
    "\n",
    "The graph of a continuous probability distribution is a curve. Probability is represented by <u>area</u> under the curve. \n",
    "\n",
    "- The curve is called the **probability density function** (PDF), we use $f(x)$ to preresent the function. \n",
    "- **Area under the curve** is given by a different function called **cumulative distribution function** (CDF).\n",
    "\n",
    "\n",
    "## PDF\n",
    "\n",
    "### Definition\n",
    "\n",
    "A **probability density function** (PDF) describes the probability of the value of a continuous random variable falling within a range. If the random variable can only have specific values (like throwing dice), a **PMF** would be used to describe the probabilities of the outcomes:\n",
    "\n",
    "It's important to note that we estimate **PDF** value using the corresponding distribution $f(x)$ formula, which is contrary to **discrete probability function**, $f(x) \\neq P(X=x)$. Instead, $P(X=x)=0$, Therefore, we can observe the **PDF** $f(x)>1$ sometimes. Detailed explanation can be found [here](https://math.stackexchange.com/a/1720077)\n",
    "\n",
    "### PDF vs PMF"
   ]
  },
  {
   "cell_type": "code",
   "execution_count": null,
   "metadata": {
    "id": "5jhpbxAq1E8K",
    "outputId": "48f76d9f-6fb3-43cb-d446-687c011a4c8d"
   },
   "outputs": [
    {
     "data": {
      "image/png": "[encoded data removed]",
      "text/plain": [
       "<IPython.core.display.Image object>"
      ]
     },
     "execution_count": 2,
     "metadata": {
      "image/png": {
       "width": 500
      }
     },
     "output_type": "execute_result"
    }
   ],
   "source": [
    "display.Image('img/pdf_fx.png', width=500)"
   ]
  },
  {
   "cell_type": "markdown",
   "metadata": {
    "id": "97g1Lukh1E8K"
   },
   "source": [
    "### Histogram for PMF and PDF\n",
    "\n",
    "[Best explanation on difference among PMF, PDF and Continuous CDF (the probability)](https://www.allaboutcircuits.com/technical-articles/normal-distribution-understanding-histograms-probability/):\n",
    "\n",
    "Note the difference between the two names: \n",
    "- The y-axis of a **probability mass function** indicates the mass, as in the amount, of probability. \n",
    "- The y-axis of a **probability density function** indicates the density of probability relative to the x-axis; we have to integrate this density along the horizontal axis in order to generate an amount of probability:\n",
    "\n",
    " \n",
    "[histogram and desnity plot](https://towardsdatascience.com/histograms-and-density-plots-in-python-f6bda88f5ac0#:~:text=the%20density%20plot.-,Density%20Plots,-First%2C%20what%20is): the y-axis of a density plot is the PDF of x, how PDF differs from CDF (\"probability\")"
   ]
  },
  {
   "cell_type": "markdown",
   "metadata": {
    "id": "0OP3iRrq1E8K"
   },
   "source": [
    "## Continuous CDF\n",
    "\n",
    "\n",
    "### Definition \n",
    "\n",
    "The **CDF** for a **continuous random variable** is defined as \n",
    "\n",
    "\n",
    "$$F(x) = P(X\\leq x) = P(X<x)$$\n",
    "\n",
    "\n",
    "- which is calculated by integrating PDFs:\n",
    "\n",
    "$$\\boxed{F(x)=\\int_{-\\infty}^x f(x)dx}$$\n",
    "\n",
    "\n",
    "- The entire area under the curve is euqal to 1:\n",
    "\n",
    "   $$\\boxed{P(x \\in (-\\infty, \\infty) = \\int_{-\\infty}^{\\infty} f(x)dx = 1}$$\n",
    "   \n",
    "\n",
    "### Alternate Definition\n",
    "\n",
    "We can also use the following denotation:\n",
    "\n",
    "- The probability that the random variable $x$ will be in ther ange $a\\leq x\\leq b$ is give by:\n",
    "\n",
    "    $$\\boxed{P(a\\leq x\\leq b) = \\int_a^b f(x)dx}$$\n",
    "    \n",
    "\n",
    "- Note $P(a < x < b) = P(a\\leq x \\leq b)$, because probability is equal to area.\n",
    "\n",
    "\n",
    "\n",
    "## Expected Value and Variance\n",
    "\n",
    "The **expected value** and the **variance** have the same meaning as they do for the **discrete random variable**. Although, the continuous parameters use equations that are derived from integration.\n",
    "\n",
    "- **Expected value**: \n",
    "$$\\boxed{\\mu = \\int_{-\\infty}^{\\infty} x f(x) dx}$$\n",
    "\n",
    "- **variance**: \n",
    "$$\\boxed{\\sigma^2 = \\bigg(\\int_{-\\infty}^{\\infty} x^2 f(x) dx \\bigg)  - \\mu^2}$$\n",
    "\n",
    "where $f(x)$ is the density function of $X$  \n",
    "\n",
    "\n",
    "For details on how to derive the equations for above parameters:\n",
    "\n",
    "- [Expected value and variance of continous random variables](https://stats.libretexts.org/Courses/Saint_Mary's_College_Notre_Dame/MATH_345__-_Probability_(Kuter)/4%3A_Continuous_Random_Variables/4.2%3A_Expected_Value_and_Variance_of_Continuous_Random_Variables)\n",
    "\n",
    "- [Deriving Expected value and variance for continuous random variable using integrals (Geek's lesson) ](https://youtu.be/sbbYntt5CJk?t=24142)\n",
    "\n",
    "- [Deriving Expected value and variance for continuous random variable using integrals (JBstatistics)](https://www.youtube.com/watch?v=Ro7dayHU5DQ&list=PLvxOuBpazmsPDZGwqhhjE3KkLWnTD34R0&index=3)"
   ]
  },
  {
   "cell_type": "markdown",
   "metadata": {
    "id": "Mznzk0aG1E8L"
   },
   "source": [
    "## Important Continuous Distributions\n",
    "\n",
    "Well-known continuous distributions include:\n",
    "\n",
    "- Continuous uniform\n",
    "- Exponential (continuous form of **geometric**)\n",
    "- Normal distribution\n",
    "\n",
    "\n",
    "**Normal distribution** is very important in statical modeling, because the distribution of sample sums or means tend to **normal** due to **Central Limit Theorem**. \n",
    "\n",
    "*(Learn more with the notes on **Normal distribution**)*"
   ]
  }
 ],
 "metadata": {
  "colab": {
   "collapsed_sections": [],
   "name": "Probability_04a_Random_Variables.ipynb",
   "provenance": []
  },
  "kernelspec": {
   "display_name": "stat_notes",
   "language": "python",
   "name": "stat_notes"
  },
  "language_info": {
   "codemirror_mode": {
    "name": "ipython",
    "version": 3
   },
   "file_extension": ".py",
   "mimetype": "text/x-python",
   "name": "python",
   "nbconvert_exporter": "python",
   "pygments_lexer": "ipython3",
   "version": "3.9.12"
  },
  "toc": {
   "base_numbering": 1,
   "nav_menu": {},
   "number_sections": true,
   "sideBar": true,
   "skip_h1_title": false,
   "title_cell": "Table of Contents",
   "title_sidebar": "Contents",
   "toc_cell": false,
   "toc_position": {
    "height": "calc(100% - 180px)",
    "left": "10px",
    "top": "150px",
    "width": "256px"
   },
   "toc_section_display": false,
   "toc_window_display": true
  }
 },
 "nbformat": 4,
 "nbformat_minor": 5
}
