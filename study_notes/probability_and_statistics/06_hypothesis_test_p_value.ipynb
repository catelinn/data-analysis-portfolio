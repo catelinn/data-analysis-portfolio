{
 "cells": [
  {
   "cell_type": "code",
   "execution_count": 166,
   "metadata": {},
   "outputs": [],
   "source": [
    "import numpy as np\n",
    "import pandas as pd\n",
    "import matplotlib.pyplot as plt\n",
    "%matplotlib inline\n",
    "\n",
    "\n",
    "import seaborn as sns\n",
    "sns.set_theme() # Apply the default theme\n",
    "\n",
    "import math\n",
    "import scipy.stats as st\n",
    "import statsmodels.api as sm"
   ]
  },
  {
   "cell_type": "markdown",
   "metadata": {},
   "source": [
    "# P-value Definition\n",
    "\n",
    "\n",
    "<br>\n",
    "<div style=\"background-color:blue;color:white;padding:10px 10px 10px 10px\">\n",
    "<b>P-value</b> is used in the <u>null-hypothesis significance test setting</u>, it's the probability of obtaining test results at least as extreme as the result actually observed from an experiment, under the assumption that the null hypothesis ($H_0$) is true.  \n",
    "</div>\n",
    "\n",
    "Let's set aside how to interprete **p-value** for hypothesis test. We will examine what's included in a **p-value** first. By the above definition, **p-value** consists of 3 parts:\n",
    "\n",
    "- the probability of observing the event of interest;\n",
    "- the probability of observing the other event that is equally likely;\n",
    "- the probabilities of other events that are rarer than them.\n",
    "\n",
    "[statquest: p-values clearly explained](https://youtu.be/5Z9OIYA8He8)\n",
    "\n"
   ]
  },
  {
   "cell_type": "markdown",
   "metadata": {},
   "source": [
    "## P-value with Discrete Data\n",
    "\n",
    "### Fair Coin Example 1\n",
    "\n",
    "We will use a fair coin example to illustrate what is p-value for an observed result. \n",
    "\n",
    "Given we believe a coin is fair, i.e. the probability of getting heads is $p=0.5$. We can use random variable $X$ to model the number of heads out of $2$ tosses of this coin, which shall follow the **binomial probability distribution**: $X\\sim \\text{Bin}(n=2, p=0.5)$. \n",
    "\n",
    "Let's find out the <u>p-value for getting 2 Heads</u> after 2 tosses of this coin:\n",
    "\n",
    "- First, the number of all possible outcomes from tossing a coin 2 times is $2^2=4$, which includes:\n",
    "\n",
    "$$HH, HT, TH, TT$$\n",
    "\n",
    "- Then, the number of all possible outcome(s) that will have 2 heads is ${2 \\choose 2} = 1$, which includes:\n",
    "\n",
    "$$HH$$\n",
    "\n",
    "- Therefore, the <u>probability getting 2 Heads</u> is: \n",
    "\n",
    "$$\\frac{\\text{number of outcomes with 2H}}{\\text{Total number of outcomes}}=\\frac{1}{4}=0.25$$\n",
    "\n",
    "- Or, we can use **binomial pmf formula** to calculate the probability since $X\\sim Bin(n=2,p=0.5)$ :\n",
    "\n",
    "$$\\begin{split}\n",
    "P(X=x) &= {n\\choose x} p ^x (1-p)^{n-x}\\\\\n",
    "\\text{therefore}\\\\\n",
    "P(X=2) &= {2\\choose 2} 0.5 ^2 (1-0.5)^0= 0.25\n",
    "\\end{split}$$\n",
    "\n",
    "- Now, let's compute the <u>p-value for getting 2 Heads</u>, which shall include:\n",
    "    - The probability of getting 2 heads, $P(X=2)$, equals $0.25$;\n",
    "    - The probability of getting 2 tails is equivalent to probability of getting 0 heads: $P(X=0)$, because the binomial distribution is symmetric with $p=0.5$; $P(X=0)$ equals $0.25$\n",
    "    - $P(X < 0)$ and $P(X > 2)$ both equal $0$, because there is no more possible outcome rarer than getting 2 heads or 2 tails (0 heads)\n",
    "    - The total of the above probabilities is the p-value, which equals $0.25+0.25+0 = 0.5$\n",
    "\n",
    "\n",
    "### Symmetric Calculation with Equal Probability\n",
    "\n",
    "Note that with $p=0.5$, the binomial distribution will be symmetrical no matter how small $n$ is:\n",
    "\n",
    "$$P(X=x) = P(X=n-x) $$\n",
    "\n",
    "For example:\n",
    "- with $n=2$ tosses, the probability of getting $2$ heads is the same as getting $2$ tails, equivalent to getting $0$ heads. \n",
    "- with $n=4$ tosses, the probability of getting $1$ heads is the same as getting $1$ tails, equivalent to getting $3$ heads.\n",
    "\n",
    "Therefore, we can simplify the calculation as follows:\n",
    "\n",
    "$$\\boxed{\\text{p-value}= \\begin{cases}\n",
    "                 2\\cdot P(X\\leq x)\\text{, if x}<np\\\\\n",
    "                 2\\cdot P(X\\geq x)\\text{, if x}>np\\\\\n",
    "                 2\\cdot P(X\\geq x) - P(X=x)\\text{, if x=np}\n",
    "                 \\end{cases}}$$\n",
    "                 \n",
    "where $np$ is the **mean** of the **binomial distribution**.\n",
    "\n",
    "### Python implementation\n",
    "\n",
    "Let's use Python to compute the p-value and visualize the probability distribution of the above example. Note that Python `scipy` library provides `cdf` function to compute cumulative probability of $P(X\\leq x)$.\n",
    "\n",
    "Be encouraged to experiment with different $n$ and $x$ in the following code to understand the concept."
   ]
  },
  {
   "cell_type": "code",
   "execution_count": 213,
   "metadata": {},
   "outputs": [
    {
     "name": "stdout",
     "output_type": "stream",
     "text": [
      "Observed result: 2 heads out of 2 tosses\n",
      "Probability of the observed result: 0.250\n",
      "P-value, the probability of another result at least as extreme as the observed result: 0.500\n"
     ]
    },
    {
     "data": {
      "image/png": "[encoded data removed]",
      "text/plain": [
       "<Figure size 432x288 with 1 Axes>"
      ]
     },
     "metadata": {},
     "output_type": "display_data"
    },
    {
     "data": {
      "text/plain": [
       "0.5"
      ]
     },
     "execution_count": 213,
     "metadata": {},
     "output_type": "execute_result"
    }
   ],
   "source": [
    "# define a function to simulate the binomial distribution and compute p-value\n",
    "def symmetric_binom(n,p,x=0):\n",
    "    \n",
    "    binom = st.binom(n,p)\n",
    "    \n",
    "    print(f'Observed result: {x} heads out of {n} tosses')\n",
    "    \n",
    "    # the probability of getting x heads\n",
    "    print(f'Probability of the observed result: {binom.pmf(x):.3f}')\n",
    "\n",
    "    # compute the p-value\n",
    "    if x == n*p:\n",
    "        # if x == np, i.e. x and n-x are the same at the center of a symmetric distribution\n",
    "        # exclude either P(X=x) or P(X=n-x), which are duplicates to each other\n",
    "        # because cdf function is inclusive\n",
    "        pv = binom.cdf(min(x, n-x))*2 - binom.pmf(x)\n",
    "    else:\n",
    "        pv = binom.cdf(min(x, n-x))*2\n",
    "    print(f'P-value, the probability of another result at least as extreme as the observed result: {pv:.3f}')\n",
    "\n",
    "    # plot the histogram\n",
    "    rvs = binom.rvs(size=10000)\n",
    "    bars = sns.histplot(rvs,discrete=True, stat='probability').patches\n",
    "    plt.xticks(range(n+1), range(n+1))\n",
    "    plt.xlabel(f'X = number of heads after {n} tosses')\n",
    "    \n",
    "    # show the area of p-value\n",
    "    for i in range(len(bars)):\n",
    "        # bar x pos is in the middle point of bin (binwidth is 1 in this case), \n",
    "        # therefore, add 0.5 to the x pos\n",
    "        if bars[i].get_x()+.5 <=min(x, n-x) or bars[i].get_x()+.5 >=max(x, n-x):\n",
    "            bars[i].set_facecolor('salmon')\n",
    "    plt.show()\n",
    "    \n",
    "    # return p-value\n",
    "    return pv\n",
    "    \n",
    "\n",
    "\n",
    "# display the simulation of the example\n",
    "n, p=2, .5\n",
    "x=2\n",
    "symmetric_binom(n,p,x)"
   ]
  },
  {
   "cell_type": "markdown",
   "metadata": {},
   "source": [
    "### The P-value that Equals One\n",
    "\n",
    "Let's examine the following example. What is the p-value for getting 2 heads out of 4 tosses of a coin if it's fair?\n",
    "\n",
    "First, what's the probability of getting 2 heads out of 4 tosses? \n",
    "\n",
    "- it's $\\frac{\\text{number of outcomes that has 2 heads}}{\\text{total number of outcomes}}$, which can be calculated as: $\\frac{{4\\choose 2}}{2^{4}}=0.375$\n",
    "\n",
    "And then, the p-value for the above result includes:\n",
    "\n",
    "- the probability of getting 2 heads, $P(X=2)$;\n",
    "- the probability of getting 2 tails, which is the same as the probability of getting $4-2=2$ heads, i.e. $P(X=2)$; therefore, this probability is a duplicate that shall be excluded from p-value calculation;\n",
    "- the probability of rarer events: $P(X<2)$ or $P(X>2)$."
   ]
  },
  {
   "cell_type": "code",
   "execution_count": 214,
   "metadata": {},
   "outputs": [
    {
     "name": "stdout",
     "output_type": "stream",
     "text": [
      "Observed result: 2 heads out of 4 tosses\n",
      "Probability of the observed result: 0.375\n",
      "P-value, the probability of another result at least as extreme as the observed result: 1.000\n"
     ]
    },
    {
     "data": {
      "image/png": "[encoded data removed]",
      "text/plain": [
       "<Figure size 432x288 with 1 Axes>"
      ]
     },
     "metadata": {},
     "output_type": "display_data"
    },
    {
     "data": {
      "text/plain": [
       "0.9999999999999999"
      ]
     },
     "execution_count": 214,
     "metadata": {},
     "output_type": "execute_result"
    }
   ],
   "source": [
    "n, p=4, .5\n",
    "x=2\n",
    "symmetric_binom(n,p,x)"
   ]
  },
  {
   "cell_type": "markdown",
   "metadata": {},
   "source": [
    "As shown in the Python implementaion, the p-value equals $1$. It's because $2$ heads is expected out of $4$ tosses given $p =0.5$, which is the mean of the **symmetric binomial probability distribution**. The probability of observing another value at least or more extreme than the mean is $100\\%$, that means, it's \"absolutely likely\" to observe such result given the coin is fair.\n",
    "\n",
    "In contrast, if a test result is \"absolutely unlikely\" to happen, for example, getting 5 heads out of 4 tosses, the p-value will be $0$."
   ]
  },
  {
   "cell_type": "code",
   "execution_count": 202,
   "metadata": {},
   "outputs": [
    {
     "name": "stdout",
     "output_type": "stream",
     "text": [
      "Observed result: 5 heads out of 4 tosses\n",
      "Probability of the observed result: 0.000\n",
      "P-value, the probability of another result at least as extreme as the observed result: 0.000\n"
     ]
    },
    {
     "data": {
      "image/png": "[encoded data removed]",
      "text/plain": [
       "<Figure size 432x288 with 1 Axes>"
      ]
     },
     "metadata": {},
     "output_type": "display_data"
    },
    {
     "data": {
      "text/plain": [
       "0.0"
      ]
     },
     "execution_count": 202,
     "metadata": {},
     "output_type": "execute_result"
    }
   ],
   "source": [
    "n, p=4, .5\n",
    "x=5\n",
    "symmetric_binom(n,p,x)"
   ]
  },
  {
   "cell_type": "markdown",
   "metadata": {},
   "source": [
    "# P-value Interpretation\n",
    "\n",
    "We have covered what a p-value includes. However, what does it mean for hypothesis test? How do we interprete it?\n",
    "\n",
    "As mentioned above, **p-value** is the probability of obtaining another test result at least as extreme as the result actually observed from an experiment given the null hypothesis ($H_0$) is true. \n",
    "\n",
    "Let's drill down on what the definition implies:\n",
    "\n",
    "- Firstly, we will have <u>the probability distribution of all possible test results under the null hypothesis</u>; Since a test result is the summary statistic of the results of $n$ random samples, for example, the sum of heads after $n$ tosses of a coin, the probability distribution of test results are also called **\"sampling distribution of sample statistics\"**, the test result is also called the **sample statistic**. \n",
    "\n",
    "- And then p-value is computed for the observed test result on this distribution.\n",
    "\n",
    "- A very small **p-value** means that such an extreme observed result would be very unlikely under the **null hypothesis**\n",
    "\n",
    "In hypothesis test, we use $\\alpha$ as a threhold for significance, which is the **Type I error** probability we can accept. If p-value < $\\alpha$, it means the the observed result falls outside of the range of test results that would happen $(1-\\alpha)\\%$ of the time given $H_0$ is true. In other words, it's very rare to obtain such result if $H_0$ is true, which probability is samller than $\\alpha$. We can conclude that we have sufficient evidence to reject $H_0$ with $1-\\alpha\\%$ confidence. \n",
    "\n",
    "- For example, let $\\alpha=0.05$, if the p-value is smaller than $0.05$, the observed result falls outside of the data range that would happen $95\\%$ of time given $H_0$ is true. That is, we won't observe such test result 95% of times if $H_0$ is true. Therefore, we have sufficient evidence to reject the $H_0$."
   ]
  },
  {
   "cell_type": "markdown",
   "metadata": {},
   "source": [
    "## Fair Coin Test\n",
    "\n",
    "<br>\n",
    "<div style=\"border:1px black solid;padding:10px 10px 10px 10px\">\n",
    "Let's use the coin toss example again. Let's say we are tossing a coin on a computer. We don't know if the computerized coin toss is fair. We can, however, toss the coin on computer for 20 times to test if it's fair. If we have obtained 14 heads from this experiment. Can we conclude the computerized coin toss is fair or not?\n",
    "<br><br>\n",
    "    \n",
    "- We will have **null hypothesis** as \"the computerized coin toss is fair, i.e. the probability of getting heads is 0.5\":\n",
    "    $$H_0: p_0 = 0.5$$\n",
    "    \n",
    "- And, the **alternative hypothesis** as \"the computerized coin toss is not fair\", which will consider both head and tail sides (**two tailed test**):\n",
    "    $$H_a: p_a \\neq 0.5$$\n",
    "    \n",
    "  - if our concern is if heads is more or less favorable, we will conduct **one-tailed test** instead:\n",
    "    - $H_a: p_a > 0.5\\text{ (heads are more favorable)}$ or\n",
    "    - $H_a: p_a < 0.5\\text{ (heads are less favorable)}$\n",
    "    \n",
    "- Let $X$ be the sample statistics of interest, which is sample sum, representing \"the number of heads after 20 tosses\";\n",
    "- Let $\\alpha = 0.05$ as the signifiance level for this test;\n",
    "- The observed test result is \"14 heads after 20 tosses\";\n",
    "- Thus, we have the **binomial probability distribution of the sample statistics**: $X\\sim Bin(n=20, p=0.5)$ and and the observed sample statistic is $x=14$;\n",
    "- Thereby, we compute the **p-value** for obtaining a sample statistic at least as extreme as the observed one, given $H_0$ is true, as follows:\n",
    "    $$P(X\\leq 6) + P(X\\geq 14) = 0.115$$\n",
    "- Since the p-value is bigger than $\\alpha$, which is $0.05$, that means the observed result falls within the range of what would happen $95\\%$ of time given $H_0$ is true. Therfore, we don't have sufficient evidence to reject $H_0$, which assumes the coin is fair. \n",
    "    \n",
    "</div>"
   ]
  },
  {
   "cell_type": "code",
   "execution_count": 195,
   "metadata": {},
   "outputs": [
    {
     "name": "stdout",
     "output_type": "stream",
     "text": [
      "Observed result: 14 heads out of 20 tosses\n",
      "Probability of the observed result: 0.037\n",
      "P-value, the probability of another result at least as extreme as the observed result: 0.115\n"
     ]
    },
    {
     "data": {
      "image/png": "[encoded data removed]",
      "text/plain": [
       "<Figure size 432x288 with 1 Axes>"
      ]
     },
     "metadata": {},
     "output_type": "display_data"
    },
    {
     "name": "stdout",
     "output_type": "stream",
     "text": [
      "\n",
      "===Test result===\n",
      "Cannot reject null hypothesis\n"
     ]
    }
   ],
   "source": [
    "n, p=20, .5\n",
    "x=14\n",
    "pv = symmetric_binom(n,p,x)\n",
    "\n",
    "# hypothesis test result\n",
    "alpha = 0.05\n",
    "if pv < alpha:\n",
    "    print('\\n===Test result===\\nReject null hypothesis')\n",
    "else:\n",
    "    print('\\n===Test result===\\nCannot reject null hypothesis')"
   ]
  },
  {
   "cell_type": "markdown",
   "metadata": {},
   "source": [
    "Note that if we have observed one more head in the test result, i.e. $x=15$ instead, the p-value will be smaller than $0.05$. That means, we won't obtain a result at least as extreme as the observed $95\\%$ of time given $H_0$ is true. Therefore, we can reject $H_0$ that assumes the coin is fair at $95\\%$ confidence level."
   ]
  },
  {
   "cell_type": "code",
   "execution_count": 196,
   "metadata": {
    "scrolled": true
   },
   "outputs": [
    {
     "name": "stdout",
     "output_type": "stream",
     "text": [
      "Observed result: 15 heads out of 20 tosses\n",
      "Probability of the observed result: 0.015\n",
      "P-value, the probability of another result at least as extreme as the observed result: 0.041\n"
     ]
    },
    {
     "data": {
      "image/png": "[encoded data removed]",
      "text/plain": [
       "<Figure size 432x288 with 1 Axes>"
      ]
     },
     "metadata": {},
     "output_type": "display_data"
    },
    {
     "name": "stdout",
     "output_type": "stream",
     "text": [
      "\n",
      "===Test result===\n",
      "Reject null hypothesis\n"
     ]
    }
   ],
   "source": [
    "n, p=20, .5\n",
    "x=15\n",
    "pv = symmetric_binom(n,p,x)\n",
    "\n",
    "# hypothesis test result\n",
    "alpha = 0.05\n",
    "if pv < alpha:\n",
    "    print('\\n===Test result===\\nReject null hypothesis')\n",
    "else:\n",
    "    print('\\n===Test result===\\nCannot reject null hypothesis')"
   ]
  },
  {
   "cell_type": "markdown",
   "metadata": {},
   "source": [
    "# P-value using Standard Score\n",
    "\n",
    "\n",
    "## Unfair Coin Test\n",
    "\n",
    "Let's say we believe the computerized coin toss is more favorable to heads with $p=0.7$. Our null hypothesis is:\n",
    "\n",
    "$$H_0: p=0.7$$\n",
    "\n",
    "And our alternative hypothesis is that \"the probability of getting heads with the computerized coin toss is not the same as asummed\":\n",
    "\n",
    "$$H_a: p \\neq 0.7$$\n",
    "\n",
    "The unequal probabilities of heads and tails brings about two effects:\n",
    "1. the binomial distribution of $x$ heads obtained from $n$ tosses will be **skewed** when $n$ is small; and\n",
    "2. <u>\"the probability of getting $x$ heads\"</u> is not the same as <u>\"the probability of getting $x$ tails\"</u>, therefore, it's not the same as <u>\"the probability of getting $n-x$ heads\"</u> either. Therefore, we will approach the p-value calculation using a different approach than the one with the fair coin example.\n",
    "\n",
    "\n",
    "### Skewed Binomial Distribution with small $n$\n",
    "\n",
    "Let's see how the binomial distribution is skewed given the coin toss is as unfair as assumed:"
   ]
  },
  {
   "cell_type": "code",
   "execution_count": 197,
   "metadata": {},
   "outputs": [
    {
     "name": "stdout",
     "output_type": "stream",
     "text": [
      "observed result: 2 heads out of 4 tosses\n",
      "probability of the observed result: 0.265\n"
     ]
    },
    {
     "data": {
      "image/png": "[encoded data removed]",
      "text/plain": [
       "<Figure size 432x288 with 1 Axes>"
      ]
     },
     "metadata": {},
     "output_type": "display_data"
    }
   ],
   "source": [
    "n, p=4, .7\n",
    "x=2\n",
    "\n",
    "# the probability of getting x heads\n",
    "print(f'observed result: {x} heads out of {n} tosses')\n",
    "print(f'probability of the observed result: {st.binom(n,p).pmf(x):.3f}')\n",
    "\n",
    "# plot the histogram\n",
    "rvs = st.binom(n,p).rvs(size=10000)\n",
    "bars = sns.histplot(rvs,discrete=True, stat='probability').patches\n",
    "plt.xticks(range(n+1), range(n+1))\n",
    "plt.xlabel(f'X = number of heads after {n} tosses')\n",
    "plt.show()"
   ]
  },
  {
   "cell_type": "markdown",
   "metadata": {},
   "source": [
    "### Normal Approximation with Increased $n$\n",
    "\n",
    "However, as we know, **binomial distribution** will approach **normal distribution** with increased value of $np$. \n",
    "\n",
    "Let's say the experiment is done with tossing the computerized coin for 40 times and we have obtained 18 heads from an experiment. Now we have the binomial distribution with $n=40, p=0.7$. \n",
    "- With bigger $np$, the binomial distributioin is approximately close to normal; and \n",
    "- We expect there will be $40\\times 0.7=28$ heads out of 40 tosses, which is the mean of the distribution.\n",
    "\n",
    "Note that the general guideline for a binomial distribution to be approximately normal is:\n",
    "\n",
    "$$\\boxed{np \\geq 10\\text{ and }n(1-p)\\geq 10}$$\n",
    "\n",
    "The reasons for such guideline is:\n",
    "- Either the sample size $n$ should be large enough, or\n",
    "- The probability of success or failure should not be too far away from $0.5$."
   ]
  },
  {
   "cell_type": "code",
   "execution_count": 199,
   "metadata": {
    "scrolled": false
   },
   "outputs": [
    {
     "name": "stdout",
     "output_type": "stream",
     "text": [
      "observed result: 18 heads out of 40 tosses\n",
      "probability of the observed result: 0.001\n"
     ]
    },
    {
     "data": {
      "image/png": "[encoded data removed]",
      "text/plain": [
       "<Figure size 720x216 with 1 Axes>"
      ]
     },
     "metadata": {},
     "output_type": "display_data"
    }
   ],
   "source": [
    "n, p=40, .7\n",
    "x=18\n",
    "\n",
    "# the probability of getting x heads\n",
    "print(f'observed result: {x} heads out of {n} tosses')\n",
    "print(f'probability of the observed result: {st.binom(n,p).pmf(x):.3f}')\n",
    "\n",
    "# plot the histogram\n",
    "rvs = st.binom(n,p).rvs(size=10000)\n",
    "fig = plt.figure(figsize=(10, 3))\n",
    "bars = sns.histplot(rvs,discrete=True, stat='probability').patches\n",
    "plt.xticks(range(n+1), range(n+1))\n",
    "plt.xlabel(f'X = number of heads after {n} tosses')\n",
    "plt.show()"
   ]
  },
  {
   "cell_type": "markdown",
   "metadata": {},
   "source": [
    "### Compute the P-value for Skewed Distribution\n",
    "\n",
    "As mentioned earlier, given the probabilities of heads and tails are unequal, $P(X=x) \\neq P(X = n-x)$. So we should use a different approach to compute the **p-value**.\n",
    "\n",
    "If $np$ or $n(1-p)$ is too small and the distribution is skewed, we need to compute the probabilities of all the events involved one by one using the **binomial pmf** or **cdf** formulas to obtain the p-value.\n",
    "\n",
    "For example, what is the p-value for the observed result being \"getting 5 heads out of 10 tosses\" given the probability of getting heads is $p=0.7$?"
   ]
  },
  {
   "cell_type": "code",
   "execution_count": 228,
   "metadata": {},
   "outputs": [
    {
     "name": "stdout",
     "output_type": "stream",
     "text": [
      "observed result: 5 heads out of 10 tosses\n",
      "probability of the observed result: 0.1029\n",
      "\n",
      "P(X<=5):0.150\n",
      "P(X>=9),the cdf on other tail:0.149\n",
      "p-value: 0.300\n"
     ]
    },
    {
     "data": {
      "image/png": "[encoded data removed]",
      "text/plain": [
       "<Figure size 720x216 with 1 Axes>"
      ]
     },
     "metadata": {},
     "output_type": "display_data"
    }
   ],
   "source": [
    "def compute_pv_skewed(n,p,x):    \n",
    "    \n",
    "    # the probability of getting x heads\n",
    "    print(f'observed result: {x} heads out of {n} tosses')\n",
    "    print(f'probability of the observed result: {st.binom(n,p).pmf(x):.4f}')\n",
    "    \n",
    "    # compute the cumulative probabilities for both tailes\n",
    "    if x < n*p: \n",
    "        # compute P(X<=x)\n",
    "        cdf_1 = st.binom(n,p).cdf(x)\n",
    "        \n",
    "        # compute the cdf of the value on the opposite tail\n",
    "        for i in range(x, n+1):\n",
    "            if 1-st.binom(n,p).cdf(i)<=cdf_1:\n",
    "                cdf_2 = 1-st.binom(n,p).cdf(i)\n",
    "                break\n",
    "    else:\n",
    "        # compute P(X>=x)\n",
    "        cdf_1 = 1-st.binom(n,p).cdf(x)\n",
    "        \n",
    "        # compute the cdf of the value on the opposite tail\n",
    "        for i in range(x):\n",
    "            if st.binom(n,p).cdf(i)>=cdf_1:\n",
    "                cdf_2 = st.binom(n,p).cdf(i)\n",
    "                break\n",
    "                \n",
    "    # display the results\n",
    "    if x < n*p:\n",
    "        print(f'\\nP(X<={x}):{cdf_1:.3f}')\n",
    "        print(f'P(X>={i+1}),the cdf on other tail:{cdf_2:.3f}')\n",
    "    else:\n",
    "        print(f'P(X>={x}):{cdf_1:.3f}')\n",
    "        print(f'P(X<={i-1}),the cdf on other tail:{cdf_2:.3f}')\n",
    "\n",
    "    pv = cdf_1 + cdf_2\n",
    "    print(f'p-value: {pv:.3f}')\n",
    "\n",
    "    # plot the histogram\n",
    "    sim_data = st.binom(n,p).rvs(size=10000)\n",
    "    fig = plt.figure(figsize=(10, 3))\n",
    "    bars = sns.histplot(sim_data,discrete=True, stat='probability').patches\n",
    "    plt.xticks(range(n+1), range(n+1))\n",
    "    plt.xlabel(f'X = number of heads after {n} tosses')\n",
    "    plt.show()\n",
    "\n",
    "# compute pv for the example\n",
    "n, p, x=10, .7, 5\n",
    "compute_pv_skewed(n,p,x)"
   ]
  },
  {
   "cell_type": "markdown",
   "metadata": {},
   "source": [
    "Depending on the given distribution, the above mentioned approach could produce inaccurate p-value, for example, if our observed result is \"4 heads out of 10 tosses\". The cumulative probability for $x=4$ is $0.047$, however, there is no matching cumulative probability on the other tail, the closest one is $P(X\\geq 10)$, which is $0.028$. The p-value obtained by combining these two values is too vague for any meaningful conclusion."
   ]
  },
  {
   "cell_type": "code",
   "execution_count": 229,
   "metadata": {},
   "outputs": [
    {
     "name": "stdout",
     "output_type": "stream",
     "text": [
      "observed result: 4 heads out of 10 tosses\n",
      "probability of the observed result: 0.0368\n",
      "\n",
      "P(X<=4):0.047\n",
      "P(X>=10),the cdf on other tail:0.028\n",
      "p-value: 0.076\n"
     ]
    },
    {
     "data": {
      "image/png": "[encoded data removed]",
      "text/plain": [
       "<Figure size 720x216 with 1 Axes>"
      ]
     },
     "metadata": {},
     "output_type": "display_data"
    }
   ],
   "source": [
    "n,p,x = 10, .7, 4\n",
    "compute_pv_skewed(n,p,x)"
   ]
  },
  {
   "cell_type": "markdown",
   "metadata": {},
   "source": [
    "### Compute P-value with Normal Approximation\n",
    "\n",
    "As mentioned earlier, <b>if both $np$ and $n(1-p)$ are large enough, then the distribution is close to normal</b>. \n",
    "\n",
    "If that's the case, we can deduce that the event that is equally likely as the observed result shall be at the same distrance from the mean($\\mu$), therefore, this event is \"getting $\\mu+(\\mu-x)$ heads out of $n$ tosses\". \n",
    "\n",
    "For example, what is the p-value for \"getting 18 heads out of 40 tosses\" given the probability of getting heads is $p=0.7$. \n",
    "\n",
    "- Let $X$ be the sample sum, representing the number heads obtained after $n$ tosses;\n",
    "- If $p=0.7$, the expected number of $X$ is $np=40\\times0.7=28$;\n",
    "- Given $X$ is approximately normal, the probability of getting 18 heads is almost the same as getting $28+(28-18)=38$ heads. Thus, we can obtain the p-value, which equals $P(X\\leq 18) + P(X\\geq 38)$ \n",
    "\n",
    "\n",
    "##### Using Standard Score\n",
    "\n",
    "In statistics, we use the \"number of the standard deviation of the distribution\" to measure the distance of a data point ($x$) on a **normal distribution** from its mean $\\mu$, which is called **z score**. It's derived by standardizing a data point ($x$) on the normal distribution using the formula:\n",
    "\n",
    "$$\\boxed{z = \\frac{x-\\mu}{\\sigma}}$$\n",
    "\n",
    "The z-score is therefore a value on **standard normal distribution**. With z-score, it's easy to look up the cumulative probability of $P(X\\leq x)$ and $P(X\\geq x)$ using the probability table, which, in this case, is the [z-table](https://www.ztable.net/).\n",
    "\n",
    "Using our last example, we can convert the observed result, which is \"getting $18$ heads out of 40 tosses given the probability of getting heads is 0.7\", to a z-score with the **z-score formula**:\n",
    "- We have know known that  $\\mu = 40\\times 0.7 = 28$ and $x=18$, \n",
    "- but, what is the $\\sigma$?\n",
    "    \n",
    "##### The Standard Deviation of Sampling Distribution\n",
    "\n",
    "As aforementioned, the probability distribution of test results (or, sample statistics), is referred to as **sampling distribution of sample statistics**, given the null hypothesis is true. Therefore, when we compute the z-score of an observed result (or, a sample statistic), we shall use the **standard deviation of the sampling distribution**, which is also called the **standard error**. \n",
    "\n",
    "In our example, our sample statistic of interest is sum. Therefore, what we have is the **sampling distribution of sample sums** under the null hypothesis:\n",
    "\n",
    "$$\\boxed{n\\bar{X} \\sim N(n \\mu, \\sqrt{n}\\sigma) \\text{ as }n\\rightarrow \\infty}$$\n",
    "\n",
    "- where $\\mu$ is the population mean, $\\sigma$ is the population standard deviation and $n$ is the sample size.\n",
    "\n",
    "However, what is the **population distribution**? \n",
    "- It is \"2 only possible outcomes from a coin toss with the given probability of getting heads\": $X\\sim Bin(n=1, p=0.7)$\n",
    "- the population mean is: $\\mu = np = 1\\times 0.7 = 0.7$\n",
    "- the population standard deviation is: $\\sigma = \\sqrt{np(1-p)} = \\sqrt{1\\times0.7\\times0.3}=\\sqrt{0.21}\\approx 0.458$"
   ]
  },
  {
   "cell_type": "code",
   "execution_count": 230,
   "metadata": {},
   "outputs": [
    {
     "name": "stdout",
     "output_type": "stream",
     "text": [
      "mean: 0.7, std: 0.458\n"
     ]
    },
    {
     "data": {
      "image/png": "[encoded data removed]",
      "text/plain": [
       "<Figure size 432x288 with 1 Axes>"
      ]
     },
     "metadata": {},
     "output_type": "display_data"
    }
   ],
   "source": [
    "# Simulate the population distribution (n=1)\n",
    "n, p = 1, 0.7\n",
    "mu, std = st.binom(n,p).mean(), st.binom(n,p).std()\n",
    "print(f'mean: {mu}, std: {std:.3f}')\n",
    "\n",
    "# plot the histogram\n",
    "rvs = st.binom(n,p).rvs(size=10000)\n",
    "bars = sns.histplot(rvs,discrete=True, stat='probability').patches\n",
    "plt.xticks(range(n+1), range(n+1))\n",
    "plt.xlabel(f'X = number of heads after {n} tosses')\n",
    "plt.show()"
   ]
  },
  {
   "cell_type": "markdown",
   "metadata": {},
   "source": [
    "We can now compute the **mean and standard deviation of the sampling distribution of sums**, which is $n\\bar{X} \\sim N(n\\mu, \\sqrt{n}\\sigma)$, as follows:\n",
    "\n",
    "- the mean is: $n\\mu = 40\\times0.7 = 28$;\n",
    "- the **standard error** (standard deviation of sample sum) is: $\\sqrt{n}\\sigma = \\sqrt{40}\\times0.458\\approx 2.897$\n",
    "\n",
    "And then, we can convert sample statistic to **z-score** and compute the p-value:\n",
    "- the z-score: $\\frac{x-n\\mu}{\\sqrt{n}\\sigma} = \\frac{18-28}{2.897} = -3.452$\n",
    "- From [z-table](https://www.ztable.net/), the cumulative probability for $-3.452$ is approximately $0.00028$;\n",
    "- And, we can easily compute the cumulative probability on the other tail using the z-score on the other tail: $3.452$, which is approximately $1-0.99972 \\approx 0.00028$\n",
    "- So the p-value for observing at least as extreme as the observed result is $0.00028 \\times 2 = 0.00056$\n",
    "\n",
    "The p-value is smaller than $0.05$, that is, the chance of getting 18 heads out of 40 coin tosses or more extreme is very rare, given the hypothesized probability of getting heads is true. Therefore, we are 95% confident to reject the null hypothesis."
   ]
  },
  {
   "cell_type": "code",
   "execution_count": 243,
   "metadata": {
    "scrolled": true
   },
   "outputs": [
    {
     "name": "stdout",
     "output_type": "stream",
     "text": [
      "The observed result is 18 heads out of 40 tosses; Given the probability of getting heads is 0.7, we have:\n",
      "- z-score of the observed result: -3.450\n",
      "- the p-value for at least as extreme as the observed result (two side):0.00056\n"
     ]
    }
   ],
   "source": [
    "# compute the above using Python\n",
    "n, p = 40, .7\n",
    "x = 18\n",
    "\n",
    "# simulate the sampling distribution\n",
    "binom = st.binom(n, p)\n",
    "mu = binom.mean()\n",
    "std = binom.std()\n",
    "\n",
    "# convert to z-score\n",
    "z = (x-mu)/std\n",
    "\n",
    "# compute pv using z-score\n",
    "cdf_x = st.norm().cdf(z) # z-score is a value on standard normal distribution\n",
    "pv = 2*cdf_x\n",
    "\n",
    "# display the results\n",
    "print(f'The observed result is {x} heads out of {n} tosses; Given the probability of getting heads is {p}, we have:')\n",
    "print(f'- z-score of the observed result: {z:.3f}')\n",
    "print(f'- the p-value for at least as extreme as the observed result (two side):{pv:.5f}')"
   ]
  },
  {
   "cell_type": "markdown",
   "metadata": {},
   "source": [
    "### How about One-tail Test\n",
    "\n",
    "In the last example, what we do is a **two tailed test**, which p-value entails the probabilities from both sides (smaller or greather than the observed result) under the null hypothesis. \n",
    "\n",
    "How if our alternative hypothesis is \"the computerized coin toss is not as favorable to heads as assumed\" instead? \n",
    "\n",
    "- $H_a: p < 0.7$\n",
    "\n",
    "This becomes a **one tailed test**:\n",
    "\n",
    "- if \"$<$\" sign is involved, it's a **lower tailed test**; the **p-value** is the probability of observing a result that is smaller than the observed result: $P(X<x)$\n",
    "- if \"$>$\" sign is involved, it's a **upper tailed test**; the **p-value** is the probability of observing a result that is greater than the observed result: $P(X>x)$\n",
    "\n",
    "Again, if the **one tailed test** p-value is smaller than $\\alpha$, we don't have sufficient evidence to support the alternative hypothesis. Vice versa.\n",
    "\n",
    "Back to our example, wheres the alternative hypothesis is $H_a: p < 0.7$ and the observed test result is \"18 heads after 40 tosses\":\n",
    "- this is a **lower tailed test**\n",
    "- the p-value is $P(X\\leq 18)$, which is $0.00028$\n",
    "- since p-value is smaller than $0.05$, we don't have sufficient evidence to support the alternative hypothesis, which is $H_a: p < 0.7$. "
   ]
  },
  {
   "cell_type": "code",
   "execution_count": 244,
   "metadata": {},
   "outputs": [
    {
     "name": "stdout",
     "output_type": "stream",
     "text": [
      "The observed result is 18 heads out of 40 tosses; Given the probability of getting heads is 0.5, we have:\n",
      "- z-score of the observed result: -0.632\n",
      "- the p-value for at least as extreme as the observed result (one side):0.26354\n"
     ]
    }
   ],
   "source": [
    "# compute the above using Python\n",
    "n, p = 40, .5\n",
    "x = 18\n",
    "\n",
    "# simulate the sampling distribution\n",
    "binom = st.binom(n, p)\n",
    "mu = binom.mean()\n",
    "std = binom.std()\n",
    "\n",
    "# convert to z-score\n",
    "z = (x-mu)/std\n",
    "\n",
    "# compute pv using z-score\n",
    "cdf_x = st.norm().cdf(z) # z-score is a value on standard normal distribution\n",
    "pv = cdf_x\n",
    "\n",
    "# display the results\n",
    "print(f'The observed result is {x} heads out of {n} tosses; Given the probability of getting heads is {p}, we have:')\n",
    "print(f'- z-score of the observed result: {z:.3f}')\n",
    "print(f'- the p-value for at least as extreme as the observed result (one side):{pv:.5f}')"
   ]
  },
  {
   "cell_type": "markdown",
   "metadata": {},
   "source": [
    "# Sample Proportion Test using P-value\n",
    "\n",
    "Let's reuse the unfair coin test example where the hypothesized probability of getting heads is $p_0=0.7$. But this time the sample statistic of interest is not **sample sum**, but **sample proportion**, denoted as $\\hat{p}$, which is just the proportion of $\\frac{\\text{number of heads obtained}}{\\text{number of tosses}}$. \n",
    "\n",
    "For example, if we have obtained 55 heads after 100 tosses. We have obtained the **sample proportion** as $\\hat{p} = \\frac{55}{100}$. We will use $\\hat{p}$ to test if we should reject or accept $p_0 = 0.7$ with $\\alpha = 0.05$ as the significance level.\n",
    "\n",
    "- First, it's important to note that the **sampling distribution of sample proportion** is also approximate to normal distribution: $\\boxed{\\hat{P}\\sim N(np, \\sqrt{\\frac{p(1-p)}{n}})\\text{ as }n\\rightarrow \\infty}$;\n",
    "\n",
    "- We then compute the **standard error** of the sample proportion under the null hypothesis:\n",
    "\n",
    "$$\\sqrt{\\frac{p_0(1-p_0)}{n}} = \\sqrt{\\frac{0.7*0.3}{100}}\\approx 0.04583$$\n",
    "\n",
    "- And now we can convert the observed sample proportion, $\\hat{p}=\\frac{55}{100}$, to z-score, or **z statistic**:\n",
    "\n",
    "$$z = \\frac{\\hat{p}-p_0}{\\text{SE}(\\hat{p})} = \\frac{0.55 - 0.7}{0.04583} \\approx -3.273$$\n",
    "\n",
    "- Finally, the p-value is $P(Z\\leq z)\\times 2$ for **two tailed test**, which equals $0.001$. It's smaller than the $\\alpha$ we pick. That means, there is less than 5% of chance observing a result that is at least or more extreme given the null hypothesis is true. We are 95% confident that we have sufficient evidence to reject the null hypothesis, which is $p=0.7$. "
   ]
  },
  {
   "cell_type": "code",
   "execution_count": 251,
   "metadata": {},
   "outputs": [
    {
     "data": {
      "text/plain": [
       "0.00106412477573408"
      ]
     },
     "execution_count": 251,
     "metadata": {},
     "output_type": "execute_result"
    }
   ],
   "source": [
    "st.norm().cdf(-3.273) * 2"
   ]
  },
  {
   "cell_type": "markdown",
   "metadata": {},
   "source": [
    "# P-value with Continuous Data\n",
    "\n",
    "### Height Example\n",
    "\n"
   ]
  },
  {
   "cell_type": "code",
   "execution_count": null,
   "metadata": {},
   "outputs": [],
   "source": []
  },
  {
   "cell_type": "markdown",
   "metadata": {},
   "source": [
    "# What $\\alpha$ standard for\n",
    "\n",
    "It's for **Type I Error** we'd achieve for long run. "
   ]
  },
  {
   "cell_type": "markdown",
   "metadata": {},
   "source": [
    "# Takeaways\n",
    "\n",
    "\n",
    "1. When we compute p-value for discrete random variables, for example, count of successes after $n$ trials, we can use the following calculation if the probability distribution of the random variable is symmetrical: \n",
    "\n",
    "    - $\\boxed{\\text{p-value}= \\begin{cases}\n",
    "                 2\\cdot P(X\\leq x)\\text{, if x}<np\\\\\n",
    "                 2\\cdot P(X\\geq x)\\text{, if x}>np\\\\\n",
    "                 2\\cdot P(X\\geq x) - P(X=x)\\text{, if x=np}\n",
    "                 \\end{cases}}$\n",
    "                 \n",
    "       where $np$ is the **mean** of the **binomial distribution**; and $np\\geq 10\\text{ and }n(1-p)\\geq 10$\n",
    "       \n",
    "       \n",
    "2. If the probability distribution. of the discrete random variable is a binomial distribution, and it's not symmetrical, we need to compute the probabilities of all events ....\n",
    "\n",
    "\n",
    "3. When the discrete binomial distribution is approximately close to normal, we use z-score or z-statistic to compute the p-value, which is faster:\n",
    "\n",
    "$$z = \\frac{x-\\mu}{\\text{SE(sample statistic)}}$$\n",
    "\n",
    "so the p-value is\n",
    "\n",
    " - $\\boxed{\\text{p-value}= \\begin{cases}\n",
    "                 2\\cdot P(Z\\leq z)\\text{, if z<0}\\\\\n",
    "                 2\\cdot P(X\\geq z)\\text{, if z}>0\n",
    "                 \\end{cases}}$"
   ]
  },
  {
   "cell_type": "code",
   "execution_count": null,
   "metadata": {},
   "outputs": [],
   "source": []
  }
 ],
 "metadata": {
  "kernelspec": {
   "display_name": "stat_notes",
   "language": "python",
   "name": "stat_notes"
  },
  "language_info": {
   "codemirror_mode": {
    "name": "ipython",
    "version": 3
   },
   "file_extension": ".py",
   "mimetype": "text/x-python",
   "name": "python",
   "nbconvert_exporter": "python",
   "pygments_lexer": "ipython3",
   "version": "3.9.12"
  },
  "toc": {
   "base_numbering": 1,
   "nav_menu": {},
   "number_sections": true,
   "sideBar": true,
   "skip_h1_title": false,
   "title_cell": "Table of Contents",
   "title_sidebar": "Contents",
   "toc_cell": false,
   "toc_position": {
    "height": "calc(100% - 180px)",
    "left": "10px",
    "top": "150px",
    "width": "413px"
   },
   "toc_section_display": true,
   "toc_window_display": true
  }
 },
 "nbformat": 4,
 "nbformat_minor": 4
}
