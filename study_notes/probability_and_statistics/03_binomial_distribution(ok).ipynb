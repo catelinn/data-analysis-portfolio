{
 "cells": [
  {
   "cell_type": "code",
   "execution_count": 235,
   "metadata": {},
   "outputs": [],
   "source": [
    "import math\n",
    "import numpy as np\n",
    "import scipy.stats as st\n",
    "import matplotlib.pyplot as plt\n",
    "import seaborn as sns\n",
    "sns.set()"
   ]
  },
  {
   "cell_type": "markdown",
   "metadata": {},
   "source": [
    "# Bernoilli Distribution\n",
    "\n",
    "\n",
    "**Definition**\n",
    "\n",
    "A random variable with only two possible outcomes $X=\\{0,1\\}$ follows a **Bernoulli distribution** with success probabiity parameter $p$ and failure probability $1-p$.\n",
    "\n",
    "---------------------------------------------------------------\n",
    "\n",
    "\n",
    "### Bernoulli Probability (PMF)\n",
    "\n",
    "Recall that **probability mass function** provides the probability of each element of the sample space. \n",
    "\n",
    "For a Bernoulli random variable, there are only two outcomes, from this, the probability mass function is\n",
    "\n",
    "$$\\boxed{P(X=x) = \\begin{cases}\n",
    "            &p &\\  x=1\\\\\n",
    "            &1-p &\\ x=0\\\\\n",
    "            &0 &\\ Otherwise\n",
    "            \\end{cases}}\n",
    "$$\n",
    "\n",
    "This can be also written as the following:\n",
    "\n",
    "$$\\boxed{P(X=x) = p^x (1-p)^{1-x}}$$\n",
    "\n"
   ]
  },
  {
   "cell_type": "markdown",
   "metadata": {},
   "source": [
    "### Bernoulli Expected Value\n",
    "\n",
    "$$\\begin{split}\n",
    "E(X) &:= \\sum_{x\\in S} x P(X=x) \\\\\n",
    "&= 0(1-p) + 1(p)\\\\\n",
    "&= \\boxed{p}\n",
    "\\end{split}\n",
    "$$\n",
    "\n",
    "### Bernoulli Variance\n",
    "\n",
    "$$\\begin{split}\n",
    "V(X) &:= \\sum_{x\\in S}(x-\\mu)^2 P(X=x)\\\\\n",
    "&= (0-p)^2 (1-p) + (1-p)^2 p\\\\\n",
    "&= pp(1-p) + p(1-p)(1-p)\\\\\n",
    "&= p(1-p)(p+(1+p)\\\\\n",
    "&= \\boxed{p(1-p)}\n",
    "\\end{split}\n",
    "$$"
   ]
  },
  {
   "cell_type": "markdown",
   "metadata": {},
   "source": [
    "### Bernoulli CDF\n",
    "\n",
    "The **cumulative distribution function** (CDF) is the function defined as $F(x) = P(X \\leq x)$. For a Bernoulli variable, the CDF is\n",
    "\n",
    "$$P(X \\leq x) = \\begin{cases}\n",
    "                &1 &\\ 1\\leq x\\\\\n",
    "                &1-p &\\ 0\\leq x < 1\\\\\n",
    "                &0 &\\ x<0\n",
    "                \\end{cases}    \n",
    "$$"
   ]
  },
  {
   "cell_type": "markdown",
   "metadata": {},
   "source": [
    "### Bernoilli Median\n",
    "\n",
    "Recall the median depends on the distribution parameter, $p$, the rule to calculate the median is to start low and calculate the cumulative probability until the sum is at least $.5$.\n",
    "\n",
    "$$\\tilde{X} = \\begin{cases}\n",
    "              &0 &\\ p< .5\\\\\n",
    "              &[0, 1] &\\ p=.5\\\\\n",
    "              &1 &\\ p>.5\n",
    "              \\end{cases}\n",
    "$$\n",
    "\n",
    "That is, with only 2 possible outcomes, i.e. $x = 0, 1$ \n",
    "- $\\tilde{X}=1$ if the parameter $p < 0.5$\n",
    "- $\\tilde{X}=[0,1]$ if the parameter $p = 0.5$\n",
    "- $\\tilde{X}=[1]$ if the parameter $p > 0.5$\n"
   ]
  },
  {
   "cell_type": "markdown",
   "metadata": {},
   "source": [
    "# Binomial Distribution\n",
    "\n",
    "------------------------------------------------------------\n",
    "\n",
    "### Definition\n",
    "\n",
    "A **Binomial Random Variable (X)** counts the number of successes in $n$ **random independent** **Bernoulli trials**, each trail has only 2 possible outcomes such as **success** (with probability $p$) or **failure** (with probability $q = 1 − p$). \n",
    "\n",
    "The **Binomial distribution** is therefore denoted as:\n",
    "\n",
    "<div style=\"background-color: blue; color: white; padding: 20px 20px 20px 20px\">Let $X_i \\sim Bern(p)$ and $Y = \\sum_{i=1}^n X_i$, then $Y \\sim Bin(n,p)$</div>\n",
    "\n",
    "Note that\n",
    "- **Bernoulli distribution** is a special case of **Binomial distribution** with size $n=1$; and\n",
    "- **Binomial distribution** is the sum of $n$ **Bernoulli distribution**\n",
    " \n",
    "--------------------------------------------------------------\n",
    "\n",
    "A **Binomial random variable** needs to meet the following requirements:\n",
    "\n",
    "1. The number of trials, $n$ is known;\n",
    "\n",
    "2. each trial has two possible outcomes (Bernoulli);\n",
    "\n",
    "3. the success probability $p$, is constant from trial to trial;\n",
    "\n",
    "4. the trials are independent:\n",
    "    - e.g. everytime after we flip a coin, we won't change the coin to something else that leads to the probability of getting Head or Tail changing, no matter how many flips $n$, the flips are all independent\n",
    "    - another example is, we want to model the number of exactly 2 yellow balls out of 4 randomly selected balls from a pool where the proportion (probability) of yellow balls is $0.4$. Everytime we draw a ball, regardless of the color, we will return it to the pool so it might be drawn again. This way, the probability of getting a yellow ball from the pool remains constant.\n",
    "    \n",
    "5. the random variable is the number of successes with sample space defined as $S = \\{0,1,..., n\\}$\n",
    "\n",
    "\n",
    "### Binomial Probability (PMF)\n",
    "\n",
    "The [**probability mass function** (PMF)](https://en.wikipedia.org/wiki/Probability_mass_function) associated with the binomial distribution is as follows:\n",
    "\n",
    "$$\\boxed{P(X=k) = {n \\choose k} p^k (1-p)^{n-k}}$$\n",
    "\n",
    "The formula can be understood as follows: \n",
    "- $k$ successes occur with probability $p^k$ and \n",
    "- $n-k$ failures occur with probability $(1−p)^{n-k}$.\n",
    "- However, the $k$ successes can occur anywhere among the $n$ trials, and there are ${n\\choose k}$ different ways of having $k$ successes in a sequence of $n$ trials. Actually, this is also called the **bonimial coefficient**, pronounced as \"**n choose x**\": \n",
    "\n",
    "$${n \\choose x} = C^n_x = \\frac{n!}{x!(n-x)!}$$"
   ]
  },
  {
   "cell_type": "markdown",
   "metadata": {},
   "source": [
    "#### All Possible Ways for Exactly $k$ Successes\n",
    "\n",
    "Let's use the following example to understand the **binomial coefficient**, the number of unique combinations having exactly $k$ successes in $n$ trials. \n",
    "\n",
    "For example, we want to count how many ways of getting exactly 3 heads out of 5 tosses, that is $n=5$ and $k=3$.\n",
    "\n",
    "1. Because after obtaining a head, we will have 1 less chance for another head to occur, so it's picked **without repetition**: \n",
    "    - For the 1st head ($H_1$), it could happen in any of the 5 tosses;\n",
    "    - for the 2nd head ($H_2$), it could happen in any of the remaining 4 tosses;\n",
    "    - for the 3rd head ($H_3$), it could happen in any of the remaining 3 tosses;\n",
    "    - Combining the above, we have $5\\times 4 \\times 3$ possible arrangements. \n",
    "\n",
    "\n",
    "2. However, the above result has overlaps, for example, the following arragements have 3 heads in the same positions, they are differeent in the orders of getting the heads though. \n",
    "\n",
    "$$\\underline{H_1}\\ \\underline{H_2}\\ \\underline{H_3}\\ \\underline{}\\ \\underline{}$$\n",
    "$$\\underline{H_1}\\ \\underline{H_3}\\ \\underline{H_2}\\ \\underline{}\\ \\underline{}$$\n",
    "$$\\underline{H_2}\\ \\underline{H_1}\\ \\underline{H_3}\\ \\underline{}\\ \\underline{}$$\n",
    "\n",
    "As we don't care about the order of getting which head first, we need to remove the duplicates by dividing the result by the number of ways of arranging 3 heads in different order, which is $3!$. Therefore, the number of all possible ways of getting exactly 3 heads in 5 coin flips as follows:\n",
    "$$\\frac{5 \\times 4 \\times 3}{3!} = \\frac{5!}{3!(5-3)!} $$\n",
    "    \n",
    "    \n",
    "In summary, the above counting method is for the **combination without repetition**. \n",
    "\n",
    "$$\\boxed{{n \\choose x} = \\frac{n!}{(n-x)!x!}}$$\n"
   ]
  },
  {
   "cell_type": "markdown",
   "metadata": {},
   "source": [
    "### Binomial vs Hypergeometric\n",
    "\n",
    "The **binomial distribution** is frequently used to model the number of successes in a sample of size $n$ drawn **with replacement** from a population of size $N$. If the sampling is carried out **without replacement**, the draws are **not independent** and so the resulting distribution is a **hypergeometric distribution**, not a **binomial one**, which will cause the **standard error** of the sample statistic overestimated. \n",
    "- We can use the **finite population correction (FPC) factor** $\\sqrt{\\frac{N-n}{N-1}}$ to adjust the overestimated **standard error**;\n",
    "- However, for N much larger than n, general guideline is $\\frac{n}{N} \\leq 5\\%$, the binomial distribution remains a good approximation, and is widely used.\n",
    "\n",
    "More details is covered in the study note for \"sampling distribution for proportion\"."
   ]
  },
  {
   "cell_type": "markdown",
   "metadata": {},
   "source": [
    "### Binomial Expected Value\n",
    "\n",
    "-----\n",
    "Remember a **Binomial Random Variable** is the sum of $n$ **Bernoulli trials** $B(p)$:\n",
    "\n",
    "Let $X_i \\sim B(p)$ and $Y = \\sum_{i=1}^n X_i$, then $Y \\sim Bin(n,p)$\n",
    "\n",
    "-----\n",
    "\n",
    "With this defintion, the expected value is\n",
    "\n",
    "$$\\begin{split}\n",
    "E(Y) &= E(\\sum_{i=1}^n X_i)\\\\\n",
    "&= \\sum_{i=1}^n E(X_i)\\\\\n",
    "&= \\sum_{i=1}^n p\\\\\n",
    "&= \\boxed{n\\cdot p}\n",
    "\\end{split}$$"
   ]
  },
  {
   "cell_type": "markdown",
   "metadata": {},
   "source": [
    "### Binomial Variance\n",
    "\n",
    "We can do the same thing with variance\n",
    "\n",
    "$$\\begin{split}\n",
    "V(Y) &= V(\\sum_{i=1}^n X_i)\\\\\n",
    "&= \\sum_{i=1}^n V(X_i)\\\\\n",
    "&= \\sum_{i=1}^n p(1-p)\\\\\n",
    "&= \\boxed{n\\cdot p(1-p)}\n",
    "\\end{split}$$"
   ]
  },
  {
   "cell_type": "markdown",
   "metadata": {
    "jp-MarkdownHeadingCollapsed": true,
    "tags": []
   },
   "source": [
    "### Binomial CDF\n",
    "\n",
    "The formula for the binomial cumulative probability function, $F(X) = P(X\\leq x)$, is\n",
    "\n",
    "$$\\boxed{P(X \\leq x) = \\sum_{i=1}^x {n\\choose i} p^i (1-p)^{x-i}}$$\n",
    "\n",
    "Meanwhile, the probability of $P(X > x)$ is\n",
    "\n",
    "$$\\boxed{P(X > x) = 1 - P(X\\leq x)}$$\n",
    "\n",
    "\n",
    "For example, to calculate the probability of getting 3 or fewer heads in 10 flips of coin, $P(X \\leq 3)$:\n",
    "\n",
    "- $P(X \\leq 3) = P(X=0) + P(X=1) + P(X=2) + P(X=3)$\n",
    "- then we solve $P(X=0)$, $P(X=1)$, $P(X=2)$, $P(X=3)$ using **binomial pmf** formula respectively.\n",
    "\n",
    "If we'd know the probability of getting at least 3 heads in 10 flips of coin instead: $P(X > 3) = 1 - P(X \\leq 3)$\n",
    "\n"
   ]
  },
  {
   "cell_type": "markdown",
   "metadata": {
    "tags": [],
    "toc-hr-collapsed": true
   },
   "source": [
    "# Simulation of Binomial Distribution\n",
    "\n",
    "\n",
    "First, let's simulate the probability histogram of obtaining 1 from rolling a fair dice, which success probability is theorectically $p=1/6$, and the failure probability is $1-p=5/6$. \n",
    "\n",
    "To simulate the theorectical probability (population), we need to run the experiment for many times to achieve closeness to the population distribution. "
   ]
  },
  {
   "cell_type": "code",
   "execution_count": 232,
   "metadata": {
    "scrolled": true
   },
   "outputs": [
    {
     "data": {
      "image/png": "[encoded data removed]",
      "text/plain": [
       "<Figure size 432x288 with 1 Axes>"
      ]
     },
     "metadata": {},
     "output_type": "display_data"
    }
   ],
   "source": [
    "# Bernoulli distribution: probability of getting 1 from rolling a dice\n",
    "n, p, k = 1, 1/6, 10000\n",
    "rvs = np.random.binomial(n, p, k)\n",
    "sns.histplot(rvs, discrete=True, stat='probability')\n",
    "plt.xticks([0,1], ['Not one', 'One'])\n",
    "plt.show()"
   ]
  },
  {
   "cell_type": "markdown",
   "metadata": {},
   "source": [
    "Let's plot the probability distribution of obtaining \"1\" from rolling a fair dice 10 times, and then repeat this experiment for many times to simulate the population of the **Binomial distribution** $X\\sim Bin(n=10, p=1/6)$"
   ]
  },
  {
   "cell_type": "code",
   "execution_count": 10,
   "metadata": {},
   "outputs": [
    {
     "data": {
      "image/png": "[encoded data removed]",
      "text/plain": [
       "<Figure size 576x720 with 2 Axes>"
      ]
     },
     "metadata": {
      "needs_background": "light"
     },
     "output_type": "display_data"
    }
   ],
   "source": [
    "# Binomial distribution: probabilities of x numbers of 1s from rolling 10 dices\n",
    "n = 10\n",
    "tests = np.random.binomial(n, p, k)\n",
    "fig, ax = plt.subplots(2, figsize=(8, 10))\n",
    "\n",
    "# set up bins, edges and labels for xticks\n",
    "# with the mean, sigma of the binomial distribution\n",
    "# it's assumed that the minimum successful trial is 0\n",
    "# and the maximum successful trial is mean + 5*sigma - that shall cover more than 99.99%, \n",
    "# as the probability of rolling six for a number outside of mean + 5 sigma is very very rare\n",
    "mu, sigma = tests.mean(), tests.std()\n",
    "bins = [x for x in range(0, m.ceil(mu+5*sigma))]\n",
    "edges = [x+.5 for x in bins]\n",
    "xtlabels = [str(x) for x in bins]\n",
    "\n",
    "# plot the pdf of x \n",
    "# from x=0, i.e. getting 0 six,\n",
    "# to \n",
    "ax[0].hist(tests, density=True, bins=bins, ec='black')\n",
    "ax[0].set_xticks(edges)\n",
    "ax[0].set_xticklabels(xtlabels, rotation=60)\n",
    "ax[0].set_title(f'PDF of Binomial Distribution (n={n}, p={p:.3f})')\n",
    "\n",
    "# plot the cdf of x\n",
    "ax[1].hist(tests, density=True, bins=bins, cumulative = True, fc='green', ec='black')\n",
    "ax[1].set_xticks(edges)\n",
    "ax[1].set_xticklabels(xtlabels, rotation=60)\n",
    "ax[1].set_title(f'CDF of Binomial Distribution (n={n}, p={p:.3f})')\n",
    "ax[1].set_xlabel(f'''sample mu={mu:.2f}, sigma={sigma:.2f}''')\n",
    "\n",
    "\n",
    "plt.show()"
   ]
  },
  {
   "cell_type": "markdown",
   "metadata": {},
   "source": [
    "# Normal Approximation to Binomial\n",
    "\n",
    "As shown above, With $p = 1/6$, the distribution of rolling $x$ number of six in 20 rolls isn't normal. However, with CLT applied, if we increase the number of samples $n$, we shall be able to have \"the distribution of the sample mean\" (which is a **sampling distribution**) approach a **normal distribution**.\n",
    "\n",
    "The rule of thumb for using **Normal Approximation** for binomial is:\n",
    "\n",
    "- Traditinally, both $np \\geq 5$ and $n(1-p) \\geq 5$ \n",
    "- In mordern textbooks, it's often required that both $np \\geq 10$ and $n(1-p)\\geq 10$\n",
    "\n",
    "\n",
    "Let's visualize how **binomial distribution** with large enough $np$ and $n(1-p)$ will tend to **Normal distribution**:"
   ]
  },
  {
   "cell_type": "code",
   "execution_count": 11,
   "metadata": {
    "scrolled": true
   },
   "outputs": [
    {
     "data": {
      "image/png": "[encoded data removed]",
      "text/plain": [
       "<Figure size 576x720 with 2 Axes>"
      ]
     },
     "metadata": {
      "needs_background": "light"
     },
     "output_type": "display_data"
    }
   ],
   "source": [
    "# increase n to 100 for the rolling dice example\n",
    "n, p, k = 100, 1/6, 1000\n",
    "tests = np.random.binomial(n,p,k)\n",
    "fig, ax = plt.subplots(2, figsize=(8, 10))\n",
    "\n",
    "# setting up bins, edges, labels\n",
    "mu, sigma = tests.mean(), tests.std()\n",
    "bins = [x for x in range(0, m.floor(mu+5*sigma))]\n",
    "edges = [x+.5 for x in bins]\n",
    "xtlabels = [str(x) for x in bins]\n",
    "\n",
    "# plot the pdf of x \n",
    "ax[0].hist(tests, density=True, bins=bins, ec='black')\n",
    "ax[0].set_xticks(edges)\n",
    "ax[0].set_xticklabels(xtlabels, rotation=60)\n",
    "ax[0].set_title(f'PDF of Binomial Distribution (n={n}, p={p:.3f})')\n",
    "\n",
    "# plot the cdf of x\n",
    "ax[1].hist(tests, density=True, bins=bins, cumulative = True, fc='green', ec='black')\n",
    "ax[1].set_xticks(edges)\n",
    "ax[1].set_xticklabels(xtlabels, rotation=60)\n",
    "ax[1].set_title(f'CDF of Binomial Distribution (n={n}, p={p:.3f})')\n",
    "ax[1].set_xlabel(f'''sample mu={mu:.2f}, sigma={sigma:.2f}''')\n",
    "\n",
    "plt.show()"
   ]
  },
  {
   "cell_type": "markdown",
   "metadata": {},
   "source": [
    "### Continuity Correction\n",
    "\n",
    "A **continuity correction factor** is used when you use a continuous probability distribution to approximate a discrete probability distribution. Typically, when we do a normal approximation to a binomial distribution.\n",
    "\n",
    "\n",
    "#### What is the problem?\n",
    "\n",
    "For example, a population has 15% of people that smokes. Suppose we want to compute the probability of observing $49, 50 \\text{ or } 51$ smokers in 400 randomly sampled people:\n",
    "- The distribution of the number of smokers in 400 samples will be a binomial distribution and;\n",
    "- $n=400, p=.15$;\n",
    "- now, we'd solve the probability of $P(k=49, k=50\\text{ or }k=51)$ \n",
    "\n",
    "\n",
    "Let's try solving the probability using:\n",
    "\n",
    "##### 1. Binomial distribution $f(x)$ or $P(X=k)$ formula:\n",
    "\n",
    "$$\\begin{split}\n",
    "&P(k=49, k=50, k=51)\\\\ \n",
    "&= P(49) + P(50) + P(51)\\\\\n",
    "&= {400 \\choose 49}.15^{49}(1-.15)^{400-49}+{400 \\choose 50}.15^{50}(1-.15)^{400-50}+{400 \\choose 51}.15^{51}(1-.15)^{400-51}\\\\\n",
    "&\\approx 0.0649\n",
    "\\end{split}\n",
    "$$"
   ]
  },
  {
   "cell_type": "code",
   "execution_count": 52,
   "metadata": {},
   "outputs": [
    {
     "data": {
      "text/plain": [
       "0.0649"
      ]
     },
     "execution_count": 52,
     "metadata": {},
     "output_type": "execute_result"
    }
   ],
   "source": [
    "def coef(n, k):\n",
    "    return math.factorial(n)/(math.factorial(n-k)*math.factorial(k))\n",
    "\n",
    "def binp(n,k,p):\n",
    "    return coef(n,k)*p**k*(1-p)**(n-k)\n",
    "    \n",
    "round(binp(400, 49, .15)+binp(400, 50, .15)+binp(400, 51, .15), 4)"
   ]
  },
  {
   "cell_type": "markdown",
   "metadata": {},
   "source": [
    "##### 2. Normal approximation $F(x)$ or CDF formula:\n",
    "\n",
    "The normal approximation has parameters corresponding to those of the binomial distribution:\n",
    "\n",
    "- $\\mu = np = 400\\times .15 = 60$\n",
    "- $\\sigma = \\sqrt{np(1-p)} = \\sqrt{400\\times .15(1-.15)}\\approx 7.14$\n",
    "\n",
    "Therefore, we can calculate Z scores of $X=49$ and $X=51$, and then calculate the CDF probabiility in between:"
   ]
  },
  {
   "cell_type": "code",
   "execution_count": 67,
   "metadata": {},
   "outputs": [
    {
     "data": {
      "text/plain": [
       "0.042"
      ]
     },
     "execution_count": 67,
     "metadata": {},
     "output_type": "execute_result"
    }
   ],
   "source": [
    "z_49 = (49-60)/7.14\n",
    "z_51 = (51-60)/7.14\n",
    "round(st.norm.cdf(z_51)-st.norm.cdf(x=z_49), 4)"
   ]
  },
  {
   "cell_type": "code",
   "execution_count": 243,
   "metadata": {
    "scrolled": true
   },
   "outputs": [
    {
     "data": {
      "image/png": "[encoded data removed]",
      "text/plain": [
       "<Figure size 720x216 with 1 Axes>"
      ]
     },
     "metadata": {},
     "output_type": "display_data"
    }
   ],
   "source": [
    "# Let's simulate the binomial distribution\n",
    "rvs = np.random.binomial(400, .15, size=100000)\n",
    "\n",
    "# Plot both binomial (the histogram) and the normal approximation to the curve (kde curve)\n",
    "# to visualize the differece between areas of\n",
    "# 1. the PMF of binomial bars where X=49, X=50 and X=51;\n",
    "# 2. the cumulative probability between X=49 and X=51 under the normal curve\n",
    "#==============================================================\n",
    "\n",
    "fig = plt.figure(figsize=(10, 3))\n",
    "\n",
    "# plot as discrete dist with 100 bins, the binwidth will be 1\n",
    "ax = sns.histplot(rvs, bins=100, kde=True, discrete=True, stat='probability')\n",
    "\n",
    "# shade the binomial probabilities of X=49, 50 or 51\n",
    "patches = ax.patches\n",
    "for p in patches:\n",
    "    # because histogram bar x-axis  \n",
    "    if p.get_x()+.5 in [49, 50, 51]:\n",
    "        p.set_color('green')\n",
    "\n",
    "# plot the lines to show the area between X=49 and X=51 under normal curve\n",
    "ax.axvline(x=49, c='red', linestyle='--')\n",
    "ax.axvline(x=51, c='red', linestyle='--')\n",
    "plt.show()"
   ]
  },
  {
   "attachments": {},
   "cell_type": "markdown",
   "metadata": {},
   "source": [
    "#### Solution\n",
    "\n",
    "It's observed that the original binomial probabilities (bars) are bigger than the normal approximation area. Actually the area under the curve is about 0.5 units slimer on both sides of the interval. \n",
    "\n",
    "- To adjust the difference, we can use **continuity correction factor**, which is around $0.5$. We should subtract $0.5$ from the left side of the discrete $x$ value and add $0.5$ to the right side of the discrete $x$ value, and then use the adjusted values to find the adjusted area under the normal curve. \n",
    "\n",
    "\n",
    "\n",
    "|Discrete|Continuous|\n",
    "|:---|:---|\n",
    "|$$P(X = c)$$|$$P(c-0.5 < X < c+0.5)$$|\n",
    "|$$P(X \\geq c)$$|$$P(X > c-0.5)$$|\n",
    "|$$P(X \\leq c)$$|$$P(X < c+0.5)$$|\n",
    "|$$P(X < c)$$|$$P(X < c-0.5)$$|\n",
    "|$$P(X > c)$$|$$P(X >c+0.5)$$|\n",
    "\n",
    "\n",
    "- In the above example, we will adjust the following Z-scores with adjusted values:"
   ]
  },
  {
   "cell_type": "code",
   "execution_count": 239,
   "metadata": {},
   "outputs": [
    {
     "data": {
      "text/plain": [
       "0.06330100053290308"
      ]
     },
     "execution_count": 239,
     "metadata": {},
     "output_type": "execute_result"
    }
   ],
   "source": [
    "z_49 = ((49-0.5)-60)/7.14\n",
    "z_51 = ((51+0.5)-60)/7.14\n",
    "st.norm.cdf(z_51)-st.norm.cdf(x=z_49)"
   ]
  },
  {
   "cell_type": "markdown",
   "metadata": {},
   "source": [
    "Now the adjusted area from **normal curve approximation** is almost the same as the original **binomial cumulative probability**."
   ]
  },
  {
   "cell_type": "markdown",
   "metadata": {},
   "source": [
    "# Multinomial Distribution\n",
    "\n",
    "https://www.britannica.com/science/multinomial-distribution\n",
    "\n",
    "A **multinomial distribution** involves a process that has a set of $k$ possible multually exclusive outcomes ($X_1, X_2, ...X_k$) with associated probabilities ($p_1, p_2...p_k$) such that $\\sum p_i = 1$. \n",
    "\n",
    "Then, for $n$ repeated trials of the process, let $x_i$ indicates the number of times that the result $X_i$ occurs, which is subject to $0 \\leq x_i \\leq n$ and $\\sum x_i = n$\n",
    "\n",
    "With this notation, the joint PDF of **Multinomial Distribution** is given by:\n",
    "\n",
    "$$P(X_1 = x_1, X_2 = x_2, ...X_k=x_k) = \\frac{n!}{x_1!x_2!...x_k!} p_1^{x_1}p_2^{x_2}...p_k^{x_k}$$\n",
    "\n",
    "\n",
    "\n",
    "\n",
    "### Multinomial vs Binomial\n",
    "\n",
    "- The **Multinomial distribution** is a generalization of the **Binomial distribution**, as it admits two or more than two outcomes. \n",
    "- Although processes involving multinomial distribution can be studied using the **Binomial dsitribution** by focusing on one outcome of interest and combining all of the other outcomes into one category (simplying the distribution to 2 outcomes), **Multinomial distribution** is more useful when all of the outcomes are of interest."
   ]
  },
  {
   "cell_type": "markdown",
   "metadata": {},
   "source": [
    "# References\n",
    "\n",
    "\n",
    "https://stattrek.com/probability-distributions/binomial.aspx\n",
    "\n",
    "http://www.stat.yale.edu/Courses/1997-98/101/binom.htm"
   ]
  }
 ],
 "metadata": {
  "kernelspec": {
   "display_name": "stat_notes",
   "language": "python",
   "name": "stat_notes"
  },
  "language_info": {
   "codemirror_mode": {
    "name": "ipython",
    "version": 3
   },
   "file_extension": ".py",
   "mimetype": "text/x-python",
   "name": "python",
   "nbconvert_exporter": "python",
   "pygments_lexer": "ipython3",
   "version": "3.9.6"
  },
  "toc": {
   "base_numbering": 1,
   "nav_menu": {},
   "number_sections": true,
   "sideBar": true,
   "skip_h1_title": false,
   "title_cell": "Table of Contents",
   "title_sidebar": "Contents",
   "toc_cell": false,
   "toc_position": {
    "height": "calc(100% - 180px)",
    "left": "10px",
    "top": "150px",
    "width": "293.719px"
   },
   "toc_section_display": true,
   "toc_window_display": true
  }
 },
 "nbformat": 4,
 "nbformat_minor": 5
}
