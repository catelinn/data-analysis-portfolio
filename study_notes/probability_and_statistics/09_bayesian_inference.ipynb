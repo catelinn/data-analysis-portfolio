{
 "cells": [
  {
   "cell_type": "markdown",
   "metadata": {},
   "source": [
    "# References\n",
    "\n",
    "1. [Bayesian statistic for beginners](https://www.analyticsvidhya.com/blog/2016/06/bayesian-statistics-beginners-simple-english/#h2_7): how frequentist method different from Bayesian? Why there is inherent flaw in frequentist method? Good illustration of **conditional probability**\n",
    "    \n",
    "    \n",
    "2. Quantstart - Bayesian Statistics Series:\n",
    "    - [Part 1: The Beginner Guide](https://www.quantstart.com/articles/Bayesian-Statistics-A-Beginners-Guide/): Visualize the probability distribution of **prior probability** with Python\n",
    "\n",
    "    - [Part 2: Bayesian Inference for a Binomial Proportion](https://www.quantstart.com/articles/Bayesian-Inference-of-a-Binomial-Proportion-The-Analytical-Approach/): Explain all components for the **posterior probability formula** and how to conduct the Bayesian inference for a binomial proportion, with **conjurate priors** that can be calculated in closed-form.\n",
    "\n",
    "    - [Part 3: Markov Chain Monte Carlo for Baysian Inference](https://www.quantstart.com/articles/Markov-Chain-Monte-Carlo-for-Bayesian-Inference-The-Metropolis-Algorithm/): Discuss how to use **Markov Chain Monte Carlo** to approximate the posterior distribution when **conjurate priors** are not applicable.\n",
    "    \n",
    "    \n",
    "3. [Bayesian interfence intuition and example by Aerin Kim (one of my favoriate Medium authors)](https://towardsdatascience.com/bayesian-inference-intuition-and-example-148fd8fb95d6): Concepts and formulas clearly explained in simple language.\n",
    "\n",
    "\n",
    "4. StatQuest Series on Maximum Likelihood Estimation (MLE):\n",
    "    - [1. Maximum likelihood Explained ](https://www.youtube.com/watch?v=XepXtl9YKwc)\n",
    "    - [2. Probability is not Likelihood](https://www.youtube.com/watch?v=pYxNSUDSFH4):\n",
    "    - [3. Maximum Likelihood for Binomial Distribution](https://www.youtube.com/watch?v=4KKV9yZCoM4): How to solve for the maximum likelihood estimate (MLE) for p when we have data for x and n: $L(p|n,x)$, which is just $p=\\frac{x}{n}$\n",
    "\n",
    "\n",
    "4. [3Blue1Brown - Bayes's Rule](https://www.youtube.com/watch?v=HZGCoVF3YvM)"
   ]
  },
  {
   "cell_type": "markdown",
   "metadata": {},
   "source": [
    "# Refresher on Bayes Theorem\n",
    "\n",
    "<img src=\"../img/venn_diagram_condiational.jpeg\" width=300>\n",
    "\n",
    "In the above diagram, Set A represents one set of events and Set B represents another. We wish to calculate the probability of A given B has already happened. \n",
    "\n",
    "- Blue area: $P(A \\cap B)$\n",
    "- Red + Blue area : $P(B)$\n",
    "- No color + Blue area: $P(A)$\n",
    "\n",
    "Now since B has happened, the part which now matters for A is the part shaded in blue: \n",
    "\n",
    "$$P(A\\cap B)$$\n",
    "\n",
    "Therefore, the probability of A given B is:\n",
    "\n",
    "$$P(A|B) = \\frac{P(A\\cap B)}{P(B)}$$\n",
    "\n",
    "Similarly, we can rewrite it as:\n",
    "\n",
    "$$P(B|A) = \\frac{P(A\\cap B)}{P(A)}$$\n",
    "\n",
    "Since we have:\n",
    "\n",
    "$$P(A\\cap B) = P(B|A) P(A) = P(A|B) P(B)$$\n",
    "\n",
    "We can derive the following equations:\n",
    "\n",
    "$$\\boxed{P(A|B) = \\frac{P(B|A)P(A)}{P(B)}}$$\n",
    "\n",
    "and \n",
    "\n",
    "$$\\boxed{P(B|A) = \\frac{P(A|B)P(B)}{P(A)}}$$\n",
    "\n"
   ]
  },
  {
   "cell_type": "markdown",
   "metadata": {},
   "source": [
    "# What is Baysian Inference"
   ]
  },
  {
   "attachments": {},
   "cell_type": "markdown",
   "metadata": {},
   "source": [
    "# Components\n",
    "\n",
    "\n",
    "## Prior Probability $P(\\theta)$\n",
    "\n",
    "It can be also considered as the probability a **hypothesis** is true (before any **evidence**): $P(H)$\n",
    "\n",
    "\n",
    "## Maximum Likelihood Estimate for $P(X|\\theta)$\n",
    "\n",
    "Probability of seeing the **evidence** if the **hypothesis** is true.\n",
    "\n",
    "<img src=\"../img/prob_vs_likelihood.png\" width=500>\n",
    "\n",
    "\n",
    "## Calculate the Posterior Probability $P(\\theta|X)$\n",
    "\n",
    "$$P(\\theta|X$$"
   ]
  },
  {
   "cell_type": "code",
   "execution_count": null,
   "metadata": {},
   "outputs": [],
   "source": []
  }
 ],
 "metadata": {
  "kernelspec": {
   "display_name": "stat_notes",
   "language": "python",
   "name": "stat_notes"
  },
  "language_info": {
   "codemirror_mode": {
    "name": "ipython",
    "version": 3
   },
   "file_extension": ".py",
   "mimetype": "text/x-python",
   "name": "python",
   "nbconvert_exporter": "python",
   "pygments_lexer": "ipython3",
   "version": "3.9.12"
  },
  "toc": {
   "base_numbering": 1,
   "nav_menu": {},
   "number_sections": true,
   "sideBar": true,
   "skip_h1_title": false,
   "title_cell": "Table of Contents",
   "title_sidebar": "Contents",
   "toc_cell": false,
   "toc_position": {},
   "toc_section_display": true,
   "toc_window_display": false
  }
 },
 "nbformat": 4,
 "nbformat_minor": 4
}
