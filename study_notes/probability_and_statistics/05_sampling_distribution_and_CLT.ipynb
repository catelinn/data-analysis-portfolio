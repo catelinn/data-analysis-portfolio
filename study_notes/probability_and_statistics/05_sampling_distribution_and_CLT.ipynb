{
 "cells": [
  {
   "cell_type": "markdown",
   "metadata": {
    "id": "ONsXKviu8AIo",
    "toc": true
   },
   "source": [
    "<h1>Table of Contents<span class=\"tocSkip\"></span></h1>\n",
    "<div class=\"toc\"><ul class=\"toc-item\"><li><span><a href=\"#Parameter-and-Sample-Statistic\" data-toc-modified-id=\"Parameter-and-Sample-Statistic-1\"><span class=\"toc-item-num\">1&nbsp;&nbsp;</span>Parameter and Sample Statistic</a></span></li><li><span><a href=\"#Sampling-Distribution\" data-toc-modified-id=\"Sampling-Distribution-2\"><span class=\"toc-item-num\">2&nbsp;&nbsp;</span>Sampling Distribution</a></span><ul class=\"toc-item\"><li><span><a href=\"#Definition\" data-toc-modified-id=\"Definition-2.1\"><span class=\"toc-item-num\">2.1&nbsp;&nbsp;</span>Definition</a></span></li><li><span><a href=\"#Population-Size-of-Sample-Statistics\" data-toc-modified-id=\"Population-Size-of-Sample-Statistics-2.2\"><span class=\"toc-item-num\">2.2&nbsp;&nbsp;</span>Population Size of Sample Statistics</a></span></li><li><span><a href=\"#Expected-Value-and-Standard-Error\" data-toc-modified-id=\"Expected-Value-and-Standard-Error-2.3\"><span class=\"toc-item-num\">2.3&nbsp;&nbsp;</span>Expected Value and Standard Error</a></span><ul class=\"toc-item\"><li><span><a href=\"#Definitions\" data-toc-modified-id=\"Definitions-2.3.1\"><span class=\"toc-item-num\">2.3.1&nbsp;&nbsp;</span>Definitions</a></span></li><li><span><a href=\"#EV-and-SE-of-Sample-Mean\" data-toc-modified-id=\"EV-and-SE-of-Sample-Mean-2.3.2\"><span class=\"toc-item-num\">2.3.2&nbsp;&nbsp;</span>EV and SE of Sample Mean</a></span></li><li><span><a href=\"#EV-and-SE-of-Other-Statistics\" data-toc-modified-id=\"EV-and-SE-of-Other-Statistics-2.3.3\"><span class=\"toc-item-num\">2.3.3&nbsp;&nbsp;</span>EV and SE of Other Statistics</a></span></li><li><span><a href=\"#SE-for-Sampling-without-Replacement\" data-toc-modified-id=\"SE-for-Sampling-without-Replacement-2.3.4\"><span class=\"toc-item-num\">2.3.4&nbsp;&nbsp;</span>SE for Sampling without Replacement</a></span><ul class=\"toc-item\"><li><span><a href=\"#Sampling-with-replacement\" data-toc-modified-id=\"Sampling-with-replacement-2.3.4.1\"><span class=\"toc-item-num\">2.3.4.1&nbsp;&nbsp;</span>Sampling with replacement</a></span></li><li><span><a href=\"#Sampling-without-Replacement\" data-toc-modified-id=\"Sampling-without-Replacement-2.3.4.2\"><span class=\"toc-item-num\">2.3.4.2&nbsp;&nbsp;</span>Sampling without Replacement</a></span></li><li><span><a href=\"#The-FPC-Factor\" data-toc-modified-id=\"The-FPC-Factor-2.3.4.3\"><span class=\"toc-item-num\">2.3.4.3&nbsp;&nbsp;</span>The FPC Factor</a></span></li></ul></li></ul></li></ul></li><li><span><a href=\"#Types-of-Histograms\" data-toc-modified-id=\"Types-of-Histograms-3\"><span class=\"toc-item-num\">3&nbsp;&nbsp;</span>Types of Histograms</a></span><ul class=\"toc-item\"><li><span><a href=\"#1.-Theorectical-Probability-(Population)\" data-toc-modified-id=\"1.-Theorectical-Probability-(Population)-3.1\"><span class=\"toc-item-num\">3.1&nbsp;&nbsp;</span>1. Theorectical Probability (Population)</a></span></li><li><span><a href=\"#2.--Empirical-Data-Distribution\" data-toc-modified-id=\"2.--Empirical-Data-Distribution-3.2\"><span class=\"toc-item-num\">3.2&nbsp;&nbsp;</span>2.  Empirical Data Distribution</a></span></li><li><span><a href=\"#3.-Sampling-Distribution\" data-toc-modified-id=\"3.-Sampling-Distribution-3.3\"><span class=\"toc-item-num\">3.3&nbsp;&nbsp;</span>3. Sampling Distribution</a></span></li></ul></li><li><span><a href=\"#The-Central-Limit-Theorem\" data-toc-modified-id=\"The-Central-Limit-Theorem-4\"><span class=\"toc-item-num\">4&nbsp;&nbsp;</span>The <strong>Central Limit Theorem</strong></a></span><ul class=\"toc-item\"><li><span><a href=\"#Requirements-for-CLT\" data-toc-modified-id=\"Requirements-for-CLT-4.1\"><span class=\"toc-item-num\">4.1&nbsp;&nbsp;</span>Requirements for CLT</a></span></li><li><span><a href=\"#Definition\" data-toc-modified-id=\"Definition-4.2\"><span class=\"toc-item-num\">4.2&nbsp;&nbsp;</span>Definition</a></span><ul class=\"toc-item\"><li><span><a href=\"#CLT-with-Sample-Mean\" data-toc-modified-id=\"CLT-with-Sample-Mean-4.2.1\"><span class=\"toc-item-num\">4.2.1&nbsp;&nbsp;</span>CLT with Sample Mean</a></span></li><li><span><a href=\"#CLT-with-Sample-Sum\" data-toc-modified-id=\"CLT-with-Sample-Sum-4.2.2\"><span class=\"toc-item-num\">4.2.2&nbsp;&nbsp;</span>CLT with Sample Sum</a></span></li><li><span><a href=\"#CLT-with-Sample-Proportion\" data-toc-modified-id=\"CLT-with-Sample-Proportion-4.2.3\"><span class=\"toc-item-num\">4.2.3&nbsp;&nbsp;</span>CLT with Sample Proportion</a></span></li><li><span><a href=\"#Other-Sample-Statistics-that-work-with-CLT\" data-toc-modified-id=\"Other-Sample-Statistics-that-work-with-CLT-4.2.4\"><span class=\"toc-item-num\">4.2.4&nbsp;&nbsp;</span>Other Sample Statistics that work with CLT</a></span></li></ul></li><li><span><a href=\"#CLT-Properties\" data-toc-modified-id=\"CLT-Properties-4.3\"><span class=\"toc-item-num\">4.3&nbsp;&nbsp;</span>CLT Properties</a></span><ul class=\"toc-item\"><li><ul class=\"toc-item\"><li><span><a href=\"#Smaller-Variance-for-Sampling-Distribution:\" data-toc-modified-id=\"Smaller-Variance-for-Sampling-Distribution:-4.3.0.1\"><span class=\"toc-item-num\">4.3.0.1&nbsp;&nbsp;</span>Smaller Variance for Sampling Distribution:</a></span></li><li><span><a href=\"#More-normal-the-data,-more-normal-the-sampling-distribution\" data-toc-modified-id=\"More-normal-the-data,-more-normal-the-sampling-distribution-4.3.0.2\"><span class=\"toc-item-num\">4.3.0.2&nbsp;&nbsp;</span>More normal the data, more normal the sampling distribution</a></span></li><li><span><a href=\"#More-normal-the-data,-faster-for-sampling-distriubution-to-converge\" data-toc-modified-id=\"More-normal-the-data,-faster-for-sampling-distriubution-to-converge-4.3.0.3\"><span class=\"toc-item-num\">4.3.0.3&nbsp;&nbsp;</span>More normal the data, faster for sampling distriubution to converge</a></span></li></ul></li></ul></li></ul></li><li><span><a href=\"#References\" data-toc-modified-id=\"References-5\"><span class=\"toc-item-num\">5&nbsp;&nbsp;</span>References</a></span></li></ul></div>"
   ]
  },
  {
   "cell_type": "code",
   "execution_count": 1,
   "metadata": {
    "executionInfo": {
     "elapsed": 750,
     "status": "ok",
     "timestamp": 1654668670381,
     "user": {
      "displayName": "Catelinn X",
      "userId": "04332785691882296815"
     },
     "user_tz": 420
    },
    "id": "J5EnkTj0ZAFt"
   },
   "outputs": [],
   "source": [
    "import numpy as np\n",
    "import pandas as pd\n",
    "import matplotlib.pyplot as plt\n",
    "import seaborn as sns\n",
    "%matplotlib inline\n",
    "sns.set_theme()\n",
    "sns.set(font_scale=1)\n",
    "\n",
    "import math\n",
    "import scipy.stats as stat\n",
    "from IPython.display import Image"
   ]
  },
  {
   "cell_type": "code",
   "execution_count": 2,
   "metadata": {
    "colab": {
     "base_uri": "https://localhost:8080/",
     "height": 297
    },
    "executionInfo": {
     "elapsed": 20069,
     "status": "error",
     "timestamp": 1654668690436,
     "user": {
      "displayName": "Catelinn X",
      "userId": "04332785691882296815"
     },
     "user_tz": 420
    },
    "id": "y65ChCHdeKQZ",
    "outputId": "353d3690-3891-4c99-a3ee-dade68a19ae9"
   },
   "outputs": [
    {
     "name": "stdout",
     "output_type": "stream",
     "text": [
      "Not running on CoLab\n"
     ]
    }
   ],
   "source": [
    "'''Run the following if the notebook is opened using Google Colab'''\n",
    "\n",
    "if 'google.colab' in str(get_ipython()):    \n",
    "    print('Running on CoLab')\n",
    "    \n",
    "    # mount to drive\n",
    "    from google.colab import drive\n",
    "    drive.mount('/content/drive')\n",
    "    \n",
    "    # go to project directory\n",
    "    import os\n",
    "    root = 'drive/MyDrive/Colab Notebooks/'\n",
    "    project_dir ='00_data_analysis/00_Probability_and_distributions/Notes/02-Inferential Statistics'\n",
    "    os.chdir(root+project_dir)\n",
    "    print(os.getcwd())\n",
    "\n",
    "else:\n",
    "    print('Not running on CoLab')"
   ]
  },
  {
   "cell_type": "markdown",
   "metadata": {
    "id": "wYlcsj01ikeW"
   },
   "source": [
    "# Parameter and Sample Statistic\n",
    "\n",
    "A **parameter** is a quantity of interest about the **population**.\n",
    "\n",
    "A **statistic** is the quantity of interest as measured in the **sample**, which is used to **estimate the population parameter**.\n",
    "\n",
    "The most common **parameters** and corresponding **sample statistics**:\n",
    "\n",
    "|Parameter|Sample Statistic|Description|\n",
    "|:---:|:---:|:---|\n",
    "|$$\\mu$$|$\\overline{x}$ or $\\hat{\\mu}$|The mean|\n",
    "|$\\pi$ or $p$|$\\hat{\\pi}$ or $\\hat{p}$|The mean of a dataset with only 0 and 1 values - a proportion|\n",
    "|$$\\mu_1 - \\mu_2$$|$$\\overline{x_1}-\\overline{x_2}$$|The difference in means|\n",
    "|$$\\pi_1 - \\pi_2$$|$$p_1-p_2$$|The difference in proportions|\n",
    "|$\\beta$|$b$ or $\\hat{\\beta}$|A regression coefficient - frequency used with subscripts\"|\n",
    "|$\\sigma$|$s$|The standard deviation|\n",
    "|$\\sigma^2$|$s^2$|The variance|\n",
    "|$p$|$r$|The correlation coefficient|||\n"
   ]
  },
  {
   "cell_type": "markdown",
   "metadata": {
    "id": "8_RD2TF6ZAFz"
   },
   "source": [
    "# Sampling Distribution\n",
    "\n"
   ]
  },
  {
   "cell_type": "markdown",
   "metadata": {
    "id": "JihMoUyPuiAr"
   },
   "source": [
    "## Definition\n",
    "<br>\n",
    "<div style=\"background-color: blue; color: white; padding: 20px 20px 20px 20px\">   \n",
    "The \"sampling distribution of a statistic\" is a probability distribution of the sample statistic when repeated trials of size $n$ are randomly taken from a given population</div>"
   ]
  },
  {
   "cell_type": "markdown",
   "metadata": {
    "id": "JvV9nQi88AIw"
   },
   "source": [
    "## Population Size of Sample Statistics \n",
    "\n",
    "\n",
    "If the sample statistic is obtained from a **finite discrete population distribution**, the random variable of the statistic includes the statistic of **all possible samples from the same population of a given sample size**.\n",
    "\n",
    "<br>\n",
    "<div style=\"border:1px dotted black; padding:15px 15px 15px 15px\">\n",
    "For example, we sample 3 students' ages from a 6-students group and calculate the mean $\\bar{x}$ repeatedly. Let $\\bar{X}$ be the random variable of the sample means. The <b>population</b>  of $\\bar{X}$is \"<b>all sample means obtained from picking $r$ independent samples from $n$ elements in the popultion</b>\", which can be calculated as follows:\n",
    "\n",
    "- In random sampling, it's a common practice to consider a combination differ from one another with different order of the same element being picked, therefore, we will use <b>permutation</b> formula to count the combinations;\n",
    "\n",
    "- Also, sampling is usually done <b>with replacement</b> so that each sample picked are <b>independent</b>, that is, the probability of being picked is not changed by the result of the previous trial. \n",
    "    \n",
    "- The **population size of sample mean** ($N_{\\bar{x}}$) can be computed with the <b>permutation with repetition</b> formula of \"choose $r$ items from $n$ elements\":\n",
    "\n",
    "$$\\boxed{N_{\\bar{x}} = P_r^n = n^r}$$\n",
    "\n",
    "\n",
    "- So there are totally possible $P_3^6 = 6^3 = 216$ combinations of 3 students' age samples, and 216 sample means derived from them.\n",
    "    \n",
    "    \n",
    "- Note that \"the number of samples means\" is the <b>population size</b>, it's not the <b>sample space</b> of sample means. The <b>sample space</b> shall include only the unique sample means. \n",
    "</div>"
   ]
  },
  {
   "cell_type": "code",
   "execution_count": null,
   "metadata": {
    "id": "NjFRH6jP8AIw",
    "outputId": "eb9c6ad3-30f3-451d-ff54-752d7288fbbe"
   },
   "outputs": [
    {
     "name": "stdout",
     "output_type": "stream",
     "text": [
      "all ages in the population: [33 27 28 20 19 32]\n",
      "population size of sample statistic (formula): 216\n",
      "population size of sample statistic (simulated): 216\n"
     ]
    }
   ],
   "source": [
    "# n elements in the original population and picking r elements\n",
    "n, r = 6, 3\n",
    "\n",
    "# generate a population of 6 student ages\n",
    "# the reason I use `replace=False` to make the values distinct\n",
    "# is if there are repeated values for 2 ages, \n",
    "# then later when I count the number of all possible combinations with \n",
    "# the simulated results using `np.unique()`, the function will ignore \n",
    "# the combinations of 2 ages that have the same values, which won't return\n",
    "# the number of all possible combinations as returned by the counting formula\n",
    "X = np.random.choice(range(18,35), replace=False, size=n) \n",
    "\n",
    "# Population size of the sample means with counting formula\n",
    "N_formula = n**r\n",
    "\n",
    "# Population size for the sample means from simulation \n",
    "N_simulated = len(np.unique(np.random.choice(X, size=(10000, r)), axis=0))\n",
    "\n",
    "# display results\n",
    "print(f'all ages in the population: {X}')\n",
    "print(f'population size of sample statistic (formula): {N_formula}')\n",
    "print(f'population size of sample statistic (simulated): {N_simulated}')"
   ]
  },
  {
   "cell_type": "markdown",
   "metadata": {
    "id": "LZlG3ppSikea"
   },
   "source": [
    "## Expected Value and Standard Error\n",
    "\n",
    "\n",
    "### Definitions\n",
    "\n",
    "\n",
    "##### Expected Value\n",
    "\n",
    "<br>\n",
    "<div style=\"background-color: blue; color: white; padding: 20px 20px 20px 20px\">The <b>expected value</b> of a sample statistic is the same as the <b>expected value</b> of an observation from the population</div>\n",
    "\n",
    "For example, if the **expected value** of a sample mean ($\\bar{x_n}$) shall the same as the **expected value** of an observation ($x$) drawn from the population:\n",
    "\n",
    "$$E(\\bar{x_n}) =E(x)=\\mu$$"
   ]
  },
  {
   "cell_type": "markdown",
   "metadata": {
    "id": "VWteU1HVuj8y"
   },
   "source": [
    "\n",
    "##### Standard Error\n",
    "\n",
    "<br>\n",
    "<div style=\"background-color: blue; color: white; padding: 20px 20px 20px 20px\">The \"standard error\", or \"sampling error\" of a statistic, results from using a sample statistics to estimate a population statistic. It is the standard deviation of the distribution of sample statistics.\n",
    "    \n",
    "<br>\n",
    "    \n",
    "It tells how far off a sample statistic will be from population parameter with certain probability\n",
    "</div> \n"
   ]
  },
  {
   "cell_type": "markdown",
   "metadata": {
    "id": "a00iS6w1ikea"
   },
   "source": [
    "\n",
    "### EV and SE of Sample Mean\n",
    "\n",
    "\n",
    "\n",
    "<br>\n",
    "<div style=\"border:1px dotted black; padding:15px 15px 15px 15px\">\n",
    "        \n",
    "Say, we'd like to estimate the average height of adult men in the US. It's difficult to evaluate the whole population as there are 120 millions adult men in the US, but it can be <i>estimated</i> quite well with a relatively small sample.\n",
    "\n",
    "##### Estimating with a random observation\n",
    "\n",
    "Given we know that <u>the population heights are normally distributed</u>, if we sample an adult male at random ($n=1$), then\n",
    "- we <u>expect</u> his height to be around the population mean: $\\boxed{E(x) = \\mu}$,\n",
    "- give or take about 2 standard deviation ($\\sigma$</u>) about 95% of times \n",
    "\n",
    "according to the **Empirial Rule**.\n",
    "\n",
    "##### Estimating with a sample mean\n",
    "\n",
    "How if <u>the population heights are skewed</u>, or we'd like the estimate to be <u>more precise with lower standard deviation</u>? Then we should estimate with a **sample mean** ($\\bar{x_n}$), which is the average of $n$ draws. \n",
    "\n",
    "\n",
    "- We <u>expect</u> the sample mean to be around the population mean: $\\boxed{E(\\bar{x_n})=\\mu}$\n",
    "- $\\bar{x_n}$ is also a result of random event, it won't be exactly equal to $\\mu$. We calculate the **standard error (SE)**, which is the standard deviation of $\\bar{x_n}$:$\\boxed{\\text{SE}(\\bar{x_n}) = \\frac{\\sigma}{\\sqrt{n}}}$\n",
    "    <ul>\n",
    "       <li> 1 SE tells how far off a sample mean is from the population mean about $68\\%$ of times;\n",
    "       <li> the bigger the sample size $n$, the smaller the SE.\n",
    "    </ul>\n",
    "</div>"
   ]
  },
  {
   "cell_type": "markdown",
   "metadata": {
    "id": "eB6k80Zmikeb"
   },
   "source": [
    "### EV and SE of Other Statistics\n",
    "\n",
    "\n",
    "##### Sample Mean and Sample Sum\n",
    "\n",
    "Let $X$ be a random variable with population mean $\\mu$ and **standard deviations** $\\sigma$. If we sample from $X$ to get the following:\n",
    "\n",
    "1. the mean of $n$ observations, denoted as $\\bar{x_n}$:\n",
    "\n",
    "    - the expected value is $\\boxed{E(\\bar{x_n})=\\mu}$;\n",
    "    - the standard error is $\\boxed{\\text{SE}(\\bar{x_n}) = \\frac{\\sigma}{\\sqrt{n}}}$\n",
    "    - the standard deviation of $\\bar{x_n}$ increases at the rate of $\\frac{1}{\\sqrt{n}}$, since $\\sqrt{n}\\geq 1$, the variability is actually shrinking.\n",
    "    \n",
    "    \n",
    "2. the sum of $n$ observations, denoted as $S_n = \\sum_i^n x_i = n\\bar{x_n}$:\n",
    "    - the expected value is $E(S_n) = n\\mu$;\n",
    "    - the standard error is $\\boxed{\\text{SE}(S_n) = \\sqrt{n}\\sigma}$\n",
    "    - the standard deviation of $S_n$ increases at the rate $\\sqrt{n}$\n",
    "\n",
    "##### Sample Proportion\n",
    "\n",
    "Let $X$ be a random variable with only two possible values: $0=\\text{fail},1=\\text{success}$, its percentage (proportion) of likely success is $p = \\frac{\\sum_i^N x}{N}$, which is equivalent to the population mean $\\mu$, and its standard deviation is $\\sigma$. \n",
    "\n",
    "If we sample from $X$ to get the proportion of success with $n$ observations, denoted as $\\hat{p} = \\frac{S_n}{n}\\times 100\\%$:\n",
    "\n",
    "- the expected value is $\\boxed{E(\\hat{p}) = \\mu\\times 100\\%}$\n",
    "- the standard error is $\\boxed{\\text{SE}(\\hat{p}) = \\frac{\\sigma}{\\sqrt{n}}\\times100\\%}$"
   ]
  },
  {
   "cell_type": "markdown",
   "metadata": {
    "id": "yqFfzesrikec"
   },
   "source": [
    "### SE for Sampling without Replacement\n",
    "\n",
    "The above **standard error** formulas for sample statistics work when the sampling is done **with replacement**. What happen if the experiment is done **without replacement**?\n",
    "\n",
    "\n",
    "#### Sampling with replacement\n",
    "\n",
    "Let's use a **discrete uniform population**, a 6-sided dice with all possible values as $\\{1,2,3,4,5,6\\}$. We will sample the means of rolling a dice for 4 times, let $\\bar{X}$ be the random varialble of sample means. The sampling is done **with replacement** because each possible outcome are equally likely to repeat in the next roll regardless of the outcome of the last roll;\n",
    "\n",
    "\n",
    "\n",
    "Let's compute the **expectd value** and **standard error** of the sample means using formulas:\n",
    "\n",
    "$$E(\\bar{X}) = \\mu_X = \\frac{\\sum X}{N}=\\frac{1+2+3+4+5+6}{6}=3.5$$"
   ]
  },
  {
   "cell_type": "code",
   "execution_count": null,
   "metadata": {
    "id": "8hj7qG-l8AIy",
    "outputId": "ccf74873-b95f-41a0-a822-3324c6f56c23"
   },
   "outputs": [
    {
     "data": {
      "text/plain": [
       "3.5"
      ]
     },
     "execution_count": 5,
     "metadata": {},
     "output_type": "execute_result"
    }
   ],
   "source": [
    "np.sum([1,2,3,4,5,6])/6"
   ]
  },
  {
   "cell_type": "markdown",
   "metadata": {
    "id": "mbNrlGpC8AIz"
   },
   "source": [
    "$$\\text{SE}(\\bar{X}) = \\frac{\\sigma_X}{\\sqrt{n}}=\\frac{1.71}{\\sqrt{4}}=0.85$$"
   ]
  },
  {
   "cell_type": "code",
   "execution_count": null,
   "metadata": {
    "id": "5SFoEkP-8AIz",
    "outputId": "1adc5773-2914-4be0-9ef4-3c4dd3ce07c0"
   },
   "outputs": [
    {
     "name": "stdout",
     "output_type": "stream",
     "text": [
      "population std:1.71, standard error:0.85\n"
     ]
    }
   ],
   "source": [
    "n = 4 # the sample size\n",
    "sigma = np.std([1,2,3,4,5,6]) # the population std\n",
    "se = sigma/np.sqrt(4) # the standard error\n",
    "print(f'population std:{sigma:.2f}, standard error:{se:.2f}')"
   ]
  },
  {
   "cell_type": "markdown",
   "metadata": {
    "id": "3ygvRhM38AI0"
   },
   "source": [
    "Let's simulate the population and sampling distributions, and verify if the simulated **expect value** and **standard error** match the results of formulas."
   ]
  },
  {
   "cell_type": "code",
   "execution_count": null,
   "metadata": {
    "id": "43bxOzop8AI0",
    "outputId": "f82197a1-8f79-4343-cccd-ba5716fb11b9"
   },
   "outputs": [
    {
     "name": "stdout",
     "output_type": "stream",
     "text": [
      "simulated mean: 3.5\n",
      "simulated population std: 1.70, simulated standard error: 0.83\n"
     ]
    },
    {
     "data": {
      "image/png": "[encoded data removed]",
      "text/plain": [
       "<Figure size 432x288 with 2 Axes>"
      ]
     },
     "metadata": {},
     "output_type": "display_data"
    }
   ],
   "source": [
    "fig, axes = plt.subplots(2)\n",
    "\n",
    "# simulate the population distribution\n",
    "# note that `np.random.choice` randomly samples with replacement by default\n",
    "x = np.random.choice([1,2,3,4,5,6], size=10000) \n",
    "\n",
    "# simulate the sampling distribution of sample means\n",
    "# size=[m, n] where m is the number of rows, n is the sample size in each row\n",
    "x_ = np.random.choice([1,2,3,4,5,6], size=(1000, 4)).mean(axis=1) \n",
    "\n",
    "# verify simulated expected value and standard errors\n",
    "print(f'simulated mean: {x_.mean():.1f}')\n",
    "print(f'simulated population std: {x.std():.2f}, simulated standard error: {x_.std():.2f}')\n",
    "\n",
    "# visualize the population and sampling distributions\n",
    "sns.histplot(x, discrete=True, stat='probability', ax=axes[0])\n",
    "sns.histplot(x_, discrete=True, stat='probability', ax=axes[1])\n",
    "plt.show()"
   ]
  },
  {
   "cell_type": "markdown",
   "metadata": {
    "id": "1LgSgeuY8AI0"
   },
   "source": [
    "#### Sampling without Replacement\n",
    "\n",
    "We will use another **discrete uniform population**, say, we have 6 balls in a pool  each labeled with a distinct number: $\\{1,2,3,4,5,6\\}$. If we also take 4 balls out of the pool and calculate the means, but this time, we will do it without replacement. What will be the **expected value** and **standard error** of the **sample mean**?"
   ]
  },
  {
   "cell_type": "code",
   "execution_count": null,
   "metadata": {
    "id": "2DBbMwif8AI1",
    "outputId": "df7d9e00-d694-49bb-f65b-e2bf9fe0cc93"
   },
   "outputs": [
    {
     "name": "stdout",
     "output_type": "stream",
     "text": [
      "simulated mean: 3.5\n",
      "simulated standard error: 0.54\n"
     ]
    }
   ],
   "source": [
    "# Let's simulate the sampling distribution to derive the result\n",
    "# `np.random.choice` cannot use `size=(m,n)` to simulate sampling without replacement \n",
    "# instead, the code should be: \n",
    "# \"repeat the sampling without replacement for n size for m times\"\n",
    "x_ = []\n",
    "for _ in range(1000):\n",
    "    x_.append(np.random.choice([1,2,3,4,5,6], replace=False, size=4).mean())\n",
    "    \n",
    "print(f'simulated mean: {np.array(x_).mean():.1f}\\nsimulated standard error: {np.array(x_).std():.2f}')"
   ]
  },
  {
   "cell_type": "markdown",
   "metadata": {
    "id": "iAoO8ZlW8AI1"
   },
   "source": [
    "#### The FPC Factor\n",
    "\n",
    "The above simulated results show that the **expected values** of sample means are the same **with or without replacement**. However, <u>the **standard errors** of sample means vary largely</u> and the result returned by the **SE** formula matches that by the simulation with replacement. \n",
    "\n",
    "This is because the **SE** formulas introduced above only work when **Central Limit Theorem** can apply to the sampling distribution of statistic. That requires:\n",
    "\n",
    "1. Samples are independent (selected **with replacement**);\n",
    "2. Samples are selected from an **infinite population** (either **discrete** or **continuous**) or the sample size is less than $5\\%$ of the population: $N \\geq 20n$\n",
    "\n",
    "When samples are selected from a <u>**finite discrete population** randomly **with replacement** and its sample size $n$ is not large enough</u>, we need to multiply the **SE** of the sample statistic with the **finite population correction factor** (or **FPC factor**), which is $\\sqrt{\\frac{N-n}{N-1}}$, therefore, we have:\n",
    "\n",
    "$$\\boxed{\\text{SE}_{\\text{without replacement}}=\\text{SE}\\cdot\\sqrt{\\frac{N-n}{N-1}}}$$\n",
    "\n",
    "- SE of **sample mean** without replacement: \n",
    "\n",
    "$$\\boxed{\\frac{\\sigma}{\\sqrt{n}}\\cdot\\sqrt{\\frac{N-n}{N-1}}}$$\n",
    "\n",
    "- SE of **sample proportion** without replacement: \n",
    "\n",
    "$$\\boxed{\\sqrt{\\frac{p(1-p)}{n}}\\cdot\\sqrt{\\frac{N-n}{N-1}}}$$\n",
    "\n",
    "[Example that illustrates when sampling is done without replacement and why is there FPC factor](https://stats.stackexchange.com/questions/376417/sampling-from-finite-population-with-replacement#:~:text=%5BIt's%20called%20'finite%20population%20correction,sampling%20from%20an%20infinite%20population.%5D)\n",
    "\n",
    "\n",
    "Continued with the above example, we can calculate the SE of sample mean without repalcement using the formula as follows:"
   ]
  },
  {
   "cell_type": "code",
   "execution_count": 7,
   "metadata": {},
   "outputs": [
    {
     "data": {
      "text/plain": [
       "0.54"
      ]
     },
     "execution_count": 7,
     "metadata": {},
     "output_type": "execute_result"
    }
   ],
   "source": [
    "se = .85\n",
    "N,n = 6,4\n",
    "round(se * np.sqrt((N-n)/(N-1)), 2)"
   ]
  },
  {
   "cell_type": "markdown",
   "metadata": {},
   "source": [
    "The result matches the SE resulting from simulation without replacement."
   ]
  },
  {
   "cell_type": "markdown",
   "metadata": {
    "id": "AycKm274ikec"
   },
   "source": [
    "# Types of Histograms\n",
    "\n",
    "Let's use coin toss as example, to simulate 3 different types of histograms.\n",
    "\n",
    "\n",
    "## 1. Theorectical Probability (Population)\n",
    "\n",
    "We can simulate the **theoretical probability of a population** with large sample size $n$ due to **law of large number**. For example, theorectically, the probability of getting heads is $p=0.5$ and the simulation can be done as follows:"
   ]
  },
  {
   "cell_type": "code",
   "execution_count": null,
   "metadata": {
    "id": "qmzPvD-pikec",
    "outputId": "4fa97dcf-3936-4ad7-8065-f6503b0b3821"
   },
   "outputs": [
    {
     "data": {
      "image/png": "[encoded data removed]",
      "text/plain": [
       "<Figure size 432x288 with 1 Axes>"
      ]
     },
     "metadata": {},
     "output_type": "display_data"
    }
   ],
   "source": [
    "n, p= 10000, .5\n",
    "x = np.random.choice([0,1], n, p)\n",
    "sns.histplot(x, discrete=True, stat='probability')\n",
    "plt.xticks([0,1], ['Tail', 'Head'])\n",
    "plt.show()"
   ]
  },
  {
   "cell_type": "markdown",
   "metadata": {
    "id": "MvJ23Rb0iked"
   },
   "source": [
    "## 2.  Empirical Data Distribution\n",
    "\n",
    "If we toss the coin for 100 times, we can simulate the empirical distribution of real data, which will look quite similar to the **theorectical probability histogram**. Due to **law of large number**, the larger the sample size, the closer to the probability histogram."
   ]
  },
  {
   "cell_type": "code",
   "execution_count": null,
   "metadata": {
    "id": "8hxjxCyTiked",
    "outputId": "cbbd4288-7d8a-4731-e138-3251a85499ea"
   },
   "outputs": [
    {
     "data": {
      "image/png": "[encoded data removed]",
      "text/plain": [
       "<Figure size 432x288 with 1 Axes>"
      ]
     },
     "metadata": {},
     "output_type": "display_data"
    }
   ],
   "source": [
    "n, p= 100, .5\n",
    "x = np.random.choice([0,1], n, p)\n",
    "sns.histplot(x, discrete=True)\n",
    "plt.xticks([0,1], ['Tail', 'Head'])\n",
    "plt.show()"
   ]
  },
  {
   "cell_type": "markdown",
   "metadata": {
    "id": "z83eWMyqikee"
   },
   "source": [
    "## 3. Sampling Distribution\n",
    "\n",
    "If we want to see the probability distribution of the **sample sum of $n$ tosses** ($S_{n}$), which is \"the number of heads after $n$ tossess\", we can simulate as follows. Note that as $n$ increases, more possible values in the sample space of $S_n$ and the sampling distribution converge to **Normal**"
   ]
  },
  {
   "cell_type": "code",
   "execution_count": null,
   "metadata": {
    "colab": {
     "base_uri": "https://localhost:8080/",
     "height": 1000
    },
    "executionInfo": {
     "elapsed": 1509,
     "status": "ok",
     "timestamp": 1654561580719,
     "user": {
      "displayName": "Catelinn X",
      "userId": "04332785691882296815"
     },
     "user_tz": 420
    },
    "id": "Bj7Epjbhikee",
    "outputId": "f2ba6b9f-4d11-4a96-8e49-9ec8e4994f72"
   },
   "outputs": [
    {
     "data": {
      "image/png": "[encoded data removed]",
      "text/plain": [
       "<Figure size 432x288 with 1 Axes>"
      ]
     },
     "metadata": {
      "needs_background": "light"
     },
     "output_type": "display_data"
    },
    {
     "data": {
      "image/png": "[encoded data removed]",
      "text/plain": [
       "<Figure size 432x288 with 1 Axes>"
      ]
     },
     "metadata": {
      "needs_background": "light"
     },
     "output_type": "display_data"
    },
    {
     "data": {
      "image/png": "[encoded data removed]",
      "text/plain": [
       "<Figure size 432x288 with 1 Axes>"
      ]
     },
     "metadata": {
      "needs_background": "light"
     },
     "output_type": "display_data"
    },
    {
     "data": {
      "image/png": "[encoded data removed]",
      "text/plain": [
       "<Figure size 432x288 with 1 Axes>"
      ]
     },
     "metadata": {
      "needs_background": "light"
     },
     "output_type": "display_data"
    }
   ],
   "source": [
    "p = .5\n",
    "\n",
    "for n in [1, 4, 20, 100]:\n",
    "    # repeat experiments many times to simulate results of sample sums\n",
    "    sums = []\n",
    "    for _ in range(1000):\n",
    "        x = np.random.choice([0,1],n,p).sum()\n",
    "        sums.append(x)\n",
    "    \n",
    "    # histogram of the distribution of sample sums\n",
    "    sns.histplot(sums, discrete=True, stat='probability')\n",
    "    plt.xticks(np.arange(0,n+1, int(n/np.sqrt(n))))\n",
    "    plt.title(f'Probability histogram for the binomial with n={n} p={p}')\n",
    "    plt.xlabel(r'$S_{'+f'{n}'+r'}$ = number of heads after '+f'{n} tosses')\n",
    "    plt.show()"
   ]
  },
  {
   "cell_type": "markdown",
   "metadata": {
    "id": "aY6QMHeUul3J"
   },
   "source": [
    "# The **Central Limit Theorem**\n",
    "\n",
    "> In the last example of histogram for sampling distribution, we looked at the random variable $S_n = $\"number of heads after $n$ tosses\", which is the **sample sum** of $n$ samples of each experiment. \n",
    ">\n",
    "> Although the original population is a **bernoulli distribution** with only 2 possible outcomes $\\{0,1\\}$, as sample size $n$ increases, there are more possible outcomes of $S_n$. First $S_n$ becomes **binomial distribution** when $n>1$, and as $n$ gets larger, the probability histogram looks more and more simialr to the **normal curve**, which is called **normal approximation**. This is an example of **Central Limit Theorem**."
   ]
  },
  {
   "cell_type": "markdown",
   "metadata": {
    "id": "8GMtnsILikef"
   },
   "source": [
    "## Requirements for CLT\n",
    "\n",
    "For the above mentioned **normal approximation with CLT** to work, it's required that:\n",
    "\n",
    "1. We sample **with replacement** or **independent random variables** from the same distribution:\n",
    "    - If samples are selected **without replacement**,  the **standard error** of the sample statistic shall be multiplied by a **finite population correction factor**: \n",
    "    $$SE_{\\text{no replacement}} = SE\\cdot\\sqrt{\\frac{N-n}{N-1}}$$\n",
    "    \n",
    "    - However, if the samples are selected from an **infinite population** (either discrete or continous), or the sample size is small enough $n\\leq 5\\%N$, equivalent to $N\\geq 20n$, we can ignore the **FPC factor**.\n",
    "\n",
    "\n",
    "2. The sample size $n$ is large enough, the more skewed the population, the larger the required $n$, a general guideline is  $n > 30$; If the pouplation is not strongly skewed, then $n \\geq 15$ is sufficient.\n",
    "\n",
    "\n",
    "3. The statistic of interest is a **sum** (**mean** or **proportioin** are **sums** in disguise) "
   ]
  },
  {
   "cell_type": "markdown",
   "metadata": {
    "id": "gf30jp3fikeg"
   },
   "source": [
    "## Definition\n",
    "\n",
    " <br>\n",
    "<div style=\"background-color:blue;color:white; padding: 20px 20px 20px 20px\">\n",
    "    \n",
    "The <b>CLT</b> establishes that, no matter the underlying distribution of the dataset, when **$n$ independent random variables** are summed up, the sampling distribution of these sums ($n\\bar{X}$ or $S_n$) would approximate a normal distribution, if $n$ is large enough.</div>"
   ]
  },
  {
   "cell_type": "markdown",
   "metadata": {
    "id": "tBcN97L8uo7q"
   },
   "source": [
    "\n",
    "### CLT with Sample Mean\n",
    "\n",
    "The **sampling distribution of sample means** of $n$ random variables, denoted as $\\bar{x_1}, \\bar{x_2}, ..., \\bar{x_n}$, as $n$ increases, will tend to **Normal distribution**:\n",
    "\n",
    "$$\\boxed{\\bar{X} \\sim N(\\mu, \\frac{\\sigma}{\\sqrt{n}})\\text{ as }n\\rightarrow \\infty}$$\n",
    "\n",
    "if the sample means are not derived form the **independent samples**, which are selected from the population **without replacement** and $N\\leq 20n$:\n",
    "\n",
    "$$\\boxed{\\bar{X} \\sim N(\\mu, \\frac{\\sigma}{\\sqrt{n}} \\sqrt{\\frac{N-n}{N-1}})}$$\n",
    "\n",
    "\n",
    "<br>\n",
    "<div style=\"background-color:lightgrey; padding: 20px 20px 20px 20px\">\n",
    "    \n",
    "<h5> Example</h5>\n",
    "\n",
    "Suppose that the US household incomes has population mean $\\mu=67,000$ and standard deviation $\\sigma=38,000$. \n",
    "    \n",
    "<img src=\"../img/us-incomes.png\">\n",
    "\n",
    "If we sample $n$ incomes at random, then the sample mean $\\bar{x}$ \n",
    "- follows the normal curve \n",
    "- centered at $E(\\bar{x_n})=\\mu=67000$ \n",
    "- with its spread given by $\\text{SE}(\\bar{x_n})=\\frac{\\sigma}{\\sqrt{n}}=\\frac{38000}{\\sqrt{n}}$\n",
    "\n",
    "For example if we sample 100 incomes, then \n",
    "- $\\text{SE}(\\bar{x_n}) = \\frac{38000}{\\sqrt{100}} = 3800$\n",
    "    \n",
    "According to <b>empirial rule</b>, there is\n",
    "- a 68% chance that $\\bar{x}$ is between $67000-3800=63200$ and $67000+3800=70800$;\n",
    "    \n",
    "- a (100%-68%)/2=16% chance that $\\bar{x}$ is larger than 70800. \n",
    "  \n",
    "    \n",
    "</div>"
   ]
  },
  {
   "cell_type": "markdown",
   "metadata": {
    "id": "buvyGeyeuq5K"
   },
   "source": [
    "### CLT with Sample Sum\n",
    "\n",
    "The **CLT** also applies to the **sampling distribution of sums**:\n",
    "\n",
    "$$\\boxed{n\\bar{X} \\sim N(n \\mu, \\sqrt{n}\\sigma) \\text{ as }n\\rightarrow \\infty}$$\n",
    "\n",
    "if the sample sums are not derived form the **independent samples**, which are selected from the population **without replacement** and $N\\leq 20n$:\n",
    "\n",
    "$$\\boxed{\\bar{X} \\sim N(n \\mu, \\sqrt{n}\\sigma \\sqrt{\\frac{N-n}{N-1}})}$$"
   ]
  },
  {
   "cell_type": "markdown",
   "metadata": {
    "id": "gg4mldMIikeh"
   },
   "source": [
    "### CLT with Sample Proportion\n",
    "\n",
    "As discussed above, a sample proportion is another form of \"mean\", as $\\hat{p} = \\frac{S_n}{n}$. Therefore, the **CLT** also applies to the **sampling distribution of proportion**:\n",
    "\n",
    "$$\\boxed{\\hat{p}\\sim N(np, \\sqrt{\\frac{p(1-p)}{n}})\\text{ as }n\\rightarrow \\infty}$$\n",
    "\n",
    "\n",
    "if the sample proportion are not derived form the **independent samples**, which are selected from the population **without replacement** and $N\\leq 20n$:\n",
    "\n",
    "$$\\boxed{\\bar{X} \\sim N(np, \\sqrt{p(1-p)} \\sqrt{\\frac{N-n}{N-1}})}$$"
   ]
  },
  {
   "cell_type": "markdown",
   "metadata": {
    "id": "vQUPaY1TusiT"
   },
   "source": [
    "\n",
    "### Other Sample Statistics that work with CLT\n",
    "\n",
    "**CLT** applies to **not all** but many statistics. The following common statistics will work with CLT besides **sample sum**: \n",
    "- Difference in sample means ($\\overline{x_1}-\\overline{x_2}$)\n",
    "- Difference in sample proportions ($p_1-p_2$)\n",
    "- Correlation ($r$)\n",
    "- [Udacity Example: central limit theorem](./quiz/central_limit_theorem_1.ipynb)\n",
    "- [Udacity Example: central limit theorem (it won't apply to sampling distribution of variance)](./quiz/central_limit_theorem_3.ipynb)"
   ]
  },
  {
   "cell_type": "markdown",
   "metadata": {
    "id": "7QMBm-JiZAF0"
   },
   "source": [
    "## CLT Properties\n",
    "\n",
    "\n",
    "####  Smaller Variance for Sampling Distribution: \n",
    "\n",
    "The sampling distribution of a sample statistic has smaller **variance** than the distribution of the sample data"
   ]
  },
  {
   "cell_type": "code",
   "execution_count": null,
   "metadata": {
    "colab": {
     "base_uri": "https://localhost:8080/",
     "height": 268
    },
    "executionInfo": {
     "elapsed": 436,
     "status": "ok",
     "timestamp": 1653356591366,
     "user": {
      "displayName": "Catelinn X",
      "userId": "04332785691882296815"
     },
     "user_tz": 420
    },
    "id": "lKvzSCA5ZAF0",
    "outputId": "ec62a9bf-e960-443b-9de4-d32faca40cf0"
   },
   "outputs": [
    {
     "data": {
      "image/png": "[encoded data removed]",
      "text/plain": [
       "<Figure size 432x288 with 1 Axes>"
      ]
     },
     "metadata": {},
     "output_type": "display_data"
    }
   ],
   "source": [
    "# Compare the data distribution and sampling distribution of the sample mean\n",
    "mu, sigma = 740, 20\n",
    "s1 = np.random.normal(mu, sigma, 1000)\n",
    "s2 = np.random.normal(mu, sigma, size=(1000, 9)).mean(axis=1)\n",
    "\n",
    "# use `sns.plotting_context(context)` to change the setting for current plot\n",
    "# e.g. font size, label size ...\n",
    "with sns.plotting_context(\"notebook\"): \n",
    "    plt.hist(s1, alpha=.5, label='distribution of the data', density=True)\n",
    "    plt.hist(s2, alpha=.5, label='distribution of the sample means', density=True)\n",
    "    \n",
    "plt.legend(loc='upper right', fontsize=10)\n",
    "plt.show()"
   ]
  },
  {
   "cell_type": "markdown",
   "metadata": {
    "id": "PBXoeB2rZAF1"
   },
   "source": [
    "#### More normal the data, more normal the sampling distribution\n",
    "\n",
    "The sampling distribution of a sample statistic is more Normal than the distribution of the sample data, unless the data is **Normal** or if it has an infinite $\\sigma^2$\n",
    "\n",
    "#### More normal the data, faster for sampling distriubution to converge\n",
    "\n",
    "  The speed of convergence depends on how closely the data distribution is to Normal. **The closer, the faster**:\n",
    "  - The **Normal** is already Normal, so its sampling distribution of mean or sum will be instantly normal;\n",
    "  - The **Poisson** is more Normal than **Binomial**, so it converges faster than **Binomial** if its 𝜆  is smaller than the sample size 𝑛 of the **Binomial**\n",
    "  - The **uniform** converges faster than the **exponential**."
   ]
  },
  {
   "cell_type": "code",
   "execution_count": null,
   "metadata": {
    "colab": {
     "base_uri": "https://localhost:8080/",
     "height": 357
    },
    "executionInfo": {
     "elapsed": 1170,
     "status": "ok",
     "timestamp": 1653356622551,
     "user": {
      "displayName": "Catelinn X",
      "userId": "04332785691882296815"
     },
     "user_tz": 420
    },
    "id": "OJ59JM5YZAF2",
    "outputId": "be65a1ce-7941-4850-fb28-f0546af7d4af",
    "scrolled": true
   },
   "outputs": [
    {
     "data": {
      "image/png": "[encoded data removed]",
      "text/plain": [
       "<Figure size 1080x360 with 3 Axes>"
      ]
     },
     "metadata": {},
     "output_type": "display_data"
    }
   ],
   "source": [
    "# Visualize the sampling distribution of sample means drawn from \n",
    "# a data distribution that is exponential\n",
    "lda = 2\n",
    "sizes = [2, 10, 50]\n",
    "\n",
    "fig, axes = plt.subplots(1,3, figsize=(15, 5), sharey=True)\n",
    "for i, n in enumerate(sizes):\n",
    "    s1 = np.random.exponential(lda, size=(1000, n)).mean(axis=1)\n",
    "    sns.histplot(s1, kde=True, stat='probability', ax=axes[i])\n",
    "    axes[i].set_title(f'n={n}')\n",
    "\n",
    "plt.show()"
   ]
  },
  {
   "cell_type": "code",
   "execution_count": null,
   "metadata": {
    "colab": {
     "base_uri": "https://localhost:8080/",
     "height": 357
    },
    "executionInfo": {
     "elapsed": 1085,
     "status": "ok",
     "timestamp": 1653356634755,
     "user": {
      "displayName": "Catelinn X",
      "userId": "04332785691882296815"
     },
     "user_tz": 420
    },
    "id": "nlBmNQtLZAF2",
    "outputId": "185ffeb4-052e-4dfb-f8ee-f2bf9fff6dda",
    "scrolled": true
   },
   "outputs": [
    {
     "data": {
      "image/png": "[encoded data removed]",
      "text/plain": [
       "<Figure size 1080x360 with 3 Axes>"
      ]
     },
     "metadata": {},
     "output_type": "display_data"
    }
   ],
   "source": [
    "# Visualize the sampling distribution of sample means drawn from \n",
    "# a data distribution that is uniform (more normal than exponential)\n",
    "sizes = [2, 10, 50]\n",
    "\n",
    "fig, axes = plt.subplots(1,3, figsize=(15, 5), sharey=True)\n",
    "for i, n in enumerate(sizes):\n",
    "    s1 = np.random.uniform(size=(1000, n)).mean(axis=1)\n",
    "    sns.histplot(s1, kde=True, stat='probability', ax=axes[i])\n",
    "    axes[i].set_title(f'n={n}')\n",
    "\n",
    "plt.show()"
   ]
  },
  {
   "cell_type": "markdown",
   "metadata": {
    "id": "vtnByri_ZAF5"
   },
   "source": [
    "# References\n",
    "\n",
    "\n",
    "https://online.stat.psu.edu/stat500/lesson/3/3.3/3.3.3"
   ]
  }
 ],
 "metadata": {
  "colab": {
   "collapsed_sections": [],
   "name": "02_sampling_distribution_and_CLT.ipynb",
   "provenance": []
  },
  "kernelspec": {
   "display_name": "stat_notes",
   "language": "python",
   "name": "stat_notes"
  },
  "language_info": {
   "codemirror_mode": {
    "name": "ipython",
    "version": 3
   },
   "file_extension": ".py",
   "mimetype": "text/x-python",
   "name": "python",
   "nbconvert_exporter": "python",
   "pygments_lexer": "ipython3",
   "version": "3.9.6"
  },
  "toc": {
   "base_numbering": 1,
   "nav_menu": {},
   "number_sections": true,
   "sideBar": true,
   "skip_h1_title": false,
   "title_cell": "Table of Contents",
   "title_sidebar": "Contents",
   "toc_cell": true,
   "toc_position": {
    "height": "calc(100% - 180px)",
    "left": "10px",
    "top": "150px",
    "width": "376px"
   },
   "toc_section_display": true,
   "toc_window_display": true
  }
 },
 "nbformat": 4,
 "nbformat_minor": 1
}
