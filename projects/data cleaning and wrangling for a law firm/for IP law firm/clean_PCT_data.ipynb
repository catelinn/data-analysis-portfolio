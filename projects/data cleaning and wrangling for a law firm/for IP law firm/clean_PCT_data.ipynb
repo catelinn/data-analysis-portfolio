{
 "cells": [
  {
   "cell_type": "markdown",
   "metadata": {},
   "source": [
    "## Objectives\n",
    "\n",
    "clean `PCT.xlsx` data and then split into two data tables:\n",
    "        \n",
    "        - PCT (unique PCT code with `title`, `applicant`, `desginated to CN`, `Filing date` and `link`)\n",
    "        \n",
    "        - PCT with IPC (each PCT might have multiple IPC codes, list each pair as one record)"
   ]
  },
  {
   "cell_type": "code",
   "execution_count": 24,
   "metadata": {},
   "outputs": [
    {
     "data": {
      "text/html": [
       "<div>\n",
       "<style scoped>\n",
       "    .dataframe tbody tr th:only-of-type {\n",
       "        vertical-align: middle;\n",
       "    }\n",
       "\n",
       "    .dataframe tbody tr th {\n",
       "        vertical-align: top;\n",
       "    }\n",
       "\n",
       "    .dataframe thead th {\n",
       "        text-align: right;\n",
       "    }\n",
       "</style>\n",
       "<table border=\"1\" class=\"dataframe\">\n",
       "  <thead>\n",
       "    <tr style=\"text-align: right;\">\n",
       "      <th></th>\n",
       "      <th>PCT</th>\n",
       "      <th>Title</th>\n",
       "      <th>Applicant</th>\n",
       "      <th>Designated to CN</th>\n",
       "      <th>IPC</th>\n",
       "      <th>Filing Date</th>\n",
       "      <th>Link</th>\n",
       "    </tr>\n",
       "  </thead>\n",
       "  <tbody>\n",
       "    <tr>\n",
       "      <th>0</th>\n",
       "      <td>WO2017075268</td>\n",
       "      <td>TROPONIN I AND SOLUBLE UROKINASE RECEPTOR DETE...</td>\n",
       "      <td>ABBOTT LABORATORIES</td>\n",
       "      <td>1</td>\n",
       "      <td>G01N 33/68 (2006.01)</td>\n",
       "      <td>27.10.2016</td>\n",
       "      <td>https://patentscope.wipo.int/search/en/detail....</td>\n",
       "    </tr>\n",
       "    <tr>\n",
       "      <th>1</th>\n",
       "      <td>WO2008080030</td>\n",
       "      <td>CARDIOVASCULAR AUTOIMMUNE DISEASE PANEL AND ME...</td>\n",
       "      <td>ABBOTT LABORATORIES</td>\n",
       "      <td>1</td>\n",
       "      <td>G01N 33/53 (2006.01) ,G01N 33/49 (2006.01)</td>\n",
       "      <td>21.12.2007</td>\n",
       "      <td>https://patentscope.wipo.int/search/en/detail....</td>\n",
       "    </tr>\n",
       "    <tr>\n",
       "      <th>2</th>\n",
       "      <td>WO1997036902</td>\n",
       "      <td>TRANS-2,6-, 3,6- AND 4,6-DIAZA-5,6,6a,7,8,12b-...</td>\n",
       "      <td>ABBOTT LABORATORIES</td>\n",
       "      <td>1</td>\n",
       "      <td>G01N 33/53 (2006.01) ,G01N 33/49 (2006.01)</td>\n",
       "      <td>21.12.2007</td>\n",
       "      <td>https://patentscope.wipo.int/search/en/detail....</td>\n",
       "    </tr>\n",
       "    <tr>\n",
       "      <th>3</th>\n",
       "      <td>WO1995027526</td>\n",
       "      <td>CORONARY SINUS CATHETER INTRODUCER SYSTEM</td>\n",
       "      <td>ABBOTT LABORATORIES</td>\n",
       "      <td>0</td>\n",
       "      <td>C07D 471/04 (2006.01)</td>\n",
       "      <td>21.03.1997</td>\n",
       "      <td>https://patentscope.wipo.int/search/en/detail....</td>\n",
       "    </tr>\n",
       "    <tr>\n",
       "      <th>4</th>\n",
       "      <td>WO1994022858</td>\n",
       "      <td>TETRACYCLIC COMPOUNDS AS DOPAMINE AGONISTS</td>\n",
       "      <td>ABBOTT LABORATORIES</td>\n",
       "      <td>1</td>\n",
       "      <td>C07D 491/04 (2006.01) ,C07D 495/04 (2006.01) ,...</td>\n",
       "      <td>18.03.1994</td>\n",
       "      <td>https://patentscope.wipo.int/search/en/detail....</td>\n",
       "    </tr>\n",
       "  </tbody>\n",
       "</table>\n",
       "</div>"
      ],
      "text/plain": [
       "            PCT                                              Title  \\\n",
       "0  WO2017075268  TROPONIN I AND SOLUBLE UROKINASE RECEPTOR DETE...   \n",
       "1  WO2008080030  CARDIOVASCULAR AUTOIMMUNE DISEASE PANEL AND ME...   \n",
       "2  WO1997036902  TRANS-2,6-, 3,6- AND 4,6-DIAZA-5,6,6a,7,8,12b-...   \n",
       "3  WO1995027526          CORONARY SINUS CATHETER INTRODUCER SYSTEM   \n",
       "4  WO1994022858         TETRACYCLIC COMPOUNDS AS DOPAMINE AGONISTS   \n",
       "\n",
       "             Applicant  Designated to CN  \\\n",
       "0  ABBOTT LABORATORIES                 1   \n",
       "1  ABBOTT LABORATORIES                 1   \n",
       "2  ABBOTT LABORATORIES                 1   \n",
       "3  ABBOTT LABORATORIES                 0   \n",
       "4  ABBOTT LABORATORIES                 1   \n",
       "\n",
       "                                                 IPC Filing Date  \\\n",
       "0                               G01N 33/68 (2006.01)  27.10.2016   \n",
       "1         G01N 33/53 (2006.01) ,G01N 33/49 (2006.01)  21.12.2007   \n",
       "2         G01N 33/53 (2006.01) ,G01N 33/49 (2006.01)  21.12.2007   \n",
       "3                              C07D 471/04 (2006.01)  21.03.1997   \n",
       "4  C07D 491/04 (2006.01) ,C07D 495/04 (2006.01) ,...  18.03.1994   \n",
       "\n",
       "                                                Link  \n",
       "0  https://patentscope.wipo.int/search/en/detail....  \n",
       "1  https://patentscope.wipo.int/search/en/detail....  \n",
       "2  https://patentscope.wipo.int/search/en/detail....  \n",
       "3  https://patentscope.wipo.int/search/en/detail....  \n",
       "4  https://patentscope.wipo.int/search/en/detail....  "
      ]
     },
     "execution_count": 24,
     "metadata": {},
     "output_type": "execute_result"
    }
   ],
   "source": [
    "import numpy as np\n",
    "import pandas as pd\n",
    "pct = pd.read_excel(\"./Data/To clean in Jupyter/PCT.xlsx\")\n",
    "pct.head()"
   ]
  },
  {
   "cell_type": "markdown",
   "metadata": {},
   "source": [
    "## Clean Data"
   ]
  },
  {
   "cell_type": "code",
   "execution_count": 25,
   "metadata": {},
   "outputs": [
    {
     "name": "stdout",
     "output_type": "stream",
     "text": [
      "<class 'pandas.core.frame.DataFrame'>\n",
      "RangeIndex: 473 entries, 0 to 472\n",
      "Data columns (total 7 columns):\n",
      "PCT                 473 non-null object\n",
      "Title               473 non-null object\n",
      "Applicant           473 non-null object\n",
      "Designated to CN    473 non-null int64\n",
      "IPC                 99 non-null object\n",
      "Filing Date         100 non-null object\n",
      "Link                473 non-null object\n",
      "dtypes: int64(1), object(6)\n",
      "memory usage: 25.9+ KB\n",
      "None\n"
     ]
    }
   ],
   "source": [
    "# check dataset - pay attention to those columns with null value\n",
    "print(pct.info())"
   ]
  },
  {
   "cell_type": "code",
   "execution_count": 26,
   "metadata": {},
   "outputs": [
    {
     "data": {
      "text/plain": [
       "WO2018132617    2\n",
       "WO2010141173    1\n",
       "WO2011136815    1\n",
       "WO2009076224    1\n",
       "WO2011123306    1\n",
       "WO2008008437    1\n",
       "WO2007149457    1\n",
       "WO2007123872    1\n",
       "WO2008005277    1\n",
       "WO2012051195    1\n",
       "WO2014142808    1\n",
       "WO2015057289    1\n",
       "WO2012021513    1\n",
       "WO2008091747    1\n",
       "WO2012145106    1\n",
       "WO2014107291    1\n",
       "WO2008008137    1\n",
       "WO2009070209    1\n",
       "WO2019079780    1\n",
       "WO2016073630    1\n",
       "WO2018093663    1\n",
       "WO2012154842    1\n",
       "WO2008005390    1\n",
       "WO2010132258    1\n",
       "WO2009114326    1\n",
       "WO1997036902    1\n",
       "WO1995027526    1\n",
       "WO2007081550    1\n",
       "WO2016057402    1\n",
       "WO2010002604    1\n",
       "               ..\n",
       "WO2008016490    1\n",
       "WO2010091100    1\n",
       "WO2014152553    1\n",
       "WO2012037510    1\n",
       "WO2008002667    1\n",
       "WO2016090004    1\n",
       "WO2007146411    1\n",
       "WO2011011242    1\n",
       "WO2010111124    1\n",
       "WO2014018123    1\n",
       "WO2010085374    1\n",
       "WO2014159743    1\n",
       "WO2016003922    1\n",
       "WO2011022159    1\n",
       "WO2011019851    1\n",
       "WO2010141765    1\n",
       "WO2008076771    1\n",
       "WO2015191758    1\n",
       "WO2014113527    1\n",
       "WO2014028306    1\n",
       "WO2015048750    1\n",
       "WO2008008436    1\n",
       "WO2011137372    1\n",
       "WO2014106116    1\n",
       "WO2007146231    1\n",
       "WO2009045612    1\n",
       "WO2008042108    1\n",
       "WO2009140420    1\n",
       "WO2008076847    1\n",
       "WO2010028087    1\n",
       "Name: PCT, Length: 472, dtype: int64"
      ]
     },
     "execution_count": 26,
     "metadata": {},
     "output_type": "execute_result"
    }
   ],
   "source": [
    "# check column for abnormal value, and prepare for cleaning up\n",
    "pct.PCT.value_counts()"
   ]
  },
  {
   "cell_type": "code",
   "execution_count": 27,
   "metadata": {},
   "outputs": [],
   "source": [
    "# Clean data\n",
    "pct = pct[pct[\"IPC\"].notnull()]\n",
    "pct[\"PCT\"]=[st.replace('\\t','') for st in pct[\"PCT\"]]"
   ]
  },
  {
   "cell_type": "markdown",
   "metadata": {},
   "source": [
    "## Convert dates"
   ]
  },
  {
   "cell_type": "code",
   "execution_count": 28,
   "metadata": {},
   "outputs": [
    {
     "data": {
      "text/plain": [
       "str"
      ]
     },
     "execution_count": 28,
     "metadata": {},
     "output_type": "execute_result"
    }
   ],
   "source": [
    "# check if filing date is datetime object\n",
    "type(pct[\"Filing Date\"][0])"
   ]
  },
  {
   "cell_type": "code",
   "execution_count": 29,
   "metadata": {},
   "outputs": [
    {
     "data": {
      "text/plain": [
       "0   2016-10-27\n",
       "1   2007-12-21\n",
       "2   2007-12-21\n",
       "3   1997-03-21\n",
       "4   1994-03-18\n",
       "Name: Filing Date, dtype: datetime64[ns]"
      ]
     },
     "execution_count": 29,
     "metadata": {},
     "output_type": "execute_result"
    }
   ],
   "source": [
    "# convert str to date\n",
    "pct[\"Filing Date\"] = pd.to_datetime(pct[\"Filing Date\"], format=\"%d.%m.%Y\")\n",
    "pct[\"Filing Date\"].head()"
   ]
  },
  {
   "cell_type": "markdown",
   "metadata": {},
   "source": [
    "## Split IPC data"
   ]
  },
  {
   "cell_type": "code",
   "execution_count": 30,
   "metadata": {},
   "outputs": [
    {
     "data": {
      "text/plain": [
       "PCT            \n",
       "WO2017075268  0     G01N 33/68 (2006.01)\n",
       "WO2008080030  0    G01N 33/53 (2006.01) \n",
       "              1     G01N 33/49 (2006.01)\n",
       "WO1997036902  0    G01N 33/53 (2006.01) \n",
       "              1     G01N 33/49 (2006.01)\n",
       "dtype: object"
      ]
     },
     "execution_count": 30,
     "metadata": {},
     "output_type": "execute_result"
    }
   ],
   "source": [
    "# split IPC codes\n",
    "# insert the splitted codes into multiple rows (with multiple leveled index - use PCT code as index)\n",
    "IPC_data = pd.DataFrame(pct.IPC.str.split(',').tolist(), index=pct.PCT).stack()\n",
    "IPC_data.head()"
   ]
  },
  {
   "cell_type": "code",
   "execution_count": 31,
   "metadata": {},
   "outputs": [
    {
     "data": {
      "text/plain": [
       "296"
      ]
     },
     "execution_count": 31,
     "metadata": {},
     "output_type": "execute_result"
    }
   ],
   "source": [
    "len(IPC_data)"
   ]
  },
  {
   "cell_type": "code",
   "execution_count": 32,
   "metadata": {},
   "outputs": [
    {
     "data": {
      "text/html": [
       "<div>\n",
       "<style scoped>\n",
       "    .dataframe tbody tr th:only-of-type {\n",
       "        vertical-align: middle;\n",
       "    }\n",
       "\n",
       "    .dataframe tbody tr th {\n",
       "        vertical-align: top;\n",
       "    }\n",
       "\n",
       "    .dataframe thead th {\n",
       "        text-align: right;\n",
       "    }\n",
       "</style>\n",
       "<table border=\"1\" class=\"dataframe\">\n",
       "  <thead>\n",
       "    <tr style=\"text-align: right;\">\n",
       "      <th></th>\n",
       "      <th>PCT</th>\n",
       "      <th>0</th>\n",
       "    </tr>\n",
       "  </thead>\n",
       "  <tbody>\n",
       "    <tr>\n",
       "      <th>0</th>\n",
       "      <td>WO2017075268</td>\n",
       "      <td>G01N 33/68 (2006.01)</td>\n",
       "    </tr>\n",
       "    <tr>\n",
       "      <th>1</th>\n",
       "      <td>WO2008080030</td>\n",
       "      <td>G01N 33/53 (2006.01)</td>\n",
       "    </tr>\n",
       "    <tr>\n",
       "      <th>2</th>\n",
       "      <td>WO2008080030</td>\n",
       "      <td>G01N 33/49 (2006.01)</td>\n",
       "    </tr>\n",
       "    <tr>\n",
       "      <th>3</th>\n",
       "      <td>WO1997036902</td>\n",
       "      <td>G01N 33/53 (2006.01)</td>\n",
       "    </tr>\n",
       "    <tr>\n",
       "      <th>4</th>\n",
       "      <td>WO1997036902</td>\n",
       "      <td>G01N 33/49 (2006.01)</td>\n",
       "    </tr>\n",
       "  </tbody>\n",
       "</table>\n",
       "</div>"
      ],
      "text/plain": [
       "            PCT                      0\n",
       "0  WO2017075268   G01N 33/68 (2006.01)\n",
       "1  WO2008080030  G01N 33/53 (2006.01) \n",
       "2  WO2008080030   G01N 33/49 (2006.01)\n",
       "3  WO1997036902  G01N 33/53 (2006.01) \n",
       "4  WO1997036902   G01N 33/49 (2006.01)"
      ]
     },
     "execution_count": 32,
     "metadata": {},
     "output_type": "execute_result"
    }
   ],
   "source": [
    "#reset_index of the new df, so that PCT code become a column and no duplicated value later)\n",
    "IPC_data = IPC_data.reset_index()\n",
    "IPC_data = IPC_data[[\"PCT\",0]]\n",
    "IPC_data.head()"
   ]
  },
  {
   "cell_type": "code",
   "execution_count": 33,
   "metadata": {},
   "outputs": [
    {
     "data": {
      "text/html": [
       "<div>\n",
       "<style scoped>\n",
       "    .dataframe tbody tr th:only-of-type {\n",
       "        vertical-align: middle;\n",
       "    }\n",
       "\n",
       "    .dataframe tbody tr th {\n",
       "        vertical-align: top;\n",
       "    }\n",
       "\n",
       "    .dataframe thead th {\n",
       "        text-align: right;\n",
       "    }\n",
       "</style>\n",
       "<table border=\"1\" class=\"dataframe\">\n",
       "  <thead>\n",
       "    <tr style=\"text-align: right;\">\n",
       "      <th></th>\n",
       "      <th>PCT</th>\n",
       "      <th>IPC</th>\n",
       "    </tr>\n",
       "  </thead>\n",
       "  <tbody>\n",
       "    <tr>\n",
       "      <th>0</th>\n",
       "      <td>WO2017075268</td>\n",
       "      <td>G01N 33/68 (2006.01)</td>\n",
       "    </tr>\n",
       "    <tr>\n",
       "      <th>1</th>\n",
       "      <td>WO2008080030</td>\n",
       "      <td>G01N 33/53 (2006.01)</td>\n",
       "    </tr>\n",
       "    <tr>\n",
       "      <th>2</th>\n",
       "      <td>WO2008080030</td>\n",
       "      <td>G01N 33/49 (2006.01)</td>\n",
       "    </tr>\n",
       "    <tr>\n",
       "      <th>3</th>\n",
       "      <td>WO1997036902</td>\n",
       "      <td>G01N 33/53 (2006.01)</td>\n",
       "    </tr>\n",
       "    <tr>\n",
       "      <th>4</th>\n",
       "      <td>WO1997036902</td>\n",
       "      <td>G01N 33/49 (2006.01)</td>\n",
       "    </tr>\n",
       "  </tbody>\n",
       "</table>\n",
       "</div>"
      ],
      "text/plain": [
       "            PCT                    IPC\n",
       "0  WO2017075268   G01N 33/68 (2006.01)\n",
       "1  WO2008080030  G01N 33/53 (2006.01) \n",
       "2  WO2008080030   G01N 33/49 (2006.01)\n",
       "3  WO1997036902  G01N 33/53 (2006.01) \n",
       "4  WO1997036902   G01N 33/49 (2006.01)"
      ]
     },
     "execution_count": 33,
     "metadata": {},
     "output_type": "execute_result"
    }
   ],
   "source": [
    "# rename the columns\n",
    "IPC_data.columns = [\"PCT\", \"IPC\"]\n",
    "IPC_data.head()"
   ]
  },
  {
   "cell_type": "code",
   "execution_count": 34,
   "metadata": {},
   "outputs": [
    {
     "data": {
      "text/html": [
       "<div>\n",
       "<style scoped>\n",
       "    .dataframe tbody tr th:only-of-type {\n",
       "        vertical-align: middle;\n",
       "    }\n",
       "\n",
       "    .dataframe tbody tr th {\n",
       "        vertical-align: top;\n",
       "    }\n",
       "\n",
       "    .dataframe thead th {\n",
       "        text-align: right;\n",
       "    }\n",
       "</style>\n",
       "<table border=\"1\" class=\"dataframe\">\n",
       "  <thead>\n",
       "    <tr style=\"text-align: right;\">\n",
       "      <th></th>\n",
       "      <th>PCT</th>\n",
       "      <th>IPC</th>\n",
       "      <th>IPC SubClass</th>\n",
       "    </tr>\n",
       "  </thead>\n",
       "  <tbody>\n",
       "    <tr>\n",
       "      <th>0</th>\n",
       "      <td>WO2017075268</td>\n",
       "      <td>G01N 33/68 (2006.01)</td>\n",
       "      <td>G01N</td>\n",
       "    </tr>\n",
       "    <tr>\n",
       "      <th>1</th>\n",
       "      <td>WO2008080030</td>\n",
       "      <td>G01N 33/53 (2006.01)</td>\n",
       "      <td>G01N</td>\n",
       "    </tr>\n",
       "    <tr>\n",
       "      <th>2</th>\n",
       "      <td>WO2008080030</td>\n",
       "      <td>G01N 33/49 (2006.01)</td>\n",
       "      <td>G01N</td>\n",
       "    </tr>\n",
       "    <tr>\n",
       "      <th>3</th>\n",
       "      <td>WO1997036902</td>\n",
       "      <td>G01N 33/53 (2006.01)</td>\n",
       "      <td>G01N</td>\n",
       "    </tr>\n",
       "    <tr>\n",
       "      <th>4</th>\n",
       "      <td>WO1997036902</td>\n",
       "      <td>G01N 33/49 (2006.01)</td>\n",
       "      <td>G01N</td>\n",
       "    </tr>\n",
       "  </tbody>\n",
       "</table>\n",
       "</div>"
      ],
      "text/plain": [
       "            PCT                    IPC IPC SubClass\n",
       "0  WO2017075268   G01N 33/68 (2006.01)         G01N\n",
       "1  WO2008080030  G01N 33/53 (2006.01)          G01N\n",
       "2  WO2008080030   G01N 33/49 (2006.01)         G01N\n",
       "3  WO1997036902  G01N 33/53 (2006.01)          G01N\n",
       "4  WO1997036902   G01N 33/49 (2006.01)         G01N"
      ]
     },
     "execution_count": 34,
     "metadata": {},
     "output_type": "execute_result"
    }
   ],
   "source": [
    "# get IPC subClass\n",
    "IPC_data[\"IPC SubClass\"] = pd.Series([st[:4] for st in IPC_data[\"IPC\"]])\n",
    "IPC_data.head()"
   ]
  },
  {
   "cell_type": "code",
   "execution_count": 35,
   "metadata": {},
   "outputs": [
    {
     "data": {
      "text/plain": [
       "array(['G01N', 'C07D', 'A61K', 'C07C', 'C07K', 'A61M', 'G06F', 'A61P',\n",
       "       'A23L', 'C08G', 'A61F', 'B29C', 'A61B', 'A61L', 'C22C', 'C22F',\n",
       "       'C08J', 'G06T', 'G09B', 'B23K', 'C08L', 'F26B', 'B05D', 'B05B',\n",
       "       'B05C', 'C08H', 'A61N'], dtype=object)"
      ]
     },
     "execution_count": 35,
     "metadata": {},
     "output_type": "execute_result"
    }
   ],
   "source": [
    "IPC_data[\"IPC SubClass\"].unique()"
   ]
  },
  {
   "cell_type": "code",
   "execution_count": 36,
   "metadata": {},
   "outputs": [],
   "source": [
    "# export PCT-IPC data\n",
    "IPC_data.to_csv(\"./Data/Ready for Excel/PCT_IPC.csv\")"
   ]
  },
  {
   "cell_type": "markdown",
   "metadata": {},
   "source": [
    "## Export Clean PCT data"
   ]
  },
  {
   "cell_type": "code",
   "execution_count": 37,
   "metadata": {},
   "outputs": [
    {
     "data": {
      "text/html": [
       "<div>\n",
       "<style scoped>\n",
       "    .dataframe tbody tr th:only-of-type {\n",
       "        vertical-align: middle;\n",
       "    }\n",
       "\n",
       "    .dataframe tbody tr th {\n",
       "        vertical-align: top;\n",
       "    }\n",
       "\n",
       "    .dataframe thead th {\n",
       "        text-align: right;\n",
       "    }\n",
       "</style>\n",
       "<table border=\"1\" class=\"dataframe\">\n",
       "  <thead>\n",
       "    <tr style=\"text-align: right;\">\n",
       "      <th></th>\n",
       "      <th>PCT</th>\n",
       "      <th>Title</th>\n",
       "      <th>Applicant</th>\n",
       "      <th>Designated to CN</th>\n",
       "      <th>Filing Date</th>\n",
       "      <th>Link</th>\n",
       "    </tr>\n",
       "  </thead>\n",
       "  <tbody>\n",
       "    <tr>\n",
       "      <th>0</th>\n",
       "      <td>WO2017075268</td>\n",
       "      <td>TROPONIN I AND SOLUBLE UROKINASE RECEPTOR DETE...</td>\n",
       "      <td>ABBOTT LABORATORIES</td>\n",
       "      <td>1</td>\n",
       "      <td>2016-10-27</td>\n",
       "      <td>https://patentscope.wipo.int/search/en/detail....</td>\n",
       "    </tr>\n",
       "    <tr>\n",
       "      <th>1</th>\n",
       "      <td>WO2008080030</td>\n",
       "      <td>CARDIOVASCULAR AUTOIMMUNE DISEASE PANEL AND ME...</td>\n",
       "      <td>ABBOTT LABORATORIES</td>\n",
       "      <td>1</td>\n",
       "      <td>2007-12-21</td>\n",
       "      <td>https://patentscope.wipo.int/search/en/detail....</td>\n",
       "    </tr>\n",
       "    <tr>\n",
       "      <th>2</th>\n",
       "      <td>WO1997036902</td>\n",
       "      <td>TRANS-2,6-, 3,6- AND 4,6-DIAZA-5,6,6a,7,8,12b-...</td>\n",
       "      <td>ABBOTT LABORATORIES</td>\n",
       "      <td>1</td>\n",
       "      <td>2007-12-21</td>\n",
       "      <td>https://patentscope.wipo.int/search/en/detail....</td>\n",
       "    </tr>\n",
       "    <tr>\n",
       "      <th>3</th>\n",
       "      <td>WO1995027526</td>\n",
       "      <td>CORONARY SINUS CATHETER INTRODUCER SYSTEM</td>\n",
       "      <td>ABBOTT LABORATORIES</td>\n",
       "      <td>0</td>\n",
       "      <td>1997-03-21</td>\n",
       "      <td>https://patentscope.wipo.int/search/en/detail....</td>\n",
       "    </tr>\n",
       "    <tr>\n",
       "      <th>4</th>\n",
       "      <td>WO1994022858</td>\n",
       "      <td>TETRACYCLIC COMPOUNDS AS DOPAMINE AGONISTS</td>\n",
       "      <td>ABBOTT LABORATORIES</td>\n",
       "      <td>1</td>\n",
       "      <td>1994-03-18</td>\n",
       "      <td>https://patentscope.wipo.int/search/en/detail....</td>\n",
       "    </tr>\n",
       "  </tbody>\n",
       "</table>\n",
       "</div>"
      ],
      "text/plain": [
       "            PCT                                              Title  \\\n",
       "0  WO2017075268  TROPONIN I AND SOLUBLE UROKINASE RECEPTOR DETE...   \n",
       "1  WO2008080030  CARDIOVASCULAR AUTOIMMUNE DISEASE PANEL AND ME...   \n",
       "2  WO1997036902  TRANS-2,6-, 3,6- AND 4,6-DIAZA-5,6,6a,7,8,12b-...   \n",
       "3  WO1995027526          CORONARY SINUS CATHETER INTRODUCER SYSTEM   \n",
       "4  WO1994022858         TETRACYCLIC COMPOUNDS AS DOPAMINE AGONISTS   \n",
       "\n",
       "             Applicant  Designated to CN Filing Date  \\\n",
       "0  ABBOTT LABORATORIES                 1  2016-10-27   \n",
       "1  ABBOTT LABORATORIES                 1  2007-12-21   \n",
       "2  ABBOTT LABORATORIES                 1  2007-12-21   \n",
       "3  ABBOTT LABORATORIES                 0  1997-03-21   \n",
       "4  ABBOTT LABORATORIES                 1  1994-03-18   \n",
       "\n",
       "                                                Link  \n",
       "0  https://patentscope.wipo.int/search/en/detail....  \n",
       "1  https://patentscope.wipo.int/search/en/detail....  \n",
       "2  https://patentscope.wipo.int/search/en/detail....  \n",
       "3  https://patentscope.wipo.int/search/en/detail....  \n",
       "4  https://patentscope.wipo.int/search/en/detail....  "
      ]
     },
     "execution_count": 37,
     "metadata": {},
     "output_type": "execute_result"
    }
   ],
   "source": [
    "columns = [\"PCT\", \"Title\", \"Applicant\", \"Designated to CN\", \"Filing Date\", \"Link\"]\n",
    "new_pct = pct[columns]\n",
    "new_pct.head()"
   ]
  },
  {
   "cell_type": "code",
   "execution_count": 38,
   "metadata": {},
   "outputs": [],
   "source": [
    "new_pct.to_csv(\"./Data/Ready for Excel/clean_PCT.csv\")"
   ]
  },
  {
   "cell_type": "code",
   "execution_count": null,
   "metadata": {},
   "outputs": [],
   "source": []
  }
 ],
 "metadata": {
  "kernelspec": {
   "display_name": "Python 3",
   "language": "python",
   "name": "python3"
  },
  "language_info": {
   "codemirror_mode": {
    "name": "ipython",
    "version": 3
   },
   "file_extension": ".py",
   "mimetype": "text/x-python",
   "name": "python",
   "nbconvert_exporter": "python",
   "pygments_lexer": "ipython3",
   "version": "3.7.1"
  }
 },
 "nbformat": 4,
 "nbformat_minor": 2
}
