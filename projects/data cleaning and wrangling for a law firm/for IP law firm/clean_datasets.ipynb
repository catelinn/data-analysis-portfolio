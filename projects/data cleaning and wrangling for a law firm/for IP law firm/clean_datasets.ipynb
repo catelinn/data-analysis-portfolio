{
 "cells": [
  {
   "cell_type": "code",
   "execution_count": 1,
   "metadata": {},
   "outputs": [],
   "source": [
    "import pandas as pd\n",
    "import numpy as np\n",
    "import openpyxl"
   ]
  },
  {
   "cell_type": "markdown",
   "metadata": {},
   "source": [
    "# Set up custom functions for use"
   ]
  },
  {
   "cell_type": "code",
   "execution_count": 2,
   "metadata": {},
   "outputs": [],
   "source": [
    "def examine_data(df, nrow=5):\n",
    "    print(\"Number of rows: {}\\n\".format(df.shape[0]))\n",
    "    print(\"Columns: {}\\n\\n\".format(list(df.columns)))\n",
    "    return df.head(nrow)\n",
    "\n",
    "import re\n",
    "def print_columns_of_all_datasets(data, search=r'.*'): \n",
    "    for key in data.keys():\n",
    "        cols = data[key].columns[data[key].columns.str.contains(search,flags=re.I)]\n",
    "        print(\"***Columns of '{}':*** \\n {}\\n\".format(key,list(cols)))\n",
    "    return None\n",
    "\n",
    "def clean_df_cols(df, cols_to_use_map):\n",
    "    cols_to_rename = [x for x in list(df.columns) \n",
    "                      if (x not in list(cols_to_use_map.values())\n",
    "                          and x in list(cols_to_use_map.keys()))]\n",
    "    m = dict(zip(cols_to_rename, [cols_to_use_map[col] for col in cols_to_rename]))\n",
    "    df = df.rename(columns=m).loc[:,list(cols_to_use_map.values())]\n",
    "    return df"
   ]
  },
  {
   "cell_type": "markdown",
   "metadata": {},
   "source": [
    "# Load in Excel sheets data"
   ]
  },
  {
   "cell_type": "code",
   "execution_count": 3,
   "metadata": {},
   "outputs": [
    {
     "data": {
      "text/plain": [
       "['China Patent',\n",
       " 'PCT',\n",
       " 'TW patent',\n",
       " 'IPC Class',\n",
       " 'Applicant Names',\n",
       " 'China Patent (Soopat)']"
      ]
     },
     "execution_count": 3,
     "metadata": {},
     "output_type": "execute_result"
    }
   ],
   "source": [
    "xl = pd.ExcelFile('Convatec data.xlsx')\n",
    "data = xl.parse(xl.sheet_names) # parse in each sheet to data dictioanry\n",
    "keys = list(data.keys())\n",
    "keys"
   ]
  },
  {
   "cell_type": "markdown",
   "metadata": {},
   "source": [
    "### Choose the datasets to work on\n",
    "\n",
    "- `China Patent`, `PCT`, `IPC`"
   ]
  },
  {
   "cell_type": "code",
   "execution_count": 4,
   "metadata": {},
   "outputs": [
    {
     "data": {
      "text/plain": [
       "dict_keys(['China Patent', 'PCT', 'IPC'])"
      ]
     },
     "execution_count": 4,
     "metadata": {},
     "output_type": "execute_result"
    }
   ],
   "source": [
    "keys = ['China Patent', 'PCT', 'IPC Class']\n",
    "data = {k:v for k,v in data.items() if k in keys}\n",
    "data['IPC'] = data.pop('IPC Class')\n",
    "data.keys()"
   ]
  },
  {
   "cell_type": "markdown",
   "metadata": {},
   "source": [
    "# Deine and clean the columns to use for all datasets"
   ]
  },
  {
   "cell_type": "code",
   "execution_count": 5,
   "metadata": {},
   "outputs": [
    {
     "name": "stdout",
     "output_type": "stream",
     "text": [
      "***Columns of 'China Patent':*** \n",
      " ['申请号', '申请号(search)', '主申请类', '类型', 'Agent', 'Unnamed: 5', '申请人', '申请人(soopat)', '地区', '申请日', '公开(公告)号', '公开(公告)日', '名称', '发明名称', 'Unnamed: 14']\n",
      "\n",
      "***Columns of 'PCT':*** \n",
      " ['Application No.', 'Agent', 'Firm', 'City', 'Country', 'Title', 'PubDate', 'US Application No.', 'Applicant', 'Inventor', 'Int.Class']\n",
      "\n",
      "***Columns of 'IPC':*** \n",
      " ['主申请类(soopat)', '主申请类链接(soopat)', '分类号(wipo)', '分类号链接(wipo)', '标准分类号', '分类表年份', '部', '部（说明）', '大类', '大类（解释）', '小类', '小类（说明）', '大组', '大组（说明）', '一点小组', '一点小组（说明）', '二点小组', '二点小组（说明）', '三点小组', '三点小组（说明）', '四点小组', '四点小组（说明）', '五点小组', '五点小组（说明）', '六点小组', '六点小组（说明）']\n",
      "\n"
     ]
    }
   ],
   "source": [
    "print_columns_of_all_datasets(data)"
   ]
  },
  {
   "cell_type": "code",
   "execution_count": 6,
   "metadata": {},
   "outputs": [],
   "source": [
    "china_patent_cols_dict = {'申请号':'App_No(Soopat)', '申请号(search)':'App_No', \n",
    "                          '主申请类':'IPC(Soopat)', '类型':'Type', 'Agent':'Firm', \n",
    "                          '申请人':'Applicant_EN', '申请人(soopat)':'Applicant_CN','地区': 'China_Judct', \n",
    "                          '申请日':'AppDate', '公开(公告)号':'Pub_No', \n",
    "                          '公开(公告)日':'PubDate', '名称': 'Title_CN',\n",
    "                          '发明名称': 'Title_EN'}\n",
    "\n",
    "\n",
    "cols = ['Application No.', 'Agent', 'Firm', 'City', 'Country', 'Title', 'PubDate', \n",
    " 'US Application No.', 'Applicant', 'Inventor', 'Int.Class']\n",
    "newcols = ['App_No(WIPO)', 'Agent', 'Firm', 'City', 'Country', 'Title_EN', 'PubDate', \n",
    "             'US_App_No', 'Applicant_EN', 'Inventor', 'IPC(WIPO)']\n",
    "pct_cols_dict = dict(zip(cols, newcols))\n",
    "\n",
    "\n",
    "cols = ['主申请类(soopat)', '主申请类链接(soopat)', '分类号(wipo)', \n",
    " '分类号链接(wipo)', '标准分类号', '分类表年份', '部', '部（说明）', \n",
    " '大类', '大类（解释）', '小类', '小类（说明）', '大组', '大组（说明）', \n",
    " '一点小组', '一点小组（说明）', '二点小组', '二点小组（说明）', '三点小组', \n",
    " '三点小组（说明）', '四点小组', '四点小组（说明）', '五点小组', '五点小组（说明）', \n",
    " '六点小组', '六点小组（说明）']\n",
    "newcols = ['IPC(Soopat)', 'IPC_Link(Soopat)', 'IPC(WIPO)', \n",
    " 'IPC_link(WIPO)', 'IPC', 'IPC_Version', '部', '部（说明）', \n",
    " '大类', '大类（说明）', '小类', '小类（说明）', '大组', '大组（说明）', \n",
    " '一点小组', '一点小组（说明）', '二点小组', '二点小组（说明）', '三点小组', \n",
    " '三点小组（说明）', '四点小组', '四点小组（说明）', '五点小组', '五点小组（说明）', \n",
    " '六点小组', '六点小组（说明）']\n",
    "IPC_cols_dict = dict(zip(cols, newcols))"
   ]
  },
  {
   "cell_type": "code",
   "execution_count": 7,
   "metadata": {},
   "outputs": [],
   "source": [
    "data['China Patent'] = clean_df_cols(data['China Patent'],china_patent_cols_dict)\n",
    "data['PCT'] = clean_df_cols(data['PCT'],pct_cols_dict)\n",
    "data['IPC'] = clean_df_cols(data['IPC'],IPC_cols_dict)"
   ]
  },
  {
   "cell_type": "markdown",
   "metadata": {},
   "source": [
    "# Examine the dataset"
   ]
  },
  {
   "cell_type": "code",
   "execution_count": 8,
   "metadata": {},
   "outputs": [
    {
     "name": "stdout",
     "output_type": "stream",
     "text": [
      "'China Patent'\n",
      "\n",
      "Number of rows: 69\n",
      "\n",
      "Columns: ['App_No(Soopat)', 'App_No', 'IPC(Soopat)', 'Type', 'Firm', 'Applicant_EN', 'Applicant_CN', 'China_Judct', 'AppDate', 'Pub_No', 'PubDate', 'Title_CN', 'Title_EN']\n",
      "\n",
      "\n",
      "    App_No(Soopat)        App_No IPC(Soopat) Type                    Firm  \\\n",
      "0  CN:201730554158  201730554158   24-02(11)   外观  北京康信知识产权代理有限责任公司 11240   \n",
      "1  CN:201730554195  201730554195   24-02(11)   外观  北京康信知识产权代理有限责任公司 11240   \n",
      "\n",
      "          Applicant_EN Applicant_CN China_Judct     AppDate        Pub_No  \\\n",
      "0  CONVATEC CO., LTD.;      康维德有限公司          CN  2017.11.10  CN304631416S   \n",
      "1  CONVATEC CO., LTD.;      康维德有限公司          CN  2017.11.10  CN304631417S   \n",
      "\n",
      "      PubDate     Title_CN                                           Title_EN  \n",
      "0  2018.05.15  负压伤口治疗仪用连接器  Connector for negative pressure wound treatmen...  \n",
      "1  2018.05.15    负压伤口治疗仪用泵  Pump for negative pressure wound treatment ins...   \n",
      "\n",
      "'PCT'\n",
      "\n",
      "Number of rows: 80\n",
      "\n",
      "Columns: ['App_No(WIPO)', 'Agent', 'Firm', 'City', 'Country', 'Title_EN', 'PubDate', 'US_App_No', 'Applicant_EN', 'Inventor', 'IPC(WIPO)']\n",
      "\n",
      "\n",
      "     App_No(WIPO)            Agent                          Firm  \\\n",
      "0  WO/2009/124324  KRIEGER, Stuart  Bristol-Myers Squibb Company   \n",
      "1  WO/2009/131992  KRIEGER, Stuart  Bristol-Myers Squibb Company   \n",
      "\n",
      "           City Country                    Title_EN     PubDate  \\\n",
      "0  New York, NY      US      DRAINABLE OSTOMY POUCH  08.10.2009   \n",
      "1  New York, NY      US  TEMPORARY OSTOMY APPLIANCE  29.10.2009   \n",
      "\n",
      "           US_App_No                Applicant_EN              Inventor  \\\n",
      "0  PCT/US2009/039764  CONVATEC TECHNOLOGIES INC,      MURRAY, Kimberly   \n",
      "1  PCT/US2009/041237  CONVATEC TECHNOLOGIES INC.  GREGORY, Christopher   \n",
      "\n",
      "    IPC(WIPO)  \n",
      "0   A61F 5/44  \n",
      "1  A61F 5/445   \n",
      "\n",
      "'IPC'\n",
      "\n",
      "Number of rows: 47\n",
      "\n",
      "Columns: ['IPC(Soopat)', 'IPC_Link(Soopat)', 'IPC(WIPO)', 'IPC_link(WIPO)', 'IPC', 'IPC_Version', '部', '部（说明）', '大类', '大类（说明）', '小类', '小类（说明）', '大组', '大组（说明）', '一点小组', '一点小组（说明）', '二点小组', '二点小组（说明）', '三点小组', '三点小组（说明）', '四点小组', '四点小组（说明）', '五点小组', '五点小组（说明）', '六点小组', '六点小组（说明）']\n",
      "\n",
      "\n",
      "  IPC(Soopat)                          IPC_Link(Soopat) IPC(WIPO)  \\\n",
      "0   03-01(11)  http://www.soopat.com/IDC/Code/03-01(11)       NaN   \n",
      "1   24-01(11)  http://www.soopat.com/IDC/Code/24-01(11)       NaN   \n",
      "\n",
      "  IPC_link(WIPO)    IPC  IPC_Version    部                   部（说明）     大类  \\\n",
      "0            NaN  03-01       2011.0  03类  其它类未列入的旅行用品、箱子、阳伞和个人用品  03-01   \n",
      "1            NaN  24-01       2011.0  24类                医疗和实验室设备  24-01   \n",
      "\n",
      "                                    大类（说明）  ... 二点小组 二点小组（说明） 三点小组 三点小组（说明）  \\\n",
      "0  大衣箱、手提箱、公文包、手提包、钥匙袋、内部容积专门设计的箱子、钱包及类似物品  ...  NaN      NaN  NaN      NaN   \n",
      "1                       医生、医院和实验室用的固定器械和设备  ...  NaN      NaN  NaN      NaN   \n",
      "\n",
      "  四点小组 四点小组（说明） 五点小组 五点小组（说明） 六点小组 六点小组（说明）  \n",
      "0  NaN      NaN  NaN      NaN  NaN      NaN  \n",
      "1  NaN      NaN  NaN      NaN  NaN      NaN  \n",
      "\n",
      "[2 rows x 26 columns] \n",
      "\n"
     ]
    }
   ],
   "source": [
    "for key in data.keys():\n",
    "    print(\"'{}'\\n\".format(key))\n",
    "    print(examine_data(data[key],2),\"\\n\")"
   ]
  },
  {
   "cell_type": "markdown",
   "metadata": {},
   "source": [
    "# Convert dates"
   ]
  },
  {
   "cell_type": "code",
   "execution_count": 9,
   "metadata": {},
   "outputs": [
    {
     "name": "stdout",
     "output_type": "stream",
     "text": [
      "***Columns of 'China Patent':*** \n",
      " ['AppDate', 'PubDate']\n",
      "\n",
      "***Columns of 'PCT':*** \n",
      " ['PubDate']\n",
      "\n",
      "***Columns of 'IPC':*** \n",
      " []\n",
      "\n"
     ]
    }
   ],
   "source": [
    "print_columns_of_all_datasets(data, r'date')"
   ]
  },
  {
   "cell_type": "markdown",
   "metadata": {},
   "source": [
    "### Convert dates in `China Patent`"
   ]
  },
  {
   "cell_type": "code",
   "execution_count": 10,
   "metadata": {},
   "outputs": [
    {
     "data": {
      "text/html": [
       "<div>\n",
       "<style scoped>\n",
       "    .dataframe tbody tr th:only-of-type {\n",
       "        vertical-align: middle;\n",
       "    }\n",
       "\n",
       "    .dataframe tbody tr th {\n",
       "        vertical-align: top;\n",
       "    }\n",
       "\n",
       "    .dataframe thead th {\n",
       "        text-align: right;\n",
       "    }\n",
       "</style>\n",
       "<table border=\"1\" class=\"dataframe\">\n",
       "  <thead>\n",
       "    <tr style=\"text-align: right;\">\n",
       "      <th></th>\n",
       "      <th>AppDate</th>\n",
       "      <th>PubDate</th>\n",
       "    </tr>\n",
       "  </thead>\n",
       "  <tbody>\n",
       "    <tr>\n",
       "      <td>0</td>\n",
       "      <td>2017.11.10</td>\n",
       "      <td>2018.05.15</td>\n",
       "    </tr>\n",
       "    <tr>\n",
       "      <td>1</td>\n",
       "      <td>2017.11.10</td>\n",
       "      <td>2018.05.15</td>\n",
       "    </tr>\n",
       "    <tr>\n",
       "      <td>2</td>\n",
       "      <td>2017.12.22</td>\n",
       "      <td>2018.06.26</td>\n",
       "    </tr>\n",
       "    <tr>\n",
       "      <td>3</td>\n",
       "      <td>2008.10.20</td>\n",
       "      <td>2010.12.15</td>\n",
       "    </tr>\n",
       "    <tr>\n",
       "      <td>4</td>\n",
       "      <td>2017.11.10</td>\n",
       "      <td>2018.03.20</td>\n",
       "    </tr>\n",
       "  </tbody>\n",
       "</table>\n",
       "</div>"
      ],
      "text/plain": [
       "      AppDate     PubDate\n",
       "0  2017.11.10  2018.05.15\n",
       "1  2017.11.10  2018.05.15\n",
       "2  2017.12.22  2018.06.26\n",
       "3  2008.10.20  2010.12.15\n",
       "4  2017.11.10  2018.03.20"
      ]
     },
     "execution_count": 10,
     "metadata": {},
     "output_type": "execute_result"
    }
   ],
   "source": [
    "data['China Patent'][['AppDate', 'PubDate']].head()"
   ]
  },
  {
   "cell_type": "code",
   "execution_count": 11,
   "metadata": {},
   "outputs": [
    {
     "name": "stdout",
     "output_type": "stream",
     "text": [
      "AppDate     0\n",
      "PubDate    15\n",
      "dtype: int64\n"
     ]
    },
    {
     "data": {
      "text/html": [
       "<div>\n",
       "<style scoped>\n",
       "    .dataframe tbody tr th:only-of-type {\n",
       "        vertical-align: middle;\n",
       "    }\n",
       "\n",
       "    .dataframe tbody tr th {\n",
       "        vertical-align: top;\n",
       "    }\n",
       "\n",
       "    .dataframe thead th {\n",
       "        text-align: right;\n",
       "    }\n",
       "</style>\n",
       "<table border=\"1\" class=\"dataframe\">\n",
       "  <thead>\n",
       "    <tr style=\"text-align: right;\">\n",
       "      <th></th>\n",
       "      <th>AppDate</th>\n",
       "      <th>PubDate</th>\n",
       "    </tr>\n",
       "  </thead>\n",
       "  <tbody>\n",
       "    <tr>\n",
       "      <td>0</td>\n",
       "      <td>2017-11-10</td>\n",
       "      <td>2018-05-15</td>\n",
       "    </tr>\n",
       "    <tr>\n",
       "      <td>1</td>\n",
       "      <td>2017-11-10</td>\n",
       "      <td>2018-05-15</td>\n",
       "    </tr>\n",
       "    <tr>\n",
       "      <td>2</td>\n",
       "      <td>2017-12-22</td>\n",
       "      <td>2018-06-26</td>\n",
       "    </tr>\n",
       "    <tr>\n",
       "      <td>3</td>\n",
       "      <td>2008-10-20</td>\n",
       "      <td>2010-12-15</td>\n",
       "    </tr>\n",
       "    <tr>\n",
       "      <td>4</td>\n",
       "      <td>2017-11-10</td>\n",
       "      <td>2018-03-20</td>\n",
       "    </tr>\n",
       "  </tbody>\n",
       "</table>\n",
       "</div>"
      ],
      "text/plain": [
       "     AppDate    PubDate\n",
       "0 2017-11-10 2018-05-15\n",
       "1 2017-11-10 2018-05-15\n",
       "2 2017-12-22 2018-06-26\n",
       "3 2008-10-20 2010-12-15\n",
       "4 2017-11-10 2018-03-20"
      ]
     },
     "execution_count": 11,
     "metadata": {},
     "output_type": "execute_result"
    }
   ],
   "source": [
    "f = '%Y.%m.%d'\n",
    "data['China Patent'][['AppDate', 'PubDate']] = (data['China Patent'][['AppDate', 'PubDate']]\n",
    "                                                .apply(pd.to_datetime,format=f, \n",
    "                                                       # return NaT for non-parseable date\n",
    "                                                       errors='coerce'))\n",
    "print(data['China Patent'][['AppDate', 'PubDate']].isna().sum())\n",
    "data['China Patent'][['AppDate', 'PubDate']].head()                                      "
   ]
  },
  {
   "cell_type": "code",
   "execution_count": 12,
   "metadata": {},
   "outputs": [
    {
     "data": {
      "text/plain": [
       "15"
      ]
     },
     "execution_count": 12,
     "metadata": {},
     "output_type": "execute_result"
    }
   ],
   "source": [
    "data['China Patent'].loc[data['China Patent']['PubDate'].isna(), 'Pub_No'].shape[0]"
   ]
  },
  {
   "cell_type": "markdown",
   "metadata": {},
   "source": [
    "All data with `PubDate` as `NaT` are found with `Pub_No` as `NaN`, so it's not an issue to worry about.\n",
    "\n",
    "### Convert dates in `PCT`"
   ]
  },
  {
   "cell_type": "code",
   "execution_count": 13,
   "metadata": {},
   "outputs": [
    {
     "data": {
      "text/plain": [
       "0    08.10.2009\n",
       "1    29.10.2009\n",
       "2    08.07.2010\n",
       "3    23.12.2009\n",
       "4    23.12.2009\n",
       "Name: PubDate, dtype: object"
      ]
     },
     "execution_count": 13,
     "metadata": {},
     "output_type": "execute_result"
    }
   ],
   "source": [
    "data['PCT'].loc[:,'PubDate'].head()"
   ]
  },
  {
   "cell_type": "code",
   "execution_count": 14,
   "metadata": {},
   "outputs": [
    {
     "name": "stdout",
     "output_type": "stream",
     "text": [
      "0\n"
     ]
    },
    {
     "data": {
      "text/plain": [
       "0   2009-10-08\n",
       "1   2009-10-29\n",
       "2   2010-07-08\n",
       "3   2009-12-23\n",
       "4   2009-12-23\n",
       "Name: PubDate, dtype: datetime64[ns]"
      ]
     },
     "execution_count": 14,
     "metadata": {},
     "output_type": "execute_result"
    }
   ],
   "source": [
    "f = '%d.%m.%Y'\n",
    "data['PCT'].loc[:,'PubDate']=pd.to_datetime(data['PCT'].loc[:,'PubDate'], format=f, errors='coerce')\n",
    "print(data['PCT'].loc[:,'PubDate'].isna().sum())\n",
    "data['PCT'].loc[:,'PubDate'].head()"
   ]
  },
  {
   "cell_type": "markdown",
   "metadata": {},
   "source": [
    "### Add `AppDate` in `PCT`\n",
    "- Extract `year` from `App_No(WIPO)` "
   ]
  },
  {
   "cell_type": "code",
   "execution_count": 15,
   "metadata": {},
   "outputs": [
    {
     "data": {
      "text/html": [
       "<div>\n",
       "<style scoped>\n",
       "    .dataframe tbody tr th:only-of-type {\n",
       "        vertical-align: middle;\n",
       "    }\n",
       "\n",
       "    .dataframe tbody tr th {\n",
       "        vertical-align: top;\n",
       "    }\n",
       "\n",
       "    .dataframe thead th {\n",
       "        text-align: right;\n",
       "    }\n",
       "</style>\n",
       "<table border=\"1\" class=\"dataframe\">\n",
       "  <thead>\n",
       "    <tr style=\"text-align: right;\">\n",
       "      <th></th>\n",
       "      <th>App_No(WIPO)</th>\n",
       "      <th>Agent</th>\n",
       "      <th>Firm</th>\n",
       "      <th>City</th>\n",
       "      <th>Country</th>\n",
       "      <th>Title_EN</th>\n",
       "      <th>PubDate</th>\n",
       "      <th>US_App_No</th>\n",
       "      <th>Applicant_EN</th>\n",
       "      <th>Inventor</th>\n",
       "      <th>IPC(WIPO)</th>\n",
       "      <th>AppDate</th>\n",
       "    </tr>\n",
       "  </thead>\n",
       "  <tbody>\n",
       "    <tr>\n",
       "      <td>0</td>\n",
       "      <td>WO/2009/124324</td>\n",
       "      <td>KRIEGER, Stuart</td>\n",
       "      <td>Bristol-Myers Squibb Company</td>\n",
       "      <td>New York, NY</td>\n",
       "      <td>US</td>\n",
       "      <td>DRAINABLE OSTOMY POUCH</td>\n",
       "      <td>2009-10-08</td>\n",
       "      <td>PCT/US2009/039764</td>\n",
       "      <td>CONVATEC TECHNOLOGIES INC,</td>\n",
       "      <td>MURRAY, Kimberly</td>\n",
       "      <td>A61F 5/44</td>\n",
       "      <td>2009-01-01</td>\n",
       "    </tr>\n",
       "    <tr>\n",
       "      <td>1</td>\n",
       "      <td>WO/2009/131992</td>\n",
       "      <td>KRIEGER, Stuart</td>\n",
       "      <td>Bristol-Myers Squibb Company</td>\n",
       "      <td>New York, NY</td>\n",
       "      <td>US</td>\n",
       "      <td>TEMPORARY OSTOMY APPLIANCE</td>\n",
       "      <td>2009-10-29</td>\n",
       "      <td>PCT/US2009/041237</td>\n",
       "      <td>CONVATEC TECHNOLOGIES INC.</td>\n",
       "      <td>GREGORY, Christopher</td>\n",
       "      <td>A61F 5/445</td>\n",
       "      <td>2009-01-01</td>\n",
       "    </tr>\n",
       "  </tbody>\n",
       "</table>\n",
       "</div>"
      ],
      "text/plain": [
       "     App_No(WIPO)            Agent                          Firm  \\\n",
       "0  WO/2009/124324  KRIEGER, Stuart  Bristol-Myers Squibb Company   \n",
       "1  WO/2009/131992  KRIEGER, Stuart  Bristol-Myers Squibb Company   \n",
       "\n",
       "           City Country                    Title_EN    PubDate  \\\n",
       "0  New York, NY      US      DRAINABLE OSTOMY POUCH 2009-10-08   \n",
       "1  New York, NY      US  TEMPORARY OSTOMY APPLIANCE 2009-10-29   \n",
       "\n",
       "           US_App_No                Applicant_EN              Inventor  \\\n",
       "0  PCT/US2009/039764  CONVATEC TECHNOLOGIES INC,      MURRAY, Kimberly   \n",
       "1  PCT/US2009/041237  CONVATEC TECHNOLOGIES INC.  GREGORY, Christopher   \n",
       "\n",
       "    IPC(WIPO)    AppDate  \n",
       "0   A61F 5/44 2009-01-01  \n",
       "1  A61F 5/445 2009-01-01  "
      ]
     },
     "execution_count": 15,
     "metadata": {},
     "output_type": "execute_result"
    }
   ],
   "source": [
    "data['PCT']['AppDate'] = data['PCT']['App_No(WIPO)'].str.extract(r'\\/(.*)\\/').astype('datetime64')\n",
    "data['PCT'].head(2)"
   ]
  },
  {
   "cell_type": "markdown",
   "metadata": {},
   "source": [
    "# Remove duplicate patents"
   ]
  },
  {
   "cell_type": "code",
   "execution_count": 16,
   "metadata": {},
   "outputs": [],
   "source": [
    "subset = ['App_No', 'Pub_No','Type']\n",
    "data['China Patent'] = data['China Patent'].sort_values(subset).drop_duplicates(subset=subset)\n",
    "data['PCT'] = data['PCT'].sort_values('App_No(WIPO)').drop_duplicates()"
   ]
  },
  {
   "cell_type": "markdown",
   "metadata": {},
   "source": [
    "# Merge `China Patent` with `IPC`"
   ]
  },
  {
   "cell_type": "code",
   "execution_count": 17,
   "metadata": {},
   "outputs": [
    {
     "data": {
      "text/html": [
       "<div>\n",
       "<style scoped>\n",
       "    .dataframe tbody tr th:only-of-type {\n",
       "        vertical-align: middle;\n",
       "    }\n",
       "\n",
       "    .dataframe tbody tr th {\n",
       "        vertical-align: top;\n",
       "    }\n",
       "\n",
       "    .dataframe thead th {\n",
       "        text-align: right;\n",
       "    }\n",
       "</style>\n",
       "<table border=\"1\" class=\"dataframe\">\n",
       "  <thead>\n",
       "    <tr style=\"text-align: right;\">\n",
       "      <th></th>\n",
       "      <th>App_No(Soopat)</th>\n",
       "      <th>App_No</th>\n",
       "      <th>IPC(Soopat)</th>\n",
       "      <th>Type</th>\n",
       "      <th>Firm</th>\n",
       "      <th>Applicant_EN</th>\n",
       "      <th>Applicant_CN</th>\n",
       "      <th>China_Judct</th>\n",
       "      <th>AppDate</th>\n",
       "      <th>Pub_No</th>\n",
       "      <th>...</th>\n",
       "      <th>二点小组</th>\n",
       "      <th>二点小组（说明）</th>\n",
       "      <th>三点小组</th>\n",
       "      <th>三点小组（说明）</th>\n",
       "      <th>四点小组</th>\n",
       "      <th>四点小组（说明）</th>\n",
       "      <th>五点小组</th>\n",
       "      <th>五点小组（说明）</th>\n",
       "      <th>六点小组</th>\n",
       "      <th>六点小组（说明）</th>\n",
       "    </tr>\n",
       "  </thead>\n",
       "  <tbody>\n",
       "    <tr>\n",
       "      <td>0</td>\n",
       "      <td>200680027416.6</td>\n",
       "      <td>200680027416</td>\n",
       "      <td>A61F5/01(2006.01)I</td>\n",
       "      <td>授权</td>\n",
       "      <td>中国专利代理(香港)有限公司 72001</td>\n",
       "      <td>NaN</td>\n",
       "      <td>康沃特克科技公司</td>\n",
       "      <td>CN</td>\n",
       "      <td>2006-06-08</td>\n",
       "      <td>NaN</td>\n",
       "      <td>...</td>\n",
       "      <td>NaN</td>\n",
       "      <td>NaN</td>\n",
       "      <td>NaN</td>\n",
       "      <td>NaN</td>\n",
       "      <td>NaN</td>\n",
       "      <td>NaN</td>\n",
       "      <td>NaN</td>\n",
       "      <td>NaN</td>\n",
       "      <td>NaN</td>\n",
       "      <td>NaN</td>\n",
       "    </tr>\n",
       "    <tr>\n",
       "      <td>1</td>\n",
       "      <td>200680027793.X</td>\n",
       "      <td>200680027793</td>\n",
       "      <td>A61F5/01(2006.01)I</td>\n",
       "      <td>授权</td>\n",
       "      <td>中国专利代理(香港)有限公司 72001</td>\n",
       "      <td>NaN</td>\n",
       "      <td>康沃特克科技公司</td>\n",
       "      <td>CN</td>\n",
       "      <td>2006-06-08</td>\n",
       "      <td>NaN</td>\n",
       "      <td>...</td>\n",
       "      <td>NaN</td>\n",
       "      <td>NaN</td>\n",
       "      <td>NaN</td>\n",
       "      <td>NaN</td>\n",
       "      <td>NaN</td>\n",
       "      <td>NaN</td>\n",
       "      <td>NaN</td>\n",
       "      <td>NaN</td>\n",
       "      <td>NaN</td>\n",
       "      <td>NaN</td>\n",
       "    </tr>\n",
       "  </tbody>\n",
       "</table>\n",
       "<p>2 rows × 38 columns</p>\n",
       "</div>"
      ],
      "text/plain": [
       "    App_No(Soopat)        App_No         IPC(Soopat) Type  \\\n",
       "0  200680027416.6   200680027416  A61F5/01(2006.01)I   授权   \n",
       "1  200680027793.X   200680027793  A61F5/01(2006.01)I   授权   \n",
       "\n",
       "                   Firm Applicant_EN Applicant_CN China_Judct    AppDate  \\\n",
       "0  中国专利代理(香港)有限公司 72001          NaN     康沃特克科技公司          CN 2006-06-08   \n",
       "1  中国专利代理(香港)有限公司 72001          NaN     康沃特克科技公司          CN 2006-06-08   \n",
       "\n",
       "  Pub_No  ... 二点小组 二点小组（说明） 三点小组 三点小组（说明） 四点小组 四点小组（说明） 五点小组  五点小组（说明） 六点小组  \\\n",
       "0    NaN  ...  NaN      NaN  NaN      NaN  NaN      NaN  NaN       NaN  NaN   \n",
       "1    NaN  ...  NaN      NaN  NaN      NaN  NaN      NaN  NaN       NaN  NaN   \n",
       "\n",
       "  六点小组（说明）  \n",
       "0      NaN  \n",
       "1      NaN  \n",
       "\n",
       "[2 rows x 38 columns]"
      ]
     },
     "execution_count": 17,
     "metadata": {},
     "output_type": "execute_result"
    }
   ],
   "source": [
    "data[\"China_Patent_with_IPC\"] = data['China Patent'].merge(data['IPC'], on='IPC(Soopat)').head(2)\n",
    "data[\"China_Patent_with_IPC\"].head()"
   ]
  },
  {
   "cell_type": "code",
   "execution_count": 18,
   "metadata": {},
   "outputs": [
    {
     "data": {
      "text/html": [
       "<div>\n",
       "<style scoped>\n",
       "    .dataframe tbody tr th:only-of-type {\n",
       "        vertical-align: middle;\n",
       "    }\n",
       "\n",
       "    .dataframe tbody tr th {\n",
       "        vertical-align: top;\n",
       "    }\n",
       "\n",
       "    .dataframe thead th {\n",
       "        text-align: right;\n",
       "    }\n",
       "</style>\n",
       "<table border=\"1\" class=\"dataframe\">\n",
       "  <thead>\n",
       "    <tr style=\"text-align: right;\">\n",
       "      <th></th>\n",
       "      <th>App_No(Soopat)</th>\n",
       "      <th>App_No</th>\n",
       "      <th>Type</th>\n",
       "      <th>Firm</th>\n",
       "      <th>Applicant_CN</th>\n",
       "      <th>AppDate</th>\n",
       "      <th>Pub_No</th>\n",
       "      <th>PubDate</th>\n",
       "      <th>Title_CN</th>\n",
       "      <th>IPC</th>\n",
       "      <th>IPC_Link(Soopat)</th>\n",
       "      <th>IPC_link(WIPO)</th>\n",
       "      <th>IPC_Version</th>\n",
       "      <th>部</th>\n",
       "      <th>大类</th>\n",
       "      <th>小类</th>\n",
       "      <th>大组</th>\n",
       "    </tr>\n",
       "  </thead>\n",
       "  <tbody>\n",
       "    <tr>\n",
       "      <td>0</td>\n",
       "      <td>200680027416.6</td>\n",
       "      <td>200680027416</td>\n",
       "      <td>授权</td>\n",
       "      <td>中国专利代理(香港)有限公司 72001</td>\n",
       "      <td>康沃特克科技公司</td>\n",
       "      <td>2006-06-08</td>\n",
       "      <td>NaN</td>\n",
       "      <td>NaT</td>\n",
       "      <td>足部的压缩装置</td>\n",
       "      <td>A61F5/01</td>\n",
       "      <td>http://www.soopat.com/IPC/Code/A61F5-01</td>\n",
       "      <td>NaN</td>\n",
       "      <td>2006.01</td>\n",
       "      <td>A</td>\n",
       "      <td>A61</td>\n",
       "      <td>A61F</td>\n",
       "      <td>5/00</td>\n",
       "    </tr>\n",
       "    <tr>\n",
       "      <td>1</td>\n",
       "      <td>200680027793.X</td>\n",
       "      <td>200680027793</td>\n",
       "      <td>授权</td>\n",
       "      <td>中国专利代理(香港)有限公司 72001</td>\n",
       "      <td>康沃特克科技公司</td>\n",
       "      <td>2006-06-08</td>\n",
       "      <td>NaN</td>\n",
       "      <td>NaT</td>\n",
       "      <td>将压缩提供到肢体的箍套</td>\n",
       "      <td>A61F5/01</td>\n",
       "      <td>http://www.soopat.com/IPC/Code/A61F5-01</td>\n",
       "      <td>NaN</td>\n",
       "      <td>2006.01</td>\n",
       "      <td>A</td>\n",
       "      <td>A61</td>\n",
       "      <td>A61F</td>\n",
       "      <td>5/00</td>\n",
       "    </tr>\n",
       "  </tbody>\n",
       "</table>\n",
       "</div>"
      ],
      "text/plain": [
       "    App_No(Soopat)        App_No Type                  Firm Applicant_CN  \\\n",
       "0  200680027416.6   200680027416   授权  中国专利代理(香港)有限公司 72001     康沃特克科技公司   \n",
       "1  200680027793.X   200680027793   授权  中国专利代理(香港)有限公司 72001     康沃特克科技公司   \n",
       "\n",
       "     AppDate Pub_No PubDate     Title_CN       IPC  \\\n",
       "0 2006-06-08    NaN     NaT      足部的压缩装置  A61F5/01   \n",
       "1 2006-06-08    NaN     NaT  将压缩提供到肢体的箍套  A61F5/01   \n",
       "\n",
       "                          IPC_Link(Soopat) IPC_link(WIPO)  IPC_Version  部  \\\n",
       "0  http://www.soopat.com/IPC/Code/A61F5-01            NaN      2006.01  A   \n",
       "1  http://www.soopat.com/IPC/Code/A61F5-01            NaN      2006.01  A   \n",
       "\n",
       "    大类    小类    大组  \n",
       "0  A61  A61F  5/00  \n",
       "1  A61  A61F  5/00  "
      ]
     },
     "execution_count": 18,
     "metadata": {},
     "output_type": "execute_result"
    }
   ],
   "source": [
    "cols = ['App_No(Soopat)', 'App_No', 'Type', 'Firm',\n",
    "       'Applicant_CN', 'AppDate', 'Pub_No',\n",
    "       'PubDate', 'Title_CN', 'IPC', 'IPC_Link(Soopat)', \n",
    "       'IPC_link(WIPO)', 'IPC_Version', '部', '大类',\n",
    "       '小类', '大组']\n",
    "data[\"China_Patent_with_IPC\"] = data[\"China_Patent_with_IPC\"][cols]\n",
    "data[\"China_Patent_with_IPC\"].head(2)"
   ]
  },
  {
   "cell_type": "markdown",
   "metadata": {},
   "source": [
    "# Merge `PCT` with `IPC`"
   ]
  },
  {
   "cell_type": "code",
   "execution_count": 19,
   "metadata": {},
   "outputs": [
    {
     "data": {
      "text/plain": [
       "Index(['App_No(WIPO)', 'Agent', 'Firm', 'City', 'Country', 'Title_EN',\n",
       "       'PubDate', 'US_App_No', 'Applicant_EN', 'Inventor', 'IPC(WIPO)',\n",
       "       'AppDate', 'IPC(Soopat)', 'IPC_Link(Soopat)', 'IPC_link(WIPO)', 'IPC',\n",
       "       'IPC_Version', '部', '部（说明）', '大类', '大类（说明）', '小类', '小类（说明）', '大组',\n",
       "       '大组（说明）', '一点小组', '一点小组（说明）', '二点小组', '二点小组（说明）', '三点小组', '三点小组（说明）',\n",
       "       '四点小组', '四点小组（说明）', '五点小组', '五点小组（说明）', '六点小组', '六点小组（说明）'],\n",
       "      dtype='object')"
      ]
     },
     "execution_count": 19,
     "metadata": {},
     "output_type": "execute_result"
    }
   ],
   "source": [
    "data['PCT_with_IPC'] = data['PCT'].merge(data['IPC'], on='IPC(WIPO)')\n",
    "data['PCT_with_IPC'].columns"
   ]
  },
  {
   "cell_type": "code",
   "execution_count": 20,
   "metadata": {},
   "outputs": [
    {
     "data": {
      "text/html": [
       "<div>\n",
       "<style scoped>\n",
       "    .dataframe tbody tr th:only-of-type {\n",
       "        vertical-align: middle;\n",
       "    }\n",
       "\n",
       "    .dataframe tbody tr th {\n",
       "        vertical-align: top;\n",
       "    }\n",
       "\n",
       "    .dataframe thead th {\n",
       "        text-align: right;\n",
       "    }\n",
       "</style>\n",
       "<table border=\"1\" class=\"dataframe\">\n",
       "  <thead>\n",
       "    <tr style=\"text-align: right;\">\n",
       "      <th></th>\n",
       "      <th>App_No(WIPO)</th>\n",
       "      <th>AppDate</th>\n",
       "      <th>Agent</th>\n",
       "      <th>Firm</th>\n",
       "      <th>City</th>\n",
       "      <th>Country</th>\n",
       "      <th>Title_EN</th>\n",
       "      <th>PubDate</th>\n",
       "      <th>US_App_No</th>\n",
       "      <th>Applicant_EN</th>\n",
       "      <th>IPC</th>\n",
       "      <th>IPC(WIPO)</th>\n",
       "      <th>IPC_Link(Soopat)</th>\n",
       "      <th>IPC_link(WIPO)</th>\n",
       "      <th>IPC_Version</th>\n",
       "      <th>部</th>\n",
       "      <th>大类</th>\n",
       "      <th>小类</th>\n",
       "      <th>大组</th>\n",
       "    </tr>\n",
       "  </thead>\n",
       "  <tbody>\n",
       "    <tr>\n",
       "      <td>0</td>\n",
       "      <td>WO/2008/062209</td>\n",
       "      <td>2008-01-01</td>\n",
       "      <td>MAYS, Julie</td>\n",
       "      <td>Barker Brettell LLP</td>\n",
       "      <td>London</td>\n",
       "      <td>UK</td>\n",
       "      <td>DISSOLUTION AND PROCESSING OF CELLULOSE</td>\n",
       "      <td>2008-05-29</td>\n",
       "      <td>PCT/GB2007/004488</td>\n",
       "      <td>CONVATEC TECHNOLOGIES INC.</td>\n",
       "      <td>A61K47/18</td>\n",
       "      <td>A61K 47/18</td>\n",
       "      <td>NaN</td>\n",
       "      <td>http://www.wipo.int/ipcpub/?symbol=A61K0047180...</td>\n",
       "      <td>2006.01</td>\n",
       "      <td>A</td>\n",
       "      <td>A61</td>\n",
       "      <td>A61K</td>\n",
       "      <td>47/00</td>\n",
       "    </tr>\n",
       "    <tr>\n",
       "      <td>1</td>\n",
       "      <td>WO/2008/103788</td>\n",
       "      <td>2008-01-01</td>\n",
       "      <td>KRIEGER, Stuart</td>\n",
       "      <td>Bristol-Myers Squibb Company</td>\n",
       "      <td>New York, NY</td>\n",
       "      <td>US</td>\n",
       "      <td>SEAL FOR A RECTAL OR OSTOMY APPLIANCCE</td>\n",
       "      <td>2008-08-28</td>\n",
       "      <td>PCT/US2008/054517</td>\n",
       "      <td>CONVATEC TECHNOLOGIES INC.</td>\n",
       "      <td>A61F5/445</td>\n",
       "      <td>A61F 5/445</td>\n",
       "      <td>http://www.soopat.com/IPC/Code/A61F5-445</td>\n",
       "      <td>NaN</td>\n",
       "      <td>2006.01</td>\n",
       "      <td>A</td>\n",
       "      <td>A61</td>\n",
       "      <td>A61F</td>\n",
       "      <td>5/00</td>\n",
       "    </tr>\n",
       "  </tbody>\n",
       "</table>\n",
       "</div>"
      ],
      "text/plain": [
       "     App_No(WIPO)    AppDate            Agent                          Firm  \\\n",
       "0  WO/2008/062209 2008-01-01      MAYS, Julie           Barker Brettell LLP   \n",
       "1  WO/2008/103788 2008-01-01  KRIEGER, Stuart  Bristol-Myers Squibb Company   \n",
       "\n",
       "           City Country                                 Title_EN    PubDate  \\\n",
       "0        London      UK  DISSOLUTION AND PROCESSING OF CELLULOSE 2008-05-29   \n",
       "1  New York, NY      US   SEAL FOR A RECTAL OR OSTOMY APPLIANCCE 2008-08-28   \n",
       "\n",
       "           US_App_No                Applicant_EN        IPC   IPC(WIPO)  \\\n",
       "0  PCT/GB2007/004488  CONVATEC TECHNOLOGIES INC.  A61K47/18  A61K 47/18   \n",
       "1  PCT/US2008/054517  CONVATEC TECHNOLOGIES INC.  A61F5/445  A61F 5/445   \n",
       "\n",
       "                           IPC_Link(Soopat)  \\\n",
       "0                                       NaN   \n",
       "1  http://www.soopat.com/IPC/Code/A61F5-445   \n",
       "\n",
       "                                      IPC_link(WIPO)  IPC_Version  部   大类  \\\n",
       "0  http://www.wipo.int/ipcpub/?symbol=A61K0047180...      2006.01  A  A61   \n",
       "1                                                NaN      2006.01  A  A61   \n",
       "\n",
       "     小类     大组  \n",
       "0  A61K  47/00  \n",
       "1  A61F   5/00  "
      ]
     },
     "execution_count": 20,
     "metadata": {},
     "output_type": "execute_result"
    }
   ],
   "source": [
    "cols = ['App_No(WIPO)', 'AppDate','Agent', 'Firm', 'City', 'Country', 'Title_EN',\n",
    "       'PubDate', 'US_App_No', 'Applicant_EN', 'IPC', 'IPC(WIPO)', 'IPC_Link(Soopat)', 'IPC_link(WIPO)', \n",
    "       'IPC_Version', '部', '大类', '小类', '大组']\n",
    "data['PCT_with_IPC'] = data['PCT_with_IPC'][cols]\n",
    "data['PCT_with_IPC'].head(2)"
   ]
  },
  {
   "cell_type": "markdown",
   "metadata": {},
   "source": [
    "# Export datasets"
   ]
  },
  {
   "cell_type": "code",
   "execution_count": 21,
   "metadata": {},
   "outputs": [
    {
     "data": {
      "text/plain": [
       "dict_keys(['China Patent', 'PCT', 'IPC', 'China_Patent_with_IPC', 'PCT_with_IPC'])"
      ]
     },
     "execution_count": 21,
     "metadata": {},
     "output_type": "execute_result"
    }
   ],
   "source": [
    "data.keys()"
   ]
  },
  {
   "cell_type": "code",
   "execution_count": 24,
   "metadata": {},
   "outputs": [],
   "source": [
    "import os\n",
    "outdir = './cleaned'\n",
    "if not os.path.exists(outdir):\n",
    "    os.mkdir(outdir)\n",
    "\n",
    "for key in data.keys():\n",
    "    fname = outdir + '/' + key + '.csv'\n",
    "    data[key].to_csv(fname, encoding='utf-8’')"
   ]
  },
  {
   "cell_type": "code",
   "execution_count": null,
   "metadata": {},
   "outputs": [],
   "source": []
  }
 ],
 "metadata": {
  "kernelspec": {
   "display_name": "Python 3",
   "language": "python",
   "name": "python3"
  },
  "language_info": {
   "codemirror_mode": {
    "name": "ipython",
    "version": 3
   },
   "file_extension": ".py",
   "mimetype": "text/x-python",
   "name": "python",
   "nbconvert_exporter": "python",
   "pygments_lexer": "ipython3",
   "version": "3.7.4"
  }
 },
 "nbformat": 4,
 "nbformat_minor": 2
}
