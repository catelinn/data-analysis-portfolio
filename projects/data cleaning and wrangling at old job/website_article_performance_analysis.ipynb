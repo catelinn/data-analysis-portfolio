{
 "cells": [
  {
   "cell_type": "code",
   "execution_count": 167,
   "metadata": {
    "scrolled": false
   },
   "outputs": [],
   "source": [
    "import numpy as np\n",
    "import pandas as pd\n",
    "import xlrd\n",
    "pd.options.mode.chained_assignment = None  # default='warn'\n",
    "#pd.set_option('display.max_rows',6)\n",
    "\n",
    "regUsr_dat = pd.read_excel(\"2018 summary.xlsx\", sheet_name=0)\n",
    "unregUsr_dat = pd.read_excel(\"2018 summary.xlsx\", sheet_name=1)\n",
    "articles = pd.read_excel(\"2018 summary.xlsx\", sheet_name=\"Articles\")"
   ]
  },
  {
   "cell_type": "markdown",
   "metadata": {},
   "source": [
    "# Introduction\n",
    "\n",
    "The dataset comes from our third party content service provider, it contains the contact information of the user that have read our website articles, as well as their activities on our website.  \n",
    "\n",
    "In this report, I will summarize the user activities and articles read, in order to identify the main areas of interest of the users, as well as the performance of our articles. "
   ]
  },
  {
   "cell_type": "markdown",
   "metadata": {},
   "source": [
    "# User Activities Dataset"
   ]
  },
  {
   "cell_type": "code",
   "execution_count": 168,
   "metadata": {
    "scrolled": true
   },
   "outputs": [
    {
     "name": "stdout",
     "output_type": "stream",
     "text": [
      "<class 'pandas.core.frame.DataFrame'>\n",
      "RangeIndex: 557 entries, 0 to 556\n",
      "Data columns (total 13 columns):\n",
      " #   Column                  Non-Null Count  Dtype         \n",
      "---  ------                  --------------  -----         \n",
      " 0   Ind_Title               447 non-null    object        \n",
      " 1   Forename                547 non-null    object        \n",
      " 2   Surname                 547 non-null    object        \n",
      " 3   Email                   547 non-null    object        \n",
      " 4   Company                 556 non-null    object        \n",
      " 5   Industry                557 non-null    object        \n",
      " 6   Country                 557 non-null    object        \n",
      " 7   Job Role                557 non-null    object        \n",
      " 8   Date Of Activity        557 non-null    datetime64[ns]\n",
      " 9   Activity Type           557 non-null    object        \n",
      " 10  Article Title           556 non-null    object        \n",
      " 11  Article Primary Author  556 non-null    object        \n",
      " 12  Primary Topic           556 non-null    object        \n",
      "dtypes: datetime64[ns](1), object(12)\n",
      "memory usage: 56.7+ KB\n"
     ]
    }
   ],
   "source": [
    "# registered user dataset info\n",
    "regUsr_dat.info()"
   ]
  },
  {
   "cell_type": "code",
   "execution_count": 169,
   "metadata": {},
   "outputs": [
    {
     "data": {
      "text/html": [
       "<div>\n",
       "<style scoped>\n",
       "    .dataframe tbody tr th:only-of-type {\n",
       "        vertical-align: middle;\n",
       "    }\n",
       "\n",
       "    .dataframe tbody tr th {\n",
       "        vertical-align: top;\n",
       "    }\n",
       "\n",
       "    .dataframe thead th {\n",
       "        text-align: right;\n",
       "    }\n",
       "</style>\n",
       "<table border=\"1\" class=\"dataframe\">\n",
       "  <thead>\n",
       "    <tr style=\"text-align: right;\">\n",
       "      <th></th>\n",
       "      <th>Article Title</th>\n",
       "      <th>Activity Type</th>\n",
       "      <th>Date Of Activity</th>\n",
       "      <th>Article Primary Author</th>\n",
       "    </tr>\n",
       "  </thead>\n",
       "  <tbody>\n",
       "    <tr>\n",
       "      <th>0</th>\n",
       "      <td>A Successful Trade Dress Protection Case Throu...</td>\n",
       "      <td>Article Read from Email Subscription</td>\n",
       "      <td>2018-02-26</td>\n",
       "      <td>Dan Chen</td>\n",
       "    </tr>\n",
       "  </tbody>\n",
       "</table>\n",
       "</div>"
      ],
      "text/plain": [
       "                                       Article Title  \\\n",
       "0  A Successful Trade Dress Protection Case Throu...   \n",
       "\n",
       "                          Activity Type Date Of Activity  \\\n",
       "0  Article Read from Email Subscription       2018-02-26   \n",
       "\n",
       "  Article Primary Author  \n",
       "0               Dan Chen  "
      ]
     },
     "execution_count": 169,
     "metadata": {},
     "output_type": "execute_result"
    }
   ],
   "source": [
    "# select columns of interest\n",
    "cols = [\"Article Title\", \"Activity Type\", \"Date Of Activity\", \"Article Primary Author\"]\n",
    "regUsr_dat = regUsr_dat[cols]\n",
    "regUsr_dat.head(1)"
   ]
  },
  {
   "cell_type": "code",
   "execution_count": 170,
   "metadata": {},
   "outputs": [
    {
     "name": "stdout",
     "output_type": "stream",
     "text": [
      "<class 'pandas.core.frame.DataFrame'>\n",
      "RangeIndex: 10402 entries, 0 to 10401\n",
      "Data columns (total 7 columns):\n",
      " #   Column              Non-Null Count  Dtype         \n",
      "---  ------              --------------  -----         \n",
      " 0   Search Term         0 non-null      float64       \n",
      " 1   Channel             3253 non-null   object        \n",
      " 2   Article Title       10402 non-null  object        \n",
      " 3   Activity Type       10402 non-null  object        \n",
      " 4   Primary Author      10349 non-null  object        \n",
      " 5   Date User Searched  10402 non-null  datetime64[ns]\n",
      " 6   Primary Topic       10349 non-null  object        \n",
      "dtypes: datetime64[ns](1), float64(1), object(5)\n",
      "memory usage: 569.0+ KB\n"
     ]
    }
   ],
   "source": [
    "# unregistered user dataset info\n",
    "unregUsr_dat.info()"
   ]
  },
  {
   "cell_type": "code",
   "execution_count": 171,
   "metadata": {},
   "outputs": [],
   "source": [
    "# select the same columns for unregistered users\n",
    "unregUsr_dat.rename(columns={\"Date User Searched\": \"Date Of Activity\",\n",
    "                             \"Primary Author\": \"Article Primary Author\"}, inplace=True)\n",
    "unregUsr_dat = unregUsr_dat[cols]"
   ]
  },
  {
   "cell_type": "code",
   "execution_count": 172,
   "metadata": {},
   "outputs": [
    {
     "data": {
      "text/plain": [
       "array([ True,  True,  True,  True])"
      ]
     },
     "execution_count": 172,
     "metadata": {},
     "output_type": "execute_result"
    }
   ],
   "source": [
    "# check if columns of both dataset match now\n",
    "unregUsr_dat.columns == regUsr_dat.columns"
   ]
  },
  {
   "cell_type": "code",
   "execution_count": 173,
   "metadata": {},
   "outputs": [
    {
     "data": {
      "text/html": [
       "<div>\n",
       "<style scoped>\n",
       "    .dataframe tbody tr th:only-of-type {\n",
       "        vertical-align: middle;\n",
       "    }\n",
       "\n",
       "    .dataframe tbody tr th {\n",
       "        vertical-align: top;\n",
       "    }\n",
       "\n",
       "    .dataframe thead th {\n",
       "        text-align: right;\n",
       "    }\n",
       "</style>\n",
       "<table border=\"1\" class=\"dataframe\">\n",
       "  <thead>\n",
       "    <tr style=\"text-align: right;\">\n",
       "      <th></th>\n",
       "      <th>Article Title</th>\n",
       "    </tr>\n",
       "  </thead>\n",
       "  <tbody>\n",
       "    <tr>\n",
       "      <th>A Successful Trade Dress Protection Case Through Copyright And Unfair Competition Dispute Litigation By Unitalen</th>\n",
       "      <td>90</td>\n",
       "    </tr>\n",
       "    <tr>\n",
       "      <th>Revision Of Anti-Unfair Competition Law Of China</th>\n",
       "      <td>88</td>\n",
       "    </tr>\n",
       "    <tr>\n",
       "      <th>E-Commerce Law of China Will Come into Force in January 2019</th>\n",
       "      <td>62</td>\n",
       "    </tr>\n",
       "    <tr>\n",
       "      <th>Fast Growth of China IP License Trade in the First Half of 2018</th>\n",
       "      <td>35</td>\n",
       "    </tr>\n",
       "    <tr>\n",
       "      <th>Two Unitalen Cases Selected among \"The 50 Typical IP Cases\" by China Supreme Court</th>\n",
       "      <td>35</td>\n",
       "    </tr>\n",
       "    <tr>\n",
       "      <th>Chinese \"Lafite\" Mark Recognized as an Unregistered Well-known Mark by Shanghai IP Court</th>\n",
       "      <td>27</td>\n",
       "    </tr>\n",
       "    <tr>\n",
       "      <th>Contributor Page View from: Unitalen Obtains Recognition Of Well-Known Mark For \"SISLEY希思黎\" Through Litigation</th>\n",
       "      <td>22</td>\n",
       "    </tr>\n",
       "    <tr>\n",
       "      <th>SIPO Changes English Translation to CNIPA</th>\n",
       "      <td>20</td>\n",
       "    </tr>\n",
       "    <tr>\n",
       "      <th>BSA: China Found with the Biggest Fall in Piracy Rate</th>\n",
       "      <td>18</td>\n",
       "    </tr>\n",
       "    <tr>\n",
       "      <th>TRAB: Simplified Document Requirement for Trademark Refusal Review</th>\n",
       "      <td>17</td>\n",
       "    </tr>\n",
       "  </tbody>\n",
       "</table>\n",
       "</div>"
      ],
      "text/plain": [
       "                                                    Article Title\n",
       "A Successful Trade Dress Protection Case Throug...             90\n",
       "Revision Of Anti-Unfair Competition Law Of China               88\n",
       "E-Commerce Law of China Will Come into Force in...             62\n",
       "Fast Growth of China IP License Trade in the Fi...             35\n",
       "Two Unitalen Cases Selected among \"The 50 Typic...             35\n",
       "Chinese \"Lafite\" Mark Recognized as an Unregist...             27\n",
       "Contributor Page View from: Unitalen Obtains Re...             22\n",
       "SIPO Changes English Translation to CNIPA                      20\n",
       "BSA: China Found with the Biggest Fall in Pirac...             18\n",
       "TRAB: Simplified Document Requirement for Trade...             17"
      ]
     },
     "execution_count": 173,
     "metadata": {},
     "output_type": "execute_result"
    }
   ],
   "source": [
    "# Top 10 articles read by registered users\n",
    "regUsr_dat[\"Article Title\"].value_counts()[:10].to_frame()"
   ]
  },
  {
   "cell_type": "code",
   "execution_count": 174,
   "metadata": {},
   "outputs": [
    {
     "data": {
      "text/html": [
       "<div>\n",
       "<style scoped>\n",
       "    .dataframe tbody tr th:only-of-type {\n",
       "        vertical-align: middle;\n",
       "    }\n",
       "\n",
       "    .dataframe tbody tr th {\n",
       "        vertical-align: top;\n",
       "    }\n",
       "\n",
       "    .dataframe thead th {\n",
       "        text-align: right;\n",
       "    }\n",
       "</style>\n",
       "<table border=\"1\" class=\"dataframe\">\n",
       "  <thead>\n",
       "    <tr style=\"text-align: right;\">\n",
       "      <th></th>\n",
       "      <th>Article Title</th>\n",
       "    </tr>\n",
       "  </thead>\n",
       "  <tbody>\n",
       "    <tr>\n",
       "      <th>Two Unitalen Cases Selected among \"The 50 Typical IP Cases\" by China Supreme Court</th>\n",
       "      <td>1394</td>\n",
       "    </tr>\n",
       "    <tr>\n",
       "      <th>Chinese \"Lafite\" Mark Recognized as an Unregistered Well-known Mark by Shanghai IP Court</th>\n",
       "      <td>1048</td>\n",
       "    </tr>\n",
       "    <tr>\n",
       "      <th>SIPO Changes English Translation to CNIPA</th>\n",
       "      <td>584</td>\n",
       "    </tr>\n",
       "    <tr>\n",
       "      <th>BSA: China Found with the Biggest Fall in Piracy Rate</th>\n",
       "      <td>564</td>\n",
       "    </tr>\n",
       "    <tr>\n",
       "      <th>Obtaining a Cambodian Patent by Registration of Chinese Patent in Cambodia</th>\n",
       "      <td>531</td>\n",
       "    </tr>\n",
       "    <tr>\n",
       "      <th>A Successful Trade Dress Protection Case Through Copyright And Unfair Competition Dispute Litigation By Unitalen</th>\n",
       "      <td>449</td>\n",
       "    </tr>\n",
       "    <tr>\n",
       "      <th>Unitalen Helped Client Achieved Settlement in Patent Infringement Suit</th>\n",
       "      <td>447</td>\n",
       "    </tr>\n",
       "    <tr>\n",
       "      <th>Unitalen Client In Two-Dimensional Code Patent Invalidation Administrative Litigation</th>\n",
       "      <td>443</td>\n",
       "    </tr>\n",
       "    <tr>\n",
       "      <th>Revision Of Anti-Unfair Competition Law Of China</th>\n",
       "      <td>438</td>\n",
       "    </tr>\n",
       "    <tr>\n",
       "      <th>E-Commerce Law of China Will Come into Force in January 2019</th>\n",
       "      <td>420</td>\n",
       "    </tr>\n",
       "  </tbody>\n",
       "</table>\n",
       "</div>"
      ],
      "text/plain": [
       "                                                    Article Title\n",
       "Two Unitalen Cases Selected among \"The 50 Typic...           1394\n",
       "Chinese \"Lafite\" Mark Recognized as an Unregist...           1048\n",
       "SIPO Changes English Translation to CNIPA                     584\n",
       "BSA: China Found with the Biggest Fall in Pirac...            564\n",
       "Obtaining a Cambodian Patent by Registration of...            531\n",
       "A Successful Trade Dress Protection Case Throug...            449\n",
       "Unitalen Helped Client Achieved Settlement in P...            447\n",
       "Unitalen Client In Two-Dimensional Code Patent ...            443\n",
       "Revision Of Anti-Unfair Competition Law Of China              438\n",
       "E-Commerce Law of China Will Come into Force in...            420"
      ]
     },
     "execution_count": 174,
     "metadata": {},
     "output_type": "execute_result"
    }
   ],
   "source": [
    "# Top 10 articles read by unregistered users\n",
    "unregUsr_dat[\"Article Title\"].value_counts()[:10].to_frame()"
   ]
  },
  {
   "cell_type": "markdown",
   "metadata": {},
   "source": [
    "# Articles dataset"
   ]
  },
  {
   "cell_type": "code",
   "execution_count": 175,
   "metadata": {},
   "outputs": [
    {
     "name": "stdout",
     "output_type": "stream",
     "text": [
      "<class 'pandas.core.frame.DataFrame'>\n",
      "RangeIndex: 32 entries, 0 to 31\n",
      "Data columns (total 3 columns):\n",
      " #   Column             Non-Null Count  Dtype \n",
      "---  ------             --------------  ----- \n",
      " 0   Article Title      32 non-null     object\n",
      " 1   Article Type       32 non-null     object\n",
      " 2   Matter of Concern  32 non-null     object\n",
      "dtypes: object(3)\n",
      "memory usage: 896.0+ bytes\n"
     ]
    }
   ],
   "source": [
    "# articles dataset info\n",
    "articles.info()"
   ]
  },
  {
   "cell_type": "code",
   "execution_count": 176,
   "metadata": {},
   "outputs": [],
   "source": [
    "articles['Article Title'] = articles['Article Title'].str.strip()\n",
    "regUsr_dat['Article Title'] = regUsr_dat['Article Title'].str.strip()\n",
    "unregUsr_dat['Article Title'] = unregUsr_dat['Article Title'].str.strip()"
   ]
  },
  {
   "cell_type": "code",
   "execution_count": 177,
   "metadata": {},
   "outputs": [
    {
     "data": {
      "text/plain": [
       "(24, 108)"
      ]
     },
     "execution_count": 177,
     "metadata": {},
     "output_type": "execute_result"
    }
   ],
   "source": [
    "# check how many unique articles found in user activities\n",
    "len(regUsr_dat['Article Title'].unique()), len(unregUsr_dat['Article Title'].unique())"
   ]
  },
  {
   "cell_type": "markdown",
   "metadata": {},
   "source": [
    "It's wierd that the number of unique articles in unregistered user dataset is much more than the articles we have. Let's explore where does this problem come from."
   ]
  },
  {
   "cell_type": "code",
   "execution_count": 178,
   "metadata": {},
   "outputs": [
    {
     "data": {
      "text/plain": [
       "['Author Page View Unitalen Attorneys At Law',\n",
       " 'Redirect to your Website from: Chinese \"Lafite\" Mark Recognized as an Unregistered Well-known Mark by Shanghai IP Court',\n",
       " 'Contributor Page View from: Chinese \"Lafite\" Mark Recognized as an Unregistered Well-known Mark by Shanghai IP Court',\n",
       " 'Press Release View from: BSA: China Found with the Biggest Fall in Piracy Rate',\n",
       " 'Contributor Page View from: Progress of SIPO Restructuring - Trademark Certificates Stamped with SIPO Seal from June 8th',\n",
       " 'Contributor Page View from: Unitalen Won Plate Solar Collector Patent Infringement Litigation',\n",
       " 'Author Page View Lei Zhao',\n",
       " 'Contributor Page View from: WIPO Report: China‘s Innovation Capacity Continued To Improve',\n",
       " 'Author Own Biography',\n",
       " 'Author Own Biography from: Revision Of Anti-Unfair Competition Law Of China']"
      ]
     },
     "execution_count": 178,
     "metadata": {},
     "output_type": "execute_result"
    }
   ],
   "source": [
    "# show article titles that are not found in `aritles` dataset\n",
    "uniqueArticles = pd.Series(unregUsr_dat['Article Title'].unique())\n",
    "uniqueArticles[~uniqueArticles.isin(articles['Article Title'])].to_list()[:10] # limit to first 10 results"
   ]
  },
  {
   "cell_type": "markdown",
   "metadata": {},
   "source": [
    "Now it's clear that the problem arises from activity types information being prefixed to the article titles of these records."
   ]
  },
  {
   "cell_type": "code",
   "execution_count": 179,
   "metadata": {},
   "outputs": [],
   "source": [
    "# Define a function to find matching artile title\n",
    "# if x contains the article title found in `articles` dataset, add the article title to result list\n",
    "def searchTitle(x, resultlist):\n",
    "    searchResult = [name for name in articles[\"Article Title\"] if str(x).find(str(name)) >= 0]\n",
    "    # if match found\n",
    "    if len(searchResult) != 0:\n",
    "        # add the matching title from `articles` to result list\n",
    "        resultlist.append(searchResult[0])\n",
    "    else:\n",
    "        # if no match found, add '0' to result list\n",
    "        resultlist.append(0)\n",
    "        \n",
    "\n",
    "# Now, search matching titles for unregistered users\n",
    "result = [] # intiate the result list\n",
    "unregUsr_dat[\"Article Title\"].apply(searchTitle, resultlist=result)\n",
    "unregUsr_dat[\"Article Title2\"] = result # save result to a new column"
   ]
  },
  {
   "cell_type": "code",
   "execution_count": 180,
   "metadata": {},
   "outputs": [
    {
     "data": {
      "text/html": [
       "<div>\n",
       "<style scoped>\n",
       "    .dataframe tbody tr th:only-of-type {\n",
       "        vertical-align: middle;\n",
       "    }\n",
       "\n",
       "    .dataframe tbody tr th {\n",
       "        vertical-align: top;\n",
       "    }\n",
       "\n",
       "    .dataframe thead th {\n",
       "        text-align: right;\n",
       "    }\n",
       "</style>\n",
       "<table border=\"1\" class=\"dataframe\">\n",
       "  <thead>\n",
       "    <tr style=\"text-align: right;\">\n",
       "      <th></th>\n",
       "      <th>Article Title</th>\n",
       "      <th>Activity Type</th>\n",
       "    </tr>\n",
       "  </thead>\n",
       "  <tbody>\n",
       "    <tr>\n",
       "      <th>47</th>\n",
       "      <td>Author Page View Unitalen Attorneys At Law</td>\n",
       "      <td>Author Page View</td>\n",
       "    </tr>\n",
       "    <tr>\n",
       "      <th>773</th>\n",
       "      <td>Author Page View Lei Zhao</td>\n",
       "      <td>Author Page View</td>\n",
       "    </tr>\n",
       "    <tr>\n",
       "      <th>1120</th>\n",
       "      <td>Author Own Biography</td>\n",
       "      <td>Author Bio</td>\n",
       "    </tr>\n",
       "    <tr>\n",
       "      <th>1124</th>\n",
       "      <td>Author Page View Lei Zhao</td>\n",
       "      <td>Author Page View</td>\n",
       "    </tr>\n",
       "    <tr>\n",
       "      <th>1125</th>\n",
       "      <td>Author Page View Lei Zhao</td>\n",
       "      <td>Author Page View</td>\n",
       "    </tr>\n",
       "    <tr>\n",
       "      <th>...</th>\n",
       "      <td>...</td>\n",
       "      <td>...</td>\n",
       "    </tr>\n",
       "    <tr>\n",
       "      <th>5604</th>\n",
       "      <td>Google Search on Contributor</td>\n",
       "      <td>Google Search on Contributor</td>\n",
       "    </tr>\n",
       "    <tr>\n",
       "      <th>5605</th>\n",
       "      <td>Google Search on Contributor</td>\n",
       "      <td>Google Search on Contributor</td>\n",
       "    </tr>\n",
       "    <tr>\n",
       "      <th>5606</th>\n",
       "      <td>Google Search on Contributor</td>\n",
       "      <td>Google Search on Contributor</td>\n",
       "    </tr>\n",
       "    <tr>\n",
       "      <th>5607</th>\n",
       "      <td>Google Search on Contributor</td>\n",
       "      <td>Google Search on Contributor</td>\n",
       "    </tr>\n",
       "    <tr>\n",
       "      <th>5608</th>\n",
       "      <td>Google Search on Contributor</td>\n",
       "      <td>Google Search on Contributor</td>\n",
       "    </tr>\n",
       "  </tbody>\n",
       "</table>\n",
       "<p>78 rows × 2 columns</p>\n",
       "</div>"
      ],
      "text/plain": [
       "                                   Article Title  \\\n",
       "47    Author Page View Unitalen Attorneys At Law   \n",
       "773                    Author Page View Lei Zhao   \n",
       "1120                        Author Own Biography   \n",
       "1124                   Author Page View Lei Zhao   \n",
       "1125                   Author Page View Lei Zhao   \n",
       "...                                          ...   \n",
       "5604                Google Search on Contributor   \n",
       "5605                Google Search on Contributor   \n",
       "5606                Google Search on Contributor   \n",
       "5607                Google Search on Contributor   \n",
       "5608                Google Search on Contributor   \n",
       "\n",
       "                      Activity Type  \n",
       "47                 Author Page View  \n",
       "773                Author Page View  \n",
       "1120                     Author Bio  \n",
       "1124               Author Page View  \n",
       "1125               Author Page View  \n",
       "...                             ...  \n",
       "5604  Google Search on Contributor   \n",
       "5605  Google Search on Contributor   \n",
       "5606  Google Search on Contributor   \n",
       "5607  Google Search on Contributor   \n",
       "5608  Google Search on Contributor   \n",
       "\n",
       "[78 rows x 2 columns]"
      ]
     },
     "execution_count": 180,
     "metadata": {},
     "output_type": "execute_result"
    }
   ],
   "source": [
    "# check those without matching title found\n",
    "unregUsr_dat.loc[unregUsr_dat['Article Title2']==0, ['Article Title', 'Activity Type']]"
   ]
  },
  {
   "cell_type": "markdown",
   "metadata": {},
   "source": [
    "Apparently, the activities in these records are not generated through any articles from our websites. Therefore, they don't have matching article titles from `articles`."
   ]
  },
  {
   "cell_type": "code",
   "execution_count": 181,
   "metadata": {},
   "outputs": [],
   "source": [
    "# Do the same for registered users\n",
    "result = []\n",
    "regUsr_dat[\"Article Title\"].apply(searchTitle, resultlist=result)\n",
    "regUsr_dat.loc[:, \"Article Title2\"] = result"
   ]
  },
  {
   "cell_type": "code",
   "execution_count": 182,
   "metadata": {},
   "outputs": [
    {
     "data": {
      "text/html": [
       "<div>\n",
       "<style scoped>\n",
       "    .dataframe tbody tr th:only-of-type {\n",
       "        vertical-align: middle;\n",
       "    }\n",
       "\n",
       "    .dataframe tbody tr th {\n",
       "        vertical-align: top;\n",
       "    }\n",
       "\n",
       "    .dataframe thead th {\n",
       "        text-align: right;\n",
       "    }\n",
       "</style>\n",
       "<table border=\"1\" class=\"dataframe\">\n",
       "  <thead>\n",
       "    <tr style=\"text-align: right;\">\n",
       "      <th></th>\n",
       "      <th>Article Title</th>\n",
       "      <th>Activity Type</th>\n",
       "      <th>Date Of Activity</th>\n",
       "      <th>Article Primary Author</th>\n",
       "      <th>Article Title2</th>\n",
       "    </tr>\n",
       "  </thead>\n",
       "  <tbody>\n",
       "    <tr>\n",
       "      <th>556</th>\n",
       "      <td>NaN</td>\n",
       "      <td>Search of your Data</td>\n",
       "      <td>2018-05-09</td>\n",
       "      <td>NaN</td>\n",
       "      <td>0</td>\n",
       "    </tr>\n",
       "  </tbody>\n",
       "</table>\n",
       "</div>"
      ],
      "text/plain": [
       "    Article Title        Activity Type Date Of Activity  \\\n",
       "556           NaN  Search of your Data       2018-05-09   \n",
       "\n",
       "    Article Primary Author Article Title2  \n",
       "556                    NaN              0  "
      ]
     },
     "execution_count": 182,
     "metadata": {},
     "output_type": "execute_result"
    }
   ],
   "source": [
    "# check those without matching title found\n",
    "regUsr_dat[regUsr_dat[\"Article Title2\"]==0]"
   ]
  },
  {
   "cell_type": "markdown",
   "metadata": {},
   "source": [
    "The activity in this record is also not generated through any article. That's why there is no article title. "
   ]
  },
  {
   "cell_type": "markdown",
   "metadata": {},
   "source": [
    "# Combine User Activities"
   ]
  },
  {
   "cell_type": "code",
   "execution_count": 183,
   "metadata": {},
   "outputs": [
    {
     "data": {
      "text/html": [
       "<div>\n",
       "<style scoped>\n",
       "    .dataframe tbody tr th:only-of-type {\n",
       "        vertical-align: middle;\n",
       "    }\n",
       "\n",
       "    .dataframe tbody tr th {\n",
       "        vertical-align: top;\n",
       "    }\n",
       "\n",
       "    .dataframe thead th {\n",
       "        text-align: right;\n",
       "    }\n",
       "</style>\n",
       "<table border=\"1\" class=\"dataframe\">\n",
       "  <thead>\n",
       "    <tr style=\"text-align: right;\">\n",
       "      <th></th>\n",
       "      <th>Article Title</th>\n",
       "      <th>Activity Type</th>\n",
       "      <th>Date Of Activity</th>\n",
       "      <th>Article Primary Author</th>\n",
       "      <th>Article Title2</th>\n",
       "    </tr>\n",
       "  </thead>\n",
       "  <tbody>\n",
       "    <tr>\n",
       "      <th>0</th>\n",
       "      <td>A Successful Trade Dress Protection Case Throu...</td>\n",
       "      <td>Article Read from Email Subscription</td>\n",
       "      <td>2018-02-26</td>\n",
       "      <td>Dan Chen</td>\n",
       "      <td>A Successful Trade Dress Protection Case Throu...</td>\n",
       "    </tr>\n",
       "  </tbody>\n",
       "</table>\n",
       "</div>"
      ],
      "text/plain": [
       "                                       Article Title  \\\n",
       "0  A Successful Trade Dress Protection Case Throu...   \n",
       "\n",
       "                          Activity Type Date Of Activity  \\\n",
       "0  Article Read from Email Subscription       2018-02-26   \n",
       "\n",
       "  Article Primary Author                                     Article Title2  \n",
       "0               Dan Chen  A Successful Trade Dress Protection Case Throu...  "
      ]
     },
     "execution_count": 183,
     "metadata": {},
     "output_type": "execute_result"
    }
   ],
   "source": [
    "# combine registered and unregistered users activities\n",
    "df = pd.concat([regUsr_dat, unregUsr_dat], ignore_index=True)\n",
    "df.head(1)"
   ]
  },
  {
   "cell_type": "markdown",
   "metadata": {},
   "source": [
    "# Group Activities into Bigger Categories"
   ]
  },
  {
   "cell_type": "code",
   "execution_count": 184,
   "metadata": {
    "scrolled": true
   },
   "outputs": [
    {
     "data": {
      "text/plain": [
       "['ARTICLE',\n",
       " 'ARTICLE ADDED TO POCKET',\n",
       " 'ARTICLE READ FROM EMAIL SUBSCRIPTION',\n",
       " 'ARTICLE VIEW FROM WEBSITE',\n",
       " 'AUTHOR BIO',\n",
       " 'AUTHOR PAGE VIEW',\n",
       " 'CONTACT DETAILS REQUEST',\n",
       " 'CONTRIBUTOR PAGE VIEW',\n",
       " 'CONTRIBUTOR PAGE VIEW FROM ARTICLE',\n",
       " 'FIRM WEBLINK',\n",
       " 'FIRM WEBLINK FROM ARTICLE',\n",
       " 'FORWARDED ARTICLE TO COLLEAGUE',\n",
       " 'GOOGLE SEARCH ON AUTHOR',\n",
       " 'GOOGLE SEARCH ON CONTRIBUTOR',\n",
       " 'IN-ARTICLE CLICK-THROUGH TO YOUR WEBSITE',\n",
       " 'PRESS RELEASE VIEW',\n",
       " 'PRESS RELEASE VIEW FROM ARTICLE',\n",
       " 'PRINTED ARTICLE',\n",
       " 'REDIRECT TO YOUR WEBSITE FROM ARTICLE',\n",
       " 'REFERRED BY COLLEAGUE TO THIS ARTICLE',\n",
       " 'SEARCH OF YOUR DATA',\n",
       " 'SOCIALMEDIA ARTICLE SHARE',\n",
       " 'VISIT TO YOUR EVENT INFO PAGE FROM ARITCLE',\n",
       " 'YOUR HOME PAGE']"
      ]
     },
     "execution_count": 184,
     "metadata": {},
     "output_type": "execute_result"
    }
   ],
   "source": [
    "# all unique 'activity type' after removing white space and using upper case\n",
    "df[\"Activity Type\"] = df[\"Activity Type\"].str.strip().str.upper()\n",
    "sorted(list(df[\"Activity Type\"].unique()))"
   ]
  },
  {
   "cell_type": "code",
   "execution_count": 185,
   "metadata": {},
   "outputs": [],
   "source": [
    "# define category groups for activities\n",
    "category = {'ARTICLE ADDED TO POCKET':'对文章表现出兴趣',\n",
    "       'FORWARDED ARTICLE TO COLLEAGUE':'对文章表现出兴趣',\n",
    "       'SOCIALMEDIA ARTICLE SHARE':'对文章表现出兴趣',\n",
    "       'CONTACT DETAILS REQUEST':'对集佳或作者表现出兴趣',\n",
    "       'PRINTED ARTICLE':'对集佳或作者表现出兴趣',\n",
    "       'GOOGLE SEARCH ON AUTHOR':'对集佳或作者表现出兴趣',\n",
    "       'SEARCH OF YOUR DATA':'对集佳或作者表现出兴趣',\n",
    "       'GOOGLE SEARCH ON AUTHOR':'对集佳或作者表现出兴趣',\n",
    "       'ARTICLE':'文章阅读',\n",
    "       'REFERRED BY COLLEAGUE TO THIS ARTICLE':'文章阅读',\n",
    "       'ARTICLE VIEW FROM WEBSITE':'文章阅读',\n",
    "       'ARTICLE READ FROM EMAIL SUBSCRIPTION':'文章阅读',\n",
    "       'AUTHOR BIO':'对集佳或作者表现出兴趣',\n",
    "       'AUTHOR PAGE VIEW':'对集佳或作者表现出兴趣',\n",
    "       'PRESS RELEASE VIEW':'查看我们更多文章',\n",
    "       'REDIRECT TO YOUR WEBSITE FROM ARTICLE':'对集佳或作者表现出兴趣',\n",
    "       'YOUR HOME PAGE':'对集佳或作者表现出兴趣',\n",
    "       'VISIT TO YOUR EVENT INFO PAGE FROM ARITCLE':'对集佳或作者表现出兴趣',\n",
    "       'CONTRIBUTOR PAGE VIEW':'对集佳或作者表现出兴趣',\n",
    "       'FIRM WEBLINK FROM ARTICLE':'对集佳或作者表现出兴趣'\n",
    "}"
   ]
  },
  {
   "cell_type": "code",
   "execution_count": 186,
   "metadata": {},
   "outputs": [
    {
     "data": {
      "text/plain": [
       "'文章阅读'"
      ]
     },
     "execution_count": 186,
     "metadata": {},
     "output_type": "execute_result"
    }
   ],
   "source": [
    "# match category group by activity type for one record\n",
    "category.get(df[\"Activity Type\"][0])"
   ]
  },
  {
   "cell_type": "code",
   "execution_count": 187,
   "metadata": {},
   "outputs": [
    {
     "data": {
      "text/html": [
       "<div>\n",
       "<style scoped>\n",
       "    .dataframe tbody tr th:only-of-type {\n",
       "        vertical-align: middle;\n",
       "    }\n",
       "\n",
       "    .dataframe tbody tr th {\n",
       "        vertical-align: top;\n",
       "    }\n",
       "\n",
       "    .dataframe thead th {\n",
       "        text-align: right;\n",
       "    }\n",
       "</style>\n",
       "<table border=\"1\" class=\"dataframe\">\n",
       "  <thead>\n",
       "    <tr style=\"text-align: right;\">\n",
       "      <th></th>\n",
       "      <th>Article Title</th>\n",
       "      <th>Activity Type</th>\n",
       "      <th>Date Of Activity</th>\n",
       "      <th>Article Primary Author</th>\n",
       "      <th>Article Title2</th>\n",
       "      <th>category</th>\n",
       "    </tr>\n",
       "  </thead>\n",
       "  <tbody>\n",
       "    <tr>\n",
       "      <th>0</th>\n",
       "      <td>A Successful Trade Dress Protection Case Throu...</td>\n",
       "      <td>ARTICLE READ FROM EMAIL SUBSCRIPTION</td>\n",
       "      <td>2018-02-26</td>\n",
       "      <td>Dan Chen</td>\n",
       "      <td>A Successful Trade Dress Protection Case Throu...</td>\n",
       "      <td>文章阅读</td>\n",
       "    </tr>\n",
       "  </tbody>\n",
       "</table>\n",
       "</div>"
      ],
      "text/plain": [
       "                                       Article Title  \\\n",
       "0  A Successful Trade Dress Protection Case Throu...   \n",
       "\n",
       "                          Activity Type Date Of Activity  \\\n",
       "0  ARTICLE READ FROM EMAIL SUBSCRIPTION       2018-02-26   \n",
       "\n",
       "  Article Primary Author                                     Article Title2  \\\n",
       "0               Dan Chen  A Successful Trade Dress Protection Case Throu...   \n",
       "\n",
       "  category  \n",
       "0     文章阅读  "
      ]
     },
     "execution_count": 187,
     "metadata": {},
     "output_type": "execute_result"
    }
   ],
   "source": [
    "# match category groups by activity types for all records\n",
    "result = [category.get(x) for x in df[\"Activity Type\"]]\n",
    "df[\"category\"] = result\n",
    "df.head(1)"
   ]
  },
  {
   "cell_type": "markdown",
   "metadata": {},
   "source": [
    "# Counts by Activity, Category Group"
   ]
  },
  {
   "cell_type": "code",
   "execution_count": 188,
   "metadata": {},
   "outputs": [
    {
     "data": {
      "text/plain": [
       "文章阅读           10446\n",
       "对集佳或作者表现出兴趣      400\n",
       "对文章表现出兴趣           6\n",
       "查看我们更多文章           1\n",
       "Name: category, dtype: int64"
      ]
     },
     "execution_count": 188,
     "metadata": {},
     "output_type": "execute_result"
    }
   ],
   "source": [
    "df[\"category\"].value_counts()"
   ]
  },
  {
   "cell_type": "code",
   "execution_count": 189,
   "metadata": {},
   "outputs": [
    {
     "data": {
      "text/html": [
       "<div>\n",
       "<style scoped>\n",
       "    .dataframe tbody tr th:only-of-type {\n",
       "        vertical-align: middle;\n",
       "    }\n",
       "\n",
       "    .dataframe tbody tr th {\n",
       "        vertical-align: top;\n",
       "    }\n",
       "\n",
       "    .dataframe thead th {\n",
       "        text-align: right;\n",
       "    }\n",
       "</style>\n",
       "<table border=\"1\" class=\"dataframe\">\n",
       "  <thead>\n",
       "    <tr style=\"text-align: right;\">\n",
       "      <th></th>\n",
       "      <th></th>\n",
       "      <th>0</th>\n",
       "    </tr>\n",
       "    <tr>\n",
       "      <th>category</th>\n",
       "      <th>Activity Type</th>\n",
       "      <th></th>\n",
       "    </tr>\n",
       "  </thead>\n",
       "  <tbody>\n",
       "    <tr>\n",
       "      <th rowspan=\"3\" valign=\"top\">对文章表现出兴趣</th>\n",
       "      <th>ARTICLE ADDED TO POCKET</th>\n",
       "      <td>2</td>\n",
       "    </tr>\n",
       "    <tr>\n",
       "      <th>FORWARDED ARTICLE TO COLLEAGUE</th>\n",
       "      <td>3</td>\n",
       "    </tr>\n",
       "    <tr>\n",
       "      <th>SOCIALMEDIA ARTICLE SHARE</th>\n",
       "      <td>1</td>\n",
       "    </tr>\n",
       "    <tr>\n",
       "      <th rowspan=\"11\" valign=\"top\">对集佳或作者表现出兴趣</th>\n",
       "      <th>AUTHOR BIO</th>\n",
       "      <td>18</td>\n",
       "    </tr>\n",
       "    <tr>\n",
       "      <th>AUTHOR PAGE VIEW</th>\n",
       "      <td>31</td>\n",
       "    </tr>\n",
       "    <tr>\n",
       "      <th>CONTACT DETAILS REQUEST</th>\n",
       "      <td>2</td>\n",
       "    </tr>\n",
       "    <tr>\n",
       "      <th>CONTRIBUTOR PAGE VIEW</th>\n",
       "      <td>5</td>\n",
       "    </tr>\n",
       "    <tr>\n",
       "      <th>FIRM WEBLINK FROM ARTICLE</th>\n",
       "      <td>58</td>\n",
       "    </tr>\n",
       "    <tr>\n",
       "      <th>GOOGLE SEARCH ON AUTHOR</th>\n",
       "      <td>4</td>\n",
       "    </tr>\n",
       "    <tr>\n",
       "      <th>PRINTED ARTICLE</th>\n",
       "      <td>49</td>\n",
       "    </tr>\n",
       "    <tr>\n",
       "      <th>REDIRECT TO YOUR WEBSITE FROM ARTICLE</th>\n",
       "      <td>187</td>\n",
       "    </tr>\n",
       "    <tr>\n",
       "      <th>SEARCH OF YOUR DATA</th>\n",
       "      <td>4</td>\n",
       "    </tr>\n",
       "    <tr>\n",
       "      <th>VISIT TO YOUR EVENT INFO PAGE FROM ARITCLE</th>\n",
       "      <td>36</td>\n",
       "    </tr>\n",
       "    <tr>\n",
       "      <th>YOUR HOME PAGE</th>\n",
       "      <td>6</td>\n",
       "    </tr>\n",
       "    <tr>\n",
       "      <th rowspan=\"4\" valign=\"top\">文章阅读</th>\n",
       "      <th>ARTICLE</th>\n",
       "      <td>9964</td>\n",
       "    </tr>\n",
       "    <tr>\n",
       "      <th>ARTICLE READ FROM EMAIL SUBSCRIPTION</th>\n",
       "      <td>356</td>\n",
       "    </tr>\n",
       "    <tr>\n",
       "      <th>ARTICLE VIEW FROM WEBSITE</th>\n",
       "      <td>125</td>\n",
       "    </tr>\n",
       "    <tr>\n",
       "      <th>REFERRED BY COLLEAGUE TO THIS ARTICLE</th>\n",
       "      <td>1</td>\n",
       "    </tr>\n",
       "    <tr>\n",
       "      <th>查看我们更多文章</th>\n",
       "      <th>PRESS RELEASE VIEW</th>\n",
       "      <td>1</td>\n",
       "    </tr>\n",
       "  </tbody>\n",
       "</table>\n",
       "</div>"
      ],
      "text/plain": [
       "                                                           0\n",
       "category    Activity Type                                   \n",
       "对文章表现出兴趣    ARTICLE ADDED TO POCKET                        2\n",
       "            FORWARDED ARTICLE TO COLLEAGUE                 3\n",
       "            SOCIALMEDIA ARTICLE SHARE                      1\n",
       "对集佳或作者表现出兴趣 AUTHOR BIO                                    18\n",
       "            AUTHOR PAGE VIEW                              31\n",
       "            CONTACT DETAILS REQUEST                        2\n",
       "            CONTRIBUTOR PAGE VIEW                          5\n",
       "            FIRM WEBLINK FROM ARTICLE                     58\n",
       "            GOOGLE SEARCH ON AUTHOR                        4\n",
       "            PRINTED ARTICLE                               49\n",
       "            REDIRECT TO YOUR WEBSITE FROM ARTICLE        187\n",
       "            SEARCH OF YOUR DATA                            4\n",
       "            VISIT TO YOUR EVENT INFO PAGE FROM ARITCLE    36\n",
       "            YOUR HOME PAGE                                 6\n",
       "文章阅读        ARTICLE                                     9964\n",
       "            ARTICLE READ FROM EMAIL SUBSCRIPTION         356\n",
       "            ARTICLE VIEW FROM WEBSITE                    125\n",
       "            REFERRED BY COLLEAGUE TO THIS ARTICLE          1\n",
       "查看我们更多文章    PRESS RELEASE VIEW                             1"
      ]
     },
     "execution_count": 189,
     "metadata": {},
     "output_type": "execute_result"
    }
   ],
   "source": [
    "count_df = df.groupby(['category', 'Activity Type']).size().to_frame()\n",
    "count_df"
   ]
  },
  {
   "cell_type": "markdown",
   "metadata": {},
   "source": [
    "# Counts by Topic, Articles Types "
   ]
  },
  {
   "cell_type": "code",
   "execution_count": 190,
   "metadata": {},
   "outputs": [
    {
     "data": {
      "text/html": [
       "<div>\n",
       "<style scoped>\n",
       "    .dataframe tbody tr th:only-of-type {\n",
       "        vertical-align: middle;\n",
       "    }\n",
       "\n",
       "    .dataframe tbody tr th {\n",
       "        vertical-align: top;\n",
       "    }\n",
       "\n",
       "    .dataframe thead th {\n",
       "        text-align: right;\n",
       "    }\n",
       "</style>\n",
       "<table border=\"1\" class=\"dataframe\">\n",
       "  <thead>\n",
       "    <tr style=\"text-align: right;\">\n",
       "      <th></th>\n",
       "      <th>Article Title</th>\n",
       "      <th>Activity Type</th>\n",
       "      <th>Date Of Activity</th>\n",
       "      <th>Article Primary Author</th>\n",
       "      <th>Article Title2</th>\n",
       "      <th>category</th>\n",
       "      <th>Article Type</th>\n",
       "      <th>Topic</th>\n",
       "    </tr>\n",
       "  </thead>\n",
       "  <tbody>\n",
       "    <tr>\n",
       "      <th>0</th>\n",
       "      <td>A Successful Trade Dress Protection Case Throu...</td>\n",
       "      <td>ARTICLE READ FROM EMAIL SUBSCRIPTION</td>\n",
       "      <td>2018-02-26</td>\n",
       "      <td>Dan Chen</td>\n",
       "      <td>A Successful Trade Dress Protection Case Throu...</td>\n",
       "      <td>文章阅读</td>\n",
       "      <td>Unitalen Cases</td>\n",
       "      <td>Trade Dress</td>\n",
       "    </tr>\n",
       "  </tbody>\n",
       "</table>\n",
       "</div>"
      ],
      "text/plain": [
       "                                       Article Title  \\\n",
       "0  A Successful Trade Dress Protection Case Throu...   \n",
       "\n",
       "                          Activity Type Date Of Activity  \\\n",
       "0  ARTICLE READ FROM EMAIL SUBSCRIPTION       2018-02-26   \n",
       "\n",
       "  Article Primary Author                                     Article Title2  \\\n",
       "0               Dan Chen  A Successful Trade Dress Protection Case Throu...   \n",
       "\n",
       "  category    Article Type        Topic  \n",
       "0     文章阅读  Unitalen Cases  Trade Dress  "
      ]
     },
     "execution_count": 190,
     "metadata": {},
     "output_type": "execute_result"
    }
   ],
   "source": [
    "# Inner join user activity and articles datasets on `Article Title`\n",
    "# only include records that have matching values in both datasets\n",
    "df = df.merge(articles, on='Article Title')\n",
    "df.rename(columns={'Matter of Concern':'Topic'}, inplace=True)\n",
    "df.head(1)"
   ]
  },
  {
   "cell_type": "code",
   "execution_count": 191,
   "metadata": {},
   "outputs": [
    {
     "data": {
      "text/html": [
       "<div>\n",
       "<style scoped>\n",
       "    .dataframe tbody tr th:only-of-type {\n",
       "        vertical-align: middle;\n",
       "    }\n",
       "\n",
       "    .dataframe tbody tr th {\n",
       "        vertical-align: top;\n",
       "    }\n",
       "\n",
       "    .dataframe thead th {\n",
       "        text-align: right;\n",
       "    }\n",
       "</style>\n",
       "<table border=\"1\" class=\"dataframe\">\n",
       "  <thead>\n",
       "    <tr style=\"text-align: right;\">\n",
       "      <th></th>\n",
       "      <th>Article Type</th>\n",
       "    </tr>\n",
       "  </thead>\n",
       "  <tbody>\n",
       "    <tr>\n",
       "      <th>IP News</th>\n",
       "      <td>4338</td>\n",
       "    </tr>\n",
       "    <tr>\n",
       "      <th>Unitalen Cases</th>\n",
       "      <td>4286</td>\n",
       "    </tr>\n",
       "    <tr>\n",
       "      <th>Unitalen</th>\n",
       "      <td>1484</td>\n",
       "    </tr>\n",
       "    <tr>\n",
       "      <th>Attorney Article</th>\n",
       "      <td>390</td>\n",
       "    </tr>\n",
       "  </tbody>\n",
       "</table>\n",
       "</div>"
      ],
      "text/plain": [
       "                  Article Type\n",
       "IP News                   4338\n",
       "Unitalen Cases            4286\n",
       "Unitalen                  1484\n",
       "Attorney Article           390"
      ]
     },
     "execution_count": 191,
     "metadata": {},
     "output_type": "execute_result"
    }
   ],
   "source": [
    "df[\"Article Type\"].value_counts().to_frame()"
   ]
  },
  {
   "cell_type": "code",
   "execution_count": 192,
   "metadata": {},
   "outputs": [
    {
     "data": {
      "text/html": [
       "<div>\n",
       "<style scoped>\n",
       "    .dataframe tbody tr th:only-of-type {\n",
       "        vertical-align: middle;\n",
       "    }\n",
       "\n",
       "    .dataframe tbody tr th {\n",
       "        vertical-align: top;\n",
       "    }\n",
       "\n",
       "    .dataframe thead th {\n",
       "        text-align: right;\n",
       "    }\n",
       "</style>\n",
       "<table border=\"1\" class=\"dataframe\">\n",
       "  <thead>\n",
       "    <tr style=\"text-align: right;\">\n",
       "      <th></th>\n",
       "      <th></th>\n",
       "      <th>Clicks</th>\n",
       "      <th>Number of Articles</th>\n",
       "    </tr>\n",
       "    <tr>\n",
       "      <th>Article Type</th>\n",
       "      <th>Topic</th>\n",
       "      <th></th>\n",
       "      <th></th>\n",
       "    </tr>\n",
       "  </thead>\n",
       "  <tbody>\n",
       "    <tr>\n",
       "      <th rowspan=\"2\" valign=\"top\">Attorney Article</th>\n",
       "      <th>Joint Ventures</th>\n",
       "      <td>289</td>\n",
       "      <td>1</td>\n",
       "    </tr>\n",
       "    <tr>\n",
       "      <th>Trademark Law</th>\n",
       "      <td>101</td>\n",
       "      <td>1</td>\n",
       "    </tr>\n",
       "    <tr>\n",
       "      <th rowspan=\"10\" valign=\"top\">IP News</th>\n",
       "      <th>Anti-Unfair Competition Law</th>\n",
       "      <td>526</td>\n",
       "      <td>1</td>\n",
       "    </tr>\n",
       "    <tr>\n",
       "      <th>China IP System &amp; Policy</th>\n",
       "      <td>1750</td>\n",
       "      <td>7</td>\n",
       "    </tr>\n",
       "    <tr>\n",
       "      <th>China-US</th>\n",
       "      <td>190</td>\n",
       "      <td>1</td>\n",
       "    </tr>\n",
       "    <tr>\n",
       "      <th>E-Commerce Law</th>\n",
       "      <td>482</td>\n",
       "      <td>1</td>\n",
       "    </tr>\n",
       "    <tr>\n",
       "      <th>Invention Patent</th>\n",
       "      <td>22</td>\n",
       "      <td>1</td>\n",
       "    </tr>\n",
       "    <tr>\n",
       "      <th>Patent Application</th>\n",
       "      <td>545</td>\n",
       "      <td>1</td>\n",
       "    </tr>\n",
       "    <tr>\n",
       "      <th>Piracy</th>\n",
       "      <td>582</td>\n",
       "      <td>1</td>\n",
       "    </tr>\n",
       "    <tr>\n",
       "      <th>Trademark Case</th>\n",
       "      <td>41</td>\n",
       "      <td>1</td>\n",
       "    </tr>\n",
       "    <tr>\n",
       "      <th>Trademark Law</th>\n",
       "      <td>39</td>\n",
       "      <td>1</td>\n",
       "    </tr>\n",
       "    <tr>\n",
       "      <th>Trademark Review</th>\n",
       "      <td>161</td>\n",
       "      <td>1</td>\n",
       "    </tr>\n",
       "    <tr>\n",
       "      <th rowspan=\"2\" valign=\"top\">Unitalen</th>\n",
       "      <th>Awards &amp; Honors</th>\n",
       "      <td>1457</td>\n",
       "      <td>2</td>\n",
       "    </tr>\n",
       "    <tr>\n",
       "      <th>Important Visitors</th>\n",
       "      <td>27</td>\n",
       "      <td>1</td>\n",
       "    </tr>\n",
       "    <tr>\n",
       "      <th rowspan=\"9\" valign=\"top\">Unitalen Cases</th>\n",
       "      <th>Patent Infringement</th>\n",
       "      <td>351</td>\n",
       "      <td>1</td>\n",
       "    </tr>\n",
       "    <tr>\n",
       "      <th>Patent Invalidation</th>\n",
       "      <td>459</td>\n",
       "      <td>1</td>\n",
       "    </tr>\n",
       "    <tr>\n",
       "      <th>Pre-Trial Behavioral Preservation</th>\n",
       "      <td>386</td>\n",
       "      <td>1</td>\n",
       "    </tr>\n",
       "    <tr>\n",
       "      <th>Settlement</th>\n",
       "      <td>463</td>\n",
       "      <td>1</td>\n",
       "    </tr>\n",
       "    <tr>\n",
       "      <th>Time-honored Brand</th>\n",
       "      <td>267</td>\n",
       "      <td>1</td>\n",
       "    </tr>\n",
       "    <tr>\n",
       "      <th>Trade Dress</th>\n",
       "      <td>539</td>\n",
       "      <td>1</td>\n",
       "    </tr>\n",
       "    <tr>\n",
       "      <th>Trademark Case with High Indemnity</th>\n",
       "      <td>324</td>\n",
       "      <td>1</td>\n",
       "    </tr>\n",
       "    <tr>\n",
       "      <th>Trademark Review</th>\n",
       "      <td>79</td>\n",
       "      <td>2</td>\n",
       "    </tr>\n",
       "    <tr>\n",
       "      <th>Well-known Trademark</th>\n",
       "      <td>1418</td>\n",
       "      <td>2</td>\n",
       "    </tr>\n",
       "  </tbody>\n",
       "</table>\n",
       "</div>"
      ],
      "text/plain": [
       "                                                     Clicks  \\\n",
       "Article Type     Topic                                        \n",
       "Attorney Article Joint Ventures                         289   \n",
       "                 Trademark Law                          101   \n",
       "IP News          Anti-Unfair Competition Law            526   \n",
       "                 China IP System & Policy              1750   \n",
       "                 China-US                               190   \n",
       "                 E-Commerce Law                         482   \n",
       "                 Invention Patent                        22   \n",
       "                 Patent Application                     545   \n",
       "                 Piracy                                 582   \n",
       "                 Trademark Case                          41   \n",
       "                 Trademark Law                           39   \n",
       "                 Trademark Review                       161   \n",
       "Unitalen         Awards & Honors                       1457   \n",
       "                 Important Visitors                      27   \n",
       "Unitalen Cases   Patent Infringement                    351   \n",
       "                 Patent Invalidation                    459   \n",
       "                 Pre-Trial Behavioral Preservation      386   \n",
       "                 Settlement                             463   \n",
       "                 Time-honored Brand                     267   \n",
       "                 Trade Dress                            539   \n",
       "                 Trademark Case with High Indemnity     324   \n",
       "                 Trademark Review                        79   \n",
       "                 Well-known Trademark                  1418   \n",
       "\n",
       "                                                     Number of Articles  \n",
       "Article Type     Topic                                                   \n",
       "Attorney Article Joint Ventures                                       1  \n",
       "                 Trademark Law                                        1  \n",
       "IP News          Anti-Unfair Competition Law                          1  \n",
       "                 China IP System & Policy                             7  \n",
       "                 China-US                                             1  \n",
       "                 E-Commerce Law                                       1  \n",
       "                 Invention Patent                                     1  \n",
       "                 Patent Application                                   1  \n",
       "                 Piracy                                               1  \n",
       "                 Trademark Case                                       1  \n",
       "                 Trademark Law                                        1  \n",
       "                 Trademark Review                                     1  \n",
       "Unitalen         Awards & Honors                                      2  \n",
       "                 Important Visitors                                   1  \n",
       "Unitalen Cases   Patent Infringement                                  1  \n",
       "                 Patent Invalidation                                  1  \n",
       "                 Pre-Trial Behavioral Preservation                    1  \n",
       "                 Settlement                                           1  \n",
       "                 Time-honored Brand                                   1  \n",
       "                 Trade Dress                                          1  \n",
       "                 Trademark Case with High Indemnity                   1  \n",
       "                 Trademark Review                                     2  \n",
       "                 Well-known Trademark                                 2  "
      ]
     },
     "execution_count": 192,
     "metadata": {},
     "output_type": "execute_result"
    }
   ],
   "source": [
    "pivot_tb = pd.pivot_table(df, values=['Article Title'], index=['Article Type', 'Topic'], \n",
    "              aggfunc={'Article Title':['nunique', 'count']})\n",
    "pivot_tb.columns = ['Clicks', 'Number of Articles']\n",
    "pivot_tb"
   ]
  }
 ],
 "metadata": {
  "kernelspec": {
   "display_name": "stat_notes",
   "language": "python",
   "name": "stat_notes"
  },
  "language_info": {
   "codemirror_mode": {
    "name": "ipython",
    "version": 3
   },
   "file_extension": ".py",
   "mimetype": "text/x-python",
   "name": "python",
   "nbconvert_exporter": "python",
   "pygments_lexer": "ipython3",
   "version": "3.9.12"
  }
 },
 "nbformat": 4,
 "nbformat_minor": 2
}
