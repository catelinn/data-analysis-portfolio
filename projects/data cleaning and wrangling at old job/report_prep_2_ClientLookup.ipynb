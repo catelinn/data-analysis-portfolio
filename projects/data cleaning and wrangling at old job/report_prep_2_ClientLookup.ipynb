{
 "cells": [
  {
   "cell_type": "markdown",
   "metadata": {},
   "source": [
    "# References\n",
    "\n",
    "\n",
    "\n",
    "- [Fuzzy string matching in Python](https://marcobonzanini.com/2015/02/25/fuzzy-string-matching-in-python/)\n",
    "\n",
    "- [how to do a vlookup in Python](https://michaeljsanders.com/2017/04/17/python-vlookup.html)\n",
    "    - `.map()` with a dictionary\n",
    "    - `.merge()` with a left join"
   ]
  },
  {
   "cell_type": "code",
   "execution_count": 1,
   "metadata": {},
   "outputs": [],
   "source": [
    "import fuzzywuzzy\n",
    "from fuzzywuzzy import process"
   ]
  },
  {
   "cell_type": "code",
   "execution_count": 2,
   "metadata": {},
   "outputs": [],
   "source": [
    "import numpy as np\n",
    "import pandas as pd\n",
    "import os\n",
    "pd.set_option('display.max_rows', 4)"
   ]
  },
  {
   "cell_type": "markdown",
   "metadata": {},
   "source": [
    "# Introduction\n",
    "\n",
    "\n",
    "This script is the second step of preparing dataset for monthly reporting: clean and fill in necessary information to the data.\n",
    "\n",
    "In this step, I need to complete the following three tasks:\n",
    "\n",
    "- New cases come from new clients or old clients. I need to identify the new clients and add them to my `clients.xlsx` file.\n",
    "\n",
    "- In addition, our headquarter record names differently for the same client due to varied reasons, sometimes it's because of typo and abbreviations etc., sometimes it's because a client firm has different offices using different names. For our office's marketing report, I only need one sigular name for one client no matter how many offices they have.\n",
    "\n",
    "- At the last step, I want to attach client nature information to the new cases, so that I can create pivot table in Excel easily with complete information on file. "
   ]
  },
  {
   "cell_type": "markdown",
   "metadata": {},
   "source": [
    "# Import Data"
   ]
  },
  {
   "cell_type": "code",
   "execution_count": 3,
   "metadata": {},
   "outputs": [],
   "source": [
    "output_dir = os.path.dirname(os.getcwd()) # save output in folder one level up"
   ]
  },
  {
   "cell_type": "code",
   "execution_count": 4,
   "metadata": {},
   "outputs": [
    {
     "data": {
      "text/html": [
       "<div>\n",
       "<style scoped>\n",
       "    .dataframe tbody tr th:only-of-type {\n",
       "        vertical-align: middle;\n",
       "    }\n",
       "\n",
       "    .dataframe tbody tr th {\n",
       "        vertical-align: top;\n",
       "    }\n",
       "\n",
       "    .dataframe thead th {\n",
       "        text-align: right;\n",
       "    }\n",
       "</style>\n",
       "<table border=\"1\" class=\"dataframe\">\n",
       "  <thead>\n",
       "    <tr style=\"text-align: right;\">\n",
       "      <th></th>\n",
       "      <th>委托人</th>\n",
       "      <th>委托人性质</th>\n",
       "      <th>委托人其他使用名</th>\n",
       "    </tr>\n",
       "  </thead>\n",
       "  <tbody>\n",
       "    <tr>\n",
       "      <th>0</th>\n",
       "      <td>3COR</td>\n",
       "      <td>合作所</td>\n",
       "      <td>NaN</td>\n",
       "    </tr>\n",
       "  </tbody>\n",
       "</table>\n",
       "</div>"
      ],
      "text/plain": [
       "    委托人 委托人性质 委托人其他使用名\n",
       "0  3COR   合作所      NaN"
      ]
     },
     "execution_count": 4,
     "metadata": {},
     "output_type": "execute_result"
    }
   ],
   "source": [
    "# clients on file\n",
    "clients = pd.read_excel(output_dir + '/' + 'clients.xlsx')\n",
    "clients.head(1)"
   ]
  },
  {
   "cell_type": "code",
   "execution_count": 5,
   "metadata": {},
   "outputs": [
    {
     "name": "stdout",
     "output_type": "stream",
     "text": [
      "<class 'pandas.core.frame.DataFrame'>\n",
      "RangeIndex: 75 entries, 0 to 74\n",
      "Data columns (total 11 columns):\n",
      " #   Column      Non-Null Count  Dtype  \n",
      "---  ------      --------------  -----  \n",
      " 0   Unnamed: 0  75 non-null     int64  \n",
      " 1   委托人         75 non-null     object \n",
      " 2   委托人国别       75 non-null     object \n",
      " 3   本所案号        75 non-null     object \n",
      " 4   案件类型        75 non-null     object \n",
      " 5   申请人         66 non-null     object \n",
      " 6   申请人国别       66 non-null     object \n",
      " 7   商标名称        73 non-null     object \n",
      " 8   类别          73 non-null     float64\n",
      " 9   商标号         47 non-null     object \n",
      " 10  立案日         75 non-null     object \n",
      "dtypes: float64(1), int64(1), object(9)\n",
      "memory usage: 6.6+ KB\n"
     ]
    }
   ],
   "source": [
    "# new cases\n",
    "fn = 'newCases20220723211639.xlsx'\n",
    "cases = pd.read_excel(fn)\n",
    "cases.info()"
   ]
  },
  {
   "cell_type": "markdown",
   "metadata": {},
   "source": [
    "# Fuzzy Search Client Names\n",
    "\n",
    "### Test fuzzy match result for one case only\n",
    "\n",
    "I use `fuzzywuzzy.process()` function to do fuzzy lookup by comparing the client name '委托人' in `cases` and `clients`. I want the matching result to be from `clients` so all new cases will use the same name for the same client.\n",
    "\n",
    "If matching results are not found or with low score, it's highly probably these new cases are from new clients. I'll check these results in excel and add them to `clients` file after verification."
   ]
  },
  {
   "cell_type": "code",
   "execution_count": 6,
   "metadata": {},
   "outputs": [
    {
     "data": {
      "text/plain": [
       "'BERESKIN & PARR LLP'"
      ]
     },
     "execution_count": 6,
     "metadata": {},
     "output_type": "execute_result"
    }
   ],
   "source": [
    "# client name in `cases` file\n",
    "cases.iloc[0]['委托人']"
   ]
  },
  {
   "cell_type": "code",
   "execution_count": 7,
   "metadata": {},
   "outputs": [
    {
     "data": {
      "text/plain": [
       "('BERESKIN & PARR LLP', 100, 13)"
      ]
     },
     "execution_count": 7,
     "metadata": {},
     "output_type": "execute_result"
    }
   ],
   "source": [
    "# fuzzy matching result found in `clients` file\n",
    "testResult = process.extractOne(cases.iloc[0]['委托人'], clients['委托人'])\n",
    "testResult"
   ]
  },
  {
   "cell_type": "markdown",
   "metadata": {},
   "source": [
    "The matching score is `100` if they match completely. The closer the match, the higher the score."
   ]
  },
  {
   "cell_type": "markdown",
   "metadata": {},
   "source": [
    "### Conduct fuzzy matchiing for all cases\n"
   ]
  },
  {
   "cell_type": "code",
   "execution_count": 8,
   "metadata": {},
   "outputs": [],
   "source": [
    "# return matching result found in client name ('委托人') column if score above 90;\n",
    "# else, return matching results found in other names for the client ('委托人其他使用名') \n",
    "bestMatches = cases['委托人']\\\n",
    "              .apply(lambda x: process.extractOne(x, clients['委托人'])\\\n",
    "                     if process.extractOne(x, clients['委托人'])[1] > 90 \\\n",
    "                     else process.extractOne(x, clients['委托人其他使用名']) )"
   ]
  },
  {
   "cell_type": "code",
   "execution_count": 9,
   "metadata": {},
   "outputs": [],
   "source": [
    "scores = [x[1] for x in bestMatches]\n",
    "results = [x[0] for x in bestMatches]\n",
    "indices = [x[2] for x in bestMatches]"
   ]
  },
  {
   "cell_type": "code",
   "execution_count": 10,
   "metadata": {},
   "outputs": [],
   "source": [
    "result_df = pd.DataFrame({'Original': cases['委托人'],\n",
    "                   'Score': scores,\n",
    "                   'Result': results, \n",
    "                  \"ClientIndex\": indices})"
   ]
  },
  {
   "cell_type": "code",
   "execution_count": 11,
   "metadata": {},
   "outputs": [
    {
     "data": {
      "text/html": [
       "<div>\n",
       "<style scoped>\n",
       "    .dataframe tbody tr th:only-of-type {\n",
       "        vertical-align: middle;\n",
       "    }\n",
       "\n",
       "    .dataframe tbody tr th {\n",
       "        vertical-align: top;\n",
       "    }\n",
       "\n",
       "    .dataframe thead th {\n",
       "        text-align: right;\n",
       "    }\n",
       "</style>\n",
       "<table border=\"1\" class=\"dataframe\">\n",
       "  <thead>\n",
       "    <tr style=\"text-align: right;\">\n",
       "      <th></th>\n",
       "      <th>Original</th>\n",
       "      <th>Score</th>\n",
       "      <th>Result</th>\n",
       "      <th>ClientIndex</th>\n",
       "    </tr>\n",
       "  </thead>\n",
       "  <tbody>\n",
       "    <tr>\n",
       "      <th>0</th>\n",
       "      <td>BERESKIN &amp; PARR LLP</td>\n",
       "      <td>100</td>\n",
       "      <td>BERESKIN &amp; PARR LLP</td>\n",
       "      <td>13</td>\n",
       "    </tr>\n",
       "    <tr>\n",
       "      <th>1</th>\n",
       "      <td>BERESKIN &amp; PARR LLP</td>\n",
       "      <td>100</td>\n",
       "      <td>BERESKIN &amp; PARR LLP</td>\n",
       "      <td>13</td>\n",
       "    </tr>\n",
       "    <tr>\n",
       "      <th>...</th>\n",
       "      <td>...</td>\n",
       "      <td>...</td>\n",
       "      <td>...</td>\n",
       "      <td>...</td>\n",
       "    </tr>\n",
       "    <tr>\n",
       "      <th>73</th>\n",
       "      <td>CHICO'S FAS, INC.</td>\n",
       "      <td>40</td>\n",
       "      <td>PATTERSON THUENTE CHRISTENSEN PEDERSEN, P.A. (...</td>\n",
       "      <td>145</td>\n",
       "    </tr>\n",
       "    <tr>\n",
       "      <th>74</th>\n",
       "      <td>CHICO'S FAS, INC.</td>\n",
       "      <td>40</td>\n",
       "      <td>PATTERSON THUENTE CHRISTENSEN PEDERSEN, P.A. (...</td>\n",
       "      <td>145</td>\n",
       "    </tr>\n",
       "  </tbody>\n",
       "</table>\n",
       "<p>75 rows × 4 columns</p>\n",
       "</div>"
      ],
      "text/plain": [
       "               Original  Score  \\\n",
       "0   BERESKIN & PARR LLP    100   \n",
       "1   BERESKIN & PARR LLP    100   \n",
       "..                  ...    ...   \n",
       "73    CHICO'S FAS, INC.     40   \n",
       "74    CHICO'S FAS, INC.     40   \n",
       "\n",
       "                                               Result  ClientIndex  \n",
       "0                                 BERESKIN & PARR LLP           13  \n",
       "1                                 BERESKIN & PARR LLP           13  \n",
       "..                                                ...          ...  \n",
       "73  PATTERSON THUENTE CHRISTENSEN PEDERSEN, P.A. (...          145  \n",
       "74  PATTERSON THUENTE CHRISTENSEN PEDERSEN, P.A. (...          145  \n",
       "\n",
       "[75 rows x 4 columns]"
      ]
     },
     "execution_count": 11,
     "metadata": {},
     "output_type": "execute_result"
    }
   ],
   "source": [
    "result_df"
   ]
  },
  {
   "cell_type": "markdown",
   "metadata": {},
   "source": [
    "### Check the results scored above 90"
   ]
  },
  {
   "cell_type": "code",
   "execution_count": 12,
   "metadata": {},
   "outputs": [
    {
     "data": {
      "text/html": [
       "<div>\n",
       "<style scoped>\n",
       "    .dataframe tbody tr th:only-of-type {\n",
       "        vertical-align: middle;\n",
       "    }\n",
       "\n",
       "    .dataframe tbody tr th {\n",
       "        vertical-align: top;\n",
       "    }\n",
       "\n",
       "    .dataframe thead th {\n",
       "        text-align: right;\n",
       "    }\n",
       "</style>\n",
       "<table border=\"1\" class=\"dataframe\">\n",
       "  <thead>\n",
       "    <tr style=\"text-align: right;\">\n",
       "      <th></th>\n",
       "      <th>Original</th>\n",
       "      <th>Score</th>\n",
       "      <th>Result</th>\n",
       "    </tr>\n",
       "  </thead>\n",
       "  <tbody>\n",
       "    <tr>\n",
       "      <th>64</th>\n",
       "      <td>OMIELIFE INC.</td>\n",
       "      <td>96</td>\n",
       "      <td>OMIELIFE, INC.</td>\n",
       "    </tr>\n",
       "    <tr>\n",
       "      <th>37</th>\n",
       "      <td>OMIELIFE INC.</td>\n",
       "      <td>96</td>\n",
       "      <td>OMIELIFE, INC.</td>\n",
       "    </tr>\n",
       "    <tr>\n",
       "      <th>...</th>\n",
       "      <td>...</td>\n",
       "      <td>...</td>\n",
       "      <td>...</td>\n",
       "    </tr>\n",
       "    <tr>\n",
       "      <th>30</th>\n",
       "      <td>YOUNIQUE, LLC</td>\n",
       "      <td>100</td>\n",
       "      <td>YOUNIQUE, LLC</td>\n",
       "    </tr>\n",
       "    <tr>\n",
       "      <th>69</th>\n",
       "      <td>MERCHANT &amp; GOULD P.C.</td>\n",
       "      <td>100</td>\n",
       "      <td>MERCHANT &amp; GOULD P.C.</td>\n",
       "    </tr>\n",
       "  </tbody>\n",
       "</table>\n",
       "<p>62 rows × 3 columns</p>\n",
       "</div>"
      ],
      "text/plain": [
       "                 Original  Score                 Result\n",
       "64          OMIELIFE INC.     96         OMIELIFE, INC.\n",
       "37          OMIELIFE INC.     96         OMIELIFE, INC.\n",
       "..                    ...    ...                    ...\n",
       "30          YOUNIQUE, LLC    100          YOUNIQUE, LLC\n",
       "69  MERCHANT & GOULD P.C.    100  MERCHANT & GOULD P.C.\n",
       "\n",
       "[62 rows x 3 columns]"
      ]
     },
     "execution_count": 12,
     "metadata": {},
     "output_type": "execute_result"
    }
   ],
   "source": [
    "result_df.loc[result_df['Score']>90, ['Original', 'Score', 'Result']].sort_values('Score')"
   ]
  },
  {
   "cell_type": "code",
   "execution_count": 14,
   "metadata": {},
   "outputs": [],
   "source": [
    "# export result >= 95 to excel for review later\n",
    "notLowerThan_95 = result_df[result_df.Score >= 95].drop_duplicates(subset=['Original', 'Result'])\n",
    "notLowerThan_95.to_excel('notLowerThan_95.xlsx')"
   ]
  },
  {
   "cell_type": "markdown",
   "metadata": {},
   "source": [
    "### Resolve the results scored lower than 95"
   ]
  },
  {
   "cell_type": "code",
   "execution_count": 15,
   "metadata": {},
   "outputs": [
    {
     "data": {
      "text/plain": [
       "13"
      ]
     },
     "execution_count": 15,
     "metadata": {},
     "output_type": "execute_result"
    }
   ],
   "source": [
    "# how many matches score under 95\n",
    "len(result_df[result_df['Score']<95])"
   ]
  },
  {
   "cell_type": "code",
   "execution_count": 16,
   "metadata": {},
   "outputs": [],
   "source": [
    "# export result < 95 to excel for review (distinct client names from new `cases` for faster check)\n",
    "lowerThan_95 = result_df[result_df.Score < 95].drop_duplicates(subset=['Original'])\n",
    "lowerThan_95.to_excel('lowerThan_95.xlsx')"
   ]
  },
  {
   "cell_type": "markdown",
   "metadata": {},
   "source": [
    "##### Instructions\n",
    "\n",
    "1. Check `lowerThan_95.xlsx` file, if these clients are really not on file yet, add them to `clients.xlsx`;\n",
    "2. Rerun all the code above to import the updated `clients` file and do the matching again;\n",
    "3. when no more matchinig results scored lower than 95, check `notLowerThan_95.xlsx` file, verify the results are correct;\n",
    "4. After all of the above done, continue with following tasks to update client name ('委托人') and client nature ('委托人性质') columns in `cases`."
   ]
  },
  {
   "cell_type": "markdown",
   "metadata": {},
   "source": [
    "# Add 委托人性质 Column in Cases"
   ]
  },
  {
   "cell_type": "code",
   "execution_count": 18,
   "metadata": {},
   "outputs": [
    {
     "data": {
      "text/plain": [
       "0    合作所\n",
       "1    合作所\n",
       "    ... \n",
       "3    合作所\n",
       "4    合作所\n",
       "Name: 委托人性质, Length: 5, dtype: object"
      ]
     },
     "execution_count": 18,
     "metadata": {},
     "output_type": "execute_result"
    }
   ],
   "source": [
    "# look up '委托人性质' from `client`\n",
    "clientNature = result_df.merge(clients, left_on=\"ClientIndex\", right_index = True)['委托人性质'].tolist()\n",
    "\n",
    "# update '委托人性质' in `cases`\n",
    "cases['委托人性质'] = clientNature\n",
    "cases['委托人性质'].head()"
   ]
  },
  {
   "cell_type": "code",
   "execution_count": 19,
   "metadata": {},
   "outputs": [
    {
     "name": "stdout",
     "output_type": "stream",
     "text": [
      "<class 'pandas.core.frame.DataFrame'>\n",
      "RangeIndex: 75 entries, 0 to 74\n",
      "Data columns (total 12 columns):\n",
      " #   Column      Non-Null Count  Dtype  \n",
      "---  ------      --------------  -----  \n",
      " 0   Unnamed: 0  75 non-null     int64  \n",
      " 1   委托人         75 non-null     object \n",
      " 2   委托人国别       75 non-null     object \n",
      " 3   本所案号        75 non-null     object \n",
      " 4   案件类型        75 non-null     object \n",
      " 5   申请人         66 non-null     object \n",
      " 6   申请人国别       66 non-null     object \n",
      " 7   商标名称        73 non-null     object \n",
      " 8   类别          73 non-null     float64\n",
      " 9   商标号         47 non-null     object \n",
      " 10  立案日         75 non-null     object \n",
      " 11  委托人性质       75 non-null     object \n",
      "dtypes: float64(1), int64(1), object(10)\n",
      "memory usage: 7.2+ KB\n"
     ]
    }
   ],
   "source": [
    "cases.info()"
   ]
  },
  {
   "cell_type": "markdown",
   "metadata": {},
   "source": [
    "### Update 委托人 in cases\n",
    "\n",
    "Look up '委托人' column in `client` by `ClientIndex` and fill in the information in `cases`. The reason why I don't update with `result_df['Result']` is because some matching results come from the column of other names used by the client ('委托人其他使用名'). I don't want to use those names so as to keep all client names in `cases` aligned."
   ]
  },
  {
   "cell_type": "code",
   "execution_count": 23,
   "metadata": {},
   "outputs": [
    {
     "data": {
      "text/plain": [
       "75"
      ]
     },
     "execution_count": 23,
     "metadata": {},
     "output_type": "execute_result"
    }
   ],
   "source": [
    "(cases['委托人'] == result_df['Original']).sum()"
   ]
  },
  {
   "cell_type": "code",
   "execution_count": 24,
   "metadata": {
    "scrolled": true
   },
   "outputs": [],
   "source": [
    "cases['委托人'] = clients.iloc[result_df['ClientIndex']]['委托人'].tolist()"
   ]
  },
  {
   "cell_type": "markdown",
   "metadata": {},
   "source": [
    "### Save updated case file to excel"
   ]
  },
  {
   "cell_type": "code",
   "execution_count": 28,
   "metadata": {},
   "outputs": [],
   "source": [
    "# export the updated cases to final case file.\n",
    "cases.to_excel(fn+'updated.xlsx', header = True, index=False, encoding='utf-8')"
   ]
  },
  {
   "cell_type": "markdown",
   "metadata": {},
   "source": [
    "### Use `openpyxl` to append output rows to existing final case file"
   ]
  },
  {
   "cell_type": "code",
   "execution_count": 29,
   "metadata": {},
   "outputs": [],
   "source": [
    "import openpyxl\n",
    "from openpyxl import load_workbook\n",
    "from openpyxl.utils.dataframe import dataframe_to_rows"
   ]
  },
  {
   "cell_type": "code",
   "execution_count": 31,
   "metadata": {
    "scrolled": true
   },
   "outputs": [],
   "source": [
    "# load the existing final case workbook\n",
    "wb = load_workbook(output_dir+'/'+'final.xlsx')\n",
    "\n",
    "# select the active worksheet\n",
    "ws = wb.active\n",
    "\n",
    "# append output dataframe rows to the active worksheet data\n",
    "for r in dataframe_to_rows(cases, index= False, header=False):\n",
    "    ws.append(r)\n",
    "    \n",
    "# save the new workbook data to `final{timestamp}.xlsx` first\n",
    "import datetime\n",
    "from datetime import datetime\n",
    "timestamp = datetime.now().strftime('%Y-%m-%d %H:%M:%S')\n",
    "timestamp = ''.join(x for x in timestamp if x.isalnum())\n",
    "wb.save(filename='final{}.xlsx'.format(timestamp.strip(' :-')))"
   ]
  },
  {
   "cell_type": "markdown",
   "metadata": {},
   "source": [
    "### Final step\n",
    "- Check the new `final{timestamp}.xlsx` file, if everything OK, change file name to `final.xlsx` to replace the exsiting one.\n",
    "\n",
    "- Cut and paste case files from `data/` folder to `in report` folder"
   ]
  }
 ],
 "metadata": {
  "kernelspec": {
   "display_name": "stat_notes",
   "language": "python",
   "name": "stat_notes"
  },
  "language_info": {
   "codemirror_mode": {
    "name": "ipython",
    "version": 3
   },
   "file_extension": ".py",
   "mimetype": "text/x-python",
   "name": "python",
   "nbconvert_exporter": "python",
   "pygments_lexer": "ipython3",
   "version": "3.9.12"
  },
  "toc": {
   "base_numbering": 1,
   "nav_menu": {},
   "number_sections": false,
   "sideBar": true,
   "skip_h1_title": false,
   "title_cell": "Table of Contents",
   "title_sidebar": "Contents",
   "toc_cell": false,
   "toc_position": {},
   "toc_section_display": true,
   "toc_window_display": true
  }
 },
 "nbformat": 4,
 "nbformat_minor": 2
}
