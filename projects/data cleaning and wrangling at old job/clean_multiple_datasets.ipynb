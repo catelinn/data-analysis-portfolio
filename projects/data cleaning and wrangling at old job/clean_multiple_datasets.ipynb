{
 "cells": [
  {
   "cell_type": "code",
   "execution_count": 100,
   "metadata": {},
   "outputs": [],
   "source": [
    "import pandas as pd\n",
    "import numpy as np\n",
    "import openpyxl"
   ]
  },
  {
   "cell_type": "markdown",
   "metadata": {},
   "source": [
    "# Define Custom Functions"
   ]
  },
  {
   "cell_type": "code",
   "execution_count": 101,
   "metadata": {},
   "outputs": [],
   "source": [
    "# print columns of multiple datasets, allow column name search using regex\n",
    "def print_columns_of_all_datasets(data, search=r'.*'): \n",
    "    import re\n",
    "    for key in data.keys():\n",
    "        cols = data[key].columns[data[key].columns.str.contains(search,flags=re.I)]\n",
    "        print(\"Columns of '{}':\\n {}\\n\".format(key,list(cols)))\n",
    "    return None\n",
    "\n",
    "# rename columns if needed\n",
    "def clean_df_cols(df, df_cols_dict_map):\n",
    "    # select columns that need to be renamed\n",
    "    cols_to_rename = [x for x in list(df.columns) \n",
    "                      if (x not in list(df_cols_dict_map.values())\n",
    "                          and x in list(df_cols_dict_map.keys()))]\n",
    "    # rename columns\n",
    "    m = dict(zip(cols_to_rename, [df_cols_dict_map[col] for col in cols_to_rename]))\n",
    "    df = df.rename(columns=m).loc[:,list(df_cols_dict_map.values())]\n",
    "    return df"
   ]
  },
  {
   "cell_type": "markdown",
   "metadata": {},
   "source": [
    "# Load Data\n",
    "\n",
    "The data are saved in multiple sheets. Load and parse each sheet to data dictionary."
   ]
  },
  {
   "cell_type": "code",
   "execution_count": 102,
   "metadata": {},
   "outputs": [
    {
     "data": {
      "text/plain": [
       "['China Patent',\n",
       " 'PCT',\n",
       " 'TW patent',\n",
       " 'IPC Class',\n",
       " 'Applicant Names',\n",
       " 'China Patent (Soopat)']"
      ]
     },
     "execution_count": 102,
     "metadata": {},
     "output_type": "execute_result"
    }
   ],
   "source": [
    "xl = pd.ExcelFile('Convatec data.xlsx')\n",
    "data = xl.parse(xl.sheet_names) # parse in each sheet to data dictioanry\n",
    "\n",
    "# sheet names\n",
    "keys = list(data.keys())\n",
    "keys"
   ]
  },
  {
   "cell_type": "markdown",
   "metadata": {},
   "source": [
    "##### Choose the following datasets to work on\n",
    "\n",
    "`China Patent`, `PCT`, `IPC`"
   ]
  },
  {
   "cell_type": "code",
   "execution_count": 103,
   "metadata": {},
   "outputs": [
    {
     "data": {
      "text/plain": [
       "dict_keys(['China Patent', 'PCT', 'IPC'])"
      ]
     },
     "execution_count": 103,
     "metadata": {},
     "output_type": "execute_result"
    }
   ],
   "source": [
    "keys = ['China Patent', 'PCT', 'IPC Class']\n",
    "data = {k:v for k,v in data.items() if k in keys}\n",
    "data['IPC'] = data.pop('IPC Class') # rename a key\n",
    "data.keys()"
   ]
  },
  {
   "cell_type": "markdown",
   "metadata": {},
   "source": [
    "# Rename Columns"
   ]
  },
  {
   "cell_type": "code",
   "execution_count": 104,
   "metadata": {},
   "outputs": [
    {
     "name": "stdout",
     "output_type": "stream",
     "text": [
      "Columns of 'China Patent':\n",
      " ['申请号', '申请号(search)', '主申请类', '类型', 'Agent', 'Unnamed: 5', '申请人', '申请人(soopat)', '地区', '申请日', '公开(公告)号', '公开(公告)日', '名称', '发明名称', 'Unnamed: 14']\n",
      "\n",
      "Columns of 'PCT':\n",
      " ['Application No.', 'Agent', 'Firm', 'City', 'Country', 'Title', 'PubDate', 'US Application No.', 'Applicant', 'Inventor', 'Int.Class']\n",
      "\n",
      "Columns of 'IPC':\n",
      " ['主申请类(soopat)', '主申请类链接(soopat)', '分类号(wipo)', '分类号链接(wipo)', '标准分类号', '分类表年份', '部', '部（说明）', '大类', '大类（解释）', '小类', '小类（说明）', '大组', '大组（说明）', '一点小组', '一点小组（说明）', '二点小组', '二点小组（说明）', '三点小组', '三点小组（说明）', '四点小组', '四点小组（说明）', '五点小组', '五点小组（说明）', '六点小组', '六点小组（说明）']\n",
      "\n"
     ]
    }
   ],
   "source": [
    "print_columns_of_all_datasets(data)"
   ]
  },
  {
   "cell_type": "code",
   "execution_count": 105,
   "metadata": {},
   "outputs": [],
   "source": [
    "# old-new column dict for China Patent\n",
    "china_patent_cols_dict = {'申请号':'App_No(Soopat)', '申请号(search)':'App_No', \n",
    "                          '主申请类':'IPC(Soopat)', '类型':'Type', 'Agent':'Firm', \n",
    "                          '申请人':'Applicant_EN', '申请人(soopat)':'Applicant_CN','地区': 'China_Judct', \n",
    "                          '申请日':'AppDate', '公开(公告)号':'Pub_No', \n",
    "                          '公开(公告)日':'PubDate', '名称': 'Title_CN',\n",
    "                          '发明名称': 'Title_EN'}\n",
    "\n",
    "# old-new column dict for PCT\n",
    "cols = ['Application No.', 'Agent', 'Firm', 'City', 'Country', 'Title', 'PubDate', \n",
    " 'US Application No.', 'Applicant', 'Inventor', 'Int.Class']\n",
    "newcols = ['App_No(WIPO)', 'Agent', 'Firm', 'City', 'Country', 'Title_EN', 'PubDate', \n",
    "             'US_App_No', 'Applicant_EN', 'Inventor', 'IPC(WIPO)']\n",
    "pct_cols_dict = dict(zip(cols, newcols))\n",
    "\n",
    "# old-new column dict for IPC\n",
    "cols = ['主申请类(soopat)', '主申请类链接(soopat)', '分类号(wipo)', \n",
    " '分类号链接(wipo)', '标准分类号', '分类表年份', '部', '部（说明）', \n",
    " '大类', '大类（解释）', '小类', '小类（说明）', '大组', '大组（说明）', \n",
    " '一点小组', '一点小组（说明）', '二点小组', '二点小组（说明）', '三点小组', \n",
    " '三点小组（说明）', '四点小组', '四点小组（说明）', '五点小组', '五点小组（说明）', \n",
    " '六点小组', '六点小组（说明）']\n",
    "newcols = ['IPC(Soopat)', 'IPC_Link(Soopat)', 'IPC(WIPO)', \n",
    " 'IPC_link(WIPO)', 'IPC', 'IPC_Version', '部', '部（说明）', \n",
    " '大类', '大类（说明）', '小类', '小类（说明）', '大组', '大组（说明）', \n",
    " '一点小组', '一点小组（说明）', '二点小组', '二点小组（说明）', '三点小组', \n",
    " '三点小组（说明）', '四点小组', '四点小组（说明）', '五点小组', '五点小组（说明）', \n",
    " '六点小组', '六点小组（说明）']\n",
    "IPC_cols_dict = dict(zip(cols, newcols))"
   ]
  },
  {
   "cell_type": "code",
   "execution_count": 106,
   "metadata": {},
   "outputs": [],
   "source": [
    "# assign \n",
    "data['China Patent'] = clean_df_cols(data['China Patent'],china_patent_cols_dict)\n",
    "data['PCT'] = clean_df_cols(data['PCT'],pct_cols_dict)\n",
    "data['IPC'] = clean_df_cols(data['IPC'],IPC_cols_dict)"
   ]
  },
  {
   "cell_type": "markdown",
   "metadata": {},
   "source": [
    "# Convert Date Type for Dates"
   ]
  },
  {
   "cell_type": "code",
   "execution_count": 107,
   "metadata": {},
   "outputs": [
    {
     "name": "stdout",
     "output_type": "stream",
     "text": [
      "Columns of 'China Patent':\n",
      " ['AppDate', 'PubDate']\n",
      "\n",
      "Columns of 'PCT':\n",
      " ['PubDate']\n",
      "\n",
      "Columns of 'IPC':\n",
      " []\n",
      "\n"
     ]
    }
   ],
   "source": [
    "# search columns that contains `date` in names\n",
    "print_columns_of_all_datasets(data, r'date')"
   ]
  },
  {
   "cell_type": "markdown",
   "metadata": {},
   "source": [
    "## Convert dates in `China Patent`"
   ]
  },
  {
   "cell_type": "code",
   "execution_count": 108,
   "metadata": {},
   "outputs": [
    {
     "data": {
      "text/html": [
       "<div>\n",
       "<style scoped>\n",
       "    .dataframe tbody tr th:only-of-type {\n",
       "        vertical-align: middle;\n",
       "    }\n",
       "\n",
       "    .dataframe tbody tr th {\n",
       "        vertical-align: top;\n",
       "    }\n",
       "\n",
       "    .dataframe thead th {\n",
       "        text-align: right;\n",
       "    }\n",
       "</style>\n",
       "<table border=\"1\" class=\"dataframe\">\n",
       "  <thead>\n",
       "    <tr style=\"text-align: right;\">\n",
       "      <th></th>\n",
       "      <th>AppDate</th>\n",
       "      <th>PubDate</th>\n",
       "    </tr>\n",
       "  </thead>\n",
       "  <tbody>\n",
       "    <tr>\n",
       "      <th>0</th>\n",
       "      <td>2017.11.10</td>\n",
       "      <td>2018.05.15</td>\n",
       "    </tr>\n",
       "    <tr>\n",
       "      <th>1</th>\n",
       "      <td>2017.11.10</td>\n",
       "      <td>2018.05.15</td>\n",
       "    </tr>\n",
       "    <tr>\n",
       "      <th>2</th>\n",
       "      <td>2017.12.22</td>\n",
       "      <td>2018.06.26</td>\n",
       "    </tr>\n",
       "    <tr>\n",
       "      <th>3</th>\n",
       "      <td>2008.10.20</td>\n",
       "      <td>2010.12.15</td>\n",
       "    </tr>\n",
       "    <tr>\n",
       "      <th>4</th>\n",
       "      <td>2017.11.10</td>\n",
       "      <td>2018.03.20</td>\n",
       "    </tr>\n",
       "  </tbody>\n",
       "</table>\n",
       "</div>"
      ],
      "text/plain": [
       "      AppDate     PubDate\n",
       "0  2017.11.10  2018.05.15\n",
       "1  2017.11.10  2018.05.15\n",
       "2  2017.12.22  2018.06.26\n",
       "3  2008.10.20  2010.12.15\n",
       "4  2017.11.10  2018.03.20"
      ]
     },
     "execution_count": 108,
     "metadata": {},
     "output_type": "execute_result"
    }
   ],
   "source": [
    "# check the date columns\n",
    "data['China Patent'][['AppDate', 'PubDate']].head()"
   ]
  },
  {
   "cell_type": "code",
   "execution_count": 109,
   "metadata": {},
   "outputs": [
    {
     "name": "stdout",
     "output_type": "stream",
     "text": [
      "AppDate     0\n",
      "PubDate    15\n",
      "dtype: int64\n"
     ]
    },
    {
     "data": {
      "text/html": [
       "<div>\n",
       "<style scoped>\n",
       "    .dataframe tbody tr th:only-of-type {\n",
       "        vertical-align: middle;\n",
       "    }\n",
       "\n",
       "    .dataframe tbody tr th {\n",
       "        vertical-align: top;\n",
       "    }\n",
       "\n",
       "    .dataframe thead th {\n",
       "        text-align: right;\n",
       "    }\n",
       "</style>\n",
       "<table border=\"1\" class=\"dataframe\">\n",
       "  <thead>\n",
       "    <tr style=\"text-align: right;\">\n",
       "      <th></th>\n",
       "      <th>AppDate</th>\n",
       "      <th>PubDate</th>\n",
       "    </tr>\n",
       "  </thead>\n",
       "  <tbody>\n",
       "    <tr>\n",
       "      <th>0</th>\n",
       "      <td>2017-11-10</td>\n",
       "      <td>2018-05-15</td>\n",
       "    </tr>\n",
       "    <tr>\n",
       "      <th>1</th>\n",
       "      <td>2017-11-10</td>\n",
       "      <td>2018-05-15</td>\n",
       "    </tr>\n",
       "    <tr>\n",
       "      <th>2</th>\n",
       "      <td>2017-12-22</td>\n",
       "      <td>2018-06-26</td>\n",
       "    </tr>\n",
       "    <tr>\n",
       "      <th>3</th>\n",
       "      <td>2008-10-20</td>\n",
       "      <td>2010-12-15</td>\n",
       "    </tr>\n",
       "    <tr>\n",
       "      <th>4</th>\n",
       "      <td>2017-11-10</td>\n",
       "      <td>2018-03-20</td>\n",
       "    </tr>\n",
       "  </tbody>\n",
       "</table>\n",
       "</div>"
      ],
      "text/plain": [
       "     AppDate    PubDate\n",
       "0 2017-11-10 2018-05-15\n",
       "1 2017-11-10 2018-05-15\n",
       "2 2017-12-22 2018-06-26\n",
       "3 2008-10-20 2010-12-15\n",
       "4 2017-11-10 2018-03-20"
      ]
     },
     "execution_count": 109,
     "metadata": {},
     "output_type": "execute_result"
    }
   ],
   "source": [
    "# convert to datetime\n",
    "f = '%Y.%m.%d'\n",
    "data['China Patent'][['AppDate', 'PubDate']] = (data['China Patent'][['AppDate', 'PubDate']]\n",
    "                                                .apply(pd.to_datetime,format=f, \n",
    "                                                       # return NaT for non-parseable date\n",
    "                                                       errors='coerce'))\n",
    "print(data['China Patent'][['AppDate', 'PubDate']].isna().sum())\n",
    "data['China Patent'][['AppDate', 'PubDate']].head()                                      "
   ]
  },
  {
   "cell_type": "code",
   "execution_count": 110,
   "metadata": {},
   "outputs": [
    {
     "data": {
      "text/plain": [
       "True"
      ]
     },
     "execution_count": 110,
     "metadata": {},
     "output_type": "execute_result"
    }
   ],
   "source": [
    "# check if `pub_no` also missing for those with missing `pubdate` \n",
    "data['China Patent'][data['China Patent']['PubDate'].isna()]['Pub_No'].isna().all()"
   ]
  },
  {
   "cell_type": "markdown",
   "metadata": {},
   "source": [
    "All records with missing `PubDate` are found with `Pub_No` missing, so it's not an issue to worry about.\n",
    "\n",
    "## Convert dates in `PCT`"
   ]
  },
  {
   "cell_type": "code",
   "execution_count": 111,
   "metadata": {},
   "outputs": [
    {
     "data": {
      "text/plain": [
       "0    08.10.2009\n",
       "1    29.10.2009\n",
       "2    08.07.2010\n",
       "3    23.12.2009\n",
       "4    23.12.2009\n",
       "Name: PubDate, dtype: object"
      ]
     },
     "execution_count": 111,
     "metadata": {},
     "output_type": "execute_result"
    }
   ],
   "source": [
    "data['PCT'].loc[:,'PubDate'].head()"
   ]
  },
  {
   "cell_type": "code",
   "execution_count": 112,
   "metadata": {},
   "outputs": [
    {
     "name": "stdout",
     "output_type": "stream",
     "text": [
      "0\n"
     ]
    },
    {
     "data": {
      "text/plain": [
       "0   2009-10-08\n",
       "1   2009-10-29\n",
       "2   2010-07-08\n",
       "3   2009-12-23\n",
       "4   2009-12-23\n",
       "Name: PubDate, dtype: datetime64[ns]"
      ]
     },
     "execution_count": 112,
     "metadata": {},
     "output_type": "execute_result"
    }
   ],
   "source": [
    "f = '%d.%m.%Y'\n",
    "data['PCT'].loc[:,'PubDate']=pd.to_datetime(data['PCT'].loc[:,'PubDate'], format=f, errors='coerce')\n",
    "print(data['PCT'].loc[:,'PubDate'].isna().sum())\n",
    "data['PCT'].loc[:,'PubDate'].head()"
   ]
  },
  {
   "cell_type": "markdown",
   "metadata": {},
   "source": [
    "## Add `AppDate` in `PCT`\n",
    "\n",
    "Extract `year` from `App_No(WIPO)` "
   ]
  },
  {
   "cell_type": "code",
   "execution_count": 113,
   "metadata": {},
   "outputs": [
    {
     "data": {
      "text/plain": [
       "0   2009-01-01\n",
       "1   2009-01-01\n",
       "2   2010-01-01\n",
       "3   2009-01-01\n",
       "4   2009-01-01\n",
       "Name: AppDate, dtype: datetime64[ns]"
      ]
     },
     "execution_count": 113,
     "metadata": {},
     "output_type": "execute_result"
    }
   ],
   "source": [
    "data['PCT']['AppDate'] = data['PCT']['App_No(WIPO)'].str.extract(r'\\/(.*)\\/').astype('datetime64')\n",
    "data['PCT']['AppDate'].head()"
   ]
  },
  {
   "cell_type": "markdown",
   "metadata": {},
   "source": [
    "# Remove Duplicate Patents"
   ]
  },
  {
   "cell_type": "code",
   "execution_count": 114,
   "metadata": {},
   "outputs": [],
   "source": [
    "# Remove patents with `App_No`, `Pub_No` and `Type` all duplicated\n",
    "subset = ['App_No', 'Pub_No','Type'] # multiple cols for identification of duplicates\n",
    "data['China Patent'] = data['China Patent'].sort_values(subset).drop_duplicates(subset=subset)\n",
    "data['PCT'] = data['PCT'].sort_values('App_No(WIPO)').drop_duplicates()"
   ]
  },
  {
   "cell_type": "markdown",
   "metadata": {},
   "source": [
    "# Merge `China Patent` with `IPC`"
   ]
  },
  {
   "cell_type": "code",
   "execution_count": 115,
   "metadata": {},
   "outputs": [
    {
     "data": {
      "text/plain": [
       "Index(['App_No(Soopat)', 'App_No', 'IPC(Soopat)', 'Type', 'Firm',\n",
       "       'Applicant_EN', 'Applicant_CN', 'China_Judct', 'AppDate', 'Pub_No',\n",
       "       'PubDate', 'Title_CN', 'Title_EN', 'IPC_Link(Soopat)', 'IPC(WIPO)',\n",
       "       'IPC_link(WIPO)', 'IPC', 'IPC_Version', '部', '部（说明）', '大类', '大类（说明）',\n",
       "       '小类', '小类（说明）', '大组', '大组（说明）', '一点小组', '一点小组（说明）', '二点小组', '二点小组（说明）',\n",
       "       '三点小组', '三点小组（说明）', '四点小组', '四点小组（说明）', '五点小组', '五点小组（说明）', '六点小组',\n",
       "       '六点小组（说明）'],\n",
       "      dtype='object')"
      ]
     },
     "execution_count": 115,
     "metadata": {},
     "output_type": "execute_result"
    }
   ],
   "source": [
    "# merge two datasets on `IPC(Soopat)`\n",
    "data[\"China_Patent_with_IPC\"] = data['China Patent'].merge(data['IPC'], on='IPC(Soopat)')\n",
    "data[\"China_Patent_with_IPC\"].columns"
   ]
  },
  {
   "cell_type": "code",
   "execution_count": 116,
   "metadata": {},
   "outputs": [],
   "source": [
    "# select columns to keep\n",
    "cols = ['App_No(Soopat)', 'App_No', 'Type', 'Firm',\n",
    "       'Applicant_CN', 'AppDate', 'Pub_No',\n",
    "       'PubDate', 'Title_CN', 'IPC', 'IPC_Link(Soopat)', \n",
    "       'IPC_link(WIPO)', 'IPC_Version', '部', '大类',\n",
    "       '小类', '大组']\n",
    "data[\"China_Patent_with_IPC\"] = data[\"China_Patent_with_IPC\"][cols]"
   ]
  },
  {
   "cell_type": "markdown",
   "metadata": {},
   "source": [
    "# Merge `PCT` with `IPC`"
   ]
  },
  {
   "cell_type": "code",
   "execution_count": 117,
   "metadata": {},
   "outputs": [
    {
     "data": {
      "text/plain": [
       "Index(['App_No(WIPO)', 'Agent', 'Firm', 'City', 'Country', 'Title_EN',\n",
       "       'PubDate', 'US_App_No', 'Applicant_EN', 'Inventor', 'IPC(WIPO)',\n",
       "       'AppDate', 'IPC(Soopat)', 'IPC_Link(Soopat)', 'IPC_link(WIPO)', 'IPC',\n",
       "       'IPC_Version', '部', '部（说明）', '大类', '大类（说明）', '小类', '小类（说明）', '大组',\n",
       "       '大组（说明）', '一点小组', '一点小组（说明）', '二点小组', '二点小组（说明）', '三点小组', '三点小组（说明）',\n",
       "       '四点小组', '四点小组（说明）', '五点小组', '五点小组（说明）', '六点小组', '六点小组（说明）'],\n",
       "      dtype='object')"
      ]
     },
     "execution_count": 117,
     "metadata": {},
     "output_type": "execute_result"
    }
   ],
   "source": [
    "data['PCT_with_IPC'] = data['PCT'].merge(data['IPC'], on='IPC(WIPO)')\n",
    "data['PCT_with_IPC'].columns"
   ]
  },
  {
   "cell_type": "code",
   "execution_count": 118,
   "metadata": {},
   "outputs": [],
   "source": [
    "cols = ['App_No(WIPO)', 'AppDate','Agent', 'Firm', 'City', 'Country', 'Title_EN',\n",
    "       'PubDate', 'US_App_No', 'Applicant_EN', 'IPC', 'IPC(WIPO)', 'IPC_Link(Soopat)', 'IPC_link(WIPO)', \n",
    "       'IPC_Version', '部', '大类', '小类', '大组']\n",
    "data['PCT_with_IPC'] = data['PCT_with_IPC'][cols]"
   ]
  },
  {
   "cell_type": "markdown",
   "metadata": {},
   "source": [
    "# Export datasets"
   ]
  },
  {
   "cell_type": "code",
   "execution_count": 119,
   "metadata": {},
   "outputs": [
    {
     "data": {
      "text/plain": [
       "dict_keys(['China Patent', 'PCT', 'IPC', 'China_Patent_with_IPC', 'PCT_with_IPC'])"
      ]
     },
     "execution_count": 119,
     "metadata": {},
     "output_type": "execute_result"
    }
   ],
   "source": [
    "data.keys()"
   ]
  },
  {
   "cell_type": "code",
   "execution_count": 120,
   "metadata": {},
   "outputs": [],
   "source": [
    "import os\n",
    "outdir = './cleaned'\n",
    "if not os.path.exists(outdir):\n",
    "    os.mkdir(outdir)\n",
    "\n",
    "for key in data.keys():\n",
    "    fname = outdir + '/' + key + '.csv'\n",
    "    data[key].to_csv(fname, encoding='utf-8’')"
   ]
  }
 ],
 "metadata": {
  "kernelspec": {
   "display_name": "stat_notes",
   "language": "python",
   "name": "stat_notes"
  },
  "language_info": {
   "codemirror_mode": {
    "name": "ipython",
    "version": 3
   },
   "file_extension": ".py",
   "mimetype": "text/x-python",
   "name": "python",
   "nbconvert_exporter": "python",
   "pygments_lexer": "ipython3",
   "version": "3.9.12"
  },
  "toc": {
   "base_numbering": 1,
   "nav_menu": {},
   "number_sections": false,
   "sideBar": true,
   "skip_h1_title": false,
   "title_cell": "Table of Contents",
   "title_sidebar": "Contents",
   "toc_cell": false,
   "toc_position": {},
   "toc_section_display": true,
   "toc_window_display": true
  }
 },
 "nbformat": 4,
 "nbformat_minor": 2
}
