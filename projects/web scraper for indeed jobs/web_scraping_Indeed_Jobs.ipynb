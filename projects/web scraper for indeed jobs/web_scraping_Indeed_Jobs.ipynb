{
 "cells": [
  {
   "cell_type": "markdown",
   "metadata": {},
   "source": [
    "# Introduction\n",
    "\n",
    "The project is to build a scraper to extract useful data of the job posts found on www.indeed.com, based on customizable search keyword and location.\n",
    "\n",
    "Libraries used: `requests` and `bs4`\n"
   ]
  },
  {
   "cell_type": "code",
   "execution_count": 1,
   "metadata": {},
   "outputs": [],
   "source": [
    "import requests\n",
    "from bs4 import BeautifulSoup\n",
    "import pandas as pd"
   ]
  },
  {
   "cell_type": "markdown",
   "metadata": {},
   "source": [
    "# Tasks\n",
    "\n",
    "- Scrape the first 100 available search results across multiple pages\n",
    "- Generalize the code to allow searching for different locations/jobs\n",
    "- Pick out information about the URL, job title and job location\n",
    "- Save the results to a file"
   ]
  },
  {
   "cell_type": "markdown",
   "metadata": {},
   "source": [
    "# Part 1: Inspect\n",
    "\n",
    "- How do the URLs change when you navigate to the next results page?\n",
    "- How do the URLs change when you use a different location and or job title search?\n",
    "- Which HTML elements contain the link, title and location of each job?"
   ]
  },
  {
   "cell_type": "markdown",
   "metadata": {},
   "source": [
    "# Part 2: Scrape and Parse one Page\n",
    "\n",
    "\n",
    "## Scrape the Page\n",
    "\n",
    "Let's start by scraping the first page of the results returned by entering keyword \"python\" and loction \"new york\" for search. "
   ]
  },
  {
   "cell_type": "code",
   "execution_count": 2,
   "metadata": {},
   "outputs": [
    {
     "data": {
      "text/plain": [
       "15"
      ]
     },
     "execution_count": 2,
     "metadata": {},
     "output_type": "execute_result"
    }
   ],
   "source": [
    "# url of the result page\n",
    "url = 'https://www.indeed.com/jobs?q=python&l=new+york'\n",
    "\n",
    "# scrape and parse the page \n",
    "# to return a list of job results\n",
    "def scrapeResultPage(url):\n",
    "    # scrape the html\n",
    "    try:\n",
    "        res = requests.get(url)\n",
    "        res.raise_for_status()\n",
    "    except Exception as err:\n",
    "        print(err)\n",
    "\n",
    "    # Make a soup\n",
    "    soup = BeautifulSoup(res.content)\n",
    "\n",
    "    # Parse result column\n",
    "    result = soup.find(id='resultsCol')\n",
    "    jobs = result.find_all('a', class_='result')    \n",
    "    return jobs\n",
    "\n",
    "jobs = scrapeResultPage(url)\n",
    "len(jobs) #number of jobs displayed on this page"
   ]
  },
  {
   "cell_type": "code",
   "execution_count": 3,
   "metadata": {},
   "outputs": [
    {
     "name": "stdout",
     "output_type": "stream",
     "text": [
      "<a class=\"tapItem fs-unmask result job_2b6bb659e8d137a5 resultWithShelf sponTapItem desktop\" data-hide-spinner=\"true\" data-hiring-event=\"false\" data-jk=\"2b6bb659e8d137a5\" data-mobtk=\"1fqu3c3ljo15k800\" href=\"/rc/clk?jk=2b6bb659e8d137a5&amp;fccid=1684d3322a4331bc&amp;vjs=3\" id=\"job_2b6bb659e8d137a5\" rel=\"nofollow\" target=\"_blank\">\n",
      " <div class=\"slider_container\">\n",
      "  <div class=\"slider_list\">\n",
      "   <div class=\"slider_item\">\n",
      "    <div class=\"job_seen_beacon\">\n",
      "     <table cellpadding=\"0\" cellspacing=\"0\" class=\"jobCard_mainContent big6_visualChanges\" role=\"presentation\">\n",
      "      <tbody>\n",
      "       <tr>\n",
      "        <td class=\"resultContent\">\n",
      "         <div class=\"heading4 color-text-primary singleLineTitle tapItem-gutter\">\n",
      "          <h2 class=\"jobTitle jobTitle-color-purple jobTitle-newJob\">\n",
      "           <div class=\"new topLeft holisticNewBlue desktop\">\n",
      "            <span class=\"label\">\n",
      "             new\n",
      "            </span>\n",
      "           </div>\n",
      "           <span title=\"Python Engineer\">\n",
      "            Python Engineer\n",
      "           </span>\n",
      "          </h2>\n",
      "         </div>\n",
      "         <div class=\"heading6 company_location tapItem-gutter companyInfo\">\n",
      "          <span class=\"companyName\">\n",
      "           <a class=\"turnstileLink companyOverviewLink\" data-tn-element=\"companyName\" href=\"/cmp/Trailstone-Group\" rel=\"noopener\" target=\"_blank\">\n",
      "            TrailStone Group\n",
      "           </a>\n",
      "          </span>\n",
      "          <span class=\"ratingsDisplay withRatingLink\">\n",
      "           <a aria-label=\"Company rating 3.6 out of 5 stars\" class=\"ratingLink\" data-tn-variant=\"cmplinktst2\" href=\"/cmp/Trailstone-Group/reviews\" rel=\"noopener\" target=\"_blank\" title=\"TrailStone Group reviews\">\n",
      "            <span aria-label=\"3.6 of stars rating\" class=\"ratingNumber\" role=\"img\">\n",
      "             <span aria-hidden=\"true\">\n",
      "              3.6\n",
      "             </span>\n",
      "             <svg aria-hidden=\"true\" class=\"starIcon\" fill=\"none\" height=\"12\" role=\"presentation\" viewbox=\"0 0 16 16\" width=\"12\" xmlns=\"http://www.w3.org/2000/svg\">\n",
      "              <path d=\"M8 12.8709L12.4542 15.5593C12.7807 15.7563 13.1835 15.4636 13.0968 15.0922L11.9148 10.0254L15.8505 6.61581C16.1388 6.36608 15.9847 5.89257 15.6047 5.86033L10.423 5.42072L8.39696 0.640342C8.24839 0.289808 7.7516 0.289808 7.60303 0.640341L5.57696 5.42072L0.395297 5.86033C0.015274 5.89257 -0.13882 6.36608 0.149443 6.61581L4.0852 10.0254L2.90318 15.0922C2.81653 15.4636 3.21932 15.7563 3.54584 15.5593L8 12.8709Z\" fill=\"#767676\">\n",
      "              </path>\n",
      "             </svg>\n",
      "            </span>\n",
      "           </a>\n",
      "          </span>\n",
      "          <div class=\"companyLocation\">\n",
      "           New York, NY\n",
      "          </div>\n",
      "         </div>\n",
      "         <div class=\"heading6 tapItem-gutter metadataContainer noJEMChips salaryOnly\">\n",
      "          <div class=\"metadata estimated-salary-container\">\n",
      "           <span class=\"estimated-salary\">\n",
      "            <svg aria-hidden=\"true\" aria-label=\"Estimated $124K to $157K a year\" fill=\"none\" role=\"presentation\" viewbox=\"0 0 16 13\" xmlns=\"http://www.w3.org/2000/svg\">\n",
      "             <defs>\n",
      "             </defs>\n",
      "             <path clip-rule=\"evenodd\" d=\"M2.45168 6.10292c-.30177-.125-.62509-.18964-.95168-.1903V4.08678c.32693-.00053.6506-.06518.95267-.1903.30331-.12564.57891-.30979.81105-.54193.23215-.23215.4163-.50775.54194-.81106.12524-.30237.18989-.62638.19029-.95365H9.0902c0 .3283.06466.65339.1903.9567.12564.30331.30978.57891.54193.81106.23217.23215.50777.41629.81107.54193.3032.12558.6281.19024.9562.1903v1.83556c-.3242.00155-.6451.06616-.9448.19028-.3033.12563-.5789.30978-.81102.54193-.23215.23214-.4163.50774-.54193.81106-.12332.2977-.18789.61638-.19024.93849H3.99496c-.00071-.32645-.06535-.64961-.19029-.95124-.12564-.30332-.30979-.57891-.54193-.81106-.23215-.23215-.50775-.4163-.81106-.54193zM0 .589843C0 .313701.223858.0898438.5.0898438h12.0897c.2762 0 .5.2238572.5.5000002V9.40715c0 .27614-.2238.5-.5.5H.5c-.276143 0-.5-.22386-.5-.5V.589843zM6.54427 6.99849c1.10457 0 2-.89543 2-2s-.89543-2-2-2-2 .89543-2 2 .89543 2 2 2zm8.05523-2.69917v7.10958H2.75977c-.27615 0-.5.2238-.5.5v.5c0 .2761.22385.5.5.5H15.422c.4419 0 .6775-.2211.6775-.6629V4.29932c0-.27615-.2239-.5-.5-.5h-.5c-.2761 0-.5.22385-.5.5z\" fill=\"#595959\" fill-rule=\"evenodd\">\n",
      "             </path>\n",
      "            </svg>\n",
      "            <span>\n",
      "             Estimated $124K – $157K a year\n",
      "            </span>\n",
      "            <button aria-haspopup=\"true\" aria-label=\"About Indeed's estimated salaries\" class=\"estimated-salary-legal-disclaimer-button\" type=\"button\">\n",
      "             <img alt=\"\" aria-hidden=\"true\" class=\"estimated-salary-legal-disclaimer-icon\" src=\"https://c03.s3.indeed.com/mosaic-provider-jobcards/dist/images/src/components/JobMetaData/EstimatedSalary/QuestionCircle-7293f3.svg\"/>\n",
      "            </button>\n",
      "           </span>\n",
      "          </div>\n",
      "         </div>\n",
      "         <div class=\"heading6 error-text tapItem-gutter\">\n",
      "         </div>\n",
      "        </td>\n",
      "       </tr>\n",
      "      </tbody>\n",
      "     </table>\n",
      "     <table class=\"jobCardShelfContainer big6_visualChanges\" role=\"presentation\">\n",
      "      <tbody>\n",
      "       <tr class=\"jobCardShelf\">\n",
      "        <td class=\"shelfItem indeedApply\">\n",
      "         <span class=\"iaIcon\">\n",
      "         </span>\n",
      "         <span class=\"ialbl iaTextBlack\">\n",
      "          Easily apply\n",
      "         </span>\n",
      "        </td>\n",
      "       </tr>\n",
      "       <tr class=\"underShelfFooter\">\n",
      "        <td>\n",
      "         <div class=\"heading6 tapItem-gutter result-footer\">\n",
      "          <div class=\"job-snippet\">\n",
      "           <ul style=\"list-style-type:circle;margin-top: 0px;margin-bottom: 0px;padding-left:20px;\">\n",
      "            <li>\n",
      "             Design, develop and maintain microservices, ETL jobs and system components for our Python-based data integration, processing and analytics platform.\n",
      "            </li>\n",
      "           </ul>\n",
      "          </div>\n",
      "          <span class=\"date\">\n",
      "           <span class=\"visually-hidden\">\n",
      "            Posted\n",
      "           </span>\n",
      "           1 day ago\n",
      "          </span>\n",
      "          <span class=\"result-link-bar-separator\">\n",
      "           ·\n",
      "          </span>\n",
      "          <button aria-expanded=\"false\" class=\"sl resultLink more_links_button\" type=\"button\">\n",
      "           More...\n",
      "          </button>\n",
      "         </div>\n",
      "         <div class=\"tab-container\">\n",
      "          <div class=\"more-links-container result-tab\" role=\"presentation\">\n",
      "           <div class=\"more_links\">\n",
      "            <button aria-label=\"Close\" class=\"close-button\" title=\"Close\" type=\"button\">\n",
      "            </button>\n",
      "            <ul>\n",
      "             <li>\n",
      "              <span class=\"mat\">\n",
      "               View all\n",
      "               <a href=\"/q-Trailstone-Group-l-New-York,-NY-jobs.html\">\n",
      "                TrailStone Group jobs in New York, NY\n",
      "               </a>\n",
      "               -\n",
      "               <a href=\"/l-New-York,-NY-jobs.html\">\n",
      "                New York jobs\n",
      "               </a>\n",
      "              </span>\n",
      "             </li>\n",
      "             <li>\n",
      "              <span class=\"mat\">\n",
      "               Salary Search:\n",
      "               <a href=\"/career/python-developer/salaries/New-York--NY?campaignid=serp-more&amp;fromjk=2b6bb659e8d137a5&amp;from=serp-more\">\n",
      "                Python Engineer salaries in New York, NY\n",
      "               </a>\n",
      "              </span>\n",
      "             </li>\n",
      "            </ul>\n",
      "           </div>\n",
      "          </div>\n",
      "         </div>\n",
      "        </td>\n",
      "       </tr>\n",
      "      </tbody>\n",
      "     </table>\n",
      "     <div aria-live=\"polite\">\n",
      "     </div>\n",
      "    </div>\n",
      "   </div>\n",
      "   <div class=\"slider_sub_item\">\n",
      "   </div>\n",
      "  </div>\n",
      " </div>\n",
      " <div class=\"kebabMenu\">\n",
      "  <button aria-expanded=\"false\" aria-haspopup=\"true\" aria-label=\"Job Actions\" class=\"kebabMenu-button\">\n",
      "   <svg aria-hidden=\"true\" fill=\"none\" height=\"24\" role=\"presentation\" viewbox=\"0 0 24 24\" width=\"24\" xmlns=\"http://www.w3.org/2000/svg\">\n",
      "    <path d=\"M12 7C13.1 7 14 6.1 14 5C14 3.9 13.1 3 12 3C10.9 3 10 3.9 10 5C10 6.1 10.9 7 12 7ZM12 10C10.9 10 10 10.9 10 12C10 13.1 10.9 14 12 14C13.1 14 14 13.1 14 12C14 10.9 13.1 10 12 10ZM12 17C10.9 17 10 17.9 10 19C10 20.1 10.9 21 12 21C13.1 21 14 20.1 14 19C14 17.9 13.1 17 12 17Z\" fill=\"#2d2d2d\">\n",
      "    </path>\n",
      "   </svg>\n",
      "  </button>\n",
      " </div>\n",
      "</a>\n",
      "\n"
     ]
    }
   ],
   "source": [
    "# Examine one of the result\n",
    "print(jobs[0].prettify())"
   ]
  },
  {
   "cell_type": "markdown",
   "metadata": {},
   "source": [
    "## Parse the Data\n",
    "\n",
    "### Job title"
   ]
  },
  {
   "cell_type": "code",
   "execution_count": 4,
   "metadata": {
    "scrolled": false
   },
   "outputs": [
    {
     "name": "stdout",
     "output_type": "stream",
     "text": [
      "<h2 class=\"jobTitle jobTitle-color-purple jobTitle-newJob\">\n",
      " <div class=\"new topLeft holisticNewBlue desktop\">\n",
      "  <span class=\"label\">\n",
      "   new\n",
      "  </span>\n",
      " </div>\n",
      " <span title=\"Python Engineer\">\n",
      "  Python Engineer\n",
      " </span>\n",
      "</h2>\n",
      "<h2 class=\"jobTitle jobTitle-color-purple jobTitle-newJob\">\n",
      " <div class=\"new topLeft holisticNewBlue desktop\">\n",
      "  <span class=\"label\">\n",
      "   new\n",
      "  </span>\n",
      " </div>\n",
      " <span title=\"GUCCI Advanced Analytics Specialist - Supply Chain\">\n",
      "  GUCCI Advanced Analytics Specialist - Supply Chain\n",
      " </span>\n",
      "</h2>\n",
      "<h2 class=\"jobTitle jobTitle-color-purple\">\n",
      " <span title=\"Evolve Rotational Program - Software Engineer\">\n",
      "  Evolve Rotational Program - Software Engineer\n",
      " </span>\n",
      "</h2>\n",
      "<h2 class=\"jobTitle jobTitle-color-purple\">\n",
      " <span title=\"Python Developer\">\n",
      "  Python Developer\n",
      " </span>\n",
      "</h2>\n",
      "<h2 class=\"jobTitle jobTitle-color-purple\">\n",
      " <span title=\"Python Developer\">\n",
      "  Python Developer\n",
      " </span>\n",
      "</h2>\n"
     ]
    }
   ],
   "source": [
    "# Examine the jobTitle element inside job, which is a 'h2' tag\n",
    "for job in jobs[:5]:\n",
    "    print(job.find('h2').prettify())"
   ]
  },
  {
   "cell_type": "markdown",
   "metadata": {},
   "source": [
    "Note that, from the above results, there could be \"label\" inside the title, which we don't need."
   ]
  },
  {
   "cell_type": "code",
   "execution_count": 5,
   "metadata": {},
   "outputs": [
    {
     "name": "stdout",
     "output_type": "stream",
     "text": [
      "Python Engineer\n",
      "GUCCI Advanced Analytics Specialist - Supply Chain\n",
      "Evolve Rotational Program - Software Engineer\n",
      "Python Developer\n",
      "Python Developer\n"
     ]
    }
   ],
   "source": [
    "# We can list all children inside jobTitle, and \n",
    "# extract only the last child - the title\n",
    "for job in jobs[:5]:\n",
    "    print([child.text for child in job.find('h2').children][-1])"
   ]
  },
  {
   "cell_type": "code",
   "execution_count": 6,
   "metadata": {
    "scrolled": true
   },
   "outputs": [
    {
     "data": {
      "text/plain": [
       "['Python Engineer',\n",
       " 'GUCCI Advanced Analytics Specialist - Supply Chain',\n",
       " 'Evolve Rotational Program - Software Engineer',\n",
       " 'Python Developer',\n",
       " 'Python Developer',\n",
       " 'Junior Python Developer',\n",
       " 'Employee Relations Analyst',\n",
       " 'Data Scientist, TikTok Creation and Consumption',\n",
       " 'Python Developer',\n",
       " 'Python Developer',\n",
       " 'Python Developer',\n",
       " 'Mechatronics Engineer',\n",
       " 'Software Engineer',\n",
       " 'Python Developer',\n",
       " 'Vice President of Data Analytics-IT535001']"
      ]
     },
     "execution_count": 6,
     "metadata": {},
     "output_type": "execute_result"
    }
   ],
   "source": [
    "# Now, define a function to extract all job titles on the page\n",
    "def extractTitles(jobs):\n",
    "    titles = [job.find('h2', class_='jobTitle') for job in jobs]\n",
    "    return [[child.text for child in title.children][-1] for title in titles]\n",
    "\n",
    "extractTitles(jobs)"
   ]
  },
  {
   "cell_type": "markdown",
   "metadata": {},
   "source": [
    "### Job URLs"
   ]
  },
  {
   "cell_type": "code",
   "execution_count": 7,
   "metadata": {},
   "outputs": [
    {
     "name": "stdout",
     "output_type": "stream",
     "text": [
      "/rc/clk?jk=2b6bb659e8d137a5&fccid=1684d3322a4331bc&vjs=3\n",
      "\n",
      "\n",
      "/pagead/clk?mo=r&ad=-6NYlbfkN0DZr6HLVGkfhjMBGCl7Y_G72AbDddeUEn-9Fjk_W4Gp8IMJNxrhtuY6JmUBEXNxvWXxLg_CaT28dxLk1n5YNbLFTTJWZ5m69LhjsFTo-ksV5j67ZLx4trIMpmgdb4K5DN2cysJMNNAylFle9yDPqIX76iEfwnb0egTzvqoDRuIGM0_H5eA_O9dWa3Z7df5ynTpk8U5yYtFZMyyhcMUDxWmkCFPZlH3EAhGP5JL6IN-rkoXcIWXZihvWxktX7YctpAtELG7euSwwwT--O9wgKbkg9hZnK52DQZV3fOABJV_JakUFrJSkA-owZ5ps00OPVsH6vlMLxTO67Wk-4Xjqt1cbIiYD1P00tjNGOUvl0iD2ziOjjDV0wdig5N7HamUAGvjR-wVX1GwhXL3LAnoO1wCGxR_mWVbbojYVjYiQtY9e2UsvycysEo8VPmrptZKA-neYSKR3aPWQux75RPL6p94NiI-QWgIoCwo7wY5eRCSNgYofR4lV8_fkCdMvN8QZMjIEnAGSOUWaq2YrpuUKa4os0Sdg7Trz2BPQiiuIZuBpB4DXYll3ybAe&p=1&fvj=0&vjs=3\n",
      "\n",
      "\n",
      "/pagead/clk?mo=r&ad=-6NYlbfkN0BvKrLyj5gPmtZO9T8euul8TCxuuKNOtzRJOomxnwSEodTz2Bc-sPZlFpP0h5lDivomgISaMt6THYJ46OYNy2u_IFPcc0ISRjUkhI5ghGmh1FdwbM0iZBfWCroRXUdmrPHErAfZvKEK0fzcR-4eWdCNEGzTNLIBpAGLkQzpaJgYZPRSKyBgRuxTh58-VJSiig4YquK9YrsVcDEH5mnkx0OsttNnlqflfvE_6UkCOOsFQLuzgtFstY8nFot_lzmkOrI_SRrfeyCRxZ17NThIpcY1PwjVqBCfbAZ7dD7mPmCCRVkzN99lchCFan0qJo9cCOlTtIw8x6VG3ZJX1wp_HHh3E3daXe8cGsHxtLTSSva25QWIdcg6VSpeg1CvskJ1yQ_uNPHskiC87GJfUNZJe6Ilvdacx4d8Y_xL8kcBVB5y1Lk40wsGK6X65xeSn1ULsl1AFnmb6NQNUYEhOOsZfFqFx1kgKx-YrsLUi6yRTFbwo_P9d6l_dV8TcIqTkzcMsaD7c0Gux9CEAmsDKqp6PzYdqNhNGIjuD7YSBWbGIKKbpIpBiYQsOiFE0ckKirg9D4upXPe-kadvLW9pcWkoFnsubg5ROQNNV-Y0u_g7ujbzx9irRLTlR1s9aeGOgcJGOfBUVdccKuc6w-0aMGZ0VI_2knGz4RJAXmrv_80Ehnx9aF5V_6Og63BNB36gPV7JOIAti4YbskwMigcLk8LXq8TUIcYlWNZVKeQXjcdh0zg01rSDBRFGn4NtD1vfnVCd8ri-lT3Kz_CkdhuyIb_rOUnV8AOC608FZmhb63KCwqvHmnm4BKVq9t0BSL7o7TqYT3WX7HzH5li8GhRg5M29ZNx-UawhyOMjOwL8yv0SZMYVfQJE3FwRcZfbe1U4iMjkIYg6JKKQ5EiysoXCv4FEvzu7oFFmfr9LP9uAdi7TqrFF8ZrcaU5oARXmifw8ruZDzBcJDa7oehC6wg==&p=2&fvj=0&vjs=3\n",
      "\n",
      "\n",
      "/company/Adven-It-Technologies/jobs/Python-Developer-d605b68ac7e6d40b?fccid=304bd4001a262e48&vjs=3\n",
      "\n",
      "\n",
      "/rc/clk?jk=d1d9864a3915b653&fccid=105ecfd0283f415f&vjs=3\n",
      "\n",
      "\n"
     ]
    }
   ],
   "source": [
    "# Let's examine the `href` attribute in the job result\n",
    "# which shall be the link to the details of the job\n",
    "for job in jobs[:5]:\n",
    "    print(job['href'])\n",
    "    print('\\n')"
   ]
  },
  {
   "cell_type": "markdown",
   "metadata": {},
   "source": [
    "The extracted links above are in different patterns for different job results, and they don't work with clicking directly. Instead, after observing the urls of different job pages, it's found that all job detail pages can follow the same pattern as below:  \n",
    "\n",
    "    \"https://www.indeed.com/viewjob?jk=\"+ \"job id\" \n",
    "\n",
    "- the \"job id\" can be found in one of the classes of the job result, which looks like this: `job_941fca298fa33332`"
   ]
  },
  {
   "cell_type": "code",
   "execution_count": 8,
   "metadata": {},
   "outputs": [
    {
     "name": "stdout",
     "output_type": "stream",
     "text": [
      "https://www.indeed.com/viewjob?jk=2b6bb659e8d137a5\n",
      "https://www.indeed.com/viewjob?jk=89bee222d7262b40\n",
      "https://www.indeed.com/viewjob?jk=31c79b82e44fb0dc\n",
      "https://www.indeed.com/viewjob?jk=d605b68ac7e6d40b\n",
      "https://www.indeed.com/viewjob?jk=d1d9864a3915b653\n",
      "https://www.indeed.com/viewjob?jk=71acc67a281f6038\n",
      "https://www.indeed.com/viewjob?jk=242500ede18e7c9a\n",
      "https://www.indeed.com/viewjob?jk=65b4fe45973ad5d6\n",
      "https://www.indeed.com/viewjob?jk=36ee007222043432\n",
      "https://www.indeed.com/viewjob?jk=c018bff370890e44\n",
      "https://www.indeed.com/viewjob?jk=12cb14f1afecd0d1\n",
      "https://www.indeed.com/viewjob?jk=964539f3b3e1247a\n",
      "https://www.indeed.com/viewjob?jk=4c9d5b27c034ee44\n",
      "https://www.indeed.com/viewjob?jk=b462e36768457437\n",
      "https://www.indeed.com/viewjob?jk=bfbdae6ad4809897\n"
     ]
    }
   ],
   "source": [
    "def extractlink(job):\n",
    "    import re\n",
    "    r = re.compile('job_.*')\n",
    "    job_id = (list(filter(r.match, job['class'])))[0]\n",
    "    return 'https://www.indeed.com/viewjob?jk='+job_id.replace('job_','')\n",
    "\n",
    "for job in jobs:\n",
    "    print(extractlink(job))"
   ]
  },
  {
   "cell_type": "markdown",
   "metadata": {},
   "source": [
    "### Company Name"
   ]
  },
  {
   "cell_type": "code",
   "execution_count": 9,
   "metadata": {},
   "outputs": [
    {
     "data": {
      "text/plain": [
       "'TrailStone Group'"
      ]
     },
     "execution_count": 9,
     "metadata": {},
     "output_type": "execute_result"
    }
   ],
   "source": [
    "jobs[0].find('span', class_='companyName').text"
   ]
  },
  {
   "cell_type": "code",
   "execution_count": 10,
   "metadata": {},
   "outputs": [
    {
     "data": {
      "text/plain": [
       "['TrailStone Group',\n",
       " 'Gucci America Inc',\n",
       " 'Apple',\n",
       " 'Advithri Technologies',\n",
       " 'Capgemini',\n",
       " 'GTS',\n",
       " 'Google',\n",
       " 'TikTok',\n",
       " 'WorkCog',\n",
       " 'iConnect',\n",
       " 'CRISIL LIMITED',\n",
       " 'The Rockefeller University',\n",
       " 'ACLU',\n",
       " 'Emonics LLC',\n",
       " 'ICL']"
      ]
     },
     "execution_count": 10,
     "metadata": {},
     "output_type": "execute_result"
    }
   ],
   "source": [
    "def extractCompanies(jobs):    \n",
    "    return [job.find('span', class_='companyName').text for job in jobs]\n",
    "\n",
    "extractCompanies(jobs)"
   ]
  },
  {
   "cell_type": "markdown",
   "metadata": {},
   "source": [
    "### Location"
   ]
  },
  {
   "cell_type": "code",
   "execution_count": 11,
   "metadata": {},
   "outputs": [
    {
     "name": "stdout",
     "output_type": "stream",
     "text": [
      "<div class=\"companyLocation\">\n",
      " New York, NY\n",
      "</div>\n"
     ]
    }
   ],
   "source": [
    "location = jobs[0].find('div', class_='companyLocation')\n",
    "\n",
    "# Examine location html\n",
    "print(location.prettify())"
   ]
  },
  {
   "cell_type": "code",
   "execution_count": 12,
   "metadata": {},
   "outputs": [
    {
     "data": {
      "text/plain": [
       "['New York, NY']"
      ]
     },
     "execution_count": 12,
     "metadata": {},
     "output_type": "execute_result"
    }
   ],
   "source": [
    "# This div contains not only the text of the company location,\n",
    "# but also a `span` of other content;\n",
    "# We can list all contents of the div\n",
    "location.contents"
   ]
  },
  {
   "cell_type": "code",
   "execution_count": 13,
   "metadata": {
    "scrolled": false
   },
   "outputs": [
    {
     "data": {
      "text/plain": [
       "'New York, NY'"
      ]
     },
     "execution_count": 13,
     "metadata": {},
     "output_type": "execute_result"
    }
   ],
   "source": [
    "# and then extract the text we want\n",
    "location.contents[0]"
   ]
  },
  {
   "cell_type": "code",
   "execution_count": 14,
   "metadata": {},
   "outputs": [
    {
     "data": {
      "text/plain": [
       "['New York, NY',\n",
       " 'New York, NY',\n",
       " 'New York, NY',\n",
       " 'Temporarily Remote in New York, NY',\n",
       " 'New York, NY',\n",
       " 'New York, NY',\n",
       " 'Hybrid remote in New York, NY',\n",
       " 'New York, NY',\n",
       " 'Remote in New York, NY',\n",
       " 'New York, NY',\n",
       " 'Temporarily Remote in New York, NY',\n",
       " 'New York, NY',\n",
       " 'Remote in New York, NY',\n",
       " 'New York, NY',\n",
       " 'New York, NY']"
      ]
     },
     "execution_count": 14,
     "metadata": {},
     "output_type": "execute_result"
    }
   ],
   "source": [
    "def extractLocations(jobs):\n",
    "    locations = [job.find('div', class_='companyLocation') for job in jobs]\n",
    "    return [location.contents[0] for location in locations]\n",
    "            \n",
    "extractLocations(jobs)"
   ]
  },
  {
   "cell_type": "markdown",
   "metadata": {},
   "source": [
    "### Salary"
   ]
  },
  {
   "cell_type": "code",
   "execution_count": 15,
   "metadata": {},
   "outputs": [
    {
     "name": "stdout",
     "output_type": "stream",
     "text": [
      "[<div class=\"metadata salary-snippet-container\"><div class=\"attribute_snippet\"><svg aria-hidden=\"true\" aria-label=\"Salary\" fill=\"none\" role=\"presentation\" viewbox=\"0 0 16 13\" xmlns=\"http://www.w3.org/2000/svg\"><defs></defs><path clip-rule=\"evenodd\" d=\"M2.45168 6.10292c-.30177-.125-.62509-.18964-.95168-.1903V4.08678c.32693-.00053.6506-.06518.95267-.1903.30331-.12564.57891-.30979.81105-.54193.23215-.23215.4163-.50775.54194-.81106.12524-.30237.18989-.62638.19029-.95365H9.0902c0 .3283.06466.65339.1903.9567.12564.30331.30978.57891.54193.81106.23217.23215.50777.41629.81107.54193.3032.12558.6281.19024.9562.1903v1.83556c-.3242.00155-.6451.06616-.9448.19028-.3033.12563-.5789.30978-.81102.54193-.23215.23214-.4163.50774-.54193.81106-.12332.2977-.18789.61638-.19024.93849H3.99496c-.00071-.32645-.06535-.64961-.19029-.95124-.12564-.30332-.30979-.57891-.54193-.81106-.23215-.23215-.50775-.4163-.81106-.54193zM0 .589843C0 .313701.223858.0898438.5.0898438h12.0897c.2762 0 .5.2238572.5.5000002V9.40715c0 .27614-.2238.5-.5.5H.5c-.276143 0-.5-.22386-.5-.5V.589843zM6.54427 6.99849c1.10457 0 2-.89543 2-2s-.89543-2-2-2-2 .89543-2 2 .89543 2 2 2zm8.05523-2.69917v7.10958H2.75977c-.27615 0-.5.2238-.5.5v.5c0 .2761.22385.5.5.5H15.422c.4419 0 .6775-.2211.6775-.6629V4.29932c0-.27615-.2239-.5-.5-.5h-.5c-.2761 0-.5.22385-.5.5z\" fill=\"#595959\" fill-rule=\"evenodd\"></path></svg>$122,000 a year</div></div>]\n",
      "[]\n",
      "[<div class=\"metadata salary-snippet-container\"><div class=\"attribute_snippet\"><svg aria-hidden=\"true\" aria-label=\"Salary\" fill=\"none\" role=\"presentation\" viewbox=\"0 0 16 13\" xmlns=\"http://www.w3.org/2000/svg\"><defs></defs><path clip-rule=\"evenodd\" d=\"M2.45168 6.10292c-.30177-.125-.62509-.18964-.95168-.1903V4.08678c.32693-.00053.6506-.06518.95267-.1903.30331-.12564.57891-.30979.81105-.54193.23215-.23215.4163-.50775.54194-.81106.12524-.30237.18989-.62638.19029-.95365H9.0902c0 .3283.06466.65339.1903.9567.12564.30331.30978.57891.54193.81106.23217.23215.50777.41629.81107.54193.3032.12558.6281.19024.9562.1903v1.83556c-.3242.00155-.6451.06616-.9448.19028-.3033.12563-.5789.30978-.81102.54193-.23215.23214-.4163.50774-.54193.81106-.12332.2977-.18789.61638-.19024.93849H3.99496c-.00071-.32645-.06535-.64961-.19029-.95124-.12564-.30332-.30979-.57891-.54193-.81106-.23215-.23215-.50775-.4163-.81106-.54193zM0 .589843C0 .313701.223858.0898438.5.0898438h12.0897c.2762 0 .5.2238572.5.5000002V9.40715c0 .27614-.2238.5-.5.5H.5c-.276143 0-.5-.22386-.5-.5V.589843zM6.54427 6.99849c1.10457 0 2-.89543 2-2s-.89543-2-2-2-2 .89543-2 2 .89543 2 2 2zm8.05523-2.69917v7.10958H2.75977c-.27615 0-.5.2238-.5.5v.5c0 .2761.22385.5.5.5H15.422c.4419 0 .6775-.2211.6775-.6629V4.29932c0-.27615-.2239-.5-.5-.5h-.5c-.2761 0-.5.22385-.5.5z\" fill=\"#595959\" fill-rule=\"evenodd\"></path></svg>$40 - $60 an hour</div></div>]\n",
      "[<div class=\"metadata salary-snippet-container\"><div class=\"attribute_snippet\"><svg aria-hidden=\"true\" aria-label=\"Salary\" fill=\"none\" role=\"presentation\" viewbox=\"0 0 16 13\" xmlns=\"http://www.w3.org/2000/svg\"><defs></defs><path clip-rule=\"evenodd\" d=\"M2.45168 6.10292c-.30177-.125-.62509-.18964-.95168-.1903V4.08678c.32693-.00053.6506-.06518.95267-.1903.30331-.12564.57891-.30979.81105-.54193.23215-.23215.4163-.50775.54194-.81106.12524-.30237.18989-.62638.19029-.95365H9.0902c0 .3283.06466.65339.1903.9567.12564.30331.30978.57891.54193.81106.23217.23215.50777.41629.81107.54193.3032.12558.6281.19024.9562.1903v1.83556c-.3242.00155-.6451.06616-.9448.19028-.3033.12563-.5789.30978-.81102.54193-.23215.23214-.4163.50774-.54193.81106-.12332.2977-.18789.61638-.19024.93849H3.99496c-.00071-.32645-.06535-.64961-.19029-.95124-.12564-.30332-.30979-.57891-.54193-.81106-.23215-.23215-.50775-.4163-.81106-.54193zM0 .589843C0 .313701.223858.0898438.5.0898438h12.0897c.2762 0 .5.2238572.5.5000002V9.40715c0 .27614-.2238.5-.5.5H.5c-.276143 0-.5-.22386-.5-.5V.589843zM6.54427 6.99849c1.10457 0 2-.89543 2-2s-.89543-2-2-2-2 .89543-2 2 .89543 2 2 2zm8.05523-2.69917v7.10958H2.75977c-.27615 0-.5.2238-.5.5v.5c0 .2761.22385.5.5.5H15.422c.4419 0 .6775-.2211.6775-.6629V4.29932c0-.27615-.2239-.5-.5-.5h-.5c-.2761 0-.5.22385-.5.5z\" fill=\"#595959\" fill-rule=\"evenodd\"></path></svg>$82,770 - $150,000 a year</div></div>]\n"
     ]
    }
   ],
   "source": [
    "# Let's see if any jobs provide salary information\n",
    "for job in jobs[6:10]:\n",
    "    print(job.select('div[class*=\"salary-\"]'))"
   ]
  },
  {
   "cell_type": "code",
   "execution_count": 16,
   "metadata": {},
   "outputs": [
    {
     "data": {
      "text/plain": [
       "'$122,000 a year'"
      ]
     },
     "execution_count": 16,
     "metadata": {},
     "output_type": "execute_result"
    }
   ],
   "source": [
    "jobs[6].select('div[class*=\"salary-\"]')[0].text"
   ]
  },
  {
   "cell_type": "code",
   "execution_count": 17,
   "metadata": {},
   "outputs": [
    {
     "data": {
      "text/plain": [
       "['Estimated $124K – $157K a year',\n",
       " 'Estimated $42.1K – $53.3K a year',\n",
       " 'n/a',\n",
       " '$49 - $80 an hour',\n",
       " 'Estimated $98.8K – $125K a year',\n",
       " 'Estimated $97.8K – $124K a year',\n",
       " '$122,000 a year',\n",
       " 'n/a',\n",
       " '$40 - $60 an hour',\n",
       " '$82,770 - $150,000 a year',\n",
       " '$60,000 - $110,000 a year',\n",
       " 'Estimated $95.5K – $121K a year',\n",
       " '$115,638 a year',\n",
       " '$60,000 - $110,000 a year',\n",
       " 'n/a']"
      ]
     },
     "execution_count": 17,
     "metadata": {},
     "output_type": "execute_result"
    }
   ],
   "source": [
    "def extractSalaries(jobs):\n",
    "    selector = 'div[class*=\"salary-\"]'\n",
    "    return [job.select(selector)[0].text if len(job.select(selector))!=0 \n",
    "            else 'n/a' for job in jobs]\n",
    "     \n",
    "extractSalaries(jobs)"
   ]
  },
  {
   "cell_type": "markdown",
   "metadata": {},
   "source": [
    "### Extract Results on the Page"
   ]
  },
  {
   "cell_type": "code",
   "execution_count": 18,
   "metadata": {},
   "outputs": [
    {
     "data": {
      "text/html": [
       "<div>\n",
       "<style scoped>\n",
       "    .dataframe tbody tr th:only-of-type {\n",
       "        vertical-align: middle;\n",
       "    }\n",
       "\n",
       "    .dataframe tbody tr th {\n",
       "        vertical-align: top;\n",
       "    }\n",
       "\n",
       "    .dataframe thead th {\n",
       "        text-align: right;\n",
       "    }\n",
       "</style>\n",
       "<table border=\"1\" class=\"dataframe\">\n",
       "  <thead>\n",
       "    <tr style=\"text-align: right;\">\n",
       "      <th></th>\n",
       "      <th>jobTitle</th>\n",
       "      <th>company</th>\n",
       "      <th>location</th>\n",
       "      <th>salary</th>\n",
       "      <th>url</th>\n",
       "    </tr>\n",
       "  </thead>\n",
       "  <tbody>\n",
       "    <tr>\n",
       "      <th>0</th>\n",
       "      <td>Python Engineer</td>\n",
       "      <td>TrailStone Group</td>\n",
       "      <td>New York, NY</td>\n",
       "      <td>Estimated $124K – $157K a year</td>\n",
       "      <td>https://www.indeed.com/viewjob?jk=2b6bb659e8d1...</td>\n",
       "    </tr>\n",
       "    <tr>\n",
       "      <th>1</th>\n",
       "      <td>GUCCI Advanced Analytics Specialist - Supply C...</td>\n",
       "      <td>Gucci America Inc</td>\n",
       "      <td>New York, NY</td>\n",
       "      <td>Estimated $42.1K – $53.3K a year</td>\n",
       "      <td>https://www.indeed.com/viewjob?jk=89bee222d726...</td>\n",
       "    </tr>\n",
       "    <tr>\n",
       "      <th>2</th>\n",
       "      <td>Evolve Rotational Program - Software Engineer</td>\n",
       "      <td>Apple</td>\n",
       "      <td>New York, NY</td>\n",
       "      <td>n/a</td>\n",
       "      <td>https://www.indeed.com/viewjob?jk=31c79b82e44f...</td>\n",
       "    </tr>\n",
       "    <tr>\n",
       "      <th>3</th>\n",
       "      <td>Python Developer</td>\n",
       "      <td>Advithri Technologies</td>\n",
       "      <td>Temporarily Remote in New York, NY</td>\n",
       "      <td>$49 - $80 an hour</td>\n",
       "      <td>https://www.indeed.com/viewjob?jk=d605b68ac7e6...</td>\n",
       "    </tr>\n",
       "    <tr>\n",
       "      <th>4</th>\n",
       "      <td>Python Developer</td>\n",
       "      <td>Capgemini</td>\n",
       "      <td>New York, NY</td>\n",
       "      <td>Estimated $98.8K – $125K a year</td>\n",
       "      <td>https://www.indeed.com/viewjob?jk=d1d9864a3915...</td>\n",
       "    </tr>\n",
       "    <tr>\n",
       "      <th>5</th>\n",
       "      <td>Junior Python Developer</td>\n",
       "      <td>GTS</td>\n",
       "      <td>New York, NY</td>\n",
       "      <td>Estimated $97.8K – $124K a year</td>\n",
       "      <td>https://www.indeed.com/viewjob?jk=71acc67a281f...</td>\n",
       "    </tr>\n",
       "    <tr>\n",
       "      <th>6</th>\n",
       "      <td>Employee Relations Analyst</td>\n",
       "      <td>Google</td>\n",
       "      <td>Hybrid remote in New York, NY</td>\n",
       "      <td>$122,000 a year</td>\n",
       "      <td>https://www.indeed.com/viewjob?jk=242500ede18e...</td>\n",
       "    </tr>\n",
       "    <tr>\n",
       "      <th>7</th>\n",
       "      <td>Data Scientist, TikTok Creation and Consumption</td>\n",
       "      <td>TikTok</td>\n",
       "      <td>New York, NY</td>\n",
       "      <td>n/a</td>\n",
       "      <td>https://www.indeed.com/viewjob?jk=65b4fe45973a...</td>\n",
       "    </tr>\n",
       "    <tr>\n",
       "      <th>8</th>\n",
       "      <td>Python Developer</td>\n",
       "      <td>WorkCog</td>\n",
       "      <td>Remote in New York, NY</td>\n",
       "      <td>$40 - $60 an hour</td>\n",
       "      <td>https://www.indeed.com/viewjob?jk=36ee00722204...</td>\n",
       "    </tr>\n",
       "    <tr>\n",
       "      <th>9</th>\n",
       "      <td>Python Developer</td>\n",
       "      <td>iConnect</td>\n",
       "      <td>New York, NY</td>\n",
       "      <td>$82,770 - $150,000 a year</td>\n",
       "      <td>https://www.indeed.com/viewjob?jk=c018bff37089...</td>\n",
       "    </tr>\n",
       "    <tr>\n",
       "      <th>10</th>\n",
       "      <td>Python Developer</td>\n",
       "      <td>CRISIL LIMITED</td>\n",
       "      <td>Temporarily Remote in New York, NY</td>\n",
       "      <td>$60,000 - $110,000 a year</td>\n",
       "      <td>https://www.indeed.com/viewjob?jk=12cb14f1afec...</td>\n",
       "    </tr>\n",
       "    <tr>\n",
       "      <th>11</th>\n",
       "      <td>Mechatronics Engineer</td>\n",
       "      <td>The Rockefeller University</td>\n",
       "      <td>New York, NY</td>\n",
       "      <td>Estimated $95.5K – $121K a year</td>\n",
       "      <td>https://www.indeed.com/viewjob?jk=964539f3b3e1...</td>\n",
       "    </tr>\n",
       "    <tr>\n",
       "      <th>12</th>\n",
       "      <td>Software Engineer</td>\n",
       "      <td>ACLU</td>\n",
       "      <td>Remote in New York, NY</td>\n",
       "      <td>$115,638 a year</td>\n",
       "      <td>https://www.indeed.com/viewjob?jk=4c9d5b27c034...</td>\n",
       "    </tr>\n",
       "    <tr>\n",
       "      <th>13</th>\n",
       "      <td>Python Developer</td>\n",
       "      <td>Emonics LLC</td>\n",
       "      <td>New York, NY</td>\n",
       "      <td>$60,000 - $110,000 a year</td>\n",
       "      <td>https://www.indeed.com/viewjob?jk=b462e3676845...</td>\n",
       "    </tr>\n",
       "    <tr>\n",
       "      <th>14</th>\n",
       "      <td>Vice President of Data Analytics-IT535001</td>\n",
       "      <td>ICL</td>\n",
       "      <td>New York, NY</td>\n",
       "      <td>n/a</td>\n",
       "      <td>https://www.indeed.com/viewjob?jk=bfbdae6ad480...</td>\n",
       "    </tr>\n",
       "  </tbody>\n",
       "</table>\n",
       "</div>"
      ],
      "text/plain": [
       "                                             jobTitle  \\\n",
       "0                                     Python Engineer   \n",
       "1   GUCCI Advanced Analytics Specialist - Supply C...   \n",
       "2       Evolve Rotational Program - Software Engineer   \n",
       "3                                    Python Developer   \n",
       "4                                    Python Developer   \n",
       "5                             Junior Python Developer   \n",
       "6                          Employee Relations Analyst   \n",
       "7     Data Scientist, TikTok Creation and Consumption   \n",
       "8                                    Python Developer   \n",
       "9                                    Python Developer   \n",
       "10                                   Python Developer   \n",
       "11                              Mechatronics Engineer   \n",
       "12                                  Software Engineer   \n",
       "13                                   Python Developer   \n",
       "14          Vice President of Data Analytics-IT535001   \n",
       "\n",
       "                       company                            location  \\\n",
       "0             TrailStone Group                        New York, NY   \n",
       "1            Gucci America Inc                        New York, NY   \n",
       "2                        Apple                        New York, NY   \n",
       "3        Advithri Technologies  Temporarily Remote in New York, NY   \n",
       "4                    Capgemini                        New York, NY   \n",
       "5                          GTS                        New York, NY   \n",
       "6                       Google       Hybrid remote in New York, NY   \n",
       "7                       TikTok                        New York, NY   \n",
       "8                      WorkCog              Remote in New York, NY   \n",
       "9                     iConnect                        New York, NY   \n",
       "10              CRISIL LIMITED  Temporarily Remote in New York, NY   \n",
       "11  The Rockefeller University                        New York, NY   \n",
       "12                        ACLU              Remote in New York, NY   \n",
       "13                 Emonics LLC                        New York, NY   \n",
       "14                         ICL                        New York, NY   \n",
       "\n",
       "                              salary  \\\n",
       "0     Estimated $124K – $157K a year   \n",
       "1   Estimated $42.1K – $53.3K a year   \n",
       "2                                n/a   \n",
       "3                  $49 - $80 an hour   \n",
       "4    Estimated $98.8K – $125K a year   \n",
       "5    Estimated $97.8K – $124K a year   \n",
       "6                    $122,000 a year   \n",
       "7                                n/a   \n",
       "8                  $40 - $60 an hour   \n",
       "9          $82,770 - $150,000 a year   \n",
       "10         $60,000 - $110,000 a year   \n",
       "11   Estimated $95.5K – $121K a year   \n",
       "12                   $115,638 a year   \n",
       "13         $60,000 - $110,000 a year   \n",
       "14                               n/a   \n",
       "\n",
       "                                                  url  \n",
       "0   https://www.indeed.com/viewjob?jk=2b6bb659e8d1...  \n",
       "1   https://www.indeed.com/viewjob?jk=89bee222d726...  \n",
       "2   https://www.indeed.com/viewjob?jk=31c79b82e44f...  \n",
       "3   https://www.indeed.com/viewjob?jk=d605b68ac7e6...  \n",
       "4   https://www.indeed.com/viewjob?jk=d1d9864a3915...  \n",
       "5   https://www.indeed.com/viewjob?jk=71acc67a281f...  \n",
       "6   https://www.indeed.com/viewjob?jk=242500ede18e...  \n",
       "7   https://www.indeed.com/viewjob?jk=65b4fe45973a...  \n",
       "8   https://www.indeed.com/viewjob?jk=36ee00722204...  \n",
       "9   https://www.indeed.com/viewjob?jk=c018bff37089...  \n",
       "10  https://www.indeed.com/viewjob?jk=12cb14f1afec...  \n",
       "11  https://www.indeed.com/viewjob?jk=964539f3b3e1...  \n",
       "12  https://www.indeed.com/viewjob?jk=4c9d5b27c034...  \n",
       "13  https://www.indeed.com/viewjob?jk=b462e3676845...  \n",
       "14  https://www.indeed.com/viewjob?jk=bfbdae6ad480...  "
      ]
     },
     "execution_count": 18,
     "metadata": {},
     "output_type": "execute_result"
    }
   ],
   "source": [
    "# extract all the above-mentioned data from the page\n",
    "def extractData(jobs):\n",
    "    return pd.DataFrame({'jobTitle': extractTitles(jobs),\n",
    "                         'company': extractCompanies(jobs), \n",
    "                         'location': extractLocations(jobs),\n",
    "                         'salary': extractSalaries(jobs),\n",
    "                          'url': [extractlink(job) for job in jobs]})\n",
    "extractData(jobs)"
   ]
  },
  {
   "cell_type": "markdown",
   "metadata": {},
   "source": [
    "# Part 3. Building the Pipeline\n",
    "\n",
    "\n",
    "### First Page\n",
    "\n",
    "First, define a function to generate first page url based on the search keyword and location."
   ]
  },
  {
   "cell_type": "code",
   "execution_count": 19,
   "metadata": {},
   "outputs": [
    {
     "data": {
      "text/plain": [
       "'san+francisco+CA'"
      ]
     },
     "execution_count": 19,
     "metadata": {},
     "output_type": "execute_result"
    }
   ],
   "source": [
    "# Let's make sure the query string work in the url\n",
    "# use \"+\" to replace all non-alphanumerical chars\n",
    "import re\n",
    "s = 'san francisco, CA  '\n",
    "s = re.sub('[^0-9a-zA-Z]+', '+', s.strip())\n",
    "s"
   ]
  },
  {
   "cell_type": "code",
   "execution_count": 20,
   "metadata": {},
   "outputs": [
    {
     "data": {
      "text/plain": [
       "'https://www.indeed.com/jobs?q=sql+developer&l=San+Francisco+bay+area+CA'"
      ]
     },
     "execution_count": 20,
     "metadata": {},
     "output_type": "execute_result"
    }
   ],
   "source": [
    "# Generate the first page url\n",
    "def firstURL(base_url, location, keyword):\n",
    "    # make sure keyword and location strings acceptable for query in the url\n",
    "    import re\n",
    "    location = re.sub('[^0-9a-zA-Z]+', '+', location.strip())\n",
    "    keyword = re.sub('[^0-9a-zA-Z]+', '+', keyword.strip())\n",
    "    \n",
    "    return base_url + f'jobs?q={keyword}&l={location}'\n",
    "\n",
    "base_url = 'https://www.indeed.com/'\n",
    "firstURL(base_url, 'San Francisco bay area, CA', 'sql developer')"
   ]
  },
  {
   "cell_type": "markdown",
   "metadata": {},
   "source": [
    "### Other Pages\n",
    "Second, generate the urls of other pages."
   ]
  },
  {
   "cell_type": "code",
   "execution_count": 21,
   "metadata": {},
   "outputs": [
    {
     "data": {
      "text/plain": [
       "15"
      ]
     },
     "execution_count": 21,
     "metadata": {},
     "output_type": "execute_result"
    }
   ],
   "source": [
    "# Try scraping next page (the url observed in the website)\n",
    "url = 'https://www.indeed.com/jobs?q=python&l=new+york&start=10'\n",
    "jobs = scrapeResultPage(url)\n",
    "len(jobs)"
   ]
  },
  {
   "cell_type": "code",
   "execution_count": 22,
   "metadata": {
    "scrolled": true
   },
   "outputs": [
    {
     "data": {
      "text/plain": [
       "['https://www.indeed.com/jobs?q=python&l=new+york&start=10',\n",
       " 'https://www.indeed.com/jobs?q=python&l=new+york&start=20',\n",
       " 'https://www.indeed.com/jobs?q=python&l=new+york&start=30']"
      ]
     },
     "execution_count": 22,
     "metadata": {},
     "output_type": "execute_result"
    }
   ],
   "source": [
    "# Genrate the urls of other pages until we hit the limit of results\n",
    "def otherURLs(url, result_num=15, resultlimit=100, increment=10):\n",
    "    urls =[]\n",
    "    start = 0\n",
    "    result_total = result_num\n",
    "    while True:\n",
    "        if result_total >= resultlimit:\n",
    "            break\n",
    "            \n",
    "        start += increment\n",
    "        urls.append(url+f'&start={start}')\n",
    "        result_total += result_num\n",
    "        \n",
    "    return urls\n",
    "\n",
    "other_urls = otherURLs(url='https://www.indeed.com/jobs?q=python&l=new+york', resultlimit=50)\n",
    "other_urls"
   ]
  },
  {
   "cell_type": "markdown",
   "metadata": {},
   "source": [
    "### Generalize the Scraper\n",
    "\n",
    "Now, let's combine the above to build the scraper function that extracts results on multiple pages and accomodates general search."
   ]
  },
  {
   "cell_type": "code",
   "execution_count": 23,
   "metadata": {},
   "outputs": [],
   "source": [
    "# Now, let's combine results of multiple pages\n",
    "def job_scraper(base_url, location, keyword, resultlimit, increment):\n",
    "    \n",
    "    allResults = []\n",
    "    \n",
    "    # Extract results from first page\n",
    "    first_url = firstURL(base_url, location, keyword)\n",
    "    jobs = scrapeResultPage(first_url)\n",
    "    allResults.append(extractData(jobs))\n",
    "    print(first_url)\n",
    "    \n",
    "    \n",
    "    # Extract results from other pages\n",
    "    other_urls = otherURLs(first_url, result_num = len(jobs), \n",
    "                           resultlimit=resultlimit, increment=increment)\n",
    "    \n",
    "    for url in other_urls:\n",
    "        jobs = scrapeResultPage(url)\n",
    "        allResults.append(extractData(jobs))\n",
    "        \n",
    "    return pd.concat(allResults, ignore_index=True)"
   ]
  },
  {
   "cell_type": "code",
   "execution_count": 24,
   "metadata": {},
   "outputs": [
    {
     "name": "stdout",
     "output_type": "stream",
     "text": [
      "https://www.indeed.com/jobs?q=Python&l=New+York\n"
     ]
    },
    {
     "data": {
      "text/html": [
       "<div>\n",
       "<style scoped>\n",
       "    .dataframe tbody tr th:only-of-type {\n",
       "        vertical-align: middle;\n",
       "    }\n",
       "\n",
       "    .dataframe tbody tr th {\n",
       "        vertical-align: top;\n",
       "    }\n",
       "\n",
       "    .dataframe thead th {\n",
       "        text-align: right;\n",
       "    }\n",
       "</style>\n",
       "<table border=\"1\" class=\"dataframe\">\n",
       "  <thead>\n",
       "    <tr style=\"text-align: right;\">\n",
       "      <th></th>\n",
       "      <th>jobTitle</th>\n",
       "      <th>company</th>\n",
       "      <th>location</th>\n",
       "      <th>salary</th>\n",
       "      <th>url</th>\n",
       "    </tr>\n",
       "  </thead>\n",
       "  <tbody>\n",
       "    <tr>\n",
       "      <th>0</th>\n",
       "      <td>Python Engineer</td>\n",
       "      <td>TrailStone Group</td>\n",
       "      <td>New York, NY</td>\n",
       "      <td>n/a</td>\n",
       "      <td>https://www.indeed.com/viewjob?jk=2b6bb659e8d1...</td>\n",
       "    </tr>\n",
       "    <tr>\n",
       "      <th>1</th>\n",
       "      <td>Python Developer</td>\n",
       "      <td>Advithri Technologies</td>\n",
       "      <td>Temporarily Remote in New York, NY</td>\n",
       "      <td>$49 - $80 an hour</td>\n",
       "      <td>https://www.indeed.com/viewjob?jk=d605b68ac7e6...</td>\n",
       "    </tr>\n",
       "    <tr>\n",
       "      <th>2</th>\n",
       "      <td>Data Scientist, Spotify Advertising</td>\n",
       "      <td>Spotify</td>\n",
       "      <td>Remote in New York, NY</td>\n",
       "      <td>n/a</td>\n",
       "      <td>https://www.indeed.com/viewjob?jk=cf1dfad66649...</td>\n",
       "    </tr>\n",
       "    <tr>\n",
       "      <th>3</th>\n",
       "      <td>Python Developer</td>\n",
       "      <td>Capgemini</td>\n",
       "      <td>New York, NY</td>\n",
       "      <td>n/a</td>\n",
       "      <td>https://www.indeed.com/viewjob?jk=d1d9864a3915...</td>\n",
       "    </tr>\n",
       "    <tr>\n",
       "      <th>4</th>\n",
       "      <td>Junior Python Developer</td>\n",
       "      <td>GTS</td>\n",
       "      <td>New York, NY</td>\n",
       "      <td>n/a</td>\n",
       "      <td>https://www.indeed.com/viewjob?jk=71acc67a281f...</td>\n",
       "    </tr>\n",
       "    <tr>\n",
       "      <th>...</th>\n",
       "      <td>...</td>\n",
       "      <td>...</td>\n",
       "      <td>...</td>\n",
       "      <td>...</td>\n",
       "      <td>...</td>\n",
       "    </tr>\n",
       "    <tr>\n",
       "      <th>100</th>\n",
       "      <td>Junior Software Engineer</td>\n",
       "      <td>SpinCar</td>\n",
       "      <td>New York, NY</td>\n",
       "      <td>Estimated $46.9K – $59.3K a year</td>\n",
       "      <td>https://www.indeed.com/viewjob?jk=c4dd1929f340...</td>\n",
       "    </tr>\n",
       "    <tr>\n",
       "      <th>101</th>\n",
       "      <td>Adjunct Associate Faculty, Python for Data Ana...</td>\n",
       "      <td>Columbia University</td>\n",
       "      <td>New York, NY</td>\n",
       "      <td>Estimated $45.5K – $57.5K a year</td>\n",
       "      <td>https://www.indeed.com/viewjob?jk=d9fd6ff8ba04...</td>\n",
       "    </tr>\n",
       "    <tr>\n",
       "      <th>102</th>\n",
       "      <td>Marketing Analytics Manager</td>\n",
       "      <td>the NBA</td>\n",
       "      <td>New York, NY</td>\n",
       "      <td>Estimated $119K – $150K a year</td>\n",
       "      <td>https://www.indeed.com/viewjob?jk=0dd27b8c84dd...</td>\n",
       "    </tr>\n",
       "    <tr>\n",
       "      <th>103</th>\n",
       "      <td>Associate Data Consultant</td>\n",
       "      <td>YipitData</td>\n",
       "      <td>Remote in New York State</td>\n",
       "      <td>Estimated $51.3K – $64.9K a year</td>\n",
       "      <td>https://www.indeed.com/viewjob?jk=c5da02b15631...</td>\n",
       "    </tr>\n",
       "    <tr>\n",
       "      <th>104</th>\n",
       "      <td>North American (U.S. and Canada) Macroeconomist</td>\n",
       "      <td>S&amp;P Global</td>\n",
       "      <td>New York, NY</td>\n",
       "      <td>$80,000 - $100,000 a year</td>\n",
       "      <td>https://www.indeed.com/viewjob?jk=2948983b2e8a...</td>\n",
       "    </tr>\n",
       "  </tbody>\n",
       "</table>\n",
       "<p>105 rows × 5 columns</p>\n",
       "</div>"
      ],
      "text/plain": [
       "                                              jobTitle                company  \\\n",
       "0                                      Python Engineer       TrailStone Group   \n",
       "1                                     Python Developer  Advithri Technologies   \n",
       "2                  Data Scientist, Spotify Advertising                Spotify   \n",
       "3                                     Python Developer              Capgemini   \n",
       "4                              Junior Python Developer                    GTS   \n",
       "..                                                 ...                    ...   \n",
       "100                           Junior Software Engineer                SpinCar   \n",
       "101  Adjunct Associate Faculty, Python for Data Ana...    Columbia University   \n",
       "102                        Marketing Analytics Manager                the NBA   \n",
       "103                          Associate Data Consultant              YipitData   \n",
       "104    North American (U.S. and Canada) Macroeconomist             S&P Global   \n",
       "\n",
       "                               location                            salary  \\\n",
       "0                          New York, NY                               n/a   \n",
       "1    Temporarily Remote in New York, NY                 $49 - $80 an hour   \n",
       "2                Remote in New York, NY                               n/a   \n",
       "3                          New York, NY                               n/a   \n",
       "4                          New York, NY                               n/a   \n",
       "..                                  ...                               ...   \n",
       "100                        New York, NY  Estimated $46.9K – $59.3K a year   \n",
       "101                        New York, NY  Estimated $45.5K – $57.5K a year   \n",
       "102                        New York, NY    Estimated $119K – $150K a year   \n",
       "103            Remote in New York State  Estimated $51.3K – $64.9K a year   \n",
       "104                        New York, NY         $80,000 - $100,000 a year   \n",
       "\n",
       "                                                   url  \n",
       "0    https://www.indeed.com/viewjob?jk=2b6bb659e8d1...  \n",
       "1    https://www.indeed.com/viewjob?jk=d605b68ac7e6...  \n",
       "2    https://www.indeed.com/viewjob?jk=cf1dfad66649...  \n",
       "3    https://www.indeed.com/viewjob?jk=d1d9864a3915...  \n",
       "4    https://www.indeed.com/viewjob?jk=71acc67a281f...  \n",
       "..                                                 ...  \n",
       "100  https://www.indeed.com/viewjob?jk=c4dd1929f340...  \n",
       "101  https://www.indeed.com/viewjob?jk=d9fd6ff8ba04...  \n",
       "102  https://www.indeed.com/viewjob?jk=0dd27b8c84dd...  \n",
       "103  https://www.indeed.com/viewjob?jk=c5da02b15631...  \n",
       "104  https://www.indeed.com/viewjob?jk=2948983b2e8a...  \n",
       "\n",
       "[105 rows x 5 columns]"
      ]
     },
     "execution_count": 24,
     "metadata": {},
     "output_type": "execute_result"
    }
   ],
   "source": [
    "data = job_scraper(base_url, 'New York', 'Python', resultlimit=100, increment=10)\n",
    "data"
   ]
  },
  {
   "cell_type": "markdown",
   "metadata": {},
   "source": [
    "### Output\n",
    "\n",
    "We can now save the data to a csv file. "
   ]
  },
  {
   "cell_type": "code",
   "execution_count": 27,
   "metadata": {},
   "outputs": [],
   "source": [
    "today = str(pd.to_datetime(\"today\"))\n",
    "data.to_csv(f'./scrape_results/jobs_{today}.csv')"
   ]
  }
 ],
 "metadata": {
  "kernelspec": {
   "display_name": "quantra",
   "language": "python",
   "name": "quantra"
  },
  "language_info": {
   "codemirror_mode": {
    "name": "ipython",
    "version": 3
   },
   "file_extension": ".py",
   "mimetype": "text/x-python",
   "name": "python",
   "nbconvert_exporter": "python",
   "pygments_lexer": "ipython3",
   "version": "3.9.5"
  },
  "toc": {
   "base_numbering": 1,
   "nav_menu": {},
   "number_sections": false,
   "sideBar": true,
   "skip_h1_title": false,
   "title_cell": "Table of Contents",
   "title_sidebar": "Contents",
   "toc_cell": false,
   "toc_position": {
    "height": "calc(100% - 180px)",
    "left": "10px",
    "top": "150px",
    "width": "245.438px"
   },
   "toc_section_display": true,
   "toc_window_display": true
  }
 },
 "nbformat": 4,
 "nbformat_minor": 4
}
