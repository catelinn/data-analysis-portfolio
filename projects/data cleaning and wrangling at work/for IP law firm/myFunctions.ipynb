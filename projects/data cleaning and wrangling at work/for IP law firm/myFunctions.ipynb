{
 "cells": [
  {
   "cell_type": "code",
   "execution_count": 46,
   "metadata": {},
   "outputs": [],
   "source": [
    "'''transform_clients() will standardize the formatting on client/firm data column'''\n",
    "'''\n",
    "- remove information in parentheses () that is at the end of the string\n",
    "- all upper case\n",
    "- remove leading and trailing space\n",
    "- remove characters like '.', ','\n",
    "- remove extra space in between characters \n",
    "- use '&' instead of '+' and 'and'\n",
    "\n",
    "'''\n",
    "def transform_clients(series):\n",
    "    End_String_in_Parenthese = r\"\\(.*\\)$\"\n",
    "    return  (series\n",
    "             # remove content in parentheses () which is at the end of the string\n",
    "             .str.replace(End_String_in_Parenthese, \"\")\n",
    "             .str.upper()\n",
    "             .str.strip()\n",
    "             .str.replace(r'[.,]', '')\n",
    "             .str.replace(r'\\s{2,}', ' ')\n",
    "             .str.replace(r'[+(and)]', '&'))"
   ]
  },
  {
   "cell_type": "code",
   "execution_count": 47,
   "metadata": {},
   "outputs": [],
   "source": [
    "'''findApproximateMatch() will find best match in one data frame for each value of a column of another database'''\n",
    "'''\n",
    "- value_df and value_col is for the data that wants to find match\n",
    "- options_df and options_col is where to look for matches\n",
    "- excludeSelf defaults as False, it means exclude self value in options so that best match will be other value than self.\n",
    "'''\n",
    "\n",
    "def findApproximateMatch(value_df, value_col, options_df, options_col, excludeSelf=False):\n",
    "    from fuzzywuzzy import fuzz\n",
    "    from fuzzywuzzy import process\n",
    "    matches = []\n",
    "    for value in value_df[value_col]:\n",
    "        if excludeSelf:\n",
    "            matches.append(process.extractOne(value, options_df.loc[options_df[options_col] != value, options_col], \n",
    "                                                                    scorer=fuzz.token_sort_ratio))\n",
    "        else:\n",
    "            matches.append(process.extractOne(value, options_df[options_col], scorer=fuzz.token_sort_ratio))\n",
    "    return matches"
   ]
  },
  {
   "cell_type": "code",
   "execution_count": 54,
   "metadata": {},
   "outputs": [],
   "source": [
    "'''transform_addresses() will standardize the formatting on address data column'''\n",
    "'''\n",
    "- all upper case\n",
    "- remove leading and trailing space\n",
    "- remove extra space in between characters \n",
    "\n",
    "'''\n",
    "def transform_addresses(col):\n",
    "    return (col\n",
    "            .str.strip()\n",
    "            .str.upper()\n",
    "            .str.replace(r'\\s{2,}',' '))"
   ]
  },
  {
   "cell_type": "code",
   "execution_count": 2,
   "metadata": {},
   "outputs": [],
   "source": [
    "'''\n",
    "- remove leading and trailing space\n",
    "- remove extra space in between characters \n",
    "- remove special characters at the end of string\n",
    "- replace any special character that is not '-' as '-'\n",
    "'''\n",
    "def clean_zip_cols(col):\n",
    "    return (col.str.strip()\n",
    "               .str.upper()\n",
    "               .str.replace(r\"\\W$\", '')\n",
    "               .str.replace(r\"[^\\w-]\",\"-\"))"
   ]
  },
  {
   "cell_type": "code",
   "execution_count": null,
   "metadata": {},
   "outputs": [],
   "source": [
    "'''\n",
    "convert zip code to str and filled each with leading 0 to be 5 digits minimun\n",
    "'''\n",
    "def fillzip_leading_0(col):\n",
    "    return (col.astype(str).str.pad(width=5,side='left',fillchar='0'))"
   ]
  },
  {
   "cell_type": "code",
   "execution_count": null,
   "metadata": {},
   "outputs": [],
   "source": [
    "'''\n",
    "Check if a value in any of the selected columns of a dataframe row-wise, \n",
    "and return the ***check result*** in boolean value\n",
    "'''\n",
    "def filter_rows_with_val(df, cols_to_check, val):\n",
    "    containVal = False\n",
    "    for col in cols_to_check:\n",
    "        containVal = containVal | df[col].str.contains(val)\n",
    "    return containVal"
   ]
  },
  {
   "cell_type": "code",
   "execution_count": 2,
   "metadata": {},
   "outputs": [],
   "source": [
    "'''\n",
    "Check if a value in any of the selected columns of a dataframe row-wise, \n",
    "and return the ***filtered df***\n",
    "'''\n",
    "# re_val_in_capture_group = False --> if regex value is not to capture a group, str.contains() can apply\n",
    "# if regex captures group, use str.extract() to capture matches and then check if isna()\n",
    "\n",
    "def filter_rows_with_val2(df, cols_to_check, val, anycol=True, val_in_re_capture_group=False):\n",
    "    if anycol:\n",
    "        check = False\n",
    "        for col in cols_to_check:\n",
    "            if val_in_re_capture_group:\n",
    "                check = check | (~(df[col].str.extract(val).isna()))\n",
    "            check = check | df[col].str.contains(val)\n",
    "    # if val in all cols\n",
    "    else: \n",
    "        check = 1\n",
    "        for col in cols_to_check:\n",
    "            if val_in_re_capture_group:\n",
    "                check = check & (~(df[col].str.extract(val).isna()))\n",
    "            check = check & df[col].str.contains(val)\n",
    "    return df[check]"
   ]
  },
  {
   "cell_type": "code",
   "execution_count": null,
   "metadata": {},
   "outputs": [],
   "source": []
  }
 ],
 "metadata": {
  "kernelspec": {
   "display_name": "Python 3",
   "language": "python",
   "name": "python3"
  },
  "language_info": {
   "codemirror_mode": {
    "name": "ipython",
    "version": 3
   },
   "file_extension": ".py",
   "mimetype": "text/x-python",
   "name": "python",
   "nbconvert_exporter": "python",
   "pygments_lexer": "ipython3",
   "version": "3.7.1"
  }
 },
 "nbformat": 4,
 "nbformat_minor": 2
}
