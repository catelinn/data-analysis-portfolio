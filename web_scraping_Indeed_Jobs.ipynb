{
 "cells": [
  {
   "cell_type": "markdown",
   "metadata": {},
   "source": [
    "# Introduction - Build a Pipeline\n",
    "\n",
    "The project is to build a scraper to extract useful data of the job posts found on www.indeed.com, based on customizable search keyword and location.\n",
    "\n",
    "Software used: `requests` and `bs4`\n"
   ]
  },
  {
   "cell_type": "markdown",
   "metadata": {},
   "source": [
    "# Tasks\n",
    "\n",
    "- Scrape the first 100 available search results across multiple pages\n",
    "- Generalize the code to allow searching for different locations/jobs\n",
    "- Pick out information about the URL, job title and job location\n",
    "- Save the results to a file"
   ]
  },
  {
   "cell_type": "markdown",
   "metadata": {},
   "source": [
    "# Part 1: Inspect\n",
    "\n",
    "- How do the URLs change when you navigate to the next results page?\n",
    "- How do the URLs change when you use a different location and or job title search?\n",
    "- Which HTML elements contain the link, title and location of each job?"
   ]
  },
  {
   "cell_type": "markdown",
   "metadata": {},
   "source": [
    "# Part 2: Scrape and Parse one Page"
   ]
  },
  {
   "cell_type": "code",
   "execution_count": 427,
   "metadata": {},
   "outputs": [],
   "source": [
    "import requests\n",
    "from bs4 import BeautifulSoup\n",
    "import pandas as pd"
   ]
  },
  {
   "cell_type": "code",
   "execution_count": 545,
   "metadata": {},
   "outputs": [
    {
     "data": {
      "text/plain": [
       "15"
      ]
     },
     "execution_count": 545,
     "metadata": {},
     "output_type": "execute_result"
    }
   ],
   "source": [
    "url = 'https://www.indeed.com/jobs?q=python&l=new+york'\n",
    "\n",
    "# scrape and parse the page \n",
    "# to return a list of job results' HTML\n",
    "def scrapeResultPage(url):\n",
    "    # scrape the html\n",
    "    try:\n",
    "        res = requests.get(url)\n",
    "        res.raise_for_status()\n",
    "    except Exception as err:\n",
    "        print(err)\n",
    "\n",
    "    # Make a soup\n",
    "    soup = BeautifulSoup(res.content)\n",
    "\n",
    "    # Parse result column\n",
    "    result = soup.find(id='resultsCol')\n",
    "    jobs = result.find_all('a', class_='result')    \n",
    "    return jobs\n",
    "\n",
    "jobs = scrapeResultPage(url)\n",
    "len(jobs)"
   ]
  },
  {
   "cell_type": "code",
   "execution_count": 546,
   "metadata": {},
   "outputs": [
    {
     "name": "stdout",
     "output_type": "stream",
     "text": [
      "<a class=\"tapItem fs-unmask result job_941fca298fa33332 sponsoredJob resultWithShelf sponTapItem desktop\" data-ci=\"383080872\" data-empn=\"9767451333976163\" data-hide-spinner=\"true\" data-hiring-event=\"false\" data-jk=\"941fca298fa33332\" data-mobtk=\"1fqseeb4uo2b6800\" href=\"/pagead/clk?mo=r&amp;ad=-6NYlbfkN0CiRNM7CVr8YueLFKlzwbFWI0o7IjV438l4sVrvKZ0flpURU_mqoI8E-VxPfg2eTCEAoksXSZRepKnmYgoejgpnsuX8Fi3wzHIIMzd5QVHw4THV_jIwcDmoSBPKm5n1dKEO3E4B--owBXD4w7Ce7eASZa9wksZPPfhC1-ED7kHHKlkVXiFtdBe4R6VgoRMjuJClPEZ-UJfkxBpi294A2ZcTAIgd0l73_DWXlt9k5bT3-N5TzKeVVy5uluSCu7Eh0aGZViqZa1EAnQnqv1EbXUdPHjNl8biuC96wxVJLOeJfyeZwCuyb4x6zaJEKcZu-wjayKssVV8tgsnohEKBF7CXXePjP1iJQVALY5W88Rtp_5wkJW8pAD4RUv_P3LRdzvAk5UmfTIpQVnqGSQbDyA3Nq0Yh4XuQttv23D-yD7AWEPTi3uFs7wBIrtZRRci6TZ0RjjsocGQ4psjJHabGHV_7TSSl0qZmIsnilsJNdWw9l9j1cmAVuSvORuzKOdxrQi0LuSfX-7sm9a0ItMV1ifC7L&amp;p=0&amp;fvj=0&amp;vjs=3\" id=\"sj_941fca298fa33332\" rel=\"nofollow\" target=\"_blank\">\n",
      " <div class=\"slider_container\">\n",
      "  <div class=\"slider_list\">\n",
      "   <div class=\"slider_item\">\n",
      "    <div class=\"job_seen_beacon\">\n",
      "     <div class=\"fe_logo\">\n",
      "      <img alt=\"Indeed logo\" class=\"feLogoImg desktop\" src=\"https://d2q79iu7y748jz.cloudfront.net/s/_logo/510c55e17f26c4af6a5145c7cf5d2aff\"/>\n",
      "     </div>\n",
      "     <table cellpadding=\"0\" cellspacing=\"0\" class=\"jobCard_mainContent big6_visualChanges\" role=\"presentation\">\n",
      "      <tbody>\n",
      "       <tr>\n",
      "        <td class=\"resultContent\">\n",
      "         <div class=\"heading4 color-text-primary singleLineTitle tapItem-gutter\">\n",
      "          <h2 class=\"jobTitle jobTitle-color-purple\">\n",
      "           <span title=\"Software Engineer II\">\n",
      "            Software Engineer II\n",
      "           </span>\n",
      "          </h2>\n",
      "         </div>\n",
      "         <div class=\"heading6 company_location tapItem-gutter companyInfo\">\n",
      "          <span class=\"companyName\">\n",
      "           <a class=\"turnstileLink companyOverviewLink\" data-tn-element=\"companyName\" href=\"/cmp/Indeed\" rel=\"noopener\" target=\"_blank\">\n",
      "            Indeed\n",
      "           </a>\n",
      "          </span>\n",
      "          <span class=\"ratingsDisplay withRatingLink\">\n",
      "           <a aria-label=\"Company rating 4.3 out of 5 stars\" class=\"ratingLink\" data-tn-variant=\"cmplinktst2\" href=\"/cmp/Indeed/reviews\" rel=\"noopener\" target=\"_blank\" title=\"Indeed reviews\">\n",
      "            <span aria-label=\"4.3 of stars rating\" class=\"ratingNumber\" role=\"img\">\n",
      "             <span aria-hidden=\"true\">\n",
      "              4.3\n",
      "             </span>\n",
      "             <svg aria-hidden=\"true\" class=\"starIcon\" fill=\"none\" height=\"12\" role=\"presentation\" viewbox=\"0 0 16 16\" width=\"12\" xmlns=\"http://www.w3.org/2000/svg\">\n",
      "              <path d=\"M8 12.8709L12.4542 15.5593C12.7807 15.7563 13.1835 15.4636 13.0968 15.0922L11.9148 10.0254L15.8505 6.61581C16.1388 6.36608 15.9847 5.89257 15.6047 5.86033L10.423 5.42072L8.39696 0.640342C8.24839 0.289808 7.7516 0.289808 7.60303 0.640341L5.57696 5.42072L0.395297 5.86033C0.015274 5.89257 -0.13882 6.36608 0.149443 6.61581L4.0852 10.0254L2.90318 15.0922C2.81653 15.4636 3.21932 15.7563 3.54584 15.5593L8 12.8709Z\" fill=\"#767676\">\n",
      "              </path>\n",
      "             </svg>\n",
      "            </span>\n",
      "           </a>\n",
      "          </span>\n",
      "          <div class=\"companyLocation\">\n",
      "           Remote in New York, NY\n",
      "           <span class=\"more_loc_container\">\n",
      "            <a aria-label=\"Same Software Engineer II job in 4 other locations\" class=\"more_loc\" href=\"/addlLoc/redirect?tk=1fqseeb4uo2b6800&amp;jk=941fca298fa33332&amp;dest=%2Fjobs%3Fq%3Dpython%26l%3Dnew%2Byork%26grpKey%3D8gcGdG5mdGNsuA%252F2iAOqECUKCW5vcm10aXRsZRoYc2VuaW9yIHNvZnR3YXJlIGVuZ2luZWVy\" rel=\"nofollow\">\n",
      "             +4 locations\n",
      "            </a>\n",
      "           </span>\n",
      "          </div>\n",
      "         </div>\n",
      "         <div class=\"heading6 tapItem-gutter metadataContainer noJEMChips salaryOnly\">\n",
      "          <div class=\"metadata salary-snippet-container\">\n",
      "           <div class=\"attribute_snippet\">\n",
      "            <svg aria-hidden=\"true\" aria-label=\"Salary\" fill=\"none\" role=\"presentation\" viewbox=\"0 0 16 13\" xmlns=\"http://www.w3.org/2000/svg\">\n",
      "             <defs>\n",
      "             </defs>\n",
      "             <path clip-rule=\"evenodd\" d=\"M2.45168 6.10292c-.30177-.125-.62509-.18964-.95168-.1903V4.08678c.32693-.00053.6506-.06518.95267-.1903.30331-.12564.57891-.30979.81105-.54193.23215-.23215.4163-.50775.54194-.81106.12524-.30237.18989-.62638.19029-.95365H9.0902c0 .3283.06466.65339.1903.9567.12564.30331.30978.57891.54193.81106.23217.23215.50777.41629.81107.54193.3032.12558.6281.19024.9562.1903v1.83556c-.3242.00155-.6451.06616-.9448.19028-.3033.12563-.5789.30978-.81102.54193-.23215.23214-.4163.50774-.54193.81106-.12332.2977-.18789.61638-.19024.93849H3.99496c-.00071-.32645-.06535-.64961-.19029-.95124-.12564-.30332-.30979-.57891-.54193-.81106-.23215-.23215-.50775-.4163-.81106-.54193zM0 .589843C0 .313701.223858.0898438.5.0898438h12.0897c.2762 0 .5.2238572.5.5000002V9.40715c0 .27614-.2238.5-.5.5H.5c-.276143 0-.5-.22386-.5-.5V.589843zM6.54427 6.99849c1.10457 0 2-.89543 2-2s-.89543-2-2-2-2 .89543-2 2 .89543 2 2 2zm8.05523-2.69917v7.10958H2.75977c-.27615 0-.5.2238-.5.5v.5c0 .2761.22385.5.5.5H15.422c.4419 0 .6775-.2211.6775-.6629V4.29932c0-.27615-.2239-.5-.5-.5h-.5c-.2761 0-.5.22385-.5.5z\" fill=\"#595959\" fill-rule=\"evenodd\">\n",
      "             </path>\n",
      "            </svg>\n",
      "            $109,000 - $159,000 a year\n",
      "           </div>\n",
      "          </div>\n",
      "         </div>\n",
      "         <div class=\"heading6 error-text tapItem-gutter\">\n",
      "         </div>\n",
      "        </td>\n",
      "       </tr>\n",
      "      </tbody>\n",
      "     </table>\n",
      "     <table class=\"jobCardShelfContainer big6_visualChanges\" role=\"presentation\">\n",
      "      <tbody>\n",
      "       <tr class=\"jobCardShelf\">\n",
      "        <td class=\"shelfItem indeedApply\">\n",
      "         <span class=\"iaIcon\">\n",
      "         </span>\n",
      "         <span class=\"ialbl iaTextBlack\">\n",
      "          Easily apply\n",
      "         </span>\n",
      "        </td>\n",
      "       </tr>\n",
      "       <tr class=\"underShelfFooter\">\n",
      "        <td>\n",
      "         <div class=\"heading6 tapItem-gutter result-footer\">\n",
      "          <div class=\"job-snippet\">\n",
      "           <ul style=\"list-style-type:circle;margin-top: 0px;margin-bottom: 0px;padding-left:20px;\">\n",
      "            <li>\n",
      "             You are someone who finds passion in the craft, someone constantly seeking improvement and a better way to solve tough problems.\n",
      "            </li>\n",
      "           </ul>\n",
      "          </div>\n",
      "          <span class=\"date\">\n",
      "           <span class=\"visually-hidden\">\n",
      "            Posted\n",
      "           </span>\n",
      "           13 days ago\n",
      "          </span>\n",
      "         </div>\n",
      "        </td>\n",
      "       </tr>\n",
      "      </tbody>\n",
      "     </table>\n",
      "     <div aria-live=\"polite\">\n",
      "     </div>\n",
      "    </div>\n",
      "   </div>\n",
      "   <div class=\"slider_sub_item\">\n",
      "   </div>\n",
      "  </div>\n",
      " </div>\n",
      " <div class=\"kebabMenu\">\n",
      "  <button aria-expanded=\"false\" aria-haspopup=\"true\" aria-label=\"Job Actions\" class=\"kebabMenu-button\">\n",
      "   <svg aria-hidden=\"true\" fill=\"none\" height=\"24\" role=\"presentation\" viewbox=\"0 0 24 24\" width=\"24\" xmlns=\"http://www.w3.org/2000/svg\">\n",
      "    <path d=\"M12 7C13.1 7 14 6.1 14 5C14 3.9 13.1 3 12 3C10.9 3 10 3.9 10 5C10 6.1 10.9 7 12 7ZM12 10C10.9 10 10 10.9 10 12C10 13.1 10.9 14 12 14C13.1 14 14 13.1 14 12C14 10.9 13.1 10 12 10ZM12 17C10.9 17 10 17.9 10 19C10 20.1 10.9 21 12 21C13.1 21 14 20.1 14 19C14 17.9 13.1 17 12 17Z\" fill=\"#2d2d2d\">\n",
      "    </path>\n",
      "   </svg>\n",
      "  </button>\n",
      " </div>\n",
      "</a>\n",
      "\n"
     ]
    }
   ],
   "source": [
    "# Examine one of the result\n",
    "print(jobs[0].prettify())"
   ]
  },
  {
   "cell_type": "markdown",
   "metadata": {},
   "source": [
    "### Job title"
   ]
  },
  {
   "cell_type": "code",
   "execution_count": 559,
   "metadata": {
    "scrolled": false
   },
   "outputs": [
    {
     "name": "stdout",
     "output_type": "stream",
     "text": [
      "<h2 class=\"jobTitle jobTitle-color-purple\">\n",
      " <span title=\"Software Engineer II\">\n",
      "  Software Engineer II\n",
      " </span>\n",
      "</h2>\n",
      "<h2 class=\"jobTitle jobTitle-color-purple\">\n",
      " <span title=\"Python Developer\">\n",
      "  Python Developer\n",
      " </span>\n",
      "</h2>\n",
      "<h2 class=\"jobTitle jobTitle-color-purple\">\n",
      " <span title=\"Junior Python Developer\">\n",
      "  Junior Python Developer\n",
      " </span>\n",
      "</h2>\n",
      "<h2 class=\"jobTitle jobTitle-color-purple\">\n",
      " <span title=\"Trainee, Deloitte Cyber Career Accelerator Program\">\n",
      "  Trainee, Deloitte Cyber Career Accelerator Program\n",
      " </span>\n",
      "</h2>\n",
      "<h2 class=\"jobTitle jobTitle-color-purple\">\n",
      " <span title=\"Associate, YouTube\">\n",
      "  Associate, YouTube\n",
      " </span>\n",
      "</h2>\n"
     ]
    }
   ],
   "source": [
    "# Examine jobTitle element inside job, which is a 'h2' tag\n",
    "# there could be \"label\" inside the title, which we don't need\n",
    "for job in jobs[:5]:\n",
    "    print(job.find('h2').prettify())"
   ]
  },
  {
   "cell_type": "code",
   "execution_count": 558,
   "metadata": {},
   "outputs": [
    {
     "name": "stdout",
     "output_type": "stream",
     "text": [
      "Software Engineer II\n",
      "Python Developer\n",
      "Junior Python Developer\n",
      "Trainee, Deloitte Cyber Career Accelerator Program\n",
      "Associate, YouTube\n"
     ]
    }
   ],
   "source": [
    "# We can list all children inside jobTitle, and extract only the last child - the title\n",
    "for job in jobs[:5]:\n",
    "    print([child.text for child in job.find('h2').children][-1])"
   ]
  },
  {
   "cell_type": "code",
   "execution_count": 560,
   "metadata": {
    "scrolled": true
   },
   "outputs": [
    {
     "data": {
      "text/plain": [
       "['Software Engineer II',\n",
       " 'Python Developer',\n",
       " 'Junior Python Developer',\n",
       " 'Trainee, Deloitte Cyber Career Accelerator Program',\n",
       " 'Associate, YouTube',\n",
       " 'Employee Relations Analyst',\n",
       " 'Python Full Stack Developer',\n",
       " 'SR. PYTHON DEVELOPER',\n",
       " 'Junior Software Engineer',\n",
       " 'Opportunities Analyst, YouTube',\n",
       " 'Python Developer',\n",
       " 'Junior Data Scientist (NYC or Remote)',\n",
       " 'Automation Tester',\n",
       " 'Software Developer - C++ and/or Python',\n",
       " 'Data Scientist, TikTok Creation and Consumption']"
      ]
     },
     "execution_count": 560,
     "metadata": {},
     "output_type": "execute_result"
    }
   ],
   "source": [
    "# Now, define a function to extract all job titles on the page\n",
    "def extractTitles(jobs):\n",
    "    titles = [job.find('h2', class_='jobTitle') for job in jobs]\n",
    "    return [[child.text for child in title.children][-1] for title in titles]\n",
    "\n",
    "extractTitles(jobs)"
   ]
  },
  {
   "cell_type": "markdown",
   "metadata": {},
   "source": [
    "### Job URLs"
   ]
  },
  {
   "cell_type": "code",
   "execution_count": 519,
   "metadata": {},
   "outputs": [
    {
     "name": "stdout",
     "output_type": "stream",
     "text": [
      "/pagead/clk?mo=r&ad=-6NYlbfkN0CiRNM7CVr8YueLFKlzwbFWI0o7IjV438l4sVrvKZ0flpURU_mqoI8E-VxPfg2eTCEAoksXSZRepKnmYgoejgpnsuX8Fi3wzHIIMzd5QVHw4THV_jIwcDmoSBPKm5n1dKEO3E4B--owBXD4w7Ce7eASZa9wksZPPfhC1-ED7kHHKkDhLuHcw8P35lytUzNrT3LjRZyoS7sxy8Rrjp6rQUBo9-UgAqf0Ns-AD2Ig1B5xi2RmSWbPl-EefHZRQ5OGxwKviE1z4e2NZF4ZnEcJ7raeCzV7Y28CDqsigcOkFHZt5YyTpaT2ZNCLDa2CQp5mzBdRF8Czlfr6Ko0PSooXJRyfeWQIzKggX_Kl8qcgPCqdNz9F9EKF-lmQspNbkAU8IAT0VuGPNCGs0x3DG9sZ17NSyamfHFzphwnQQhNC_6EaJjj3IVjZ71o5-_2_ww-TUNZIrMqSaVFUssuD6YxEyn5UAz--dwp0PpZZuYl3-APHDEV1De-ETmJHCFltFW0x4uEt5Fob80CdM8xL5GqSkHjW&p=0&fvj=0&vjs=3\n",
      "\n",
      "\n",
      "/rc/clk?jk=d401e602fc961fa1&fccid=2df6a1e69a70a1e7&vjs=3\n",
      "\n",
      "\n",
      "/company/Global-Trading-Systems/jobs/Junior-Python-Developer-71acc67a281f6038?fccid=225e56cbd1119db8&vjs=3\n",
      "\n",
      "\n",
      "/rc/clk?jk=a19d5d6e71bffeee&fccid=a9021c35fcef6968&vjs=3\n",
      "\n",
      "\n",
      "/rc/clk?jk=242500ede18e7c9a&fccid=a5b4499d9e91a5c6&vjs=3\n",
      "\n",
      "\n"
     ]
    }
   ],
   "source": [
    "# Let's examine the `href` attribute in the job result\n",
    "# which shall be the link to the details of the job\n",
    "for job in jobs[:5]:\n",
    "    print(job['href'])\n",
    "    print('\\n')"
   ]
  },
  {
   "cell_type": "markdown",
   "metadata": {},
   "source": [
    "The extracted links above are in different patterns for different job results, and they don't work directly. Instead, after observing the url of job detail webpage, it's found that the url pattern of job detail page can be as follows:  \n",
    "\n",
    "    \"https://www.indeed.com/viewjob?jk=\"+ \"job id\" \n",
    "\n",
    "- \"job id\" can be found in one of the classes of the job result, which looks like this: `job_941fca298fa33332`"
   ]
  },
  {
   "cell_type": "code",
   "execution_count": 561,
   "metadata": {},
   "outputs": [
    {
     "name": "stdout",
     "output_type": "stream",
     "text": [
      "https://www.indeed.com/viewjob?jk=941fca298fa33332\n",
      "https://www.indeed.com/viewjob?jk=261a6748688d29d6\n",
      "https://www.indeed.com/viewjob?jk=71acc67a281f6038\n",
      "https://www.indeed.com/viewjob?jk=11144e0a61fbae87\n",
      "https://www.indeed.com/viewjob?jk=a19d5d6e71bffeee\n",
      "https://www.indeed.com/viewjob?jk=242500ede18e7c9a\n",
      "https://www.indeed.com/viewjob?jk=2d98a45f7e98a6c9\n",
      "https://www.indeed.com/viewjob?jk=d748d23c8181f77a\n",
      "https://www.indeed.com/viewjob?jk=c4dd1929f3409f7f\n",
      "https://www.indeed.com/viewjob?jk=5c009893824fdca2\n",
      "https://www.indeed.com/viewjob?jk=b462e36768457437\n",
      "https://www.indeed.com/viewjob?jk=c71b72157f64f825\n",
      "https://www.indeed.com/viewjob?jk=d401e602fc961fa1\n",
      "https://www.indeed.com/viewjob?jk=b7f4dd18740d62cc\n",
      "https://www.indeed.com/viewjob?jk=65b4fe45973ad5d6\n"
     ]
    }
   ],
   "source": [
    "def extractlink(job):\n",
    "    import re\n",
    "    r = re.compile('job_.*')\n",
    "    job_id = (list(filter(r.match, job['class'])))[0]\n",
    "    return 'https://www.indeed.com/viewjob?jk='+job_id.replace('job_','')\n",
    "\n",
    "for job in jobs:\n",
    "    print(extractlink(job))"
   ]
  },
  {
   "cell_type": "markdown",
   "metadata": {},
   "source": [
    "### Company Name"
   ]
  },
  {
   "cell_type": "code",
   "execution_count": 203,
   "metadata": {},
   "outputs": [
    {
     "data": {
      "text/plain": [
       "'TrailStone Group'"
      ]
     },
     "execution_count": 203,
     "metadata": {},
     "output_type": "execute_result"
    }
   ],
   "source": [
    "jobs[0].find('span', class_='companyName').text"
   ]
  },
  {
   "cell_type": "code",
   "execution_count": 575,
   "metadata": {},
   "outputs": [
    {
     "data": {
      "text/plain": [
       "['Indeed',\n",
       " 'Systemonex INC',\n",
       " 'GTS',\n",
       " 'Deloitte',\n",
       " 'YouTube',\n",
       " 'Google',\n",
       " 'First Soft Solutions [ Direct]',\n",
       " 'DATEC',\n",
       " 'SpinCar',\n",
       " 'YouTube',\n",
       " 'Emonics LLC',\n",
       " 'ViacomCBS',\n",
       " 'Cognizant Technology Solutions',\n",
       " 'Radkl',\n",
       " 'TikTok']"
      ]
     },
     "execution_count": 575,
     "metadata": {},
     "output_type": "execute_result"
    }
   ],
   "source": [
    "def extractCompanies(jobs):    \n",
    "    return [job.find('span', class_='companyName').text for job in jobs]\n",
    "\n",
    "extractCompanies(jobs)"
   ]
  },
  {
   "cell_type": "markdown",
   "metadata": {},
   "source": [
    "### Location"
   ]
  },
  {
   "cell_type": "code",
   "execution_count": 562,
   "metadata": {},
   "outputs": [
    {
     "name": "stdout",
     "output_type": "stream",
     "text": [
      "<div class=\"companyLocation\">\n",
      " Remote in New York, NY\n",
      " <span class=\"more_loc_container\">\n",
      "  <a aria-label=\"Same Software Engineer II job in 4 other locations\" class=\"more_loc\" href=\"/addlLoc/redirect?tk=1fqseeb4uo2b6800&amp;jk=941fca298fa33332&amp;dest=%2Fjobs%3Fq%3Dpython%26l%3Dnew%2Byork%26grpKey%3D8gcGdG5mdGNsuA%252F2iAOqECUKCW5vcm10aXRsZRoYc2VuaW9yIHNvZnR3YXJlIGVuZ2luZWVy\" rel=\"nofollow\">\n",
      "   +4 locations\n",
      "  </a>\n",
      " </span>\n",
      "</div>\n"
     ]
    }
   ],
   "source": [
    "location = jobs[0].find('div', class_='companyLocation')\n",
    "\n",
    "# Examine location html\n",
    "print(location.prettify())"
   ]
  },
  {
   "cell_type": "code",
   "execution_count": 563,
   "metadata": {},
   "outputs": [
    {
     "data": {
      "text/plain": [
       "['Remote in New York, NY',\n",
       " <span class=\"more_loc_container\"><a aria-label=\"Same Software Engineer II job in 4 other locations\" class=\"more_loc\" href=\"/addlLoc/redirect?tk=1fqseeb4uo2b6800&amp;jk=941fca298fa33332&amp;dest=%2Fjobs%3Fq%3Dpython%26l%3Dnew%2Byork%26grpKey%3D8gcGdG5mdGNsuA%252F2iAOqECUKCW5vcm10aXRsZRoYc2VuaW9yIHNvZnR3YXJlIGVuZ2luZWVy\" rel=\"nofollow\">+4 locations</a></span>]"
      ]
     },
     "execution_count": 563,
     "metadata": {},
     "output_type": "execute_result"
    }
   ],
   "source": [
    "# Examine location content\n",
    "location.contents"
   ]
  },
  {
   "cell_type": "code",
   "execution_count": 564,
   "metadata": {
    "scrolled": false
   },
   "outputs": [
    {
     "data": {
      "text/plain": [
       "'Remote in New York, NY'"
      ]
     },
     "execution_count": 564,
     "metadata": {},
     "output_type": "execute_result"
    }
   ],
   "source": [
    "location.contents[0]"
   ]
  },
  {
   "cell_type": "code",
   "execution_count": 574,
   "metadata": {},
   "outputs": [
    {
     "data": {
      "text/plain": [
       "['Remote in New York, NY',\n",
       " 'New York, NY',\n",
       " 'New York, NY',\n",
       " 'New York, NY',\n",
       " 'New York, NY',\n",
       " 'Hybrid remote in New York, NY',\n",
       " 'New York, NY',\n",
       " 'New York, NY',\n",
       " 'New York, NY',\n",
       " 'New York, NY',\n",
       " 'New York, NY',\n",
       " 'Remote in New York, NY',\n",
       " 'New York, NY',\n",
       " 'New York, NY',\n",
       " 'New York, NY']"
      ]
     },
     "execution_count": 574,
     "metadata": {},
     "output_type": "execute_result"
    }
   ],
   "source": [
    "def extractLocations(jobs):\n",
    "    locations = [job.find('div', class_='companyLocation') for job in jobs]\n",
    "    return [location.contents[0] for location in locations]\n",
    "            \n",
    "extractLocations(jobs)"
   ]
  },
  {
   "cell_type": "markdown",
   "metadata": {},
   "source": [
    "### Salary"
   ]
  },
  {
   "cell_type": "code",
   "execution_count": 570,
   "metadata": {},
   "outputs": [
    {
     "name": "stdout",
     "output_type": "stream",
     "text": [
      "[<div class=\"metadata salary-snippet-container\"><div class=\"attribute_snippet\"><svg aria-hidden=\"true\" aria-label=\"Salary\" fill=\"none\" role=\"presentation\" viewbox=\"0 0 16 13\" xmlns=\"http://www.w3.org/2000/svg\"><defs></defs><path clip-rule=\"evenodd\" d=\"M2.45168 6.10292c-.30177-.125-.62509-.18964-.95168-.1903V4.08678c.32693-.00053.6506-.06518.95267-.1903.30331-.12564.57891-.30979.81105-.54193.23215-.23215.4163-.50775.54194-.81106.12524-.30237.18989-.62638.19029-.95365H9.0902c0 .3283.06466.65339.1903.9567.12564.30331.30978.57891.54193.81106.23217.23215.50777.41629.81107.54193.3032.12558.6281.19024.9562.1903v1.83556c-.3242.00155-.6451.06616-.9448.19028-.3033.12563-.5789.30978-.81102.54193-.23215.23214-.4163.50774-.54193.81106-.12332.2977-.18789.61638-.19024.93849H3.99496c-.00071-.32645-.06535-.64961-.19029-.95124-.12564-.30332-.30979-.57891-.54193-.81106-.23215-.23215-.50775-.4163-.81106-.54193zM0 .589843C0 .313701.223858.0898438.5.0898438h12.0897c.2762 0 .5.2238572.5.5000002V9.40715c0 .27614-.2238.5-.5.5H.5c-.276143 0-.5-.22386-.5-.5V.589843zM6.54427 6.99849c1.10457 0 2-.89543 2-2s-.89543-2-2-2-2 .89543-2 2 .89543 2 2 2zm8.05523-2.69917v7.10958H2.75977c-.27615 0-.5.2238-.5.5v.5c0 .2761.22385.5.5.5H15.422c.4419 0 .6775-.2211.6775-.6629V4.29932c0-.27615-.2239-.5-.5-.5h-.5c-.2761 0-.5.22385-.5.5z\" fill=\"#595959\" fill-rule=\"evenodd\"></path></svg>$109,000 - $159,000 a year</div></div>]\n",
      "[<div class=\"metadata salary-snippet-container\"><div class=\"attribute_snippet\"><svg aria-hidden=\"true\" aria-label=\"Salary\" fill=\"none\" role=\"presentation\" viewbox=\"0 0 16 13\" xmlns=\"http://www.w3.org/2000/svg\"><defs></defs><path clip-rule=\"evenodd\" d=\"M2.45168 6.10292c-.30177-.125-.62509-.18964-.95168-.1903V4.08678c.32693-.00053.6506-.06518.95267-.1903.30331-.12564.57891-.30979.81105-.54193.23215-.23215.4163-.50775.54194-.81106.12524-.30237.18989-.62638.19029-.95365H9.0902c0 .3283.06466.65339.1903.9567.12564.30331.30978.57891.54193.81106.23217.23215.50777.41629.81107.54193.3032.12558.6281.19024.9562.1903v1.83556c-.3242.00155-.6451.06616-.9448.19028-.3033.12563-.5789.30978-.81102.54193-.23215.23214-.4163.50774-.54193.81106-.12332.2977-.18789.61638-.19024.93849H3.99496c-.00071-.32645-.06535-.64961-.19029-.95124-.12564-.30332-.30979-.57891-.54193-.81106-.23215-.23215-.50775-.4163-.81106-.54193zM0 .589843C0 .313701.223858.0898438.5.0898438h12.0897c.2762 0 .5.2238572.5.5000002V9.40715c0 .27614-.2238.5-.5.5H.5c-.276143 0-.5-.22386-.5-.5V.589843zM6.54427 6.99849c1.10457 0 2-.89543 2-2s-.89543-2-2-2-2 .89543-2 2 .89543 2 2 2zm8.05523-2.69917v7.10958H2.75977c-.27615 0-.5.2238-.5.5v.5c0 .2761.22385.5.5.5H15.422c.4419 0 .6775-.2211.6775-.6629V4.29932c0-.27615-.2239-.5-.5-.5h-.5c-.2761 0-.5.22385-.5.5z\" fill=\"#595959\" fill-rule=\"evenodd\"></path></svg>$35 - $45 an hour</div></div>]\n",
      "[<div class=\"metadata estimated-salary-container\"><span class=\"estimated-salary\"><svg aria-hidden=\"true\" aria-label=\"Estimated $97.8K to $124K a year\" fill=\"none\" role=\"presentation\" viewbox=\"0 0 16 13\" xmlns=\"http://www.w3.org/2000/svg\"><defs></defs><path clip-rule=\"evenodd\" d=\"M2.45168 6.10292c-.30177-.125-.62509-.18964-.95168-.1903V4.08678c.32693-.00053.6506-.06518.95267-.1903.30331-.12564.57891-.30979.81105-.54193.23215-.23215.4163-.50775.54194-.81106.12524-.30237.18989-.62638.19029-.95365H9.0902c0 .3283.06466.65339.1903.9567.12564.30331.30978.57891.54193.81106.23217.23215.50777.41629.81107.54193.3032.12558.6281.19024.9562.1903v1.83556c-.3242.00155-.6451.06616-.9448.19028-.3033.12563-.5789.30978-.81102.54193-.23215.23214-.4163.50774-.54193.81106-.12332.2977-.18789.61638-.19024.93849H3.99496c-.00071-.32645-.06535-.64961-.19029-.95124-.12564-.30332-.30979-.57891-.54193-.81106-.23215-.23215-.50775-.4163-.81106-.54193zM0 .589843C0 .313701.223858.0898438.5.0898438h12.0897c.2762 0 .5.2238572.5.5000002V9.40715c0 .27614-.2238.5-.5.5H.5c-.276143 0-.5-.22386-.5-.5V.589843zM6.54427 6.99849c1.10457 0 2-.89543 2-2s-.89543-2-2-2-2 .89543-2 2 .89543 2 2 2zm8.05523-2.69917v7.10958H2.75977c-.27615 0-.5.2238-.5.5v.5c0 .2761.22385.5.5.5H15.422c.4419 0 .6775-.2211.6775-.6629V4.29932c0-.27615-.2239-.5-.5-.5h-.5c-.2761 0-.5.22385-.5.5z\" fill=\"#595959\" fill-rule=\"evenodd\"></path></svg><span>Estimated $97.8K – $124K a year</span><button aria-haspopup=\"true\" aria-label=\"About Indeed's estimated salaries\" class=\"estimated-salary-legal-disclaimer-button\" type=\"button\"><img alt=\"\" aria-hidden=\"true\" class=\"estimated-salary-legal-disclaimer-icon\" src=\"https://c03.s3.indeed.com/mosaic-provider-jobcards/dist/images/src/components/JobMetaData/EstimatedSalary/QuestionCircle-7293f3.svg\"/></button></span></div>]\n"
     ]
    }
   ],
   "source": [
    "for job in jobs[:3]:\n",
    "    print(job.select('div[class*=\"salary-\"]'))"
   ]
  },
  {
   "cell_type": "code",
   "execution_count": 571,
   "metadata": {},
   "outputs": [
    {
     "data": {
      "text/plain": [
       "'$35 - $45 an hour'"
      ]
     },
     "execution_count": 571,
     "metadata": {},
     "output_type": "execute_result"
    }
   ],
   "source": [
    "jobs[1].select('div[class*=\"salary-\"]')[0].text"
   ]
  },
  {
   "cell_type": "code",
   "execution_count": 573,
   "metadata": {},
   "outputs": [
    {
     "data": {
      "text/plain": [
       "['$109,000 - $159,000 a year',\n",
       " '$35 - $45 an hour',\n",
       " 'Estimated $97.8K – $124K a year',\n",
       " '$28 an hour',\n",
       " 'Estimated $43K – $54.4K a year',\n",
       " '$122,000 a year',\n",
       " '$31 - $68 an hour',\n",
       " 'Estimated $110K – $139K a year',\n",
       " 'Estimated $46.9K – $59.3K a year',\n",
       " 'Estimated $63.5K – $80.5K a year',\n",
       " '$60,000 - $110,000 a year',\n",
       " 'Estimated $104K – $132K a year',\n",
       " 'Estimated $74K – $93.6K a year',\n",
       " 'Estimated $113K – $144K a year',\n",
       " 'Estimated $105K – $133K a year']"
      ]
     },
     "execution_count": 573,
     "metadata": {},
     "output_type": "execute_result"
    }
   ],
   "source": [
    "def extractSalaries(jobs):\n",
    "    selector = 'div[class*=\"salary-\"]'\n",
    "    return [job.select(selector)[0].text if len(job.select(selector))!=0 \n",
    "            else 'n/a' for job in jobs]\n",
    "     \n",
    "extractSalaries(jobs)"
   ]
  },
  {
   "cell_type": "markdown",
   "metadata": {},
   "source": [
    "### Extract Results on the Page"
   ]
  },
  {
   "cell_type": "code",
   "execution_count": 576,
   "metadata": {},
   "outputs": [
    {
     "data": {
      "text/html": [
       "<div>\n",
       "<style scoped>\n",
       "    .dataframe tbody tr th:only-of-type {\n",
       "        vertical-align: middle;\n",
       "    }\n",
       "\n",
       "    .dataframe tbody tr th {\n",
       "        vertical-align: top;\n",
       "    }\n",
       "\n",
       "    .dataframe thead th {\n",
       "        text-align: right;\n",
       "    }\n",
       "</style>\n",
       "<table border=\"1\" class=\"dataframe\">\n",
       "  <thead>\n",
       "    <tr style=\"text-align: right;\">\n",
       "      <th></th>\n",
       "      <th>jobTitle</th>\n",
       "      <th>company</th>\n",
       "      <th>location</th>\n",
       "      <th>salary</th>\n",
       "      <th>url</th>\n",
       "    </tr>\n",
       "  </thead>\n",
       "  <tbody>\n",
       "    <tr>\n",
       "      <th>0</th>\n",
       "      <td>Software Engineer II</td>\n",
       "      <td>Indeed</td>\n",
       "      <td>Remote in New York, NY</td>\n",
       "      <td>$109,000 - $159,000 a year</td>\n",
       "      <td>https://www.indeed.com/viewjob?jk=941fca298fa3...</td>\n",
       "    </tr>\n",
       "    <tr>\n",
       "      <th>1</th>\n",
       "      <td>Python Developer</td>\n",
       "      <td>Systemonex INC</td>\n",
       "      <td>New York, NY</td>\n",
       "      <td>$35 - $45 an hour</td>\n",
       "      <td>https://www.indeed.com/viewjob?jk=261a6748688d...</td>\n",
       "    </tr>\n",
       "    <tr>\n",
       "      <th>2</th>\n",
       "      <td>Junior Python Developer</td>\n",
       "      <td>GTS</td>\n",
       "      <td>New York, NY</td>\n",
       "      <td>Estimated $97.8K – $124K a year</td>\n",
       "      <td>https://www.indeed.com/viewjob?jk=71acc67a281f...</td>\n",
       "    </tr>\n",
       "    <tr>\n",
       "      <th>3</th>\n",
       "      <td>Trainee, Deloitte Cyber Career Accelerator Pro...</td>\n",
       "      <td>Deloitte</td>\n",
       "      <td>New York, NY</td>\n",
       "      <td>$28 an hour</td>\n",
       "      <td>https://www.indeed.com/viewjob?jk=11144e0a61fb...</td>\n",
       "    </tr>\n",
       "    <tr>\n",
       "      <th>4</th>\n",
       "      <td>Associate, YouTube</td>\n",
       "      <td>YouTube</td>\n",
       "      <td>New York, NY</td>\n",
       "      <td>Estimated $43K – $54.4K a year</td>\n",
       "      <td>https://www.indeed.com/viewjob?jk=a19d5d6e71bf...</td>\n",
       "    </tr>\n",
       "    <tr>\n",
       "      <th>5</th>\n",
       "      <td>Employee Relations Analyst</td>\n",
       "      <td>Google</td>\n",
       "      <td>Hybrid remote in New York, NY</td>\n",
       "      <td>$122,000 a year</td>\n",
       "      <td>https://www.indeed.com/viewjob?jk=242500ede18e...</td>\n",
       "    </tr>\n",
       "    <tr>\n",
       "      <th>6</th>\n",
       "      <td>Python Full Stack Developer</td>\n",
       "      <td>First Soft Solutions [ Direct]</td>\n",
       "      <td>New York, NY</td>\n",
       "      <td>$31 - $68 an hour</td>\n",
       "      <td>https://www.indeed.com/viewjob?jk=2d98a45f7e98...</td>\n",
       "    </tr>\n",
       "    <tr>\n",
       "      <th>7</th>\n",
       "      <td>SR. PYTHON DEVELOPER</td>\n",
       "      <td>DATEC</td>\n",
       "      <td>New York, NY</td>\n",
       "      <td>Estimated $110K – $139K a year</td>\n",
       "      <td>https://www.indeed.com/viewjob?jk=d748d23c8181...</td>\n",
       "    </tr>\n",
       "    <tr>\n",
       "      <th>8</th>\n",
       "      <td>Junior Software Engineer</td>\n",
       "      <td>SpinCar</td>\n",
       "      <td>New York, NY</td>\n",
       "      <td>Estimated $46.9K – $59.3K a year</td>\n",
       "      <td>https://www.indeed.com/viewjob?jk=c4dd1929f340...</td>\n",
       "    </tr>\n",
       "    <tr>\n",
       "      <th>9</th>\n",
       "      <td>Opportunities Analyst, YouTube</td>\n",
       "      <td>YouTube</td>\n",
       "      <td>New York, NY</td>\n",
       "      <td>Estimated $63.5K – $80.5K a year</td>\n",
       "      <td>https://www.indeed.com/viewjob?jk=5c009893824f...</td>\n",
       "    </tr>\n",
       "    <tr>\n",
       "      <th>10</th>\n",
       "      <td>Python Developer</td>\n",
       "      <td>Emonics LLC</td>\n",
       "      <td>New York, NY</td>\n",
       "      <td>$60,000 - $110,000 a year</td>\n",
       "      <td>https://www.indeed.com/viewjob?jk=b462e3676845...</td>\n",
       "    </tr>\n",
       "    <tr>\n",
       "      <th>11</th>\n",
       "      <td>Junior Data Scientist (NYC or Remote)</td>\n",
       "      <td>ViacomCBS</td>\n",
       "      <td>Remote in New York, NY</td>\n",
       "      <td>Estimated $104K – $132K a year</td>\n",
       "      <td>https://www.indeed.com/viewjob?jk=c71b72157f64...</td>\n",
       "    </tr>\n",
       "    <tr>\n",
       "      <th>12</th>\n",
       "      <td>Automation Tester</td>\n",
       "      <td>Cognizant Technology Solutions</td>\n",
       "      <td>New York, NY</td>\n",
       "      <td>Estimated $74K – $93.6K a year</td>\n",
       "      <td>https://www.indeed.com/viewjob?jk=d401e602fc96...</td>\n",
       "    </tr>\n",
       "    <tr>\n",
       "      <th>13</th>\n",
       "      <td>Software Developer - C++ and/or Python</td>\n",
       "      <td>Radkl</td>\n",
       "      <td>New York, NY</td>\n",
       "      <td>Estimated $113K – $144K a year</td>\n",
       "      <td>https://www.indeed.com/viewjob?jk=b7f4dd18740d...</td>\n",
       "    </tr>\n",
       "    <tr>\n",
       "      <th>14</th>\n",
       "      <td>Data Scientist, TikTok Creation and Consumption</td>\n",
       "      <td>TikTok</td>\n",
       "      <td>New York, NY</td>\n",
       "      <td>Estimated $105K – $133K a year</td>\n",
       "      <td>https://www.indeed.com/viewjob?jk=65b4fe45973a...</td>\n",
       "    </tr>\n",
       "  </tbody>\n",
       "</table>\n",
       "</div>"
      ],
      "text/plain": [
       "                                             jobTitle  \\\n",
       "0                                Software Engineer II   \n",
       "1                                    Python Developer   \n",
       "2                             Junior Python Developer   \n",
       "3   Trainee, Deloitte Cyber Career Accelerator Pro...   \n",
       "4                                  Associate, YouTube   \n",
       "5                          Employee Relations Analyst   \n",
       "6                         Python Full Stack Developer   \n",
       "7                                SR. PYTHON DEVELOPER   \n",
       "8                            Junior Software Engineer   \n",
       "9                      Opportunities Analyst, YouTube   \n",
       "10                                   Python Developer   \n",
       "11              Junior Data Scientist (NYC or Remote)   \n",
       "12                                  Automation Tester   \n",
       "13             Software Developer - C++ and/or Python   \n",
       "14    Data Scientist, TikTok Creation and Consumption   \n",
       "\n",
       "                           company                       location  \\\n",
       "0                           Indeed         Remote in New York, NY   \n",
       "1                   Systemonex INC                   New York, NY   \n",
       "2                              GTS                   New York, NY   \n",
       "3                         Deloitte                   New York, NY   \n",
       "4                          YouTube                   New York, NY   \n",
       "5                           Google  Hybrid remote in New York, NY   \n",
       "6   First Soft Solutions [ Direct]                   New York, NY   \n",
       "7                            DATEC                   New York, NY   \n",
       "8                          SpinCar                   New York, NY   \n",
       "9                          YouTube                   New York, NY   \n",
       "10                     Emonics LLC                   New York, NY   \n",
       "11                       ViacomCBS         Remote in New York, NY   \n",
       "12  Cognizant Technology Solutions                   New York, NY   \n",
       "13                           Radkl                   New York, NY   \n",
       "14                          TikTok                   New York, NY   \n",
       "\n",
       "                              salary  \\\n",
       "0         $109,000 - $159,000 a year   \n",
       "1                  $35 - $45 an hour   \n",
       "2    Estimated $97.8K – $124K a year   \n",
       "3                        $28 an hour   \n",
       "4     Estimated $43K – $54.4K a year   \n",
       "5                    $122,000 a year   \n",
       "6                  $31 - $68 an hour   \n",
       "7     Estimated $110K – $139K a year   \n",
       "8   Estimated $46.9K – $59.3K a year   \n",
       "9   Estimated $63.5K – $80.5K a year   \n",
       "10         $60,000 - $110,000 a year   \n",
       "11    Estimated $104K – $132K a year   \n",
       "12    Estimated $74K – $93.6K a year   \n",
       "13    Estimated $113K – $144K a year   \n",
       "14    Estimated $105K – $133K a year   \n",
       "\n",
       "                                                  url  \n",
       "0   https://www.indeed.com/viewjob?jk=941fca298fa3...  \n",
       "1   https://www.indeed.com/viewjob?jk=261a6748688d...  \n",
       "2   https://www.indeed.com/viewjob?jk=71acc67a281f...  \n",
       "3   https://www.indeed.com/viewjob?jk=11144e0a61fb...  \n",
       "4   https://www.indeed.com/viewjob?jk=a19d5d6e71bf...  \n",
       "5   https://www.indeed.com/viewjob?jk=242500ede18e...  \n",
       "6   https://www.indeed.com/viewjob?jk=2d98a45f7e98...  \n",
       "7   https://www.indeed.com/viewjob?jk=d748d23c8181...  \n",
       "8   https://www.indeed.com/viewjob?jk=c4dd1929f340...  \n",
       "9   https://www.indeed.com/viewjob?jk=5c009893824f...  \n",
       "10  https://www.indeed.com/viewjob?jk=b462e3676845...  \n",
       "11  https://www.indeed.com/viewjob?jk=c71b72157f64...  \n",
       "12  https://www.indeed.com/viewjob?jk=d401e602fc96...  \n",
       "13  https://www.indeed.com/viewjob?jk=b7f4dd18740d...  \n",
       "14  https://www.indeed.com/viewjob?jk=65b4fe45973a...  "
      ]
     },
     "execution_count": 576,
     "metadata": {},
     "output_type": "execute_result"
    }
   ],
   "source": [
    "# extract all data above from the page\n",
    "def extractResults(jobs):\n",
    "    return pd.DataFrame({'jobTitle': extractTitles(jobs),\n",
    "                         'company': extractCompanies(jobs), \n",
    "                         'location': extractLocations(jobs),\n",
    "                         'salary': extractSalaries(jobs),\n",
    "                          'url': [extractlink(job) for job in jobs]})\n",
    "extractResults(jobs)"
   ]
  },
  {
   "cell_type": "markdown",
   "metadata": {},
   "source": [
    "# Part 3. Building the Pipeline\n",
    "\n",
    "\n",
    "### First Page\n",
    "\n",
    "First, define a function to generate first page url based on the search keyword and location."
   ]
  },
  {
   "cell_type": "code",
   "execution_count": 584,
   "metadata": {},
   "outputs": [
    {
     "data": {
      "text/plain": [
       "'san+francisco+CA'"
      ]
     },
     "execution_count": 584,
     "metadata": {},
     "output_type": "execute_result"
    }
   ],
   "source": [
    "# Let's make sure the query string work in the url\n",
    "# use \"+\" to replace all non-alphanumerical chars\n",
    "import re\n",
    "s = 'san francisco, CA  '\n",
    "s = re.sub('[^0-9a-zA-Z]+', '+', s.strip())\n",
    "s"
   ]
  },
  {
   "cell_type": "code",
   "execution_count": 585,
   "metadata": {},
   "outputs": [
    {
     "data": {
      "text/plain": [
       "'https://www.indeed.com/jobs?q=sql+developer&l=San+Francisco+bay+area+CA'"
      ]
     },
     "execution_count": 585,
     "metadata": {},
     "output_type": "execute_result"
    }
   ],
   "source": [
    "# Generate the first page url\n",
    "def firstURL(base_url, location, keyword):\n",
    "    # make sure keyword and location strings acceptable for query in the url\n",
    "    import re\n",
    "    location = re.sub('[^0-9a-zA-Z]+', '+', location.strip())\n",
    "    keyword = re.sub('[^0-9a-zA-Z]+', '+', keyword.strip())\n",
    "    \n",
    "    return base_url + f'jobs?q={keyword}&l={location}'\n",
    "\n",
    "base_url = 'https://www.indeed.com/'\n",
    "firstURL(base_url, 'San Francisco bay area, CA', 'sql developer')"
   ]
  },
  {
   "cell_type": "markdown",
   "metadata": {},
   "source": [
    "### Other Pages\n",
    "Second, generate the urls of other pages."
   ]
  },
  {
   "cell_type": "code",
   "execution_count": 586,
   "metadata": {},
   "outputs": [
    {
     "data": {
      "text/plain": [
       "15"
      ]
     },
     "execution_count": 586,
     "metadata": {},
     "output_type": "execute_result"
    }
   ],
   "source": [
    "# Try scraping next page (the url observed in the website)\n",
    "url = 'https://www.indeed.com/jobs?q=python&l=new+york&start=10'\n",
    "jobs = scrapeResultPage(url)\n",
    "len(jobs)"
   ]
  },
  {
   "cell_type": "code",
   "execution_count": 588,
   "metadata": {
    "scrolled": true
   },
   "outputs": [
    {
     "data": {
      "text/plain": [
       "['https://www.indeed.com/jobs?q=python&l=new+york&start=10',\n",
       " 'https://www.indeed.com/jobs?q=python&l=new+york&start=20',\n",
       " 'https://www.indeed.com/jobs?q=python&l=new+york&start=30',\n",
       " 'https://www.indeed.com/jobs?q=python&l=new+york&start=40',\n",
       " 'https://www.indeed.com/jobs?q=python&l=new+york&start=50',\n",
       " 'https://www.indeed.com/jobs?q=python&l=new+york&start=60']"
      ]
     },
     "execution_count": 588,
     "metadata": {},
     "output_type": "execute_result"
    }
   ],
   "source": [
    "# Genrate the urls of other pages until we hit the limit of results\n",
    "def otherURLs(url, result_num=15, resultlimit=100, increment=10):\n",
    "    urls =[]\n",
    "    start = 0\n",
    "    result_total = result_num\n",
    "    while True:\n",
    "        if result_total >= resultlimit:\n",
    "            break\n",
    "            \n",
    "        start += increment\n",
    "        urls.append(url+f'&start={start}')\n",
    "        result_total += result_num\n",
    "        \n",
    "    return urls\n",
    "\n",
    "other_urls = otherURLs(url='https://www.indeed.com/jobs?q=python&l=new+york', resultlimit=100)\n",
    "other_urls"
   ]
  },
  {
   "cell_type": "markdown",
   "metadata": {},
   "source": [
    "### Generalize the Scraper\n",
    "\n",
    "Now, let's combine the above to extract results on multiple pages for general search."
   ]
  },
  {
   "cell_type": "code",
   "execution_count": 589,
   "metadata": {},
   "outputs": [],
   "source": [
    "# Now, let's combine results of multiple pages\n",
    "def job_scraper(base_url, location, keyword, resultlimit, increment):\n",
    "    \n",
    "    allResults = []\n",
    "    \n",
    "    # Extract results from first page\n",
    "    first_url = firstURL(base_url, location, keyword)\n",
    "    jobs = scrapeResultPage(first_url)\n",
    "    allResults.append(extractResults(jobs))\n",
    "    print(first_url)\n",
    "    \n",
    "    \n",
    "    # Extract results from other pages\n",
    "    other_urls = otherURLs(first_url, result_num = len(results), \n",
    "                           resultlimit=resultlimit, increment=increment)\n",
    "    \n",
    "    for url in other_urls:\n",
    "        jobs = scrapeResultPage(url)\n",
    "        allResults.append(extractResults(jobs))\n",
    "        \n",
    "    return pd.concat(allResults, ignore_index=True)"
   ]
  },
  {
   "cell_type": "code",
   "execution_count": 590,
   "metadata": {},
   "outputs": [
    {
     "name": "stdout",
     "output_type": "stream",
     "text": [
      "https://www.indeed.com/jobs?q=Python&l=New+York\n"
     ]
    },
    {
     "data": {
      "text/html": [
       "<div>\n",
       "<style scoped>\n",
       "    .dataframe tbody tr th:only-of-type {\n",
       "        vertical-align: middle;\n",
       "    }\n",
       "\n",
       "    .dataframe tbody tr th {\n",
       "        vertical-align: top;\n",
       "    }\n",
       "\n",
       "    .dataframe thead th {\n",
       "        text-align: right;\n",
       "    }\n",
       "</style>\n",
       "<table border=\"1\" class=\"dataframe\">\n",
       "  <thead>\n",
       "    <tr style=\"text-align: right;\">\n",
       "      <th></th>\n",
       "      <th>jobTitle</th>\n",
       "      <th>company</th>\n",
       "      <th>location</th>\n",
       "      <th>salary</th>\n",
       "      <th>url</th>\n",
       "    </tr>\n",
       "  </thead>\n",
       "  <tbody>\n",
       "    <tr>\n",
       "      <th>0</th>\n",
       "      <td>Software Engineer II</td>\n",
       "      <td>Indeed</td>\n",
       "      <td>Remote in New York, NY</td>\n",
       "      <td>$109,000 - $159,000 a year</td>\n",
       "      <td>https://www.indeed.com/viewjob?jk=941fca298fa3...</td>\n",
       "    </tr>\n",
       "    <tr>\n",
       "      <th>1</th>\n",
       "      <td>Junior Python Developer</td>\n",
       "      <td>GTS</td>\n",
       "      <td>New York, NY</td>\n",
       "      <td>Estimated $97.8K – $124K a year</td>\n",
       "      <td>https://www.indeed.com/viewjob?jk=71acc67a281f...</td>\n",
       "    </tr>\n",
       "    <tr>\n",
       "      <th>2</th>\n",
       "      <td>Trainee, Deloitte Cyber Career Accelerator Pro...</td>\n",
       "      <td>Deloitte</td>\n",
       "      <td>New York, NY</td>\n",
       "      <td>$28 an hour</td>\n",
       "      <td>https://www.indeed.com/viewjob?jk=11144e0a61fb...</td>\n",
       "    </tr>\n",
       "    <tr>\n",
       "      <th>3</th>\n",
       "      <td>Associate, YouTube</td>\n",
       "      <td>YouTube</td>\n",
       "      <td>New York, NY</td>\n",
       "      <td>n/a</td>\n",
       "      <td>https://www.indeed.com/viewjob?jk=a19d5d6e71bf...</td>\n",
       "    </tr>\n",
       "    <tr>\n",
       "      <th>4</th>\n",
       "      <td>Employee Relations Analyst</td>\n",
       "      <td>Google</td>\n",
       "      <td>Hybrid remote in New York, NY</td>\n",
       "      <td>$122,000 a year</td>\n",
       "      <td>https://www.indeed.com/viewjob?jk=242500ede18e...</td>\n",
       "    </tr>\n",
       "    <tr>\n",
       "      <th>...</th>\n",
       "      <td>...</td>\n",
       "      <td>...</td>\n",
       "      <td>...</td>\n",
       "      <td>...</td>\n",
       "      <td>...</td>\n",
       "    </tr>\n",
       "    <tr>\n",
       "      <th>100</th>\n",
       "      <td>Associate</td>\n",
       "      <td>Morgan Stanley</td>\n",
       "      <td>New York, NY</td>\n",
       "      <td>Estimated $85.7K – $109K a year</td>\n",
       "      <td>https://www.indeed.com/viewjob?jk=76cc643cf9c6...</td>\n",
       "    </tr>\n",
       "    <tr>\n",
       "      <th>101</th>\n",
       "      <td>Backend Engineer</td>\n",
       "      <td>Alma</td>\n",
       "      <td>Remote in New York State</td>\n",
       "      <td>Estimated $101K – $128K a year</td>\n",
       "      <td>https://www.indeed.com/viewjob?jk=4912f9f4277d...</td>\n",
       "    </tr>\n",
       "    <tr>\n",
       "      <th>102</th>\n",
       "      <td>Data Science Rotation Program Associate</td>\n",
       "      <td>New York Life Insurance Co</td>\n",
       "      <td>New York, NY</td>\n",
       "      <td>Estimated $107K – $136K a year</td>\n",
       "      <td>https://www.indeed.com/viewjob?jk=61c19d3402d0...</td>\n",
       "    </tr>\n",
       "    <tr>\n",
       "      <th>103</th>\n",
       "      <td>Healthcare Data Engineer (Remote)</td>\n",
       "      <td>pulseData</td>\n",
       "      <td>Remote in New York, NY</td>\n",
       "      <td>Estimated $126K – $159K a year</td>\n",
       "      <td>https://www.indeed.com/viewjob?jk=84bb503268ed...</td>\n",
       "    </tr>\n",
       "    <tr>\n",
       "      <th>104</th>\n",
       "      <td>Data Analyst - Internal Audit and Risk Control</td>\n",
       "      <td>TikTok</td>\n",
       "      <td>New York, NY</td>\n",
       "      <td>Estimated $98.7K – $125K a year</td>\n",
       "      <td>https://www.indeed.com/viewjob?jk=cbf1c5127c32...</td>\n",
       "    </tr>\n",
       "  </tbody>\n",
       "</table>\n",
       "<p>105 rows × 5 columns</p>\n",
       "</div>"
      ],
      "text/plain": [
       "                                              jobTitle  \\\n",
       "0                                 Software Engineer II   \n",
       "1                              Junior Python Developer   \n",
       "2    Trainee, Deloitte Cyber Career Accelerator Pro...   \n",
       "3                                   Associate, YouTube   \n",
       "4                           Employee Relations Analyst   \n",
       "..                                                 ...   \n",
       "100                                          Associate   \n",
       "101                                   Backend Engineer   \n",
       "102            Data Science Rotation Program Associate   \n",
       "103                  Healthcare Data Engineer (Remote)   \n",
       "104     Data Analyst - Internal Audit and Risk Control   \n",
       "\n",
       "                        company                       location  \\\n",
       "0                        Indeed         Remote in New York, NY   \n",
       "1                           GTS                   New York, NY   \n",
       "2                      Deloitte                   New York, NY   \n",
       "3                       YouTube                   New York, NY   \n",
       "4                        Google  Hybrid remote in New York, NY   \n",
       "..                          ...                            ...   \n",
       "100              Morgan Stanley                   New York, NY   \n",
       "101                        Alma       Remote in New York State   \n",
       "102  New York Life Insurance Co                   New York, NY   \n",
       "103                   pulseData         Remote in New York, NY   \n",
       "104                      TikTok                   New York, NY   \n",
       "\n",
       "                              salary  \\\n",
       "0         $109,000 - $159,000 a year   \n",
       "1    Estimated $97.8K – $124K a year   \n",
       "2                        $28 an hour   \n",
       "3                                n/a   \n",
       "4                    $122,000 a year   \n",
       "..                               ...   \n",
       "100  Estimated $85.7K – $109K a year   \n",
       "101   Estimated $101K – $128K a year   \n",
       "102   Estimated $107K – $136K a year   \n",
       "103   Estimated $126K – $159K a year   \n",
       "104  Estimated $98.7K – $125K a year   \n",
       "\n",
       "                                                   url  \n",
       "0    https://www.indeed.com/viewjob?jk=941fca298fa3...  \n",
       "1    https://www.indeed.com/viewjob?jk=71acc67a281f...  \n",
       "2    https://www.indeed.com/viewjob?jk=11144e0a61fb...  \n",
       "3    https://www.indeed.com/viewjob?jk=a19d5d6e71bf...  \n",
       "4    https://www.indeed.com/viewjob?jk=242500ede18e...  \n",
       "..                                                 ...  \n",
       "100  https://www.indeed.com/viewjob?jk=76cc643cf9c6...  \n",
       "101  https://www.indeed.com/viewjob?jk=4912f9f4277d...  \n",
       "102  https://www.indeed.com/viewjob?jk=61c19d3402d0...  \n",
       "103  https://www.indeed.com/viewjob?jk=84bb503268ed...  \n",
       "104  https://www.indeed.com/viewjob?jk=cbf1c5127c32...  \n",
       "\n",
       "[105 rows x 5 columns]"
      ]
     },
     "execution_count": 590,
     "metadata": {},
     "output_type": "execute_result"
    }
   ],
   "source": [
    "data = job_scraper(base_url, 'New York', 'Python', resultlimit=100, increment=10)\n",
    "data"
   ]
  },
  {
   "cell_type": "markdown",
   "metadata": {},
   "source": [
    "### Output\n",
    "\n",
    "We can now save the data to a csv file. "
   ]
  },
  {
   "cell_type": "code",
   "execution_count": 591,
   "metadata": {},
   "outputs": [],
   "source": [
    "today = str(pd.to_datetime(\"today\"))\n",
    "data.to_csv(f'{today}.csv')"
   ]
  }
 ],
 "metadata": {
  "kernelspec": {
   "display_name": "quantra",
   "language": "python",
   "name": "quantra"
  },
  "language_info": {
   "codemirror_mode": {
    "name": "ipython",
    "version": 3
   },
   "file_extension": ".py",
   "mimetype": "text/x-python",
   "name": "python",
   "nbconvert_exporter": "python",
   "pygments_lexer": "ipython3",
   "version": "3.9.5"
  },
  "toc": {
   "base_numbering": 1,
   "nav_menu": {},
   "number_sections": true,
   "sideBar": true,
   "skip_h1_title": false,
   "title_cell": "Table of Contents",
   "title_sidebar": "Contents",
   "toc_cell": false,
   "toc_position": {
    "height": "calc(100% - 180px)",
    "left": "10px",
    "top": "150px",
    "width": "245.438px"
   },
   "toc_section_display": true,
   "toc_window_display": true
  }
 },
 "nbformat": 4,
 "nbformat_minor": 4
}
