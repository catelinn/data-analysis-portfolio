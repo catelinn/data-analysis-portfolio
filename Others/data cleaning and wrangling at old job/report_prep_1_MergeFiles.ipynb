{
 "cells": [
  {
   "cell_type": "code",
   "execution_count": 7,
   "metadata": {},
   "outputs": [],
   "source": [
    "import os\n",
    "import numpy as np\n",
    "import pandas as pd\n",
    "pd.set_option('display.max_rows', 6)"
   ]
  },
  {
   "cell_type": "markdown",
   "metadata": {},
   "source": [
    "### Introduction\n",
    "\n",
    "Headquarter emails the new cases files daily, I need to combine these files every month and clean up the dataset for reporting purpose. \n",
    "\n",
    "This script is the first step of the process: merge all files and filter columns I need."
   ]
  },
  {
   "cell_type": "markdown",
   "metadata": {},
   "source": [
    "### Get directories for script, files, output"
   ]
  },
  {
   "cell_type": "code",
   "execution_count": 8,
   "metadata": {},
   "outputs": [],
   "source": [
    "files_dir = 'data/' # where case files reside\n",
    "output_dir = os.path.dirname(os.getcwd()) # save output in folder one level up"
   ]
  },
  {
   "cell_type": "markdown",
   "metadata": {},
   "source": [
    "### Load case files to dataframe"
   ]
  },
  {
   "cell_type": "code",
   "execution_count": 9,
   "metadata": {},
   "outputs": [
    {
     "data": {
      "text/plain": [
       "['20190107-20190107-每日立案明细.xls',\n",
       " '20190108-20190108-每日立案明细.xls',\n",
       " '20190109-20190109-每日立案明细.xls',\n",
       " '20190110-20190110-每日立案明细.xls',\n",
       " '20190104-20190104-每日立案明细.xls']"
      ]
     },
     "execution_count": 9,
     "metadata": {},
     "output_type": "execute_result"
    }
   ],
   "source": [
    "# New case files names in a list\n",
    "files = os.listdir(files_dir)\n",
    "files = [x for x in files if not '._' in x] # exclude hidden files\n",
    "files"
   ]
  },
  {
   "cell_type": "code",
   "execution_count": 10,
   "metadata": {},
   "outputs": [
    {
     "data": {
      "text/html": [
       "<div>\n",
       "<style scoped>\n",
       "    .dataframe tbody tr th:only-of-type {\n",
       "        vertical-align: middle;\n",
       "    }\n",
       "\n",
       "    .dataframe tbody tr th {\n",
       "        vertical-align: top;\n",
       "    }\n",
       "\n",
       "    .dataframe thead th {\n",
       "        text-align: right;\n",
       "    }\n",
       "</style>\n",
       "<table border=\"1\" class=\"dataframe\">\n",
       "  <thead>\n",
       "    <tr style=\"text-align: right;\">\n",
       "      <th></th>\n",
       "      <th>委托人</th>\n",
       "      <th>委托人国别</th>\n",
       "      <th>本所案号</th>\n",
       "      <th>案件类型</th>\n",
       "      <th>申请人</th>\n",
       "      <th>申请人国别</th>\n",
       "      <th>商标名称</th>\n",
       "      <th>类别</th>\n",
       "      <th>商标号</th>\n",
       "      <th>立案日</th>\n",
       "    </tr>\n",
       "  </thead>\n",
       "  <tbody>\n",
       "    <tr>\n",
       "      <th>35</th>\n",
       "      <td>BERESKIN &amp; PARR LLP</td>\n",
       "      <td>加拿大</td>\n",
       "      <td>SIT1900013</td>\n",
       "      <td>查询</td>\n",
       "      <td>麦凯恩食品有限公司</td>\n",
       "      <td>加拿大</td>\n",
       "      <td>ROOTS OF GOODNESS</td>\n",
       "      <td>29.0</td>\n",
       "      <td>NaN</td>\n",
       "      <td>2019-01-07</td>\n",
       "    </tr>\n",
       "  </tbody>\n",
       "</table>\n",
       "</div>"
      ],
      "text/plain": [
       "                    委托人 委托人国别        本所案号 案件类型        申请人 申请人国别  \\\n",
       "35  BERESKIN & PARR LLP   加拿大  SIT1900013   查询  麦凯恩食品有限公司   加拿大   \n",
       "\n",
       "                 商标名称    类别  商标号         立案日  \n",
       "35  ROOTS OF GOODNESS  29.0  NaN  2019-01-07  "
      ]
     },
     "execution_count": 10,
     "metadata": {},
     "output_type": "execute_result"
    }
   ],
   "source": [
    "# Create cases df\n",
    "columns = ['委托人', '委托人国别', '本所案号', '案件类型', '申请人', '申请人国别', '商标名称', '类别', \n",
    "'商标号', '立案日']\n",
    "cases = pd.DataFrame(columns = columns)\n",
    "cases\n",
    "\n",
    "# Append all cases to the df\n",
    "import xlrd\n",
    "for f in files:\n",
    "    cases = pd.concat([cases, pd.read_excel(files_dir + '/' + f, header=1)[columns]], ignore_index=True)\n",
    "cases.loc[cases['委托人国别'].isin(['美国','加拿大'])].head(1)"
   ]
  },
  {
   "cell_type": "code",
   "execution_count": 11,
   "metadata": {},
   "outputs": [
    {
     "name": "stdout",
     "output_type": "stream",
     "text": [
      "<class 'pandas.core.frame.DataFrame'>\n",
      "RangeIndex: 410 entries, 0 to 409\n",
      "Data columns (total 10 columns):\n",
      " #   Column  Non-Null Count  Dtype \n",
      "---  ------  --------------  ----- \n",
      " 0   委托人     410 non-null    object\n",
      " 1   委托人国别   410 non-null    object\n",
      " 2   本所案号    410 non-null    object\n",
      " 3   案件类型    410 non-null    object\n",
      " 4   申请人     325 non-null    object\n",
      " 5   申请人国别   325 non-null    object\n",
      " 6   商标名称    403 non-null    object\n",
      " 7   类别      377 non-null    object\n",
      " 8   商标号     224 non-null    object\n",
      " 9   立案日     410 non-null    object\n",
      "dtypes: object(10)\n",
      "memory usage: 32.2+ KB\n"
     ]
    }
   ],
   "source": [
    "cases.info()"
   ]
  },
  {
   "cell_type": "markdown",
   "metadata": {},
   "source": [
    "### Select cases from US and Canada for output"
   ]
  },
  {
   "cell_type": "code",
   "execution_count": 12,
   "metadata": {},
   "outputs": [],
   "source": [
    "output = cases.loc[cases['委托人国别'].isin(['美国','加拿大'])][columns]"
   ]
  },
  {
   "cell_type": "markdown",
   "metadata": {},
   "source": [
    "### Save cases to a temp file with timestamp"
   ]
  },
  {
   "cell_type": "code",
   "execution_count": 15,
   "metadata": {},
   "outputs": [],
   "source": [
    "import datetime\n",
    "from datetime import datetime\n",
    "timestamp = datetime.now().strftime('%Y-%m-%d %H:%M:%S')\n",
    "timestamp = ''.join(x for x in timestamp if x.isalnum())\n",
    "\n",
    "# save the new workbook data to `final{timestamp}.xlsx` first\n",
    "output.to_excel(f'newCases{timestamp}.xlsx')"
   ]
  }
 ],
 "metadata": {
  "kernelspec": {
   "display_name": "stat_notes",
   "language": "python",
   "name": "stat_notes"
  },
  "language_info": {
   "codemirror_mode": {
    "name": "ipython",
    "version": 3
   },
   "file_extension": ".py",
   "mimetype": "text/x-python",
   "name": "python",
   "nbconvert_exporter": "python",
   "pygments_lexer": "ipython3",
   "version": "3.9.12"
  },
  "toc": {
   "base_numbering": 1,
   "nav_menu": {},
   "number_sections": true,
   "sideBar": true,
   "skip_h1_title": false,
   "title_cell": "Table of Contents",
   "title_sidebar": "Contents",
   "toc_cell": false,
   "toc_position": {},
   "toc_section_display": true,
   "toc_window_display": true
  }
 },
 "nbformat": 4,
 "nbformat_minor": 2
}
