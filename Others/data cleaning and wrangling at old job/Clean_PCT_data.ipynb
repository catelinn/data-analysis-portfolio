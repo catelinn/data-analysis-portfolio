{
 "cells": [
  {
   "cell_type": "markdown",
   "metadata": {},
   "source": [
    "# Objectives\n",
    "\n",
    "Clean `PCT.xlsx` data and then split into two data tables:\n",
    "        \n",
    "- PCT with IPC (one PCT might have multiple IPC codes, each PCT-IPC pair should be displayed as one record)\n",
    "- PCT (distinct PCTs with `title`, `applicant`, `desginated to CN`, `Filing date` and `link`)"
   ]
  },
  {
   "cell_type": "markdown",
   "metadata": {},
   "source": [
    "# Import PCT Data"
   ]
  },
  {
   "cell_type": "code",
   "execution_count": 20,
   "metadata": {},
   "outputs": [
    {
     "data": {
      "text/html": [
       "<div>\n",
       "<style scoped>\n",
       "    .dataframe tbody tr th:only-of-type {\n",
       "        vertical-align: middle;\n",
       "    }\n",
       "\n",
       "    .dataframe tbody tr th {\n",
       "        vertical-align: top;\n",
       "    }\n",
       "\n",
       "    .dataframe thead th {\n",
       "        text-align: right;\n",
       "    }\n",
       "</style>\n",
       "<table border=\"1\" class=\"dataframe\">\n",
       "  <thead>\n",
       "    <tr style=\"text-align: right;\">\n",
       "      <th></th>\n",
       "      <th>PCT</th>\n",
       "      <th>Title</th>\n",
       "      <th>Applicant</th>\n",
       "      <th>Designated to CN</th>\n",
       "      <th>IPC</th>\n",
       "      <th>Filing Date</th>\n",
       "      <th>Link</th>\n",
       "    </tr>\n",
       "  </thead>\n",
       "  <tbody>\n",
       "    <tr>\n",
       "      <th>0</th>\n",
       "      <td>WO2017075268</td>\n",
       "      <td>TROPONIN I AND SOLUBLE UROKINASE RECEPTOR DETE...</td>\n",
       "      <td>ABBOTT LABORATORIES</td>\n",
       "      <td>1</td>\n",
       "      <td>G01N 33/68 (2006.01)</td>\n",
       "      <td>27.10.2016</td>\n",
       "      <td>https://patentscope.wipo.int/search/en/detail....</td>\n",
       "    </tr>\n",
       "    <tr>\n",
       "      <th>1</th>\n",
       "      <td>WO2008080030</td>\n",
       "      <td>CARDIOVASCULAR AUTOIMMUNE DISEASE PANEL AND ME...</td>\n",
       "      <td>ABBOTT LABORATORIES</td>\n",
       "      <td>1</td>\n",
       "      <td>G01N 33/53 (2006.01) ,G01N 33/49 (2006.01)</td>\n",
       "      <td>21.12.2007</td>\n",
       "      <td>https://patentscope.wipo.int/search/en/detail....</td>\n",
       "    </tr>\n",
       "  </tbody>\n",
       "</table>\n",
       "</div>"
      ],
      "text/plain": [
       "            PCT                                              Title  \\\n",
       "0  WO2017075268  TROPONIN I AND SOLUBLE UROKINASE RECEPTOR DETE...   \n",
       "1  WO2008080030  CARDIOVASCULAR AUTOIMMUNE DISEASE PANEL AND ME...   \n",
       "\n",
       "             Applicant  Designated to CN  \\\n",
       "0  ABBOTT LABORATORIES                 1   \n",
       "1  ABBOTT LABORATORIES                 1   \n",
       "\n",
       "                                          IPC Filing Date  \\\n",
       "0                        G01N 33/68 (2006.01)  27.10.2016   \n",
       "1  G01N 33/53 (2006.01) ,G01N 33/49 (2006.01)  21.12.2007   \n",
       "\n",
       "                                                Link  \n",
       "0  https://patentscope.wipo.int/search/en/detail....  \n",
       "1  https://patentscope.wipo.int/search/en/detail....  "
      ]
     },
     "execution_count": 20,
     "metadata": {},
     "output_type": "execute_result"
    }
   ],
   "source": [
    "import numpy as np\n",
    "import pandas as pd\n",
    "pct = pd.read_excel(\"./Data/To clean in Jupyter/PCT.xlsx\", engine='openpyxl')\n",
    "pct.head(2)"
   ]
  },
  {
   "cell_type": "markdown",
   "metadata": {},
   "source": [
    "# Clean Data"
   ]
  },
  {
   "cell_type": "code",
   "execution_count": 21,
   "metadata": {},
   "outputs": [
    {
     "name": "stdout",
     "output_type": "stream",
     "text": [
      "<class 'pandas.core.frame.DataFrame'>\n",
      "RangeIndex: 473 entries, 0 to 472\n",
      "Data columns (total 7 columns):\n",
      " #   Column            Non-Null Count  Dtype \n",
      "---  ------            --------------  ----- \n",
      " 0   PCT               473 non-null    object\n",
      " 1   Title             473 non-null    object\n",
      " 2   Applicant         473 non-null    object\n",
      " 3   Designated to CN  473 non-null    int64 \n",
      " 4   IPC               473 non-null    object\n",
      " 5   Filing Date       473 non-null    object\n",
      " 6   Link              473 non-null    object\n",
      "dtypes: int64(1), object(6)\n",
      "memory usage: 26.0+ KB\n",
      "None\n"
     ]
    }
   ],
   "source": [
    "# check dataset\n",
    "print(pct.info())"
   ]
  },
  {
   "cell_type": "code",
   "execution_count": 22,
   "metadata": {},
   "outputs": [
    {
     "data": {
      "text/plain": [
       "1"
      ]
     },
     "execution_count": 22,
     "metadata": {},
     "output_type": "execute_result"
    }
   ],
   "source": [
    "# check if any duplicate PCT due to multiple IPC\n",
    "(pct.PCT.value_counts() > 1).sum()"
   ]
  },
  {
   "cell_type": "code",
   "execution_count": 4,
   "metadata": {},
   "outputs": [],
   "source": [
    "# remove pct without ipc code\n",
    "pct = pct[pct[\"IPC\"].notnull()]\n",
    "\n",
    "# remove tab character\n",
    "pct[\"PCT\"]=[st.replace('\\t','') for st in pct[\"PCT\"]]"
   ]
  },
  {
   "cell_type": "markdown",
   "metadata": {},
   "source": [
    "# Convert Dates"
   ]
  },
  {
   "cell_type": "code",
   "execution_count": 5,
   "metadata": {},
   "outputs": [
    {
     "data": {
      "text/plain": [
       "str"
      ]
     },
     "execution_count": 5,
     "metadata": {},
     "output_type": "execute_result"
    }
   ],
   "source": [
    "# check if filing date is datetime object\n",
    "type(pct[\"Filing Date\"][0])"
   ]
  },
  {
   "cell_type": "code",
   "execution_count": 23,
   "metadata": {},
   "outputs": [
    {
     "data": {
      "text/plain": [
       "0   2016-10-27\n",
       "1   2007-12-21\n",
       "2   2007-12-21\n",
       "3   1997-03-21\n",
       "4   1994-03-18\n",
       "Name: Filing Date, dtype: datetime64[ns]"
      ]
     },
     "execution_count": 23,
     "metadata": {},
     "output_type": "execute_result"
    }
   ],
   "source": [
    "# convert str to date\n",
    "pct[\"Filing Date\"] = pd.to_datetime(pct[\"Filing Date\"], format=\"%d.%m.%Y\")\n",
    "pct[\"Filing Date\"].head()"
   ]
  },
  {
   "cell_type": "markdown",
   "metadata": {},
   "source": [
    "# Split IPC Data"
   ]
  },
  {
   "cell_type": "code",
   "execution_count": 7,
   "metadata": {},
   "outputs": [
    {
     "data": {
      "text/plain": [
       "PCT            \n",
       "WO2017075268  0     G01N 33/68 (2006.01)\n",
       "WO2008080030  0    G01N 33/53 (2006.01) \n",
       "              1     G01N 33/49 (2006.01)\n",
       "WO1997036902  0    G01N 33/53 (2006.01) \n",
       "              1     G01N 33/49 (2006.01)\n",
       "dtype: object"
      ]
     },
     "execution_count": 7,
     "metadata": {},
     "output_type": "execute_result"
    }
   ],
   "source": [
    "# split IPC codes\n",
    "# insert the splitted codes into multiple rows (with multiple leveled index - use PCT code as index)\n",
    "IPC_data = pd.DataFrame(pct.IPC.str.split(',').tolist(), index=pct.PCT).stack()\n",
    "IPC_data.head()"
   ]
  },
  {
   "cell_type": "code",
   "execution_count": 8,
   "metadata": {},
   "outputs": [
    {
     "data": {
      "text/plain": [
       "1176"
      ]
     },
     "execution_count": 8,
     "metadata": {},
     "output_type": "execute_result"
    }
   ],
   "source": [
    "len(IPC_data)"
   ]
  },
  {
   "cell_type": "code",
   "execution_count": 9,
   "metadata": {},
   "outputs": [
    {
     "data": {
      "text/html": [
       "<div>\n",
       "<style scoped>\n",
       "    .dataframe tbody tr th:only-of-type {\n",
       "        vertical-align: middle;\n",
       "    }\n",
       "\n",
       "    .dataframe tbody tr th {\n",
       "        vertical-align: top;\n",
       "    }\n",
       "\n",
       "    .dataframe thead th {\n",
       "        text-align: right;\n",
       "    }\n",
       "</style>\n",
       "<table border=\"1\" class=\"dataframe\">\n",
       "  <thead>\n",
       "    <tr style=\"text-align: right;\">\n",
       "      <th></th>\n",
       "      <th>PCT</th>\n",
       "      <th>0</th>\n",
       "    </tr>\n",
       "  </thead>\n",
       "  <tbody>\n",
       "    <tr>\n",
       "      <th>0</th>\n",
       "      <td>WO2017075268</td>\n",
       "      <td>G01N 33/68 (2006.01)</td>\n",
       "    </tr>\n",
       "    <tr>\n",
       "      <th>1</th>\n",
       "      <td>WO2008080030</td>\n",
       "      <td>G01N 33/53 (2006.01)</td>\n",
       "    </tr>\n",
       "    <tr>\n",
       "      <th>2</th>\n",
       "      <td>WO2008080030</td>\n",
       "      <td>G01N 33/49 (2006.01)</td>\n",
       "    </tr>\n",
       "    <tr>\n",
       "      <th>3</th>\n",
       "      <td>WO1997036902</td>\n",
       "      <td>G01N 33/53 (2006.01)</td>\n",
       "    </tr>\n",
       "    <tr>\n",
       "      <th>4</th>\n",
       "      <td>WO1997036902</td>\n",
       "      <td>G01N 33/49 (2006.01)</td>\n",
       "    </tr>\n",
       "  </tbody>\n",
       "</table>\n",
       "</div>"
      ],
      "text/plain": [
       "            PCT                      0\n",
       "0  WO2017075268   G01N 33/68 (2006.01)\n",
       "1  WO2008080030  G01N 33/53 (2006.01) \n",
       "2  WO2008080030   G01N 33/49 (2006.01)\n",
       "3  WO1997036902  G01N 33/53 (2006.01) \n",
       "4  WO1997036902   G01N 33/49 (2006.01)"
      ]
     },
     "execution_count": 9,
     "metadata": {},
     "output_type": "execute_result"
    }
   ],
   "source": [
    "#reset_index of the new df, so that PCT code become a column and no duplicated value later\n",
    "IPC_data = IPC_data.reset_index()\n",
    "IPC_data = IPC_data[[\"PCT\",0]]\n",
    "IPC_data.head()"
   ]
  },
  {
   "cell_type": "code",
   "execution_count": 10,
   "metadata": {},
   "outputs": [
    {
     "data": {
      "text/html": [
       "<div>\n",
       "<style scoped>\n",
       "    .dataframe tbody tr th:only-of-type {\n",
       "        vertical-align: middle;\n",
       "    }\n",
       "\n",
       "    .dataframe tbody tr th {\n",
       "        vertical-align: top;\n",
       "    }\n",
       "\n",
       "    .dataframe thead th {\n",
       "        text-align: right;\n",
       "    }\n",
       "</style>\n",
       "<table border=\"1\" class=\"dataframe\">\n",
       "  <thead>\n",
       "    <tr style=\"text-align: right;\">\n",
       "      <th></th>\n",
       "      <th>PCT</th>\n",
       "      <th>IPC</th>\n",
       "    </tr>\n",
       "  </thead>\n",
       "  <tbody>\n",
       "    <tr>\n",
       "      <th>0</th>\n",
       "      <td>WO2017075268</td>\n",
       "      <td>G01N 33/68 (2006.01)</td>\n",
       "    </tr>\n",
       "    <tr>\n",
       "      <th>1</th>\n",
       "      <td>WO2008080030</td>\n",
       "      <td>G01N 33/53 (2006.01)</td>\n",
       "    </tr>\n",
       "    <tr>\n",
       "      <th>2</th>\n",
       "      <td>WO2008080030</td>\n",
       "      <td>G01N 33/49 (2006.01)</td>\n",
       "    </tr>\n",
       "    <tr>\n",
       "      <th>3</th>\n",
       "      <td>WO1997036902</td>\n",
       "      <td>G01N 33/53 (2006.01)</td>\n",
       "    </tr>\n",
       "    <tr>\n",
       "      <th>4</th>\n",
       "      <td>WO1997036902</td>\n",
       "      <td>G01N 33/49 (2006.01)</td>\n",
       "    </tr>\n",
       "  </tbody>\n",
       "</table>\n",
       "</div>"
      ],
      "text/plain": [
       "            PCT                    IPC\n",
       "0  WO2017075268   G01N 33/68 (2006.01)\n",
       "1  WO2008080030  G01N 33/53 (2006.01) \n",
       "2  WO2008080030   G01N 33/49 (2006.01)\n",
       "3  WO1997036902  G01N 33/53 (2006.01) \n",
       "4  WO1997036902   G01N 33/49 (2006.01)"
      ]
     },
     "execution_count": 10,
     "metadata": {},
     "output_type": "execute_result"
    }
   ],
   "source": [
    "# rename the columns\n",
    "IPC_data.columns = [\"PCT\", \"IPC\"]\n",
    "IPC_data.head()"
   ]
  },
  {
   "cell_type": "code",
   "execution_count": 11,
   "metadata": {},
   "outputs": [
    {
     "data": {
      "text/html": [
       "<div>\n",
       "<style scoped>\n",
       "    .dataframe tbody tr th:only-of-type {\n",
       "        vertical-align: middle;\n",
       "    }\n",
       "\n",
       "    .dataframe tbody tr th {\n",
       "        vertical-align: top;\n",
       "    }\n",
       "\n",
       "    .dataframe thead th {\n",
       "        text-align: right;\n",
       "    }\n",
       "</style>\n",
       "<table border=\"1\" class=\"dataframe\">\n",
       "  <thead>\n",
       "    <tr style=\"text-align: right;\">\n",
       "      <th></th>\n",
       "      <th>PCT</th>\n",
       "      <th>IPC</th>\n",
       "      <th>IPC SubClass</th>\n",
       "    </tr>\n",
       "  </thead>\n",
       "  <tbody>\n",
       "    <tr>\n",
       "      <th>0</th>\n",
       "      <td>WO2017075268</td>\n",
       "      <td>G01N 33/68 (2006.01)</td>\n",
       "      <td>G01N</td>\n",
       "    </tr>\n",
       "    <tr>\n",
       "      <th>1</th>\n",
       "      <td>WO2008080030</td>\n",
       "      <td>G01N 33/53 (2006.01)</td>\n",
       "      <td>G01N</td>\n",
       "    </tr>\n",
       "    <tr>\n",
       "      <th>2</th>\n",
       "      <td>WO2008080030</td>\n",
       "      <td>G01N 33/49 (2006.01)</td>\n",
       "      <td>G01N</td>\n",
       "    </tr>\n",
       "    <tr>\n",
       "      <th>3</th>\n",
       "      <td>WO1997036902</td>\n",
       "      <td>G01N 33/53 (2006.01)</td>\n",
       "      <td>G01N</td>\n",
       "    </tr>\n",
       "    <tr>\n",
       "      <th>4</th>\n",
       "      <td>WO1997036902</td>\n",
       "      <td>G01N 33/49 (2006.01)</td>\n",
       "      <td>G01N</td>\n",
       "    </tr>\n",
       "  </tbody>\n",
       "</table>\n",
       "</div>"
      ],
      "text/plain": [
       "            PCT                    IPC IPC SubClass\n",
       "0  WO2017075268   G01N 33/68 (2006.01)         G01N\n",
       "1  WO2008080030  G01N 33/53 (2006.01)          G01N\n",
       "2  WO2008080030   G01N 33/49 (2006.01)         G01N\n",
       "3  WO1997036902  G01N 33/53 (2006.01)          G01N\n",
       "4  WO1997036902   G01N 33/49 (2006.01)         G01N"
      ]
     },
     "execution_count": 11,
     "metadata": {},
     "output_type": "execute_result"
    }
   ],
   "source": [
    "# add IPC subClass\n",
    "IPC_data[\"IPC SubClass\"] = pd.Series([st[:4] for st in IPC_data[\"IPC\"]])\n",
    "IPC_data.head()"
   ]
  },
  {
   "cell_type": "code",
   "execution_count": 12,
   "metadata": {},
   "outputs": [
    {
     "data": {
      "text/plain": [
       "array(['G01N', 'C07D', 'A61K', 'C07C', 'C07K', 'A61M', 'G06F', 'A61P',\n",
       "       'A23L', 'C08G', 'A61F', 'B29C', 'A61B', 'A61L', 'C22C', 'C22F',\n",
       "       'C08J', 'G06T', 'G09B', 'B23K', 'C08L', 'F26B', 'B05D', 'B05B',\n",
       "       'B05C', 'C08H', 'A61N', 'C08F', 'C09D', 'B65B', 'B01J', 'C08K',\n",
       "       'G01G', 'C25F', 'B24C', 'B26F', 'C23C', 'B21D', 'C21D', 'B29B',\n",
       "       'B29L'], dtype=object)"
      ]
     },
     "execution_count": 12,
     "metadata": {},
     "output_type": "execute_result"
    }
   ],
   "source": [
    "IPC_data[\"IPC SubClass\"].unique()"
   ]
  },
  {
   "cell_type": "code",
   "execution_count": 13,
   "metadata": {},
   "outputs": [],
   "source": [
    "# export PCT-IPC data\n",
    "IPC_data.to_csv(\"./Data/Ready for Excel/PCT_IPC.csv\")"
   ]
  },
  {
   "cell_type": "markdown",
   "metadata": {},
   "source": [
    "# Export Clean PCT Data"
   ]
  },
  {
   "cell_type": "code",
   "execution_count": 15,
   "metadata": {},
   "outputs": [
    {
     "data": {
      "text/html": [
       "<div>\n",
       "<style scoped>\n",
       "    .dataframe tbody tr th:only-of-type {\n",
       "        vertical-align: middle;\n",
       "    }\n",
       "\n",
       "    .dataframe tbody tr th {\n",
       "        vertical-align: top;\n",
       "    }\n",
       "\n",
       "    .dataframe thead th {\n",
       "        text-align: right;\n",
       "    }\n",
       "</style>\n",
       "<table border=\"1\" class=\"dataframe\">\n",
       "  <thead>\n",
       "    <tr style=\"text-align: right;\">\n",
       "      <th></th>\n",
       "      <th>PCT</th>\n",
       "      <th>Title</th>\n",
       "      <th>Applicant</th>\n",
       "      <th>Designated to CN</th>\n",
       "      <th>Filing Date</th>\n",
       "      <th>Link</th>\n",
       "    </tr>\n",
       "  </thead>\n",
       "  <tbody>\n",
       "    <tr>\n",
       "      <th>0</th>\n",
       "      <td>WO2017075268</td>\n",
       "      <td>TROPONIN I AND SOLUBLE UROKINASE RECEPTOR DETE...</td>\n",
       "      <td>ABBOTT LABORATORIES</td>\n",
       "      <td>1</td>\n",
       "      <td>2016-10-27</td>\n",
       "      <td>https://patentscope.wipo.int/search/en/detail....</td>\n",
       "    </tr>\n",
       "    <tr>\n",
       "      <th>1</th>\n",
       "      <td>WO2008080030</td>\n",
       "      <td>CARDIOVASCULAR AUTOIMMUNE DISEASE PANEL AND ME...</td>\n",
       "      <td>ABBOTT LABORATORIES</td>\n",
       "      <td>1</td>\n",
       "      <td>2007-12-21</td>\n",
       "      <td>https://patentscope.wipo.int/search/en/detail....</td>\n",
       "    </tr>\n",
       "  </tbody>\n",
       "</table>\n",
       "</div>"
      ],
      "text/plain": [
       "            PCT                                              Title  \\\n",
       "0  WO2017075268  TROPONIN I AND SOLUBLE UROKINASE RECEPTOR DETE...   \n",
       "1  WO2008080030  CARDIOVASCULAR AUTOIMMUNE DISEASE PANEL AND ME...   \n",
       "\n",
       "             Applicant  Designated to CN Filing Date  \\\n",
       "0  ABBOTT LABORATORIES                 1  2016-10-27   \n",
       "1  ABBOTT LABORATORIES                 1  2007-12-21   \n",
       "\n",
       "                                                Link  \n",
       "0  https://patentscope.wipo.int/search/en/detail....  \n",
       "1  https://patentscope.wipo.int/search/en/detail....  "
      ]
     },
     "execution_count": 15,
     "metadata": {},
     "output_type": "execute_result"
    }
   ],
   "source": [
    "columns = [\"PCT\", \"Title\", \"Applicant\", \"Designated to CN\", \"Filing Date\", \"Link\"]\n",
    "new_pct = pct[columns]\n",
    "new_pct.head(2)"
   ]
  },
  {
   "cell_type": "code",
   "execution_count": 16,
   "metadata": {},
   "outputs": [],
   "source": [
    "new_pct.to_csv(\"./Data/Ready for Excel/clean_PCT.csv\")"
   ]
  }
 ],
 "metadata": {
  "kernelspec": {
   "display_name": "stat_notes",
   "language": "python",
   "name": "stat_notes"
  },
  "language_info": {
   "codemirror_mode": {
    "name": "ipython",
    "version": 3
   },
   "file_extension": ".py",
   "mimetype": "text/x-python",
   "name": "python",
   "nbconvert_exporter": "python",
   "pygments_lexer": "ipython3",
   "version": "3.9.12"
  },
  "toc": {
   "base_numbering": 1,
   "nav_menu": {},
   "number_sections": false,
   "sideBar": true,
   "skip_h1_title": false,
   "title_cell": "Table of Contents",
   "title_sidebar": "Contents",
   "toc_cell": false,
   "toc_position": {},
   "toc_section_display": true,
   "toc_window_display": true
  }
 },
 "nbformat": 4,
 "nbformat_minor": 2
}
